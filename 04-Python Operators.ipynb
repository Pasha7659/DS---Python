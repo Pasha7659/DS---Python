{
 "cells": [
  {
   "cell_type": "markdown",
   "id": "dac1535f-86d8-4f23-ad48-5e5273d20d37",
   "metadata": {},
   "source": [
    "## Python Operators"
   ]
  },
  {
   "cell_type": "markdown",
   "id": "a478a82c-b067-47a1-a757-b29b2e6e103a",
   "metadata": {},
   "source": [
    " - Operators are used to perform operations on variables and values.\n",
    " - In the example below, we use the + operator to add together two values:"
   ]
  },
  {
   "cell_type": "code",
   "execution_count": 1,
   "id": "f690886e-83a1-4dff-a3f5-4a408306bd09",
   "metadata": {},
   "outputs": [
    {
     "name": "stdout",
     "output_type": "stream",
     "text": [
      "14\n"
     ]
    }
   ],
   "source": [
    "print(10 + 4)"
   ]
  },
  {
   "cell_type": "markdown",
   "id": "27e4cf54-74b9-4397-8780-503884d5249d",
   "metadata": {},
   "source": [
    "Python divides the operators in the following groups:\n",
    "\n",
    " - Arithmetic operators\n",
    " - Assignment operators\n",
    " - Comparison operators\n",
    " - Logical operators\n",
    " - Identity operators\n",
    " - Membership operators\n",
    " - Bitwise operators"
   ]
  },
  {
   "cell_type": "markdown",
   "id": "dca8c421-9f5a-49e6-ad25-379eddc7a8db",
   "metadata": {},
   "source": [
    "### Python Arithmetic Operators"
   ]
  },
  {
   "cell_type": "markdown",
   "id": "8a433fa7-0d98-4b0b-93cb-5b58c430d962",
   "metadata": {},
   "source": [
    "Arithmetic operators are used with numeric values to perform common mathematical operations:"
   ]
  },
  {
   "cell_type": "markdown",
   "id": "c7f24dc8-0a45-47e4-9c7d-430e3a6adf81",
   "metadata": {},
   "source": [
    " | Operators     |        Name                          |        Description               |                  Syntax  |\n",
    " |---------------|--------------------------------------|----------------------------------|---------------------------|\n",
    " |    +          | Addition Operator\t                | Addition: adds two operands      |                  a + b    |\n",
    " |   -\t         |  Subtraction Operator\t            |   Subtraction: subtracts two operands |                 a - b|\n",
    " |   *           |Multiplication Operator             | Multiplication: multiplies two operands  |              a * b |\n",
    " | /           | Division Operator                  |   Division (float): divides the first operand by the second         |          a / b |                                                          \n",
    " | %             |  Modulus Operator                |  Modulus: returns the remainder when the first operand is divided by the second|   a % b |\n",
    " |  //\t      | Floor Division Operator             |    Division (floor): divides the first operand by the second    |          a // b |                                                        \n",
    "| **          | Exponentiation Operator           | Power (Exponent): Returns first raised to power second |      a ** b  |\n",
    "                                                              \n",
    "\n",
    "    "
   ]
  },
  {
   "cell_type": "markdown",
   "id": "68b2eac4-72a4-4fd9-9954-84d318b7736e",
   "metadata": {},
   "source": [
    "#### Addition"
   ]
  },
  {
   "cell_type": "code",
   "execution_count": 133,
   "id": "8fec9c7e-8cce-4be8-b0b8-beaf310932b3",
   "metadata": {},
   "outputs": [
    {
     "name": "stdout",
     "output_type": "stream",
     "text": [
      "79\n"
     ]
    }
   ],
   "source": [
    "# Addition\n",
    "#1.\n",
    "a = 34\n",
    "b = 45\n",
    "c = a + b\n",
    "print(c)"
   ]
  },
  {
   "cell_type": "code",
   "execution_count": 12,
   "id": "524751c3-febf-4052-9e46-7454c1760f21",
   "metadata": {},
   "outputs": [
    {
     "name": "stdout",
     "output_type": "stream",
     "text": [
      "1111\n"
     ]
    }
   ],
   "source": [
    "#2.\n",
    "a = 648\n",
    "b = 463\n",
    "c = a + b\n",
    "print(c)"
   ]
  },
  {
   "cell_type": "code",
   "execution_count": 13,
   "id": "f350af4c-aa70-4f62-856f-f8fc2193fee0",
   "metadata": {},
   "outputs": [
    {
     "name": "stdout",
     "output_type": "stream",
     "text": [
      "9206\n"
     ]
    }
   ],
   "source": [
    "#3.\n",
    "a = 4533\n",
    "b = 4673\n",
    "c = a + b\n",
    "print(c)"
   ]
  },
  {
   "cell_type": "code",
   "execution_count": 14,
   "id": "2ea15860-4fb6-427a-a048-a27ee94b31b7",
   "metadata": {},
   "outputs": [
    {
     "name": "stdout",
     "output_type": "stream",
     "text": [
      "144063\n"
     ]
    }
   ],
   "source": [
    "#4.\n",
    "a = 45328\n",
    "b = 98735\n",
    "c = a + b\n",
    "print(c)"
   ]
  },
  {
   "cell_type": "code",
   "execution_count": 15,
   "id": "2e202796-213a-484f-9ac9-c2b0fc3e5efb",
   "metadata": {},
   "outputs": [
    {
     "name": "stdout",
     "output_type": "stream",
     "text": [
      "20627\n"
     ]
    }
   ],
   "source": [
    "#5.\n",
    "a = 7114\n",
    "b = 5152\n",
    "c = 8361\n",
    "d = a + b + c\n",
    "print(d)"
   ]
  },
  {
   "cell_type": "markdown",
   "id": "dae411f8-284d-4c45-b6a4-2a3c29f49aee",
   "metadata": {},
   "source": [
    "#### Subtraction "
   ]
  },
  {
   "cell_type": "code",
   "execution_count": 16,
   "id": "b57a4816-3916-4362-b038-bb9632d58a4c",
   "metadata": {},
   "outputs": [
    {
     "name": "stdout",
     "output_type": "stream",
     "text": [
      "6313\n"
     ]
    }
   ],
   "source": [
    "# Subtraction\n",
    "#1.\n",
    "a = 9875\n",
    "b = 3562\n",
    "c = a - b\n",
    "print(c)"
   ]
  },
  {
   "cell_type": "code",
   "execution_count": 17,
   "id": "164bb046-7c93-4375-b3fc-88d984fdcf33",
   "metadata": {},
   "outputs": [
    {
     "name": "stdout",
     "output_type": "stream",
     "text": [
      "1962\n"
     ]
    }
   ],
   "source": [
    "#2.\n",
    "a = 7114\n",
    "b = 5152\n",
    "c = a - b\n",
    "print(c)"
   ]
  },
  {
   "cell_type": "code",
   "execution_count": 18,
   "id": "16aaf9c3-91df-459e-89bf-33fcc635763d",
   "metadata": {},
   "outputs": [
    {
     "name": "stdout",
     "output_type": "stream",
     "text": [
      "-74374\n"
     ]
    }
   ],
   "source": [
    "#3.\n",
    "a = 24162\n",
    "b = 98536\n",
    "c = a - b\n",
    "print(c)\n"
   ]
  },
  {
   "cell_type": "code",
   "execution_count": 19,
   "id": "57d981f8-644c-4dd0-af44-32b5ef1f18a8",
   "metadata": {},
   "outputs": [
    {
     "name": "stdout",
     "output_type": "stream",
     "text": [
      "83195\n"
     ]
    }
   ],
   "source": [
    "#4.\n",
    "a = 98468\n",
    "b = 15273\n",
    "c = a - b\n",
    "print(c)"
   ]
  },
  {
   "cell_type": "code",
   "execution_count": 20,
   "id": "83bf5dd1-f4e2-4093-8a82-2293412b4ad2",
   "metadata": {},
   "outputs": [
    {
     "name": "stdout",
     "output_type": "stream",
     "text": [
      "97388\n"
     ]
    }
   ],
   "source": [
    "#5.\n",
    "a = 46738\n",
    "b = 77378\n",
    "c = 97388\n",
    "d = a - b - c\n",
    "print(c)"
   ]
  },
  {
   "cell_type": "markdown",
   "id": "6c8a81f0-a270-41ba-a9b7-d0f931c18881",
   "metadata": {},
   "source": [
    "#### Multiplication"
   ]
  },
  {
   "cell_type": "code",
   "execution_count": 21,
   "id": "191e0baf-e64d-48a8-b028-e3553638e573",
   "metadata": {},
   "outputs": [
    {
     "name": "stdout",
     "output_type": "stream",
     "text": [
      "399912\n"
     ]
    }
   ],
   "source": [
    "#1.\n",
    "a = 456\n",
    "b = 877\n",
    "c = a * b\n",
    "print(c)"
   ]
  },
  {
   "cell_type": "code",
   "execution_count": 22,
   "id": "ce5d4c65-8873-4c5b-ba49-45bee88ad67b",
   "metadata": {},
   "outputs": [
    {
     "name": "stdout",
     "output_type": "stream",
     "text": [
      "198176\n"
     ]
    }
   ],
   "source": [
    "#2.\n",
    "a = 563\n",
    "b = 352\n",
    "c = a * b\n",
    "print(c)"
   ]
  },
  {
   "cell_type": "code",
   "execution_count": 24,
   "id": "89f73ccd-7846-4768-9c32-761814854ffe",
   "metadata": {},
   "outputs": [
    {
     "name": "stdout",
     "output_type": "stream",
     "text": [
      "22187896\n"
     ]
    }
   ],
   "source": [
    "#3. \n",
    "a = 4636\n",
    "b = 4786\n",
    "c = a * b\n",
    "print(c)"
   ]
  },
  {
   "cell_type": "code",
   "execution_count": 25,
   "id": "9e5e9ac5-0392-4e23-b237-a96f28deb296",
   "metadata": {},
   "outputs": [
    {
     "name": "stdout",
     "output_type": "stream",
     "text": [
      "897045754\n"
     ]
    }
   ],
   "source": [
    "#4.\n",
    "a = 9886\n",
    "b = 90739\n",
    "c = a * b\n",
    "print(c)"
   ]
  },
  {
   "cell_type": "code",
   "execution_count": 26,
   "id": "184a5e70-6b4f-4812-ad04-b5c081d5101e",
   "metadata": {},
   "outputs": [
    {
     "name": "stdout",
     "output_type": "stream",
     "text": [
      "1918218842\n"
     ]
    }
   ],
   "source": [
    "#5.\n",
    "a = 56789\n",
    "b = 33778\n",
    "c = a * b\n",
    "print(c)"
   ]
  },
  {
   "cell_type": "markdown",
   "id": "76c8cbbf-f545-4c5d-b209-66dda962cba6",
   "metadata": {},
   "source": [
    "#### Division"
   ]
  },
  {
   "cell_type": "code",
   "execution_count": 39,
   "id": "51369781-b106-40b6-943b-f6ecfc1ac278",
   "metadata": {},
   "outputs": [
    {
     "name": "stdout",
     "output_type": "stream",
     "text": [
      "11.471895424836601\n"
     ]
    }
   ],
   "source": [
    "#1.(It Returns Quotient)\n",
    "a = 8776\n",
    "b = 765\n",
    "c = a / b\n",
    "print(c)"
   ]
  },
  {
   "cell_type": "code",
   "execution_count": 29,
   "id": "d95673d1-821e-4365-924b-a2a94a16cb6c",
   "metadata": {},
   "outputs": [
    {
     "name": "stdout",
     "output_type": "stream",
     "text": [
      "53.2351598173516\n"
     ]
    }
   ],
   "source": [
    "#2.\n",
    "a = 46634\n",
    "b = 876\n",
    "c = a / b\n",
    "print(c)"
   ]
  },
  {
   "cell_type": "code",
   "execution_count": 42,
   "id": "7f62d55b-fa09-4733-b825-4f410b803dff",
   "metadata": {},
   "outputs": [
    {
     "name": "stdout",
     "output_type": "stream",
     "text": [
      "1.6027785653529911\n"
     ]
    }
   ],
   "source": [
    "#3.\n",
    "a = 5653\n",
    "b = 3527\n",
    "c = a / b\n",
    "print(c)"
   ]
  },
  {
   "cell_type": "code",
   "execution_count": 31,
   "id": "1493e472-f2c6-48ee-a354-02d0d306f999",
   "metadata": {},
   "outputs": [
    {
     "name": "stdout",
     "output_type": "stream",
     "text": [
      "95.71636289166496\n"
     ]
    }
   ],
   "source": [
    "#4.\n",
    "a = 467383\n",
    "b = 4883\n",
    "c = a / b\n",
    "print(c)"
   ]
  },
  {
   "cell_type": "code",
   "execution_count": 32,
   "id": "6dfc70b7-f764-48f5-aa4c-01ace6e6a0ee",
   "metadata": {},
   "outputs": [
    {
     "name": "stdout",
     "output_type": "stream",
     "text": [
      "0.7873915802834779\n"
     ]
    }
   ],
   "source": [
    "#5.\n",
    "a = 3722\n",
    "b = 4727\n",
    "c = a / b\n",
    "print(c)"
   ]
  },
  {
   "cell_type": "markdown",
   "id": "6a6f2130-cbce-4276-b384-c1d697390660",
   "metadata": {},
   "source": [
    "#### Modulus"
   ]
  },
  {
   "cell_type": "code",
   "execution_count": 38,
   "id": "32912057-6123-4b49-b2f5-fcba4f44d0e3",
   "metadata": {},
   "outputs": [
    {
     "name": "stdout",
     "output_type": "stream",
     "text": [
      "105\n"
     ]
    }
   ],
   "source": [
    "#1.(It Returns Remainder)\n",
    "a = 474\n",
    "b = 123\n",
    "c = a % b\n",
    "print(c)"
   ]
  },
  {
   "cell_type": "code",
   "execution_count": 34,
   "id": "44eeafe9-3f4b-4e97-895d-53481d93da56",
   "metadata": {},
   "outputs": [
    {
     "name": "stdout",
     "output_type": "stream",
     "text": [
      "23\n"
     ]
    }
   ],
   "source": [
    "#2.\n",
    "a = 9866\n",
    "b = 193\n",
    "c = a % b\n",
    "print(c)"
   ]
  },
  {
   "cell_type": "code",
   "execution_count": 35,
   "id": "217c8c5d-9c29-49fa-8fb3-a579f9b634ad",
   "metadata": {},
   "outputs": [
    {
     "name": "stdout",
     "output_type": "stream",
     "text": [
      "1875\n"
     ]
    }
   ],
   "source": [
    "#3.\n",
    "a = 74883\n",
    "b = 4563\n",
    "c = a % b\n",
    "print(c)"
   ]
  },
  {
   "cell_type": "code",
   "execution_count": 36,
   "id": "d308a118-34c0-4a64-839a-f02a2fc6d995",
   "metadata": {},
   "outputs": [
    {
     "name": "stdout",
     "output_type": "stream",
     "text": [
      "429\n"
     ]
    }
   ],
   "source": [
    "#4.\n",
    "a = 58473\n",
    "b = 4837\n",
    "c = a % b\n",
    "print(c)"
   ]
  },
  {
   "cell_type": "code",
   "execution_count": 37,
   "id": "c5c86dc7-30fc-41db-9f9a-6a4da74193e7",
   "metadata": {},
   "outputs": [
    {
     "name": "stdout",
     "output_type": "stream",
     "text": [
      "1474\n"
     ]
    }
   ],
   "source": [
    "#5.\n",
    "a = 47338\n",
    "b = 3822\n",
    "c = a % b\n",
    "print(c)"
   ]
  },
  {
   "cell_type": "markdown",
   "id": "aba3905f-7237-457a-8b11-d444453b6975",
   "metadata": {},
   "source": [
    "#### Floor Division"
   ]
  },
  {
   "cell_type": "code",
   "execution_count": 190,
   "id": "628a1859-d31f-49d0-a3ac-42c1405fa614",
   "metadata": {},
   "outputs": [
    {
     "name": "stdout",
     "output_type": "stream",
     "text": [
      "11\n"
     ]
    }
   ],
   "source": [
    "#1.remoe the decimal points on quotient\n",
    "a = 8776\n",
    "b = 765\n",
    "c = a // b\n",
    "print(c)"
   ]
  },
  {
   "cell_type": "code",
   "execution_count": 41,
   "id": "69f56c68-afeb-4e02-a881-aa9ddfa51dc6",
   "metadata": {},
   "outputs": [
    {
     "name": "stdout",
     "output_type": "stream",
     "text": [
      "1\n"
     ]
    }
   ],
   "source": [
    "#2.\n",
    "a = 563\n",
    "b = 352\n",
    "c = a // b\n",
    "print(c)"
   ]
  },
  {
   "cell_type": "code",
   "execution_count": 43,
   "id": "bbaebccf-77c2-438d-a844-bab287c927cb",
   "metadata": {},
   "outputs": [
    {
     "name": "stdout",
     "output_type": "stream",
     "text": [
      "1\n"
     ]
    }
   ],
   "source": [
    "#3.\n",
    "a = 5653\n",
    "b = 3527\n",
    "c = a // b\n",
    "print(c)"
   ]
  },
  {
   "cell_type": "code",
   "execution_count": 44,
   "id": "1c8d0e3e-fd05-4a74-a693-5489d70d0c44",
   "metadata": {},
   "outputs": [
    {
     "name": "stdout",
     "output_type": "stream",
     "text": [
      "95\n"
     ]
    }
   ],
   "source": [
    "#4.\n",
    "a = 467383\n",
    "b = 4883\n",
    "c = a // b\n",
    "print(c)"
   ]
  },
  {
   "cell_type": "code",
   "execution_count": 45,
   "id": "eeab538e-544b-45d5-b46e-e7ae4fbea991",
   "metadata": {},
   "outputs": [
    {
     "name": "stdout",
     "output_type": "stream",
     "text": [
      "0\n"
     ]
    }
   ],
   "source": [
    "#5.\n",
    "a = 3722\n",
    "b = 4727\n",
    "c = a // b\n",
    "print(c)"
   ]
  },
  {
   "cell_type": "markdown",
   "id": "7470336c-02b9-4689-801e-6daa23b2a7f9",
   "metadata": {},
   "source": [
    "### Python Assignment Operators"
   ]
  },
  {
   "cell_type": "markdown",
   "id": "3f682b3f-a6fd-46aa-8c7c-a7876ee02527",
   "metadata": {},
   "source": [
    "Assignment operators are used to assign values to variables:"
   ]
  },
  {
   "cell_type": "markdown",
   "id": "a8a9ef31-3a65-4759-a1bf-56e9fb2d9d8a",
   "metadata": {},
   "source": [
    "| Operators       |         Name           |                  Description                    |                           Syntax  |\n",
    "|-----------------|------------------------|-------------------------------------------------|-----------------------------------|\n",
    "|    =\t          |  Assignment Operator\t| Assign the value of the right side of the expression to the left side operand|      c = a + b |\n",
    "| +=\t       | Addition Assignment Operator\t |   Add right side operand with left side operand and  then assign the result to left operand | a += b|\n",
    "| -=   | Subtraction Assignment Operator |Subtract right side operand from left side operand and then assign the result to left operand|   a -= b |\n",
    "| *= |   Multiplication Assignment Operator | Multiply right operand with left operand and then assign the result to the left operand|   a *= b |        |/=|\t       Division Assignment Operator\t|   Divide left operand with right operand and then assign the result to the left operand |  a /= b |\n",
    "|  %= |Modulus Assignment Operator  |    Divides the left operand with the right operand and then assign the remainder to the left operand |  a %= b\n",
    " | **=|   Exponentation Assignment Operator| Calculate exponent(raise power) value using operands and  then assign the result to left operand | a **= b|\n"
   ]
  },
  {
   "cell_type": "markdown",
   "id": "10d729b4-bac7-449a-b829-6f795fd8840f",
   "metadata": {},
   "source": [
    "#### Assignment Operator"
   ]
  },
  {
   "cell_type": "code",
   "execution_count": 59,
   "id": "554c0b82-bcea-4889-a458-9ef0fc4c735a",
   "metadata": {},
   "outputs": [
    {
     "name": "stdout",
     "output_type": "stream",
     "text": [
      "8\n"
     ]
    }
   ],
   "source": [
    "#1.\n",
    "a = 3\n",
    "b = 5\n",
    "c = a + b \n",
    "print(c)"
   ]
  },
  {
   "cell_type": "code",
   "execution_count": 60,
   "id": "4ce95b34-a627-4eff-9f1c-da26d53b7a35",
   "metadata": {},
   "outputs": [
    {
     "name": "stdout",
     "output_type": "stream",
     "text": [
      "-200\n"
     ]
    }
   ],
   "source": [
    "#2.\n",
    "a = 337\n",
    "b = 537\n",
    "c = a - b \n",
    "print(c)"
   ]
  },
  {
   "cell_type": "code",
   "execution_count": 61,
   "id": "6e4e5c5c-bcf0-4958-b023-1274a86ff333",
   "metadata": {},
   "outputs": [
    {
     "name": "stdout",
     "output_type": "stream",
     "text": [
      "49868546\n"
     ]
    }
   ],
   "source": [
    "#3.\n",
    "a = 93562\n",
    "b = 533\n",
    "c = a * b \n",
    "print(c)"
   ]
  },
  {
   "cell_type": "code",
   "execution_count": 62,
   "id": "afafd5d0-5b7b-40ac-b3c3-243b586fbf14",
   "metadata": {},
   "outputs": [
    {
     "name": "stdout",
     "output_type": "stream",
     "text": [
      "6.1980310488451344\n"
     ]
    }
   ],
   "source": [
    "#4.\n",
    "a = 32738\n",
    "b = 5282\n",
    "c = a / b \n",
    "print(c)"
   ]
  },
  {
   "cell_type": "code",
   "execution_count": 63,
   "id": "72319202-eaeb-489a-8c7b-5b7d82a027a0",
   "metadata": {},
   "outputs": [
    {
     "name": "stdout",
     "output_type": "stream",
     "text": [
      "243\n"
     ]
    }
   ],
   "source": [
    "#5.\n",
    "a = 3\n",
    "b = 5\n",
    "c = a ** b \n",
    "print(c)"
   ]
  },
  {
   "cell_type": "markdown",
   "id": "0c616c24-da77-48b4-89bd-ec3440f1594f",
   "metadata": {},
   "source": [
    "#### Addition Assignment Operator "
   ]
  },
  {
   "cell_type": "code",
   "execution_count": 47,
   "id": "f754d9ff-57c3-4450-8aec-90ab21400b57",
   "metadata": {},
   "outputs": [
    {
     "name": "stdout",
     "output_type": "stream",
     "text": [
      "8\n"
     ]
    }
   ],
   "source": [
    "#1.\n",
    "a = 3\n",
    "b = 5\n",
    "a += b\n",
    "print(a)"
   ]
  },
  {
   "cell_type": "code",
   "execution_count": 49,
   "id": "1006df75-cc5b-4c37-a3fc-ed848af17cfa",
   "metadata": {},
   "outputs": [
    {
     "name": "stdout",
     "output_type": "stream",
     "text": [
      "147\n"
     ]
    }
   ],
   "source": [
    "#2.\n",
    "a = 67\n",
    "b = 80\n",
    "a += b\n",
    "print(a)"
   ]
  },
  {
   "cell_type": "code",
   "execution_count": 50,
   "id": "2a990c33-dfdf-4946-bcd7-afaa1bfe24df",
   "metadata": {},
   "outputs": [
    {
     "name": "stdout",
     "output_type": "stream",
     "text": [
      "63404\n"
     ]
    }
   ],
   "source": [
    "#3.\n",
    "a = 9842\n",
    "b = 53562\n",
    "a += b\n",
    "print(a)"
   ]
  },
  {
   "cell_type": "code",
   "execution_count": 51,
   "id": "1da32296-7ebc-4cd8-a942-84af41314642",
   "metadata": {},
   "outputs": [
    {
     "name": "stdout",
     "output_type": "stream",
     "text": [
      "6454\n"
     ]
    }
   ],
   "source": [
    "#4.\n",
    "a = 2562\n",
    "b = 3892\n",
    "a += b\n",
    "print(a)"
   ]
  },
  {
   "cell_type": "code",
   "execution_count": 52,
   "id": "f99a3e0d-2dff-4fd5-8096-63bf08caf024",
   "metadata": {},
   "outputs": [
    {
     "name": "stdout",
     "output_type": "stream",
     "text": [
      "927691\n"
     ]
    }
   ],
   "source": [
    "#5.\n",
    "a = 390963\n",
    "b = 536728\n",
    "a += b\n",
    "print(a)"
   ]
  },
  {
   "cell_type": "markdown",
   "id": "54382fee-e771-434c-a2b8-498e5e8c094b",
   "metadata": {},
   "source": [
    "#### Subtraction Assignment Operator"
   ]
  },
  {
   "cell_type": "code",
   "execution_count": 54,
   "id": "1981fce3-c65d-4599-aa98-9729347e1ef9",
   "metadata": {},
   "outputs": [
    {
     "name": "stdout",
     "output_type": "stream",
     "text": [
      "-2\n"
     ]
    }
   ],
   "source": [
    "#1.\n",
    "a = 3\n",
    "b = 5\n",
    "a -= b\n",
    "print(a)"
   ]
  },
  {
   "cell_type": "code",
   "execution_count": 55,
   "id": "9f7a5bae-0318-45ac-b292-9a7b61fd28be",
   "metadata": {},
   "outputs": [
    {
     "name": "stdout",
     "output_type": "stream",
     "text": [
      "91379\n"
     ]
    }
   ],
   "source": [
    "#2.\n",
    "a = 96746\n",
    "b = 5367\n",
    "a -= b\n",
    "print(a)"
   ]
  },
  {
   "cell_type": "code",
   "execution_count": 56,
   "id": "7a12b30f-7b18-4f3f-a83e-e5fb36b0b033",
   "metadata": {},
   "outputs": [
    {
     "name": "stdout",
     "output_type": "stream",
     "text": [
      "16960\n"
     ]
    }
   ],
   "source": [
    "#3.\n",
    "a = 46433\n",
    "b = 29473\n",
    "a -= b\n",
    "print(a)"
   ]
  },
  {
   "cell_type": "code",
   "execution_count": 57,
   "id": "d4d33b0f-796c-43a1-9240-a3b7561dcaaf",
   "metadata": {},
   "outputs": [
    {
     "name": "stdout",
     "output_type": "stream",
     "text": [
      "-20005\n"
     ]
    }
   ],
   "source": [
    "#4.\n",
    "a = 33672\n",
    "b = 53677\n",
    "a -= b\n",
    "print(a)"
   ]
  },
  {
   "cell_type": "code",
   "execution_count": 58,
   "id": "59def95e-51e7-4d82-a66f-ba3bc81de3f2",
   "metadata": {},
   "outputs": [
    {
     "name": "stdout",
     "output_type": "stream",
     "text": [
      "-44382\n"
     ]
    }
   ],
   "source": [
    "#5.\n",
    "a = 12000\n",
    "b = 56382\n",
    "a -= b\n",
    "print(a)"
   ]
  },
  {
   "cell_type": "markdown",
   "id": "b0376bbd-4c60-4540-8a1e-b0558526530d",
   "metadata": {},
   "source": [
    "#### Multiplication Assignment Operator"
   ]
  },
  {
   "cell_type": "code",
   "execution_count": 83,
   "id": "ea149608-182a-41e5-a48d-67647700da9f",
   "metadata": {},
   "outputs": [
    {
     "name": "stdout",
     "output_type": "stream",
     "text": [
      "15\n"
     ]
    }
   ],
   "source": [
    "#1.\n",
    "a = 3\n",
    "b = 5\n",
    "a *= b \n",
    "print(a)"
   ]
  },
  {
   "cell_type": "code",
   "execution_count": 84,
   "id": "642792fa-c01d-4774-99c7-8483943c346d",
   "metadata": {},
   "outputs": [
    {
     "name": "stdout",
     "output_type": "stream",
     "text": [
      "1801224\n"
     ]
    }
   ],
   "source": [
    "#2.\n",
    "a = 3348\n",
    "b = 538\n",
    "a *= b \n",
    "print(a)"
   ]
  },
  {
   "cell_type": "code",
   "execution_count": 85,
   "id": "70ca4c25-6ea3-4ea1-8e4d-7267a758f53c",
   "metadata": {},
   "outputs": [
    {
     "name": "stdout",
     "output_type": "stream",
     "text": [
      "21132009\n"
     ]
    }
   ],
   "source": [
    "#3.\n",
    "a = 3933\n",
    "b = 5373\n",
    "a *= b \n",
    "print(a)"
   ]
  },
  {
   "cell_type": "code",
   "execution_count": 86,
   "id": "eb763d4f-4d9e-41dd-a050-1ba324ed21ab",
   "metadata": {},
   "outputs": [
    {
     "name": "stdout",
     "output_type": "stream",
     "text": [
      "32694726\n"
     ]
    }
   ],
   "source": [
    "#4.\n",
    "a = 9283\n",
    "b = 3522\n",
    "a *= b\n",
    "print(a)"
   ]
  },
  {
   "cell_type": "code",
   "execution_count": 87,
   "id": "baf3901c-0ffa-4e76-b509-931a1e075cae",
   "metadata": {},
   "outputs": [
    {
     "name": "stdout",
     "output_type": "stream",
     "text": [
      "486527774\n"
     ]
    }
   ],
   "source": [
    "#5.\n",
    "a = 92902\n",
    "b = 5237\n",
    "a *= b \n",
    "print(a)"
   ]
  },
  {
   "cell_type": "markdown",
   "id": "966a301b-6f5f-4790-b083-d9af94548b4f",
   "metadata": {},
   "source": [
    "#### Division Assignment Operator"
   ]
  },
  {
   "cell_type": "code",
   "execution_count": 71,
   "id": "2d2be6d0-d9f3-49fb-bbeb-33ec54969ca3",
   "metadata": {},
   "outputs": [
    {
     "name": "stdout",
     "output_type": "stream",
     "text": [
      "0.6\n"
     ]
    }
   ],
   "source": [
    "#1.\n",
    "a = 3\n",
    "b = 5\n",
    "a /= b\n",
    "print(a)"
   ]
  },
  {
   "cell_type": "code",
   "execution_count": 72,
   "id": "3f1794f0-36f4-41dd-84fe-3f6517a98aa4",
   "metadata": {},
   "outputs": [
    {
     "name": "stdout",
     "output_type": "stream",
     "text": [
      "7.0392704262051\n"
     ]
    }
   ],
   "source": [
    "#2.\n",
    "a = 37822\n",
    "b = 5373\n",
    "a /= b\n",
    "print(a)"
   ]
  },
  {
   "cell_type": "code",
   "execution_count": 73,
   "id": "0af42250-2a22-494c-ba6f-a0ef876da3b3",
   "metadata": {},
   "outputs": [
    {
     "name": "stdout",
     "output_type": "stream",
     "text": [
      "0.506845752289658\n"
     ]
    }
   ],
   "source": [
    "#3.\n",
    "a = 27283\n",
    "b = 53829\n",
    "a /= b\n",
    "print(a)"
   ]
  },
  {
   "cell_type": "code",
   "execution_count": 74,
   "id": "b630801d-50cd-4a47-a2eb-486f90d858a1",
   "metadata": {},
   "outputs": [
    {
     "name": "stdout",
     "output_type": "stream",
     "text": [
      "1.7261727475800446\n"
     ]
    }
   ],
   "source": [
    "#4.\n",
    "a = 9273\n",
    "b = 5372\n",
    "a /= b\n",
    "print(a)"
   ]
  },
  {
   "cell_type": "code",
   "execution_count": 75,
   "id": "584feb3d-e30b-4344-932d-93f7121a564f",
   "metadata": {},
   "outputs": [
    {
     "name": "stdout",
     "output_type": "stream",
     "text": [
      "0.6971908062750821\n"
     ]
    }
   ],
   "source": [
    "#5.\n",
    "a = 3822\n",
    "b = 5482\n",
    "a /= b\n",
    "print(a)"
   ]
  },
  {
   "cell_type": "markdown",
   "id": "622f02f7-efea-41b3-aa53-174c64f8d751",
   "metadata": {},
   "source": [
    "#### Modulus Assignment Operator"
   ]
  },
  {
   "cell_type": "code",
   "execution_count": 76,
   "id": "5cea0325-cd70-4da4-8faf-6b3e9f4beb35",
   "metadata": {},
   "outputs": [
    {
     "name": "stdout",
     "output_type": "stream",
     "text": [
      "3\n"
     ]
    }
   ],
   "source": [
    "#1.\n",
    "a = 3\n",
    "b = 5\n",
    "a %= b\n",
    "print(a)"
   ]
  },
  {
   "cell_type": "code",
   "execution_count": 77,
   "id": "fbaa571f-ae08-42ab-a6a9-dbfb1bc0678f",
   "metadata": {},
   "outputs": [
    {
     "name": "stdout",
     "output_type": "stream",
     "text": [
      "137\n"
     ]
    }
   ],
   "source": [
    "#2.\n",
    "a = 2822\n",
    "b = 537\n",
    "a %= b\n",
    "print(a)"
   ]
  },
  {
   "cell_type": "code",
   "execution_count": 88,
   "id": "5f6f3e77-ca8c-41b5-a5c7-29254be1e7a7",
   "metadata": {},
   "outputs": [
    {
     "name": "stdout",
     "output_type": "stream",
     "text": [
      "1920\n"
     ]
    }
   ],
   "source": [
    "#3.\n",
    "a= 9374\n",
    "b = 3727\n",
    "a %= b\n",
    "print(a)"
   ]
  },
  {
   "cell_type": "code",
   "execution_count": 89,
   "id": "be29f3e8-f5e7-4542-98db-eb04f310b964",
   "metadata": {},
   "outputs": [
    {
     "name": "stdout",
     "output_type": "stream",
     "text": [
      "1127\n"
     ]
    }
   ],
   "source": [
    "#4.\n",
    "a = 38738\n",
    "b = 5373\n",
    "a %= b\n",
    "print(a)"
   ]
  },
  {
   "cell_type": "code",
   "execution_count": 90,
   "id": "c414a2f0-3177-48b8-a7ab-2e68e5f20621",
   "metadata": {},
   "outputs": [
    {
     "name": "stdout",
     "output_type": "stream",
     "text": [
      "36738\n"
     ]
    }
   ],
   "source": [
    "#5.\n",
    "a = 36738\n",
    "b = 38292\n",
    "a %= b\n",
    "print(a)"
   ]
  },
  {
   "cell_type": "markdown",
   "id": "28f774db-c039-4169-a7ea-8eb4b5909778",
   "metadata": {},
   "source": [
    "#### Exponentiation Assignment Operator"
   ]
  },
  {
   "cell_type": "code",
   "execution_count": 96,
   "id": "4157d207-11de-4e15-bd68-4b189268b9e5",
   "metadata": {},
   "outputs": [
    {
     "name": "stdout",
     "output_type": "stream",
     "text": [
      "243\n"
     ]
    }
   ],
   "source": [
    "#1.\n",
    "a = 3\n",
    "b = 5\n",
    "a **= b\n",
    "print(a)"
   ]
  },
  {
   "cell_type": "code",
   "execution_count": 92,
   "id": "854d8639-db3f-489e-ba2e-8c5020652c02",
   "metadata": {},
   "outputs": [
    {
     "name": "stdout",
     "output_type": "stream",
     "text": [
      "3870210234510307998744588107535211184800325224934979257430349324033792477926791547\n"
     ]
    }
   ],
   "source": [
    "#2.\n",
    "a = 27\n",
    "b = 57\n",
    "a **= b\n",
    "print(a)"
   ]
  },
  {
   "cell_type": "code",
   "execution_count": 93,
   "id": "319fe61e-cf3f-4f08-bef7-ff4030b7013d",
   "metadata": {},
   "outputs": [
    {
     "name": "stdout",
     "output_type": "stream",
     "text": [
      "443513985278282536833905082375255995479832070823076463484760253227640895825686841619082134466314000174919808530811000827216418012762378736629726192002353576847859398560117180990389284438145763019173970743224478463921803952071424969251738597159974680920020800247935107779693467586725763309982974752293802108498054443742264078662979299016204072561539685612561699715281689885244486428418829957941235394723570518501442375566204244515997880326680220636351675619929820561973659382959192821178022031290804750979939728215271804720428542329795239261869668875978226322624043658232190887873503441742843996208924305782895297306081111997100458865748631797009588579005335846959894013181447443056384811433148199950729838820766715251703440888829496884934329688624574303564075380893271102760809645286451863335948455282887996963126705274589250545891512107376514300699532761745604967719390950030626653999354325071723473578758232049123686600401199398159833253228687371906554991500532990745151244906086927881999076255283652164078693722983659512015312379488002044779304782671688803532273879273027279830209619736777886408198857530961448632394365688963217022007066670496704324078149848235237053704458585220308129840718439288147492899704063824638561610234671980482771053825046060283828535677364451390805148048348630895581850568457174713325045961510025284606501198284539882904900069334159183649098292599937630893166095636225769637929406518894402427708575027585093841339549999535815861835922165743407892592891828255482677156268308238100757910716610311896435092648971476592123508453369140625\n"
     ]
    }
   ],
   "source": [
    "#3.\n",
    "a = 935\n",
    "b = 526\n",
    "a **= b\n",
    "print(a)"
   ]
  },
  {
   "cell_type": "code",
   "execution_count": 94,
   "id": "2494f511-9807-43c3-ab5f-470ae52198b2",
   "metadata": {},
   "outputs": [
    {
     "name": "stdout",
     "output_type": "stream",
     "text": [
      "5148396096422391593693210985222689424575005282213296071655104164476572739631099228161281473378140200867014462091313754559770129599777987619078360817109726631408021465198022633853290201484467517254546983876930815720308649330475055891564430659129037097735228607981843261092469845862172555291591327620036527203133607737436305275456546467854421442630307204742014599120541028722230009317555919882603333939040716401071881068550646151042155300738685084368882435784187259732769690034514690345650083715716347735355293911309377516344880570376602323151670492827207335936\n"
     ]
    }
   ],
   "source": [
    "#4.\n",
    "a = 256\n",
    "b = 232\n",
    "a **= b\n",
    "print(a)"
   ]
  },
  {
   "cell_type": "code",
   "execution_count": 95,
   "id": "f458196c-1706-4294-8fd3-560801e9cb22",
   "metadata": {},
   "outputs": [
    {
     "name": "stdout",
     "output_type": "stream",
     "text": [
      "1035937838471782389599809713742680377188758355723619847482859855782866868051732893185905779887306061924649377253872430722300348542929218809265101473274996284160923943579854463183488199579514888396877672326256590869996819307650855704499302379954841653481356184870287327469057673429813381283663356129896666552929987443790257766259872870250956483767363035103207496835444368020921958105725704695254514117689634949935480280597547731341809400037503091099316573778786404925222003737091868282869598931523161729003372134044553145141105384525103487867735143133332053753500785508195897387655797418509597755330457458722882010281678667363806109378015301117454582172283210158057741311787765576859153162458331519045717524237923496436316391726100803698309889848427358045405715314889356599379612224970550047757463014190282208146131962578362530138146983948587596785448603295244887422586395126446388673265727572046392821079122848047174663604630558452621451607405261550549651419953443464457633839092313477421947689616770440893058143337044826004138273852232741844487072274037034177541657088109444337204853839673033654215333008936338405312014469943629561904101190637042600228513728075510580165965178457644469469183760533135746191850318791579350225134946072220265491585711525436130454739815036082286279127075907862402165828715724639544363215385123164038838463157105679945860367749020411677264812843531549727665082910192928740521216485109541565950327305947308507422466531013789587876607832275301910945929044018584919530014364820678321593217663522492951602432891320943339950865447878517324799365358190855071902843734176529679955927914094206864773620837891209086577155667744706743317169230468776548402540045434767932232651115827889414887037840532286953826635305283881839513229574180229598408972800048972102152508090927924424665811779920525758733536611252770904512811354463844398830676189519537799047689169899183501708906026156908418971970393112038024733020298862913780476509997443347203363589760280916450403018398827348021728606777567978109710247453801944367004851399434013523792543824653053141118050715118107185611843962754217384931337410975948896362023463718255282951312472384350196235728046541400921482753667384996908040872191881885139524137338432134347092087602058678895807963298329466989423135586193208413902002727003652459547847568061890202555144673523334346458629537299558145986910657943630289660023996525855770916232056919772711647039743743767162690985634412465628859867109857073206783925330668158976\n"
     ]
    }
   ],
   "source": [
    "#5.\n",
    "a = 936\n",
    "b = 835\n",
    "a **= b\n",
    "print(a)"
   ]
  },
  {
   "cell_type": "markdown",
   "id": "1f0d750b-2a50-4ff2-8754-beb55559526e",
   "metadata": {},
   "source": [
    "### Python Comparison Operators"
   ]
  },
  {
   "cell_type": "markdown",
   "id": "5effcf06-b212-4083-927c-b7e30445764c",
   "metadata": {},
   "source": [
    "Comparison operators are used to compare two values/variables and return a boolean result : True or False"
   ]
  },
  {
   "cell_type": "markdown",
   "id": "cd075cb8-b25e-4499-b233-216003db7a17",
   "metadata": {},
   "source": [
    "|   Operators    |         Name               |                 Description                     |                    Syntax   |\n",
    "|----------------|----------------------------|-------------------------------------------------|-----------------------------|\n",
    "| ==           |  Equality Operators\t   |         Equal to: True if both operands are equal         |               a == b  |\n",
    "| !=\t      |  Inequality Operators\t     |       Not equal to: True if operands are not equal       |              a != b  |\n",
    "|    >         |   Greater than  |  Greater than: True if the left operand is  greater than the right   |                      a > b  |\n",
    "|    <\t      | Less than     |   Less than: True if the left operand is less than the right  |                          a < b |\n",
    "|    >=\t   |  Greater than or Equal to\t|Greater than or equal to: True if left operand is greater than or equal to the right  |     a >= b |\n",
    "|   <=      | Less than or Equal to   | Less than or equal to: True if left operand is less than or equal to the right   |            a <= b|\n",
    "    \n",
    "                                                                                   \n",
    "                                                         \n",
    "                                                                           \n",
    "        "
   ]
  },
  {
   "cell_type": "markdown",
   "id": "b551de9d-4d5a-4841-a913-8610b889c03e",
   "metadata": {},
   "source": [
    "#### Equality Operators"
   ]
  },
  {
   "cell_type": "code",
   "execution_count": 97,
   "id": "534f3ffb-bcbb-44ed-b4b0-626981a45f76",
   "metadata": {},
   "outputs": [
    {
     "name": "stdout",
     "output_type": "stream",
     "text": [
      "False\n",
      "True\n"
     ]
    }
   ],
   "source": [
    "#1.\n",
    "a = 9\n",
    "b = 5\n",
    "c = 9\n",
    "print(a == b)\n",
    "print(a == c)\n"
   ]
  },
  {
   "cell_type": "code",
   "execution_count": 98,
   "id": "cd91c91a-b991-49ea-bfde-91cf9cf47778",
   "metadata": {},
   "outputs": [
    {
     "name": "stdout",
     "output_type": "stream",
     "text": [
      "False\n",
      "True\n"
     ]
    }
   ],
   "source": [
    "#2.\n",
    "a = 36\n",
    "b = 35\n",
    "c = 36\n",
    "print(a == b)\n",
    "print(a == c)\n"
   ]
  },
  {
   "cell_type": "code",
   "execution_count": 99,
   "id": "ac4703ab-6153-4907-b881-2c74f00783c5",
   "metadata": {},
   "outputs": [
    {
     "name": "stdout",
     "output_type": "stream",
     "text": [
      "False\n",
      "True\n"
     ]
    }
   ],
   "source": [
    "#3.\n",
    "a = 777\n",
    "b = 373\n",
    "c = 777\n",
    "print(a == b)\n",
    "print(a == c)"
   ]
  },
  {
   "cell_type": "code",
   "execution_count": 100,
   "id": "1acb374c-f5d8-4312-a069-398ff2a74ba6",
   "metadata": {},
   "outputs": [
    {
     "name": "stdout",
     "output_type": "stream",
     "text": [
      "True\n",
      "True\n",
      "True\n"
     ]
    }
   ],
   "source": [
    "#4.\n",
    "a = 111\n",
    "b = 111\n",
    "c = 111\n",
    "print(a == b)\n",
    "print(b == c)\n",
    "print(a == c)"
   ]
  },
  {
   "cell_type": "code",
   "execution_count": 101,
   "id": "c677f8c9-2815-42d7-9410-1679d84c0530",
   "metadata": {},
   "outputs": [
    {
     "name": "stdout",
     "output_type": "stream",
     "text": [
      "False\n",
      "True\n"
     ]
    }
   ],
   "source": [
    "#5.\n",
    "a = 4783\n",
    "b = 383\n",
    "c = 4783\n",
    "print(a == b)\n",
    "print(a == c)"
   ]
  },
  {
   "cell_type": "markdown",
   "id": "f7201a74-5b84-41d3-a3ac-21b40fe6e477",
   "metadata": {},
   "source": [
    "#### Inequality Operators"
   ]
  },
  {
   "cell_type": "code",
   "execution_count": 102,
   "id": "40acd52c-cce3-47c6-87ac-e715855e694c",
   "metadata": {},
   "outputs": [
    {
     "name": "stdout",
     "output_type": "stream",
     "text": [
      "True\n",
      "False\n"
     ]
    }
   ],
   "source": [
    "#1.\n",
    "a = 9\n",
    "b = 5\n",
    "c = 9\n",
    "print(a != b)\n",
    "print(a != c)"
   ]
  },
  {
   "cell_type": "code",
   "execution_count": 103,
   "id": "b118ffd1-73f8-4202-9a58-44a1b58ca374",
   "metadata": {},
   "outputs": [
    {
     "name": "stdout",
     "output_type": "stream",
     "text": [
      "True\n",
      "True\n",
      "True\n"
     ]
    }
   ],
   "source": [
    "#2.\n",
    "a = 47\n",
    "b = 37\n",
    "c = 48\n",
    "print(a != b)\n",
    "print(b != a)\n",
    "print(a != c)"
   ]
  },
  {
   "cell_type": "code",
   "execution_count": 104,
   "id": "234fff2a-b766-4bd2-a3ef-0cf854716592",
   "metadata": {},
   "outputs": [
    {
     "name": "stdout",
     "output_type": "stream",
     "text": [
      "False\n",
      "False\n",
      "False\n"
     ]
    }
   ],
   "source": [
    "#3.\n",
    "a = 5645\n",
    "b = 5645\n",
    "c = 5645\n",
    "print(a != b)\n",
    "print(b != c)\n",
    "print(a != c)"
   ]
  },
  {
   "cell_type": "code",
   "execution_count": 105,
   "id": "c9ae381e-03b9-4cbc-8f34-a5fdec32e66a",
   "metadata": {},
   "outputs": [
    {
     "name": "stdout",
     "output_type": "stream",
     "text": [
      "True\n",
      "False\n"
     ]
    }
   ],
   "source": [
    "#4.\n",
    "a = 988\n",
    "b = 536\n",
    "c = 988\n",
    "print(a != b)\n",
    "print(a != c)"
   ]
  },
  {
   "cell_type": "code",
   "execution_count": 108,
   "id": "ff4930aa-9a69-458d-80cd-5e4080cd2d79",
   "metadata": {},
   "outputs": [
    {
     "name": "stdout",
     "output_type": "stream",
     "text": [
      "False\n",
      "True\n"
     ]
    }
   ],
   "source": [
    "#5.\n",
    "a = 53745\n",
    "b = 53745\n",
    "c = 3467\n",
    "print(a != b)\n",
    "print(a != c)"
   ]
  },
  {
   "cell_type": "markdown",
   "id": "23e0ee18-d30a-4fc0-b6b0-cbd14288df7a",
   "metadata": {},
   "source": [
    "#### Greater than "
   ]
  },
  {
   "cell_type": "code",
   "execution_count": 110,
   "id": "88380381-7f66-46e5-8633-c44c19cd4712",
   "metadata": {},
   "outputs": [
    {
     "name": "stdout",
     "output_type": "stream",
     "text": [
      "True\n",
      "False\n"
     ]
    }
   ],
   "source": [
    "#1.\n",
    "a = 9\n",
    "b = 5\n",
    "print(a > b)\n",
    "print(b > a)\n"
   ]
  },
  {
   "cell_type": "code",
   "execution_count": 111,
   "id": "a8ee5b61-6cbe-4d67-a395-4ba54f7b84c3",
   "metadata": {},
   "outputs": [
    {
     "name": "stdout",
     "output_type": "stream",
     "text": [
      "True\n"
     ]
    }
   ],
   "source": [
    "#2.\n",
    "x = 5\n",
    "y = 3\n",
    "\n",
    "print(x > y)"
   ]
  },
  {
   "cell_type": "code",
   "execution_count": 112,
   "id": "4e7e2b1a-c15e-4384-b838-e0b608b220da",
   "metadata": {},
   "outputs": [
    {
     "name": "stdout",
     "output_type": "stream",
     "text": [
      "False\n"
     ]
    }
   ],
   "source": [
    "#3.\n",
    "a = 383\n",
    "b = 473\n",
    "\n",
    "print(a > b)"
   ]
  },
  {
   "cell_type": "code",
   "execution_count": 113,
   "id": "cc82e8c5-58dd-4aca-a768-568c6e3b30ae",
   "metadata": {},
   "outputs": [
    {
     "name": "stdout",
     "output_type": "stream",
     "text": [
      "True\n"
     ]
    }
   ],
   "source": [
    "#4.\n",
    "d = 4737\n",
    "e = 3622\n",
    "print(d > e)"
   ]
  },
  {
   "cell_type": "code",
   "execution_count": 114,
   "id": "a925b0fc-7c4b-4909-9e19-3f999db957bc",
   "metadata": {},
   "outputs": [
    {
     "name": "stdout",
     "output_type": "stream",
     "text": [
      "True\n",
      "False\n",
      "True\n",
      "False\n"
     ]
    }
   ],
   "source": [
    "#5.\n",
    "a = 39284\n",
    "b = 4563\n",
    "c = 3723\n",
    "print(a > b)\n",
    "print(b > a)\n",
    "print(a > c)\n",
    "print(c > a)"
   ]
  },
  {
   "cell_type": "markdown",
   "id": "69fcb70f-c631-4779-b2ae-fc221263739c",
   "metadata": {},
   "source": [
    "#### Less than "
   ]
  },
  {
   "cell_type": "code",
   "execution_count": 115,
   "id": "a18f74a7-bd13-4f20-b673-63a197269c9b",
   "metadata": {},
   "outputs": [
    {
     "name": "stdout",
     "output_type": "stream",
     "text": [
      "False\n",
      "True\n"
     ]
    }
   ],
   "source": [
    "#1.\n",
    "a = 9\n",
    "b = 5\n",
    "print(a < b)\n",
    "print(b < a)"
   ]
  },
  {
   "cell_type": "code",
   "execution_count": 116,
   "id": "1e160364-b7d1-4b65-9388-720e7266ffb0",
   "metadata": {},
   "outputs": [
    {
     "name": "stdout",
     "output_type": "stream",
     "text": [
      "True\n",
      "False\n"
     ]
    }
   ],
   "source": [
    "#2.\n",
    "a = 9648\n",
    "b = 54783\n",
    "print(a < b)\n",
    "print(b < a)"
   ]
  },
  {
   "cell_type": "code",
   "execution_count": 117,
   "id": "e7ba6215-932f-402a-9037-1b28dbadaa52",
   "metadata": {},
   "outputs": [
    {
     "name": "stdout",
     "output_type": "stream",
     "text": [
      "False\n"
     ]
    }
   ],
   "source": [
    "#3.\n",
    "a = 94674\n",
    "b = 25373\n",
    "print(a < b)"
   ]
  },
  {
   "cell_type": "code",
   "execution_count": 118,
   "id": "72766122-8eb9-4396-960e-d2271f56f8dd",
   "metadata": {},
   "outputs": [
    {
     "name": "stdout",
     "output_type": "stream",
     "text": [
      "False\n"
     ]
    }
   ],
   "source": [
    "#4.\n",
    "x = 5\n",
    "y = 3\n",
    "print(x < y)"
   ]
  },
  {
   "cell_type": "code",
   "execution_count": 120,
   "id": "942b98fb-13d2-41c9-9c8b-3bde842ebc86",
   "metadata": {},
   "outputs": [
    {
     "name": "stdout",
     "output_type": "stream",
     "text": [
      "True\n",
      "False\n",
      "False\n",
      "True\n"
     ]
    }
   ],
   "source": [
    "#5.\n",
    "a = 4882\n",
    "b = 93574\n",
    "c = 2783\n",
    "print(a < b)\n",
    "print(b < a)\n",
    "print(a < c)\n",
    "print(c < a)"
   ]
  },
  {
   "cell_type": "markdown",
   "id": "77d91b17-e6bf-4c7a-aa5e-c0d9aa2f42fd",
   "metadata": {},
   "source": [
    "#### Greater than or Equal to "
   ]
  },
  {
   "cell_type": "code",
   "execution_count": 121,
   "id": "b1b6e979-8c32-43a0-a84d-8c07e5147cca",
   "metadata": {},
   "outputs": [
    {
     "name": "stdout",
     "output_type": "stream",
     "text": [
      "True\n",
      "True\n",
      "False\n"
     ]
    }
   ],
   "source": [
    "#1.\n",
    "a = 9\n",
    "b = 5\n",
    "c = 9\n",
    "print(a >= b)\n",
    "print(a >= c)\n",
    "print(b >= a)"
   ]
  },
  {
   "cell_type": "code",
   "execution_count": 122,
   "id": "96aa93c9-d52f-431f-9136-5cf6d2c4a17d",
   "metadata": {},
   "outputs": [
    {
     "name": "stdout",
     "output_type": "stream",
     "text": [
      "True\n"
     ]
    }
   ],
   "source": [
    "#2.\n",
    "x = 5\n",
    "y = 3\n",
    "\n",
    "print(x >= y)"
   ]
  },
  {
   "cell_type": "code",
   "execution_count": 123,
   "id": "27d0a337-758c-4985-ab7b-7e73acb4a437",
   "metadata": {},
   "outputs": [
    {
     "name": "stdout",
     "output_type": "stream",
     "text": [
      "False\n",
      "True\n",
      "True\n"
     ]
    }
   ],
   "source": [
    "#3.\n",
    "a = 4884\n",
    "b = 9363\n",
    "c = 463\n",
    "print(a >= b)\n",
    "print(a >= c)\n",
    "print(b >= a)"
   ]
  },
  {
   "cell_type": "code",
   "execution_count": 124,
   "id": "8be6d2d9-dc38-4337-a4eb-22a02486746d",
   "metadata": {},
   "outputs": [
    {
     "name": "stdout",
     "output_type": "stream",
     "text": [
      "True\n"
     ]
    }
   ],
   "source": [
    "#4.\n",
    "x = 4743\n",
    "y = 2723\n",
    "print(x >= y)"
   ]
  },
  {
   "cell_type": "code",
   "execution_count": 125,
   "id": "e9873158-a0b2-4942-8a1c-aae61d918bfc",
   "metadata": {},
   "outputs": [
    {
     "name": "stdout",
     "output_type": "stream",
     "text": [
      "False\n",
      "True\n",
      "True\n",
      "False\n"
     ]
    }
   ],
   "source": [
    "#5.\n",
    "a = 4884737\n",
    "b = 9363367\n",
    "c = 46336\n",
    "print(a >= b)\n",
    "print(a >= c)\n",
    "print(b >= a)\n",
    "print(c >= a)"
   ]
  },
  {
   "cell_type": "markdown",
   "id": "9d54c1b4-1e29-409c-a63a-8225a05204b3",
   "metadata": {},
   "source": [
    "#### Less than or Equal to "
   ]
  },
  {
   "cell_type": "code",
   "execution_count": 126,
   "id": "4a5f2def-b7eb-43da-b229-4f8c735f448c",
   "metadata": {},
   "outputs": [
    {
     "name": "stdout",
     "output_type": "stream",
     "text": [
      "False\n"
     ]
    }
   ],
   "source": [
    "#1.\n",
    "x = 5\n",
    "y = 3\n",
    "\n",
    "print(x <= y)"
   ]
  },
  {
   "cell_type": "code",
   "execution_count": 127,
   "id": "818b8116-0b47-47fb-bf57-4e0fc3f42be8",
   "metadata": {},
   "outputs": [
    {
     "name": "stdout",
     "output_type": "stream",
     "text": [
      "False\n",
      "True\n",
      "True\n"
     ]
    }
   ],
   "source": [
    "#2.\n",
    "a = 9\n",
    "b = 5\n",
    "c = 9\n",
    "print(a <= b)\n",
    "print(a <= c)\n",
    "print(b <= a)"
   ]
  },
  {
   "cell_type": "code",
   "execution_count": 128,
   "id": "d8ab5b69-3e9b-4cb8-a3c1-403f283c28bd",
   "metadata": {},
   "outputs": [
    {
     "name": "stdout",
     "output_type": "stream",
     "text": [
      "True\n"
     ]
    }
   ],
   "source": [
    "#3.\n",
    "a = 3737\n",
    "b = 3788\n",
    "print(a <= b)"
   ]
  },
  {
   "cell_type": "code",
   "execution_count": 129,
   "id": "f2e0e655-4de4-4f6c-8c89-611ac5ba621c",
   "metadata": {},
   "outputs": [
    {
     "name": "stdout",
     "output_type": "stream",
     "text": [
      "False\n"
     ]
    }
   ],
   "source": [
    "#4.\n",
    "x = 3783\n",
    "y = 3665\n",
    "print(x <= y)"
   ]
  },
  {
   "cell_type": "code",
   "execution_count": 130,
   "id": "4849b7dc-353a-4494-8073-ceda84be7774",
   "metadata": {},
   "outputs": [
    {
     "name": "stdout",
     "output_type": "stream",
     "text": [
      "False\n",
      "False\n",
      "True\n",
      "True\n"
     ]
    }
   ],
   "source": [
    "#5.\n",
    "a = 9734\n",
    "b = 5385\n",
    "c = 9236\n",
    "print(a <= b)\n",
    "print(a <= c)\n",
    "print(b <= a)\n",
    "print(b <= c)"
   ]
  },
  {
   "cell_type": "markdown",
   "id": "c6c153f1-7aa6-4c66-9ce7-55d2949ab26d",
   "metadata": {},
   "source": [
    "### Python Logical Operators"
   ]
  },
  {
   "cell_type": "markdown",
   "id": "afe2e91c-c19b-49e5-8d35-6319797ef2bd",
   "metadata": {},
   "source": [
    " - Logical Operators are used to check whether an expression is True or False\n",
    " - Python Logical Operators are used to combile two or more conditions and check the final result\n",
    " - Logical operators are used to combine conditional statements:"
   ]
  },
  {
   "cell_type": "markdown",
   "id": "cb9c0883-14e6-4df6-90fc-aea8993f9109",
   "metadata": {},
   "source": [
    "|  Operator        |    Description       |           Syntax         |        Example  |\n",
    "|------------------|----------------------|--------------------------|-----------------|\n",
    "|       and \t    | Returns True if both the operands are true |          x and y      |        x>7 and x>10 |\n",
    "| or    |   Returns True if either of the operands is true  |        x or y         |      x<7 or x>15  |\n",
    "| not    |  Returns True if the   operand is false |             not x            |   not(x>7 and x> 10)  |\n",
    "                         "
   ]
  },
  {
   "cell_type": "markdown",
   "id": "14f8d9a5-fec0-4720-9493-1dfc36a79c57",
   "metadata": {},
   "source": [
    "#### 'and' operator"
   ]
  },
  {
   "cell_type": "markdown",
   "id": "f00652e8-5bb4-4eef-8c61-7378ef83c829",
   "metadata": {},
   "source": [
    "A and B Gives True if both the booleans are True Else, it gives False "
   ]
  },
  {
   "cell_type": "markdown",
   "id": "11f7f936-709d-476b-8549-80f080b22218",
   "metadata": {},
   "source": [
    "|     A   |      B      |    and   |\n",
    "| ------- | ----------- | --------- |\n",
    "| True    |   True      |   True    |\n",
    "| True    |   False     |   Fasle   |\n",
    "| False   |   True      |   False   |\n",
    "| False   |   False     |   False   |"
   ]
  },
  {
   "cell_type": "code",
   "execution_count": 137,
   "id": "93e6c311-da51-47c6-8acc-e5d25a5d1d6f",
   "metadata": {},
   "outputs": [
    {
     "name": "stdout",
     "output_type": "stream",
     "text": [
      "True\n"
     ]
    }
   ],
   "source": [
    "#1.\n",
    "print(True and True)"
   ]
  },
  {
   "cell_type": "code",
   "execution_count": 138,
   "id": "58b9e390-9e4f-43f9-b909-32b49f8b2ae4",
   "metadata": {},
   "outputs": [
    {
     "name": "stdout",
     "output_type": "stream",
     "text": [
      "True\n"
     ]
    }
   ],
   "source": [
    "#2.\n",
    "print((2<3) and (1<2))"
   ]
  },
  {
   "cell_type": "code",
   "execution_count": 139,
   "id": "df989e51-7af2-4747-80b7-fb512b41d22d",
   "metadata": {},
   "outputs": [
    {
     "name": "stdout",
     "output_type": "stream",
     "text": [
      "True\n"
     ]
    }
   ],
   "source": [
    "#3.\n",
    "print((5<9) and (56<78))"
   ]
  },
  {
   "cell_type": "code",
   "execution_count": 140,
   "id": "01cbd641-f7ad-4591-bbb9-bfca6496b405",
   "metadata": {},
   "outputs": [
    {
     "name": "stdout",
     "output_type": "stream",
     "text": [
      "False\n"
     ]
    }
   ],
   "source": [
    "#4.\n",
    "print((5 > 3) and (15 < 6))"
   ]
  },
  {
   "cell_type": "code",
   "execution_count": 141,
   "id": "f080927a-f159-4eb0-9568-38602967e7c8",
   "metadata": {},
   "outputs": [
    {
     "name": "stdout",
     "output_type": "stream",
     "text": [
      "True\n"
     ]
    }
   ],
   "source": [
    "#5.\n",
    "print(567<986 and 465 < 825)"
   ]
  },
  {
   "cell_type": "markdown",
   "id": "276c206d-7542-4048-b129-3bad2ab31e7e",
   "metadata": {},
   "source": [
    "#### 'or' operator"
   ]
  },
  {
   "cell_type": "markdown",
   "id": "c4703b8a-8256-41a9-b788-eadeaebd5823",
   "metadata": {},
   "source": [
    "A or B Gives True if any one of the booleans are True Else, it Gives False"
   ]
  },
  {
   "cell_type": "markdown",
   "id": "9135d587-8f69-4218-805e-06679257baaa",
   "metadata": {},
   "source": [
    "|     A   |      B      |    or    |\n",
    "| ------- | ----------- | --------- |\n",
    "| True    |   True      |   True    |\n",
    "| True    |   False     |   True    |\n",
    "| False   |   True      |   True    |\n",
    "| False   |   False     |   False   |"
   ]
  },
  {
   "cell_type": "code",
   "execution_count": 142,
   "id": "42b8656c-280a-4677-9b68-002f8d58a399",
   "metadata": {},
   "outputs": [
    {
     "name": "stdout",
     "output_type": "stream",
     "text": [
      "True\n"
     ]
    }
   ],
   "source": [
    "#1.\n",
    "print((True)or(False))"
   ]
  },
  {
   "cell_type": "code",
   "execution_count": 143,
   "id": "9be0ddfa-7a09-46e4-8147-68da3a2fae91",
   "metadata": {},
   "outputs": [
    {
     "name": "stdout",
     "output_type": "stream",
     "text": [
      "True\n"
     ]
    }
   ],
   "source": [
    "#2.\n",
    "print((2<3)or(2<1))"
   ]
  },
  {
   "cell_type": "code",
   "execution_count": 144,
   "id": "1aeb1509-fc0c-4598-ae94-24b7ae208387",
   "metadata": {},
   "outputs": [
    {
     "name": "stdout",
     "output_type": "stream",
     "text": [
      "True\n"
     ]
    }
   ],
   "source": [
    "#3.\n",
    "print((5 > 1) or (10 < 4))"
   ]
  },
  {
   "cell_type": "code",
   "execution_count": 145,
   "id": "b338b557-f810-4ca0-9373-4de41ec9aef8",
   "metadata": {},
   "outputs": [
    {
     "name": "stdout",
     "output_type": "stream",
     "text": [
      "True\n"
     ]
    }
   ],
   "source": [
    "#4.\n",
    "print((45>34) or (654<346))"
   ]
  },
  {
   "cell_type": "code",
   "execution_count": 146,
   "id": "0fb55e23-ddb7-4cde-9697-a7f9e96dc740",
   "metadata": {},
   "outputs": [
    {
     "name": "stdout",
     "output_type": "stream",
     "text": [
      "False\n"
     ]
    }
   ],
   "source": [
    "#5.\n",
    "print((766<345) or (4536<1242))"
   ]
  },
  {
   "cell_type": "markdown",
   "id": "3dbef3b1-a053-4f60-8a84-6c5da85be44b",
   "metadata": {},
   "source": [
    "#### 'not' Operator"
   ]
  },
  {
   "cell_type": "markdown",
   "id": "e8d28069-1b87-4211-83a9-6a82a2d9e292",
   "metadata": {},
   "source": [
    "not(A)\n",
    "Gives the Opposite value"
   ]
  },
  {
   "cell_type": "markdown",
   "id": "7d94b042-51b6-48be-8603-d55778dc5334",
   "metadata": {},
   "source": [
    "|     A   |    not   |\n",
    "| ------- | --------- |\n",
    "| True    |   False      |  \n",
    "| False    |   True     |"
   ]
  },
  {
   "cell_type": "code",
   "execution_count": 148,
   "id": "a451dde2-c1dd-42ac-889d-64f5aa18fdd7",
   "metadata": {},
   "outputs": [
    {
     "name": "stdout",
     "output_type": "stream",
     "text": [
      "True\n"
     ]
    }
   ],
   "source": [
    "#1.\n",
    "print(not(False))"
   ]
  },
  {
   "cell_type": "code",
   "execution_count": 149,
   "id": "f193b170-3476-430a-8aad-d0c21f51c988",
   "metadata": {},
   "outputs": [
    {
     "name": "stdout",
     "output_type": "stream",
     "text": [
      "True\n"
     ]
    }
   ],
   "source": [
    "#2.\n",
    "print(not(2 < 1))"
   ]
  },
  {
   "cell_type": "code",
   "execution_count": 150,
   "id": "ed60a449-edb1-4aa7-95e6-aaebda72ecde",
   "metadata": {},
   "outputs": [
    {
     "name": "stdout",
     "output_type": "stream",
     "text": [
      "False\n"
     ]
    }
   ],
   "source": [
    "#3.\n",
    "print(not(2<3))"
   ]
  },
  {
   "cell_type": "code",
   "execution_count": 151,
   "id": "3f596de2-6ab8-4977-b7f6-3dcc2ac40dbb",
   "metadata": {},
   "outputs": [
    {
     "name": "stdout",
     "output_type": "stream",
     "text": [
      "True\n"
     ]
    }
   ],
   "source": [
    "#4.\n",
    "print(4<5) and (not(1 != 1))"
   ]
  },
  {
   "cell_type": "code",
   "execution_count": 153,
   "id": "1be45058-98be-4bed-9892-2b9dee96d4b6",
   "metadata": {},
   "outputs": [
    {
     "name": "stdout",
     "output_type": "stream",
     "text": [
      "True\n"
     ]
    }
   ],
   "source": [
    "#5.\n",
    "print(364>243) and (not(34 != 46))"
   ]
  },
  {
   "cell_type": "markdown",
   "id": "11bbcb2a-b788-4dff-91a5-42bab6c54f48",
   "metadata": {},
   "source": [
    "### Python Identity Operator"
   ]
  },
  {
   "cell_type": "markdown",
   "id": "26391a3d-dae8-4801-8271-0f6405143a81",
   "metadata": {},
   "source": [
    " - Identity operators are used to compare the objects, not if they are equal, but if they are actually the same object, with the same memory location:\n",
    " - Identity whether the value is present or not"
   ]
  },
  {
   "cell_type": "markdown",
   "id": "c0f0665f-69be-4eba-a3da-47edfe190370",
   "metadata": {},
   "source": [
    "|  Operator              |       Description                 |         Syntax             |\n",
    "|------------------------|-----------------------------------|----------------------------|\n",
    "|  is\t              | Returns True if both variables  are the same object |           x is y  |\n",
    "| is not              | Returns True if both variables  are not the same object |          x is not y |\n",
    "                               "
   ]
  },
  {
   "cell_type": "code",
   "execution_count": 154,
   "id": "3f23f060-4755-40cc-a858-17c92c0aaf0c",
   "metadata": {},
   "outputs": [
    {
     "name": "stdout",
     "output_type": "stream",
     "text": [
      "True\n"
     ]
    }
   ],
   "source": [
    "#is\n",
    "\n",
    "x1 = 5\n",
    "y1 = 5\n",
    "x2 = 'Hello'\n",
    "y2 = 'Hello World'\n",
    "print(x1 is y1)"
   ]
  },
  {
   "cell_type": "code",
   "execution_count": 155,
   "id": "cdae007d-dbf3-477b-a647-58d8da02a842",
   "metadata": {},
   "outputs": [
    {
     "name": "stdout",
     "output_type": "stream",
     "text": [
      "False\n"
     ]
    }
   ],
   "source": [
    "print(y1 is x2)"
   ]
  },
  {
   "cell_type": "markdown",
   "id": "c01cccb8-3715-4a69-a791-e5cecca625b9",
   "metadata": {},
   "source": [
    "#### is"
   ]
  },
  {
   "cell_type": "code",
   "execution_count": 156,
   "id": "f0595354-2425-4ad7-8701-3d97e35aa570",
   "metadata": {},
   "outputs": [
    {
     "name": "stdout",
     "output_type": "stream",
     "text": [
      "True\n"
     ]
    }
   ],
   "source": [
    "#1.\n",
    "x = [1, 2, 3]\n",
    "y = x \n",
    "print(x is y)"
   ]
  },
  {
   "cell_type": "code",
   "execution_count": 157,
   "id": "05006603-011a-415c-8a0a-95ea9d9f7851",
   "metadata": {},
   "outputs": [
    {
     "name": "stdout",
     "output_type": "stream",
     "text": [
      "False\n"
     ]
    }
   ],
   "source": [
    "#2.\n",
    "x = [1, 2, 3]\n",
    "y = [1, 2, 3]  \n",
    "\n",
    "print(x is y)"
   ]
  },
  {
   "cell_type": "code",
   "execution_count": 159,
   "id": "eee44034-3a71-41a6-8d23-cc80e57cbb4d",
   "metadata": {},
   "outputs": [
    {
     "name": "stdout",
     "output_type": "stream",
     "text": [
      "True\n"
     ]
    }
   ],
   "source": [
    "#3.\n",
    "a = 10\n",
    "b = 10\n",
    "\n",
    "print(a is b)  "
   ]
  },
  {
   "cell_type": "code",
   "execution_count": 161,
   "id": "2f5e3d5d-3df8-4322-968b-c0d03a0c37c6",
   "metadata": {},
   "outputs": [
    {
     "name": "stdout",
     "output_type": "stream",
     "text": [
      "True\n"
     ]
    }
   ],
   "source": [
    "#4.\n",
    "a = \"hello\"\n",
    "b = \"hello\"\n",
    "\n",
    "print(a is b) "
   ]
  },
  {
   "cell_type": "code",
   "execution_count": 162,
   "id": "b9109119-c4d0-428a-8184-4f97480acec6",
   "metadata": {},
   "outputs": [
    {
     "name": "stdout",
     "output_type": "stream",
     "text": [
      "True\n"
     ]
    }
   ],
   "source": [
    "#5.\n",
    "a = None\n",
    "b = None\n",
    "print(a is b)  "
   ]
  },
  {
   "cell_type": "markdown",
   "id": "5e4e1122-93d7-4d98-8194-40fe5a913a30",
   "metadata": {},
   "source": [
    "#### is not"
   ]
  },
  {
   "cell_type": "code",
   "execution_count": 163,
   "id": "23811a0a-06ad-4e12-ba2d-f82b47c5c331",
   "metadata": {},
   "outputs": [
    {
     "name": "stdout",
     "output_type": "stream",
     "text": [
      "True\n"
     ]
    }
   ],
   "source": [
    "#1.\n",
    "list1 = [1, 2, 3]\n",
    "list2 = [1, 2, 3]\n",
    "\n",
    "print(list1 is not list2) "
   ]
  },
  {
   "cell_type": "code",
   "execution_count": 164,
   "id": "efcc769b-554d-437e-a567-92c416857fc1",
   "metadata": {},
   "outputs": [
    {
     "name": "stdout",
     "output_type": "stream",
     "text": [
      "Result is None.\n"
     ]
    }
   ],
   "source": [
    "#2.\n",
    "result = None\n",
    "\n",
    "if result is not None:\n",
    "    print(\"Result exists.\")\n",
    "else:\n",
    "    print(\"Result is None.\")"
   ]
  },
  {
   "cell_type": "code",
   "execution_count": 165,
   "id": "212098e2-4685-4a41-bcc8-6f7311ebdc1f",
   "metadata": {},
   "outputs": [
    {
     "name": "stdout",
     "output_type": "stream",
     "text": [
      "True\n"
     ]
    }
   ],
   "source": [
    "#3.\n",
    "x = 100\n",
    "y = \"100\"\n",
    "\n",
    "print(x is not y) "
   ]
  },
  {
   "cell_type": "code",
   "execution_count": 166,
   "id": "a5f3c08f-d803-43df-bf4a-6ace3d2feef7",
   "metadata": {},
   "outputs": [
    {
     "name": "stdout",
     "output_type": "stream",
     "text": [
      "True\n"
     ]
    }
   ],
   "source": [
    "#4.\n",
    "tuple1 = (1, 2, 3)\n",
    "tuple2 = (1, 2, 3)\n",
    "\n",
    "print(tuple1 is not tuple2) "
   ]
  },
  {
   "cell_type": "code",
   "execution_count": 167,
   "id": "90944bf5-0100-4c1e-8e97-eb442197cc04",
   "metadata": {},
   "outputs": [
    {
     "name": "stdout",
     "output_type": "stream",
     "text": [
      "True\n"
     ]
    }
   ],
   "source": [
    "#5.\n",
    "class Singleton:\n",
    "    pass\n",
    "\n",
    "obj1 = Singleton()\n",
    "obj2 = Singleton()\n",
    "\n",
    "print(obj1 is not obj2)"
   ]
  },
  {
   "cell_type": "markdown",
   "id": "8e182aed-0e93-4ef2-8558-6f33623e7cde",
   "metadata": {},
   "source": [
    "### Python Membership Operators"
   ]
  },
  {
   "cell_type": "markdown",
   "id": "d1fd3ecc-a5a8-4479-badb-f8c47fb39179",
   "metadata": {},
   "source": [
    " - Membership operators are used to test if a sequence is presented in an object:\n",
    " - They are used to test whether a value or variable is found in a sequence or not"
   ]
  },
  {
   "cell_type": "markdown",
   "id": "27cd698e-3c84-47bb-a2f5-d6a13f203a5d",
   "metadata": {},
   "source": [
    "|     Operator         |             Description         |                    Syntax             |\n",
    "|---------------------|----------------------------------|----------------------------------------|\n",
    "| in\t   |     Returns True if a sequence with the specified value is present in the object |       x in y |\n",
    "|  not in  |           Returns True if a sequence with the   specified value is not present in the object  |             x not in y  |\n",
    "                       "
   ]
  },
  {
   "cell_type": "code",
   "execution_count": 169,
   "id": "f82025ce-40b6-4409-92b2-130d584d3241",
   "metadata": {},
   "outputs": [
    {
     "name": "stdout",
     "output_type": "stream",
     "text": [
      "False\n",
      "True\n",
      "True\n",
      "False\n"
     ]
    }
   ],
   "source": [
    "x = \"Hello world\"\n",
    "y = [1,2,3,4,5,6]\n",
    "print('W' in x)\n",
    "print('hello' not in x)\n",
    "print(1 in y)\n",
    "print('a' in y)"
   ]
  },
  {
   "cell_type": "markdown",
   "id": "59715829-bfe7-44da-9e7a-7ba328705715",
   "metadata": {},
   "source": [
    "#### in"
   ]
  },
  {
   "cell_type": "code",
   "execution_count": 170,
   "id": "aa292f3a-e56c-4401-b9f3-0cd7494375fb",
   "metadata": {},
   "outputs": [
    {
     "name": "stdout",
     "output_type": "stream",
     "text": [
      "True\n"
     ]
    }
   ],
   "source": [
    "#1.\n",
    "fruits = ['apple', 'banana', 'cherry']\n",
    "\n",
    "print('banana' in fruits)"
   ]
  },
  {
   "cell_type": "code",
   "execution_count": 171,
   "id": "e5cc617c-b04e-42fd-8e3b-521bd9048dc4",
   "metadata": {},
   "outputs": [
    {
     "name": "stdout",
     "output_type": "stream",
     "text": [
      "True\n"
     ]
    }
   ],
   "source": [
    "#2.\n",
    "text = \"hello world\"\n",
    "\n",
    "print('h' in text)"
   ]
  },
  {
   "cell_type": "code",
   "execution_count": 172,
   "id": "072f2dbe-c15d-4387-a095-56ffd5d85ad4",
   "metadata": {},
   "outputs": [
    {
     "name": "stdout",
     "output_type": "stream",
     "text": [
      "True\n"
     ]
    }
   ],
   "source": [
    "#3.\n",
    "student = {'name': 'John', 'age': 25, 'grade': 'A'}\n",
    "\n",
    "print('name' in student) "
   ]
  },
  {
   "cell_type": "code",
   "execution_count": 173,
   "id": "883b3bce-9731-476f-8834-197206a89fee",
   "metadata": {},
   "outputs": [
    {
     "name": "stdout",
     "output_type": "stream",
     "text": [
      "True\n"
     ]
    }
   ],
   "source": [
    "#4.\n",
    "numbers = (1, 2, 3, 4, 5)\n",
    "\n",
    "print(3 in numbers)"
   ]
  },
  {
   "cell_type": "code",
   "execution_count": 174,
   "id": "23719162-a720-48e7-89b9-c896978b576b",
   "metadata": {},
   "outputs": [
    {
     "name": "stdout",
     "output_type": "stream",
     "text": [
      "True\n"
     ]
    }
   ],
   "source": [
    "#5.\n",
    "vowels = {'a', 'e', 'i', 'o', 'u'}\n",
    "\n",
    "print('e' in vowels)"
   ]
  },
  {
   "cell_type": "markdown",
   "id": "330e9598-a850-451e-875f-17e48890f23c",
   "metadata": {},
   "source": [
    "#### not in"
   ]
  },
  {
   "cell_type": "code",
   "execution_count": 175,
   "id": "49d991c3-48fc-46ea-a358-e36b81c08c1e",
   "metadata": {},
   "outputs": [
    {
     "name": "stdout",
     "output_type": "stream",
     "text": [
      "True\n"
     ]
    }
   ],
   "source": [
    "#1.\n",
    "fruits = ['apple', 'banana', 'cherry']\n",
    "\n",
    "print('grape' not in fruits)"
   ]
  },
  {
   "cell_type": "code",
   "execution_count": 176,
   "id": "a0152abe-88c9-4d88-90df-895256051697",
   "metadata": {},
   "outputs": [
    {
     "name": "stdout",
     "output_type": "stream",
     "text": [
      "True\n"
     ]
    }
   ],
   "source": [
    "#2.\n",
    "text = \"hello world\"\n",
    "\n",
    "print('z' not in text) "
   ]
  },
  {
   "cell_type": "code",
   "execution_count": 177,
   "id": "c4bd1a03-4907-4613-93e3-3b7f1a62f075",
   "metadata": {},
   "outputs": [
    {
     "name": "stdout",
     "output_type": "stream",
     "text": [
      "True\n"
     ]
    }
   ],
   "source": [
    "#3.\n",
    "student = {'name': 'John', 'age': 25, 'grade': 'A'}\n",
    "\n",
    "print('address' not in student)"
   ]
  },
  {
   "cell_type": "code",
   "execution_count": 178,
   "id": "b4c9f5dc-5c8f-4719-83ff-6750399063a1",
   "metadata": {},
   "outputs": [
    {
     "name": "stdout",
     "output_type": "stream",
     "text": [
      "True\n"
     ]
    }
   ],
   "source": [
    "#4.\n",
    "numbers = (1, 2, 3, 4, 5)\n",
    "\n",
    "print(6 not in numbers)"
   ]
  },
  {
   "cell_type": "code",
   "execution_count": 179,
   "id": "5e69b9ff-11b0-4b0a-a7cc-16a86ddde207",
   "metadata": {},
   "outputs": [
    {
     "name": "stdout",
     "output_type": "stream",
     "text": [
      "True\n"
     ]
    }
   ],
   "source": [
    "#5.\n",
    "vowels = {'a', 'e', 'i', 'o', 'u'}\n",
    "\n",
    "print('b' not in vowels)"
   ]
  },
  {
   "cell_type": "markdown",
   "id": "1a5d9f74-c96a-4a77-9d34-53a5502feecf",
   "metadata": {},
   "source": [
    "### Python Bitwise Operators"
   ]
  },
  {
   "cell_type": "markdown",
   "id": "3f629320-97fc-42a9-9194-9d944227b1a0",
   "metadata": {},
   "source": [
    " - Bitwise Operator act on operands as ifthey were strings of binary digits.They operate bit by bit, hence the name\n",
    " - Bitwise operators are used to compare (binary) numbers:\n",
    " - for example, 2 is 10 in binary and 7 is 111"
   ]
  },
  {
   "cell_type": "markdown",
   "id": "803f2b52-f516-476a-a8ea-a0226f805591",
   "metadata": {},
   "source": [
    "|    Operators   |          Name                     |           Description                  |                  Syntax   |\n",
    "|----------------|-----------------------------------|----------------------------------------|---------------------------|\n",
    "|   & \t         |    AND                        | \t Sets each bit to 1 if both bits are 1\t  |                       x & y  |\n",
    "|    I\t         |     OR\t               |     Sets each bit to 1 if one of two bits is 1   |                 \t x I y   |\n",
    "|  ^             |      XOR\t             |   Sets each bit to 1 if only one of two bits is 1\t|                 x ^ y  |\n",
    "|   ~             |      NOT\t           |                  Inverts all the bits\t             |             ~x   |\n",
    "|   <<\t        |    Zero fill left shift  |         Shift left by pushing zeros in from the right and let the leftmost bits fall off |  x << 2 |\n",
    "|    >>      | Signed right shift  |Shift right by pushing copies of the leftmost bit in from the left, and let the rightmost   bits fall off | x >> 2|  "
   ]
  },
  {
   "cell_type": "code",
   "execution_count": 181,
   "id": "cb8a7b1c-8741-465c-b720-0f92bab6af3f",
   "metadata": {},
   "outputs": [
    {
     "name": "stdout",
     "output_type": "stream",
     "text": [
      "2\n"
     ]
    }
   ],
   "source": [
    "# AND\n",
    "\n",
    "print(6 & 3)\n",
    "\n",
    "#  6 = 0110\n",
    "#  3 = 0011\n",
    "#  ----------\n",
    "#  2 = 0010"
   ]
  },
  {
   "cell_type": "code",
   "execution_count": 182,
   "id": "57b43861-d63d-4b61-8643-9d8779cf3c79",
   "metadata": {},
   "outputs": [
    {
     "name": "stdout",
     "output_type": "stream",
     "text": [
      "7\n"
     ]
    }
   ],
   "source": [
    "# OR\n",
    "\n",
    "print(6 | 3)\n",
    "\n",
    "#  6 = 0110\n",
    "#  3 = 0011\n",
    "#  ----------\n",
    "#  7 = 0111"
   ]
  },
  {
   "cell_type": "code",
   "execution_count": 184,
   "id": "24c50284-7d88-4ced-81ce-08afe9485271",
   "metadata": {},
   "outputs": [
    {
     "name": "stdout",
     "output_type": "stream",
     "text": [
      "5\n"
     ]
    }
   ],
   "source": [
    "# XOR\n",
    "\n",
    "print(6 ^ 3)\n",
    "\n",
    "#  6 = 0110\n",
    "#  3 = 0011\n",
    "#  ----------\n",
    "#  5 = 0101"
   ]
  },
  {
   "cell_type": "code",
   "execution_count": 186,
   "id": "bb053e57-7b35-4429-b80c-84495fffb178",
   "metadata": {},
   "outputs": [
    {
     "name": "stdout",
     "output_type": "stream",
     "text": [
      "-4\n"
     ]
    }
   ],
   "source": [
    "# NOT \n",
    "print(~3)\n",
    "\n",
    "# ((n+1)*-1)"
   ]
  },
  {
   "cell_type": "code",
   "execution_count": 189,
   "id": "0d1c0048-9c49-467e-a150-41079ede3bb5",
   "metadata": {},
   "outputs": [
    {
     "name": "stdout",
     "output_type": "stream",
     "text": [
      "124\n"
     ]
    }
   ],
   "source": [
    "# << Left Shift\n",
    "print(31 << 2)\n",
    "\n",
    "# 32 16 8 4 2 1\n",
    "# 1 0 0 0 0 1 \n",
    "# add 2 elements"
   ]
  },
  {
   "cell_type": "code",
   "execution_count": 188,
   "id": "83c4f653-1f71-4d00-93c4-f00ea1522603",
   "metadata": {},
   "outputs": [
    {
     "name": "stdout",
     "output_type": "stream",
     "text": [
      "17\n"
     ]
    }
   ],
   "source": [
    "# >> Right Shifht\n",
    "\n",
    "print(555 >> 5)\n",
    "\n",
    "# 1 0 0 0 1 0 1 0 1 1\n",
    "# remove 5 elements\n",
    "# 17"
   ]
  },
  {
   "cell_type": "markdown",
   "id": "a1e1bb1c-35d5-4b83-b1ed-8f483125aeed",
   "metadata": {},
   "source": [
    "### Operator Precedence"
   ]
  },
  {
   "cell_type": "markdown",
   "id": "7de9f0ab-f910-42ef-aadc-1c77ef3f8967",
   "metadata": {},
   "source": [
    "Operator precedence describes the order in which operations are performed"
   ]
  },
  {
   "cell_type": "markdown",
   "id": "7d527e67-6a19-431e-9f30-b89d3b8f322c",
   "metadata": {},
   "source": [
    "|     Operator                     |                Description    |\n",
    "|----------------------------------|--------------------------------|\n",
    "|        ( )                        \t|   Parentheses   |\n",
    "|        **\t                         |  Exponentiation  |\n",
    "|  +x  -x  ~x\t                 |  Unary plus, unary minus, and bitwise NOT  |\n",
    "|    *  /  //  %\t             |      Multiplication, division, floor division, and modulus   |\n",
    "|   +  -\t                      |     Addition and subtraction    |\n",
    "|    <<  >>                       |     Bitwise left and right shifts   |\n",
    "|    &                           |    Bitwise AND   |\n",
    "|   ^\t                        |   Bitwise XOR  |\n",
    "|   |\t                        |   Bitwise OR   |\n",
    "|   ==  !=  >  >=  <  <=   is  is not  in  not in  |    Comparisons, identity, and membership operators  |\n",
    "|   not\t                    |       Logical NOT    |\n",
    "|   and\t                    |        AND  |\n",
    "|   or                      |         OR   |\n",
    "\n",
    "\n",
    "\n",
    "             \n",
    "\n",
    "             \n",
    "\n",
    "    \n",
    "\n",
    "            \n",
    "\n",
    "             \n",
    "\n",
    "             \n",
    "\n",
    "              \n",
    "\n",
    "               \n",
    "\n",
    "            "
   ]
  },
  {
   "cell_type": "code",
   "execution_count": null,
   "id": "c9acefe1-1841-4e54-980e-461f7f264a25",
   "metadata": {},
   "outputs": [],
   "source": []
  }
 ],
 "metadata": {
  "kernelspec": {
   "display_name": "Python 3 (ipykernel)",
   "language": "python",
   "name": "python3"
  },
  "language_info": {
   "codemirror_mode": {
    "name": "ipython",
    "version": 3
   },
   "file_extension": ".py",
   "mimetype": "text/x-python",
   "name": "python",
   "nbconvert_exporter": "python",
   "pygments_lexer": "ipython3",
   "version": "3.12.4"
  }
 },
 "nbformat": 4,
 "nbformat_minor": 5
}
