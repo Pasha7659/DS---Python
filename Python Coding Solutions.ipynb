{
 "cells": [
  {
   "cell_type": "markdown",
   "id": "31685d7d-e87a-4903-b3dd-2c7915c0baeb",
   "metadata": {},
   "source": [
    "## 1. Prime Number"
   ]
  },
  {
   "cell_type": "code",
   "execution_count": 59,
   "id": "14512a1c-4ffa-4817-89bb-fee2ab7c1b5e",
   "metadata": {},
   "outputs": [
    {
     "name": "stdin",
     "output_type": "stream",
     "text": [
      "Enter Your Number:  20\n"
     ]
    },
    {
     "name": "stdout",
     "output_type": "stream",
     "text": [
      "20 is not a prime number\n"
     ]
    }
   ],
   "source": [
    "num = int(input(\"Enter Your Number: \"))\n",
    "\n",
    "if num > 1:\n",
    "    for i in range(2,(num//2)+1): # 1 has not a prime number so start with 2 upto (num//2) + 1 i.e (12//2) + 1 = 7, so  i has 2,3,4,5,6 it checks ()\n",
    "        if (num%i) == 0: # i checks start with 2 then (12%2) == 0: is True, then print is not a prime number\n",
    "            print(num,\"is not a prime number\")\n",
    "            break\n",
    "    else:\n",
    "        print(num,\"is a prime number\") \n",
    "else:\n",
    "    print(num,\"is not a prime number\")"
   ]
  },
  {
   "cell_type": "markdown",
   "id": "533fa896-f1a6-4507-b8f6-c868ded4913d",
   "metadata": {},
   "source": [
    "## 2. Palindrome Number"
   ]
  },
  {
   "cell_type": "code",
   "execution_count": 13,
   "id": "f3f7b10b-92aa-459c-9c2c-a946b8db4781",
   "metadata": {},
   "outputs": [
    {
     "name": "stdin",
     "output_type": "stream",
     "text": [
      "Enter Your String:  madam\n"
     ]
    },
    {
     "name": "stdout",
     "output_type": "stream",
     "text": [
      "madam is Palindrome\n"
     ]
    }
   ],
   "source": [
    "def isPalindrome(s):\n",
    "    return s == s[::-1] # user input is equal to reverse a string\n",
    "\n",
    "s = input(\"Enter Your String: \")\n",
    "ans = isPalindrome(s)\n",
    "\n",
    "if ans:\n",
    "    print(s,\"is Palindrome\")\n",
    "else:\n",
    "    print(s,\"not a Palindrome\") # example - madam, rader, level, malayalam, sos, pop etc.."
   ]
  },
  {
   "cell_type": "markdown",
   "id": "9a714a6d-ffef-4587-9757-ef67ca39a539",
   "metadata": {},
   "source": [
    "## 3. Fibonacci Series"
   ]
  },
  {
   "cell_type": "code",
   "execution_count": 23,
   "id": "0f867e9e-e5a6-45f0-9fc6-3919eeed6e80",
   "metadata": {},
   "outputs": [
    {
     "name": "stdin",
     "output_type": "stream",
     "text": [
      "Enter Your Number:  22\n"
     ]
    },
    {
     "name": "stdout",
     "output_type": "stream",
     "text": [
      "Fibonacci series is:  [0, 1, 1, 2, 3, 5, 8, 13, 21, 34, 55, 89, 144, 233, 377, 610, 987, 1597, 2584, 4181, 6765, 10946]\n"
     ]
    }
   ],
   "source": [
    "def Fibonacci(a):\n",
    "    l = [0,1] # l intialized with 0,1 then 2 variables intialized with 0,1\n",
    "    b = 0\n",
    "    c = 1\n",
    "    while (len(l)<a):\n",
    "        d = b + c\n",
    "        l.append(d)\n",
    "        b = c\n",
    "        c = d\n",
    "    print(\"Fibonacci series is: \",end=\" \")\n",
    "    return l\n",
    "a = int(input(\"Enter Your Number: \"))\n",
    "print(Fibonacci(a))"
   ]
  },
  {
   "cell_type": "markdown",
   "id": "e794162e-9b74-4b84-9ce2-fb61107dee2c",
   "metadata": {},
   "source": [
    "## 4. Count Paranthesis in String"
   ]
  },
  {
   "cell_type": "code",
   "execution_count": 38,
   "id": "47c550ef-a50e-41d1-83e3-2ee12fdba0c2",
   "metadata": {},
   "outputs": [
    {
     "name": "stdin",
     "output_type": "stream",
     "text": [
      "Enter Your String:  ()()()()()()()\n"
     ]
    },
    {
     "name": "stdout",
     "output_type": "stream",
     "text": [
      "Number of '(' is: 7\n",
      "Number of ')' is: 7\n"
     ]
    }
   ],
   "source": [
    "def count_paranthesis(s):\n",
    "    open_paranthesis = s.count('(')\n",
    "    close_paranthesis = s.count(')')\n",
    "    return open_paranthesis, close_paranthesis\n",
    "\n",
    "input_string = input(\"Enter Your String: \")\n",
    "open_count, close_count = count_paranthesis(input_string)\n",
    "print(\"Number of '(' is:\",open_count)\n",
    "print(\"Number of ')' is:\",close_count)"
   ]
  },
  {
   "cell_type": "markdown",
   "id": "eb159275-6bd4-496f-aad4-c7b7e0ab8c21",
   "metadata": {},
   "source": [
    "## 5. First non repeting in string"
   ]
  },
  {
   "cell_type": "code",
   "execution_count": 39,
   "id": "04b3c6eb-7307-424c-a808-3788abe8225f",
   "metadata": {},
   "outputs": [
    {
     "name": "stdin",
     "output_type": "stream",
     "text": [
      "Enter Your String:  Devaraju\n"
     ]
    },
    {
     "name": "stdout",
     "output_type": "stream",
     "text": [
      "First Non Repeting Character is:  D\n"
     ]
    }
   ],
   "source": [
    "def first_non_repeting_char(s):\n",
    "    for char in s:\n",
    "        if s.count(char) == 1:\n",
    "            return char\n",
    "    return None\n",
    "\n",
    "s = input(\"Enter Your String: \")\n",
    "result = first_non_repeting_char(s)\n",
    "\n",
    "if result:\n",
    "    print(\"First Non Repeting Character is: \",result)\n",
    "else:\n",
    "    print(\"No non Repeting Character found\")"
   ]
  },
  {
   "cell_type": "code",
   "execution_count": null,
   "id": "6965a150-ad02-4a27-bcd3-2b833c1aa163",
   "metadata": {},
   "outputs": [],
   "source": []
  },
  {
   "cell_type": "code",
   "execution_count": 41,
   "id": "da4b49f7-a642-4d01-a1cf-ad17e7134a52",
   "metadata": {},
   "outputs": [
    {
     "name": "stdin",
     "output_type": "stream",
     "text": [
      "Enter Your String:  level\n"
     ]
    },
    {
     "name": "stdout",
     "output_type": "stream",
     "text": [
      "level is a Palindrome\n"
     ]
    }
   ],
   "source": [
    "#1.Write a Python program to check if a string is a palindrome.\n",
    "\n",
    "def isPalindrome(s):\n",
    "    return s == s[::-1]\n",
    "\n",
    "s = input(\"Enter Your String: \")\n",
    "\n",
    "ans = isPalindrome(s)\n",
    "\n",
    "if ans:\n",
    "    print(s,\"is a Palindrome\")\n",
    "else:\n",
    "    print(s,\"is not a palindrome\")"
   ]
  },
  {
   "cell_type": "code",
   "execution_count": 79,
   "id": "e5a92af8-1a44-4558-a6c5-fa90d8f642da",
   "metadata": {},
   "outputs": [
    {
     "name": "stdin",
     "output_type": "stream",
     "text": [
      "Enter your number:  5\n"
     ]
    },
    {
     "name": "stdout",
     "output_type": "stream",
     "text": [
      "The facrorial of 5 is : 120\n"
     ]
    }
   ],
   "source": [
    "#2. Write a Python program to find the factorial of a number.\n",
    "\n",
    "import math\n",
    "\n",
    "n = int(input(\"Enter your number: \"))\n",
    "\n",
    "result = math.factorial(n)\n",
    "\n",
    "print(f\"The facrorial of {n} is :\",result)"
   ]
  },
  {
   "cell_type": "code",
   "execution_count": 57,
   "id": "8f149749-43b9-4c6b-9c7d-3ca1c1534238",
   "metadata": {},
   "outputs": [
    {
     "name": "stdin",
     "output_type": "stream",
     "text": [
      "Enter your number:  2,3,4,5\n"
     ]
    },
    {
     "name": "stdout",
     "output_type": "stream",
     "text": [
      "[2, 3, 4, 5]\n",
      "the largest element is:  5\n"
     ]
    }
   ],
   "source": [
    "#3.Write a Python program to find the largest element in a list.\n",
    "\n",
    "user = input(\"Enter your number: \")\n",
    "\n",
    "i = [int(x) for x in user.split(',')]\n",
    "\n",
    "result = max(i)\n",
    "\n",
    "print(i)\n",
    "\n",
    "print(\"the largest element is: \",result)"
   ]
  },
  {
   "cell_type": "code",
   "execution_count": 59,
   "id": "9eef2a15-6f13-4ff2-ae08-40e275b774f6",
   "metadata": {},
   "outputs": [
    {
     "name": "stdin",
     "output_type": "stream",
     "text": [
      "Enter your string:  gopal\n"
     ]
    },
    {
     "name": "stdout",
     "output_type": "stream",
     "text": [
      "The reverse a string is : lapog\n"
     ]
    }
   ],
   "source": [
    "#4. Write a Python program to reverse a string.\n",
    "\n",
    "user = input(\"Enter your string: \")\n",
    "\n",
    "result = user[::-1]\n",
    "\n",
    "print(\"The reverse a string is :\",result)"
   ]
  },
  {
   "cell_type": "code",
   "execution_count": 76,
   "id": "add04eb1-65f7-4c40-8d87-0954ac613c17",
   "metadata": {},
   "outputs": [
    {
     "name": "stdin",
     "output_type": "stream",
     "text": [
      "Enter the list of elements:  apple banana apple orange banana apple\n"
     ]
    },
    {
     "name": "stdout",
     "output_type": "stream",
     "text": [
      "Element 'apple' occurs 3 times.\n",
      "Element 'banana' occurs 2 times.\n",
      "Element 'orange' occurs 1 times.\n"
     ]
    }
   ],
   "source": [
    "#5. Write a Python program to count the frequency of each element in a list.\n",
    "\n",
    "from collections import Counter\n",
    "user_input = input(\"Enter the list of elements: \")\n",
    "elements_list = user_input.split()\n",
    "frequency = Counter(elements_list)\n",
    "for item, count in frequency.items():\n",
    "    print(f\"Element '{item}' occurs {count} times.\")"
   ]
  },
  {
   "cell_type": "code",
   "execution_count": 60,
   "id": "92b58a1d-6946-45ef-8f65-8a439aa34b3e",
   "metadata": {},
   "outputs": [
    {
     "name": "stdin",
     "output_type": "stream",
     "text": [
      "Enter your number:  2\n"
     ]
    },
    {
     "name": "stdout",
     "output_type": "stream",
     "text": [
      "2 is a prime number\n"
     ]
    }
   ],
   "source": [
    "#6.Write a Python program to check if a number is prime.\n",
    "\n",
    "num = int(input(\"Enter your number: \"))\n",
    "\n",
    "if num > 1:\n",
    "    for i in range(2,(num//2)+1):\n",
    "        if (num%i) == 0:\n",
    "            print(num,\"is not a prime number\")\n",
    "    else:\n",
    "        print(num,\"is a prime number\")\n",
    "else:\n",
    "    print(num,\"is not a prime number\")"
   ]
  },
  {
   "cell_type": "code",
   "execution_count": 6,
   "id": "20501ed1-c0b8-4e42-b312-fdddab1587f4",
   "metadata": {},
   "outputs": [
    {
     "name": "stdin",
     "output_type": "stream",
     "text": [
      "Enter your numbers:  1,2,3,3,4\n",
      "Enter your numbers:   2,1,3,7,5,9\n"
     ]
    },
    {
     "name": "stdout",
     "output_type": "stream",
     "text": [
      "The common elements between two lists:  {1, 2, 3}\n"
     ]
    }
   ],
   "source": [
    "#7. Write a Python program to find the common elements between two lists.\n",
    "\n",
    "user1 = input(\"Enter your numbers: \")\n",
    "user2 = input(\"Enter your numbers:  \")\n",
    "\n",
    "i1 = [int(x) for x in user1.split(',')]\n",
    "i2 = [int(y) for y in user2.split(',')]\n",
    "\n",
    "intersection = set(i1) & set(i2)\n",
    "\n",
    "print(\"The common elements between two lists: \",intersection)"
   ]
  },
  {
   "cell_type": "code",
   "execution_count": 70,
   "id": "2dadcd71-5118-45b7-a944-05517b1a3334",
   "metadata": {},
   "outputs": [
    {
     "name": "stdin",
     "output_type": "stream",
     "text": [
      "Enter your numbers:  10,20,30,40\n"
     ]
    },
    {
     "name": "stdout",
     "output_type": "stream",
     "text": [
      "Second largest element is: 30\n"
     ]
    }
   ],
   "source": [
    "#8.Write a Python program to find the second largest number in a list.\n",
    "\n",
    "user = input(\"Enter your numbers: \")\n",
    "\n",
    "user1 = [int(x) for x in user.split(',')]\n",
    "\n",
    "user2 = list(set(user2))\n",
    "\n",
    "user2.sort()\n",
    "\n",
    "if len(user1) < 2:\n",
    "    print(\"Not enough unique numbers to find the second largest element.\")\n",
    "else:\n",
    "    print(\"Second largest element is:\", user1[-2])"
   ]
  },
  {
   "cell_type": "code",
   "execution_count": 80,
   "id": "701a9f61-66b0-4217-9f96-c693e22c8a62",
   "metadata": {},
   "outputs": [
    {
     "name": "stdin",
     "output_type": "stream",
     "text": [
      "Enter your numbers:  1,2,3,4,5,6,1,4,8,9,10,1\n"
     ]
    },
    {
     "name": "stdout",
     "output_type": "stream",
     "text": [
      "Your List is : [1, 2, 3, 4, 5, 6, 1, 4, 8, 9, 10, 1]\n",
      "Your List after removing the duplicates : [1, 2, 3, 4, 5, 6, 8, 9, 10]\n"
     ]
    }
   ],
   "source": [
    "#9.Write a Python program to remove duplicates from a list.\n",
    "\n",
    "user = input(\"Enter your numbers: \")\n",
    "\n",
    "user1 = [int(x) for x in user.split(',')]\n",
    "print(\"Your List is :\",user1)\n",
    "\n",
    "word1=set(user1)\n",
    "word2 = list(word1)\n",
    "print(\"Your List after removing the duplicates :\",word2)"
   ]
  },
  {
   "cell_type": "code",
   "execution_count": 49,
   "id": "b303ac5b-87bd-4e43-9b6d-ff72ed3785ea",
   "metadata": {},
   "outputs": [
    {
     "name": "stdin",
     "output_type": "stream",
     "text": [
      "Enter your string:  devaraju\n"
     ]
    },
    {
     "name": "stdout",
     "output_type": "stream",
     "text": [
      "Number of Vowels in word:  4\n"
     ]
    }
   ],
   "source": [
    "#10. Write a python program to Counting Vowels in Word.\n",
    "\n",
    "user = input(\"Enter your string: \")\n",
    "\n",
    "vowels = 0\n",
    "consonants = 0\n",
    "for i in user:\n",
    "    if (i == 'a' or i == 'e' or i == 'i' or i == 'o' or i == 'u' or i == 'A' or i == 'E' or i == 'I' or i == 'O' or i == 'U'):\n",
    "        vowels = vowels + 1\n",
    "    else:\n",
    "        consonants = consonants + 1\n",
    "        \n",
    "print(\"Number of Vowels in word: \",vowels)"
   ]
  },
  {
   "cell_type": "code",
   "execution_count": 74,
   "id": "72a6c089-e3e7-44a6-9ba3-5b4d23a72ad3",
   "metadata": {},
   "outputs": [
    {
     "name": "stdin",
     "output_type": "stream",
     "text": [
      "Enter the string:  hello\n",
      "Enter the character to count:  5\n"
     ]
    },
    {
     "name": "stdout",
     "output_type": "stream",
     "text": [
      "The character '5' occurs 0 times in the string.\n"
     ]
    }
   ],
   "source": [
    "#11. Write a python Program to Count the Number of Occurrences of a Character in a String.\n",
    "\n",
    "user_string = input(\"Enter the string: \")\n",
    "character = input(\"Enter the character to count: \")\n",
    "\n",
    "result = user_string.count(character)\n",
    "\n",
    "print(f\"The character '{character}' occurs {result} times in the string.\")"
   ]
  },
  {
   "cell_type": "code",
   "execution_count": 32,
   "id": "54b738de-6925-462e-b7cd-dd22b808a6f8",
   "metadata": {},
   "outputs": [
    {
     "name": "stdin",
     "output_type": "stream",
     "text": [
      "Enter your numbers:  11,22,33\n"
     ]
    },
    {
     "name": "stdout",
     "output_type": "stream",
     "text": [
      "Maximum Number in a list:  33\n"
     ]
    }
   ],
   "source": [
    "#12. Write a python program to Find the Maximum Number in a List.\n",
    "\n",
    "user = input(\"Enter your numbers: \")\n",
    "\n",
    "user1 = [int(x) for x in user.split(',')]\n",
    "\n",
    "result = max(user1)\n",
    "print(\"Maximum Number in a list: \",result)"
   ]
  },
  {
   "cell_type": "code",
   "execution_count": 33,
   "id": "3b0f0912-17e2-4dd4-a5bc-343b10715510",
   "metadata": {},
   "outputs": [
    {
     "name": "stdin",
     "output_type": "stream",
     "text": [
      "Enter your number:  11,22,33\n"
     ]
    },
    {
     "name": "stdout",
     "output_type": "stream",
     "text": [
      "Minimum Number in a list: 11\n"
     ]
    }
   ],
   "source": [
    "#13. Write a python program to Find the Minimum Number in a List.\n",
    "\n",
    "user = input(\"Enter your number: \")\n",
    "\n",
    "user1 = [int(x) for x in user.split(',')]\n",
    "\n",
    "result = min(user1)\n",
    "\n",
    "print(\"Minimum Number in a list:\",result)"
   ]
  },
  {
   "cell_type": "code",
   "execution_count": 40,
   "id": "685abe1c-a600-4f86-b9e4-04cd66dd0ee8",
   "metadata": {},
   "outputs": [
    {
     "name": "stdin",
     "output_type": "stream",
     "text": [
      "Enter your First number: 10\n",
      "Enter your second number: 20\n",
      "Enter your Third number: 30\n"
     ]
    },
    {
     "name": "stdout",
     "output_type": "stream",
     "text": [
      "The Smallest number is : 10\n"
     ]
    }
   ],
   "source": [
    "#14. Python Program to find smallest number among three.\n",
    "\n",
    "a = int(input(\"Enter your First number:\"))\n",
    "b = int(input(\"Enter your second number:\"))\n",
    "c = int(input(\"Enter your Third number:\"))\n",
    "\n",
    "result = min(a,b,c)\n",
    "\n",
    "print(\"The Smallest number is :\",result)"
   ]
  },
  {
   "cell_type": "code",
   "execution_count": 35,
   "id": "9797ab79-6911-450d-8743-07404dc74be8",
   "metadata": {},
   "outputs": [
    {
     "name": "stdin",
     "output_type": "stream",
     "text": [
      "Enter your numbers:  5,4,3,2,1\n"
     ]
    },
    {
     "name": "stdout",
     "output_type": "stream",
     "text": [
      "[25, 16, 9, 4, 1]\n"
     ]
    }
   ],
   "source": [
    "#15. Python Program to calculate the square of a given number.\n",
    "\n",
    "user = input(\"Enter your numbers: \")\n",
    "\n",
    "user1 = [int(x) for x in user.split(',')]\n",
    "\n",
    "print(list(map(lambda x : x ** 2, user1)))"
   ]
  },
  {
   "cell_type": "code",
   "execution_count": 78,
   "id": "10c6c7cd-c8e3-4138-807c-cd86a9b14961",
   "metadata": {},
   "outputs": [
    {
     "name": "stdin",
     "output_type": "stream",
     "text": [
      "Enter your First LCM number:  12\n",
      "Enter your Second LCM number:  15\n"
     ]
    },
    {
     "name": "stdout",
     "output_type": "stream",
     "text": [
      "The LCM 12 and 15 is: 60\n"
     ]
    }
   ],
   "source": [
    "#16. Python program to calculate LCM of given two numbers.\n",
    "\n",
    "import math\n",
    "\n",
    "num1 = int(input(\"Enter your First LCM number: \"))\n",
    "num2 = int(input(\"Enter your Second LCM number: \"))\n",
    "\n",
    "result = lcm(num1, num2)\n",
    "\n",
    "print(f\"The LCM {num1} and {num2} is:\",result)"
   ]
  },
  {
   "cell_type": "code",
   "execution_count": 61,
   "id": "4104b333-0733-4e6e-98d6-3c3cf32c126d",
   "metadata": {},
   "outputs": [
    {
     "name": "stdin",
     "output_type": "stream",
     "text": [
      "Enter your number: Hello World\n"
     ]
    },
    {
     "name": "stdout",
     "output_type": "stream",
     "text": [
      "Original string: Hello World\n",
      "Copied string: Hello World\n"
     ]
    }
   ],
   "source": [
    "#17.Python program to copy one string to another string. \n",
    "\n",
    "original_string = input(\"Enter your number:\")\n",
    "\n",
    "copied_string = original_string\n",
    "\n",
    "print(\"Original string:\",original_string)\n",
    "print(\"Copied string:\",copied_string)"
   ]
  },
  {
   "cell_type": "code",
   "execution_count": 22,
   "id": "14eb27ad-59aa-4f44-b647-8b0526cb826f",
   "metadata": {},
   "outputs": [
    {
     "name": "stdin",
     "output_type": "stream",
     "text": [
      "Enter your string :  0,-6,-8,1,2,3,-7\n"
     ]
    },
    {
     "name": "stdout",
     "output_type": "stream",
     "text": [
      "The ascending order is:  [0, 1, 2, 3, -6, -7, -8]\n"
     ]
    }
   ],
   "source": [
    "#18. Python Program to sort characters of string in ascending order.\n",
    "\n",
    "num = input(\"Enter your string : \")\n",
    "\n",
    "i1 = [int(x) for x in num.split(',')]\n",
    "\n",
    "result = sorted(i1, key=lambda x: abs(x))\n",
    "\n",
    "print(\"The ascending order is: \",result)"
   ]
  },
  {
   "cell_type": "code",
   "execution_count": 27,
   "id": "ef4441a5-43de-4dd4-b292-fbae33fb402c",
   "metadata": {},
   "outputs": [
    {
     "name": "stdin",
     "output_type": "stream",
     "text": [
      "Enter your string:  banana\n"
     ]
    },
    {
     "name": "stdout",
     "output_type": "stream",
     "text": [
      "aaabnn\n"
     ]
    }
   ],
   "source": [
    "string = input(\"Enter your string: \")\n",
    "char_string = list(string)#['b', 'a', 'n', 'a', 'n', 'a']\n",
    "sorted_char = sorted(char_string) #['a', 'a', 'a', 'b', 'n', 'n']\n",
    "sorted_string = ''.join(sorted_char)#aaabnn\n",
    "print(sorted_string)"
   ]
  },
  {
   "cell_type": "code",
   "execution_count": 29,
   "id": "ed49d732-a99c-4ff8-9a2e-8ecbff429180",
   "metadata": {},
   "outputs": [
    {
     "name": "stdin",
     "output_type": "stream",
     "text": [
      "Enter your string:  banana\n"
     ]
    },
    {
     "name": "stdout",
     "output_type": "stream",
     "text": [
      "nnbaaa\n"
     ]
    }
   ],
   "source": [
    "#19.Python Program to sort characters of string in descending order.\n",
    "\n",
    "string = input(\"Enter your string: \")\n",
    "char_list = list(string)\n",
    "sorted_char = sorted(char_list, reverse=True)\n",
    "sorted_string = ''.join(sorted_char)\n",
    "print(sorted_string)"
   ]
  },
  {
   "cell_type": "code",
   "execution_count": 9,
   "id": "7cad4a65-c67c-44d6-afea-dd9ade0e1283",
   "metadata": {},
   "outputs": [
    {
     "name": "stdin",
     "output_type": "stream",
     "text": [
      "Enter your First Number:  10\n",
      "Enter your second Number:  20\n"
     ]
    },
    {
     "name": "stdout",
     "output_type": "stream",
     "text": [
      "After Swapping of X:  20\n",
      "After Swapping of Y:  10\n"
     ]
    }
   ],
   "source": [
    "#20.Write a program in Python to swap two numbers without using third variable?\n",
    "\n",
    "X = int(input(\"Enter your First Number: \"))\n",
    "Y = int(input(\"Enter your second Number: \"))\n",
    "\n",
    "X,Y = Y,X\n",
    "\n",
    "print(\"After Swapping of X: \",X)\n",
    "print(\"After Swapping of Y: \",Y)"
   ]
  },
  {
   "cell_type": "code",
   "execution_count": 8,
   "id": "afb3954b-16b2-4667-9591-777f06fd9a43",
   "metadata": {},
   "outputs": [
    {
     "name": "stdin",
     "output_type": "stream",
     "text": [
      "Enter your First Number:  10\n",
      "Enter your second Number:  20\n"
     ]
    },
    {
     "name": "stdout",
     "output_type": "stream",
     "text": [
      "After Swapping of a:  20\n",
      "After Swapping of b:  10\n"
     ]
    }
   ],
   "source": [
    "#21.Write a program in Python to swap two numbers with using third variable?\n",
    "\n",
    "a = int(input(\"Enter your First Number: \"))\n",
    "b = int(input(\"Enter your second Number: \"))\n",
    "\n",
    "temp = a\n",
    "a = b\n",
    "b = temp\n",
    "\n",
    "print(\"After Swapping of a: \",a)\n",
    "print(\"After Swapping of b: \",b)"
   ]
  },
  {
   "cell_type": "code",
   "execution_count": null,
   "id": "daa38225-2565-4aed-8d99-889cb8948b56",
   "metadata": {},
   "outputs": [],
   "source": []
  }
 ],
 "metadata": {
  "kernelspec": {
   "display_name": "Python 3 (ipykernel)",
   "language": "python",
   "name": "python3"
  },
  "language_info": {
   "codemirror_mode": {
    "name": "ipython",
    "version": 3
   },
   "file_extension": ".py",
   "mimetype": "text/x-python",
   "name": "python",
   "nbconvert_exporter": "python",
   "pygments_lexer": "ipython3",
   "version": "3.12.4"
  }
 },
 "nbformat": 4,
 "nbformat_minor": 5
}
