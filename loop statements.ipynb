{
 "cells": [
  {
   "cell_type": "markdown",
   "id": "0d3f58b0-16e1-40f3-a148-725e287624dd",
   "metadata": {},
   "source": [
    "## LOOP Statements"
   ]
  },
  {
   "cell_type": "markdown",
   "id": "acff594e-73a1-4770-b77e-90f703bd62d8",
   "metadata": {},
   "source": [
    "### While"
   ]
  },
  {
   "cell_type": "markdown",
   "id": "37ebfbcd-cf23-4f86-875e-1cfd71e0c08c",
   "metadata": {},
   "source": [
    "- It is used to run a Block Code unit with a Certain Condition is met.\n",
    "- A while loop Evaluates the Condition.\n",
    "- If the Condition Evalues to True the Inside while loop is Executed.\n",
    "- The process Continues until the Condition is False.\n",
    "  "
   ]
  },
  {
   "cell_type": "markdown",
   "id": "dc3476d4-5bb5-478a-b46e-444b9f5e35cf",
   "metadata": {},
   "source": [
    "### Syntax"
   ]
  },
  {
   "cell_type": "markdown",
   "id": "94fda181-f708-4d9f-9b9d-8b1389c8064a",
   "metadata": {},
   "source": [
    "While Condition : body of While lopp."
   ]
  },
  {
   "cell_type": "markdown",
   "id": "892868cd-3571-471b-b1a7-ff56e7084be6",
   "metadata": {},
   "source": [
    "### Examples"
   ]
  },
  {
   "cell_type": "code",
   "execution_count": 15,
   "id": "0b1bac24-1cc9-407b-b618-1b1ae9b00519",
   "metadata": {},
   "outputs": [
    {
     "name": "stdout",
     "output_type": "stream",
     "text": [
      "20\n",
      "40\n",
      "60\n",
      "80\n",
      "100\n"
     ]
    }
   ],
   "source": [
    "i=20\n",
    "while i<=100:\n",
    "    print(i)\n",
    "    i=i+20"
   ]
  },
  {
   "cell_type": "markdown",
   "id": "9326c1b3-60c2-46d3-8431-bde70d1a94c5",
   "metadata": {},
   "source": [
    "### For loop"
   ]
  },
  {
   "cell_type": "markdown",
   "id": "23f45d44-cd01-4b67-a64f-e108590372ae",
   "metadata": {},
   "source": [
    "- It is used for Iterating over a sequence"
   ]
  },
  {
   "cell_type": "markdown",
   "id": "6173f579-a1b6-4c7a-9e80-c9fe5c858526",
   "metadata": {},
   "source": [
    "### Syntax"
   ]
  },
  {
   "cell_type": "markdown",
   "id": "39295a31-a8c9-4a1b-8451-5cd0ba597915",
   "metadata": {},
   "source": [
    "for value in Sequence : # Statement"
   ]
  },
  {
   "cell_type": "markdown",
   "id": "ab4feb90-bcbd-470f-bb66-ba116e1de47a",
   "metadata": {},
   "source": [
    "### Example\n"
   ]
  },
  {
   "cell_type": "code",
   "execution_count": 23,
   "id": "3594b38e-1cee-4e68-8db3-4c2aa2228654",
   "metadata": {},
   "outputs": [
    {
     "name": "stdout",
     "output_type": "stream",
     "text": [
      "10\n",
      "20\n",
      "30\n",
      "40\n",
      "50\n",
      "60\n"
     ]
    }
   ],
   "source": [
    "i=[10,20,30,40,50,60]\n",
    "for j in i:\n",
    "    print(j)"
   ]
  },
  {
   "cell_type": "code",
   "execution_count": 27,
   "id": "40782593-09d7-4e7f-b8eb-9822be44a8bf",
   "metadata": {},
   "outputs": [
    {
     "name": "stdout",
     "output_type": "stream",
     "text": [
      "P\n",
      "A\n",
      "S\n",
      "H\n",
      "A\n"
     ]
    }
   ],
   "source": [
    "p=\"PASHA\"\n",
    "for r in p:\n",
    "    print(r)"
   ]
  },
  {
   "cell_type": "markdown",
   "id": "3c373fb6-210c-4b42-b2f4-49cbc1e37a63",
   "metadata": {},
   "source": [
    "### By Using for loop"
   ]
  },
  {
   "cell_type": "markdown",
   "id": "8bd09440-729f-4acd-a595-45cdfd5ed3c2",
   "metadata": {},
   "source": [
    "- program for leap year are no leap year.\n",
    "- program to find given numbers even are odd.\n",
    "- program for list is empty or not.\n",
    "- program to find Grade of as student \n",
    "- check weather given word is palindrome are not\n",
    "- to find smallest among three numbers\n",
    "- to find second largest no in list\n",
    "- calculate BMI and categorize it \n",
    "- to check vote aligible\n",
    "- to find person age group."
   ]
  },
  {
   "cell_type": "code",
   "execution_count": 154,
   "id": "def1c652-4c67-45c9-adbc-065d091aa339",
   "metadata": {},
   "outputs": [
    {
     "name": "stdin",
     "output_type": "stream",
     "text": [
      "Enter a year: 2020\n"
     ]
    },
    {
     "ename": "TypeError",
     "evalue": "'int' object is not iterable",
     "output_type": "error",
     "traceback": [
      "\u001b[1;31m---------------------------------------------------------------------------\u001b[0m",
      "\u001b[1;31mTypeError\u001b[0m                                 Traceback (most recent call last)",
      "Cell \u001b[1;32mIn[154], line 2\u001b[0m\n\u001b[0;32m      1\u001b[0m num\u001b[38;5;241m=\u001b[39m\u001b[38;5;28mint\u001b[39m(\u001b[38;5;28minput\u001b[39m(\u001b[38;5;124m\"\u001b[39m\u001b[38;5;124mEnter a year:\u001b[39m\u001b[38;5;124m\"\u001b[39m))\n\u001b[1;32m----> 2\u001b[0m \u001b[38;5;28;01mfor\u001b[39;00m i \u001b[38;5;129;01min\u001b[39;00m num:\n\u001b[0;32m      3\u001b[0m     \u001b[38;5;28;01mif\u001b[39;00m year \u001b[38;5;241m%\u001b[39m \u001b[38;5;241m4\u001b[39m\u001b[38;5;241m==\u001b[39m\u001b[38;5;241m0\u001b[39m:\n\u001b[0;32m      4\u001b[0m         \u001b[38;5;28mprint\u001b[39m(\u001b[38;5;124m\"\u001b[39m\u001b[38;5;124mLeap Year\u001b[39m\u001b[38;5;124m\"\u001b[39m)\n",
      "\u001b[1;31mTypeError\u001b[0m: 'int' object is not iterable"
     ]
    }
   ],
   "source": [
    "num=int(input(\"Enter a year:\"))\n",
    "for i in num:\n",
    "    if year % 4==0:\n",
    "        print(\"Leap Year\")\n",
    "    else:\n",
    "        print(\"Not a Leap Year\")\n",
    "        "
   ]
  },
  {
   "cell_type": "code",
   "execution_count": 10,
   "id": "a301d4e1-d1bc-4c49-8c99-5404b9175f25",
   "metadata": {},
   "outputs": [
    {
     "name": "stdout",
     "output_type": "stream",
     "text": [
      "24 Even\n",
      "56 Even\n",
      "98 Even\n",
      "56 Even\n",
      "55 Odd\n",
      "44 Even\n",
      "33 Odd\n",
      "77 Odd\n",
      "97 Odd\n",
      "90 Even\n",
      "21 Odd\n",
      "15 Odd\n",
      "71 Odd\n",
      "60 Even\n"
     ]
    }
   ],
   "source": [
    "num=[24,56,98,56,55,44,33,77,97,90,21,15,71,60]\n",
    "for i in num:\n",
    "    if i % 2==0:\n",
    "        print(i,\"Even\")\n",
    "    else:\n",
    "        print(i,\"Odd\")"
   ]
  },
  {
   "cell_type": "code",
   "execution_count": 18,
   "id": "767e6ba2-1363-4e82-89e0-78094544deac",
   "metadata": {},
   "outputs": [
    {
     "name": "stdout",
     "output_type": "stream",
     "text": [
      "Not Empty\n",
      "Not Empty\n"
     ]
    }
   ],
   "source": [
    "list=[2,44]\n",
    "for p in list:\n",
    "    if not p:\n",
    "        print(\"Empty\")\n",
    "    else:\n",
    "        print(\"Not Empty\")"
   ]
  },
  {
   "cell_type": "code",
   "execution_count": 74,
   "id": "c9d750f1-a017-4030-8804-4b7a95ac323a",
   "metadata": {},
   "outputs": [
    {
     "name": "stdin",
     "output_type": "stream",
     "text": [
      "Enter your Marks: 80\n"
     ]
    },
    {
     "ename": "TypeError",
     "evalue": "'int' object is not iterable",
     "output_type": "error",
     "traceback": [
      "\u001b[1;31m---------------------------------------------------------------------------\u001b[0m",
      "\u001b[1;31mTypeError\u001b[0m                                 Traceback (most recent call last)",
      "Cell \u001b[1;32mIn[74], line 2\u001b[0m\n\u001b[0;32m      1\u001b[0m num\u001b[38;5;241m=\u001b[39m\u001b[38;5;28mint\u001b[39m(\u001b[38;5;28minput\u001b[39m(\u001b[38;5;124m\"\u001b[39m\u001b[38;5;124mEnter your Marks:\u001b[39m\u001b[38;5;124m\"\u001b[39m))\n\u001b[1;32m----> 2\u001b[0m \u001b[38;5;28;01mfor\u001b[39;00m i \u001b[38;5;129;01min\u001b[39;00m num:\n\u001b[0;32m      3\u001b[0m     \u001b[38;5;28;01mif\u001b[39;00m i\u001b[38;5;241m>\u001b[39m\u001b[38;5;241m=\u001b[39m\u001b[38;5;241m90\u001b[39m:\n\u001b[0;32m      4\u001b[0m         \u001b[38;5;28mprint\u001b[39m(\u001b[38;5;124m\"\u001b[39m\u001b[38;5;124mA\u001b[39m\u001b[38;5;124m\"\u001b[39m)\n",
      "\u001b[1;31mTypeError\u001b[0m: 'int' object is not iterable"
     ]
    }
   ],
   "source": [
    "num=int(input(\"Enter your Marks:\"))\n",
    "for i in num:\n",
    "    if i>=90:\n",
    "        print(\"A\")\n",
    "    elif i>=80:\n",
    "        print(\"B\")\n",
    "    elif i>=70:\n",
    "        print(\"c\")\n",
    "    elif i>=60:\n",
    "        print(\"D\")\n",
    "    elif i>=50:\n",
    "        print(\"E\")\n",
    "    else:\n",
    "        print(\"Fail\")"
   ]
  },
  {
   "cell_type": "code",
   "execution_count": 114,
   "id": "b57eb246-91a5-40fc-b70f-6f237d8d2c2d",
   "metadata": {},
   "outputs": [
    {
     "name": "stdin",
     "output_type": "stream",
     "text": [
      "Enter a word: Pasha\n"
     ]
    },
    {
     "name": "stdout",
     "output_type": "stream",
     "text": [
      "Not Palindrome\n",
      "Not Palindrome\n",
      "Not Palindrome\n",
      "Not Palindrome\n",
      "Not Palindrome\n"
     ]
    }
   ],
   "source": [
    "word=input(\"Enter a word:\")\n",
    "for name in word:\n",
    "   if word==word[::-1]:\n",
    "       print(\" Palindrome\")\n",
    "   else:\n",
    "       print(\"Not Palindrome\")\n",
    "       \n",
    "        \n",
    "    \n",
    "    \n",
    "\n",
    "   \n",
    "   \n",
    "    "
   ]
  },
  {
   "cell_type": "code",
   "execution_count": 116,
   "id": "ee90f14c-68d8-4a31-80aa-a2ac064a052b",
   "metadata": {},
   "outputs": [
    {
     "ename": "TypeError",
     "evalue": "'int' object is not iterable",
     "output_type": "error",
     "traceback": [
      "\u001b[1;31m---------------------------------------------------------------------------\u001b[0m",
      "\u001b[1;31mTypeError\u001b[0m                                 Traceback (most recent call last)",
      "Cell \u001b[1;32mIn[116], line 4\u001b[0m\n\u001b[0;32m      2\u001b[0m b\u001b[38;5;241m=\u001b[39m\u001b[38;5;241m30\u001b[39m\n\u001b[0;32m      3\u001b[0m c\u001b[38;5;241m=\u001b[39m\u001b[38;5;241m56\u001b[39m\n\u001b[1;32m----> 4\u001b[0m \u001b[38;5;28;01mfor\u001b[39;00m i \u001b[38;5;129;01min\u001b[39;00m a:\n\u001b[0;32m      5\u001b[0m     \u001b[38;5;28;01mfor\u001b[39;00m j \u001b[38;5;129;01min\u001b[39;00m b:\n\u001b[0;32m      6\u001b[0m         \u001b[38;5;28;01mfor\u001b[39;00m k \u001b[38;5;129;01min\u001b[39;00m c:\n",
      "\u001b[1;31mTypeError\u001b[0m: 'int' object is not iterable"
     ]
    }
   ],
   "source": [
    "a=45\n",
    "b=30\n",
    "c=56\n",
    "for i in a:\n",
    "    for j in b:\n",
    "        for k in c:\n",
    "            if i<=j and i<=k:\n",
    "                print(\"i is Small\")\n",
    "            elif j<=i and j<=k:\n",
    "                print(\"j is Small\")\n",
    "            else:\n",
    "                print(\"k is Small\")"
   ]
  },
  {
   "cell_type": "code",
   "execution_count": 144,
   "id": "7a8db90b-d981-46ce-964f-4a75dd48f9e8",
   "metadata": {},
   "outputs": [
    {
     "ename": "NameError",
     "evalue": "name 'second' is not defined",
     "output_type": "error",
     "traceback": [
      "\u001b[1;31m---------------------------------------------------------------------------\u001b[0m",
      "\u001b[1;31mNameError\u001b[0m                                 Traceback (most recent call last)",
      "Cell \u001b[1;32mIn[144], line 6\u001b[0m\n\u001b[0;32m      4\u001b[0m \u001b[38;5;28;01mif\u001b[39;00m num\u001b[38;5;241m.\u001b[39mremove(large):\n\u001b[0;32m      5\u001b[0m    \u001b[38;5;28mprint\u001b[39m(\u001b[38;5;124m\"\u001b[39m\u001b[38;5;124mremove\u001b[39m\u001b[38;5;124m\"\u001b[39m)\n\u001b[1;32m----> 6\u001b[0m \u001b[38;5;28;01melif\u001b[39;00m second\u001b[38;5;241m==\u001b[39m\u001b[38;5;28mmax\u001b[39m(num):\n\u001b[0;32m      7\u001b[0m    \u001b[38;5;28mprint\u001b[39m(\u001b[38;5;124m\"\u001b[39m\u001b[38;5;124msecond large \u001b[39m\u001b[38;5;124m\"\u001b[39m,sec)\n",
      "\u001b[1;31mNameError\u001b[0m: name 'second' is not defined"
     ]
    }
   ],
   "source": [
    "num=[23,46,56,8,99,25,78,94,98]\n",
    "large=max(num)\n",
    "for i in num:\n",
    "     if num.remove(large):\n",
    "        print(\"remove\")\n",
    "     elif second==max(num):\n",
    "        print(\"second large num\",sec)\n",
    "    \n"
   ]
  },
  {
   "cell_type": "code",
   "execution_count": 146,
   "id": "1715de98-22ea-460f-bdbf-7efb25f2c18d",
   "metadata": {},
   "outputs": [
    {
     "name": "stdin",
     "output_type": "stream",
     "text": [
      "enter weight in Kg 45\n",
      "enter height in meters 6.2\n"
     ]
    },
    {
     "ename": "TypeError",
     "evalue": "'float' object is not iterable",
     "output_type": "error",
     "traceback": [
      "\u001b[1;31m---------------------------------------------------------------------------\u001b[0m",
      "\u001b[1;31mTypeError\u001b[0m                                 Traceback (most recent call last)",
      "Cell \u001b[1;32mIn[146], line 4\u001b[0m\n\u001b[0;32m      2\u001b[0m j\u001b[38;5;241m=\u001b[39m\u001b[38;5;28mfloat\u001b[39m(\u001b[38;5;28minput\u001b[39m(\u001b[38;5;124m\"\u001b[39m\u001b[38;5;124menter height in meters\u001b[39m\u001b[38;5;124m\"\u001b[39m))\n\u001b[0;32m      3\u001b[0m bmi \u001b[38;5;241m=\u001b[39mi\u001b[38;5;241m/\u001b[39m(j\u001b[38;5;241m*\u001b[39m\u001b[38;5;241m*\u001b[39m\u001b[38;5;241m2\u001b[39m)\n\u001b[1;32m----> 4\u001b[0m \u001b[38;5;28;01mfor\u001b[39;00m a \u001b[38;5;129;01min\u001b[39;00m bmi:\n\u001b[0;32m      5\u001b[0m     \u001b[38;5;28;01mif\u001b[39;00m a\u001b[38;5;241m<\u001b[39m\u001b[38;5;241m18.5\u001b[39m:\n\u001b[0;32m      6\u001b[0m         \u001b[38;5;28mprint\u001b[39m(\u001b[38;5;124m\"\u001b[39m\u001b[38;5;124mUnder weight\u001b[39m\u001b[38;5;124m\"\u001b[39m)\n",
      "\u001b[1;31mTypeError\u001b[0m: 'float' object is not iterable"
     ]
    }
   ],
   "source": [
    "i=float(input(\"enter weight in Kg\"))\n",
    "j=float(input(\"enter height in meters\"))\n",
    "bmi =i/(j**2)\n",
    "for a in bmi:\n",
    "    if a<18.5:\n",
    "        print(\"Under weight\")\n",
    "    elif a>=18.5 and a<=24.9:\n",
    "        print(\"Normal weight\")\n",
    "    else:\n",
    "        print(\"Over weight\")"
   ]
  },
  {
   "cell_type": "code",
   "execution_count": 156,
   "id": "0ff29954-2611-4e43-8712-74e9dbe3a3bd",
   "metadata": {},
   "outputs": [
    {
     "name": "stdout",
     "output_type": "stream",
     "text": [
      "23 Eligible\n",
      "46 Eligible\n",
      "8 Not Eligible\n",
      "9 Not Eligible\n",
      "55 Eligible\n",
      "44 Eligible\n",
      "45 Eligible\n",
      "34 Eligible\n",
      "16 Not Eligible\n",
      "32 Eligible\n",
      "22 Eligible\n"
     ]
    }
   ],
   "source": [
    "num=[23,46,8,9,55,44,45,34,16,32,22]\n",
    "for i in num:\n",
    "    if i>=18:\n",
    "        print(i,\"Eligible\")\n",
    "    else:\n",
    "        print(i,\"Not Eligible\")\n",
    "              \n",
    "        "
   ]
  },
  {
   "cell_type": "code",
   "execution_count": 150,
   "id": "cd437c6e-f54e-4378-bab0-a673b31af163",
   "metadata": {},
   "outputs": [
    {
     "name": "stdin",
     "output_type": "stream",
     "text": [
      "enter your age: 23\n"
     ]
    },
    {
     "ename": "TypeError",
     "evalue": "'int' object is not iterable",
     "output_type": "error",
     "traceback": [
      "\u001b[1;31m---------------------------------------------------------------------------\u001b[0m",
      "\u001b[1;31mTypeError\u001b[0m                                 Traceback (most recent call last)",
      "Cell \u001b[1;32mIn[150], line 2\u001b[0m\n\u001b[0;32m      1\u001b[0m num\u001b[38;5;241m=\u001b[39m\u001b[38;5;28mint\u001b[39m(\u001b[38;5;28minput\u001b[39m(\u001b[38;5;124m\"\u001b[39m\u001b[38;5;124menter your age:\u001b[39m\u001b[38;5;124m\"\u001b[39m))\n\u001b[1;32m----> 2\u001b[0m \u001b[38;5;28;01mfor\u001b[39;00m age \u001b[38;5;129;01min\u001b[39;00m num:\n\u001b[0;32m      3\u001b[0m     \u001b[38;5;28;01mif\u001b[39;00m age\u001b[38;5;241m<\u001b[39m\u001b[38;5;241m=\u001b[39m\u001b[38;5;241m22\u001b[39m:\n\u001b[0;32m      4\u001b[0m         \u001b[38;5;28mprint\u001b[39m(\u001b[38;5;124m\"\u001b[39m\u001b[38;5;124mSchool\u001b[39m\u001b[38;5;124m\"\u001b[39m)\n",
      "\u001b[1;31mTypeError\u001b[0m: 'int' object is not iterable"
     ]
    }
   ],
   "source": [
    "num=int(input(\"enter your age:\"))\n",
    "for age in num:\n",
    "    if age<=22:\n",
    "        print(\"School\")\n",
    "    elif age>=22 and age<=50:\n",
    "        print(\"Work\")\n",
    "    else:\n",
    "        print(\"Reatir\")\n",
    "        "
   ]
  },
  {
   "cell_type": "code",
   "execution_count": 158,
   "id": "607b7e08-fa9b-4133-a9ec-617739ffea2b",
   "metadata": {},
   "outputs": [
    {
     "name": "stdout",
     "output_type": "stream",
     "text": [
      "23 Work\n",
      "56 Reatir\n",
      "78 Reatir\n",
      "90 Reatir\n",
      "45 Work\n",
      "12 School\n",
      "56 Reatir\n",
      "17 School\n",
      "18 School\n",
      "30 Work\n"
     ]
    }
   ],
   "source": [
    "num=[23,56,78,90,45,12,56,17,18,30]\n",
    "for age in num:\n",
    "    if age<=22:\n",
    "        print(age,\"School\")\n",
    "    elif age>=22 and age<=50:\n",
    "        print(age,\"Work\")\n",
    "    else:\n",
    "        print(age,\"Reatir\")"
   ]
  },
  {
   "cell_type": "code",
   "execution_count": 162,
   "id": "1944447a-b6ee-4b84-8ea3-2b3e87d933ca",
   "metadata": {},
   "outputs": [
    {
     "name": "stdout",
     "output_type": "stream",
     "text": [
      "1900 Leap Year\n",
      "2020 Leap Year\n",
      "2022 Not a Leap Year\n",
      "1989 Not a Leap Year\n",
      "2045 Not a Leap Year\n",
      "1200 Leap Year\n",
      "3400 Leap Year\n",
      "1955 Not a Leap Year\n",
      "1999 Not a Leap Year\n"
     ]
    }
   ],
   "source": [
    "num=[1900,2020,2022,1989,2045,1200,3400,1955,1999]\n",
    "for i in num:\n",
    "    if i % 4==0:\n",
    "        print(i,\"Leap Year\")\n",
    "    else:\n",
    "        print(i,\"Not a Leap Year\")"
   ]
  },
  {
   "cell_type": "code",
   "execution_count": null,
   "id": "8b8ffcb1-f341-4049-b35e-ab7319bbbb6e",
   "metadata": {},
   "outputs": [],
   "source": []
  }
 ],
 "metadata": {
  "kernelspec": {
   "display_name": "Python 3 (ipykernel)",
   "language": "python",
   "name": "python3"
  },
  "language_info": {
   "codemirror_mode": {
    "name": "ipython",
    "version": 3
   },
   "file_extension": ".py",
   "mimetype": "text/x-python",
   "name": "python",
   "nbconvert_exporter": "python",
   "pygments_lexer": "ipython3",
   "version": "3.12.4"
  }
 },
 "nbformat": 4,
 "nbformat_minor": 5
}
