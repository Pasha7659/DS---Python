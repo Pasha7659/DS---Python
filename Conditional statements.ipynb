{
 "cells": [
  {
   "cell_type": "markdown",
   "id": "60d50e93-7ccf-4383-afcb-7ff1dff761d2",
   "metadata": {},
   "source": [
    "## Conditional Statements"
   ]
  },
  {
   "cell_type": "markdown",
   "id": "58d1b0e5-4593-489c-b91e-bc23d94fa292",
   "metadata": {},
   "source": [
    "- Conditional Statements are used in Programming to perform different actions based on specific condition.\n",
    "- They allow code to make decisions "
   ]
  },
  {
   "cell_type": "markdown",
   "id": "85745595-a7e5-48ab-beb3-088cd5eae6d6",
   "metadata": {},
   "source": [
    "### if Statement"
   ]
  },
  {
   "cell_type": "markdown",
   "id": "7890bd83-bfe2-40b1-a822-06165533fa91",
   "metadata": {},
   "source": [
    "- it executes a block of code if a specified condition is True.\n",
    "- it is used for only one condition."
   ]
  },
  {
   "cell_type": "markdown",
   "id": "bf128fb4-9f63-4825-9437-b6342c14d674",
   "metadata": {},
   "source": [
    "### Syntax"
   ]
  },
  {
   "cell_type": "markdown",
   "id": "9700390d-fc77-43a2-8820-0fdae052146c",
   "metadata": {},
   "source": [
    "if condition:\n",
    "    #code to execute"
   ]
  },
  {
   "cell_type": "code",
   "execution_count": 7,
   "id": "c71fafd9-7254-44e0-b1f8-56b1156c2a46",
   "metadata": {},
   "outputs": [
    {
     "name": "stdout",
     "output_type": "stream",
     "text": [
      "Adult\n"
     ]
    }
   ],
   "source": [
    "age=20\n",
    "if age>18:\n",
    "    print('Adult')"
   ]
  },
  {
   "cell_type": "markdown",
   "id": "0fbdac6f-10af-4f5c-a677-42ffc6cc3bb9",
   "metadata": {},
   "source": [
    "### Else Statement"
   ]
  },
  {
   "cell_type": "markdown",
   "id": "7337a529-a031-4d27-a44b-9afb52e6e2e1",
   "metadata": {},
   "source": [
    "- it is used for only two Conditions\n",
    "- it providess an alternative block of code that if condition is false."
   ]
  },
  {
   "cell_type": "code",
   "execution_count": 14,
   "id": "5f49b081-d354-4773-96ff-1dda7ccd401d",
   "metadata": {},
   "outputs": [
    {
     "name": "stdout",
     "output_type": "stream",
     "text": [
      "Minor\n"
     ]
    }
   ],
   "source": [
    "age=15\n",
    "if age>18:\n",
    "    print('Adult')\n",
    "else:\n",
    "    print('Minor')"
   ]
  },
  {
   "cell_type": "markdown",
   "id": "f904bbb9-0d21-4a8f-a87e-a0e3c416a6e2",
   "metadata": {},
   "source": [
    "### if else Statement"
   ]
  },
  {
   "cell_type": "markdown",
   "id": "0a7797ed-0879-44a3-8573-5a6112f0eb34",
   "metadata": {},
   "source": [
    "- it used for more than two conditions."
   ]
  },
  {
   "cell_type": "code",
   "execution_count": 165,
   "id": "66f6d05e-95c1-4224-bc6e-304f67d3566a",
   "metadata": {},
   "outputs": [
    {
     "name": "stdout",
     "output_type": "stream",
     "text": [
      "child\n"
     ]
    }
   ],
   "source": [
    "age=10\n",
    "if age>18:\n",
    "   print(\"adult\")\n",
    "elif age <1:\n",
    "   print(\"baby\")\n",
    "else:\n",
    "    print(\"child\")\n",
    "   \n",
    "  \n",
    "\n"
   ]
  },
  {
   "cell_type": "code",
   "execution_count": 141,
   "id": "fe719631-44ad-44b8-85d6-74108e7767bf",
   "metadata": {},
   "outputs": [
    {
     "name": "stdout",
     "output_type": "stream",
     "text": [
      "3\n"
     ]
    }
   ],
   "source": [
    "num =0\n",
    "if num<0:\n",
    "    print(1)\n",
    "elif num>0:\n",
    "    print(2)\n",
    "else:\n",
    "    print(3)\n",
    "    "
   ]
  },
  {
   "cell_type": "code",
   "execution_count": 135,
   "id": "a0433640-5fd4-42bc-8c81-ef78e6152a06",
   "metadata": {},
   "outputs": [
    {
     "name": "stdout",
     "output_type": "stream",
     "text": [
      " b max\n"
     ]
    }
   ],
   "source": [
    "a=4\n",
    "b=5\n",
    "c=2\n",
    "if a>b and a>c:\n",
    "    print(\" a max\")\n",
    "elif b>a and b>c:\n",
    "    print(\" b max\")\n",
    "else:\n",
    "    print(\"c max\")"
   ]
  },
  {
   "cell_type": "code",
   "execution_count": 133,
   "id": "f2a99c1b-e5ec-4112-9211-b4a058480a93",
   "metadata": {},
   "outputs": [
    {
     "name": "stdout",
     "output_type": "stream",
     "text": [
      "-ve\n"
     ]
    }
   ],
   "source": [
    "num = -3\n",
    "if num>0:\n",
    "    print(\"+ve\")\n",
    "elif num<0:\n",
    "    print(\"-ve\")\n",
    "else:\n",
    "    print(\" num is 0\")"
   ]
  },
  {
   "cell_type": "markdown",
   "id": "e1819caa-a58b-4aae-93f7-f94d8de59208",
   "metadata": {},
   "source": [
    "### Write a python program to check given year is leap or not"
   ]
  },
  {
   "cell_type": "code",
   "execution_count": 43,
   "id": "c787e146-de9a-48a5-bbed-d7b66c9edc2b",
   "metadata": {},
   "outputs": [
    {
     "name": "stdin",
     "output_type": "stream",
     "text": [
      "enter a year: 2000\n"
     ]
    },
    {
     "name": "stdout",
     "output_type": "stream",
     "text": [
      "leap\n"
     ]
    }
   ],
   "source": [
    "user=int(input(\"enter a year:\"))\n",
    "if user  % 4 == 0: \n",
    "    print(\"leap\")\n",
    "\n",
    "else:\n",
    "  print(\" not leap\")\n"
   ]
  },
  {
   "cell_type": "markdown",
   "id": "2ef021f4-a93a-45ef-af39-f6e3ddccf2b9",
   "metadata": {},
   "source": [
    "### Write apython program a given is even or odd"
   ]
  },
  {
   "cell_type": "code",
   "execution_count": 41,
   "id": "0a78c8f5-7ffc-47a8-888c-49e5284eb9f1",
   "metadata": {},
   "outputs": [
    {
     "name": "stdout",
     "output_type": "stream",
     "text": [
      "it is even\n"
     ]
    }
   ],
   "source": [
    "num=4\n",
    "if num  % 2 == 0:\n",
    "    print(\"it is even\")\n",
    "else:\n",
    "     print(\"odd\")\n"
   ]
  },
  {
   "cell_type": "markdown",
   "id": "a7f91eca-4dfe-4fc0-8721-8a2421b359d5",
   "metadata": {},
   "source": [
    "### List is empty or not"
   ]
  },
  {
   "cell_type": "code",
   "execution_count": 55,
   "id": "c2e14b0d-c85c-411a-be0d-2c7fb3fffe0f",
   "metadata": {},
   "outputs": [
    {
     "name": "stdout",
     "output_type": "stream",
     "text": [
      "empty\n"
     ]
    }
   ],
   "source": [
    "list=[  ]\n",
    "if not list:\n",
    "    print(\"empty\")\n",
    "else:\n",
    "    print(\"not empty\")"
   ]
  },
  {
   "cell_type": "markdown",
   "id": "365ca362-b8bc-426f-867c-965afa85fabc",
   "metadata": {},
   "source": [
    "### Write a python code to calculate grade of a student"
   ]
  },
  {
   "cell_type": "code",
   "execution_count": 92,
   "id": "aae8b5ea-09df-4df3-a3c2-530e505cae2b",
   "metadata": {},
   "outputs": [
    {
     "name": "stdin",
     "output_type": "stream",
     "text": [
      "enter your marks: 90\n"
     ]
    },
    {
     "name": "stdout",
     "output_type": "stream",
     "text": [
      "A\n"
     ]
    }
   ],
   "source": [
    "marks=int(input(\"enter your marks:\"))\n",
    "if marks>=90:\n",
    "    print(\"A\")\n",
    "elif marks>=80:\n",
    "    print(\"B\")\n",
    "elif marks>=70:\n",
    "    print(\"C\")\n",
    "elif marks>=60:\n",
    "    print(\"D\")\n",
    "elif marks>=50:\n",
    "    print(\"E\")\n",
    "else:\n",
    "    print(\"F\")"
   ]
  },
  {
   "cell_type": "markdown",
   "id": "6a111504-98fb-4842-9d93-a7360e137fa4",
   "metadata": {},
   "source": [
    "- check weather given word is polindrome are not\n",
    "- to find smallest among three numbers\n",
    "- to find second largest no in list\n",
    "- calculate BMI and categorize it \n",
    "- to check vote aligible\n",
    "- to find person age group.\n"
   ]
  },
  {
   "cell_type": "code",
   "execution_count": 1,
   "id": "77991bee-e0f3-41c3-96b1-cd4e4379d5a0",
   "metadata": {},
   "outputs": [
    {
     "name": "stdin",
     "output_type": "stream",
     "text": [
      "Enter a word: madam\n"
     ]
    },
    {
     "name": "stdout",
     "output_type": "stream",
     "text": [
      " word is Palindrome\n"
     ]
    }
   ],
   "source": [
    "word=input(\"Enter a word:\")\n",
    "if word==word[::-1]:\n",
    "    print(\" word is Palindrome\")\n",
    "else:\n",
    "    print(\"word is not Palindrome\")"
   ]
  },
  {
   "cell_type": "code",
   "execution_count": 5,
   "id": "fab03bc1-8d4d-45a6-a8e4-14c163419e13",
   "metadata": {},
   "outputs": [
    {
     "name": "stdout",
     "output_type": "stream",
     "text": [
      "k is Small\n"
     ]
    }
   ],
   "source": [
    "i=65\n",
    "j=90\n",
    "k=50\n",
    "if i<j and i<k:\n",
    "    print(\"i is Small\")\n",
    "elif j<i and j<k:\n",
    "    print(\"j is Small\")\n",
    "else:\n",
    "    print(\"k is Small\")\n",
    "    \n"
   ]
  },
  {
   "cell_type": "code",
   "execution_count": 7,
   "id": "4fdbfb6a-9006-4002-a797-c190ba572752",
   "metadata": {},
   "outputs": [
    {
     "name": "stdin",
     "output_type": "stream",
     "text": [
      "Enter your age: 45\n"
     ]
    },
    {
     "name": "stdout",
     "output_type": "stream",
     "text": [
      "Work\n"
     ]
    }
   ],
   "source": [
    "num=int(input(\"Enter your age:\"))\n",
    "if num<=22:\n",
    "    print(\"school\")\n",
    "elif num>22 and num<=50:\n",
    "    print(\"Work\")\n",
    "else:\n",
    "    print(\"Retair\")"
   ]
  },
  {
   "cell_type": "code",
   "execution_count": 33,
   "id": "4e2fbba0-f77c-4340-9f12-6d99ac1805e8",
   "metadata": {
    "scrolled": true
   },
   "outputs": [
    {
     "name": "stdin",
     "output_type": "stream",
     "text": [
      "enter a weight in kg: 67.6\n",
      "enter a heght in meters: 5.5\n"
     ]
    },
    {
     "name": "stdout",
     "output_type": "stream",
     "text": [
      "Under weight\n"
     ]
    }
   ],
   "source": [
    "weight=float(input(\"enter a weight in kg:\"))\n",
    "height=float(input(\"enter a heght in meters:\"))\n",
    "bmi=weight/(height**2)\n",
    "if bmi<18.5 :\n",
    "    print(\"Under weight\")\n",
    "elif bmi>=18.5 and bmi<=24.9:\n",
    "    print(\"Normal Weight\")\n",
    "else:\n",
    "    print(\"Over weight\")"
   ]
  },
  {
   "cell_type": "code",
   "execution_count": 17,
   "id": "e39db38b-5b6f-407a-acbd-d719c220dda0",
   "metadata": {},
   "outputs": [
    {
     "name": "stdin",
     "output_type": "stream",
     "text": [
      "Enter your age: 23\n"
     ]
    },
    {
     "name": "stdout",
     "output_type": "stream",
     "text": [
      "Eligible\n"
     ]
    }
   ],
   "source": [
    "num=int(input(\"Enter your age:\"))\n",
    "if num>=18:\n",
    "   print(\"Eligible\")\n",
    "else:\n",
    "    print(\"Not Eligible\")"
   ]
  },
  {
   "cell_type": "code",
   "execution_count": 31,
   "id": "96db51c3-b94f-46cf-a5ed-3eac80220a8a",
   "metadata": {},
   "outputs": [
    {
     "name": "stdout",
     "output_type": "stream",
     "text": [
      "second largest number:- 999\n"
     ]
    }
   ],
   "source": [
    "num=[1,2,3,4,5,66,77,68,99,999,9999]\n",
    "lar = max(num)\n",
    "if num.remove(lar):\n",
    "    print('removed')\n",
    "elif sec == max(num):\n",
    "   print(\"second largest number:-\", sec)"
   ]
  },
  {
   "cell_type": "code",
   "execution_count": null,
   "id": "a4e11e61-0923-4e6a-8441-14dcb9025ffd",
   "metadata": {},
   "outputs": [],
   "source": []
  }
 ],
 "metadata": {
  "kernelspec": {
   "display_name": "Python 3 (ipykernel)",
   "language": "python",
   "name": "python3"
  },
  "language_info": {
   "codemirror_mode": {
    "name": "ipython",
    "version": 3
   },
   "file_extension": ".py",
   "mimetype": "text/x-python",
   "name": "python",
   "nbconvert_exporter": "python",
   "pygments_lexer": "ipython3",
   "version": "3.12.4"
  }
 },
 "nbformat": 4,
 "nbformat_minor": 5
}
