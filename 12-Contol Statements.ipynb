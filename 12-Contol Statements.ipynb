{
 "cells": [
  {
   "cell_type": "markdown",
   "id": "3228914d-5a4f-4fc3-a51d-d921cf623696",
   "metadata": {},
   "source": [
    "# Control Statements"
   ]
  },
  {
   "cell_type": "markdown",
   "id": "681a9757-4c7b-4100-afcb-334169c93695",
   "metadata": {},
   "source": [
    "- In Python, control statements like `pass`, `continue`, and `break` are used to control the flow of execution within loops and conditional blocks.\n",
    "- Loop control statements change execution from their normal sequence.\n",
    "- When execution leaves a scope, all automatic objects that were created in that scope are destroyed. Python supports the following control statements. \n",
    "- They provide ways to control the execution of a loop or to handle certain situations.\r\n",
    "\r\n",
    "Here's an explanation of each, along with examples: "
   ]
  },
  {
   "cell_type": "markdown",
   "id": "8b7742d4-f693-44d8-ba71-14765892a7d7",
   "metadata": {},
   "source": [
    "### 1. `Pass` Statement  "
   ]
  },
  {
   "cell_type": "markdown",
   "id": "20c52753-da7d-4690-ac53-3250bf3cfe6b",
   "metadata": {},
   "source": [
    "- We use pass statements to write empty loops. Pass is also used for empty control statements, functions, and classes.\n",
    "- The pass statement is a no-operation statement.\r",
    "- \r\n",
    "It is a placeholder where syntactically some code is required, but no action needs to be take\n",
    "- The pass statement is a placeholder that does nothing. It’s often used when a statement is syntactically required but you don’t want to execute any code.\n",
    "-  It can be useful in scenarios where you are planning to implement functionality later or when defining minimal classes or functions.n."
   ]
  },
  {
   "cell_type": "code",
   "execution_count": 4,
   "id": "5b2aedfa-22e9-4056-a9fe-77342e90bd59",
   "metadata": {},
   "outputs": [
    {
     "name": "stdout",
     "output_type": "stream",
     "text": [
      "0\n",
      "1\n",
      "2\n",
      "3\n",
      "4\n",
      "5\n",
      "7\n",
      "8\n",
      "9\n"
     ]
    }
   ],
   "source": [
    "for i in range(10): \n",
    "    if i == 6:\n",
    "        pass \n",
    "    else:\n",
    "        print(i)"
   ]
  },
  {
   "cell_type": "markdown",
   "id": "3ae88839-9f19-421c-917f-e680478b26fb",
   "metadata": {},
   "source": [
    "In this example, when i is equal to 3, the pass statement is executed, and the loop continues without doing anything.\n",
    "\n",
    "It is often used when a statement is syntactically required, but you want to skip its execution."
   ]
  },
  {
   "cell_type": "code",
   "execution_count": 3,
   "id": "64bda66a-5faf-414d-8916-9d45bd5a9a97",
   "metadata": {},
   "outputs": [
    {
     "name": "stdout",
     "output_type": "stream",
     "text": [
      "Last Letter : u\n"
     ]
    }
   ],
   "source": [
    "for letter in 'Prathipati Devaraju':\n",
    "    pass\n",
    "print('Last Letter :', letter)"
   ]
  },
  {
   "cell_type": "markdown",
   "id": "cec7acf7-b25d-4777-837f-c0351182fa51",
   "metadata": {},
   "source": [
    "### 2.`break` Statement"
   ]
  },
  {
   "cell_type": "markdown",
   "id": "2a982439-96d5-413b-8cf2-7e21bb7795cc",
   "metadata": {},
   "source": [
    "- The continue statement is used within a loop to skip the remaining code in the current iteration and proceed with the next iteration of the loop.\n",
    "- It effectively \"jumps\" to the next iteration of the loop.\n",
    "- The break statement is used to exit a loop prematurely.\n",
    "- When a break statement is encountered, the loop terminates immediately, and the control is transferred to the statement immediately following the loop."
   ]
  },
  {
   "cell_type": "code",
   "execution_count": 5,
   "id": "2c7a43bb-418b-44b4-9379-62bee8468598",
   "metadata": {},
   "outputs": [
    {
     "name": "stdout",
     "output_type": "stream",
     "text": [
      "0\n",
      "1\n",
      "2\n",
      "3\n",
      "4\n",
      "5\n",
      "6\n"
     ]
    }
   ],
   "source": [
    "a = []\n",
    "for i in range(10): \n",
    "    if i == 7:\n",
    "        break  \n",
    "    print(i)"
   ]
  },
  {
   "cell_type": "markdown",
   "id": "b4c2d806-db08-488b-a87c-94e16273637b",
   "metadata": {},
   "source": [
    "In this example, the loop will print values from 0 to 4. When i becomes 5, the break statement is encountered, and the loop is terminated."
   ]
  },
  {
   "cell_type": "code",
   "execution_count": 9,
   "id": "0b5d945e-194f-497a-99c0-978a276a81dd",
   "metadata": {},
   "outputs": [
    {
     "name": "stdout",
     "output_type": "stream",
     "text": [
      "Current Letter : D\n"
     ]
    }
   ],
   "source": [
    "for letter in 'Prathipati Devaraju':\n",
    " \n",
    "    if letter == 'D' or letter == 'j':\n",
    "        break\n",
    "print('Current Letter :',letter)"
   ]
  },
  {
   "cell_type": "code",
   "execution_count": 12,
   "id": "f4907285-9cc9-4b84-a7dd-8a7712b6fffa",
   "metadata": {},
   "outputs": [
    {
     "name": "stdout",
     "output_type": "stream",
     "text": [
      "0\n",
      "1\n",
      "2\n",
      "3\n"
     ]
    }
   ],
   "source": [
    "a = []\n",
    "for i in range(20):\n",
    "    if i == 4 or i == 16:\n",
    "        break\n",
    "    print(i)"
   ]
  },
  {
   "cell_type": "markdown",
   "id": "7752a56a-6c9d-409b-8787-fe6878328b1e",
   "metadata": {},
   "source": [
    "### 3. `continue` Statement"
   ]
  },
  {
   "cell_type": "markdown",
   "id": "a7c33d02-e569-4115-a558-b97db025f8d0",
   "metadata": {},
   "source": [
    "- The continue statement is used to skip the rest of the code inside a loop for the current iteration and move to the next iteration.\n",
    "- It returns the control to the beginning of the loop. "
   ]
  },
  {
   "cell_type": "code",
   "execution_count": 14,
   "id": "9244c280-b975-4ee8-ae4c-1cfe193f1b17",
   "metadata": {},
   "outputs": [
    {
     "name": "stdout",
     "output_type": "stream",
     "text": [
      "0\n",
      "1\n",
      "2\n",
      "3\n",
      "4\n",
      "5\n",
      "6\n",
      "8\n",
      "9\n"
     ]
    }
   ],
   "source": [
    "for i in range(10):\n",
    "    if i == 7:\n",
    "        continue  \n",
    "    else:\n",
    "        print(i)"
   ]
  },
  {
   "cell_type": "markdown",
   "id": "bb4df7fb-c5cb-4d21-aecb-50791c2b20bd",
   "metadata": {},
   "source": [
    "In this example, the loop will print values from 0 to 4, skipping the printing step when i is equal to 2 due to the continue statement."
   ]
  },
  {
   "cell_type": "code",
   "execution_count": 17,
   "id": "05743774-192a-4e5a-a627-f389e9430a1a",
   "metadata": {},
   "outputs": [
    {
     "name": "stdout",
     "output_type": "stream",
     "text": [
      "Full Name : P\n",
      "Full Name : r\n",
      "Full Name : a\n",
      "Full Name : t\n",
      "Full Name : h\n",
      "Full Name : i\n",
      "Full Name : p\n",
      "Full Name : a\n",
      "Full Name : t\n",
      "Full Name : i\n",
      "Full Name : D\n",
      "Full Name : e\n",
      "Full Name : v\n",
      "Full Name : a\n",
      "Full Name : r\n",
      "Full Name : a\n",
      "Full Name : j\n",
      "Full Name : u\n"
     ]
    }
   ],
   "source": [
    "for letter in 'PrathipatiDevarajumo':\n",
    "    if letter == 'm' or letter == 'o':\n",
    "        continue\n",
    "    print('Full Name :', letter)"
   ]
  },
  {
   "cell_type": "code",
   "execution_count": 3,
   "id": "658a8aeb-6e6a-452a-aeea-a5ecb158ee9a",
   "metadata": {},
   "outputs": [
    {
     "name": "stdout",
     "output_type": "stream",
     "text": [
      "Full Name : P\n",
      "Full Name : r\n",
      "Full Name : a\n",
      "Full Name : t\n",
      "Full Name : h\n",
      "Full Name : i\n",
      "Full Name : p\n",
      "Full Name : a\n",
      "Full Name : t\n",
      "Full Name : i\n"
     ]
    }
   ],
   "source": [
    "for letter in 'PrathipatiDevarajumo':\n",
    "    if letter == 'D' or letter == 'o':\n",
    "        break\n",
    "    print('Full Name :', letter)"
   ]
  },
  {
   "cell_type": "code",
   "execution_count": null,
   "id": "ae0d9ac7-e0ca-4313-b794-3f39a9cb233c",
   "metadata": {},
   "outputs": [],
   "source": []
  }
 ],
 "metadata": {
  "kernelspec": {
   "display_name": "Python 3 (ipykernel)",
   "language": "python",
   "name": "python3"
  },
  "language_info": {
   "codemirror_mode": {
    "name": "ipython",
    "version": 3
   },
   "file_extension": ".py",
   "mimetype": "text/x-python",
   "name": "python",
   "nbconvert_exporter": "python",
   "pygments_lexer": "ipython3",
   "version": "3.12.4"
  }
 },
 "nbformat": 4,
 "nbformat_minor": 5
}
