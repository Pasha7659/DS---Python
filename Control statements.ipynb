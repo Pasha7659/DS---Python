{
 "cells": [
  {
   "cell_type": "markdown",
   "id": "aae3389d-c5dc-4f41-8421-3c37e9f4868c",
   "metadata": {},
   "source": [
    "## Control Statements"
   ]
  },
  {
   "cell_type": "markdown",
   "id": "a2053c1e-6e7b-4e91-897b-57190cf3d83e",
   "metadata": {},
   "source": [
    "- To Control the Flow of Output"
   ]
  },
  {
   "cell_type": "markdown",
   "id": "bdcef2e0-157a-44bd-875e-632558a82a7f",
   "metadata": {},
   "source": [
    "- The Control Statements are Classified into Three types\n",
    "- Pass\n",
    "- Continue\n",
    "- Break"
   ]
  },
  {
   "cell_type": "markdown",
   "id": "9d891ee7-38ba-4b89-8870-dce9fcd628df",
   "metadata": {},
   "source": [
    "### Pass"
   ]
  },
  {
   "cell_type": "markdown",
   "id": "07965742-9d00-41cf-aad6-2ddd191f0aae",
   "metadata": {},
   "source": [
    "### Example"
   ]
  },
  {
   "cell_type": "code",
   "execution_count": 14,
   "id": "c8180361-fd7e-47d8-ab74-0453d9861785",
   "metadata": {},
   "outputs": [
    {
     "name": "stdout",
     "output_type": "stream",
     "text": [
      "1\n",
      "2\n",
      "4\n",
      "5\n",
      "6\n",
      "7\n",
      "8\n",
      "9\n",
      "10\n"
     ]
    }
   ],
   "source": [
    "num=[1,2,3,4,5,6,7,8,9,10]\n",
    "for i in num:\n",
    "    if i==3:\n",
    "        pass\n",
    "    else:\n",
    "        print(i)"
   ]
  },
  {
   "cell_type": "code",
   "execution_count": 16,
   "id": "5ac73796-0e6f-4682-aba0-98db6a067dc5",
   "metadata": {},
   "outputs": [
    {
     "name": "stdout",
     "output_type": "stream",
     "text": [
      "10\n",
      "20\n",
      "56\n",
      "80\n",
      "47\n",
      "39\n",
      "100\n"
     ]
    }
   ],
   "source": [
    "num=[10,20,30,56,80,47,39,100]\n",
    "for i in num:\n",
    "    if i==30:\n",
    "        pass\n",
    "    else:\n",
    "        print(i)"
   ]
  },
  {
   "cell_type": "markdown",
   "id": "8a05a0a8-8c3d-4ea1-b192-6820682bedab",
   "metadata": {},
   "source": [
    "### Example for Continue"
   ]
  },
  {
   "cell_type": "code",
   "execution_count": 23,
   "id": "adbfda53-8870-44dd-9190-58131cba0e99",
   "metadata": {},
   "outputs": [
    {
     "name": "stdout",
     "output_type": "stream",
     "text": [
      "1\n",
      "2\n",
      "3\n",
      "4\n",
      "6\n",
      "7\n",
      "8\n",
      "9\n",
      "10\n"
     ]
    }
   ],
   "source": [
    "num=[1,2,3,4,5,6,7,8,9,10]\n",
    "for i in num:\n",
    "    if i==5:\n",
    "        continue\n",
    "    else:\n",
    "        print(i)"
   ]
  },
  {
   "cell_type": "code",
   "execution_count": 27,
   "id": "a02ca6a0-c609-4b3d-82ce-2daae0b72bcc",
   "metadata": {},
   "outputs": [
    {
     "name": "stdout",
     "output_type": "stream",
     "text": [
      "20\n",
      "30\n",
      "56\n",
      "80\n",
      "47\n",
      "39\n",
      "100\n"
     ]
    }
   ],
   "source": [
    "num=[10,20,30,56,80,47,39,100]\n",
    "for i in num:\n",
    "    if i==10:\n",
    "        continue\n",
    "    else:\n",
    "        print(i)"
   ]
  },
  {
   "cell_type": "markdown",
   "id": "a8a03829-330f-4ef6-9327-fcde9a806dfb",
   "metadata": {},
   "source": [
    "## Example for Break"
   ]
  },
  {
   "cell_type": "code",
   "execution_count": 31,
   "id": "33a84fa0-018d-4aec-83a9-f716119a5faa",
   "metadata": {},
   "outputs": [
    {
     "name": "stdout",
     "output_type": "stream",
     "text": [
      "1\n",
      "2\n",
      "3\n",
      "4\n",
      "5\n",
      "6\n",
      "7\n"
     ]
    }
   ],
   "source": [
    "num=[1,2,3,4,5,6,7,8,9,10]\n",
    "for i in num:\n",
    "    if i==8:\n",
    "        break\n",
    "    else:\n",
    "        print(i)"
   ]
  },
  {
   "cell_type": "code",
   "execution_count": 37,
   "id": "9e55e530-8e91-484b-9175-f6b5c4cea44f",
   "metadata": {},
   "outputs": [
    {
     "name": "stdout",
     "output_type": "stream",
     "text": [
      "10\n"
     ]
    }
   ],
   "source": [
    "num=[10,20,30,56,80,47,39,100]\n",
    "for i in num:\n",
    "    if i==20:\n",
    "        break\n",
    "    else:\n",
    "        print(i)"
   ]
  },
  {
   "cell_type": "code",
   "execution_count": 70,
   "id": "e2ef2596-52fd-4e1f-a3d9-f90a53fa0fe5",
   "metadata": {},
   "outputs": [
    {
     "name": "stdout",
     "output_type": "stream",
     "text": [
      "0\n",
      "1\n",
      "2\n",
      "3\n",
      "4\n",
      "6\n",
      "7\n",
      "8\n",
      "9\n",
      "10\n",
      "11\n",
      "13\n",
      "14\n",
      "15\n",
      "16\n",
      "17\n",
      "18\n",
      "19\n",
      "20\n"
     ]
    }
   ],
   "source": [
    "for i in range(0,21):\n",
    "    if i == 5:\n",
    "        pass\n",
    "    elif i==12:\n",
    "        continue\n",
    "    else:\n",
    "        print(i)\n",
    "    "
   ]
  },
  {
   "cell_type": "code",
   "execution_count": null,
   "id": "929e5d04-fcda-47fb-af28-9001dd980ac7",
   "metadata": {},
   "outputs": [],
   "source": []
  }
 ],
 "metadata": {
  "kernelspec": {
   "display_name": "Python 3 (ipykernel)",
   "language": "python",
   "name": "python3"
  },
  "language_info": {
   "codemirror_mode": {
    "name": "ipython",
    "version": 3
   },
   "file_extension": ".py",
   "mimetype": "text/x-python",
   "name": "python",
   "nbconvert_exporter": "python",
   "pygments_lexer": "ipython3",
   "version": "3.12.4"
  }
 },
 "nbformat": 4,
 "nbformat_minor": 5
}
