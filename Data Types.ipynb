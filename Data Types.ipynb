{
 "cells": [
  {
   "cell_type": "markdown",
   "id": "6e094c1c-5deb-49bc-8874-b2fb4eec4dc5",
   "metadata": {},
   "source": [
    "# DATA TYPES"
   ]
  },
  {
   "cell_type": "markdown",
   "id": "c9b072fe-dd13-492b-859c-1e18ebdb0d76",
   "metadata": {},
   "source": [
    "- Data Types Specifies a Type of value to perform a operation on that value.\n",
    "- There ara Two Types\n",
    "- Basic Data Type\n",
    "- Advanced Data Types"
   ]
  },
  {
   "cell_type": "markdown",
   "id": "c128dea7-44ea-45fd-a4e9-ee28506ab363",
   "metadata": {},
   "source": [
    "## Basic Data Types"
   ]
  },
  {
   "cell_type": "markdown",
   "id": "f7922de9-b780-4e9c-8f08-f0c71681621f",
   "metadata": {},
   "source": [
    "### Integer"
   ]
  },
  {
   "cell_type": "markdown",
   "id": "4d1f3c27-c897-4ef4-af34-d015fbd6369b",
   "metadata": {},
   "source": [
    "- The Number that can be a Positive,Negative and Zero .it can not have any fractional or Decimal number."
   ]
  },
  {
   "cell_type": "code",
   "execution_count": 10,
   "id": "b1788300-fa40-465d-a61c-61ebaae0027a",
   "metadata": {},
   "outputs": [
    {
     "name": "stdout",
     "output_type": "stream",
     "text": [
      "<class 'int'>\n"
     ]
    }
   ],
   "source": [
    "i=123\n",
    "print(type(i))"
   ]
  },
  {
   "cell_type": "markdown",
   "id": "d8d20756-da44-41af-9723-b38f2ce80215",
   "metadata": {},
   "source": [
    "### Float"
   ]
  },
  {
   "cell_type": "markdown",
   "id": "4050e613-00d8-4c1e-803a-30d4202211b9",
   "metadata": {},
   "source": [
    " - The Number that can be a Positive,Negative and Zero with  Decimal point."
   ]
  },
  {
   "cell_type": "code",
   "execution_count": 18,
   "id": "f5aa71af-0253-4fdf-a28a-6f96989e695e",
   "metadata": {},
   "outputs": [
    {
     "name": "stdout",
     "output_type": "stream",
     "text": [
      "<class 'float'>\n"
     ]
    }
   ],
   "source": [
    "j=5.88888\n",
    "print(type(j))"
   ]
  },
  {
   "cell_type": "markdown",
   "id": "23621719-7c24-4c3b-b59c-9d9924374d30",
   "metadata": {},
   "source": [
    "### Complex"
   ]
  },
  {
   "cell_type": "markdown",
   "id": "5089cd6c-ed95-4fa7-a90f-65e77ea0ae99",
   "metadata": {},
   "source": [
    "- The combination of real numbers and iamaginary number."
   ]
  },
  {
   "cell_type": "code",
   "execution_count": 24,
   "id": "e45d2b0a-9a61-49da-b2cd-666cf18585e6",
   "metadata": {},
   "outputs": [
    {
     "name": "stdout",
     "output_type": "stream",
     "text": [
      "<class 'complex'>\n"
     ]
    }
   ],
   "source": [
    "a=55588+32j\n",
    "print(type(a))"
   ]
  },
  {
   "cell_type": "markdown",
   "id": "ba19d63a-e717-4441-b8d4-3b914b79b2dc",
   "metadata": {},
   "source": [
    "## Examples for Basic Data Types"
   ]
  },
  {
   "cell_type": "code",
   "execution_count": 29,
   "id": "bbec67f9-aa83-4c96-8e3f-0de288884bc4",
   "metadata": {},
   "outputs": [
    {
     "name": "stdout",
     "output_type": "stream",
     "text": [
      "<class 'complex'>\n",
      "<class 'int'>\n",
      "<class 'float'>\n"
     ]
    }
   ],
   "source": [
    "a=25\n",
    "b=52.25\n",
    "c=78+56j\n",
    "print(type(c))\n",
    "print(type(a))\n",
    "print(type(b))"
   ]
  },
  {
   "cell_type": "code",
   "execution_count": 33,
   "id": "884a9445-a4fa-4734-85b0-43dca5fdaa5e",
   "metadata": {},
   "outputs": [
    {
     "name": "stdout",
     "output_type": "stream",
     "text": [
      "<class 'int'>\n",
      "<class 'float'>\n",
      "<class 'complex'>\n"
     ]
    }
   ],
   "source": [
    "a=-60\n",
    "b=-523.9565\n",
    "c=-536+89j\n",
    "print(type(a))\n",
    "print(type(b))\n",
    "print(type(c))"
   ]
  },
  {
   "cell_type": "code",
   "execution_count": 51,
   "id": "a4cf433f-1a45-4187-859b-df61a1d1f651",
   "metadata": {},
   "outputs": [
    {
     "name": "stdout",
     "output_type": "stream",
     "text": [
      "36.25\n",
      "<class 'float'>\n",
      "(-15.75+32j)\n",
      "<class 'complex'>\n",
      "-1125.0\n",
      "<class 'float'>\n",
      "(-4.25-32j)\n",
      "<class 'complex'>\n",
      "(18052500+22156000j)\n",
      "<class 'complex'>\n",
      "(-3199984.25-32j)\n",
      "<class 'complex'>\n",
      "<class 'int'>\n",
      "<class 'float'>\n",
      "<class 'complex'>\n",
      "<class 'float'>\n",
      "<class 'complex'>\n",
      "<class 'float'>\n",
      "<class 'complex'>\n",
      "<class 'complex'>\n",
      "<class 'complex'>\n"
     ]
    }
   ],
   "source": [
    "a=-20\n",
    "b=56.25\n",
    "c=-52+32j\n",
    "d=a+b\n",
    "e=a+b+c\n",
    "f=a*b\n",
    "g=a-c-d\n",
    "h=g*a*a*c*d\n",
    "i=a*a*a*a*a-e\n",
    "print(d)\n",
    "print(type(d))\n",
    "print(e)\n",
    "print(type(e))\n",
    "print(f)\n",
    "print(type(f))\n",
    "print(g)\n",
    "print(type(g))\n",
    "print(h)\n",
    "print(type(h))\n",
    "print(i)\n",
    "print(type(i))\n",
    "print(type(a))\n",
    "print(type(b))\n",
    "print(type(c))\n",
    "print(type(d))\n",
    "print(type(e))\n",
    "print(type(f))\n",
    "print(type(g))\n",
    "print(type(h))\n",
    "print(type(i))"
   ]
  },
  {
   "cell_type": "code",
   "execution_count": null,
   "id": "cb664c62-b4d3-45cb-9426-5b3a390d9314",
   "metadata": {},
   "outputs": [],
   "source": []
  }
 ],
 "metadata": {
  "kernelspec": {
   "display_name": "Python 3 (ipykernel)",
   "language": "python",
   "name": "python3"
  },
  "language_info": {
   "codemirror_mode": {
    "name": "ipython",
    "version": 3
   },
   "file_extension": ".py",
   "mimetype": "text/x-python",
   "name": "python",
   "nbconvert_exporter": "python",
   "pygments_lexer": "ipython3",
   "version": "3.12.4"
  }
 },
 "nbformat": 4,
 "nbformat_minor": 5
}
