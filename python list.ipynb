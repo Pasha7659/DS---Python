{
 "cells": [
  {
   "cell_type": "markdown",
   "id": "62176999-926b-4fc2-8f21-9c2b529b5acf",
   "metadata": {},
   "source": [
    "## LIST"
   ]
  },
  {
   "cell_type": "markdown",
   "id": "d5f8cfb0-5294-4edf-bc6f-bbcce27f810d",
   "metadata": {},
   "source": [
    "- List is a order of Collection of Elements, list can hold Multiple data types.\n",
    "- They are Defined by enclosing Elements in Square Brackets [],With Elements Seperated by Commas."
   ]
  },
  {
   "cell_type": "markdown",
   "id": "66ccf6e8-11f1-48ce-8684-1005828a7ef5",
   "metadata": {},
   "source": [
    "### Examples for Data Types"
   ]
  },
  {
   "cell_type": "code",
   "execution_count": 179,
   "id": "80c98368-d0a2-4188-8bcc-b6c12724a5bc",
   "metadata": {},
   "outputs": [
    {
     "name": "stdout",
     "output_type": "stream",
     "text": [
      "[1, 2, 3, 4, 5, 6, 7, 8, 9, [1, 2, 3, 4, 5, 6, 7, 8, 9, 1.1, 2.2, 3.3, 4.4, 5.5, 6.6, 7.7, 8.8, 9.9], ['pen', 'book', 'car', 'bus', 'auto', 'bike', 'train', 'dog', 'cat', 'hen', 'rat', 'bat', 'boll', 'box', 'tree', 'plant', 'rose', 'flower', 'A', 'B', 'C', 'D', 'E', 'F', 'G', 'H', 'I', 'J', 'K', 'L', 'M', 'N', 'pen', 'book', 'car', 'bus', 'auto', 'bike', 'train', 'dog', 'cat', 'hen', 'rat', 'bat', 'boll', 'box', 'tree', 'plant', 'rose', 'flower', 'A', 'B', 'C', 'D', 'E', 'F', 'G', 'H', 'I', 'J', 'K', 'L', 'M', 'N', 'pen', 'book', 'car', 'bus', 'auto', 'bike', 'train', 'dog', 'cat', 'hen', 'rat', 'bat', 'boll', 'box', 'tree', 'plant', 'rose', 'flower', 'A', 'B', 'C', 'D', 'E', 'F', 'G', 'H', 'I', 'J', 'K', 'L', 'M', 'N', 'pen', 'book', 'car', 'bus', 'auto', 'bike', 'train', 'dog', 'cat', 'hen', 'rat', 'bat', 'boll', 'box', 'tree', 'plant', 'rose', 'flower', 'A', 'B', 'C', 'D', 'E', 'F', 'G', 'H', 'I', 'J', 'K', 'L', 'M', 'N', 'pen', 'book', 'car', 'bus', 'auto', 'bike', 'train', 'dog', 'cat', 'hen', 'rat', 'bat', 'boll', 'box', 'tree', 'plant', 'rose', 'flower', 'A', 'B', 'C', 'D', 'E', 'F', 'G', 'H', 'I', 'J', 'K', 'L', 'M', 'N']]\n",
      "[1.1, 2.2, 3.3, 4.4, 5.5, 6.6, 7.7, 8.8, 9.9]\n",
      "[(1.1+1j), (2.2+2j), (6.3+3j), (4.4+4j), (5.5+5j), (6.6+6j), (7.7+7j), (8.8+8j), (9.9+9j)]\n",
      "[9, 8, 7, 6, 5, 4, 3, 2, 1, 0]\n",
      "[1, 1.2, 8, 35.6, 45.5, 8.6, 889, 4562.555, 89, 52.213]\n",
      "[(2.2+8j), 5.365, 85, 56.23, 74, (7+52j)]\n",
      "[-5, 8.5, -96, -5.36, (-6+8j), (-3-5j)]\n"
     ]
    }
   ],
   "source": [
    "int1 = [1,2,3,4,5,6,7,8,9]\n",
    "float=[1.1,2.2,3.3,4.4,5.5,6.6,7.7,8.8,9.9]\n",
    "complex=[1.1+1j,2.2+2j,3.3+3+3j,4.4+4j,5.5+5j,6.6+6j,7.7+7j,8.8+8j,9.9+9j]\n",
    "bool=[9,8,7,6,5,4,3,2,1,0]\n",
    "data=[1,1.2,8,35.6,45.5,8.6,889,4562.555,89,52.213]\n",
    "type=[2.2+8j,5.365,85,56.23,74,7+52j]\n",
    "name=[-5,8.5,-96,-5.36,-6+8j,-3-5j]\n",
    "print(int)\n",
    "print(float)\n",
    "print(complex)\n",
    "print(bool)\n",
    "print(data)\n",
    "print(type)\n",
    "print(name)\n",
    "\n",
    "         \n",
    "         "
   ]
  },
  {
   "cell_type": "markdown",
   "id": "ea72544a-137e-4a68-a660-3cd56404f170",
   "metadata": {},
   "source": [
    "## Access List Elements"
   ]
  },
  {
   "cell_type": "code",
   "execution_count": 9,
   "id": "123ea83a-e3d8-421c-aa3e-752490bd7d21",
   "metadata": {},
   "outputs": [
    {
     "name": "stdout",
     "output_type": "stream",
     "text": [
      "['pen', 'book', 'car', 'bus', 'auto', 'bike', 'train', 'dog', 'cat', 'hen', 'rat', 'bat', 'boll', 'box', 'tree', 'plant', 'rose', 'flower']\n",
      "pen\n",
      "bike\n",
      "bus\n",
      "rat\n",
      "plant\n",
      "box\n",
      "hen\n",
      "bat\n",
      "train\n",
      "bus\n"
     ]
    }
   ],
   "source": [
    "name=[\"pen\",\"book\",\"car\",\"bus\",\"auto\",\"bike\",\"train\",\"dog\",\"cat\",\"hen\",\"rat\",\"bat\",\"boll\",\"box\",\"tree\",\"plant\",\"rose\",\"flower\"]\n",
    "print(name)\n",
    "print(name[0])\n",
    "print(name[5])\n",
    "print(name[3])\n",
    "print(name[10])\n",
    "print(name[15])\n",
    "print(name[-5])\n",
    "print(name[-9])\n",
    "print(name[-7])\n",
    "print(name[-12])\n",
    "print(name[-15])\n"
   ]
  },
  {
   "cell_type": "markdown",
   "id": "bb2e52f8-1d1e-45b7-b4e7-63011c80ea66",
   "metadata": {},
   "source": [
    "## Slicing of List"
   ]
  },
  {
   "cell_type": "code",
   "execution_count": 73,
   "id": "ace57f6d-b1d0-425f-99e2-fc524cb0051f",
   "metadata": {},
   "outputs": [
    {
     "name": "stdout",
     "output_type": "stream",
     "text": [
      "['bike', 'train', 'dog']\n",
      "['pen']\n",
      "['bike', 'train', 'dog', 'cat', 'hen', 'rat', 'bat', 'boll']\n",
      "['book', 'car', 'bus', 'auto', 'bike', 'train', 'dog', 'cat', 'hen', 'rat', 'bat', 'boll', 'box', 'tree', 'plant', 'rose', 'flower']\n",
      "['pen', 'book', 'car', 'bus', 'auto', 'bike', 'train', 'dog', 'cat', 'hen', 'rat', 'bat', 'boll', 'box', 'tree']\n",
      "['car', 'bus', 'auto', 'bike']\n",
      "['book', 'car', 'bus', 'auto', 'bike']\n",
      "['book', 'car', 'bus', 'auto', 'bike', 'train', 'dog', 'cat']\n",
      "['bike', 'train', 'dog', 'cat', 'hen', 'rat', 'bat', 'boll', 'box']\n",
      "['hen', 'rat']\n",
      "['box', 'tree']\n",
      "['train', 'dog', 'cat', 'hen', 'rat', 'bat', 'boll', 'box', 'tree', 'plant', 'rose']\n"
     ]
    }
   ],
   "source": [
    "name=[\"pen\",\"book\",\"car\",\"bus\",\"auto\",\"bike\",\"train\",\"dog\",\"cat\",\"hen\",\"rat\",\"bat\",\"boll\",\"box\",\"tree\",\"plant\",\"rose\",\"flower\"]\n",
    "print(name[5:8])\n",
    "print(name[0:1])\n",
    "print(name[5:-5])\n",
    "print(name[1: ])\n",
    "print(name[:15])\n",
    "print(name[2:-12])\n",
    "print(name[1:6])\n",
    "print(name[1:9])\n",
    "print(name[5:14])\n",
    "print(name[9:11])\n",
    "print(name[-5:15])\n",
    "print(name[6:-1])\n",
    "\n"
   ]
  },
  {
   "cell_type": "code",
   "execution_count": 119,
   "id": "0f723c21-35bb-434b-a3af-0cf2c5f909a3",
   "metadata": {},
   "outputs": [
    {
     "name": "stdout",
     "output_type": "stream",
     "text": [
      "['J', 'K', 'L', 'M', 'N']\n",
      "['K', 'L', 'M']\n",
      "['E', 'F', 'G', 'H', 'I', 'J', 'K']\n"
     ]
    }
   ],
   "source": [
    "my_list = ['A','B','C','D','E','F','G','H','I','J','K','L','M','N']\n",
    "print(my_list[-5:])\n",
    "print(my_list[-4:-1])\n",
    "print(my_list[-10:-3])"
   ]
  },
  {
   "cell_type": "markdown",
   "id": "aa23c92f-0fc8-4d75-b3b2-79563455ae7b",
   "metadata": {},
   "source": [
    "### Concatenation"
   ]
  },
  {
   "cell_type": "code",
   "execution_count": 130,
   "id": "03812b86-cf7c-484e-81ba-a1667064fe52",
   "metadata": {},
   "outputs": [
    {
     "name": "stdout",
     "output_type": "stream",
     "text": [
      "[1, 2, 3, 4, 5, 6, 7, 8, 9, 1.1, 2.2, 3.3, 4.4, 5.5, 6.6, 7.7, 8.8, 9.9]\n"
     ]
    }
   ],
   "source": [
    "a=int+float\n",
    "print(a)"
   ]
  },
  {
   "cell_type": "code",
   "execution_count": 132,
   "id": "22e7fca5-fffa-46ed-af96-4becc4d0acd3",
   "metadata": {},
   "outputs": [
    {
     "name": "stdout",
     "output_type": "stream",
     "text": [
      "[1, 2, 3, 4, 5, 6, 7, 8, 9, (1.1+1j), (2.2+2j), (6.3+3j), (4.4+4j), (5.5+5j), (6.6+6j), (7.7+7j), (8.8+8j), (9.9+9j)]\n"
     ]
    }
   ],
   "source": [
    "b=int+complex\n",
    "print(b)"
   ]
  },
  {
   "cell_type": "code",
   "execution_count": 134,
   "id": "fa5be2d9-aee9-46fd-a22d-4a0d82c7b19c",
   "metadata": {},
   "outputs": [
    {
     "name": "stdout",
     "output_type": "stream",
     "text": [
      "[1, 2, 3, 4, 5, 6, 7, 8, 9, 1, 1.2, 8, 35.6, 45.5, 8.6, 889, 4562.555, 89, 52.213]\n"
     ]
    }
   ],
   "source": [
    "c=int+data\n",
    "print(c)"
   ]
  },
  {
   "cell_type": "code",
   "execution_count": 141,
   "id": "c93efeee-44bc-484d-a5f8-3ea10fd9e1d9",
   "metadata": {},
   "outputs": [
    {
     "name": "stdout",
     "output_type": "stream",
     "text": [
      "[1, 2, 3, 4, 5, 6, 7, 8, 9, 'pen', 'book', 'car', 'bus', 'auto', 'bike', 'train', 'dog', 'cat', 'hen', 'rat', 'bat', 'boll', 'box', 'tree', 'plant', 'rose', 'flower', 1, 2, 3, 4, 5, 6, 7, 8, 9, (1.1+1j), (2.2+2j), (6.3+3j), (4.4+4j), (5.5+5j), (6.6+6j), (7.7+7j), (8.8+8j), (9.9+9j)]\n"
     ]
    }
   ],
   "source": [
    "d=int+name+b\n",
    "print(d)"
   ]
  },
  {
   "cell_type": "code",
   "execution_count": 138,
   "id": "25203011-707a-4c2a-a8e1-e578e793301e",
   "metadata": {},
   "outputs": [
    {
     "name": "stdout",
     "output_type": "stream",
     "text": [
      "['pen', 'book', 'car', 'bus', 'auto', 'bike', 'train', 'dog', 'cat', 'hen', 'rat', 'bat', 'boll', 'box', 'tree', 'plant', 'rose', 'flower', 'A', 'B', 'C', 'D', 'E', 'F', 'G', 'H', 'I', 'J', 'K', 'L', 'M', 'N']\n"
     ]
    }
   ],
   "source": [
    "e=name+my_list\n",
    "print(e)"
   ]
  },
  {
   "cell_type": "markdown",
   "id": "232e3fdc-323f-4a52-88f5-9274a8430ad4",
   "metadata": {},
   "source": [
    "## Repatition"
   ]
  },
  {
   "cell_type": "markdown",
   "id": "ef88b8ca-808e-4ff6-8021-441d1239a909",
   "metadata": {},
   "source": [
    "m=e*5\n",
    "print(m)"
   ]
  },
  {
   "cell_type": "code",
   "execution_count": 147,
   "id": "2a71558a-b506-43f8-a773-a9871931a882",
   "metadata": {},
   "outputs": [
    {
     "name": "stdout",
     "output_type": "stream",
     "text": [
      "[1, 2, 3, 4, 5, 6, 7, 8, 9, 'pen', 'book', 'car', 'bus', 'auto', 'bike', 'train', 'dog', 'cat', 'hen', 'rat', 'bat', 'boll', 'box', 'tree', 'plant', 'rose', 'flower', 1, 2, 3, 4, 5, 6, 7, 8, 9, (1.1+1j), (2.2+2j), (6.3+3j), (4.4+4j), (5.5+5j), (6.6+6j), (7.7+7j), (8.8+8j), (9.9+9j), 1, 2, 3, 4, 5, 6, 7, 8, 9, 'pen', 'book', 'car', 'bus', 'auto', 'bike', 'train', 'dog', 'cat', 'hen', 'rat', 'bat', 'boll', 'box', 'tree', 'plant', 'rose', 'flower', 1, 2, 3, 4, 5, 6, 7, 8, 9, (1.1+1j), (2.2+2j), (6.3+3j), (4.4+4j), (5.5+5j), (6.6+6j), (7.7+7j), (8.8+8j), (9.9+9j)]\n"
     ]
    }
   ],
   "source": [
    "p=d*2\n",
    "print(p)"
   ]
  },
  {
   "cell_type": "code",
   "execution_count": 149,
   "id": "32a697f0-c8a5-4408-bd02-8eb14d245d33",
   "metadata": {},
   "outputs": [
    {
     "name": "stdout",
     "output_type": "stream",
     "text": [
      "[1, 2, 3, 4, 5, 6, 7, 8, 9, 1.1, 2.2, 3.3, 4.4, 5.5, 6.6, 7.7, 8.8, 9.9, 1, 2, 3, 4, 5, 6, 7, 8, 9, 1.1, 2.2, 3.3, 4.4, 5.5, 6.6, 7.7, 8.8, 9.9, 1, 2, 3, 4, 5, 6, 7, 8, 9, 1.1, 2.2, 3.3, 4.4, 5.5, 6.6, 7.7, 8.8, 9.9]\n"
     ]
    }
   ],
   "source": [
    "q=a*3\n",
    "print(q)"
   ]
  },
  {
   "cell_type": "markdown",
   "id": "d488388f-0251-41a2-9dcb-677780943e18",
   "metadata": {},
   "source": [
    "### Modifing the Elements in List"
   ]
  },
  {
   "cell_type": "code",
   "execution_count": 152,
   "id": "64372636-3cd8-49b1-b862-95f0330942a1",
   "metadata": {},
   "outputs": [
    {
     "name": "stdout",
     "output_type": "stream",
     "text": [
      "['pen', 'book', 'car', 'bus', 'auto', 'bike', 'train', 'dog', 'cat', 'hen', 'rat', 'bat', 'boll', 'box', 'tree', 'plant', 'rose', 'flower']\n"
     ]
    }
   ],
   "source": [
    "print(name)"
   ]
  },
  {
   "cell_type": "code",
   "execution_count": 156,
   "id": "cc222e20-38a1-4719-a8f6-f169be6dd2b7",
   "metadata": {},
   "outputs": [
    {
     "name": "stdout",
     "output_type": "stream",
     "text": [
      "['pasha', 'book', 'car', 'bus', 'auto', 'bike', 'train', 'dog', 'cat', 'hen', 'rat', 'bat', 'boll', 'box', 'tree', 'plant', 'rose', 'flower']\n"
     ]
    }
   ],
   "source": [
    "name[0]=\"pasha\"\n",
    "print(name)"
   ]
  },
  {
   "cell_type": "code",
   "execution_count": 158,
   "id": "c3d78024-a958-4c65-b496-fe528a693b44",
   "metadata": {},
   "outputs": [
    {
     "name": "stdout",
     "output_type": "stream",
     "text": [
      "['pasha', 'book', 'car', 'bus', 'auto', 'bike', 'train', 'dog', 'cat', 'hen', 'Hero', 'bat', 'boll', 'box', 'tree', 'plant', 'rose', 'flower']\n"
     ]
    }
   ],
   "source": [
    "name[10]=\"Hero\"\n",
    "print(name)"
   ]
  },
  {
   "cell_type": "code",
   "execution_count": 160,
   "id": "12d5b3e1-c6db-4506-a496-166427fa480e",
   "metadata": {},
   "outputs": [
    {
     "name": "stdout",
     "output_type": "stream",
     "text": [
      "['A', 'B', 'DATA SCIENCE', 'D', 'E', 'F', 'G', 'H', 'I', 'J', 'K', 'L', 'M', 'N']\n"
     ]
    }
   ],
   "source": [
    "my_list[2]=\"DATA SCIENCE\"\n",
    "print(my_list)"
   ]
  },
  {
   "cell_type": "markdown",
   "id": "cfccb51e-497b-405b-bba7-be13e5cf6d19",
   "metadata": {},
   "source": [
    "## List Methods"
   ]
  },
  {
   "cell_type": "markdown",
   "id": "ef21d318-4af1-4cd7-9612-05948d725270",
   "metadata": {},
   "source": [
    "### Append"
   ]
  },
  {
   "cell_type": "code",
   "execution_count": 166,
   "id": "2374eacf-c897-47d3-b18b-9b6a71befd2d",
   "metadata": {},
   "outputs": [
    {
     "name": "stdout",
     "output_type": "stream",
     "text": [
      "[1, 2, 3, 4, 5, 6, 7, 5, 33, -99, 0.22, 96, (-996+88j), ['pasha', 'book', 'car', 'bus', 'auto', 'bike', 'train', 'dog', 'cat', 'hen', 'Hero', 'bat', 'boll', 'box', 'tree', 'plant', 'rose', 'flower', [...]]]\n"
     ]
    }
   ],
   "source": [
    "number=[1,2,3,4,5,6,7,5,33,-99,.22,96,-996+88j]\n",
    "number.append(name)\n",
    "print(number)\n"
   ]
  },
  {
   "cell_type": "code",
   "execution_count": 168,
   "id": "c7490a3e-6881-47db-a551-3b20389ba7b3",
   "metadata": {},
   "outputs": [
    {
     "name": "stdout",
     "output_type": "stream",
     "text": [
      "['pasha', 'book', 'car', 'bus', 'auto', 'bike', 'train', 'dog', 'cat', 'hen', 'Hero', 'bat', 'boll', 'box', 'tree', 'plant', 'rose', 'flower', [...], ['pen', 'book', 'car', 'bus', 'auto', 'bike', 'train', 'dog', 'cat', 'hen', 'rat', 'bat', 'boll', 'box', 'tree', 'plant', 'rose', 'flower', 'A', 'B', 'C', 'D', 'E', 'F', 'G', 'H', 'I', 'J', 'K', 'L', 'M', 'N']]\n"
     ]
    }
   ],
   "source": [
    "name.append(e)\n",
    "print(name)"
   ]
  },
  {
   "cell_type": "code",
   "execution_count": 172,
   "id": "0e4c87b4-0f3a-400a-b59d-779b66aa733f",
   "metadata": {},
   "outputs": [
    {
     "name": "stdout",
     "output_type": "stream",
     "text": [
      "['pen', 'book', 'car', 'bus', 'auto', 'bike', 'train', 'dog', 'cat', 'hen', 'rat', 'bat', 'boll', 'box', 'tree', 'plant', 'rose', 'flower', 'A', 'B', 'C', 'D', 'E', 'F', 'G', 'H', 'I', 'J', 'K', 'L', 'M', 'N', 'pen', 'book', 'car', 'bus', 'auto', 'bike', 'train', 'dog', 'cat', 'hen', 'rat', 'bat', 'boll', 'box', 'tree', 'plant', 'rose', 'flower', 'A', 'B', 'C', 'D', 'E', 'F', 'G', 'H', 'I', 'J', 'K', 'L', 'M', 'N', 'pen', 'book', 'car', 'bus', 'auto', 'bike', 'train', 'dog', 'cat', 'hen', 'rat', 'bat', 'boll', 'box', 'tree', 'plant', 'rose', 'flower', 'A', 'B', 'C', 'D', 'E', 'F', 'G', 'H', 'I', 'J', 'K', 'L', 'M', 'N', 'pen', 'book', 'car', 'bus', 'auto', 'bike', 'train', 'dog', 'cat', 'hen', 'rat', 'bat', 'boll', 'box', 'tree', 'plant', 'rose', 'flower', 'A', 'B', 'C', 'D', 'E', 'F', 'G', 'H', 'I', 'J', 'K', 'L', 'M', 'N', 'pen', 'book', 'car', 'bus', 'auto', 'bike', 'train', 'dog', 'cat', 'hen', 'rat', 'bat', 'boll', 'box', 'tree', 'plant', 'rose', 'flower', 'A', 'B', 'C', 'D', 'E', 'F', 'G', 'H', 'I', 'J', 'K', 'L', 'M', 'N']\n"
     ]
    }
   ],
   "source": [
    "int.append(m)\n",
    "print(m)"
   ]
  },
  {
   "cell_type": "markdown",
   "id": "c2a49290-a6eb-4664-8201-e8e153104d86",
   "metadata": {},
   "source": [
    "### Extend"
   ]
  },
  {
   "cell_type": "code",
   "execution_count": 181,
   "id": "66e3d867-d916-414c-a174-d7fe3ce360a7",
   "metadata": {},
   "outputs": [
    {
     "name": "stdout",
     "output_type": "stream",
     "text": [
      "[1, 2, 3, 4, 5, 6, 7, 8, 9]\n"
     ]
    }
   ],
   "source": [
    "print(int1)"
   ]
  },
  {
   "cell_type": "code",
   "execution_count": 330,
   "id": "fa17913b-bde1-47c0-94a8-601035b440b4",
   "metadata": {},
   "outputs": [
    {
     "name": "stdout",
     "output_type": "stream",
     "text": [
      "[5, 6, 7, 8, 9, 10, 85, 566, 45, 2263, 52226, 996, 88, 99, 522]\n"
     ]
    }
   ],
   "source": [
    "z=[ 5, 6, 7, 8, 9]\n",
    "y=[10,85,566,45,2263,52226,996,88,99,522]\n",
    "z.extend(y)\n",
    "print(z)"
   ]
  },
  {
   "cell_type": "markdown",
   "id": "c7b37142-4bac-4d4a-b142-11cb1bcf8205",
   "metadata": {},
   "source": []
  },
  {
   "cell_type": "markdown",
   "id": "b2f85801-cde5-4870-b212-9a9a0e30b558",
   "metadata": {},
   "source": [
    "### Insert"
   ]
  },
  {
   "cell_type": "markdown",
   "id": "97129109-0a1a-4c0a-8718-9d3e1196e220",
   "metadata": {},
   "source": [
    "num=[8,9,0,6,4,3]\n",
    "num.insert(2,-5)\n",
    "print(num )\n",
    "num.insert(0,50)\n",
    "print(num)\n",
    "num.insert(5,0)\n",
    "print(num)"
   ]
  },
  {
   "cell_type": "markdown",
   "id": "d87bfd44-e067-44f4-a606-9c8cbb5f2ed5",
   "metadata": {},
   "source": [
    "### Remove"
   ]
  },
  {
   "cell_type": "code",
   "execution_count": 261,
   "id": "4bea72f8-7b7b-4a50-afb6-8b474b8558a9",
   "metadata": {},
   "outputs": [
    {
     "name": "stdout",
     "output_type": "stream",
     "text": [
      "[12, 20, 30, 80, 90, 50, 40, 2, 20, 52, 55, 45620, -96, 123, -96, -78, -78945, -123, -120, 50, -50, 50]\n",
      "[20, 30, 80, 90, 50, 40, 2, 20, 52, 55, 45620, -96, 123, -96, -78, -78945, -123, -120, 50, -50, 50]\n"
     ]
    }
   ],
   "source": [
    "num=[12,20,30,50,80,90,50,40,2,20,52,55,45620,-96,123,-96,-78,-78945,-123,-120,50,-50,50]\n",
    "num.remove(50)\n",
    "print(num)\n",
    "num.remove(12)\n",
    "print(num)\n"
   ]
  },
  {
   "cell_type": "markdown",
   "id": "8d157375-41a5-4c33-99e4-1edd0ae70c97",
   "metadata": {},
   "source": [
    "### POP"
   ]
  },
  {
   "cell_type": "code",
   "execution_count": 264,
   "id": "fc44d102-8f49-4a4a-8e50-1a895c23b8a9",
   "metadata": {},
   "outputs": [
    {
     "name": "stdout",
     "output_type": "stream",
     "text": [
      "[20, 30, 430, 50, 80, 90, 50]\n"
     ]
    }
   ],
   "source": [
    "num=[10,20,30,430,50,80,90,50,]\n",
    "num.pop(0)\n",
    "print(num)"
   ]
  },
  {
   "cell_type": "code",
   "execution_count": 266,
   "id": "bfca69aa-c7dd-4589-bee9-2aa3699c9a95",
   "metadata": {},
   "outputs": [
    {
     "name": "stdout",
     "output_type": "stream",
     "text": [
      "[20, 30, 430, 50, 80, 90]\n"
     ]
    }
   ],
   "source": [
    "num.pop(6)\n",
    "print(num)"
   ]
  },
  {
   "cell_type": "code",
   "execution_count": 268,
   "id": "cee8ee9f-1772-4dd9-aef5-e5920ef2547e",
   "metadata": {},
   "outputs": [
    {
     "name": "stdout",
     "output_type": "stream",
     "text": [
      "[20, 430, 50, 80, 90]\n"
     ]
    }
   ],
   "source": [
    "num.pop(-5)\n",
    "print(num)"
   ]
  },
  {
   "cell_type": "code",
   "execution_count": 270,
   "id": "87e65e9a-af73-437d-b036-ab2d06a62200",
   "metadata": {},
   "outputs": [
    {
     "name": "stdout",
     "output_type": "stream",
     "text": [
      "[20, 430, 50, 90]\n"
     ]
    }
   ],
   "source": [
    "num.pop(-2)\n",
    "print(num)"
   ]
  },
  {
   "cell_type": "markdown",
   "id": "808d4d8f-71a1-4e19-a884-6d3088f2f577",
   "metadata": {},
   "source": [
    "### Index"
   ]
  },
  {
   "cell_type": "code",
   "execution_count": 289,
   "id": "9303a4c2-ecc6-4f1d-914a-883b915fc912",
   "metadata": {},
   "outputs": [
    {
     "name": "stdout",
     "output_type": "stream",
     "text": [
      "5\n",
      "13\n",
      "14\n",
      "4\n"
     ]
    }
   ],
   "source": [
    "number=[10,20,30,40,50,60,70,80,60,90,30,50,20,1,0]\n",
    "index = number.index(60)\n",
    "print(index)\n",
    "index=number.index(1)\n",
    "print(index)\n",
    "index=number.index(0)\n",
    "print(index)\n",
    "index=number.index(50)\n",
    "print(index)"
   ]
  },
  {
   "cell_type": "markdown",
   "id": "3e87994e-b84d-4d19-a374-56c32da57285",
   "metadata": {},
   "source": [
    "### Count"
   ]
  },
  {
   "cell_type": "code",
   "execution_count": 298,
   "id": "60dd4312-3b95-4b47-ba63-41e4f711b40b",
   "metadata": {},
   "outputs": [
    {
     "name": "stdout",
     "output_type": "stream",
     "text": [
      "7\n",
      "3\n",
      "3\n"
     ]
    }
   ],
   "source": [
    "num =[1,1,2,12,12,12,1,2,2,1,1,23,1,23,13,23,1,22,]\n",
    "count=num.count(1)\n",
    "print(count)\n",
    "count=num.count(12)\n",
    "print(count)\n",
    "count=num.count(23)\n",
    "print(count)"
   ]
  },
  {
   "cell_type": "markdown",
   "id": "13bfceea-4a82-452f-908d-96dd1cb796f3",
   "metadata": {},
   "source": [
    "### Sort"
   ]
  },
  {
   "cell_type": "code",
   "execution_count": 301,
   "id": "6c061107-e6ee-4d73-b7d4-07ea59cde79c",
   "metadata": {},
   "outputs": [
    {
     "name": "stdout",
     "output_type": "stream",
     "text": [
      "[-89, -78, -66, 2, 2, 9, 9, 14, 23, 25, 45, 66, 85, 88]\n"
     ]
    }
   ],
   "source": [
    "num=[2,85,9,-66,-78,45,88,66,23,25,14,2,9,-89]\n",
    "num.sort()\n",
    "print(num)"
   ]
  },
  {
   "cell_type": "code",
   "execution_count": 303,
   "id": "10958667-04e4-4c5f-85eb-575adfe8562c",
   "metadata": {},
   "outputs": [
    {
     "name": "stdout",
     "output_type": "stream",
     "text": [
      "[-455623, -4556, -4424, -5, 5, 45, 112, 565, 5454, 78787]\n"
     ]
    }
   ],
   "source": [
    "num=[-5,-4556,-455623,-4424,565,78787,112,45,5,5454,]\n",
    "num.sort()\n",
    "print(num)"
   ]
  },
  {
   "cell_type": "markdown",
   "id": "743e2db0-256d-4294-9347-eaa236590e6a",
   "metadata": {},
   "source": [
    "### Reverse"
   ]
  },
  {
   "cell_type": "code",
   "execution_count": 320,
   "id": "abba7873-3155-445b-bc85-ad0b1b6a4232",
   "metadata": {},
   "outputs": [
    {
     "name": "stdout",
     "output_type": "stream",
     "text": [
      "['csk', 'rcb', 'pksl', 'mi', 'Lsg', 'CSK', 'Hyd', 'RCB']\n"
     ]
    }
   ],
   "source": [
    "x=[\"RCB\",\"Hyd\",\"CSK\",\"Lsg\",\"mi\",\"pksl\",\"rcb\",\"csk\"]\n",
    "x.reverse()\n",
    "print(x)"
   ]
  },
  {
   "cell_type": "code",
   "execution_count": 326,
   "id": "e61275da-7a16-4328-9d9f-f814c843f3df",
   "metadata": {},
   "outputs": [
    {
     "name": "stdout",
     "output_type": "stream",
     "text": [
      "['lock', 'map', 'book', 'pen']\n"
     ]
    }
   ],
   "source": [
    "namee=[\"pen\",\"book\",\"map\",\"lock\"]\n",
    "namee.reverse()\n",
    "print(namee)\n"
   ]
  },
  {
   "cell_type": "markdown",
   "id": "b74e8df8-5f11-4b8c-93da-d39238e6e452",
   "metadata": {
    "jp-MarkdownHeadingCollapsed": true
   },
   "source": [
    "### Maximum"
   ]
  },
  {
   "cell_type": "code",
   "execution_count": 337,
   "id": "34a869e3-fdcd-4ba2-9403-1e775e08d5cb",
   "metadata": {},
   "outputs": [
    {
     "name": "stdout",
     "output_type": "stream",
     "text": [
      "95\n",
      "95\n"
     ]
    }
   ],
   "source": [
    "num=[5,6,2,5,7,2,8,95,78,75,3,5,]\n",
    "print(max(num))\n",
    "a=max(num)\n",
    "print(a)\n"
   ]
  },
  {
   "cell_type": "markdown",
   "id": "294036ea-a7a4-436e-9aa5-a87380015d29",
   "metadata": {},
   "source": [
    "### Minimum"
   ]
  },
  {
   "cell_type": "code",
   "execution_count": 366,
   "id": "d189daf6-337c-4a93-b037-77cd56349613",
   "metadata": {},
   "outputs": [
    {
     "name": "stdout",
     "output_type": "stream",
     "text": [
      "-9999\n",
      "-9999\n"
     ]
    }
   ],
   "source": [
    "num=[310,850,78,556,12,21,-963,-999,-9999]\n",
    "b=min(num)\n",
    "print(b)\n",
    "\n",
    "print(min(num))"
   ]
  },
  {
   "cell_type": "code",
   "execution_count": null,
   "id": "834b80e1-e099-4c3d-a2ea-86786decd170",
   "metadata": {},
   "outputs": [],
   "source": []
  }
 ],
 "metadata": {
  "kernelspec": {
   "display_name": "Python 3 (ipykernel)",
   "language": "python",
   "name": "python3"
  },
  "language_info": {
   "codemirror_mode": {
    "name": "ipython",
    "version": 3
   },
   "file_extension": ".py",
   "mimetype": "text/x-python",
   "name": "python",
   "nbconvert_exporter": "python",
   "pygments_lexer": "ipython3",
   "version": "3.12.4"
  }
 },
 "nbformat": 4,
 "nbformat_minor": 5
}
