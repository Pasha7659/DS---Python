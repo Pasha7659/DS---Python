{
 "cells": [
  {
   "cell_type": "markdown",
   "id": "29b3531a-04c8-489e-bebf-04ea910402f6",
   "metadata": {},
   "source": [
    "# What is Python"
   ]
  },
  {
   "cell_type": "markdown",
   "id": "51b9270b-93d2-4dd2-967d-cf85f05dad95",
   "metadata": {},
   "source": [
    "- Python is a Programming Language Which is interpreated,object-orented and high level language.\n",
    "- Python is design philosophy emphasizes code readability with the use of significant indentation.\n",
    "- Python is a high level,intepreted programming language known for its simplicity and readability .it is widley used for a variety of applications,web development,data analysis and mechain learning."
   ]
  },
  {
   "cell_type": "markdown",
   "id": "e23c4e37-7a7f-4526-9e21-98c3e4596514",
   "metadata": {},
   "source": [
    "# History of Python\n",
    "\n",
    "\n"
   ]
  },
  {
   "cell_type": "markdown",
   "id": "26fba537-8f4f-4550-9f86-57106be83360",
   "metadata": {},
   "source": [
    "- Python is a programming language which is created by Guido Van Rossum and it was relesed in 1991.\n",
    "- It was designed with an emphasis on code readability,and allowing programmers to express concepts in fewer lines of code.\n",
    "- There are many python verssions,python 3.8 released on oct 14,2019,python 3.10 released on oct 04,2021,python 3.13 realesed on oct 01,2024,python 3.6.5 realesed on march 28,2018,python 3.5.6 realesed on Aug 02,2018,python 2.7.17 realeased on April 20,2020."
   ]
  },
  {
   "cell_type": "markdown",
   "id": "f7d3b0cd-4af7-4945-ad84-1cc7ac5d8e18",
   "metadata": {},
   "source": [
    "# Needs of Python"
   ]
  },
  {
   "cell_type": "markdown",
   "id": "33a86e6f-c103-4fbe-89dc-d600f12a2b57",
   "metadata": {},
   "source": [
    "- Python is used for Developing Websites and Software,task automation,data analysis and data Visualization.\n",
    "- Python has been adopeted by many non programmers such as accountants and scientists,for variety of every day tasks."
   ]
  },
  {
   "cell_type": "markdown",
   "id": "a2e2f20b-c93d-4dcf-9cdf-d9a443a14abb",
   "metadata": {},
   "source": [
    "# Applications of Python"
   ]
  },
  {
   "cell_type": "markdown",
   "id": "298beb30-5a71-46ac-8a54-e6b5f2d200e2",
   "metadata": {},
   "source": [
    "### Game Development"
   ]
  },
  {
   "cell_type": "markdown",
   "id": "1682a784-f444-488e-a898-8aa3aa548121",
   "metadata": {},
   "source": [
    "- python has growing gaming industry by providing exceptional option for game development.\n",
    "- popular games like Bridge commander and using wide range of functuions like add-ons .\n",
    "- The presence of popular 2D and 3D gaming libraries.\n"
   ]
  },
  {
   "cell_type": "markdown",
   "id": "0043cb2f-ecdc-4859-a8b6-66ba02cd08b4",
   "metadata": {},
   "source": [
    "### Audio and Visual Appliocations"
   ]
  },
  {
   "cell_type": "markdown",
   "id": "f519c092-936a-4197-8483-0a02a81d9124",
   "metadata": {},
   "source": [
    "- Audio and Vedio applications are undoubtedly the most amazing feature of python ,python has equipped with a lot of tools and libraries to accompish your task flawlessly\n",
    "- Applications that are coded in python including popular one like Netflix,Spotify and youtube ."
   ]
  },
  {
   "cell_type": "markdown",
   "id": "07ea587c-91f0-44a9-b722-775fe628ef7a",
   "metadata": {},
   "source": [
    "### Software Development"
   ]
  },
  {
   "cell_type": "markdown",
   "id": "d84b5c01-7ca5-44fc-948e-252bc1717d9a",
   "metadata": {},
   "source": [
    "Python is just the perfect option for software development popular applications like Google,Netflix and Reddit all use of python\n",
    "-platform independent\n",
    "- high compatibility\n",
    "- Enhanced code reusability and readability."
   ]
  },
  {
   "cell_type": "markdown",
   "id": "c1cd0c07-62d7-4ba5-bb6f-53b85158c4f2",
   "metadata": {},
   "source": [
    "# Keywords and Implementation "
   ]
  },
  {
   "cell_type": "markdown",
   "id": "58398b07-6351-47f6-b38b-6cb323395a15",
   "metadata": {},
   "source": [
    "- Keywords are used to built a logcs and they are reservsed words that can not be used as any identifiers such as function,data type,variables."
   ]
  },
  {
   "cell_type": "code",
   "execution_count": 15,
   "id": "61538446-90aa-4d4f-baf7-861606404b4d",
   "metadata": {},
   "outputs": [
    {
     "name": "stdout",
     "output_type": "stream",
     "text": [
      "['False', 'None', 'True', 'and', 'as', 'assert', 'async', 'await', 'break', 'class', 'continue', 'def', 'del', 'elif', 'else', 'except', 'finally', 'for', 'from', 'global', 'if', 'import', 'in', 'is', 'lambda', 'nonlocal', 'not', 'or', 'pass', 'raise', 'return', 'try', 'while', 'with', 'yield']\n"
     ]
    },
    {
     "data": {
      "text/plain": [
       "35"
      ]
     },
     "execution_count": 15,
     "metadata": {},
     "output_type": "execute_result"
    }
   ],
   "source": [
    "import keyword\n",
    "keywords = keyword.kwlist\n",
    "print(keywords)\n",
    "len(keywords)"
   ]
  },
  {
   "cell_type": "markdown",
   "id": "78e75f55-e3e7-481c-acce-23c6f7385e0d",
   "metadata": {},
   "source": [
    "## About Comments"
   ]
  },
  {
   "cell_type": "markdown",
   "id": "6bbaa6a6-c57e-40c4-9935-5310ac9f8c72",
   "metadata": {},
   "source": [
    "- comments are used to annotate the code, making it easier to understand for anyone reading it. They are ignored by the Python interpreter, which means they don't affect the execution of the program.\n",
    "- Use comments to explain why something is done, rather than what is being done. Good code should be self-explanatory.\n",
    "- Keep comments clear and concise.\n",
    "- Avoid redundant comments that restate what the code is doing.\n",
    "- Use comments to document important sections of code, functions, or complex logic.\n",
    "\n"
   ]
  },
  {
   "cell_type": "markdown",
   "id": "be7381fe-2961-4168-8a63-0678b5b43fea",
   "metadata": {},
   "source": [
    "## Variables and Rules"
   ]
  },
  {
   "cell_type": "markdown",
   "id": "991e565c-eec0-4a05-9356-205a6f883761",
   "metadata": {},
   "source": [
    "- A Variable is a Symbolica name in programing used to store the data that can be referenced through a program .Variables can hold different types of data.\r",
    "- \n",
    "Variables play a fundamental roie in making programs dynamic and flexible as they allow the storage and manipulation or reference of data in a program's runtime\r\n",
    "\r\n",
    "\r\n",
    "\r\n",
    "\r\n",
    "\r\n",
    "\r\n",
    "\r\n",
    "## Rules of Variables\r\n"
   ]
  },
  {
   "cell_type": "markdown",
   "id": "8b9b3a3e-2156-4d9f-a297-2a3b28a22608",
   "metadata": {},
   "source": [
    "- Variables can written in Alpha-Numaric Structure ,(A-Z) and (0-9).\n",
    "- Variables can not be Start  With Special Characters Except Underscore (-).\n",
    "- Variable can not Start with Any Digits.\n",
    "- Variables can not Start with any Keywords.\n",
    "- Variables are Case Sensitive."
   ]
  },
  {
   "cell_type": "markdown",
   "id": "52507902-5a31-4b70-b704-38c3f62c413f",
   "metadata": {},
   "source": [
    "## Examples"
   ]
  },
  {
   "cell_type": "code",
   "execution_count": 29,
   "id": "d886e664-9d3a-409b-806e-5b9cbc3c5a17",
   "metadata": {},
   "outputs": [
    {
     "name": "stdout",
     "output_type": "stream",
     "text": [
      "20\n",
      "50\n",
      "100\n",
      "170\n"
     ]
    }
   ],
   "source": [
    "i=20\n",
    "j=50\n",
    "k=100\n",
    "a=i+j+k\n",
    "print(i)\n",
    "print(j)\n",
    "print(k)\n",
    "print(a)"
   ]
  },
  {
   "cell_type": "code",
   "execution_count": null,
   "id": "3e12dbcf-7031-41a2-ae62-2c1784cf054d",
   "metadata": {},
   "outputs": [],
   "source": []
  }
 ],
 "metadata": {
  "kernelspec": {
   "display_name": "Python 3 (ipykernel)",
   "language": "python",
   "name": "python3"
  },
  "language_info": {
   "codemirror_mode": {
    "name": "ipython",
    "version": 3
   },
   "file_extension": ".py",
   "mimetype": "text/x-python",
   "name": "python",
   "nbconvert_exporter": "python",
   "pygments_lexer": "ipython3",
   "version": "3.12.4"
  }
 },
 "nbformat": 4,
 "nbformat_minor": 5
}
