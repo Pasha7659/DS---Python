{
 "cells": [
  {
   "cell_type": "markdown",
   "id": "f7401392-cd30-4361-ad2c-15251c9400ab",
   "metadata": {},
   "source": [
    "# Python Sets"
   ]
  },
  {
   "cell_type": "markdown",
   "id": "693d5eb2-b10e-49dd-9aa2-e3bccf276715",
   "metadata": {},
   "source": [
    "- In Python, a set is an unordered and unindexed collection of unique elements,it is defined using curly braces `{}` and seperated by comma `(,)`.\n",
    "- Sets are used to store multiple items in a single variable.\n",
    "- Sets are Unorderd, Mutable and do not allow duplicate elements.\n",
    "- Sets provide variety of methods for performing common.\n",
    "- Set operations like Union, Intersection, Difference and more. "
   ]
  },
  {
   "cell_type": "markdown",
   "id": "ddc46ab1-fac7-49c0-8750-c4207255da89",
   "metadata": {},
   "source": [
    "### *Note:"
   ]
  },
  {
   "cell_type": "markdown",
   "id": "9e2cd36c-e120-402f-821d-4e209d14ab3b",
   "metadata": {},
   "source": [
    "- Set items are unchangeable, but you can remove items and add new items.\n",
    "- Sets are unordered, so you cannot be sure in which order the items will appear.\n",
    "- Once a set is created, you cannot change its items, but you can remove items and add new items.\n",
    "- The values True and 1 are considered the same value in sets, and are treated as duplicates.\n",
    "- The values False and 0 are considered the same value in sets, and are treated as duplicates."
   ]
  },
  {
   "cell_type": "markdown",
   "id": "0d1e8238-8ec0-4ee8-9f69-b8f21ffb35eb",
   "metadata": {},
   "source": [
    "## Key Characteristics:"
   ]
  },
  {
   "cell_type": "markdown",
   "id": "5956603d-d28e-46e0-8563-07324803483e",
   "metadata": {},
   "source": [
    "- 1.`Unordered`: Items do not have a defined order, so they cannot be accessed by index.\n",
    "- 2.`Unique Elements`: A set cannot contain duplicate elements.\n",
    "- 3.`Mutable`: While the elements themselves must be immutable (e.g., integers, strings, tuples), the set can be modified by adding or removing elements.\n",
    "- 4.`Set Operations`: Sets support mathematical operations like union, intersection, difference, and symmetric difference."
   ]
  },
  {
   "cell_type": "markdown",
   "id": "198ed879-5a9d-4fa4-b2d5-7a84a3dbee17",
   "metadata": {},
   "source": [
    "### Create a Set:"
   ]
  },
  {
   "cell_type": "code",
   "execution_count": 1,
   "id": "1133916c-9fa0-4662-8146-358b141a72f5",
   "metadata": {},
   "outputs": [
    {
     "name": "stdout",
     "output_type": "stream",
     "text": [
      "{'apple', 'banana', 'pine appple'}\n"
     ]
    }
   ],
   "source": [
    "fruits = {\"apple\",\"banana\",\"pine appple\"}\n",
    "print(fruits)"
   ]
  },
  {
   "cell_type": "code",
   "execution_count": 5,
   "id": "d2b22d43-7800-44b9-830e-80bfe14274b8",
   "metadata": {},
   "outputs": [
    {
     "name": "stdout",
     "output_type": "stream",
     "text": [
      "{1, 2, 3, 4, 5}\n"
     ]
    }
   ],
   "source": [
    "numbers = {1,2,3,4,5}\n",
    "print(numbers)"
   ]
  },
  {
   "cell_type": "markdown",
   "id": "ec86e31f-2b0a-445c-bc3b-b316e174b1e7",
   "metadata": {},
   "source": [
    "#### Duplicates Not Allowed"
   ]
  },
  {
   "cell_type": "code",
   "execution_count": 6,
   "id": "2d440e57-5f66-420d-a7f3-fa1f9134b624",
   "metadata": {},
   "outputs": [
    {
     "name": "stdout",
     "output_type": "stream",
     "text": [
      "{'BMW', 'Mercedes-Benz', 'TATA', 'Mahindra'}\n"
     ]
    }
   ],
   "source": [
    "cars = {\"Mercedes-Benz\",\"BMW\",\"TATA\",\"Mahindra\",\"TATA\"}\n",
    "print(cars)"
   ]
  },
  {
   "cell_type": "code",
   "execution_count": 16,
   "id": "2285423b-888d-4d13-8d32-366d38ac065c",
   "metadata": {},
   "outputs": [
    {
     "name": "stdout",
     "output_type": "stream",
     "text": [
      "{False, True, 'ajay', 'sakku', 'deva', 'Gopal'}\n"
     ]
    }
   ],
   "source": [
    "thisset = {\"deva\", \"sakku\", \"ajay\", \"Gopal\", False, True, 0, 1}\n",
    "\n",
    "print(thisset)"
   ]
  },
  {
   "cell_type": "markdown",
   "id": "2fca7f7c-ec73-4b67-9cb5-227d00ead594",
   "metadata": {},
   "source": [
    "#### Get the Length of a Set"
   ]
  },
  {
   "cell_type": "code",
   "execution_count": 15,
   "id": "0a3f794e-0536-4ab1-8b4f-b658c2700983",
   "metadata": {},
   "outputs": [
    {
     "name": "stdout",
     "output_type": "stream",
     "text": [
      "6\n"
     ]
    }
   ],
   "source": [
    "thisset = {\"deva\", \"sakku\", \"ajay\", \"Gopal\", False, True, 0, 1}\n",
    "\n",
    "print(len(thisset))"
   ]
  },
  {
   "cell_type": "markdown",
   "id": "ee266823-6369-498b-841f-4717e79bd61c",
   "metadata": {},
   "source": [
    "### The set() Constructor"
   ]
  },
  {
   "cell_type": "code",
   "execution_count": 17,
   "id": "1bcf5ae7-ef6e-4893-a4d2-1df99bfce509",
   "metadata": {},
   "outputs": [
    {
     "name": "stdout",
     "output_type": "stream",
     "text": [
      "{'deva', 'Gopal', 'ajay', 'sakku'}\n"
     ]
    }
   ],
   "source": [
    "thisset = set((\"deva\", \"sakku\", \"ajay\", \"Gopal\"))\n",
    "\n",
    "print(thisset)"
   ]
  },
  {
   "cell_type": "markdown",
   "id": "2be39be9-1634-42cf-85d2-b490cc013556",
   "metadata": {},
   "source": [
    "## Add and Update Set item in python"
   ]
  },
  {
   "cell_type": "markdown",
   "id": "8e15be5b-ebce-4a88-a3ec-8f5a5b153e2e",
   "metadata": {},
   "source": [
    "- Sets are mutable. However, Since they are unorderd, indexing has no meaning.\n",
    "- We cannot access or change an element of a set using indexing or slicing.\n",
    "- set data type does not support on it.\n",
    "- In Python, you can add or update items in a set using the `.add()` and `.update()` methods."
   ]
  },
  {
   "cell_type": "markdown",
   "id": "e3ae6156-c410-498f-b150-a08ef6317c45",
   "metadata": {},
   "source": [
    "### 1. Adding an Item to a Set:"
   ]
  },
  {
   "cell_type": "markdown",
   "id": "cc7c5e94-db1c-4d02-9598-33eb0220a065",
   "metadata": {},
   "source": [
    "- The `.add()` method adds a single element to the set. If the element already exists in the set, it will not be added again (since sets only store unique elements)."
   ]
  },
  {
   "cell_type": "markdown",
   "id": "db8e80b6-7ed1-4b09-9ed8-05eb752e6f4c",
   "metadata": {},
   "source": [
    "#### Add Items"
   ]
  },
  {
   "cell_type": "markdown",
   "id": "ea396b3c-d019-42ab-b35a-07929974904a",
   "metadata": {},
   "source": [
    "- To add one item to a set use the `add()` method."
   ]
  },
  {
   "cell_type": "code",
   "execution_count": 2,
   "id": "0f914cb8-e3ce-4d7a-a014-f49740021c43",
   "metadata": {},
   "outputs": [
    {
     "name": "stdout",
     "output_type": "stream",
     "text": [
      "Initial Set: {32, 0, 2, 3, 4, 5, 7, 9, 11, 334, 54, 23}\n",
      "Updated Set: {32, 0, 2, 3, 4, 5, 7, 9, 11, 334, 14, 54, 23}\n"
     ]
    }
   ],
   "source": [
    "numbers = {9,5,7,2,54,3,2,5,32,5,23,4,2,9,0,2,11,334}\n",
    "print('Initial Set:',numbers)\n",
    "numbers.add(14)\n",
    "print('Updated Set:',numbers)"
   ]
  },
  {
   "cell_type": "code",
   "execution_count": 21,
   "id": "aa7f4182-03ce-462f-b2b8-e7f13d5a0baf",
   "metadata": {},
   "outputs": [
    {
     "name": "stdout",
     "output_type": "stream",
     "text": [
      "{'apple', 'banana', 'cherry', 'orange'}\n"
     ]
    }
   ],
   "source": [
    "Set = {\"apple\", \"banana\", \"cherry\"}\n",
    "\n",
    "Set.add(\"orange\")\n",
    "\n",
    "print(Set)"
   ]
  },
  {
   "cell_type": "markdown",
   "id": "58e7404e-6b18-49b6-84ae-43989334fe59",
   "metadata": {},
   "source": [
    "### 2. Updating a Set with Multiple Items:"
   ]
  },
  {
   "cell_type": "markdown",
   "id": "7aefb37c-cef2-4d0c-9730-2a1addffc8b9",
   "metadata": {},
   "source": [
    "- The update() method is used to update the set with items other collection types(list,tuple,set,etc..)\n",
    "- The `.update()` method can add multiple elements to a set"
   ]
  },
  {
   "cell_type": "markdown",
   "id": "190015fb-1990-48ac-b24e-8178aee5b4c9",
   "metadata": {},
   "source": [
    "#### Add Sets"
   ]
  },
  {
   "cell_type": "markdown",
   "id": "e399af15-fd29-410d-98e7-42da15aa59dd",
   "metadata": {},
   "source": [
    "- To add items from another set into the current set, use the `update()` method."
   ]
  },
  {
   "cell_type": "code",
   "execution_count": 24,
   "id": "93dbac86-68ac-45a0-ae8d-e855c3d98131",
   "metadata": {},
   "outputs": [
    {
     "name": "stdout",
     "output_type": "stream",
     "text": [
      "{'Technologies', 'microsoft', 'Google', 'apple', 'micron', 'Tech Mahindra'}\n"
     ]
    }
   ],
   "source": [
    "companies = {'microsoft','Technologies'}\n",
    "tech_companies = {'apple','Google','apple','micron','apple','Tech Mahindra'}\n",
    "update_companies = companies.update(tech_companies)\n",
    "print(companies)"
   ]
  },
  {
   "cell_type": "code",
   "execution_count": 25,
   "id": "8768cef9-9b76-4717-93db-dfe9fa9bc512",
   "metadata": {},
   "outputs": [
    {
     "name": "stdout",
     "output_type": "stream",
     "text": [
      "{'papaya', 'mango', 'pineapple'}\n"
     ]
    }
   ],
   "source": [
    "thisset = {\"apple\", \"banana\", \"cherry\"}\n",
    "fruits = {\"pineapple\", \"mango\", \"papaya\"}\n",
    "\n",
    "thisset.update(fruits)\n",
    "\n",
    "print(fruits)"
   ]
  },
  {
   "cell_type": "markdown",
   "id": "b3485c6e-2f2a-4a33-9455-83bbc01a771a",
   "metadata": {},
   "source": [
    "#### Add Any Iterable"
   ]
  },
  {
   "cell_type": "markdown",
   "id": "bed5a8c0-77b1-46ba-aa80-f6ad7a84e02b",
   "metadata": {},
   "source": [
    "- The object in the `update()` method does not have to be a set, it can be any iterable object (tuples, lists, dictionaries etc.)."
   ]
  },
  {
   "cell_type": "code",
   "execution_count": 32,
   "id": "3506de23-e8df-44d5-8ec2-265d3aeb078f",
   "metadata": {},
   "outputs": [
    {
     "name": "stdout",
     "output_type": "stream",
     "text": [
      "{'banana', 'orange', 'apple', 'kiwi', 'cherry'}\n"
     ]
    }
   ],
   "source": [
    "thisset = {\"apple\", \"banana\", \"cherry\"}\n",
    "mylist = [\"kiwi\", \"orange\", \"apple\"]\n",
    "\n",
    "thisset.update(mylist)\n",
    "\n",
    "print(thisset)"
   ]
  },
  {
   "cell_type": "markdown",
   "id": "431ce93e-a89f-4f63-afec-9ff2e2c722e8",
   "metadata": {},
   "source": [
    "### 3. Remove an Element from a Set:"
   ]
  },
  {
   "cell_type": "markdown",
   "id": "b2314913-5e64-4337-aae5-5cf00b54c053",
   "metadata": {},
   "source": [
    "- We use discard() method to remove the specified elemnt from a set."
   ]
  },
  {
   "cell_type": "markdown",
   "id": "dc838b9d-4d87-4e33-96d4-3d4c960663e8",
   "metadata": {},
   "source": [
    "languages = {'Swift','Java','Python','C++','C'}\n",
    "removed_value = languages.discard('Swift')\n",
    "print('Set after remove():',languages)"
   ]
  },
  {
   "cell_type": "markdown",
   "id": "b1e8fd8b-da59-484e-861c-73d3159e98fe",
   "metadata": {},
   "source": [
    "#### Remove Item"
   ]
  },
  {
   "cell_type": "markdown",
   "id": "784e32bd-77a6-4a99-90b9-dd3efd5a0981",
   "metadata": {},
   "source": [
    "- To remove an item in a set, use the `remove()`, or the `discard()` method."
   ]
  },
  {
   "cell_type": "code",
   "execution_count": 35,
   "id": "b1b04ecd-b2d5-43b4-8c1d-aa080a737ccb",
   "metadata": {},
   "outputs": [
    {
     "name": "stdout",
     "output_type": "stream",
     "text": [
      "{'apple', 'pine apple'}\n"
     ]
    }
   ],
   "source": [
    "thisset = {\"apple\", \"banana\", \"cherry\",\"pine apple\"}\n",
    "\n",
    "thisset.remove(\"banana\")\n",
    "thisset.discard(\"cherry\")\n",
    "\n",
    "print(thisset)"
   ]
  },
  {
   "cell_type": "markdown",
   "id": "ed3309e2-1e86-4282-8a9f-f6fde4a7b272",
   "metadata": {},
   "source": [
    "## Python Set Operations"
   ]
  },
  {
   "cell_type": "markdown",
   "id": "abacc319-f9c3-4b34-bcdf-a785a7431320",
   "metadata": {},
   "source": [
    "- Python Set Provides different built-in methods to perform mathematical set operations like union,intersection, difference, symmetric_difference."
   ]
  },
  {
   "cell_type": "markdown",
   "id": "319cc638-3873-429c-aaa9-93f959d130fc",
   "metadata": {},
   "source": [
    "## 1. Union"
   ]
  },
  {
   "cell_type": "markdown",
   "id": "0dd430a4-6ee1-4ebe-a02c-9c6abd0ed92c",
   "metadata": {},
   "source": [
    "- The `union()` method returns a new set with all items from both sets.\n",
    "- The union of two sets A and B include all the elements of set A and B.\n",
    "- Combines elements from two sets, removing duplicates."
   ]
  },
  {
   "attachments": {
    "2ee135c0-d38f-4b2b-ad1a-0d6c79d89f98.webp": {
     "image/webp": "[encoded data removed]"
    }
   },
   "cell_type": "markdown",
   "id": "f7ea8f79-d674-4e37-ad24-3e80838ed34d",
   "metadata": {},
   "source": [
    "![Union.webp](attachment:2ee135c0-d38f-4b2b-ad1a-0d6c79d89f98.webp)"
   ]
  },
  {
   "cell_type": "code",
   "execution_count": 36,
   "id": "da0f2562-49e0-485f-9496-7f397356bd28",
   "metadata": {},
   "outputs": [
    {
     "name": "stdout",
     "output_type": "stream",
     "text": [
      "union using |: {0, 1, 2, 3, 4, 5, 7, 8, 9}\n",
      "union using union(): {0, 1, 2, 3, 4, 5, 7, 8, 9}\n"
     ]
    }
   ],
   "source": [
    "c = {1,3,5,9,4}\n",
    "d = {0,2,4,7,8}\n",
    "print('union using |:', c|d)\n",
    "\n",
    "print('union using union():',c.union(d))"
   ]
  },
  {
   "cell_type": "code",
   "execution_count": 37,
   "id": "3d783a40-f307-4a74-94a8-1b4c02e55c15",
   "metadata": {},
   "outputs": [
    {
     "name": "stdout",
     "output_type": "stream",
     "text": [
      "{1, 2, 3, 'bananas', 'a', 'b', 'Elena', 'apple', 'c', 'John', 'cherry'}\n"
     ]
    }
   ],
   "source": [
    "set1 = {\"a\", \"b\", \"c\"}\n",
    "set2 = {1, 2, 3}\n",
    "set3 = {\"John\", \"Elena\"}\n",
    "set4 = {\"apple\", \"bananas\", \"cherry\"}\n",
    "\n",
    "myset = set1 | set2 | set3 |set4\n",
    "print(myset)"
   ]
  },
  {
   "cell_type": "markdown",
   "id": "361c7293-fcd7-495c-b579-d8f5d11fec44",
   "metadata": {},
   "source": [
    "## 2. Set Intersection"
   ]
  },
  {
   "cell_type": "markdown",
   "id": "f2c21922-d2b0-4c24-9f14-297486d2690f",
   "metadata": {},
   "source": [
    "- The `intersection()` method will return a new set, that only contains the items that are present in both sets.\n",
    "- The intersection of two sets A and B include the commomn elements between set A and B.\n",
    "- Returns common elements between two sets."
   ]
  },
  {
   "attachments": {
    "f9cd90df-4cbc-4d25-a0e3-8a62354d486c.png": {
     "image/png": "[encoded data removed]"
    }
   },
   "cell_type": "markdown",
   "id": "8aa37830-8953-4673-9ff7-4206080fbc83",
   "metadata": {},
   "source": [
    "![a-intersection-b.png](attachment:f9cd90df-4cbc-4d25-a0e3-8a62354d486c.png)"
   ]
  },
  {
   "cell_type": "markdown",
   "id": "9f7305d0-9c74-4f1e-89eb-b7a40a43f378",
   "metadata": {},
   "source": [
    "A = {1, 3, 5, 8, 4, 0}\n",
    "B = {1, 2, 3, 0, 5, 4}\n",
    "print('Intersection using &:', A & B)\n",
    "\n",
    "print('Intersection using intersection():',A.intersection(B))"
   ]
  },
  {
   "cell_type": "code",
   "execution_count": 39,
   "id": "2fe8777c-b106-4b19-bf9d-801f71a6374e",
   "metadata": {},
   "outputs": [
    {
     "name": "stdout",
     "output_type": "stream",
     "text": [
      "{False, 1, 'apple'}\n"
     ]
    }
   ],
   "source": [
    "set1 = {\"apple\", 1,  \"banana\", 0, \"cherry\"}\n",
    "set2 = {False, \"google\", 1, \"apple\", 2, True}\n",
    "\n",
    "set3 = set1.intersection(set2)\n",
    "\n",
    "print(set3)"
   ]
  },
  {
   "cell_type": "markdown",
   "id": "451c8a70-dc01-48b6-a5de-85bbd10860b3",
   "metadata": {},
   "source": [
    "## 3. Difference between Two Sets"
   ]
  },
  {
   "cell_type": "markdown",
   "id": "ba4aee19-cd11-4651-9976-95942541232d",
   "metadata": {},
   "source": [
    "- The `difference()` method will return a new set that will contain only the items from the first set that are not present in the other set.\n",
    "- The difference between two sets A and B include elements of set A that are not present on set B.\n",
    "- Returns elements that are in the first set but not in the second."
   ]
  },
  {
   "attachments": {
    "0f281d53-e3c8-40ba-b58f-4990c65da2ac.png": {
     "image/png": "[encoded data removed]"
    }
   },
   "cell_type": "markdown",
   "id": "290bc41d-6ccd-42f5-86f9-6a587873150b",
   "metadata": {},
   "source": [
    "![A-B set.png](attachment:0f281d53-e3c8-40ba-b58f-4990c65da2ac.png)"
   ]
  },
  {
   "cell_type": "code",
   "execution_count": 42,
   "id": "8254b655-a647-42bd-8215-eb70ad27491c",
   "metadata": {},
   "outputs": [
    {
     "name": "stdout",
     "output_type": "stream",
     "text": [
      "Difference using -: {0, 9, 3, 5}\n",
      "Difference using difference(): {0, 9, 3, 5}\n"
     ]
    }
   ],
   "source": [
    "A = {2, 3, 5, 9, 0, 4}\n",
    "B = {1, 2, 6, 4, 7}\n",
    "\n",
    "print('Difference using -:', A - B)\n",
    "\n",
    "print('Difference using difference():', A.difference(B))"
   ]
  },
  {
   "attachments": {
    "39798ef5-bcfb-4379-b7ea-686175c4709c.png": {
     "image/png": "[encoded data removed]"
    }
   },
   "cell_type": "markdown",
   "id": "e06b87f0-590e-4e68-8bd1-2bcff262c0e4",
   "metadata": {},
   "source": [
    "![B-A.png](attachment:39798ef5-bcfb-4379-b7ea-686175c4709c.png)"
   ]
  },
  {
   "cell_type": "code",
   "execution_count": 43,
   "id": "6bcca95f-2960-45d5-92c3-0a2581b43921",
   "metadata": {},
   "outputs": [
    {
     "name": "stdout",
     "output_type": "stream",
     "text": [
      "Difference using -: {1, 6, 7}\n",
      "Difference using difference(): {1, 6, 7}\n"
     ]
    }
   ],
   "source": [
    "print('Difference using -:', B - A)\n",
    "\n",
    "print('Difference using difference():',B.difference(A))"
   ]
  },
  {
   "cell_type": "markdown",
   "id": "59a2ebf8-3161-4772-af3d-9c9ef18a1782",
   "metadata": {},
   "source": [
    "## 4.Set Symmetric Differences"
   ]
  },
  {
   "cell_type": "markdown",
   "id": "e74e4911-5e20-41eb-a9ed-57394e44ee9c",
   "metadata": {},
   "source": [
    "- The `symmetric_difference()` method will keep only the elements that are NOT present in both sets.\n",
    "- The symmetric difference between two set A and B includes A and B without the common elements.\n",
    "- Returns elements that are in either of the sets, but not in both."
   ]
  },
  {
   "attachments": {
    "0c073bd8-89d2-4afe-8d85-954fcbf0e97f.jpg": {
     "image/jpeg": "[encoded data removed]"
    }
   },
   "cell_type": "markdown",
   "id": "9be4c104-42c3-4f1a-b658-546b365ae722",
   "metadata": {},
   "source": [
    "![symmetric-56a8fa9f5f9b58b7d0f6ea14.jpg](attachment:0c073bd8-89d2-4afe-8d85-954fcbf0e97f.jpg)\n"
   ]
  },
  {
   "cell_type": "code",
   "execution_count": 44,
   "id": "f146349c-cc7d-46b0-91ad-e5a79be81fc4",
   "metadata": {},
   "outputs": [
    {
     "name": "stdout",
     "output_type": "stream",
     "text": [
      "using ^: {1, 3, 5, 6, 7, 8, 9}\n",
      "using symmetric_difference(): {1, 3, 5, 6, 7, 8, 9}\n"
     ]
    }
   ],
   "source": [
    "A = {2, 3, 5, 7, 8, 4}\n",
    "B = {1, 2, 6, 4, 9}\n",
    "\n",
    "print('using ^:',A ^ B)\n",
    "\n",
    "print('using symmetric_difference():',A.symmetric_difference(B))"
   ]
  },
  {
   "cell_type": "markdown",
   "id": "c4947100-24a2-4eb0-b2e0-71331a7c3cc2",
   "metadata": {},
   "source": [
    "## Python - Set Methods"
   ]
  },
  {
   "cell_type": "markdown",
   "id": "edc27ae2-e318-4f96-a6ce-4a68f6b885a3",
   "metadata": {},
   "source": [
    "- Python has a set of built-in methods that you can use on sets."
   ]
  },
  {
   "cell_type": "markdown",
   "id": "53142170-aacc-483f-b06b-9a67d8295f35",
   "metadata": {},
   "source": [
    "| Method | Shortcut | Description |\n",
    "|--------|----------|-------------|\n",
    "| add() | | Adds an elemnet to the set|\n",
    "| clear() | | Removes all the elements from the set|\n",
    "| copy() | | Returns a copy of the set |\n",
    "| difference() | - | Returns a set contaning the difference between two or more sets|\n",
    "| difference_update() | -= | Removes the items in this set that are also included in another specified set|\n",
    "| discard() | | Remove the specified item |\n",
    "| intersection() | & | Returns a set, that is the intersection of two other sets |\n",
    "| intersection_update() | &= | Removes the items in this set that are not present in other, specified set(s)|\n",
    "| isdisjoint() | | Returns whether two sets have a intersection or not |\n",
    "| issubset() | <= | Returns whether another set contains this set or not |\n",
    "| | < | Returns whether all items in this set is present in other, specified set(s) |\n",
    "| issuperset() | >= | Returns whether this set conatins another set or not|\n",
    "| | > | Returns whether all items in other, specified set(s) is present in this set.|\n",
    "| pop() | | Removes an element from the set|\n",
    "| remove() | | Removes the specified element |\n",
    "| symmetric_difference()| ^ | Returns a set with the symmetric difference of two sets|\n",
    "| symmetric_difference_update()| ^=| Inserts the symmetric difference from this set and another|\n",
    "| union() | I | Return a set contaning the union of stes|\n",
    "| update() | I= |  Update the set with the union of this set and others |"
   ]
  },
  {
   "cell_type": "markdown",
   "id": "17f83b5f-354e-4b34-929a-3b5fbd52b635",
   "metadata": {},
   "source": [
    "### 1. `add()`:"
   ]
  },
  {
   "cell_type": "markdown",
   "id": "63ab0477-d1a6-461a-b785-ad81eaf47bb4",
   "metadata": {},
   "source": [
    "- The `add()` method adds an element to the set.\n",
    "\n",
    "- If the element already exists, the `add()` method does not add the element."
   ]
  },
  {
   "cell_type": "markdown",
   "id": "c477759b-d446-494c-ba80-792d28c388e7",
   "metadata": {},
   "source": [
    "### Syntax"
   ]
  },
  {
   "cell_type": "code",
   "execution_count": null,
   "id": "38296220-1314-4bef-bb4f-4f70e8ad729e",
   "metadata": {},
   "outputs": [],
   "source": [
    "set.add(elmnt)"
   ]
  },
  {
   "cell_type": "code",
   "execution_count": 45,
   "id": "a2ccc8a0-edc3-4454-ac8c-27cefc8c8e2e",
   "metadata": {},
   "outputs": [
    {
     "name": "stdout",
     "output_type": "stream",
     "text": [
      "{'Kakinada', 'Araku', 'Vizag', 'Ananthagiri Hills', 'Tirupati'}\n"
     ]
    }
   ],
   "source": [
    "visited_places = {\"Vizag\",\"Araku\",\"Ananthagiri Hills\",\"Tirupati\"}\n",
    "visited_places.add(\"Kakinada\")\n",
    "print(visited_places)"
   ]
  },
  {
   "cell_type": "markdown",
   "id": "dce793d1-68ca-4134-ade3-af95503a3b77",
   "metadata": {},
   "source": [
    "## 2.`clear()`:"
   ]
  },
  {
   "cell_type": "markdown",
   "id": "d6280761-379e-4f1b-b1a7-967758d5fa30",
   "metadata": {},
   "source": [
    "- The `clear()` method removes all elements in a set."
   ]
  },
  {
   "cell_type": "markdown",
   "id": "b8ad8ff9-ac0c-4b57-b5bf-4307782ac540",
   "metadata": {},
   "source": [
    "### Syntax"
   ]
  },
  {
   "cell_type": "code",
   "execution_count": null,
   "id": "81454692-87aa-4648-89b5-3af09aab6e9b",
   "metadata": {},
   "outputs": [],
   "source": [
    "set.clear()"
   ]
  },
  {
   "cell_type": "code",
   "execution_count": 47,
   "id": "0acb1172-15ce-4603-9b4d-8aeea47676ee",
   "metadata": {},
   "outputs": [
    {
     "name": "stdout",
     "output_type": "stream",
     "text": [
      "set()\n"
     ]
    }
   ],
   "source": [
    "names = {\"Devaraju\",\"Sakhlain\",\"Ajay\",\"Gopal\"}\n",
    "names.clear()\n",
    "print(names)"
   ]
  },
  {
   "cell_type": "markdown",
   "id": "9e5f1cee-048c-4225-8908-db5c3de55d85",
   "metadata": {},
   "source": [
    "### 3.`copy()`:"
   ]
  },
  {
   "cell_type": "markdown",
   "id": "73df7831-d7c2-4b1a-a2d5-f79e72e8b589",
   "metadata": {},
   "source": [
    "- The `copy()` method copies the set."
   ]
  },
  {
   "cell_type": "markdown",
   "id": "ee58ee50-23f7-4497-b87f-16665d410133",
   "metadata": {},
   "source": [
    "### Syntax"
   ]
  },
  {
   "cell_type": "code",
   "execution_count": null,
   "id": "a30a7308-2464-41ab-85e0-047676829851",
   "metadata": {},
   "outputs": [],
   "source": [
    "set.copy()"
   ]
  },
  {
   "cell_type": "code",
   "execution_count": 48,
   "id": "b224aa04-e873-4c2b-9dd1-192e2b23b8a7",
   "metadata": {},
   "outputs": [
    {
     "name": "stdout",
     "output_type": "stream",
     "text": [
      "{'Audi', 'Benz', 'Nexa', 'Honda', 'Maruthi Suziki'}\n"
     ]
    }
   ],
   "source": [
    "car_companies = {\"Nexa\",\"Maruthi Suziki\",\"Honda\",\"Audi\",\"Benz\"}\n",
    "\n",
    "car = car_companies.copy()\n",
    "\n",
    "print(car)"
   ]
  },
  {
   "cell_type": "markdown",
   "id": "a385e532-27aa-4f9c-8772-8c57e6b47f96",
   "metadata": {},
   "source": [
    "## 4.`difference()`:"
   ]
  },
  {
   "cell_type": "markdown",
   "id": "6d9cc35d-0f3c-4736-b18b-8434a99e6d95",
   "metadata": {},
   "source": [
    "- The `difference()` method returns a set that contains the difference between two sets."
   ]
  },
  {
   "cell_type": "markdown",
   "id": "fecd4fb3-2340-478c-8de4-73a17766c744",
   "metadata": {},
   "source": [
    "### Syntax"
   ]
  },
  {
   "cell_type": "code",
   "execution_count": null,
   "id": "9e2d233d-532c-4eaf-9b30-be1f745f3ab6",
   "metadata": {},
   "outputs": [],
   "source": [
    "set.difference(set1, set2 ... etc.)"
   ]
  },
  {
   "cell_type": "code",
   "execution_count": 50,
   "id": "cc65df18-b690-4a74-b7e0-96ef03d3bf52",
   "metadata": {},
   "outputs": [
    {
     "name": "stdout",
     "output_type": "stream",
     "text": [
      "{'orange', 'cherry', 'watermelon'}\n"
     ]
    }
   ],
   "source": [
    "fruits = {\"apple\",\"orange\",\"cherry\",\"watermelon\"}\n",
    "companies = {\"google\", \"microsoft\", \"apple\"}\n",
    "\n",
    "deva = fruits.difference(companies)\n",
    "print(deva)"
   ]
  },
  {
   "cell_type": "markdown",
   "id": "f4a6de00-3361-43b9-aefd-10c8d3921cc5",
   "metadata": {},
   "source": [
    "### 5.`difference_update()`:"
   ]
  },
  {
   "cell_type": "markdown",
   "id": "161f004a-57ec-4174-80e9-f13ba600f44f",
   "metadata": {},
   "source": [
    "- The `difference_update()` method removes the items that exist in both sets."
   ]
  },
  {
   "cell_type": "markdown",
   "id": "02fc3dc4-1177-475e-805c-91c5df3a169a",
   "metadata": {},
   "source": [
    "### Syntax"
   ]
  },
  {
   "cell_type": "code",
   "execution_count": null,
   "id": "02b02b45-ca48-436c-ac53-f902a5d963fe",
   "metadata": {},
   "outputs": [],
   "source": [
    "set.difference_update(set1, set2 ... etc.)"
   ]
  },
  {
   "cell_type": "code",
   "execution_count": 5,
   "id": "fc88f373-40cb-4e72-9870-214ead38a7b3",
   "metadata": {},
   "outputs": [
    {
     "name": "stdout",
     "output_type": "stream",
     "text": [
      "{'cherry', 'orange', 'watermelon'}\n"
     ]
    }
   ],
   "source": [
    "fruits = {\"apple\",\"orange\",\"cherry\",\"watermelon\"}\n",
    "companies = {\"google\", \"microsoft\", \"apple\"}\n",
    "\n",
    "fruits -= companies\n",
    "\n",
    "print(fruits)"
   ]
  },
  {
   "cell_type": "markdown",
   "id": "af143e7e-fcf7-46ac-8c9a-b70f9c898279",
   "metadata": {},
   "source": [
    "### 6. `discard()`:"
   ]
  },
  {
   "cell_type": "markdown",
   "id": "ceafe15c-0aa3-4ef5-b1db-368c265ff3a3",
   "metadata": {},
   "source": [
    "- The `discard()` method removes the specified item from the set."
   ]
  },
  {
   "cell_type": "markdown",
   "id": "c4046022-91ed-4e0b-8b84-22fa5d8027e8",
   "metadata": {},
   "source": [
    "### Syntax"
   ]
  },
  {
   "cell_type": "code",
   "execution_count": null,
   "id": "9d0e762b-8a12-4a68-97e9-7e0b46b12d65",
   "metadata": {},
   "outputs": [],
   "source": [
    "set.discard(value)"
   ]
  },
  {
   "cell_type": "code",
   "execution_count": 52,
   "id": "84fcb818-190b-4853-a230-2c36f517e4e9",
   "metadata": {},
   "outputs": [
    {
     "name": "stdout",
     "output_type": "stream",
     "text": [
      "{'gopal', 'ajay', 'sakku', 'deva'}\n"
     ]
    }
   ],
   "source": [
    "names = {\"deva\",\"raju\",\"sakku\",\"ajay\",\"gopal\"}\n",
    "\n",
    "names.discard(\"raju\")\n",
    "\n",
    "print(names)"
   ]
  },
  {
   "cell_type": "markdown",
   "id": "af0f9618-8cfc-4d57-924c-7f4508ac4aed",
   "metadata": {},
   "source": [
    "## 7. `intersection()`:"
   ]
  },
  {
   "cell_type": "markdown",
   "id": "1881f17a-f5af-4a89-bd90-44f41d3479f0",
   "metadata": {},
   "source": [
    "- The `intersection()` method returns a set that contains the similarity between two or more sets."
   ]
  },
  {
   "cell_type": "markdown",
   "id": "e64ba91e-c231-41ec-87c2-ed8145b3262b",
   "metadata": {},
   "source": [
    "### Syntax"
   ]
  },
  {
   "cell_type": "code",
   "execution_count": null,
   "id": "e3650fa0-d75b-4a75-9bcb-73bcc8236db0",
   "metadata": {},
   "outputs": [],
   "source": [
    "set.intersection(set1, set2 ... etc.)"
   ]
  },
  {
   "cell_type": "code",
   "execution_count": 6,
   "id": "e5625fd7-11df-4497-a8ee-db18efb33154",
   "metadata": {},
   "outputs": [
    {
     "name": "stdout",
     "output_type": "stream",
     "text": [
      "{'apple', 'google'}\n"
     ]
    }
   ],
   "source": [
    "fruits = {\"apple\",\"orange\",\"cherry\",\"watermelon\",\"google\"}\n",
    "companies = {\"google\", \"microsoft\", \"apple\"}\n",
    "\n",
    "deva = fruits.intersection(companies)\n",
    "\n",
    "print(deva)"
   ]
  },
  {
   "cell_type": "markdown",
   "id": "a132bb39-6810-404b-bfdd-889e632d99f7",
   "metadata": {},
   "source": [
    "## 8. `intersection_update()`:"
   ]
  },
  {
   "cell_type": "markdown",
   "id": "2cb58857-fbc6-4c66-9745-068d1444d1b5",
   "metadata": {},
   "source": [
    "- The `intersection_update()` method removes the items that is not present in both sets(or in all sets if the comparison is done between more than two sets)."
   ]
  },
  {
   "cell_type": "markdown",
   "id": "6a88b73a-1a8d-44aa-8099-1cdcd1e40e08",
   "metadata": {},
   "source": [
    "### Syntax"
   ]
  },
  {
   "cell_type": "code",
   "execution_count": null,
   "id": "c0e1362b-8b86-447c-9288-1ba45a902938",
   "metadata": {},
   "outputs": [],
   "source": [
    "set.intersection_update(set1, set2 ... etc)"
   ]
  },
  {
   "cell_type": "code",
   "execution_count": 58,
   "id": "4ae0d456-90e4-40ad-adf2-34e19d7a1338",
   "metadata": {},
   "outputs": [
    {
     "name": "stdout",
     "output_type": "stream",
     "text": [
      "{'apple'}\n"
     ]
    }
   ],
   "source": [
    "a = {\"apple\", \"banana\", \"cherry\"}\n",
    "b = {\"google\", \"microsoft\", \"apple\"}\n",
    "\n",
    "a &= b #a.intersection_update(b) \n",
    "\n",
    "print(a)"
   ]
  },
  {
   "cell_type": "markdown",
   "id": "d984474f-95cf-44ff-88c2-e637e6ba18de",
   "metadata": {},
   "source": [
    "### 9.`isdisjoint()`:"
   ]
  },
  {
   "cell_type": "markdown",
   "id": "f9eda929-1e6e-4283-ab79-932b465ad18c",
   "metadata": {},
   "source": [
    "- The `isdisjoint()` method returns True if none of the items are present in both sets, otherwise it returns False."
   ]
  },
  {
   "cell_type": "markdown",
   "id": "02c38b68-2e97-48c8-8ff2-30ee0bb9c8ea",
   "metadata": {},
   "source": [
    "### Syntax"
   ]
  },
  {
   "cell_type": "code",
   "execution_count": null,
   "id": "0f7a08a9-deae-43d2-8ecf-b2bb2c584a7c",
   "metadata": {},
   "outputs": [],
   "source": [
    "set.isdisjoint(set)"
   ]
  },
  {
   "cell_type": "code",
   "execution_count": 8,
   "id": "15a2af8a-44a3-4d64-a7ac-281ef485223b",
   "metadata": {},
   "outputs": [
    {
     "name": "stdout",
     "output_type": "stream",
     "text": [
      "True\n"
     ]
    }
   ],
   "source": [
    "colours = {\"White\",\"Yellow\",\"Blue\",\"Green\",\"Black\"}\n",
    "numbers = {1,2, 3, 4, 5}\n",
    "\n",
    "deva = colours.isdisjoint(numbers)\n",
    "\n",
    "print(deva)"
   ]
  },
  {
   "cell_type": "markdown",
   "id": "a3514d83-0e2d-463a-beb6-f7d9952b46ee",
   "metadata": {},
   "source": [
    "### 10. `issubset()`:"
   ]
  },
  {
   "cell_type": "markdown",
   "id": "d9513647-7733-46aa-810a-4e127fe30871",
   "metadata": {},
   "source": [
    "- The `issubset()` method returns True if all items in the set exists in the specified set, otherwise it returns False."
   ]
  },
  {
   "cell_type": "markdown",
   "id": "ba58df1e-83d1-4ef3-9e6b-22368fcd1b26",
   "metadata": {},
   "source": [
    "### Syntax"
   ]
  },
  {
   "cell_type": "code",
   "execution_count": null,
   "id": "513ff1f8-2e7d-4834-ad9c-76d05bdae326",
   "metadata": {},
   "outputs": [],
   "source": [
    "set.issubset(set1)"
   ]
  },
  {
   "cell_type": "code",
   "execution_count": 62,
   "id": "8dbe32b8-fb14-4597-b91f-93e8daedc85e",
   "metadata": {},
   "outputs": [
    {
     "name": "stdout",
     "output_type": "stream",
     "text": [
      "True\n"
     ]
    }
   ],
   "source": [
    "x = {\"a\", \"b\", \"c\"}\n",
    "y = {\"f\", \"e\", \"d\", \"c\", \"b\", \"a\"}\n",
    "\n",
    "z = x <= y\n",
    "\n",
    "print(z)"
   ]
  },
  {
   "cell_type": "markdown",
   "id": "96a4fb77-375c-47f9-a1b5-2257c9e497f7",
   "metadata": {},
   "source": [
    "### 11.`issuperset()`:"
   ]
  },
  {
   "cell_type": "markdown",
   "id": "c95b8855-3210-47d5-b759-710f084694da",
   "metadata": {},
   "source": [
    "- The `issuperset()` method returns True if all items in the specified set exists in the original set, otherwise it returns False."
   ]
  },
  {
   "cell_type": "markdown",
   "id": "74a2e131-6549-4285-8bc6-25822faefe25",
   "metadata": {},
   "source": [
    "### Syntax"
   ]
  },
  {
   "cell_type": "code",
   "execution_count": null,
   "id": "61300b9a-1988-498b-97c1-52f10244bfb4",
   "metadata": {},
   "outputs": [],
   "source": [
    "set.issuperset(set)"
   ]
  },
  {
   "cell_type": "code",
   "execution_count": 65,
   "id": "060ad9a7-136b-4476-8f35-0321467acfca",
   "metadata": {},
   "outputs": [
    {
     "name": "stdout",
     "output_type": "stream",
     "text": [
      "True\n"
     ]
    }
   ],
   "source": [
    "x = {\"f\", \"e\", \"d\", \"c\", \"b\", \"a\"}\n",
    "y = {\"a\", \"b\", \"c\"}\n",
    "\n",
    "z = x >= y\n",
    "\n",
    "print(z)"
   ]
  },
  {
   "cell_type": "markdown",
   "id": "0254ec82-319a-4027-bbaf-e785632834be",
   "metadata": {},
   "source": [
    "### 12.`pop()`:"
   ]
  },
  {
   "cell_type": "markdown",
   "id": "a99a69eb-5229-41bf-9944-877afe0ff3d1",
   "metadata": {},
   "source": [
    "- The `pop()` method removes a random item from the set.\n",
    "\n",
    "- This method returns the removed item."
   ]
  },
  {
   "cell_type": "markdown",
   "id": "095b65dd-e0d2-4719-9668-25a753dc939c",
   "metadata": {},
   "source": [
    "### Syntax"
   ]
  },
  {
   "cell_type": "code",
   "execution_count": null,
   "id": "7a74f3bf-c64d-4200-9d7a-dbd3d5b75ea4",
   "metadata": {},
   "outputs": [],
   "source": [
    "set.pop()"
   ]
  },
  {
   "cell_type": "code",
   "execution_count": 9,
   "id": "d0dbd71f-c724-456b-aa4d-bccc38b83b6e",
   "metadata": {},
   "outputs": [
    {
     "name": "stdout",
     "output_type": "stream",
     "text": [
      "{'Pulusar', 'Huntur350', 'ns200', 'Duke'}\n"
     ]
    }
   ],
   "source": [
    "bike_names = {\"ns200\",\"Huntur350\",\"Bullet\",\"Pulusar\",\"Duke\"}\n",
    "bike_names.pop()\n",
    "print(bike_names)"
   ]
  },
  {
   "cell_type": "markdown",
   "id": "d792b6dd-1f4a-4e37-9a20-ea56e989c068",
   "metadata": {},
   "source": [
    "### 13.`remove()`:"
   ]
  },
  {
   "cell_type": "markdown",
   "id": "32fad2d4-3263-4908-9123-1ff0e3747fe1",
   "metadata": {},
   "source": [
    "- The `remove()` method removes the specified element from the set."
   ]
  },
  {
   "cell_type": "markdown",
   "id": "b7e498ed-e0d0-4b94-ab39-23dd68412b95",
   "metadata": {},
   "source": [
    "### Syntax"
   ]
  },
  {
   "cell_type": "code",
   "execution_count": null,
   "id": "61195271-357d-4b2e-b754-9365f5c565e6",
   "metadata": {},
   "outputs": [],
   "source": [
    "set.remove(item)"
   ]
  },
  {
   "cell_type": "code",
   "execution_count": 70,
   "id": "73b3183b-f55c-4016-a3bc-500f5440618d",
   "metadata": {},
   "outputs": [
    {
     "name": "stdout",
     "output_type": "stream",
     "text": [
      "{1, 2, 4, 5}\n"
     ]
    }
   ],
   "source": [
    "my_set = {1, 2, 3, 4, 5}\n",
    "my_set.remove(3)\n",
    "print(my_set) "
   ]
  },
  {
   "cell_type": "markdown",
   "id": "01f1fda7-a05b-46a8-a115-ac58af19700e",
   "metadata": {},
   "source": [
    "### 14.`symmetric_difference()`:"
   ]
  },
  {
   "cell_type": "markdown",
   "id": "98d494a0-4e41-4d3a-ba04-10172e462885",
   "metadata": {},
   "source": [
    "- The `symmetric_difference()` method returns a set that contains all items from both set, but not the items that are present in both sets."
   ]
  },
  {
   "cell_type": "markdown",
   "id": "6ea88d45-8793-4f56-aa9f-dbc57470dcc6",
   "metadata": {},
   "source": [
    "### Syntax"
   ]
  },
  {
   "cell_type": "code",
   "execution_count": null,
   "id": "c9e52d06-fff0-4966-b9d1-ab0b079ab06e",
   "metadata": {},
   "outputs": [],
   "source": [
    "set.symmetric_difference(set1)"
   ]
  },
  {
   "cell_type": "code",
   "execution_count": null,
   "id": "e3025385-3af3-4a7e-92ae-aba3d44c78d9",
   "metadata": {},
   "outputs": [],
   "source": [
    "set ^ set1"
   ]
  },
  {
   "cell_type": "code",
   "execution_count": 71,
   "id": "a530913e-e90b-46ec-b7a1-4ac417c6146e",
   "metadata": {},
   "outputs": [
    {
     "name": "stdout",
     "output_type": "stream",
     "text": [
      "{1, 4}\n"
     ]
    }
   ],
   "source": [
    "set1 = {1, 2, 3}\n",
    "set2 = {2, 3, 4}\n",
    "\n",
    "symmetric_difference_set = set1 ^ set2\n",
    "print(symmetric_difference_set) "
   ]
  },
  {
   "cell_type": "markdown",
   "id": "c6939486-de02-47f0-b2fb-a3ae48432f33",
   "metadata": {},
   "source": [
    "### 15. `symmetric_difference_update()`:"
   ]
  },
  {
   "cell_type": "markdown",
   "id": "942cb145-3606-41da-8f04-3aac23fe1b1a",
   "metadata": {},
   "source": [
    "- The `symmetric_difference_update()` method updates the original set by removing items that are present in both sets, and inserting the other items."
   ]
  },
  {
   "cell_type": "markdown",
   "id": "9316a269-0caa-4dd7-b765-205692e9ebf6",
   "metadata": {},
   "source": [
    "### Syntax"
   ]
  },
  {
   "cell_type": "code",
   "execution_count": null,
   "id": "173b2b0e-53f7-4583-b73b-90078bdd90ca",
   "metadata": {},
   "outputs": [],
   "source": [
    "set.symmetric_difference_update(set1)"
   ]
  },
  {
   "cell_type": "code",
   "execution_count": null,
   "id": "328e2992-1eda-4421-a363-d8cded91f8f6",
   "metadata": {},
   "outputs": [],
   "source": [
    "set ^= set1"
   ]
  },
  {
   "cell_type": "code",
   "execution_count": 72,
   "id": "6c6e8032-5a63-4ab2-b427-7c8c0b144dbe",
   "metadata": {},
   "outputs": [
    {
     "name": "stdout",
     "output_type": "stream",
     "text": [
      "{'microsoft', 'banana', 'google', 'cherry'}\n"
     ]
    }
   ],
   "source": [
    "x = {\"apple\", \"banana\", \"cherry\"}\n",
    "y = {\"google\", \"microsoft\", \"apple\"}\n",
    "\n",
    "x ^= y\n",
    "\n",
    "print(x)"
   ]
  },
  {
   "cell_type": "markdown",
   "id": "f1039bd5-4131-4d32-83c5-3ca0bd76bc21",
   "metadata": {},
   "source": [
    "### 16.`union()`:"
   ]
  },
  {
   "cell_type": "markdown",
   "id": "81a8ce38-6b5a-4985-8892-735e8d10244a",
   "metadata": {},
   "source": [
    "- The `union()` method returns a set that contains all items from the original set, and all items from the specified set(s)."
   ]
  },
  {
   "cell_type": "markdown",
   "id": "e36b4354-b15d-48af-b084-5bb61f5829bf",
   "metadata": {},
   "source": [
    "### Syntax"
   ]
  },
  {
   "cell_type": "code",
   "execution_count": null,
   "id": "f9005cb7-3852-4bc0-b58b-31e072fa8022",
   "metadata": {},
   "outputs": [],
   "source": [
    "set.union(set1, set2...)"
   ]
  },
  {
   "cell_type": "code",
   "execution_count": null,
   "id": "390f32ab-91ff-4a4e-94fa-6ef23461d36e",
   "metadata": {},
   "outputs": [],
   "source": [
    "set | set1 | set2 ..."
   ]
  },
  {
   "cell_type": "code",
   "execution_count": 74,
   "id": "81d90d69-3e69-4c65-95ae-c72d6b536a3d",
   "metadata": {},
   "outputs": [
    {
     "name": "stdout",
     "output_type": "stream",
     "text": [
      "{'a', 'b', 'd', 'e', 'c', 'f'}\n"
     ]
    }
   ],
   "source": [
    "x = {\"a\", \"b\", \"c\"}\n",
    "y = {\"f\", \"d\", \"a\"}\n",
    "z = {\"c\", \"d\", \"e\"}\n",
    "\n",
    "g = x | y | z\n",
    "\n",
    "print(g)"
   ]
  },
  {
   "cell_type": "markdown",
   "id": "1c21a8f2-055d-43ef-a00f-0043df664eac",
   "metadata": {},
   "source": [
    "### 17.`update()`:"
   ]
  },
  {
   "cell_type": "markdown",
   "id": "c748df2a-73cb-4fea-a3ae-afcc905623dc",
   "metadata": {},
   "source": [
    "- The `update()` method updates the current set, by adding items from another set (or any other iterable)."
   ]
  },
  {
   "cell_type": "markdown",
   "id": "05db29aa-0fde-4faa-b2d6-f8ccf61b2abd",
   "metadata": {},
   "source": [
    "### Syntax"
   ]
  },
  {
   "cell_type": "code",
   "execution_count": null,
   "id": "cbe237b7-e550-48dc-944a-c589b71cd5db",
   "metadata": {},
   "outputs": [],
   "source": [
    "set.update(set1, set2 ...)"
   ]
  },
  {
   "cell_type": "code",
   "execution_count": null,
   "id": "73372ec7-eaf9-4601-ae59-cbc426d2cc9e",
   "metadata": {},
   "outputs": [],
   "source": [
    "set |= set1 | set2 ..."
   ]
  },
  {
   "cell_type": "code",
   "execution_count": 76,
   "id": "d2be8270-7b24-4118-8315-2054233e3a79",
   "metadata": {},
   "outputs": [
    {
     "name": "stdout",
     "output_type": "stream",
     "text": [
      "{'micra', 'microsoft', 'bluebird', 'banana', 'google', 'apple', 'cherry'}\n"
     ]
    }
   ],
   "source": [
    "x = {\"apple\", \"banana\", \"cherry\"}\n",
    "y = {\"google\", \"microsoft\", \"apple\"}\n",
    "z = {\"cherry\", \"micra\", \"bluebird\"}\n",
    "\n",
    "x |= y | z\n",
    "\n",
    "print(x)"
   ]
  }
 ],
 "metadata": {
  "kernelspec": {
   "display_name": "Python 3 (ipykernel)",
   "language": "python",
   "name": "python3"
  },
  "language_info": {
   "codemirror_mode": {
    "name": "ipython",
    "version": 3
   },
   "file_extension": ".py",
   "mimetype": "text/x-python",
   "name": "python",
   "nbconvert_exporter": "python",
   "pygments_lexer": "ipython3",
   "version": "3.12.4"
  }
 },
 "nbformat": 4,
 "nbformat_minor": 5
}
