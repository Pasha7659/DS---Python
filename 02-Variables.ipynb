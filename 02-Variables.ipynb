{
 "cells": [
  {
   "cell_type": "markdown",
   "id": "6053967f-f459-4272-b2d7-8712cc2dc2cd",
   "metadata": {},
   "source": [
    "## Python Variable (Identifier)"
   ]
  },
  {
   "cell_type": "markdown",
   "id": "d94b876b-43ce-4df1-8560-170fddf1944c",
   "metadata": {},
   "source": [
    "- Variables in Python are like named containers that store data values. They are essential for storing information that your program needs to use.\n",
    "- In Python, a variable is a name given to memory location.it's essentially a container that holds data. This data can be of various types, such as numbers, text, or more complex structures.\n"
   ]
  },
  {
   "cell_type": "markdown",
   "id": "63f86465-7c89-4d06-abee-4ee518eb8cf4",
   "metadata": {},
   "source": [
    "#### Multi Words Variable Names\n",
    "\n",
    "\n",
    "##### Camel Case:\n",
    "\n",
    "- Second and subsequent words are capitalized, to make word boundaries easier to see. (Presumably, it struck someone at some point that the capital letters strewn throughout the variable name vaguely resemble camel humps)\n",
    "- Example: numberOfCollegeGraduates"
   ]
  },
  {
   "cell_type": "markdown",
   "id": "f292804c-f930-4588-8052-98b64237f573",
   "metadata": {},
   "source": [
    "##### Pascal Case:\n",
    "\n",
    "- Identical to Camel Case, except the first word is also capitalized.\r",
    "- \n",
    "Example: NumberOfCollegeGraduates"
   ]
  },
  {
   "cell_type": "markdown",
   "id": "d57a74be-2d3e-4a01-be82-1aac16c724e7",
   "metadata": {},
   "source": [
    "##### Snake Case: \n",
    "\n",
    "- Words are separated by underscores.\r",
    "- \n",
    "Example: number_of_college_graduates"
   ]
  },
  {
   "cell_type": "markdown",
   "id": "b12034ad-0b42-4205-9af9-f306ad60e1c3",
   "metadata": {},
   "source": [
    "#### Key Points"
   ]
  },
  {
   "cell_type": "markdown",
   "id": "06535905-4611-4d1e-9b31-42046141b4b7",
   "metadata": {},
   "source": [
    "- Dynamic typing : This means the same variable can hold different data types at different times during program execution.\n",
    "- Assignment : Variables are assigned values using the equal sign (=)."
   ]
  },
  {
   "cell_type": "markdown",
   "id": "077170ce-7815-4ad8-b52b-331003115507",
   "metadata": {},
   "source": [
    "### Rules For Variables\n",
    "\n",
    "- Must start with a letter or underscore: my_variable, _secret are valid, but 123variable is not.\n",
    "- Can contain letters, numbers, and underscores : age25, user_name are valid.\n",
    "- Variables are not allowed Special Characters like @,$,&.. it's only accept under score (_)\n",
    "- Case-sensitive : age and Age are different variables.\n",
    "- Cannot be a reserved keyword : Avoid using Python keywords like if, else, for, etc.\n",
    "- Cannot Start with Digit"
   ]
  },
  {
   "cell_type": "markdown",
   "id": "fcc3d117-72e9-484b-883e-332a08036d71",
   "metadata": {},
   "source": [
    "##### Create 20 valid variable names"
   ]
  },
  {
   "cell_type": "code",
   "execution_count": 1,
   "id": "bef57850-7adf-41e9-8f63-93ccb2b16b8a",
   "metadata": {},
   "outputs": [
    {
     "name": "stdout",
     "output_type": "stream",
     "text": [
      "20\n",
      "75.5\n",
      "10\n",
      "Devaraju\n",
      "Hydrabad\n",
      "Data Science\n",
      "True\n",
      "False\n",
      "['Apple', 'Banana', 'Mango', 'Kiwi']\n",
      "[1, 2, 3, 4, 5]\n",
      "(10, 10)\n",
      "('Deva', 21, 'Hydrabad')\n",
      "{'name': 'DEVA', 'age': '20', 'city': 'Hydrabad'}\n",
      "{'title': 'Pyhton', 'author': 'Guido van Rossum'}\n",
      "{1, 2, 3, 4}\n",
      "{'i', 'o', 'u', 'a', 'e'}\n",
      "{'Academy': 'Teks Academy', 'Coursename': 'Data Science', 'Lecturer': 'Vamsi Sir'}\n",
      "SAI TIRUMALA NVR ENGINEERING COLLEGE\n",
      "Vamsi Sir\n",
      "{83, 52, 71}\n"
     ]
    }
   ],
   "source": [
    "#valid Variables\n",
    "age = 20\n",
    "weight = 75.5\n",
    "count = 10\n",
    "name = \"Devaraju\"\n",
    "city = \"Hydrabad\"\n",
    "message = \"Data Science\"\n",
    "is_student = True\n",
    "has_car = False\n",
    "fruits = [\"Apple\", \"Banana\", \"Mango\", \"Kiwi\"]\n",
    "numbers_list = [1,2,3,4,5]\n",
    "cooradiantes = (10,10)\n",
    "personal_info = (\"Deva\",21,\"Hydrabad\")\n",
    "person = {\"name\": \"DEVA\", \"age\": \"20\", \"city\": \"Hydrabad\"}\n",
    "book = {\"title\": \"Pyhton\", \"author\": \"Guido van Rossum\"}\n",
    "unique_numbers = {1,2,2,3,3,4}\n",
    "vowels = {\"a\", \"e\", \"i\", \"o\", \"u\"}\n",
    "deva = {\"Academy\": \"Teks Academy\", \"Coursename\": \"Data Science\", \"Lecturer\":\"Vamsi Sir\"}\n",
    "name_of_college = \"SAI TIRUMALA NVR ENGINEERING COLLEGE\"\n",
    "teks_academy_143 = \"Vamsi Sir\"\n",
    "set_123 = {52, 71,83}\n",
    "\n",
    "print(age)\n",
    "print(weight)\n",
    "print(count)\n",
    "print(name)\n",
    "print(city)\n",
    "print(message)\n",
    "print(is_student)\n",
    "print(has_car)\n",
    "print(fruits)\n",
    "print(numbers_list)\n",
    "print(cooradiantes)\n",
    "print(personal_info)\n",
    "print(person)\n",
    "print(book)\n",
    "print(unique_numbers)\n",
    "print(vowels)\n",
    "print(deva)\n",
    "print(name_of_college)\n",
    "print(teks_academy_143)\n",
    "print(set_123)"
   ]
  },
  {
   "cell_type": "markdown",
   "id": "6b1d75cf-6095-4e34-8c37-a964573c7cbd",
   "metadata": {},
   "source": [
    "#### Create 20 invalid variable names"
   ]
  },
  {
   "cell_type": "code",
   "execution_count": 2,
   "id": "34631f36-8521-4982-b707-0f782a21beed",
   "metadata": {},
   "outputs": [
    {
     "ename": "SyntaxError",
     "evalue": "invalid decimal literal (3541106275.py, line 1)",
     "output_type": "error",
     "traceback": [
      "\u001b[1;36m  Cell \u001b[1;32mIn[2], line 1\u001b[1;36m\u001b[0m\n\u001b[1;33m    1st_name = \"John\"\u001b[0m\n\u001b[1;37m    ^\u001b[0m\n\u001b[1;31mSyntaxError\u001b[0m\u001b[1;31m:\u001b[0m invalid decimal literal\n"
     ]
    }
   ],
   "source": [
    "1st_name = \"John\" \n",
    "-age = 30  \n",
    "my-variable = \"hello\"\n",
    "my variable = \"world\"\n",
    "class = \"Python\" \n",
    "for = 10 \n",
    "while = True \n",
    "if = False\n",
    "def = \"function\"  \n",
    "return = \"value\"  \n",
    "import = \"module\"  \n",
    "from = \"package\" \n",
    "global = \"scope\"\n",
    "nonlocal = \"scope\" \n",
    "lambda = \"function\" \n",
    "try = \"exception\" \n",
    "except = \"error\"  \n",
    "finally = \"always\" \n",
    "raise = \"exception\"\n",
    "@my-var = \"deva\"\n",
    "$FRUITS = \"Apple\"\n"
   ]
  },
  {
   "cell_type": "markdown",
   "id": "5f2da0ee-9f6f-4d94-8f49-965d4c0bcc29",
   "metadata": {},
   "source": [
    "#### type function()"
   ]
  },
  {
   "cell_type": "markdown",
   "id": "0ab98b2f-0797-4b23-9501-f41a86cb86d2",
   "metadata": {},
   "source": [
    "- The type() function is mostly used for debugging purposes. Two different types of arguments can be passed to type() function, single and three arguments. If a single argument type(obj) is passed, it returns the type of the given object. If three argument types (object, bases, dict) are passed, it returns a new type object. "
   ]
  },
  {
   "cell_type": "code",
   "execution_count": 3,
   "id": "8dd688f3-81ed-4ddb-990e-72f6118c14d3",
   "metadata": {},
   "outputs": [
    {
     "name": "stdout",
     "output_type": "stream",
     "text": [
      "<class 'int'>\n",
      "<class 'str'>\n",
      "<class 'tuple'>\n",
      "<class 'dict'>\n",
      "<class 'set'>\n"
     ]
    }
   ],
   "source": [
    "a = 71\n",
    "b = \"Data Science\"\n",
    "my_tuple = ('apple', 'banana', 'cherry')\n",
    "d = 3.14\n",
    "my_list = [1,2,3,4]\n",
    "my_dict = {\"name\": \"Sakku\", \"age\": 20}\n",
    "my_set = {1, 2, 3}\n",
    "print(type(a))\n",
    "print(type(b))\n",
    "print(type(my_tuple))\n",
    "print(type(my_dict))\n",
    "print(type(my_set))"
   ]
  },
  {
   "cell_type": "markdown",
   "id": "26e35cb3-a4ff-43f1-b324-f1bf1ec749b7",
   "metadata": {},
   "source": [
    "### Multiple Variable"
   ]
  },
  {
   "cell_type": "markdown",
   "id": "0bd06607-6b74-4fa0-91cf-b7b0663c99e9",
   "metadata": {},
   "source": [
    "##### Many Values to Multiple Variables\n",
    "\n",
    "- Python allows you to assign values to multiple variables in one line:"
   ]
  },
  {
   "cell_type": "code",
   "execution_count": 4,
   "id": "5353ab1c-f785-421a-8afd-88c49c660e03",
   "metadata": {},
   "outputs": [
    {
     "name": "stdout",
     "output_type": "stream",
     "text": [
      "Orange\n",
      "Banana\n",
      "Cherry\n"
     ]
    }
   ],
   "source": [
    "x, y, z = \"Orange\", \"Banana\", \"Cherry\"\n",
    "print(x)\n",
    "print(y)\n",
    "print(z)"
   ]
  },
  {
   "cell_type": "markdown",
   "id": "e7c57707-e569-45bb-b4cd-bdac263443e7",
   "metadata": {},
   "source": [
    "##### One Value to Multiple Variables\n",
    "\n",
    "- And you can assign the same value to multiple variables in one line:"
   ]
  },
  {
   "cell_type": "code",
   "execution_count": 6,
   "id": "1db0e36c-813a-47e4-911f-4c81f65fb266",
   "metadata": {},
   "outputs": [
    {
     "name": "stdout",
     "output_type": "stream",
     "text": [
      "Orange\n",
      "Orange\n",
      "Orange\n"
     ]
    }
   ],
   "source": [
    "x = y = z = \"Orange\"\n",
    "print(x)\n",
    "print(y)\n",
    "print(z)"
   ]
  }
 ],
 "metadata": {
  "kernelspec": {
   "display_name": "Python 3 (ipykernel)",
   "language": "python",
   "name": "python3"
  },
  "language_info": {
   "codemirror_mode": {
    "name": "ipython",
    "version": 3
   },
   "file_extension": ".py",
   "mimetype": "text/x-python",
   "name": "python",
   "nbconvert_exporter": "python",
   "pygments_lexer": "ipython3",
   "version": "3.12.4"
  }
 },
 "nbformat": 4,
 "nbformat_minor": 5
}
