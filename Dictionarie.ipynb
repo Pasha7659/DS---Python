{
 "cells": [
  {
   "cell_type": "markdown",
   "id": "023ea4a0-90c9-44f2-97c6-38f70a714829",
   "metadata": {},
   "source": [
    "## Dictionarie"
   ]
  },
  {
   "cell_type": "markdown",
   "id": "285eee44-e94c-4413-a00d-a45022d680f1",
   "metadata": {},
   "source": [
    "- It is in the Form of Key-Value Pair.\n",
    "- It is Represented by the  Colon {}.\n",
    "- It is Mutable\n",
    "- It is used for Maping."
   ]
  },
  {
   "cell_type": "markdown",
   "id": "1847ae5b-ea54-4f08-9e29-2b21d97f7ece",
   "metadata": {},
   "source": [
    "### Examples "
   ]
  },
  {
   "cell_type": "code",
   "execution_count": 12,
   "id": "6b538829-8e66-489a-8026-49cdbd051119",
   "metadata": {},
   "outputs": [
    {
     "name": "stdout",
     "output_type": "stream",
     "text": [
      "<class 'dict'>\n",
      "<class 'dict'>\n",
      "{'name': 'Pasha', 'age': 23, 'gender': 'Male'}\n",
      "{'fruit': 'Mango', 'taste': 'sweet', 'cost': 20}\n",
      "name\n",
      "age\n",
      "cost\n"
     ]
    }
   ],
   "source": [
    "student={'name':'Pasha','age':23,'gender':'Male'}\n",
    "fruits={'fruit':'Mango','taste':'sweet','cost':20}\n",
    "print(type(student))\n",
    "print(type(fruits))\n",
    "print(student)\n",
    "print(fruits)\n",
    "print('name')\n",
    "print('age')\n",
    "print('cost')"
   ]
  },
  {
   "cell_type": "markdown",
   "id": "355434f3-8e77-4a05-9d40-6a69e1d48b73",
   "metadata": {},
   "source": [
    "### Modefying"
   ]
  },
  {
   "cell_type": "code",
   "execution_count": 19,
   "id": "79b2112b-027d-4e1c-b163-e6cf998e5987",
   "metadata": {},
   "outputs": [
    {
     "name": "stdout",
     "output_type": "stream",
     "text": [
      "{'name': 'PASHA', 'age': 20, 'gender': 'Male'}\n"
     ]
    }
   ],
   "source": [
    "student={'name':'Pasha','age':23,'gender':'Male'}\n",
    "student['age']=20\n",
    "student['name']='PASHA'\n",
    "print(student)"
   ]
  },
  {
   "cell_type": "markdown",
   "id": "3c2588d6-031b-4540-824e-a31102b757a8",
   "metadata": {},
   "source": [
    "### Adding New"
   ]
  },
  {
   "cell_type": "code",
   "execution_count": 24,
   "id": "276ebb08-9164-46d2-ab6c-3c5ea5077d8f",
   "metadata": {},
   "outputs": [
    {
     "name": "stdout",
     "output_type": "stream",
     "text": [
      "{'name': 'Pasha', 'age': 23, 'gender': 'Male', 'class': 'Data Science'}\n"
     ]
    }
   ],
   "source": [
    "student={'name':'Pasha','age':23,'gender':'Male'}\n",
    "student['class']='Data Science'\n",
    "print(student)"
   ]
  },
  {
   "cell_type": "markdown",
   "id": "635e12a0-818a-4504-afe7-7b62d0a31eb6",
   "metadata": {},
   "source": [
    "## Methods"
   ]
  },
  {
   "cell_type": "markdown",
   "id": "d73806ba-272c-47b6-936c-e4f423428727",
   "metadata": {},
   "source": [
    "### Get"
   ]
  },
  {
   "cell_type": "code",
   "execution_count": 30,
   "id": "edef02be-55d3-474c-a4b6-5b5eecfce653",
   "metadata": {},
   "outputs": [
    {
     "name": "stdout",
     "output_type": "stream",
     "text": [
      "no grade\n",
      "23\n"
     ]
    }
   ],
   "source": [
    "student={'name':'Pasha','age':23,'gender':'Male'}\n",
    "result=student.get('grade','no grade')\n",
    "print(result)\n",
    "result=student.get('age','no age')\n",
    "print(result)"
   ]
  },
  {
   "cell_type": "markdown",
   "id": "e82dcbff-8bb3-4d9a-b6e3-193649c68631",
   "metadata": {},
   "source": [
    "### key"
   ]
  },
  {
   "cell_type": "code",
   "execution_count": 41,
   "id": "dd115b11-b7dd-4309-85f3-f8ea2684740c",
   "metadata": {},
   "outputs": [
    {
     "name": "stdout",
     "output_type": "stream",
     "text": [
      "dict_keys(['name', 'age', 'gender'])\n"
     ]
    }
   ],
   "source": [
    "student={'name':'Pasha','age':23,'gender':'Male'}\n",
    "keys=student.keys()\n",
    "print(keys)"
   ]
  },
  {
   "cell_type": "markdown",
   "id": "a0bbdf3c-c940-4c6a-b341-9afafde533da",
   "metadata": {},
   "source": [
    "### Values"
   ]
  },
  {
   "cell_type": "markdown",
   "id": "7960becb-2038-423c-8d79-f33b11463be2",
   "metadata": {},
   "source": [
    "student={'name':'Pasha','age':23,'gender':'Male'}\n",
    "values=student.values()\n",
    "print(values)"
   ]
  },
  {
   "cell_type": "markdown",
   "id": "a8925673-329b-40a8-bab5-5c0bf451f3f3",
   "metadata": {},
   "source": [
    "### Items"
   ]
  },
  {
   "cell_type": "code",
   "execution_count": 59,
   "id": "711086fb-33f0-4ed5-a3e5-d4a2be2d3ac7",
   "metadata": {},
   "outputs": [
    {
     "name": "stdout",
     "output_type": "stream",
     "text": [
      "dict_items([('name', 'Pasha'), ('age', 23), ('gender', 'Male')])\n",
      "dict_items([('fruit', 'Mango'), ('taste', 'sweet'), ('cost', 20)])\n"
     ]
    }
   ],
   "source": [
    "student={'name':'Pasha','age':23,'gender':'Male'}\n",
    "fruits={'fruit':'Mango','taste':'sweet','cost':20}\n",
    "a=student.items()\n",
    "b=fruits.items()\n",
    "print(a)\n",
    "print(b)"
   ]
  },
  {
   "cell_type": "markdown",
   "id": "b0f981d6-4d38-4208-bf5f-c2503bf82f67",
   "metadata": {},
   "source": [
    "### POP"
   ]
  },
  {
   "cell_type": "code",
   "execution_count": 64,
   "id": "8ee14254-3db6-4a72-8d98-dcec6f78048c",
   "metadata": {},
   "outputs": [
    {
     "name": "stdout",
     "output_type": "stream",
     "text": [
      "Mango\n"
     ]
    }
   ],
   "source": [
    "fruits={'fruit':'Mango','taste':'sweet','cost':20}\n",
    "result=fruits.pop('fruit')\n",
    "print(result)"
   ]
  },
  {
   "cell_type": "code",
   "execution_count": 66,
   "id": "10998d89-4f0e-43c2-800f-7507a3f1e6e5",
   "metadata": {},
   "outputs": [
    {
     "name": "stdout",
     "output_type": "stream",
     "text": [
      "('cost', 20)\n"
     ]
    }
   ],
   "source": [
    "fruits={'fruit':'Mango','taste':'sweet','cost':20}\n",
    "result=fruits.popitem()\n",
    "print(result)"
   ]
  },
  {
   "cell_type": "markdown",
   "id": "5e2842d9-47aa-476c-97dc-0980f10443dd",
   "metadata": {},
   "source": [
    "### Update"
   ]
  },
  {
   "cell_type": "code",
   "execution_count": 69,
   "id": "622baa9d-c20d-4911-be2c-47736be843d8",
   "metadata": {},
   "outputs": [
    {
     "name": "stdout",
     "output_type": "stream",
     "text": [
      "{'fruit': 'Mango', 'taste': 'sweet', 'cost': 20, 'colour': 'yellow'}\n"
     ]
    }
   ],
   "source": [
    "fruits={'fruit':'Mango','taste':'sweet','cost':20}\n",
    "new={'fruit':'Mango','taste':'sweet','cost':20,'colour':'yellow'}\n",
    "fruits.update(new)\n",
    "print(fruits)\n"
   ]
  },
  {
   "cell_type": "code",
   "execution_count": null,
   "id": "c8b03282-43d1-4151-b046-3c2a3afee609",
   "metadata": {},
   "outputs": [],
   "source": []
  }
 ],
 "metadata": {
  "kernelspec": {
   "display_name": "Python 3 (ipykernel)",
   "language": "python",
   "name": "python3"
  },
  "language_info": {
   "codemirror_mode": {
    "name": "ipython",
    "version": 3
   },
   "file_extension": ".py",
   "mimetype": "text/x-python",
   "name": "python",
   "nbconvert_exporter": "python",
   "pygments_lexer": "ipython3",
   "version": "3.12.4"
  }
 },
 "nbformat": 4,
 "nbformat_minor": 5
}
