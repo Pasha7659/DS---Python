{
 "cells": [
  {
   "cell_type": "markdown",
   "id": "695ffb5a-80f8-4657-b835-d2390f3c5819",
   "metadata": {},
   "source": [
    "# Variables"
   ]
  },
  {
   "cell_type": "markdown",
   "id": "a3af8965-edcb-477b-a962-2884095ac116",
   "metadata": {},
   "source": [
    "- A Variable is a Symbolica name in programing used to store the data that can be referenced through a program .Variables can hold different types of data.\n",
    "- Variables play a fundamental roie in making programs dynamic and flexible as they allow the storage and manipulation or reference of data in a program's runtime"
   ]
  },
  {
   "cell_type": "markdown",
   "id": "cd7f8613-856d-4fa5-9e64-d7faf45328f8",
   "metadata": {},
   "source": [
    "## Rules of Variables"
   ]
  },
  {
   "cell_type": "markdown",
   "id": "f32643b0-2cf9-4a4b-a664-cbe5fb407585",
   "metadata": {},
   "source": [
    "- Variables can written in Alpha-Numaric Structure ,(A-Z) and (0-9).\n",
    "- Variables can not be Start  With Special Characters Except Underscore (-).\n",
    "- Variable can not Start with Any Digits.\n",
    "- Variables can not Start with any Keywords.\n",
    "- Variables are Case Sensitive."
   ]
  },
  {
   "cell_type": "markdown",
   "id": "af9a8c8b-aa3f-4774-9fe2-3346d0fada80",
   "metadata": {},
   "source": [
    "## Types of Variables"
   ]
  },
  {
   "cell_type": "markdown",
   "id": "ddc1de7c-13cd-4081-9742-73f69e1628d9",
   "metadata": {},
   "source": [
    "- There are two types of Variables \n",
    "- Single Variable\n",
    "- Multi Variable"
   ]
  },
  {
   "cell_type": "markdown",
   "id": "703b9a7f-06fc-4ad4-b20c-3a1001c422f0",
   "metadata": {},
   "source": [
    "## Single Variable"
   ]
  },
  {
   "cell_type": "markdown",
   "id": "c6a1ab7c-3703-425c-b45b-9b9a971b027b",
   "metadata": {},
   "source": [
    "- Single Variable Refers to the Declaration of one variable to Store Data."
   ]
  },
  {
   "cell_type": "code",
   "execution_count": 57,
   "id": "f17fc336-93ed-4a63-9d7c-cbcdb74f143e",
   "metadata": {},
   "outputs": [
    {
     "name": "stdout",
     "output_type": "stream",
     "text": [
      "2\n",
      "4\n",
      "10\n",
      "2 4 10\n"
     ]
    }
   ],
   "source": [
    "a=2\n",
    "b=4\n",
    "c=10\n",
    "print(a)\n",
    "print(b)\n",
    "print(c)\n",
    "print(a,b,c)"
   ]
  },
  {
   "cell_type": "markdown",
   "id": "94dd91ef-d0ec-474c-af0c-2ff850a6c202",
   "metadata": {},
   "source": [
    "## Multi Variable"
   ]
  },
  {
   "cell_type": "markdown",
   "id": "1ee26169-cf80-45c8-9870-d11b567b4631",
   "metadata": {},
   "source": [
    "- Multi Variables are classified in two types\n",
    "- Multi to Multi\n",
    "- Multi to One"
   ]
  },
  {
   "cell_type": "markdown",
   "id": "ff89c6dc-1227-4d60-9639-4d01edc7f487",
   "metadata": {},
   "source": [
    "## Multi to Multi"
   ]
  },
  {
   "cell_type": "markdown",
   "id": "1f630f15-6ff0-4e19-9349-2392ab32a0b2",
   "metadata": {},
   "source": [
    "- The Variables which can assign values from Multiple varibles to another set of multiple variables in single step."
   ]
  },
  {
   "cell_type": "code",
   "execution_count": 70,
   "id": "5fa94759-1c95-4b4d-9a19-910d5d22e3d3",
   "metadata": {},
   "outputs": [
    {
     "name": "stdout",
     "output_type": "stream",
     "text": [
      "100 200 300\n",
      "100\n",
      "200\n",
      "300\n"
     ]
    }
   ],
   "source": [
    "a,b,c=100,200,300\n",
    "print(a,b,c)\n",
    "print(a)\n",
    "print(b)\n",
    "print(c)"
   ]
  },
  {
   "cell_type": "markdown",
   "id": "de8650d5-e0ff-4a72-905c-e316ba0ef660",
   "metadata": {},
   "source": [
    "## Multi to One "
   ]
  },
  {
   "cell_type": "markdown",
   "id": "da70ece3-c0a3-4626-b4e3-da45ea0c33ec",
   "metadata": {},
   "source": [
    "- Multiple Variables Combined to form a single Output."
   ]
  },
  {
   "cell_type": "code",
   "execution_count": 95,
   "id": "04fafd77-39b7-4127-a8b3-962ae12768af",
   "metadata": {},
   "outputs": [
    {
     "name": "stdout",
     "output_type": "stream",
     "text": [
      "1111\n",
      "0\n",
      "2222\n",
      "1111 1111 1111\n"
     ]
    }
   ],
   "source": [
    "a=b=c=1111\n",
    "print(c)\n",
    "print(b-c)\n",
    "print(a+b)\n",
    "print(a,b,c)"
   ]
  },
  {
   "cell_type": "markdown",
   "id": "d798a30d-d13a-4a80-9cd6-8336cf16f7a6",
   "metadata": {},
   "source": [
    "## Examples for Single variable"
   ]
  },
  {
   "cell_type": "code",
   "execution_count": 120,
   "id": "de6f654f-b5f6-4557-9431-9f1a38ca2286",
   "metadata": {},
   "outputs": [
    {
     "name": "stdout",
     "output_type": "stream",
     "text": [
      "5\n",
      "100\n",
      "10.0\n"
     ]
    }
   ],
   "source": [
    "a=5\n",
    "b=20\n",
    "c=50\n",
    "print(a)\n",
    "print(a*b)\n",
    "print(c/a)"
   ]
  },
  {
   "cell_type": "code",
   "execution_count": 126,
   "id": "0295acad-06ca-4cb0-b494-72e03cd0628c",
   "metadata": {},
   "outputs": [
    {
     "name": "stdout",
     "output_type": "stream",
     "text": [
      "(3+5j)\n",
      "25.1\n",
      "(28.1+5j)\n"
     ]
    }
   ],
   "source": [
    "a=25.1\n",
    "b=30\n",
    "c=3+5j\n",
    "print(c)\n",
    "print(a)\n",
    "print(a+c)"
   ]
  },
  {
   "cell_type": "code",
   "execution_count": 158,
   "id": "8dc2857a-53b1-4a6a-bb22-157c32ff427a",
   "metadata": {},
   "outputs": [
    {
     "name": "stdout",
     "output_type": "stream",
     "text": [
      "66565.45544\n",
      "(148722.05544+0j)\n",
      "(-62.8+0j)\n",
      "(26681616.38886667+0j)\n",
      "(-66574.05544000001+0j)\n",
      "(148796.05544+0j)\n"
     ]
    }
   ],
   "source": [
    "x=-26\n",
    "y=82222\n",
    "z=66565.45544\n",
    "w=-2.4+0j\n",
    "v=37\n",
    "print(z)\n",
    "print(x+y+z+w-v)\n",
    "print(v*w-x)\n",
    "print(v/w*x*z-v)\n",
    "print(-x-v-w-z)\n",
    "print(x+y+z+w+v)"
   ]
  },
  {
   "cell_type": "markdown",
   "id": "a7252336-d80e-4037-9e38-68c63218fcef",
   "metadata": {},
   "source": [
    "## Multi to Multi Examples"
   ]
  },
  {
   "cell_type": "code",
   "execution_count": 171,
   "id": "c352215c-b6b2-4e6a-af5f-867a81d72bb6",
   "metadata": {},
   "outputs": [
    {
     "name": "stdout",
     "output_type": "stream",
     "text": [
      "(50+2j)\n",
      "-15\n",
      "4418.5434000000005\n",
      "-0.12195121951219512\n",
      "(53.58+2j)\n",
      "117.42\n",
      "(-400982813.55-16039312.542j)\n",
      "1343.81\n",
      "(61832.52958677686+2468.46j)\n",
      "(-945.8100000000001+2j)\n"
     ]
    }
   ],
   "source": [
    "a,b,c,x,y,z,=121,123,1234.23,50+2j,-15,3.58\n",
    "print(x)\n",
    "print(y)\n",
    "print(c*z)\n",
    "print(y/b)\n",
    "print(z+x)\n",
    "print(a-z)\n",
    "print(z*x*y*c*a)\n",
    "print(a+z+y+c)\n",
    "print(z/a+c*x+a)\n",
    "print(x+a+a-c-z)"
   ]
  },
  {
   "cell_type": "markdown",
   "id": "8f94c182-4967-431f-af81-10eac3400bbd",
   "metadata": {},
   "source": [
    "## Multi to One"
   ]
  },
  {
   "cell_type": "code",
   "execution_count": 176,
   "id": "530f9bbc-0f97-4712-aa0f-b3aa8427e68b",
   "metadata": {},
   "outputs": [
    {
     "name": "stdout",
     "output_type": "stream",
     "text": [
      "7777777\n",
      "7777777\n",
      "7777777\n",
      "60493815061729\n",
      "0\n",
      "7777777\n",
      "7777777.0\n",
      "3659501660722670416096024995\n",
      "60493807283952\n"
     ]
    }
   ],
   "source": [
    "i=j=k=7777777\n",
    "print(j)\n",
    "print(i)\n",
    "print(k)\n",
    "print(i*k)\n",
    "print(j-i)\n",
    "print(i-k+j)\n",
    "print(j*k/i)\n",
    "print(i+j+k*i*j*k)\n",
    "print(i*j-k)\n"
   ]
  },
  {
   "cell_type": "code",
   "execution_count": 194,
   "id": "e1f1a907-c2d9-4e2d-a38e-787f5044cdd4",
   "metadata": {},
   "outputs": [
    {
     "name": "stdout",
     "output_type": "stream",
     "text": [
      "(2.358, (2+56562j), 0)\n",
      "(2.358, (2+56562j), 0, 2.358, (2+56562j), 0)\n",
      "(2.358, (2+56562j), 0, 2.358, (2+56562j), 0)\n",
      "(2.358, (2+56562j), 0)\n",
      "(2.358, (2+56562j), 0, 2.358, (2+56562j), 0, 2.358, (2+56562j), 0)\n"
     ]
    }
   ],
   "source": [
    "a=b=c=2.358,2+56562j,0\n",
    "print(a)\n",
    "print(a+b)\n",
    "print(a+a)\n",
    "print(c)\n",
    "print(a+b+c)"
   ]
  },
  {
   "cell_type": "code",
   "execution_count": null,
   "id": "54dae1ff-e0d7-4bf8-a69a-5da95eed6796",
   "metadata": {},
   "outputs": [],
   "source": []
  }
 ],
 "metadata": {
  "kernelspec": {
   "display_name": "Python 3 (ipykernel)",
   "language": "python",
   "name": "python3"
  },
  "language_info": {
   "codemirror_mode": {
    "name": "ipython",
    "version": 3
   },
   "file_extension": ".py",
   "mimetype": "text/x-python",
   "name": "python",
   "nbconvert_exporter": "python",
   "pygments_lexer": "ipython3",
   "version": "3.12.4"
  }
 },
 "nbformat": 4,
 "nbformat_minor": 5
}
