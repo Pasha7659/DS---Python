{
 "cells": [
  {
   "cell_type": "markdown",
   "id": "3b07e149-7ea6-4700-b731-776aeeb1b0b4",
   "metadata": {},
   "source": [
    "# Python Functions"
   ]
  },
  {
   "cell_type": "markdown",
   "id": "580f56d2-4614-4a02-8261-d2ef7d46b5d4",
   "metadata": {},
   "source": [
    "- In Python, a function is a block of reusable code that performs a specific task or a group of related tasks.\n",
    "- Functions are defined using the def keyword, followed by the function name and parentheses ().\n",
    "- The code inside the function runs only when the function is called or invoked.\n",
    "- A function is a block of code that performs a specific task.\n",
    "- You can pass data, known as parameters, into a function.\n",
    "- A function can return data as a result."
   ]
  },
  {
   "cell_type": "markdown",
   "id": "4853c5f3-ecc2-4fab-b54a-236e4d10c416",
   "metadata": {},
   "source": [
    "### Key Characteristics of Functions in Python:"
   ]
  },
  {
   "cell_type": "markdown",
   "id": "d446574e-0986-4dfa-90a5-69b33d0bc85a",
   "metadata": {},
   "source": [
    "- `Modular`: Functions help break down complex problems into smaller, more manageable parts.\n",
    "- `Reusable`: Once defined, a function can be called multiple times, reducing code duplication.\n",
    "- `Encapsulation`: Functions can encapsulate logic, which can be reused and modified independently of other code.\n",
    "- `Parameterization`: Functions can take input in the form of parameters, allowing them to work with different data."
   ]
  },
  {
   "cell_type": "markdown",
   "id": "f40b0647-a50b-408e-b0aa-da5d789a42b3",
   "metadata": {},
   "source": [
    "## Types of Functions:"
   ]
  },
  {
   "cell_type": "markdown",
   "id": "d62484be-4ecf-4948-8104-973cc11f4930",
   "metadata": {},
   "source": [
    "There are two types of function in Python programming:"
   ]
  },
  {
   "cell_type": "markdown",
   "id": "cd20f118-b9bb-4b9c-88d1-da48bfb34a77",
   "metadata": {},
   "source": [
    "### 1. Built-in Functions:"
   ]
  },
  {
   "cell_type": "markdown",
   "id": "79956e40-8ecd-4fe8-8e81-7207399ae2eb",
   "metadata": {},
   "source": [
    "- These are built-in functions in Python that are available to use.\n",
    "- Functions provided by Python, such as print(), len(), input(), etc."
   ]
  },
  {
   "cell_type": "markdown",
   "id": "8e2aa6b9-f8c7-4044-9ab7-67de429dfff7",
   "metadata": {},
   "source": [
    "### 2. User-defined Functions: "
   ]
  },
  {
   "cell_type": "markdown",
   "id": "7f6b67a9-60de-4cca-a648-5d9137ae3ac1",
   "metadata": {},
   "source": [
    "-  We can create our own functions based on our requirements.\n",
    "- Functions created by the programmer."
   ]
  },
  {
   "cell_type": "markdown",
   "id": "1302a432-fd14-40b6-b9ae-61b88637785b",
   "metadata": {},
   "source": [
    "### Syntax"
   ]
  },
  {
   "cell_type": "markdown",
   "id": "71500583-eed5-4fa9-8a42-11e76d5c49b8",
   "metadata": {},
   "source": [
    "The syntax to declare a function in Python"
   ]
  },
  {
   "cell_type": "code",
   "execution_count": null,
   "id": "f5821a62-5d2f-4c92-924c-2aa033d9b3d6",
   "metadata": {},
   "outputs": [],
   "source": [
    "def function_name(arguments):\n",
    "    # Code block (function body)\n",
    "    return value  # Optional, specifies what the function returns"
   ]
  },
  {
   "cell_type": "markdown",
   "id": "b713e77d-466b-46c2-aaee-6b91de925f6d",
   "metadata": {},
   "source": [
    "#### Components:"
   ]
  },
  {
   "cell_type": "markdown",
   "id": "8b30c0fb-7bc5-4c77-9ad8-e4b671f42261",
   "metadata": {},
   "source": [
    "- `def`: The keyword used to define a function.\n",
    "- `function_name`: The name of the function. It should be descriptive of the function's purpose.\n",
    "- `arguments` or `parameters`: (Optional) Variables passed into the function, enclosed in parentheses. Parameters are separated by commas.\n",
    "- `:`: A colon that indicates the start of the function body.\n",
    "- `Function body`: The indented block of code that performs the function's task.\n",
    "- `return`: (Optional) The statement that specifies what the function should output or return to the caller."
   ]
  },
  {
   "cell_type": "markdown",
   "id": "72bac599-054c-45ca-8fa3-c1cd9e0a1649",
   "metadata": {},
   "source": [
    "### Creating a Function"
   ]
  },
  {
   "cell_type": "markdown",
   "id": "82c29d4d-8c96-431a-a551-bfa726a70d78",
   "metadata": {},
   "source": [
    "In Python a function is defined using the def keyword:"
   ]
  },
  {
   "cell_type": "code",
   "execution_count": 1,
   "id": "f4e1afa3-fd7d-4ee1-ba0a-ecba6d2c0128",
   "metadata": {},
   "outputs": [],
   "source": [
    "def my_function():\n",
    "  print(\"I Love You Deva\")"
   ]
  },
  {
   "cell_type": "code",
   "execution_count": 2,
   "id": "2f868944-f937-4647-ba18-0d2f3ab75005",
   "metadata": {},
   "outputs": [],
   "source": [
    "#simple function\n",
    "def greet():\n",
    "    print('Hello World!')"
   ]
  },
  {
   "cell_type": "markdown",
   "id": "4d68b5fe-cca2-43aa-be50-ec61a290e11a",
   "metadata": {},
   "source": [
    "### Calling a Function"
   ]
  },
  {
   "cell_type": "markdown",
   "id": "4cedbacc-be1f-4f20-9104-95cc9c0ff99a",
   "metadata": {},
   "source": [
    "- In the above example, we have declared a function named greet().\n",
    "- Now, to use this function, we need to call it.\n",
    "- Here's how we can call the greet() function in Python.\n",
    "- To call a function, use the function name followed by parenthesis:"
   ]
  },
  {
   "cell_type": "code",
   "execution_count": 12,
   "id": "413522eb-e22b-45a2-8b14-fac5871d3476",
   "metadata": {},
   "outputs": [
    {
     "name": "stdin",
     "output_type": "stream",
     "text": [
      "Enter Your Name :  Ajay\n"
     ]
    },
    {
     "name": "stdout",
     "output_type": "stream",
     "text": [
      "Hello, Ajay! \n"
     ]
    }
   ],
   "source": [
    "def greet(name):\n",
    "    print(f\"Hello, {name}! \")\n",
    "\n",
    "name = input(\"Enter Your Name : \")\n",
    "greet(name)"
   ]
  },
  {
   "cell_type": "code",
   "execution_count": 13,
   "id": "c69282a4-e496-470a-a0da-4f4b36a16f6c",
   "metadata": {},
   "outputs": [
    {
     "name": "stdout",
     "output_type": "stream",
     "text": [
      "Hello, Reddy!\n",
      "Hello, uday!\n"
     ]
    }
   ],
   "source": [
    "def greet(name):\n",
    "    \n",
    "    print(f\"Hello, {name}!\")\n",
    "\n",
    "# Calling the function\n",
    "greet(\"Reddy\")  #function_name(parameter)\n",
    "greet(\"uday\")"
   ]
  },
  {
   "cell_type": "code",
   "execution_count": 17,
   "id": "126a4e86-9ef3-4f37-8673-9889ef7cd817",
   "metadata": {},
   "outputs": [
    {
     "name": "stdout",
     "output_type": "stream",
     "text": [
      "My name is  Deva and my location is HYD and working as a Data Scientist.\n"
     ]
    }
   ],
   "source": [
    "def vote(name,location,profession):\n",
    "    print(f'My name is  {name} and my location is {location} and working as a {profession}.')\n",
    "    \n",
    "vote(\"Deva\",\"HYD\",\"Data Scientist\")"
   ]
  },
  {
   "cell_type": "code",
   "execution_count": 22,
   "id": "703efd8d-d62b-4a5c-a0b9-cd64cbfd02db",
   "metadata": {},
   "outputs": [
    {
     "name": "stdin",
     "output_type": "stream",
     "text": [
      "Enter Your First Number:  2\n",
      "Enter Your Second Number:  3\n",
      "Enter Your Third Number:  4\n"
     ]
    },
    {
     "name": "stdout",
     "output_type": "stream",
     "text": [
      "This result is:  14\n"
     ]
    }
   ],
   "source": [
    "def myfunc(num1,num2,num3):\n",
    "    return num1 + num2 * num3\n",
    "\n",
    "user1 = int(input(\"Enter Your First Number: \"))\n",
    "user2 = int(input(\"Enter Your Second Number: \"))\n",
    "user3 = int(input(\"Enter Your Third Number: \"))\n",
    "\n",
    "result = myfunc(user1, user2, user3)\n",
    "print(\"This result is: \",result)"
   ]
  },
  {
   "cell_type": "markdown",
   "id": "b8f927b2-3655-4377-95fb-e5dfc18a963f",
   "metadata": {},
   "source": [
    "## Python Function Arguments"
   ]
  },
  {
   "cell_type": "markdown",
   "id": "84428b33-7873-4c25-b03d-9d75312d4d55",
   "metadata": {},
   "source": [
    "- Information can be passed into functions as arguments.\n",
    "- Arguments are specified after the function name, inside the parentheses. You can add as many arguments as you want, just separate them with a comma.\n",
    "- In Python, function arguments are the values passed to a function when it is called. These arguments provide the necessary input for the function to perform its task. \n",
    "- a function can also have arguments. An argument is a value that is accepted by a function. For example,"
   ]
  },
  {
   "cell_type": "code",
   "execution_count": 28,
   "id": "7abec064-fd84-49c3-ae6b-ce8c8105e964",
   "metadata": {},
   "outputs": [
    {
     "name": "stdout",
     "output_type": "stream",
     "text": [
      "Sum:  128\n",
      "Sum:  514\n",
      "Sum:  DEVARAJU\n"
     ]
    }
   ],
   "source": [
    "def add_numbers(num1, num2):  \n",
    "    sum = num1 + num2  \n",
    "    print(\"Sum: \",sum)\n",
    "\n",
    "add_numbers(44, 84)\n",
    "\n",
    "add_numbers(454, 60)\n",
    "\n",
    "add_numbers(\"DEVA\", \"RAJU\")"
   ]
  },
  {
   "cell_type": "markdown",
   "id": "ed90bbe1-0baf-47f5-a3f1-925b2b5b04e5",
   "metadata": {},
   "source": [
    "### *Note:\n",
    "\n",
    "- Arguments are often shortened to args in Python documentations."
   ]
  },
  {
   "cell_type": "code",
   "execution_count": 30,
   "id": "8361329e-e28c-4c46-bed9-8d265853a6ed",
   "metadata": {},
   "outputs": [
    {
     "name": "stdout",
     "output_type": "stream",
     "text": [
      "I Love You Samantha\n",
      "I Love You Tamanna\n",
      "I Love You Deva\n"
     ]
    }
   ],
   "source": [
    "def myfunc(name):\n",
    "    print(\"I Love You \" + name)\n",
    "\n",
    "myfunc(\"Samantha\")\n",
    "myfunc(\"Tamanna\")\n",
    "myfunc(\"Deva\")"
   ]
  },
  {
   "cell_type": "markdown",
   "id": "f1f5f850-e7cf-4ecf-8903-95e636436371",
   "metadata": {},
   "source": [
    "### Parameters or Arguments?"
   ]
  },
  {
   "cell_type": "markdown",
   "id": "0f3acb20-7821-4d4e-85aa-c05d5aaa71b1",
   "metadata": {},
   "source": [
    "The terms parameter and argument can be used for the same thing: information that are passed into a function."
   ]
  },
  {
   "cell_type": "markdown",
   "id": "9191c88e-6bb9-4d91-bae5-d80d20b40ac5",
   "metadata": {},
   "source": [
    "## Types of Arguments:"
   ]
  },
  {
   "cell_type": "markdown",
   "id": "52588324-6e6d-4279-823c-35b6f2a15089",
   "metadata": {},
   "source": [
    "### 1. Positional Arguments:"
   ]
  },
  {
   "cell_type": "markdown",
   "id": "de6d4c8d-bed5-4887-8f77-7fb5adaf4fb2",
   "metadata": {},
   "source": [
    "- Positional arguments are the most common type, where the values are passed to the function in the same order as the parameters are defined.\n",
    "- These arguments are passed in the order they are defined in the function's parameter list.\n",
    "- The number and order of positional arguments must match the function's definition. "
   ]
  },
  {
   "cell_type": "code",
   "execution_count": 31,
   "id": "85d83287-7fa8-47f9-8d2e-a46a3ea5697d",
   "metadata": {},
   "outputs": [
    {
     "name": "stdout",
     "output_type": "stream",
     "text": [
      "Hello, Ajay! You are 22 years old.\n"
     ]
    }
   ],
   "source": [
    "def greet(name, age):\n",
    "    print(\"Hello, \" + name + \"! You are \" + str(age) + \" years old.\")\n",
    "\n",
    "greet(\"Ajay\", 22) "
   ]
  },
  {
   "cell_type": "markdown",
   "id": "e0ef6630-a628-44c4-a473-646cd7a626af",
   "metadata": {},
   "source": [
    "### 2. Keyword Arguments:"
   ]
  },
  {
   "cell_type": "markdown",
   "id": "9342e213-cfc6-45cb-85b4-e98f9f084fba",
   "metadata": {},
   "source": [
    "- Keyword arguments are passed by explicitly stating the parameter name and its corresponding value. This allows you to pass arguments in any order.\n",
    "- These arguments are specified by name, along with their values, when calling the function.\n",
    "- The order of keyword arguments doesn't matter."
   ]
  },
  {
   "cell_type": "code",
   "execution_count": 36,
   "id": "2491ac9b-eb25-4224-b9df-347a250cb825",
   "metadata": {},
   "outputs": [
    {
     "name": "stdout",
     "output_type": "stream",
     "text": [
      "Hello, Ajay! You are 30 years old.\n"
     ]
    }
   ],
   "source": [
    "def greet(name, age):\n",
    "    print(\"Hello, \" + name + \"! You are \" + str(age) + \" years old.\")\n",
    "\n",
    "greet(age=30, name=\"Ajay\")"
   ]
  },
  {
   "cell_type": "markdown",
   "id": "b7255cc4-1b03-461d-9f89-857a6d5beb64",
   "metadata": {},
   "source": [
    "### 3. Default Arguments:"
   ]
  },
  {
   "cell_type": "markdown",
   "id": "c0d80dd7-2693-4a25-ba8b-acb244d5680d",
   "metadata": {},
   "source": [
    "- Default arguments are used when you want to assign a default value to a parameter. If an argument is not passed for that parameter, the default value is used.\n",
    "- These arguments have a default value assigned to them in the function's definition.\n",
    "- If a default argument is not provided when the function is called, its default value is used."
   ]
  },
  {
   "cell_type": "code",
   "execution_count": 38,
   "id": "c79ba668-03f9-4457-b4a0-bb565b5da4e2",
   "metadata": {},
   "outputs": [
    {
     "name": "stdout",
     "output_type": "stream",
     "text": [
      "Hello, Ajay! You are 30 years old.\n",
      "Hello, Deva! You are 20 years old.\n"
     ]
    }
   ],
   "source": [
    "def greet(name, age=30):\n",
    "    print(\"Hello, \" + name + \"! You are \" + str(age) + \" years old.\")\n",
    "\n",
    "greet(\"Ajay\")  \n",
    "greet(\"Deva\", 20)  "
   ]
  },
  {
   "cell_type": "markdown",
   "id": "590f2abf-1d90-4b3d-a043-1cb77e688d9f",
   "metadata": {},
   "source": [
    "### 4. Arbitrary Arguments, *args & **kwargs or Variable-Length Arguments:"
   ]
  },
  {
   "cell_type": "markdown",
   "id": "6c66783e-277d-4864-a9f3-964b3a9b0767",
   "metadata": {},
   "source": [
    "- These arguments allow a function to accept any number of arguments.\n",
    "- They are collected into a tuple or dictionary.\n",
    "- Python allows you to pass a variable number of arguments to a function using *args (for non-keyword arguments) and **kwargs (for keyword arguments)."
   ]
  },
  {
   "cell_type": "markdown",
   "id": "8ba48b8f-97e6-4522-8ffd-3a0c586ab0b1",
   "metadata": {},
   "source": [
    "#### `*args`: Non-Keyword Variable Arguments"
   ]
  },
  {
   "cell_type": "markdown",
   "id": "ef34b25c-08cd-4c9a-bf6e-2ce882456180",
   "metadata": {},
   "source": [
    "If the number of arguments is unknown, add a `*` before the parameter name:"
   ]
  },
  {
   "cell_type": "code",
   "execution_count": 41,
   "id": "c01ad7c3-891c-4c95-9694-e5d08c1ef443",
   "metadata": {},
   "outputs": [
    {
     "name": "stdout",
     "output_type": "stream",
     "text": [
      "My name is Deva\n"
     ]
    }
   ],
   "source": [
    "def my_function(*kids):\n",
    "  print(\"My name is \" + kids[1])\n",
    "\n",
    "my_function(\"Ajay\", \"Deva\", \"Sakku\")"
   ]
  },
  {
   "cell_type": "markdown",
   "id": "7fbc0c04-9e05-4c71-b6b1-749ae4fd853a",
   "metadata": {},
   "source": [
    "Arbitrary Arguments are often shortened to `*args` in Python documentations."
   ]
  },
  {
   "cell_type": "code",
   "execution_count": 42,
   "id": "1534903f-4d4e-4ef7-a1c3-0f4eeff9a6cc",
   "metadata": {},
   "outputs": [
    {
     "name": "stdout",
     "output_type": "stream",
     "text": [
      "10\n"
     ]
    }
   ],
   "source": [
    "def add_numbers(*args):\n",
    "    return sum(args)\n",
    "result = add_numbers(1, 2, 3, 4)\n",
    "print(result)"
   ]
  },
  {
   "cell_type": "markdown",
   "id": "4a594576-561a-4103-981f-d17b77fe1e23",
   "metadata": {},
   "source": [
    "#### `**kwargs`: Keyword Variable Arguments"
   ]
  },
  {
   "cell_type": "markdown",
   "id": "52e4e983-b839-4388-988a-23ee13fb398a",
   "metadata": {},
   "source": [
    "- You can also send arguments with the key = value syntax.\n",
    "- If you do not know how many keyword arguments that will be passed into your function, add two asterisk: ** before the parameter name in the function definition.\n",
    "- Allows you to pass a variable number of keyword arguments."
   ]
  },
  {
   "cell_type": "markdown",
   "id": "179b400f-e6a7-40af-9d64-dc9472dbcdaa",
   "metadata": {},
   "source": [
    "If the number of keyword arguments is unknown, add a double `**` before the parameter name:"
   ]
  },
  {
   "cell_type": "code",
   "execution_count": 43,
   "id": "128755c8-9ab6-4916-a326-5ae67f3a9987",
   "metadata": {},
   "outputs": [
    {
     "name": "stdout",
     "output_type": "stream",
     "text": [
      "His last name is Devaraju\n"
     ]
    }
   ],
   "source": [
    "def my_function(**kid):\n",
    "  print(\"His last name is \" + kid[\"lname\"])\n",
    "\n",
    "my_function(fname = \"Prathipati\", lname = \"Devaraju\")"
   ]
  },
  {
   "cell_type": "markdown",
   "id": "ad1463ec-42af-4fe8-b395-774fcef1c4fa",
   "metadata": {},
   "source": [
    "Arbitrary Kword Arguments are often shortened to `**kwargs` in Python documentations."
   ]
  },
  {
   "cell_type": "code",
   "execution_count": 44,
   "id": "e81e0734-e826-47a3-9afc-8ac30858cac0",
   "metadata": {},
   "outputs": [
    {
     "name": "stdout",
     "output_type": "stream",
     "text": [
      "name: Ajay\n",
      "age: 21\n",
      "city: Hydrabad\n"
     ]
    }
   ],
   "source": [
    "def print_info(**kwargs):\n",
    "    for key, value in kwargs.items():\n",
    "        print(f\"{key}: {value}\")\n",
    "\n",
    "print_info(name=\"Ajay\", age=21, city=\"Hydrabad\")"
   ]
  },
  {
   "cell_type": "markdown",
   "id": "690ce1eb-0464-4c57-adf5-a86071628a61",
   "metadata": {},
   "source": [
    "### 5. Positional-Only Arguments (Python 3.8+)"
   ]
  },
  {
   "cell_type": "markdown",
   "id": "1729bcef-ad88-4811-bd6c-58561fc7c4fe",
   "metadata": {},
   "source": [
    "- Positional-only arguments are specified using a `/` in the function signature. Arguments before the `/` must be passed positionally.\n",
    "- You can specify that a function can have ONLY positional arguments, or ONLY keyword arguments.\r",
    "- \r\n",
    "To specify that a function can have only positional arguments, add ,  / after the arguments:"
   ]
  },
  {
   "cell_type": "code",
   "execution_count": 45,
   "id": "77e4dd95-ef84-4188-8cc5-8b6d5b46a217",
   "metadata": {},
   "outputs": [
    {
     "name": "stdout",
     "output_type": "stream",
     "text": [
      "3\n"
     ]
    }
   ],
   "source": [
    "def my_function(x, /):\n",
    "  print(x)\n",
    "\n",
    "my_function(3)"
   ]
  },
  {
   "cell_type": "code",
   "execution_count": 47,
   "id": "009f570f-1519-4afb-ba8f-0ab6e15ba09a",
   "metadata": {},
   "outputs": [
    {
     "name": "stdout",
     "output_type": "stream",
     "text": [
      "Hi, Ajay!\n"
     ]
    }
   ],
   "source": [
    "def greet(name, /, message):\n",
    "    print(f\"{message}, {name}!\")\n",
    "    \n",
    "greet(\"Ajay\", \"Hi\") \n"
   ]
  },
  {
   "cell_type": "markdown",
   "id": "498c3fbd-230f-444d-b132-c663339a66c7",
   "metadata": {},
   "source": [
    "## The return Statement in Python"
   ]
  },
  {
   "cell_type": "markdown",
   "id": "1c3b99e2-a5dd-4e53-8fa8-6279a5c61ae1",
   "metadata": {},
   "source": [
    "- A Python function may or may not return a value. If we want our function to return some value to a function call, we use the return statement.\n",
    "- The `return` statement in Python is used within a function to exit the function and optionally pass back a value to the caller. It is a key component in defining how a function outputs results."
   ]
  },
  {
   "cell_type": "markdown",
   "id": "27e57144-6275-447b-9712-d6088c196c4b",
   "metadata": {},
   "source": [
    "### Syntax:"
   ]
  },
  {
   "cell_type": "code",
   "execution_count": null,
   "id": "ecc94fe0-2d3c-4444-8994-a66bb4705801",
   "metadata": {},
   "outputs": [],
   "source": [
    "def function_name(parameters):\r\n",
    "    # Code block\r\n",
    "    return value  # Optionl\r\n"
   ]
  },
  {
   "cell_type": "markdown",
   "id": "25365c5c-a91c-4734-89a2-cd5bb04e6b35",
   "metadata": {},
   "source": [
    "- The return statement is fundamental for controlling the flow of a function and passing back the results to the caller."
   ]
  },
  {
   "cell_type": "code",
   "execution_count": 48,
   "id": "147fa7b9-432b-4705-9d32-c7fef5d49f79",
   "metadata": {},
   "outputs": [
    {
     "name": "stdout",
     "output_type": "stream",
     "text": [
      "True\n",
      "False\n"
     ]
    }
   ],
   "source": [
    "def check_even(number):\n",
    "    if number % 2 == 0:\n",
    "        return True  \n",
    "    return False  \n",
    "\n",
    "print(check_even(4)) \n",
    "print(check_even(7))  "
   ]
  },
  {
   "cell_type": "code",
   "execution_count": 49,
   "id": "611e8055-c9c0-4dc1-9544-c29bcd28504b",
   "metadata": {},
   "outputs": [
    {
     "data": {
      "text/plain": [
       "49"
      ]
     },
     "execution_count": 49,
     "metadata": {},
     "output_type": "execute_result"
    }
   ],
   "source": [
    "def find_square(num):\n",
    "    result = num * num\n",
    "    return result\n",
    "find_square(7)"
   ]
  },
  {
   "cell_type": "markdown",
   "id": "f43ccd3e-09b1-4286-9ea5-3559d88947ed",
   "metadata": {},
   "source": [
    "## Python Library Functions"
   ]
  },
  {
   "cell_type": "markdown",
   "id": "e6e0c115-72f0-4d5e-9823-7aa6f766a4c6",
   "metadata": {},
   "source": [
    "- Python library functions are built-in functions provided by Python's standard library, or by external libraries that you can install.\n",
    "-  These functions are pre-defined, meaning you don't need to implement them yourself; you just need to import the relevant module or library and call the function.\n",
    "-   In Python, standard library functions are the built-in functions that can be used directly in our program. For example,"
   ]
  },
  {
   "cell_type": "markdown",
   "id": "5a145bfb-02f4-459c-b6fd-a953c3564785",
   "metadata": {},
   "source": [
    "- `print()` - prints the string inside the quotation marks\n",
    "- `sqrt()` - returns the square root of a number\n",
    "- `pow()` - returns the power of a number\n",
    "- `str()` - returns the string\n",
    "- `len()` - returns the length of the string\n",
    "- `int()` - reurns integers like numbers\n"
   ]
  },
  {
   "cell_type": "markdown",
   "id": "25a26196-99d4-4acc-bb41-5e60097278fb",
   "metadata": {},
   "source": [
    " These library functions are defined inside the module. And, to use them we must include the module inside our program.\n",
    " \n",
    " For example, sqrt() is defined inside the math module."
   ]
  },
  {
   "cell_type": "code",
   "execution_count": 50,
   "id": "d4203c41-f7a9-40e1-bbbb-f4afa87d29ee",
   "metadata": {},
   "outputs": [
    {
     "name": "stdout",
     "output_type": "stream",
     "text": [
      "Square Root of 4 is 2.0\n",
      "2 to the power 3 is 8\n"
     ]
    }
   ],
   "source": [
    "import math\n",
    "square_root = math.sqrt(4)\n",
    "print(\"Square Root of 4 is\",square_root)\n",
    "power = pow(2, 3)\n",
    "print(\"2 to the power 3 is\",power)"
   ]
  },
  {
   "cell_type": "code",
   "execution_count": 52,
   "id": "bda52b91-d8df-4326-be3a-0b2c09457a16",
   "metadata": {},
   "outputs": [
    {
     "name": "stdout",
     "output_type": "stream",
     "text": [
      "5.0\n",
      "42\n",
      "2024-08-29 19:26:35.149651\n"
     ]
    }
   ],
   "source": [
    "import math\n",
    "import random\n",
    "import datetime\n",
    "\n",
    "print(math.sqrt(25))\n",
    "\n",
    "print(random.randint(1, 100))\n",
    "\n",
    "print(datetime.datetime.now())"
   ]
  },
  {
   "cell_type": "markdown",
   "id": "9398c72d-fa3f-4d47-a3c2-f71d99cedbbd",
   "metadata": {},
   "source": [
    "# Python Lambda"
   ]
  },
  {
   "cell_type": "markdown",
   "id": "5c92cc3f-1e1e-40eb-9e58-a4c2aa76b135",
   "metadata": {},
   "source": [
    "- A lambda function in Python is a small, anonymous function that is defined using the `lambda` keyword.\n",
    "  \n",
    "- A lambda function is a small anonymous function.\n",
    "  \n",
    "- A lambda function can take any number of arguments, but can only have one expression."
   ]
  },
  {
   "cell_type": "markdown",
   "id": "74d7f1c6-5e2a-4380-86eb-b0cd3b3c91be",
   "metadata": {},
   "source": [
    "### Syntax"
   ]
  },
  {
   "cell_type": "code",
   "execution_count": null,
   "id": "2b0253bf-ac43-47d1-9a70-eb5df622dd03",
   "metadata": {},
   "outputs": [],
   "source": [
    "lambda arguments : expression"
   ]
  },
  {
   "cell_type": "markdown",
   "id": "b81f5db9-642a-4821-94b9-f8dd1a64f840",
   "metadata": {},
   "source": [
    "### Key Characteristics:"
   ]
  },
  {
   "cell_type": "markdown",
   "id": "6cc9444a-f406-4b48-a5d8-388b75ef6b15",
   "metadata": {},
   "source": [
    "- `Anonymous`: Lambda functions don't have a name (unlike regular functions defined with def).\n",
    "  \n",
    "- `Single Expression`: They can only contain a single expression, which is evaluated and returned.\n",
    "  \n",
    "- `Use Cases`: Often used for short, simple operations, typically in places where you need a small function for a short period (e.g., as arguments to functions like `map()`, `filter()`, or `sorted()`)."
   ]
  },
  {
   "cell_type": "code",
   "execution_count": 54,
   "id": "4a1128f3-6c5c-48b6-adae-852b73380b5f",
   "metadata": {},
   "outputs": [
    {
     "name": "stdout",
     "output_type": "stream",
     "text": [
      "14\n"
     ]
    }
   ],
   "source": [
    "x = lambda a : a + 9\n",
    "print(x(5))"
   ]
  },
  {
   "cell_type": "code",
   "execution_count": 55,
   "id": "755f4210-34e7-4808-862b-1693fbf1bb0a",
   "metadata": {},
   "outputs": [
    {
     "name": "stdout",
     "output_type": "stream",
     "text": [
      "13\n"
     ]
    }
   ],
   "source": [
    "x = lambda a, b, c : a + b + c\n",
    "print(x(5, 6, 2))"
   ]
  },
  {
   "cell_type": "code",
   "execution_count": 56,
   "id": "f5853b39-ac21-4e7c-a618-114e0e946112",
   "metadata": {},
   "outputs": [
    {
     "name": "stdout",
     "output_type": "stream",
     "text": [
      "55\n"
     ]
    }
   ],
   "source": [
    "def myfunc(n):\n",
    "    return lambda a : a * n\n",
    "\n",
    "mult = myfunc(5)\n",
    "\n",
    "print(mult(11))"
   ]
  },
  {
   "cell_type": "markdown",
   "id": "4f900bf9-d7fd-4399-943b-4e7045c4f070",
   "metadata": {},
   "source": [
    "### Why Use Lambda Functions?"
   ]
  },
  {
   "cell_type": "markdown",
   "id": "f1f37d35-bc88-448a-b82b-a44f1616d209",
   "metadata": {},
   "source": [
    "The power of lambda is better shown when you use them as an anonymous function inside another function.\r\n",
    "\r\n",
    "Say you have a function definition that takes one argument, and that argument will be multiplied with an unknown number:"
   ]
  },
  {
   "cell_type": "code",
   "execution_count": 57,
   "id": "46cdd316-8b35-42b3-b61d-3e79f6988d61",
   "metadata": {},
   "outputs": [
    {
     "name": "stdout",
     "output_type": "stream",
     "text": [
      "22\n",
      "33\n"
     ]
    }
   ],
   "source": [
    "def myfunc(n):\n",
    "  return lambda a : a * n\n",
    "\n",
    "mydoubler = myfunc(2)\n",
    "mytripler = myfunc(3)\n",
    "\n",
    "print(mydoubler(11))\n",
    "print(mytripler(11))"
   ]
  },
  {
   "cell_type": "markdown",
   "id": "b1ff3bb4-7efa-497b-bbde-7219e464d2b7",
   "metadata": {},
   "source": [
    "#### *Note:\n",
    "\n",
    "Use lambda functions when an anonymous function is required for a short period of time."
   ]
  },
  {
   "cell_type": "markdown",
   "id": "feef1fab-1935-42d0-adff-8ee3c6905e81",
   "metadata": {},
   "source": [
    "## 1. Lambda Function with `map()`"
   ]
  },
  {
   "cell_type": "markdown",
   "id": "58656e3f-d6e4-4eac-965a-85a0753f3c3d",
   "metadata": {},
   "source": [
    "- The `map()` function in Python is used to apply a given function to all items in an iterable (like a list or tuple) and return a map object, which can be converted into a list or other iterable type.\n",
    "-  When combined with a lambda function, map() allows you to apply a small, anonymous function to each item in the iterable."
   ]
  },
  {
   "cell_type": "markdown",
   "id": "659eacc8-87dd-4cd9-88fb-e59b3f807364",
   "metadata": {},
   "source": [
    "### Syntax of `map()`:"
   ]
  },
  {
   "cell_type": "code",
   "execution_count": null,
   "id": "f901765d-3bf0-4ccc-833f-974b0ea48866",
   "metadata": {},
   "outputs": [],
   "source": [
    "map(function, iterable)"
   ]
  },
  {
   "cell_type": "markdown",
   "id": "5510a66a-94de-45a1-baa9-d926e9a1bdfc",
   "metadata": {},
   "source": [
    "- function: A function to which each item of the iterable is passed.\n",
    "\n",
    "- iterable: An iterable (like a list, tuple, etc.) whose items will be processed by the function."
   ]
  },
  {
   "cell_type": "code",
   "execution_count": 58,
   "id": "0a12a47f-67e4-4d0f-823e-ed5626ebcbf1",
   "metadata": {},
   "outputs": [
    {
     "name": "stdout",
     "output_type": "stream",
     "text": [
      "[1, 4, 9, 16, 25, 36]\n"
     ]
    }
   ],
   "source": [
    "#Example - 1 (Squaring Numbers)\n",
    "\n",
    "numbers = [1,2,3,4,5,6]\n",
    "\n",
    "squared_number = list(map(lambda x:x ** 2,numbers))\n",
    "\n",
    "print(squared_number)"
   ]
  },
  {
   "cell_type": "code",
   "execution_count": 59,
   "id": "72ffc9bf-9838-42e6-8462-6871ea961307",
   "metadata": {},
   "outputs": [
    {
     "name": "stdout",
     "output_type": "stream",
     "text": [
      "['APPLE', 'BANANA', 'ORANGE']\n"
     ]
    }
   ],
   "source": [
    "#Example - 2 (Converting Strings to Uppercase)\n",
    "\n",
    "words = [\"apple\",\"banana\",\"orange\"]\n",
    "\n",
    "uppercase_words = list(map(lambda word:word.upper(),words))\n",
    "\n",
    "print(uppercase_words)"
   ]
  },
  {
   "cell_type": "code",
   "execution_count": 60,
   "id": "5e15f7ce-16af-405b-8dd9-78b5baadd189",
   "metadata": {},
   "outputs": [
    {
     "name": "stdout",
     "output_type": "stream",
     "text": [
      "[3, 7, 11, 15]\n"
     ]
    }
   ],
   "source": [
    "#Example - 3 (Adding Two Lists Element-Wise)\n",
    "\n",
    "List1 = [1,3,5,7]\n",
    "List2 = [2,4,6,8]\n",
    "\n",
    "sum_list = list(map(lambda x, y: x + y, List1, List2))\n",
    "\n",
    "print(sum_list)"
   ]
  },
  {
   "cell_type": "code",
   "execution_count": 4,
   "id": "425b0314-ba37-4129-a1b3-1ee05018b304",
   "metadata": {},
   "outputs": [
    {
     "name": "stdout",
     "output_type": "stream",
     "text": [
      "[16, 9, 4, 1]\n"
     ]
    }
   ],
   "source": [
    "n = [4,3,2,1]\n",
    "\n",
    "print(list(map(lambda x: x **2,n)))"
   ]
  },
  {
   "cell_type": "markdown",
   "id": "692b9892-788d-434b-bcf2-61c23c5b28eb",
   "metadata": {},
   "source": [
    "### 2. Lambda Function with `filter()`"
   ]
  },
  {
   "cell_type": "markdown",
   "id": "9fc541ee-dbef-4dac-9995-e496ba543118",
   "metadata": {},
   "source": [
    "- The filter() function in Python is used to filter elements from an iterable (like a list, tuple, or set) based on a condition provided by a function.\n",
    "\n",
    "-   When combined with a lambda function, filter() allows you to apply a condition to each item in the iterable and return only those items that satisfy the condition."
   ]
  },
  {
   "cell_type": "markdown",
   "id": "aa67f0e3-e6b6-4740-ab7a-bcda973360ce",
   "metadata": {},
   "source": [
    "### Syntax of `filter()`:"
   ]
  },
  {
   "cell_type": "code",
   "execution_count": null,
   "id": "78767450-9f19-4b16-98bd-aaa5cb35f2c1",
   "metadata": {},
   "outputs": [],
   "source": [
    "filter(function, iterable)"
   ]
  },
  {
   "cell_type": "markdown",
   "id": "c53e9098-bf76-4cc9-898f-46ccd4490de6",
   "metadata": {},
   "source": [
    "- function: A function that returns True or False for each item in the iterable. Only items for which this function returns True are included in the result.\n",
    "  \n",
    "- iterable: An iterable whose items will be filtered based on the function."
   ]
  },
  {
   "cell_type": "code",
   "execution_count": 61,
   "id": "2a0f42f3-3c37-4dff-8807-f36a2ea5aa3c",
   "metadata": {},
   "outputs": [
    {
     "name": "stdout",
     "output_type": "stream",
     "text": [
      "[2, 4, 6, 8, 10]\n"
     ]
    }
   ],
   "source": [
    "#Example 1: (Filtering Even Numbers)\n",
    "\n",
    "numbers = [1,2,3,4,5,6,7,8,9,10]\n",
    "\n",
    "even_numbers = list(filter(lambda x: x % 2 == 0,numbers))\n",
    "\n",
    "print(even_numbers)"
   ]
  },
  {
   "cell_type": "code",
   "execution_count": 63,
   "id": "27eb1dd7-0e13-4117-8035-11c0813b5d77",
   "metadata": {},
   "outputs": [
    {
     "name": "stdout",
     "output_type": "stream",
     "text": [
      "['apple', 'banana', 'cherry', 'pineapple']\n"
     ]
    }
   ],
   "source": [
    "# Example 2: (Filtering Strings Longer Than 3 Characters)\n",
    "\n",
    "fruits = [\"apple\",\"banana\",\"cherry\",\"dev\",\"pineapple\",\"raj\"]\n",
    "\n",
    "long_words = list(filter(lambda fruit: len(fruit) > 3, fruits))\n",
    "\n",
    "print(long_words)"
   ]
  },
  {
   "cell_type": "code",
   "execution_count": 5,
   "id": "f3bb85c0-8557-480a-beeb-df3081694522",
   "metadata": {},
   "outputs": [
    {
     "name": "stdout",
     "output_type": "stream",
     "text": [
      "[4, 3]\n"
     ]
    }
   ],
   "source": [
    "n = [4,3,2,1]\n",
    "\n",
    "print(list(filter(lambda x : x > 2, n)))"
   ]
  },
  {
   "cell_type": "markdown",
   "id": "4ca0bac0-1f69-47ab-8433-cde5424e3ec4",
   "metadata": {},
   "source": [
    "### 3: Lambda Function with `sorted()`"
   ]
  },
  {
   "cell_type": "markdown",
   "id": "c3e5cf8e-5a30-4ac6-92e4-c19203dc6cfe",
   "metadata": {},
   "source": [
    "- The sorted() function in Python is used to sort elements of an iterable (like a list or tuple) in a specific order (ascending or descending).\n",
    "- You can use a lambda function with sorted() to define a custom sorting key.\n",
    "- This allows you to sort the elements based on a particular attribute or computed value."
   ]
  },
  {
   "cell_type": "markdown",
   "id": "8f5b9e4d-28bf-4d5f-b90e-ca8cb687e392",
   "metadata": {},
   "source": [
    "### Syntax of `sorted()`:"
   ]
  },
  {
   "cell_type": "code",
   "execution_count": null,
   "id": "30eb1fb1-ae0a-42b4-9604-bd000a0c2c0a",
   "metadata": {},
   "outputs": [],
   "source": [
    "sorted(iterable, key=None, reverse=False)"
   ]
  },
  {
   "cell_type": "markdown",
   "id": "da9af8ea-933e-48be-9dfa-0872d6578e72",
   "metadata": {},
   "source": [
    "- `iterable`: The iterable to be sorted.\n",
    "\n",
    "- `key`: A function that takes one argument and returns a value to be used for sorting. This is where you can use a lambda function.\n",
    "    \n",
    "- `reverse`: A boolean value that, if True, sorts the iterable in descending order. Defaults to False for ascending order."
   ]
  },
  {
   "cell_type": "code",
   "execution_count": 73,
   "id": "feac547a-3bd1-4366-bc18-91769b120c2e",
   "metadata": {},
   "outputs": [
    {
     "name": "stdout",
     "output_type": "stream",
     "text": [
      "[1, 2, 4, -5, -9]\n"
     ]
    }
   ],
   "source": [
    "# Example 1: (Sorting by Absolute Values)\n",
    "\n",
    "numbers = [-5, 2, -9, 1, 4]\n",
    "\n",
    "sorted_by_abs = sorted(numbers, key=lambda x: abs(x))\n",
    "\n",
    "print(sorted_by_abs)"
   ]
  },
  {
   "cell_type": "code",
   "execution_count": 6,
   "id": "93de00a5-5510-4df8-ab2b-d272ec7edd12",
   "metadata": {},
   "outputs": [
    {
     "name": "stdout",
     "output_type": "stream",
     "text": [
      "['kiwi', 'apple', 'banana', 'cherry']\n"
     ]
    }
   ],
   "source": [
    "#Example 2: (Sorting by String Length)\n",
    "\n",
    "words = ['apple', 'banana', 'kiwi', 'cherry']\n",
    "\n",
    "sorted_by_length = sorted(words, key=lambda word: len(word))\n",
    "\n",
    "print(sorted_by_length)"
   ]
  },
  {
   "cell_type": "code",
   "execution_count": 75,
   "id": "36b3eb3b-b11b-4492-8ea7-b5a84819491a",
   "metadata": {},
   "outputs": [
    {
     "name": "stdout",
     "output_type": "stream",
     "text": [
      "[(1, 'apple'), (2, 'apple'), (2, 'banana'), (3, 'cherry')]\n"
     ]
    }
   ],
   "source": [
    "#Example 3: (Sorting by Multiple Criteria)\n",
    "\n",
    "data = [(2, 'banana'), (1, 'apple'), (3, 'cherry'), (2, 'apple')]\n",
    "\n",
    "sorted_by_multiple = sorted(data, key=lambda x: (x[1], x[0]))\n",
    "\n",
    "print(sorted_by_multiple)"
   ]
  },
  {
   "cell_type": "markdown",
   "id": "7735b453-c24f-4948-aab4-ce3e910aae6c",
   "metadata": {},
   "source": [
    "# Global and Local Variables in Python"
   ]
  },
  {
   "cell_type": "markdown",
   "id": "39cc713a-922c-4b38-93a2-5520db63ca9c",
   "metadata": {},
   "source": [
    "- Python Global variables are those which are not defined inside any function and have a global scope whereas Python local variables are those which are defined inside a function and their scope is limited to that function only.\n",
    "  \n",
    "- In other words, we can say that local variables are accessible only inside the function in which it was initialized whereas the global variables are accessible throughout the program and inside every function."
   ]
  },
  {
   "cell_type": "markdown",
   "id": "d8f95275-8f66-4434-819c-b840e9f4637d",
   "metadata": {},
   "source": [
    "## Python Local Variables"
   ]
  },
  {
   "cell_type": "markdown",
   "id": "64123a9d-b639-4734-a40d-2f018a2c7007",
   "metadata": {},
   "source": [
    "- Local variables in Python are those which are initialized inside a function and belong only to that particular function. It cannot be accessed anywhere outside the function. Let’s see how to create a local variable."
   ]
  },
  {
   "cell_type": "markdown",
   "id": "87fb53bc-7f19-4075-91b2-ab95321b61a1",
   "metadata": {},
   "source": [
    "#### Creating local variables in Python"
   ]
  },
  {
   "cell_type": "code",
   "execution_count": 82,
   "id": "6914d3e5-1a96-446c-8236-ace848d7bef3",
   "metadata": {},
   "outputs": [
    {
     "name": "stdout",
     "output_type": "stream",
     "text": [
      "I love Python\n"
     ]
    }
   ],
   "source": [
    "def f():\n",
    "\n",
    "    s = \"I love Python\"\n",
    "    print(s)\n",
    "\n",
    "f()"
   ]
  },
  {
   "cell_type": "code",
   "execution_count": 85,
   "id": "5245535c-d926-4c8d-8cde-794c7b1706f7",
   "metadata": {},
   "outputs": [
    {
     "name": "stdout",
     "output_type": "stream",
     "text": [
      "Inside Function: I love You Deva\n"
     ]
    }
   ],
   "source": [
    "def f():\n",
    "    \n",
    "    s = \"I love You Deva\"\n",
    "    print(\"Inside Function:\", s)\n",
    "\n",
    "f()\n"
   ]
  },
  {
   "cell_type": "markdown",
   "id": "91e0f82e-8556-4cb9-85c8-2b88c72eed62",
   "metadata": {},
   "source": [
    "## Python Global Variables"
   ]
  },
  {
   "cell_type": "markdown",
   "id": "cf7ca768-d13e-4b28-9bfa-7896e90ee5ab",
   "metadata": {},
   "source": [
    "- These are those which are defined outside any function and which are accessible throughout the program, i.e., inside and outside of every function. Let’s see how to create a Python global variable."
   ]
  },
  {
   "cell_type": "markdown",
   "id": "8bf01e03-5e24-4808-89d8-d53fea8e76a3",
   "metadata": {},
   "source": [
    "#### Create a global variable  in Python"
   ]
  },
  {
   "cell_type": "code",
   "execution_count": 86,
   "id": "d2c09179-cf9b-4db7-882c-696282612f6c",
   "metadata": {},
   "outputs": [
    {
     "name": "stdout",
     "output_type": "stream",
     "text": [
      "Inside Function I love Deva\n",
      "Outside Function I love Deva\n"
     ]
    }
   ],
   "source": [
    "def f():\n",
    "    print(\"Inside Function\", s)\n",
    "\n",
    "s = \"I love Deva\"\n",
    "f()\n",
    "print(\"Outside Function\", s)"
   ]
  },
  {
   "cell_type": "code",
   "execution_count": 93,
   "id": "9ba79e19-dc54-48ce-8d2f-94aadbb8961c",
   "metadata": {},
   "outputs": [
    {
     "name": "stdout",
     "output_type": "stream",
     "text": [
      "global :  1\n",
      "Inside f() :  1\n",
      "global :  1\n",
      "Inside g() :  2\n",
      "global :  1\n",
      "Inside h() :  3\n",
      "global :  3\n"
     ]
    }
   ],
   "source": [
    "a = 1\n",
    "def f():\n",
    "    print('Inside f() : ', a)\n",
    "\n",
    "def g():\n",
    "    a = 2\n",
    "    print('Inside g() : ', a)\n",
    "\n",
    "def h():\n",
    "    global a\n",
    "    a = 3\n",
    "    print('Inside h() : ', a)\n",
    "\n",
    "\n",
    "print('global : ', a)\n",
    "f()\n",
    "print('global : ', a)\n",
    "g()\n",
    "print('global : ', a)\n",
    "h()\n",
    "print('global : ', a)"
   ]
  },
  {
   "cell_type": "code",
   "execution_count": null,
   "id": "7456ee3e-460a-4b79-9f64-7d660d72f3b9",
   "metadata": {},
   "outputs": [],
   "source": []
  }
 ],
 "metadata": {
  "kernelspec": {
   "display_name": "Python 3 (ipykernel)",
   "language": "python",
   "name": "python3"
  },
  "language_info": {
   "codemirror_mode": {
    "name": "ipython",
    "version": 3
   },
   "file_extension": ".py",
   "mimetype": "text/x-python",
   "name": "python",
   "nbconvert_exporter": "python",
   "pygments_lexer": "ipython3",
   "version": "3.12.4"
  }
 },
 "nbformat": 4,
 "nbformat_minor": 5
}
