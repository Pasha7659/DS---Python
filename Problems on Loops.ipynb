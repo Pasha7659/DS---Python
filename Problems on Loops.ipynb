{
 "cells": [
  {
   "cell_type": "markdown",
   "id": "8a3e778a-df6b-4602-86d6-dce71d60c8df",
   "metadata": {},
   "source": [
    "## Problems"
   ]
  },
  {
   "cell_type": "markdown",
   "id": "c748f266-0b01-4f94-8add-31d14ac568f7",
   "metadata": {},
   "source": [
    "### 1.Childern problem (for loop)"
   ]
  },
  {
   "cell_type": "code",
   "execution_count": 4,
   "id": "fa2b0606-a4b4-403d-b067-d24d329a88cc",
   "metadata": {},
   "outputs": [
    {
     "name": "stdin",
     "output_type": "stream",
     "text": [
      "Enter your number:  3\n"
     ]
    },
    {
     "name": "stdout",
     "output_type": "stream",
     "text": [
      "Triangle has 3 slides\n"
     ]
    }
   ],
   "source": [
    "shapes = {\n",
    "    1:\"Line has 1 slide\",\n",
    "    2:\"Circle has 2 slides\",\n",
    "    3:\"Triangle has 3 slides\",\n",
    "    4:\"Square has 4 slides\",\n",
    "    5:\"Pantagon has 5 slides\",\n",
    "    6:\"Hexagon has 6 slides\",\n",
    "    7:\"Septagon has 7 slides\",\n",
    "    8:\"Octogon has 8 sildes\",\n",
    "    9:\"Nanogon has 9 slides\",\n",
    "    10:\"Decogon has 10 slides\"\n",
    "}\n",
    "\n",
    "children = int(input(\"Enter your number: \"))\n",
    "\n",
    "for keys in shapes:\n",
    "    if children == keys:\n",
    "        print(shapes[keys])\n",
    "        break\n",
    "else:\n",
    "    print(\"Please enter correct number\")"
   ]
  },
  {
   "cell_type": "markdown",
   "id": "00ca03a5-2960-4b9b-8b3d-174469d86f51",
   "metadata": {},
   "source": [
    "### 2. Enter Month and Print How many days in month (for loop)"
   ]
  },
  {
   "cell_type": "code",
   "execution_count": 24,
   "id": "3fea3ce5-2aa2-4915-bb0d-e9b0606d19a8",
   "metadata": {},
   "outputs": [
    {
     "name": "stdin",
     "output_type": "stream",
     "text": [
      "Enter Your Month:  Februay\n"
     ]
    },
    {
     "name": "stdout",
     "output_type": "stream",
     "text": [
      "Februay has 28 days\n"
     ]
    }
   ],
   "source": [
    "month = input(\"Enter Your Month: \")\n",
    "\n",
    "_31_days = [\"January\",\"March\",\"May\",\"July\",\"August\",\"October\",\"December\"]\n",
    "_30_days = [\"April\",\"June\",\"September\",\"November\"]\n",
    "_28_days = [\"Februay\"]\n",
    "\n",
    "found = False\n",
    "\n",
    "for word in _31_days:\n",
    "    if month == word:\n",
    "        print(f\"{month} has 31 days\")\n",
    "        found = True\n",
    "        break\n",
    "\n",
    "for word in _30_days:\n",
    "    if month == word:\n",
    "        print(f\"{month} has 30 days\")\n",
    "        found = True\n",
    "        break\n",
    "\n",
    "for word in _28_days:\n",
    "    if month == word:\n",
    "        print(f\"{month} has 28 days\")\n",
    "        found = True\n",
    "        break\n",
    "if not found:\n",
    "    print(\"Enter valid month\")"
   ]
  },
  {
   "cell_type": "markdown",
   "id": "20bf58fd-e282-465b-b813-16e344988601",
   "metadata": {},
   "source": [
    "## factorial number"
   ]
  },
  {
   "cell_type": "code",
   "execution_count": 14,
   "id": "068470e7-f9db-4213-83c8-ace81a534613",
   "metadata": {},
   "outputs": [
    {
     "name": "stdin",
     "output_type": "stream",
     "text": [
      "Enter your number:  4\n"
     ]
    },
    {
     "name": "stdout",
     "output_type": "stream",
     "text": [
      "The factorial of 4 is 24\n"
     ]
    }
   ],
   "source": [
    "import math\n",
    "\n",
    "number = int(input(\"Enter your number: \"))\n",
    "print(f\"The factorial of {number} is {math.factorial(number)}\")"
   ]
  },
  {
   "cell_type": "markdown",
   "id": "3baa6001-dac9-41fe-b2f6-9d6d37f2a030",
   "metadata": {},
   "source": [
    "### 3. Enter Month and Print How many days in month(for loop)"
   ]
  },
  {
   "cell_type": "code",
   "execution_count": 32,
   "id": "6a4b4c89-d356-4582-9856-cbcb13e5ffa9",
   "metadata": {},
   "outputs": [
    {
     "name": "stdin",
     "output_type": "stream",
     "text": [
      "Enter year:  2024\n"
     ]
    },
    {
     "name": "stdout",
     "output_type": "stream",
     "text": [
      "2024 is a leap year\n"
     ]
    }
   ],
   "source": [
    "year = int(input(\"Enter year: \"))\n",
    "\n",
    "for i in range(1):\n",
    "    if (year % 4 == 0 and year % 100 != 0) or (year % 400 == 0):\n",
    "        print(f\"{year} is a leap year\")\n",
    "    else:\n",
    "        print(\"This is not a leap year\")"
   ]
  },
  {
   "cell_type": "markdown",
   "id": "0a96ba97-b758-44e8-8424-fcfbb82c44a7",
   "metadata": {},
   "source": [
    "### 4. Traffic Signals (for loop)"
   ]
  },
  {
   "cell_type": "code",
   "execution_count": 61,
   "id": "aff9569b-bf2a-4ad2-b5f5-0efdae25434d",
   "metadata": {},
   "outputs": [
    {
     "name": "stdin",
     "output_type": "stream",
     "text": [
      "Please Enter Your Colour:  Red\n"
     ]
    },
    {
     "name": "stdout",
     "output_type": "stream",
     "text": [
      "Please STOP\n"
     ]
    }
   ],
   "source": [
    "a = input(\"Please Enter Your Colour: \")\n",
    "\n",
    "colors = [ (\"Red\", \"Please STOP\"),\n",
    "    (\"Yellow\", \"Please Ready to Go\"),\n",
    "    (\"Green\", \"Please Go\")]\n",
    "\n",
    "found = False\n",
    "\n",
    "for color, message in colors:\n",
    "    if a == color:\n",
    "        print(message)\n",
    "        found = True\n",
    "        break\n",
    "\n",
    "if not found:\n",
    "    print(\"This colour is not in signal colours\")"
   ]
  },
  {
   "cell_type": "markdown",
   "id": "f476fd86-c90e-4b46-849b-4dc1a2c9d776",
   "metadata": {},
   "source": [
    "### 5. even or odd"
   ]
  },
  {
   "cell_type": "code",
   "execution_count": 54,
   "id": "b78b1e25-f676-463d-b41c-7ab1038b6de7",
   "metadata": {},
   "outputs": [
    {
     "name": "stdout",
     "output_type": "stream",
     "text": [
      "Even numbers: [2, 4, 6, 8, 10]\n",
      "Odd numbers: [1, 3, 5, 7, 9]\n"
     ]
    }
   ],
   "source": [
    "numbers = [1,2,3,4,5,6,7,8,9,10]\n",
    "\n",
    "even_numbers = []\n",
    "odd_numbers = []\n",
    "\n",
    "for number in numbers:\n",
    "    if number % 2 == 0:\n",
    "        even_numbers.append(number)\n",
    "    else:\n",
    "        odd_numbers.append(number)\n",
    "\n",
    "print(\"Even numbers:\", even_numbers)\n",
    "print(\"Odd numbers:\", odd_numbers)"
   ]
  },
  {
   "cell_type": "markdown",
   "id": "4f10d5c9-2fa9-4e1e-9727-ff33567be8f2",
   "metadata": {},
   "source": [
    "### 6. vowels and consonants"
   ]
  },
  {
   "cell_type": "code",
   "execution_count": 60,
   "id": "3eec1b95-5c9a-43b4-ac0f-ad3313e20f98",
   "metadata": {},
   "outputs": [
    {
     "name": "stdin",
     "output_type": "stream",
     "text": [
      "Enter your String:  Prathipati Devaraju\n"
     ]
    },
    {
     "name": "stdout",
     "output_type": "stream",
     "text": [
      "Total Number of Vowels in this String =  8\n",
      "Total Number of Consonants in this String =  11\n"
     ]
    }
   ],
   "source": [
    "str1 = input(\"Enter your String: \")\n",
    "\n",
    "vowels = 0\n",
    "consonants = 0\n",
    "\n",
    "for i in str1:\n",
    "    if(i == 'a' or i == 'e' or i == 'i' or i == 'o' or i == 'u'\n",
    "      or i == 'A' or i == 'E' or i == 'I' or i == 'O' or i == 'U'):\n",
    "        vowels = vowels + 1\n",
    "    else:\n",
    "        consonants = consonants + 1\n",
    "\n",
    "print(\"Total Number of Vowels in this String = \", vowels)\n",
    "print(\"Total Number of Consonants in this String = \", consonants)"
   ]
  },
  {
   "cell_type": "code",
   "execution_count": null,
   "id": "07087084-a8e5-4af3-912b-564e9feb7dbb",
   "metadata": {},
   "outputs": [],
   "source": []
  }
 ],
 "metadata": {
  "kernelspec": {
   "display_name": "Python 3 (ipykernel)",
   "language": "python",
   "name": "python3"
  },
  "language_info": {
   "codemirror_mode": {
    "name": "ipython",
    "version": 3
   },
   "file_extension": ".py",
   "mimetype": "text/x-python",
   "name": "python",
   "nbconvert_exporter": "python",
   "pygments_lexer": "ipython3",
   "version": "3.12.4"
  }
 },
 "nbformat": 4,
 "nbformat_minor": 5
}
