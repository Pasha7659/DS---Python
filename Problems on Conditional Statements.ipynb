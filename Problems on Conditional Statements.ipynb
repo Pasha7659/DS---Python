{
 "cells": [
  {
   "cell_type": "markdown",
   "id": "fcdc3f26-6604-42ac-8c0e-6ff3d6fde1b8",
   "metadata": {},
   "source": [
    "### Problems"
   ]
  },
  {
   "cell_type": "markdown",
   "id": "f8d63ea0-6909-4451-a03a-03dca4d41be9",
   "metadata": {},
   "source": [
    "#### 1. Resturant Problem"
   ]
  },
  {
   "cell_type": "code",
   "execution_count": 143,
   "id": "4f78982b-eb4e-4f9c-bb0d-138070b8ae72",
   "metadata": {},
   "outputs": [
    {
     "name": "stdin",
     "output_type": "stream",
     "text": [
      "Please Enter your order:  Legpiece Biryani\n"
     ]
    },
    {
     "name": "stdout",
     "output_type": "stream",
     "text": [
      "Sorry we are not providing the item. please select another one\n"
     ]
    }
   ],
   "source": [
    "# Restuarant Problem\n",
    "\n",
    "order = input(\"Please Enter your order: \")\n",
    "\n",
    "veg_itmes = [\"Panner Biryani\",\"Roti\",\"Carrots\",\"Potato\",\"Curried Burger\"]\n",
    "nonveg_items = [\"Chicken Biryani\",\"Mutton Biryani\",\"Prawns Biryani\",\"Fish Biryani\",\"Chicken Lollypop Biryani\"]\n",
    "\n",
    "\n",
    "if order in veg_items:\n",
    "    print(f\"Your order {order} is ready please wait 5 mins\")\n",
    "elif order in nonveg_items:\n",
    "    print(f\"Your order {order} is ready please wait 5 mins\")\n",
    "else:\n",
    "    print(\"Sorry we are not providing the item. please select another one\")"
   ]
  },
  {
   "cell_type": "markdown",
   "id": "4cab1e84-d610-4198-b656-c8bec2ebb217",
   "metadata": {},
   "source": [
    "#### 2. Childern problem"
   ]
  },
  {
   "cell_type": "code",
   "execution_count": 25,
   "id": "eda1a63b-2477-4784-86c2-2cd06b02ef2a",
   "metadata": {},
   "outputs": [
    {
     "name": "stdin",
     "output_type": "stream",
     "text": [
      "Enter your number: 9\n"
     ]
    },
    {
     "name": "stdout",
     "output_type": "stream",
     "text": [
      "Nanogon has 9 slides\n"
     ]
    }
   ],
   "source": [
    "# Childern Enter number and give the names\n",
    "\n",
    "childern = int(input(\"Enter your number:\"))\n",
    "\n",
    "if childern == 1:\n",
    "    print(\"Line has 1 slide\")\n",
    "elif childern == 2:\n",
    "    print(\"Circle has 2 slides\")\n",
    "elif childern == 3:\n",
    "    print(\"Triangle has 3 slides\")\n",
    "elif childern == 4:\n",
    "    print(\"Square has 4 slides\")\n",
    "elif childern == 5:\n",
    "    print(\"Pantagon has 5 slides\")\n",
    "elif childern == 6:\n",
    "    print(\"Hexagon has 6 slides\")\n",
    "elif childern == 7:\n",
    "    print(\"Septagon has 7 slides\")\n",
    "elif childern == 8:\n",
    "    print(\"Octagon has 8 slides\")\n",
    "elif childern == 9:\n",
    "    print(\"Nanogon has 9 slides\")\n",
    "elif childern == 10:\n",
    "    print(\"Decogon has 10 slides\")\n",
    "else:\n",
    "    print(\"Please Enter correct number\")"
   ]
  },
  {
   "cell_type": "code",
   "execution_count": 141,
   "id": "93614420-1bc0-4313-89d9-54358cf67a9e",
   "metadata": {},
   "outputs": [
    {
     "name": "stdin",
     "output_type": "stream",
     "text": [
      "Enter Your Number: 1\n"
     ]
    },
    {
     "name": "stdout",
     "output_type": "stream",
     "text": [
      " Line has slides\n"
     ]
    }
   ],
   "source": [
    "childern = { 1: \"Line\", 2: \"Circle\", 3: \"Triangle\", 4: \"Square\", 5: \"Pantagon\", 6: \"Hexagon\", 7: \"Septagon\", 8: \"Octagon\", 9: \"Nanogon\",10: \"Decogon\"}\n",
    "num = int(input(\"Enter Your Number:\"))\n",
    "\n",
    "\n",
    "if num in childern:\n",
    "    print(f\" {childern[num]} has slides\")\n",
    "else:\n",
    "    print(\"Please enter correct number:\")"
   ]
  },
  {
   "cell_type": "markdown",
   "id": "70ed7f8a-2c69-42ca-97f9-3dca123d2eb7",
   "metadata": {},
   "source": [
    "#### 3. Enter Month and Print How many days in month"
   ]
  },
  {
   "cell_type": "code",
   "execution_count": 48,
   "id": "220407b8-b54c-4b58-9511-2e1cfa8e1f50",
   "metadata": {},
   "outputs": [
    {
     "name": "stdin",
     "output_type": "stream",
     "text": [
      "Enter Your Month:  May\n"
     ]
    },
    {
     "name": "stdout",
     "output_type": "stream",
     "text": [
      " May has 31 days\n"
     ]
    }
   ],
   "source": [
    "month = input(\"Enter Your Month: \")\n",
    "\n",
    "_31_days = [\"January\",\"March\",\"May\",\"July\",\"August\",\"October\",\"December\"]\n",
    "_30_days = [\"April\",\"June\",\"September\",\"November\"]\n",
    "_28_days = [\"Februay\"]\n",
    "\n",
    "\n",
    "if month in _31_days:\n",
    "    print( f\" {month} has 31 days\")\n",
    "elif month in _30_days:\n",
    "    print(f\"{month} has 30 days\")\n",
    "elif month in _28_days:\n",
    "    print(f\"{month} has 28 days\")\n",
    "else:\n",
    "    print(\"Please enter correct month :\")"
   ]
  },
  {
   "cell_type": "markdown",
   "id": "9fabc75d-72cc-4e60-9eda-3f559ac4a85a",
   "metadata": {},
   "source": [
    "#### 4. Find Leap year or not"
   ]
  },
  {
   "cell_type": "code",
   "execution_count": 53,
   "id": "8bbf7e99-36f9-4a33-b1fb-f82d9527f68b",
   "metadata": {},
   "outputs": [
    {
     "name": "stdin",
     "output_type": "stream",
     "text": [
      "Enter your year:  2024\n"
     ]
    },
    {
     "name": "stdout",
     "output_type": "stream",
     "text": [
      "2024 this is a leap year\n"
     ]
    }
   ],
   "source": [
    "year = int(input(\"Enter your year: \"))\n",
    "\n",
    "if year % 4 == 0:\n",
    "    print(f\"{year} this is a leap year\")\n",
    "else:\n",
    "    print(f\"{year} this is not a leap year\")"
   ]
  },
  {
   "cell_type": "markdown",
   "id": "2947784c-fe8f-422e-8544-97e7afdce752",
   "metadata": {},
   "source": [
    "#### 5. Find the Maximum Number given 3 numbers"
   ]
  },
  {
   "cell_type": "code",
   "execution_count": 3,
   "id": "f3ae6855-a248-46c6-b04f-67d7cfda65e7",
   "metadata": {},
   "outputs": [
    {
     "name": "stdin",
     "output_type": "stream",
     "text": [
      "Enter your First number:  11\n",
      "Enter your Second number:  22\n",
      "Enter your Third number:  33\n"
     ]
    },
    {
     "name": "stdout",
     "output_type": "stream",
     "text": [
      "This is a maximum number 33\n"
     ]
    }
   ],
   "source": [
    "a = int(input(\"Enter your First number: \"))\n",
    "b = int(input(\"Enter your Second number: \"))\n",
    "c = int(input(\"Enter your Third number: \"))\n",
    "\n",
    "if max(a,b,c):\n",
    "    print(\"This is a maximum number\",max(a,b,c))  "
   ]
  },
  {
   "cell_type": "markdown",
   "id": "a1c3a7d5-5105-4891-a852-a2521fd393a3",
   "metadata": {},
   "source": [
    "#### 6. Traffic Signals"
   ]
  },
  {
   "cell_type": "code",
   "execution_count": 73,
   "id": "d74d2688-3cfa-4ec1-b4ba-0fd239e25ca6",
   "metadata": {},
   "outputs": [
    {
     "name": "stdin",
     "output_type": "stream",
     "text": [
      "Please Enter Your Colour:  Red\n"
     ]
    },
    {
     "name": "stdout",
     "output_type": "stream",
     "text": [
      "Please STOP\n"
     ]
    }
   ],
   "source": [
    "a = input(\"Please Enter Your Colour: \")\n",
    "\n",
    "if a == \"Red\":\n",
    "    print(\"Please STOP\")\n",
    "elif a == \"Yellow\":\n",
    "    print(\"Please Ready to Go\")\n",
    "elif a == \"Green\":\n",
    "    print(\"Please Go\")\n",
    "else:\n",
    "    print(\"This colour is not in singnal colours\")"
   ]
  },
  {
   "cell_type": "markdown",
   "id": "46bd4330-0c80-4823-8c5d-c3cc2f882c02",
   "metadata": {},
   "source": [
    "#### 7. Vowels & Consonants"
   ]
  },
  {
   "cell_type": "code",
   "execution_count": 5,
   "id": "f08ec8cd-65e1-403f-9ddb-9202df86fc73",
   "metadata": {},
   "outputs": [
    {
     "name": "stdin",
     "output_type": "stream",
     "text": [
      "Enter Your Character:  B\n"
     ]
    },
    {
     "name": "stdout",
     "output_type": "stream",
     "text": [
      "This is a  consonant Character \n"
     ]
    }
   ],
   "source": [
    "a = input(\"Enter Your Character: \")\n",
    "\n",
    "vowels = [\"a\", \"e\", \"i\", \"o\", \"u\", \"A\", \"E\", \"I\", \"O\", \"U\"]\n",
    "\n",
    "if a in vowels:\n",
    "    print(\"This is a vowel Character : \",a)\n",
    "else:\n",
    "    print(\"This is a  consonant Character \")"
   ]
  },
  {
   "cell_type": "markdown",
   "id": "d7759436-a4d3-4275-9c14-5c2ef0d4b87a",
   "metadata": {},
   "source": [
    "#### 8. Reverese a String"
   ]
  },
  {
   "cell_type": "code",
   "execution_count": 93,
   "id": "282005c9-ebee-42d7-94ea-5559eee238c4",
   "metadata": {},
   "outputs": [
    {
     "name": "stdin",
     "output_type": "stream",
     "text": [
      "Enetr Your Name:  deva\n"
     ]
    },
    {
     "name": "stdout",
     "output_type": "stream",
     "text": [
      "aved\n"
     ]
    }
   ],
   "source": [
    "a = input(\"Enetr Your Name: \")\n",
    "\n",
    "print(a[::-1])"
   ]
  },
  {
   "cell_type": "code",
   "execution_count": 98,
   "id": "19957d05-85c2-4c63-9f84-9ad4140d321b",
   "metadata": {},
   "outputs": [
    {
     "name": "stdin",
     "output_type": "stream",
     "text": [
      "Enetr Your Name:  Devaraju\n"
     ]
    },
    {
     "name": "stdout",
     "output_type": "stream",
     "text": [
      "Reverse a String:  ujaraveD\n"
     ]
    }
   ],
   "source": [
    "a = input(\"Enetr Your Name: \")\n",
    "\n",
    "if a[::-1]:\n",
    "    print(\"Reverse a String: \",a[::-1])\n",
    "else:\n",
    "    print(\"Correct the word\")"
   ]
  },
  {
   "cell_type": "markdown",
   "id": "e886851f-e945-4273-9858-6b8c78a91a33",
   "metadata": {},
   "source": [
    "#### 9. To Remove Duplicates in a List"
   ]
  },
  {
   "cell_type": "code",
   "execution_count": 108,
   "id": "530ffb3c-d3b0-45d0-ad64-ec3181a217f8",
   "metadata": {},
   "outputs": [
    {
     "name": "stdout",
     "output_type": "stream",
     "text": [
      "{32, 1, 2, 3, 4, 43, 12, 23}\n"
     ]
    }
   ],
   "source": [
    "List = [1,2,3,32,1,12,3,3,3,43,2,23,3,4,23,1]\n",
    "\n",
    "deva = set((List))\n",
    "\n",
    "print(deva)"
   ]
  },
  {
   "cell_type": "code",
   "execution_count": 115,
   "id": "0ac8f0a5-3323-4fa7-bb7b-6a73cb094b6c",
   "metadata": {},
   "outputs": [
    {
     "name": "stdout",
     "output_type": "stream",
     "text": [
      "To Remove the Duplicate Values:  {0, 1, 2, 3, 4, 5, 7, 9, 11}\n"
     ]
    }
   ],
   "source": [
    "List1 = [2,3,2,3,5,2,3,4,5,1,0,3,5,7,9,11]\n",
    "\n",
    "duplicate_values = set((List1))\n",
    "\n",
    "if duplicate_values:\n",
    "    print(\"To Remove the Duplicate Values: \",duplicate_values)\n"
   ]
  },
  {
   "cell_type": "code",
   "execution_count": 118,
   "id": "15be1c9c-4f9c-44a1-9177-2c4ff0aa1773",
   "metadata": {},
   "outputs": [
    {
     "name": "stdin",
     "output_type": "stream",
     "text": [
      "Enter Your List 1,7,9,0,6,1,7,00\n"
     ]
    },
    {
     "name": "stdout",
     "output_type": "stream",
     "text": [
      "To Remove the Duplicate Values:  {'6', ',', '0', '1', '7', '9'}\n"
     ]
    }
   ],
   "source": [
    "List = input(\"Enter Your List\")\n",
    "\n",
    "duplicate_values = set((List))\n",
    "\n",
    "if duplicate_values:\n",
    "    print(\"To Remove the Duplicate Values: \",duplicate_values)"
   ]
  },
  {
   "cell_type": "markdown",
   "id": "471bb66e-40cf-4814-a168-eada70317832",
   "metadata": {},
   "source": [
    "#### 10. Swapping of two numbers without using temporary variable"
   ]
  },
  {
   "cell_type": "code",
   "execution_count": 137,
   "id": "753bffe7-1815-4c35-aac2-ea275687d07e",
   "metadata": {},
   "outputs": [
    {
     "name": "stdin",
     "output_type": "stream",
     "text": [
      "Enter Your First Number:  11\n",
      "Enter Your Second Number:  22\n"
     ]
    },
    {
     "name": "stdout",
     "output_type": "stream",
     "text": [
      "After Swapping of A:  22\n",
      "After Swapping of B:  11\n"
     ]
    }
   ],
   "source": [
    "# using teemporary variable\n",
    "\n",
    "A = int(input(\"Enter Your First Number: \"))\n",
    "B = int(input(\"Enter Your Second Number: \"))\n",
    "\n",
    "temp = A\n",
    "\n",
    "A = B\n",
    "\n",
    "B = temp\n",
    "\n",
    "print(\"After Swapping of A: \", A)\n",
    "print(\"After Swapping of B: \", B)"
   ]
  },
  {
   "cell_type": "code",
   "execution_count": 140,
   "id": "2e568de0-7f2f-482c-8cc5-fbd0268b8b71",
   "metadata": {},
   "outputs": [
    {
     "name": "stdin",
     "output_type": "stream",
     "text": [
      "Enter Your First Number:  11\n",
      "Enter Your Second Number:  22\n"
     ]
    },
    {
     "name": "stdout",
     "output_type": "stream",
     "text": [
      "After Swapping of A:  22\n",
      "After Swapping of B:  11\n"
     ]
    }
   ],
   "source": [
    "X = int(input(\"Enter Your First Number: \"))\n",
    "Y = int(input(\"Enter Your Second Number: \"))\n",
    "\n",
    "X = X + Y\n",
    "\n",
    "Y = X - Y\n",
    "\n",
    "X = X - Y\n",
    "\n",
    "print(\"After Swapping of A: \", X)\n",
    "print(\"After Swapping of B: \", Y)"
   ]
  },
  {
   "cell_type": "code",
   "execution_count": 6,
   "id": "7149cc3a-f825-487f-b9b6-644f36d3e64c",
   "metadata": {},
   "outputs": [
    {
     "name": "stdin",
     "output_type": "stream",
     "text": [
      "Enter first number:  11\n",
      "Enter Second Number:  22\n"
     ]
    },
    {
     "name": "stdout",
     "output_type": "stream",
     "text": [
      "After swapping of A: 22 B: 11\n"
     ]
    }
   ],
   "source": [
    "A = int(input(\"Enter first number: \"))\n",
    "B = int(input(\"Enter Second Number: \"))\n",
    "\n",
    "\n",
    "A, B = B, A\n",
    "\n",
    "print(\"After swapping of A:\", A ,\"B:\",B)"
   ]
  },
  {
   "cell_type": "code",
   "execution_count": null,
   "id": "c8140db8-96d0-4c60-b49d-d5ba0cd6ac0d",
   "metadata": {},
   "outputs": [],
   "source": []
  }
 ],
 "metadata": {
  "kernelspec": {
   "display_name": "Python 3 (ipykernel)",
   "language": "python",
   "name": "python3"
  },
  "language_info": {
   "codemirror_mode": {
    "name": "ipython",
    "version": 3
   },
   "file_extension": ".py",
   "mimetype": "text/x-python",
   "name": "python",
   "nbconvert_exporter": "python",
   "pygments_lexer": "ipython3",
   "version": "3.12.4"
  }
 },
 "nbformat": 4,
 "nbformat_minor": 5
}
