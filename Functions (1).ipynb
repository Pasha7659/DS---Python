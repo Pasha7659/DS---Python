{
 "cells": [
  {
   "cell_type": "markdown",
   "id": "711a35ff-0c82-475c-9893-0430d89f067e",
   "metadata": {},
   "source": [
    "## Function"
   ]
  },
  {
   "cell_type": "markdown",
   "id": "12cebdae-a388-437d-a081-5dabaaecde05",
   "metadata": {},
   "source": [
    "- A Function is a Block of Code That Perform a Specific Task.\n",
    "- We can Pass Data known as Parameters into a Function.\n",
    "- A function can return Data as Result."
   ]
  },
  {
   "cell_type": "markdown",
   "id": "b1293309-4023-45bd-ba36-2614ed635f1c",
   "metadata": {},
   "source": [
    "- There are Two Types of Functions \n",
    "- Standard Library (or) Building Function.\n",
    "- User defined Function."
   ]
  },
  {
   "cell_type": "markdown",
   "id": "c23b776e-780d-49c0-8f44-ab884b90848c",
   "metadata": {},
   "source": [
    "### Standard Library  Function"
   ]
  },
  {
   "cell_type": "markdown",
   "id": "c147690b-ffc1-4c16-9a42-2f16eb1e2d27",
   "metadata": {},
   "source": [
    "- They Built a Function in Python that are Avalible to use.\n",
    "- We can Create our own Function based on our Requirement.\n"
   ]
  },
  {
   "cell_type": "markdown",
   "id": "018ec266-dff3-4ee3-bbf6-41dfad43b806",
   "metadata": {},
   "source": [
    "- Syntax     \n",
    "       def functio_name(argument):\n",
    "        return\n"
   ]
  },
  {
   "cell_type": "markdown",
   "id": "d0fa9637-2ee4-4b9f-ba4d-c66304f0e670",
   "metadata": {},
   "source": [
    "### Example"
   ]
  },
  {
   "cell_type": "code",
   "execution_count": 15,
   "id": "16bda536-4b8d-4e2f-8726-e12dd0822e43",
   "metadata": {},
   "outputs": [],
   "source": [
    "def welcome(name,age):\n",
    "    print(f'my name is {name} and age is {age} ')\n",
    "    \n"
   ]
  },
  {
   "cell_type": "code",
   "execution_count": 19,
   "id": "c0c6e481-db59-40b7-9068-d48a7ec7545f",
   "metadata": {},
   "outputs": [
    {
     "name": "stdout",
     "output_type": "stream",
     "text": [
      "my name is pasha and age is 23 \n"
     ]
    }
   ],
   "source": [
    "welcome('pasha',23)"
   ]
  },
  {
   "cell_type": "code",
   "execution_count": 27,
   "id": "db86a1c2-1587-4c96-b08c-7332e87b1235",
   "metadata": {},
   "outputs": [],
   "source": [
    "def name(cource):\n",
    "    print(f'i am learning {cource}')"
   ]
  },
  {
   "cell_type": "code",
   "execution_count": 31,
   "id": "5ee3c48d-c23c-40e7-9684-7d30c280cae9",
   "metadata": {},
   "outputs": [
    {
     "name": "stdout",
     "output_type": "stream",
     "text": [
      "i am learning Data Science\n"
     ]
    }
   ],
   "source": [
    "name('Data Science')"
   ]
  },
  {
   "cell_type": "markdown",
   "id": "dc443490-dd92-432d-a1a5-517f999bf5f6",
   "metadata": {},
   "source": [
    "## Calling Function"
   ]
  },
  {
   "cell_type": "markdown",
   "id": "fde72f48-5593-4ad9-8d64-ff9ad56d650a",
   "metadata": {},
   "source": [
    "- By using Function name\n",
    "-  name('Data Science')"
   ]
  },
  {
   "cell_type": "markdown",
   "id": "2c8d5b2e-07db-4384-bfd1-7b2ff6660020",
   "metadata": {},
   "source": [
    "### Example for User Defined\n"
   ]
  },
  {
   "cell_type": "code",
   "execution_count": 47,
   "id": "74fd197f-7c8b-49c5-97a8-1f331027a609",
   "metadata": {
    "scrolled": true
   },
   "outputs": [
    {
     "name": "stdin",
     "output_type": "stream",
     "text": [
      "enter your name: pasha\n",
      "enter your age: 23\n"
     ]
    },
    {
     "name": "stdout",
     "output_type": "stream",
     "text": [
      "my name is pasha and age is 23\n"
     ]
    }
   ],
   "source": [
    "namer=input('enter your name:')\n",
    "age=int(input('enter your age:'))\n",
    "def user(name,age):\n",
    "    print(f'my name is {name} and age is {age}')\n",
    "    \n",
    "    \n",
    "user('pasha',23)\n"
   ]
  },
  {
   "cell_type": "markdown",
   "id": "ababeecc-d2b1-4876-be50-639df42c5bfe",
   "metadata": {},
   "source": [
    "## Return"
   ]
  },
  {
   "cell_type": "code",
   "execution_count": 61,
   "id": "320210eb-94f7-4a4d-9431-a492c6a92cf8",
   "metadata": {},
   "outputs": [
    {
     "data": {
      "text/plain": [
       "144"
      ]
     },
     "execution_count": 61,
     "metadata": {},
     "output_type": "execute_result"
    }
   ],
   "source": [
    "def square(num):\n",
    "    result=num*num\n",
    "    return result\n",
    "\n",
    "\n",
    "square(12)"
   ]
  },
  {
   "cell_type": "code",
   "execution_count": 55,
   "id": "c3c85a73-8263-47d0-9ed5-826fe8ddf284",
   "metadata": {},
   "outputs": [
    {
     "data": {
      "text/plain": [
       "313600"
      ]
     },
     "execution_count": 55,
     "metadata": {},
     "output_type": "execute_result"
    }
   ],
   "source": [
    "square(560)"
   ]
  },
  {
   "cell_type": "code",
   "execution_count": 63,
   "id": "f5869a92-efbd-4360-94f6-4ac15ae0dfe4",
   "metadata": {},
   "outputs": [
    {
     "data": {
      "text/plain": [
       "1764"
      ]
     },
     "execution_count": 63,
     "metadata": {},
     "output_type": "execute_result"
    }
   ],
   "source": [
    "square(42)"
   ]
  },
  {
   "cell_type": "markdown",
   "id": "b512dea7-aa76-41bc-8519-0432571da4fa",
   "metadata": {},
   "source": [
    "### Types of Variables in Functions"
   ]
  },
  {
   "cell_type": "markdown",
   "id": "34c50482-4b0b-4e94-bf60-a6bf14e4cde3",
   "metadata": {},
   "source": [
    "- There are Two Types of Variables in Functions"
   ]
  },
  {
   "cell_type": "markdown",
   "id": "0dc1f47c-504d-42fe-94a1-1dd2453ea845",
   "metadata": {},
   "source": [
    "- Global : Out of a Function\n",
    "- Local  : In a Function."
   ]
  },
  {
   "cell_type": "markdown",
   "id": "1aa28858-374f-4750-9fe7-696dc5d8996b",
   "metadata": {},
   "source": [
    "### Example"
   ]
  },
  {
   "cell_type": "code",
   "execution_count": 98,
   "id": "61794ef2-80da-4ed8-9e1b-fad7868c114a",
   "metadata": {},
   "outputs": [
    {
     "name": "stdout",
     "output_type": "stream",
     "text": [
      " i am inside \n",
      " Hellow World \n"
     ]
    }
   ],
   "source": [
    "golbal = \" Hellow World \"\n",
    "\n",
    "\n",
    "def local():\n",
    "    local=\" i am inside \"\n",
    "    print(local)\n",
    "    print(golbal)\n",
    "\n",
    "\n",
    "\n",
    "local()\n",
    "\n",
    "    "
   ]
  },
  {
   "cell_type": "code",
   "execution_count": null,
   "id": "616f2850-40a8-4747-bd59-0645fc8307f2",
   "metadata": {},
   "outputs": [],
   "source": []
  }
 ],
 "metadata": {
  "kernelspec": {
   "display_name": "Python 3 (ipykernel)",
   "language": "python",
   "name": "python3"
  },
  "language_info": {
   "codemirror_mode": {
    "name": "ipython",
    "version": 3
   },
   "file_extension": ".py",
   "mimetype": "text/x-python",
   "name": "python",
   "nbconvert_exporter": "python",
   "pygments_lexer": "ipython3",
   "version": "3.12.4"
  }
 },
 "nbformat": 4,
 "nbformat_minor": 5
}
