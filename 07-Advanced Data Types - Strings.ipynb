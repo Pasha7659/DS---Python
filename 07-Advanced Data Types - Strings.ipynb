{
 "cells": [
  {
   "cell_type": "markdown",
   "id": "054ffe84-f922-450b-a5cf-88cf415ae7a1",
   "metadata": {},
   "source": [
    "# Python Strings"
   ]
  },
  {
   "cell_type": "markdown",
   "id": "2a4a1fb2-fec5-4d0b-9f84-fe160429aa86",
   "metadata": {},
   "source": [
    " - In Python, a string is a data type used to represent a sequence of characters.\n",
    " - It is essentially a series of letters, numbers, symbols, or spaces enclosed in quotes.\n",
    " - Strings can be defined using single quotes ('...'), double quotes (\"...\"), or triple quotes ('''...''' or \"\"\"...\"\"\") for multi-line strings.\n",
    " - We use single quotes or double quotes to represent a string in python.\n",
    " - Strings are one of the most commonly used data types, and they are used to represent text.\n",
    " - However, you can perform various operations and use methods to manipulate and word with strings."
   ]
  },
  {
   "cell_type": "markdown",
   "id": "184dbb4b-46f1-489b-8a96-9fc1b3365e19",
   "metadata": {},
   "source": [
    "#### Example"
   ]
  },
  {
   "cell_type": "code",
   "execution_count": 2,
   "id": "ebcc5490-6eb6-4c8f-9d90-acd3466b1f29",
   "metadata": {},
   "outputs": [
    {
     "name": "stdout",
     "output_type": "stream",
     "text": [
      "This is a multi-line\n",
      "string in Python.\n"
     ]
    }
   ],
   "source": [
    "string1 = \"Hello, World!\"\n",
    "string2 = 'Python Programming'\n",
    "string3 = \"\"\"This is a multi-line\n",
    "string in Python.\"\"\"\n",
    "print(string3)"
   ]
  },
  {
   "cell_type": "code",
   "execution_count": 3,
   "id": "9e164a7e-ed22-4f6b-82f2-8d10a9023d9e",
   "metadata": {},
   "outputs": [
    {
     "name": "stdout",
     "output_type": "stream",
     "text": [
      "<class 'str'>\n",
      "<class 'str'>\n",
      "<class 'str'>\n"
     ]
    }
   ],
   "source": [
    "print(type(string1))\n",
    "print(type(string2))\n",
    "print(type(string3))"
   ]
  },
  {
   "cell_type": "markdown",
   "id": "2f412466-ab91-48cf-afb2-07d373e5f6f4",
   "metadata": {},
   "source": [
    "### Key Points:"
   ]
  },
  {
   "cell_type": "markdown",
   "id": "cb5097bc-4384-4ebf-a1fe-cc5506db9bad",
   "metadata": {},
   "source": [
    " - Strings are immutable, meaning once defined, their content cannot be altered.\n",
    " - Strings are indexed, allowing access to individual characters or slices.\n",
    " - Python provides various methods and operations to manipulate and format strings."
   ]
  },
  {
   "cell_type": "markdown",
   "id": "6ee3da3d-9708-459f-8b66-596712a72e12",
   "metadata": {},
   "source": [
    "## String Operations"
   ]
  },
  {
   "cell_type": "markdown",
   "id": "cff48654-15ca-4823-b019-818bcea10f36",
   "metadata": {},
   "source": [
    "Python allows various operations on strings that make it easy to manipulate and work with textual data. Here are some common string operations:"
   ]
  },
  {
   "cell_type": "markdown",
   "id": "fbb0f270-ba9d-4a31-b5c8-4ca5acef8945",
   "metadata": {},
   "source": [
    "### 1. Concatenation (`+`)"
   ]
  },
  {
   "cell_type": "markdown",
   "id": "344ef472-ba04-4621-9081-98fc8fe35f61",
   "metadata": {},
   "source": [
    " - Combines two or more strings. "
   ]
  },
  {
   "cell_type": "code",
   "execution_count": 5,
   "id": "519db1c5-29a7-4acb-aee2-55ee26444c6e",
   "metadata": {},
   "outputs": [
    {
     "name": "stdout",
     "output_type": "stream",
     "text": [
      "Hello World!\n"
     ]
    }
   ],
   "source": [
    "str1 = \"Hello\"\n",
    "str2 = \"World!\"\n",
    "result = str1 + \" \" + str2\n",
    "print(result)"
   ]
  },
  {
   "cell_type": "markdown",
   "id": "bee2f3d2-4d9f-43a6-b23b-5b50f7cced5d",
   "metadata": {},
   "source": [
    "### 2. Repetition (`*`)"
   ]
  },
  {
   "cell_type": "markdown",
   "id": "20e5fbb2-a828-46fa-8321-e6680cd4dc4b",
   "metadata": {},
   "source": [
    " - Repeats a string multiple times."
   ]
  },
  {
   "cell_type": "code",
   "execution_count": 8,
   "id": "2968fda1-4848-4d81-a71c-0df53a926153",
   "metadata": {},
   "outputs": [
    {
     "name": "stdout",
     "output_type": "stream",
     "text": [
      "Deva Deva Deva Deva Deva \n"
     ]
    }
   ],
   "source": [
    "text = \"Deva \"\n",
    "result = text * 5\n",
    "print(result)"
   ]
  },
  {
   "cell_type": "code",
   "execution_count": 25,
   "id": "43886359-fd17-453b-8075-45712bb0252f",
   "metadata": {},
   "outputs": [
    {
     "name": "stdout",
     "output_type": "stream",
     "text": [
      "Hi Deva\n",
      "Hi DevaHi DevaHi Deva\n"
     ]
    }
   ],
   "source": [
    "text = \"Hi \"\n",
    "text2 = \"Deva\"\n",
    "my_deva = text + text2\n",
    "print(my_deva)\n",
    "result = (my_deva * 3)\n",
    "print(result)"
   ]
  },
  {
   "cell_type": "markdown",
   "id": "703c50f9-afa0-430f-8d37-6b52bf59987a",
   "metadata": {},
   "source": [
    "### 3. Indexing"
   ]
  },
  {
   "cell_type": "markdown",
   "id": "627517d6-180d-46a4-bcb1-8cd0d50b1021",
   "metadata": {},
   "source": [
    "- Accesses individual characters using their index. Indexing starts at 0."
   ]
  },
  {
   "cell_type": "code",
   "execution_count": 27,
   "id": "cc641773-5bd8-472c-80c5-314085f3dcf6",
   "metadata": {},
   "outputs": [
    {
     "name": "stdout",
     "output_type": "stream",
     "text": [
      "V\n",
      ".\n",
      "r\n",
      "t\n"
     ]
    }
   ],
   "source": [
    "my_string = \"Vamsi sir is teaching very well.\"\n",
    "print(my_string[0])\n",
    "print(my_string[-1])\n",
    "print(my_string[-8])\n",
    "print(my_string[13])"
   ]
  },
  {
   "cell_type": "markdown",
   "id": "ac344428-81df-457d-a5c3-36f9830a4687",
   "metadata": {},
   "source": [
    "### 4. Slicing ([`:`])"
   ]
  },
  {
   "cell_type": "markdown",
   "id": "9d485557-fe7e-4eef-8e13-c4d2b7db3d04",
   "metadata": {},
   "source": [
    " - Extracts a substring using a range of indices. "
   ]
  },
  {
   "cell_type": "code",
   "execution_count": 29,
   "id": "117b71fa-1fa4-45f9-901a-f4ed11582bc6",
   "metadata": {},
   "outputs": [
    {
     "name": "stdout",
     "output_type": "stream",
     "text": [
      "Hello\n",
      "World!\n",
      "World!\n",
      ", Wor\n"
     ]
    }
   ],
   "source": [
    "text = \"Hello, World!\"\n",
    "print(text[0:5])\n",
    "print(text[7:])\n",
    "print(text[-6:])\n",
    "print(text[5:10])"
   ]
  },
  {
   "cell_type": "markdown",
   "id": "8fd5ace6-70d6-487a-823b-fede24cd56d1",
   "metadata": {},
   "source": [
    "### 5. Length (`len()`)"
   ]
  },
  {
   "cell_type": "markdown",
   "id": "00e0ca17-2332-4def-ab34-9971d54274bd",
   "metadata": {},
   "source": [
    " - Returns the length of the string."
   ]
  },
  {
   "cell_type": "code",
   "execution_count": 30,
   "id": "0dd23be5-e08b-4288-b5e5-f5ac2592980c",
   "metadata": {},
   "outputs": [
    {
     "name": "stdout",
     "output_type": "stream",
     "text": [
      "13\n"
     ]
    }
   ],
   "source": [
    "word = \"Hello, World!\"\n",
    "print(len(word))"
   ]
  },
  {
   "cell_type": "markdown",
   "id": "540ddc10-0f3b-4b58-a220-67ce5d52413a",
   "metadata": {},
   "source": [
    "## Python - Format - Strings"
   ]
  },
  {
   "cell_type": "markdown",
   "id": "eef76f2f-a19d-4871-afe6-f162ae2507cc",
   "metadata": {},
   "source": [
    "### 1. Old Style Formatting (`% Operator`)"
   ]
  },
  {
   "cell_type": "markdown",
   "id": "dd9ff584-9f33-458e-b512-5695b5bf9a2a",
   "metadata": {},
   "source": [
    "In Python, string formatting is a powerful way to inject variables or expressions into a string. There are several methods to format strings in Python:"
   ]
  },
  {
   "cell_type": "markdown",
   "id": "4efd3f3e-9778-4a78-8fe5-a9a387d3c09e",
   "metadata": {},
   "source": [
    " - This is an older way to format strings, similar to C-style string formatting.\n",
    " - Use the % operator and placeholder"
   ]
  },
  {
   "cell_type": "code",
   "execution_count": 43,
   "id": "f0f316a9-8720-46d7-8a91-455f575c3e31",
   "metadata": {},
   "outputs": [
    {
     "name": "stdout",
     "output_type": "stream",
     "text": [
      "My name is Devaraju and I am 20 years old.\n",
      "My height is 6.0 feet.\n"
     ]
    }
   ],
   "source": [
    "name = \"Devaraju\"\n",
    "age = 20\n",
    "print(\"My name is %s and I am %d years old.\" % (name, age))\n",
    "height = 6.0\n",
    "print(\"My height is %.1f feet.\" % height)"
   ]
  },
  {
   "cell_type": "markdown",
   "id": "5c9fbba2-f09e-4a47-bc57-a362aec577df",
   "metadata": {},
   "source": [
    "### 2. Using `str.format()` Method"
   ]
  },
  {
   "cell_type": "markdown",
   "id": "bed38dd0-5d3a-4b31-805e-bcf8eedebe24",
   "metadata": {},
   "source": [
    "- The `format()` method allows you to place variables inside placeholders `{}` within a string."
   ]
  },
  {
   "cell_type": "code",
   "execution_count": 42,
   "id": "ef5d2731-fa22-45ba-86e2-44a884983675",
   "metadata": {},
   "outputs": [
    {
     "name": "stdout",
     "output_type": "stream",
     "text": [
      "My name is Ajay and I am 21 years old.\n",
      "Hello, Ajay. You are 21 years old.\n",
      "Hello, Deva. You are 28 years old.\n"
     ]
    }
   ],
   "source": [
    "name = \"Ajay\"\n",
    "age = 21\n",
    "print(\"My name is {} and I am {} years old.\".format(name, age)) \n",
    "\n",
    "print(\"Hello, {0}. You are {1} years old.\".format(name, age))\n",
    "print(\"Hello, {name}. You are {age} years old.\".format(name=\"Deva\", age=28))"
   ]
  },
  {
   "cell_type": "code",
   "execution_count": 80,
   "id": "a608fe02-aef7-4ccc-bf27-0cd608645e66",
   "metadata": {},
   "outputs": [
    {
     "name": "stdout",
     "output_type": "stream",
     "text": [
      "My name is Devaraju, I am 20 years old, I live in Hyderabad and I am a Data Scientist\n",
      "Hello, Devaraju. You are 20 years old, living in Hyderabad and working as a Data Scientist\n",
      "Hello, Deva. You are 28 years old, residing in Bangalore and working as a Data Scientist\n"
     ]
    }
   ],
   "source": [
    "name = \"Devaraju\"\n",
    "age = 20\n",
    "city = \"Hyderabad\"\n",
    "profession = \"Data Scientist\"\n",
    "\n",
    "print(\"My name is {}, I am {} years old, I live in {} and I am a {}\".format(name, age, city, profession))\n",
    "\n",
    "print(\"Hello, {0}. You are {1} years old, living in {2} and working as a {3}\".format(name, age, city, profession))\n",
    "\n",
    "print(\"Hello, {name}. You are {age} years old, residing in {city} and working as a {profession}\".format(name=\"Deva\", age=28, city=\"Bangalore\", profession=\"Data Scientist\"))"
   ]
  },
  {
   "cell_type": "markdown",
   "id": "3dc8d911-09d3-4d46-a06c-674ad6d8b9b9",
   "metadata": {},
   "source": [
    "### 3. Using `f-strings` (formatted string literals) (Python 3.6+) String Interpolation"
   ]
  },
  {
   "cell_type": "markdown",
   "id": "256bee9a-4d5a-4299-9dbc-cf2aed34b139",
   "metadata": {},
   "source": [
    " - This is the most modern and concise way to format strings. Variables and expressions are placed inside curly braces `{}` prefixed with an `f` or `F` before the string.\n",
    " - Use `f-strings`,where expressions inside curly braces `{}` are evaluated and replaced."
   ]
  },
  {
   "cell_type": "code",
   "execution_count": 48,
   "id": "5dc8ce81-d7e0-448d-a1b5-93c220488f92",
   "metadata": {},
   "outputs": [
    {
     "name": "stdout",
     "output_type": "stream",
     "text": [
      "My name is Devaraju and I am 20 years old.\n",
      "Next year, I will be 21 years old.\n"
     ]
    }
   ],
   "source": [
    "name = \"Devaraju\"\n",
    "age = 20\n",
    "print(f\"My name is {name} and I am {age} years old.\")  \n",
    "\n",
    "print(f\"Next year, I will be {age + 1} years old.\") "
   ]
  },
  {
   "cell_type": "code",
   "execution_count": 54,
   "id": "276dcf6f-dcf6-4927-a323-791f7712ed3b",
   "metadata": {},
   "outputs": [
    {
     "name": "stdout",
     "output_type": "stream",
     "text": [
      "My name is Devaraju, I am 20 years old, residing in Hyderabad. I work as a Data Scientist at Google.\n",
      "Next year, I will be 21 years old, still living in Hyderabad and continuing my Data Scientist in Google.\n",
      "My name is Devaraju, I am 20 years old, living in Hyderabad and working as Data Scientist.\n",
      "Hello, my name is Devaraju. I am a 20-year-old Data Scientist residing in Hyderabad.\n"
     ]
    }
   ],
   "source": [
    "name = \"Devaraju\"\n",
    "age = 20\n",
    "city = \"Hyderabad\"\n",
    "profession = \"Data Scientist\"\n",
    "company = \"Google\"\n",
    "\n",
    "print(f\"My name is {name}, I am {age} years old, residing in {city}. I work as a {profession} at {company}.\")\n",
    "\n",
    "print(f\"Next year, I will be {age + 1} years old, still living in {city} and continuing my {profession} in {company}.\")\n",
    "\n",
    "print(f\"My name is {name}, I am {age} years old, living in {city} and working as {profession}.\")\n",
    "\n",
    "print(f\"Hello, my name is {name}. I am a {age}-year-old {profession} residing in {city}.\")"
   ]
  },
  {
   "cell_type": "markdown",
   "id": "bb8401b5-7908-4aa2-afcf-e4519f756741",
   "metadata": {},
   "source": [
    "### 4. Using `str.format()` with Format Specification"
   ]
  },
  {
   "cell_type": "markdown",
   "id": "4e543b88-92d1-4c03-897d-e42ab1d4a2ef",
   "metadata": {},
   "source": [
    "- You can control formatting, such as padding, alignment, and number precision using format specifiers."
   ]
  },
  {
   "cell_type": "code",
   "execution_count": 41,
   "id": "21569a9d-44ad-4292-96f7-3a5a3f66cf60",
   "metadata": {},
   "outputs": [
    {
     "name": "stdout",
     "output_type": "stream",
     "text": [
      "Left      \n",
      "     Right\n",
      "  Center  \n",
      "123.49\n"
     ]
    }
   ],
   "source": [
    "print(\"{:<10}\".format(\"Left\"))   # Left-align (default): \"Left      \"\n",
    "print(\"{:>10}\".format(\"Right\"))  # Right-align: \"     Right\"\n",
    "print(\"{:^10}\".format(\"Center\")) # Center-align: \" Center  \"\n",
    "\n",
    "# Number formatting\n",
    "number = 123.486789\n",
    "print(\"{:.2f}\".format(number)) # Output: 123.46 (rounded to 2 decimal places)"
   ]
  },
  {
   "cell_type": "markdown",
   "id": "99d8a839-733e-4bb2-9dcd-43e3d7caf200",
   "metadata": {},
   "source": [
    "### 5. Advanced Formatting with f-strings"
   ]
  },
  {
   "cell_type": "markdown",
   "id": "6c11b317-7f8c-4ca0-8187-ed3ab2fbfff5",
   "metadata": {},
   "source": [
    " - You can also use format specifiers inside f-strings:"
   ]
  },
  {
   "cell_type": "code",
   "execution_count": 99,
   "id": "5fe84a22-5fb6-473c-930a-b77e5690eec1",
   "metadata": {},
   "outputs": [
    {
     "name": "stdout",
     "output_type": "stream",
     "text": [
      "123.50\n",
      "Python    \n",
      "    Python\n",
      "  Python  \n"
     ]
    }
   ],
   "source": [
    "num = 123.496789\n",
    "print(f\"{num:.2f}\")  # Output: 123.46\n",
    "\n",
    "# Padding and alignment with f-strings\n",
    "print(f\"{'Python':<10}\")   # Output: \"Python    \"\n",
    "print(f\"{'Python':>10}\")   # Output: \"    Python\"\n",
    "print(f\"{'Python':^10}\")   # Output: \"  Python  \""
   ]
  },
  {
   "cell_type": "markdown",
   "id": "9269ba73-56c5-446a-adfb-bca6fb03c176",
   "metadata": {},
   "source": [
    "| Method |Descrpition|\n",
    "|--------|-------------|\n",
    "| len()| Retuns the length of the String|\n",
    "| lower()| It converts all uppercase characters in a string to lowercase|\n",
    "| upper()| It converts all lowercase characters in a string to uppercase|\n",
    "| strip()| To remove leading and trailing whitespace characters from a string|\n",
    "| replace()| Replaces a substring with another substring|\n",
    "| split()| To split a string into a list of substrings based on a specified delimiter|\n",
    "| join()| Join's a list of strting into a single string|\n",
    "| capitalize()| Converts the first character to upper case|\n",
    "| caseflod()| Converts string into lower case|\n",
    "| center()| Returns a centered string|\n",
    "| count()| Returns the number of times a specified value occurs in a string|\n",
    "| encode()| Returns an encoded version of the string|\n",
    "| endswith()| Returns true if the string ends with the specified value|\n",
    "| extandtabs()| Sets the tab size of the string|\n",
    "| find()| Searches the string for a specified value and returns the position of where it was found|\n",
    "| format()| Formats specified values in a string |\n",
    "| format_map()| Formats specified values in a string|\n",
    "| index()| Searches the string for a specified value and returns the position of where it was found|\n",
    "| isalnum()| Returns True if all characters in the string are alphanumeric|\n",
    "| isalpha()| Returns True if all characters in the string are in the alphabet|\n",
    "| isascii()| Returns True if all characters in the string are ascii characters|\n",
    "| isdecimal()| Returns True if all characters in the string are decimals|\n",
    "| isdigit()| Returns True if all characters in the string are digits|\n",
    "| isidentifier()| Returns True if the string is an identifier|\n",
    "| isnumeric()| Returns True if all characters in the string are numeric|\n",
    "| isprintable()| Returns True if all characters in the string are printable|\n",
    "| isspace()| Returns True if all characters in the string are whitespaces|\n",
    "| istitle()| Returns True if the string follows the rules of a title|\n",
    "| ljust()| Returns a left justified version of the string|\n",
    "| lstrip()| Returns a left trim version of the string|\n",
    "| partition()| Returns a tuple where the string is parted into three parts|\n",
    "| startswith()| Returns true if the string starts with the specified value|\n",
    "| maketrans()| Returns a translation table to be used in translations|\n",
    "| translate()| Returns a translated string|\n",
    "| title()| Converts the first character of each word to upper case|\n",
    "| swapcase()| Swaps cases, lower case becomes upper case and vice versa|\n",
    "| zfill()| Fills the string with a specified number of 0 values at the beginning|\n"
   ]
  },
  {
   "cell_type": "markdown",
   "id": "0d17d3fc-6f3d-40f1-a9c5-ea6c7471407e",
   "metadata": {},
   "source": [
    "## String Methods"
   ]
  },
  {
   "cell_type": "markdown",
   "id": "8327aaf3-cc28-4fa5-8d27-7889d341df38",
   "metadata": {},
   "source": [
    "Python offers several built-in string methods that allow you to perform various operations on strings. Here’s a summary of some commonly used string methods:"
   ]
  },
  {
   "cell_type": "markdown",
   "id": "c862dd23-00fb-45c8-818c-94cb4ef9c7b9",
   "metadata": {},
   "source": [
    "### 1. `len():`"
   ]
  },
  {
   "cell_type": "markdown",
   "id": "9a5e37fd-907b-4c42-bb15-14baf40a88ad",
   "metadata": {},
   "source": [
    " - The `len()` function in Python is used to get the length of an object. For strings, it returns the number of characters.\n",
    " - Returns the length of the String."
   ]
  },
  {
   "cell_type": "code",
   "execution_count": 58,
   "id": "bfde7a10-20b6-4348-b809-fdd3de58a77c",
   "metadata": {},
   "outputs": [
    {
     "name": "stdout",
     "output_type": "stream",
     "text": [
      "13\n"
     ]
    }
   ],
   "source": [
    "my_string = \"Hello, World!\"\n",
    "length = len(my_string)\n",
    "print(length)"
   ]
  },
  {
   "cell_type": "code",
   "execution_count": 57,
   "id": "19fc40cb-e629-48e8-9fd2-79bc839301c6",
   "metadata": {},
   "outputs": [
    {
     "name": "stdout",
     "output_type": "stream",
     "text": [
      "20\n"
     ]
    }
   ],
   "source": [
    "my_string = \"Python easy to learn\"\n",
    "length = len(my_string)\n",
    "print(length)"
   ]
  },
  {
   "cell_type": "markdown",
   "id": "addc8e21-1c9f-4247-839f-646431acdb69",
   "metadata": {},
   "source": [
    "### 2. `lower():` and `upper():`"
   ]
  },
  {
   "cell_type": "markdown",
   "id": "3a559127-ba4b-4538-a371-28bbb4c11c1c",
   "metadata": {},
   "source": [
    "The `lower()` and `upper()` methods in Python are used to change the case of characters in a string."
   ]
  },
  {
   "cell_type": "markdown",
   "id": "bbbe1a18-17a1-4a9d-9cfb-770cf12a8a0a",
   "metadata": {},
   "source": [
    "#### `str.lower()`"
   ]
  },
  {
   "cell_type": "markdown",
   "id": "733c2b5c-c467-49a2-9778-863a645939ee",
   "metadata": {},
   "source": [
    "The `lower()` method converts all uppercase characters in a string to lowercase."
   ]
  },
  {
   "cell_type": "code",
   "execution_count": 59,
   "id": "135e5e91-e79f-435f-86fd-96d0b4275273",
   "metadata": {},
   "outputs": [
    {
     "name": "stdout",
     "output_type": "stream",
     "text": [
      "hello, world!\n"
     ]
    }
   ],
   "source": [
    "text = \"Hello, World!\"\n",
    "print(text.lower())"
   ]
  },
  {
   "cell_type": "markdown",
   "id": "c0021ffb-d36e-4cbf-bb15-f4ee702a6711",
   "metadata": {},
   "source": [
    "#### Use Case:"
   ]
  },
  {
   "cell_type": "markdown",
   "id": "a2a6cae9-1b68-4210-b67d-f8a4309dc9b3",
   "metadata": {},
   "source": [
    "You can use `lower()` for case-insensitive comparisons or standardizing user input."
   ]
  },
  {
   "cell_type": "markdown",
   "id": "54de1e56-d36f-4a1d-8925-1069bba8b368",
   "metadata": {},
   "source": [
    "#### `str.upper()`"
   ]
  },
  {
   "cell_type": "markdown",
   "id": "11eff5fb-dd64-43a2-a3dc-48c4d9a2d2e9",
   "metadata": {},
   "source": [
    "The `upper()` method converts all lowercase characters in a string to uppercase."
   ]
  },
  {
   "cell_type": "code",
   "execution_count": 60,
   "id": "3669679b-6eec-42e8-a2c1-3cbb035112d3",
   "metadata": {},
   "outputs": [
    {
     "name": "stdout",
     "output_type": "stream",
     "text": [
      "HELLO, WORLD!\n"
     ]
    }
   ],
   "source": [
    "text = \"Hello, World!\"\n",
    "print(text.upper())"
   ]
  },
  {
   "cell_type": "markdown",
   "id": "33c11217-4ef0-4484-b4f7-8c266436638b",
   "metadata": {},
   "source": [
    "#### Use Case:"
   ]
  },
  {
   "cell_type": "markdown",
   "id": "5329e642-9201-4910-9d3b-97ae447356e2",
   "metadata": {},
   "source": [
    "This is useful when you want to ensure text is consistently in uppercase, like when displaying certain information."
   ]
  },
  {
   "cell_type": "markdown",
   "id": "98f491d1-abbf-4ceb-a2d0-a73e81c04e59",
   "metadata": {},
   "source": [
    "### 3.`strip():`"
   ]
  },
  {
   "cell_type": "markdown",
   "id": "142cd74e-0b85-4c6c-b68e-41e0ad99a92e",
   "metadata": {},
   "source": [
    "- The `strip()` method in Python is used to remove leading and trailing whitespace characters (like spaces, tabs, and newlines) from a string.\n",
    "- It can also be used to remove specific characters if you pass them as an argument."
   ]
  },
  {
   "cell_type": "markdown",
   "id": "8f9e14e5-9412-4a91-9e7c-778135d03fc5",
   "metadata": {},
   "source": [
    "- #### Removing whitespace:"
   ]
  },
  {
   "cell_type": "code",
   "execution_count": 61,
   "id": "31050db8-8c03-4fae-8c9f-0d1a119ab2f5",
   "metadata": {},
   "outputs": [
    {
     "name": "stdout",
     "output_type": "stream",
     "text": [
      "Hello World\n"
     ]
    }
   ],
   "source": [
    "text = \"   Hello World   \"\n",
    "print(text.strip())"
   ]
  },
  {
   "cell_type": "markdown",
   "id": "df7a5002-6758-456d-8b1b-075dd9c76182",
   "metadata": {},
   "source": [
    "- #### Removing specific characters:"
   ]
  },
  {
   "cell_type": "code",
   "execution_count": 63,
   "id": "c4f1e15a-5431-4290-9d0e-6141e99cebda",
   "metadata": {},
   "outputs": [
    {
     "name": "stdout",
     "output_type": "stream",
     "text": [
      "Hello World\n"
     ]
    }
   ],
   "source": [
    "text = \"***@Hello World@***\"\n",
    "print(text.strip('*@'))"
   ]
  },
  {
   "cell_type": "markdown",
   "id": "6146ec18-859b-42c6-80c8-41166ff8000b",
   "metadata": {},
   "source": [
    "### 4. `replace():`"
   ]
  },
  {
   "cell_type": "markdown",
   "id": "edc2dde9-ae1a-4e9c-8094-bd82b701f5bf",
   "metadata": {},
   "source": [
    "- The `replace()` method is used to replace occurrences of a specified substring with another substring in a string.\n",
    "- Replaces a substring with another substring."
   ]
  },
  {
   "cell_type": "code",
   "execution_count": 64,
   "id": "a2c109b1-ae3b-453b-9b16-1e2d1c9b117b",
   "metadata": {},
   "outputs": [
    {
     "name": "stdout",
     "output_type": "stream",
     "text": [
      "Hello, Python!\n"
     ]
    }
   ],
   "source": [
    "text = \"Hello, world!\"\n",
    "new_text = text.replace(\"world\", \"Python\")\n",
    "print(new_text)"
   ]
  },
  {
   "cell_type": "code",
   "execution_count": 66,
   "id": "31296c5c-bf20-4e24-98b6-26d5bb94e087",
   "metadata": {},
   "outputs": [
    {
     "name": "stdout",
     "output_type": "stream",
     "text": [
      "Hello, worPython! Python\n"
     ]
    }
   ],
   "source": [
    "text = \"Hello, world! ld\"\n",
    "new_text = text.replace(\"ld\", \"Python\")\n",
    "print(new_text)"
   ]
  },
  {
   "cell_type": "markdown",
   "id": "f33dc1d8-9756-44d5-88a0-86389fae6ffd",
   "metadata": {},
   "source": [
    "In all cases, `replace()` creates a new string with the specified replacements made. The original string remains unchanged."
   ]
  },
  {
   "cell_type": "markdown",
   "id": "e397c6eb-1b17-4513-8738-39853e232161",
   "metadata": {},
   "source": [
    "### 5. `split():`"
   ]
  },
  {
   "cell_type": "markdown",
   "id": "babbbc6c-5db4-4e76-92de-bcd463282c91",
   "metadata": {},
   "source": [
    "- In Python, the split() method is used to split a string into a list of substrings based on a specified delimiter.\n",
    "- By default, it splits on any whitespace and removes extra whitespace. Here’s how it works:"
   ]
  },
  {
   "cell_type": "markdown",
   "id": "0182254d-659a-4050-8672-afb8a33df563",
   "metadata": {},
   "source": [
    "#### Basic Usage:"
   ]
  },
  {
   "cell_type": "code",
   "execution_count": 73,
   "id": "83742dbd-c9fc-4270-a4c9-add6b78c4efe",
   "metadata": {},
   "outputs": [
    {
     "name": "stdout",
     "output_type": "stream",
     "text": [
      "['Python', 'is', 'a', 'programming', 'language', 'and', 'python', 'is', 'easy', 'to', 'learn']\n"
     ]
    }
   ],
   "source": [
    "my_string = \"Python is a programming language and python is easy to learn\"\n",
    "words = my_string.split()\n",
    "print(words)"
   ]
  },
  {
   "cell_type": "markdown",
   "id": "5533ac5e-70ce-4376-9e4f-7d4ccea09853",
   "metadata": {},
   "source": [
    "#### Using a Specific Delimiter:"
   ]
  },
  {
   "cell_type": "markdown",
   "id": "7d3423f5-a81f-436f-96cc-c8dc31345a0e",
   "metadata": {},
   "source": [
    "You can specify a delimiter to split the string at that character or substring."
   ]
  },
  {
   "cell_type": "code",
   "execution_count": 70,
   "id": "17e90f6f-1290-4443-9ca4-b87c2c89ca0b",
   "metadata": {},
   "outputs": [
    {
     "name": "stdout",
     "output_type": "stream",
     "text": [
      "['Python is a programming language and python is easy to learn']\n"
     ]
    }
   ],
   "source": [
    "my_string = \"Python is a programming language and python is easy to learn\"\n",
    "words = my_string.split(\",\")\n",
    "print(words)"
   ]
  },
  {
   "cell_type": "code",
   "execution_count": 71,
   "id": "e4a72a9e-d357-42b3-ad63-e5351d3d1b7f",
   "metadata": {},
   "outputs": [
    {
     "name": "stdout",
     "output_type": "stream",
     "text": [
      "['apple', 'banana', 'orange']\n"
     ]
    }
   ],
   "source": [
    "text = \"apple,banana,orange\"\n",
    "parts = text.split(\",\")\n",
    "print(parts)"
   ]
  },
  {
   "cell_type": "markdown",
   "id": "4ef1c952-ce4b-4ec6-823a-ee092ce7c169",
   "metadata": {},
   "source": [
    "#### Splitting with Limit:"
   ]
  },
  {
   "cell_type": "markdown",
   "id": "9d4f5bda-7967-448e-b72c-6b754517cb6e",
   "metadata": {},
   "source": [
    "You can also limit the number of splits."
   ]
  },
  {
   "cell_type": "code",
   "execution_count": 74,
   "id": "78d27e68-d01a-47e3-8dc0-61acdd8c5f42",
   "metadata": {},
   "outputs": [
    {
     "name": "stdout",
     "output_type": "stream",
     "text": [
      "['Python', 'is a programming language and python is easy to learn']\n"
     ]
    }
   ],
   "source": [
    "my_string = \"Python is a programming language and python is easy to learn\"\n",
    "words = my_string.split(\" \", 1)\n",
    "print(words)"
   ]
  },
  {
   "cell_type": "markdown",
   "id": "f331f497-679e-466f-af9c-9af14393a32e",
   "metadata": {},
   "source": [
    "### 6.`join():`"
   ]
  },
  {
   "cell_type": "markdown",
   "id": "f6c0476b-bcde-45ea-a659-0176c477ead2",
   "metadata": {},
   "source": [
    "- In Python, The join() method in Python is a string method that concatenates (joins) all elements of an iterable (like a list, tuple, or string) into a single string.\n",
    "- The join() method in Python is used to concatenate a sequence of strings into a single string with a specified delimiter. It’s called on the delimiter string and takes an iterable of strings as an argument. Here’s how it works:"
   ]
  },
  {
   "cell_type": "code",
   "execution_count": 75,
   "id": "c14119ba-beeb-43e5-89db-c833771c9759",
   "metadata": {},
   "outputs": [
    {
     "name": "stdout",
     "output_type": "stream",
     "text": [
      "Python is a programming language and python is easy to learn\n"
     ]
    }
   ],
   "source": [
    "words = ['Python', 'is', 'a', 'programming', 'language', 'and', 'python', 'is', 'easy', 'to', 'learn']\n",
    "joined_string = ' '.join(words)\n",
    "print(joined_string)"
   ]
  },
  {
   "cell_type": "markdown",
   "id": "faa74b7f-8132-4528-8963-077aef49fbec",
   "metadata": {},
   "source": [
    "- #### NOTE:\n",
    "    The join() method only works with iterables of strings. If your iterable contains non-string elements, you need to convert them to strings first."
   ]
  },
  {
   "cell_type": "markdown",
   "id": "e6cf7bf6-2f66-4f4e-9e7a-3e49e83df6f9",
   "metadata": {},
   "source": [
    "#### 7.`capitalize():`"
   ]
  },
  {
   "cell_type": "markdown",
   "id": "0442e334-50b1-4705-a8f2-df9b52d6fb5c",
   "metadata": {},
   "source": [
    "The capitalize() method returns a string where the first character is upper case, and the rest is lower case."
   ]
  },
  {
   "cell_type": "code",
   "execution_count": 83,
   "id": "4c6434d7-c15a-472f-9aac-81a04282bb3d",
   "metadata": {},
   "outputs": [
    {
     "name": "stdout",
     "output_type": "stream",
     "text": [
      "Hello, and welcome to my world.\n"
     ]
    }
   ],
   "source": [
    "txt = \"hello, and welcome to my world.\"\n",
    "\n",
    "x = txt.capitalize()\n",
    "\n",
    "print (x)"
   ]
  },
  {
   "cell_type": "code",
   "execution_count": 77,
   "id": "e7446296-43cd-470b-b151-1c64ea6f05cf",
   "metadata": {},
   "outputs": [
    {
     "name": "stdout",
     "output_type": "stream",
     "text": [
      "Python is fun!\n"
     ]
    }
   ],
   "source": [
    "txt = \"python is FUN!\"\n",
    "\n",
    "x = txt.capitalize()\n",
    "\n",
    "print (x)\n"
   ]
  },
  {
   "cell_type": "code",
   "execution_count": 78,
   "id": "1117a601-87ac-4583-9a3a-1ffd03227283",
   "metadata": {},
   "outputs": [
    {
     "name": "stdout",
     "output_type": "stream",
     "text": [
      "36 is my age.\n"
     ]
    }
   ],
   "source": [
    "txt = \"36 is my age.\"\n",
    "\n",
    "x = txt.capitalize()\n",
    "\n",
    "print (x)"
   ]
  },
  {
   "cell_type": "markdown",
   "id": "05cd7a4e-7a72-4cc6-8148-29637bf2c869",
   "metadata": {},
   "source": [
    "#### 8.`casefold():`"
   ]
  },
  {
   "cell_type": "markdown",
   "id": "20cd31a5-1b3d-437c-847c-d3ef5431b460",
   "metadata": {},
   "source": [
    "- The `casefold()` method returns a string where all the characters are lower case."
   ]
  },
  {
   "cell_type": "markdown",
   "id": "5c3a3b42-a4ec-4256-8236-06bd9ab1eba6",
   "metadata": {},
   "source": [
    "- This method is similar to the `lower()` method, but the `casefold()` method is stronger, more aggressive, meaning that it will convert more characters into lower case, and will find more matches when comparing two strings and both are converted using the `casefold()` method."
   ]
  },
  {
   "cell_type": "code",
   "execution_count": 81,
   "id": "cea4b5cc-a6a8-46f7-8119-d88bfc49a75b",
   "metadata": {},
   "outputs": [
    {
     "name": "stdout",
     "output_type": "stream",
     "text": [
      "hello, and welcome to my world!\n"
     ]
    }
   ],
   "source": [
    "txt = \"Hello, And WeLcome To My World!\"\n",
    "\n",
    "x = txt.casefold()\n",
    "\n",
    "print(x)"
   ]
  },
  {
   "cell_type": "markdown",
   "id": "a29df12f-4e7c-4750-bafa-0dcbc61f05f6",
   "metadata": {},
   "source": [
    "### 9.`center():`"
   ]
  },
  {
   "cell_type": "markdown",
   "id": "9c82b860-344b-467f-bea9-f80c6e848ea0",
   "metadata": {},
   "source": [
    "- The `center()` method will center align the string, using a specified character (space is default) as the fill character."
   ]
  },
  {
   "cell_type": "code",
   "execution_count": 83,
   "id": "177cf2c8-dd81-408d-b537-7d561afda505",
   "metadata": {},
   "outputs": [
    {
     "name": "stdout",
     "output_type": "stream",
     "text": [
      "       Gopal        \n"
     ]
    }
   ],
   "source": [
    "word = \"Gopal\"\n",
    "\n",
    "x = word.center(20)\n",
    "\n",
    "print(x)"
   ]
  },
  {
   "cell_type": "code",
   "execution_count": 85,
   "id": "1f219426-9f64-4239-bbfb-03958a56ef78",
   "metadata": {},
   "outputs": [
    {
     "name": "stdout",
     "output_type": "stream",
     "text": [
      "********ajay********\n"
     ]
    }
   ],
   "source": [
    "txt = \"ajay\"\n",
    "\n",
    "x = txt.center(20, \"*\")\n",
    "\n",
    "print(x)"
   ]
  },
  {
   "cell_type": "markdown",
   "id": "70f5be2f-533c-483e-8e7b-396620822802",
   "metadata": {},
   "source": [
    "### 10.`count():`"
   ]
  },
  {
   "cell_type": "markdown",
   "id": "390592d9-5df0-463b-8cba-03b47acd760c",
   "metadata": {},
   "source": [
    "- The `count()` method returns the number of times a specified value appears in the string."
   ]
  },
  {
   "cell_type": "markdown",
   "id": "409a332b-b51e-4f79-9376-b18a48884aeb",
   "metadata": {},
   "source": [
    "#### Syntax"
   ]
  },
  {
   "cell_type": "code",
   "execution_count": null,
   "id": "2b849177-7835-4ba3-896b-1559f7242c18",
   "metadata": {},
   "outputs": [],
   "source": [
    "string.count(substring, start=0, end=len(string))"
   ]
  },
  {
   "cell_type": "code",
   "execution_count": 91,
   "id": "49213d23-f576-4f8d-8991-94672c98623a",
   "metadata": {},
   "outputs": [
    {
     "name": "stdout",
     "output_type": "stream",
     "text": [
      "1\n"
     ]
    }
   ],
   "source": [
    "word = \"Don't watch the clock; do what it does Keep going.\"\n",
    "x = word.count(\"clock\")\n",
    "print(x)"
   ]
  },
  {
   "cell_type": "code",
   "execution_count": 92,
   "id": "a42aa553-c6ee-4370-9133-443861c1855f",
   "metadata": {},
   "outputs": [
    {
     "name": "stdout",
     "output_type": "stream",
     "text": [
      "3\n"
     ]
    }
   ],
   "source": [
    "numbers = [1, 2, 2, 3, 4, 2]\n",
    "count_2 = numbers.count(2)\n",
    "print(count_2)"
   ]
  },
  {
   "cell_type": "markdown",
   "id": "e0f25473-dd77-4293-8d1d-794d9c91ff56",
   "metadata": {},
   "source": [
    "### 11. `encode():`"
   ]
  },
  {
   "cell_type": "markdown",
   "id": "6790eedb-42ce-4e19-918e-56b64cb2e424",
   "metadata": {},
   "source": [
    "- In Python, the `encode()` method is used to encode a string into bytes. It’s often used when you need to convert a string into a specific byte encoding, like UTF-8 or ASCII. \n",
    "- The `encode()` method encodes the string, using the specified encoding. If no encoding is specified, UTF-8 will be used."
   ]
  },
  {
   "cell_type": "markdown",
   "id": "c308d217-5ba7-4299-b7ca-9bb63b1d47a1",
   "metadata": {},
   "source": [
    "#### Syntax"
   ]
  },
  {
   "cell_type": "code",
   "execution_count": null,
   "id": "9b032169-9fec-4041-a365-f3063ae454d8",
   "metadata": {},
   "outputs": [],
   "source": [
    "string.encode(encoding=\"utf-8\", errors=\"strict\")"
   ]
  },
  {
   "cell_type": "code",
   "execution_count": 94,
   "id": "525977fb-d72e-4cd2-8bf0-810e85c2e7a2",
   "metadata": {},
   "outputs": [
    {
     "name": "stdout",
     "output_type": "stream",
     "text": [
      "b'Hello, world!'\n"
     ]
    }
   ],
   "source": [
    "text = \"Hello, world!\"\n",
    "encoded_text = text.encode(\"utf-8\")\n",
    "print(encoded_text)"
   ]
  },
  {
   "cell_type": "markdown",
   "id": "54c0210c-b86b-4dce-a147-663901055b6f",
   "metadata": {},
   "source": [
    "### 12. `endswith():`"
   ]
  },
  {
   "cell_type": "markdown",
   "id": "03ddeca1-2faa-46e3-9b90-4ee40d865a6c",
   "metadata": {},
   "source": [
    "- The `endswith()` method returns True if the string ends with the specified value, otherwise False.\n",
    "- The `endswith()` method in Python is a built-in string method used to check if a string ends with a specified suffix. It returns a boolean value: True if the string ends with the given suffix, otherwise False.\n"
   ]
  },
  {
   "cell_type": "markdown",
   "id": "cd0254cf-6005-422f-8869-efb31e0a2d9f",
   "metadata": {},
   "source": [
    "#### Syntax"
   ]
  },
  {
   "cell_type": "code",
   "execution_count": null,
   "id": "cbd88d57-fb32-4349-b384-04e241e86979",
   "metadata": {},
   "outputs": [],
   "source": [
    "string.endswith(value, start, end)"
   ]
  },
  {
   "cell_type": "code",
   "execution_count": 95,
   "id": "8cc3db74-f542-46ab-b93c-fdaae3cf553c",
   "metadata": {},
   "outputs": [
    {
     "name": "stdout",
     "output_type": "stream",
     "text": [
      "True\n"
     ]
    }
   ],
   "source": [
    "txt = \"Hello, welcome to my world.\"\n",
    "\n",
    "x = txt.endswith(\"my world.\")\n",
    "\n",
    "print(x)"
   ]
  },
  {
   "cell_type": "code",
   "execution_count": 96,
   "id": "3fda4c7f-ce18-4895-889e-a08b52e26869",
   "metadata": {},
   "outputs": [
    {
     "name": "stdout",
     "output_type": "stream",
     "text": [
      "False\n"
     ]
    }
   ],
   "source": [
    "txt = \"Hello, welcome to my world.\"\n",
    "\n",
    "x = txt.endswith(\"my world.\", 5, 11)\n",
    "\n",
    "print(x)"
   ]
  },
  {
   "cell_type": "markdown",
   "id": "e898db30-5063-47d8-bc4e-81abadedbbcc",
   "metadata": {},
   "source": [
    "### 13.`expandtabs():`"
   ]
  },
  {
   "cell_type": "markdown",
   "id": "1af419d6-f558-44ab-8b48-433e5a0d600a",
   "metadata": {},
   "source": [
    "- The `expandtabs()` method sets the tab size to the specified number of whitespaces.\n",
    "- The `expandtabs()` method in Python is used to replace all occurrences of tab characters (`\\t`) in a string with a specified number of spaces. It returns a new string with the expanded tabs."
   ]
  },
  {
   "cell_type": "markdown",
   "id": "8747feb0-ced6-455e-bbf7-786a0dffbf10",
   "metadata": {},
   "source": [
    "#### Syntax"
   ]
  },
  {
   "cell_type": "code",
   "execution_count": null,
   "id": "624c5180-4d3e-461d-8c05-211bf5aa4e16",
   "metadata": {},
   "outputs": [],
   "source": [
    "string.expandtabs(tabsize)"
   ]
  },
  {
   "cell_type": "code",
   "execution_count": 97,
   "id": "8d37adf5-21bf-44e1-b8bb-0b8c9ba95fdd",
   "metadata": {},
   "outputs": [
    {
     "name": "stdout",
     "output_type": "stream",
     "text": [
      "This    is      a       string  with    tabs\n",
      "This    is  a   string  with    tabs\n"
     ]
    }
   ],
   "source": [
    "text = \"This\\tis\\ta\\tstring\\twith\\ttabs\"\n",
    "\n",
    "expanded_text = text.expandtabs()\n",
    "print(expanded_text)\n",
    "\n",
    "expanded_text = text.expandtabs(4)\n",
    "print(expanded_text)"
   ]
  },
  {
   "cell_type": "code",
   "execution_count": 98,
   "id": "e0326899-8aee-40a9-8288-3741b78b2598",
   "metadata": {},
   "outputs": [
    {
     "name": "stdout",
     "output_type": "stream",
     "text": [
      "H\te\tl\tl\to\n",
      "H       e       l       l       o\n",
      "H e l l o\n",
      "H   e   l   l   o\n",
      "H         e         l         l         o\n"
     ]
    }
   ],
   "source": [
    "txt = \"H\\te\\tl\\tl\\to\"\n",
    "\n",
    "print(txt)\n",
    "print(txt.expandtabs())\n",
    "print(txt.expandtabs(2))\n",
    "print(txt.expandtabs(4))\n",
    "print(txt.expandtabs(10))"
   ]
  },
  {
   "cell_type": "markdown",
   "id": "1cc224e8-2ade-4102-8add-4932140771d0",
   "metadata": {},
   "source": [
    "### 14. `find():`"
   ]
  },
  {
   "cell_type": "markdown",
   "id": "2e6a4d65-15b6-4ace-a89b-ec4f4a699dd1",
   "metadata": {},
   "source": [
    "- The `find()` method finds the first occurrence of the specified value.\n",
    "- The `find()` method returns -1 if the value is not found.\n",
    "- The `find()` method is almost the same as the `index()` method, the only difference is that the `index()` method raises an exception if the value is not found. (See example below)\n",
    "- The `find()` method in Python is used to locate the index of the first occurrence of a specified substring within a given string. If the substring is not found, it returns -1\r\n"
   ]
  },
  {
   "cell_type": "markdown",
   "id": "2f564f58-060e-42fd-a71e-c3ca626648e9",
   "metadata": {},
   "source": [
    "#### Syntax"
   ]
  },
  {
   "cell_type": "code",
   "execution_count": null,
   "id": "cf66ec41-c77a-429f-9e87-26d1a3d05816",
   "metadata": {},
   "outputs": [],
   "source": [
    "string.find(value, start, end)"
   ]
  },
  {
   "cell_type": "code",
   "execution_count": 1,
   "id": "096a34c0-b110-4f4d-95df-d9e0d2922080",
   "metadata": {},
   "outputs": [
    {
     "name": "stdout",
     "output_type": "stream",
     "text": [
      "1\n"
     ]
    }
   ],
   "source": [
    "txt = \"Hello, welcome to my world.\"\n",
    "\n",
    "x = txt.find(\"e\")\n",
    "\n",
    "print(x)"
   ]
  },
  {
   "cell_type": "code",
   "execution_count": 2,
   "id": "f7e8bea8-face-4e76-a8f1-c6636f21a786",
   "metadata": {},
   "outputs": [
    {
     "name": "stdout",
     "output_type": "stream",
     "text": [
      "8\n"
     ]
    }
   ],
   "source": [
    "txt = \"Hello, welcome to my world.\"\n",
    "\n",
    "x = txt.find(\"e\", 5, 10)\n",
    "\n",
    "print(x)"
   ]
  },
  {
   "cell_type": "code",
   "execution_count": 6,
   "id": "92cb6c14-6b71-4b70-abe4-4428d911832a",
   "metadata": {},
   "outputs": [
    {
     "name": "stdout",
     "output_type": "stream",
     "text": [
      "7\n",
      "-1\n"
     ]
    }
   ],
   "source": [
    "text = \"Hello, world!\"\n",
    "index = text.find(\"world\")\n",
    "print(index)  \n",
    "\n",
    "index = text.find(\"hello\")\n",
    "print(index)  "
   ]
  },
  {
   "cell_type": "markdown",
   "id": "a36a18fd-98de-40de-91a9-828b2b0711fb",
   "metadata": {},
   "source": [
    "### 15.`format():`"
   ]
  },
  {
   "cell_type": "markdown",
   "id": "eba51ac5-7859-440f-99d7-f40233a1d163",
   "metadata": {},
   "source": [
    "- The `format()` method formats the specified value(s) and insert them inside the string's placeholder.\n",
    "- The placeholder is defined using curly brackets: {}. Read more about the placeholders in the Placeholder section below.\n",
    "- The `format()` method returns the formatted string."
   ]
  },
  {
   "cell_type": "markdown",
   "id": "8c3a9c63-8cbd-467b-9b52-3e9872efa8ec",
   "metadata": {},
   "source": [
    "#### Syntax"
   ]
  },
  {
   "cell_type": "code",
   "execution_count": null,
   "id": "48bc0d12-406a-4657-a5b3-4398d97cfd2a",
   "metadata": {},
   "outputs": [],
   "source": [
    "string.format(value1, value2...)"
   ]
  },
  {
   "cell_type": "code",
   "execution_count": 10,
   "id": "7cec1a71-ca60-4cb1-b572-ae62154b25d3",
   "metadata": {},
   "outputs": [
    {
     "name": "stdout",
     "output_type": "stream",
     "text": [
      "My name is Deva, I'm 20\n",
      "My name is Ajay, I'm 21\n",
      "My name is Sakku, I'm 21\n"
     ]
    }
   ],
   "source": [
    "txt1 = \"My name is {fname}, I'm {age}\".format(fname = \"Deva\", age = 20)\n",
    "txt2 = \"My name is {0}, I'm {1}\".format(\"Ajay\",21)\n",
    "txt3 = \"My name is {}, I'm {}\".format(\"Sakku\",21)\n",
    "print(txt1)\n",
    "print(txt2)\n",
    "print(txt3)"
   ]
  },
  {
   "cell_type": "code",
   "execution_count": 11,
   "id": "1940f51e-fbad-4be5-91ac-fc08f1328d58",
   "metadata": {},
   "outputs": [
    {
     "name": "stdout",
     "output_type": "stream",
     "text": [
      "Hello, Deva! You are 20 years old.\n"
     ]
    }
   ],
   "source": [
    "text = \"Hello, {}! You are {} years old.\".format(\"Deva\", 20)\n",
    "print(text)  "
   ]
  },
  {
   "cell_type": "markdown",
   "id": "b837ee9b-4786-4f4d-bf55-9a80521309c6",
   "metadata": {},
   "source": [
    "### 16. `format_map():`"
   ]
  },
  {
   "cell_type": "markdown",
   "id": "27948f03-864b-478d-b419-395d39d2ec7f",
   "metadata": {},
   "source": [
    "- The `format_map()` method is used for string formatting in Python. It takes a dictionary as input and replaces placeholders within the string with corresponding values from the dictionary."
   ]
  },
  {
   "cell_type": "markdown",
   "id": "6461f53a-c257-409b-920c-de251679cff6",
   "metadata": {},
   "source": [
    "#### Syntax"
   ]
  },
  {
   "cell_type": "code",
   "execution_count": null,
   "id": "932f827e-9777-4dd3-9a8a-151a7f47f6e1",
   "metadata": {},
   "outputs": [],
   "source": [
    "string.format_map(mapping)"
   ]
  },
  {
   "cell_type": "code",
   "execution_count": 13,
   "id": "a24bc5a0-86b6-4545-a432-8389b99c68e4",
   "metadata": {},
   "outputs": [
    {
     "name": "stdout",
     "output_type": "stream",
     "text": [
      "Hello, Deva! You are 20 years old.\n"
     ]
    }
   ],
   "source": [
    "person = {'name': 'Deva', 'age': 20}\n",
    "text = \"Hello, {name}! You are {age} years old.\".format_map(person)\n",
    "print(text)  "
   ]
  },
  {
   "cell_type": "code",
   "execution_count": 14,
   "id": "9760e562-1dc0-4655-8665-53c7aa09e139",
   "metadata": {},
   "outputs": [
    {
     "name": "stdout",
     "output_type": "stream",
     "text": [
      "This is a test: Value for key\n"
     ]
    }
   ],
   "source": [
    "class MyMapping:\n",
    "    def __getitem__(self, key):\n",
    "        return f\"Value for {key}\"\n",
    "\n",
    "mapping = MyMapping()\n",
    "text = \"This is a test: {key}\".format_map(mapping)\n",
    "print(text) "
   ]
  },
  {
   "cell_type": "markdown",
   "id": "55e1c0ec-949c-439d-bad0-94a17d460cf3",
   "metadata": {},
   "source": [
    "### 17. `isalnum():`"
   ]
  },
  {
   "cell_type": "markdown",
   "id": "acfbe4d6-3b03-4508-87f1-fe1b772a1933",
   "metadata": {},
   "source": [
    "- The isalnum() method returns True if all the characters are alphanumeric, meaning alphabet letter (a-z) and numbers (0-9).\n",
    "\n",
    "- Example of characters that are not alphanumeric: (space)!#%&? etc."
   ]
  },
  {
   "cell_type": "markdown",
   "id": "a3bc0390-b737-4acb-b3dc-6a989c4bb35a",
   "metadata": {},
   "source": [
    "#### Syntax"
   ]
  },
  {
   "cell_type": "code",
   "execution_count": null,
   "id": "6e58ef23-2b9b-49a9-81bb-2f190f32c672",
   "metadata": {},
   "outputs": [],
   "source": [
    "string.isalnum()"
   ]
  },
  {
   "cell_type": "code",
   "execution_count": 17,
   "id": "0732415a-c072-4828-a9ca-d431217944ba",
   "metadata": {},
   "outputs": [
    {
     "name": "stdout",
     "output_type": "stream",
     "text": [
      "True\n"
     ]
    }
   ],
   "source": [
    "txt = \"deva71\"\n",
    "\n",
    "x = txt.isalnum()\n",
    "\n",
    "print(x)"
   ]
  },
  {
   "cell_type": "code",
   "execution_count": 18,
   "id": "9bcb2020-a43a-45ab-a276-135d3a6234c8",
   "metadata": {},
   "outputs": [
    {
     "name": "stdout",
     "output_type": "stream",
     "text": [
      "True\n",
      "False\n"
     ]
    }
   ],
   "source": [
    "text = \"hello123\"\n",
    "print(text.isalnum())  \n",
    "\n",
    "text = \"hello world\"\n",
    "print(text.isalnum()) "
   ]
  },
  {
   "cell_type": "markdown",
   "id": "ec12bd33-8997-4a44-95cc-59588cfefbe3",
   "metadata": {},
   "source": [
    "### 18. `isalpha():`"
   ]
  },
  {
   "cell_type": "markdown",
   "id": "f9a246bd-0bf3-4b51-bd7d-1008df5bcf5f",
   "metadata": {},
   "source": [
    "- The isalpha() method returns True if all the characters are alphabet letters (a-z).\r\n",
    "- \r\n",
    "Example of characters that are not alphabet letters: (space)!#%&? etc."
   ]
  },
  {
   "cell_type": "markdown",
   "id": "73fc1d25-9df3-4624-a5f4-5c799ac7ab81",
   "metadata": {},
   "source": [
    "#### Syntax"
   ]
  },
  {
   "cell_type": "code",
   "execution_count": null,
   "id": "fa2b2098-da45-470d-8dfe-08fb0cdfd98b",
   "metadata": {},
   "outputs": [],
   "source": [
    "string.isalpha()"
   ]
  },
  {
   "cell_type": "code",
   "execution_count": 21,
   "id": "4e3c807c-89af-4ea8-9753-bc35c1b02e9a",
   "metadata": {},
   "outputs": [
    {
     "name": "stdout",
     "output_type": "stream",
     "text": [
      "False\n"
     ]
    }
   ],
   "source": [
    "txt = \"Deva571\"\n",
    "\n",
    "x = txt.isalpha()\n",
    "\n",
    "print(x)\n"
   ]
  },
  {
   "cell_type": "code",
   "execution_count": 22,
   "id": "f4c75d59-67d9-4b51-803b-7fcba77e85c2",
   "metadata": {},
   "outputs": [
    {
     "name": "stdout",
     "output_type": "stream",
     "text": [
      "True\n",
      "False\n",
      "False\n"
     ]
    }
   ],
   "source": [
    "text = \"hello\"\n",
    "print(text.isalpha())  \n",
    "\n",
    "text = \"hello123\"\n",
    "print(text.isalpha())  \n",
    "\n",
    "text = \"hello world\"\n",
    "print(text.isalpha())  "
   ]
  },
  {
   "cell_type": "markdown",
   "id": "4cfa24fd-4866-4b36-a8e2-76d0e37d6f61",
   "metadata": {},
   "source": [
    "### 18.`isascii():`"
   ]
  },
  {
   "cell_type": "markdown",
   "id": "615d04ec-ff60-45ce-a9d7-db769d977584",
   "metadata": {},
   "source": [
    "- The isascii() method returns True if all the characters are ascii characters (a-z).\n",
    "- The isascii() method in Python checks if all characters in a string are ASCII characters. It returns True if all characters are ASCII, otherwise it returns False."
   ]
  },
  {
   "cell_type": "markdown",
   "id": "4b28db9e-c9e3-4155-b021-7e91cc7dd1e5",
   "metadata": {},
   "source": [
    "#### Syntax"
   ]
  },
  {
   "cell_type": "code",
   "execution_count": null,
   "id": "aee64a6b-94de-46cb-bbcc-f25820171083",
   "metadata": {},
   "outputs": [],
   "source": [
    "string.isascii()"
   ]
  },
  {
   "cell_type": "code",
   "execution_count": 23,
   "id": "6ccaedd8-da9b-4428-8628-82941ac5be00",
   "metadata": {},
   "outputs": [
    {
     "name": "stdout",
     "output_type": "stream",
     "text": [
      "True\n"
     ]
    }
   ],
   "source": [
    "txt = \"Devaraju571\"\n",
    "\n",
    "x = txt.isascii()\n",
    "\n",
    "print(x)"
   ]
  },
  {
   "cell_type": "code",
   "execution_count": 24,
   "id": "3c52b816-09db-45d0-b5e9-7f0177a093c1",
   "metadata": {},
   "outputs": [
    {
     "name": "stdout",
     "output_type": "stream",
     "text": [
      "True\n",
      "False\n"
     ]
    }
   ],
   "source": [
    "text = \"hello world\"\n",
    "print(text.isascii())  \n",
    "\n",
    "text = \"こんにちは\"  \n",
    "print(text.isascii()) "
   ]
  },
  {
   "cell_type": "markdown",
   "id": "3185565a-6354-4ad4-ad96-4ad434d16d39",
   "metadata": {},
   "source": [
    "### 19.`isdecimal():`"
   ]
  },
  {
   "cell_type": "markdown",
   "id": "8e0f6bb7-f7a4-4167-923b-17fb71b45856",
   "metadata": {},
   "source": [
    "- The isdecimal() method returns True if all the characters are decimals (0-9).\n",
    "- This method can also be used on unicode objects. See example below."
   ]
  },
  {
   "cell_type": "markdown",
   "id": "36628d42-4307-40eb-abbe-1a8cb94542d4",
   "metadata": {},
   "source": [
    "#### Syntax"
   ]
  },
  {
   "cell_type": "code",
   "execution_count": null,
   "id": "0f7bc606-c9d2-4d59-aea9-06bed16039a7",
   "metadata": {},
   "outputs": [],
   "source": [
    "string.isdecimal()"
   ]
  },
  {
   "cell_type": "code",
   "execution_count": 26,
   "id": "2f7c3d39-2acc-4d05-8ced-87bf5fc67c01",
   "metadata": {},
   "outputs": [
    {
     "name": "stdout",
     "output_type": "stream",
     "text": [
      "True\n",
      "False\n"
     ]
    }
   ],
   "source": [
    "a = \"\\u0030\" \n",
    "b = \"\\u0047\" \n",
    "\n",
    "print(a.isdecimal())\n",
    "print(b.isdecimal())"
   ]
  },
  {
   "cell_type": "code",
   "execution_count": 27,
   "id": "0f32e2d0-6aee-45c3-9451-675413493342",
   "metadata": {},
   "outputs": [
    {
     "name": "stdout",
     "output_type": "stream",
     "text": [
      "True\n",
      "False\n",
      "False\n"
     ]
    }
   ],
   "source": [
    "text = \"12345\"\n",
    "print(text.isdecimal()) \n",
    "\n",
    "text = \"hello\"\n",
    "print(text.isdecimal())  \n",
    "\n",
    "text = \"123.45\"\n",
    "print(text.isdecimal())  "
   ]
  },
  {
   "cell_type": "markdown",
   "id": "320b1f30-5bf6-4987-beee-4904104bcefd",
   "metadata": {},
   "source": [
    "### 20.`isdigit():`"
   ]
  },
  {
   "cell_type": "markdown",
   "id": "8d4ec888-01fd-4d72-9045-89e05bca0984",
   "metadata": {},
   "source": [
    "- The `isdigit()` method returns True if all the characters are digits, otherwise False.\r\n",
    "- \r\n",
    "Exponents, like ², are also considered to be a digit."
   ]
  },
  {
   "cell_type": "markdown",
   "id": "59d44f20-57fa-4df7-87be-ebb820818234",
   "metadata": {},
   "source": [
    "#### Syntax"
   ]
  },
  {
   "cell_type": "code",
   "execution_count": null,
   "id": "17187922-e4f2-4739-be71-722d215e5c7b",
   "metadata": {},
   "outputs": [],
   "source": [
    "string.isdigit()"
   ]
  },
  {
   "cell_type": "code",
   "execution_count": 29,
   "id": "c8e8ed16-b6bf-4b56-a604-b8901bb72347",
   "metadata": {},
   "outputs": [
    {
     "name": "stdout",
     "output_type": "stream",
     "text": [
      "True\n",
      "True\n"
     ]
    }
   ],
   "source": [
    "a = \"\\u0030\" \n",
    "b = \"\\u00B2\" \n",
    "\n",
    "print(a.isdigit())\n",
    "print(b.isdigit())"
   ]
  },
  {
   "cell_type": "code",
   "execution_count": 30,
   "id": "35896480-8a91-4498-a764-80a227170408",
   "metadata": {},
   "outputs": [
    {
     "name": "stdout",
     "output_type": "stream",
     "text": [
      "True\n",
      "False\n",
      "False\n"
     ]
    }
   ],
   "source": [
    "text = \"12345\"\n",
    "print(text.isdigit())  \n",
    "\n",
    "text = \"hello\"\n",
    "print(text.isdigit())  \n",
    "\n",
    "text = \"123.45\"\n",
    "print(text.isdigit())  "
   ]
  },
  {
   "cell_type": "markdown",
   "id": "a8004e15-22c4-4340-bab6-685f0e55cae5",
   "metadata": {},
   "source": [
    "### 21.`isidentifier():`"
   ]
  },
  {
   "cell_type": "markdown",
   "id": "be5febcd-db26-425c-aaa7-48086076e40c",
   "metadata": {},
   "source": [
    "- The `isidentifier()` method returns True if the string is a valid identifier, otherwise False.\n",
    "\n",
    "- A string is considered a valid identifier if it only contains alphanumeric letters (a-z) and (0-9), or underscores (_). A valid identifier cannot start with a number, or contain any spaces."
   ]
  },
  {
   "cell_type": "markdown",
   "id": "bd5c93e8-8f55-429e-bc5e-f633630f9c32",
   "metadata": {},
   "source": [
    "#### Syntax"
   ]
  },
  {
   "cell_type": "code",
   "execution_count": null,
   "id": "57f626d4-40c2-4f89-8510-84cd8e190f85",
   "metadata": {},
   "outputs": [],
   "source": [
    "string.isidentifier()"
   ]
  },
  {
   "cell_type": "code",
   "execution_count": 32,
   "id": "4a3ff12a-8b2e-4dd6-a3f4-fe96ee3a249a",
   "metadata": {},
   "outputs": [
    {
     "name": "stdout",
     "output_type": "stream",
     "text": [
      "True\n",
      "True\n",
      "False\n",
      "False\n"
     ]
    }
   ],
   "source": [
    "a = \"MyFolder\"\n",
    "b = \"Demo571\"\n",
    "c = \"2bring\"\n",
    "d = \"my demo\"\n",
    "\n",
    "print(a.isidentifier())\n",
    "print(b.isidentifier())\n",
    "print(c.isidentifier())\n",
    "print(d.isidentifier())"
   ]
  },
  {
   "cell_type": "code",
   "execution_count": 33,
   "id": "5c47ecf9-5ef9-4bd7-802f-247ab4842229",
   "metadata": {},
   "outputs": [
    {
     "name": "stdout",
     "output_type": "stream",
     "text": [
      "True\n",
      "False\n",
      "False\n"
     ]
    }
   ],
   "source": [
    "text = \"my_variable\"\n",
    "print(text.isidentifier()) \n",
    "\n",
    "text = \"123\"\n",
    "print(text.isidentifier()) \n",
    "\n",
    "text = \"my variable\"\n",
    "print(text.isidentifier()) "
   ]
  },
  {
   "cell_type": "markdown",
   "id": "17f6725c-d866-4c46-b9cc-270312d1aef4",
   "metadata": {},
   "source": [
    "### 22. `isnumeric():`"
   ]
  },
  {
   "cell_type": "markdown",
   "id": "4e960a1f-6f27-483c-bec3-f333eb3dd1ab",
   "metadata": {},
   "source": [
    "- The isnumeric() method returns True if all the characters are numeric (0-9), otherwise False.\r\n",
    "- \r\n",
    "Exponents, like ² and ¾ are also considered to be numeric value\n",
    "\n",
    "- \"-1\" and \"1.5\" are NOT considered numeric values, because all the characters in the string must be numeric, and the - and the . are not.not."
   ]
  },
  {
   "cell_type": "markdown",
   "id": "5b3328d1-15a4-446a-957d-24d0cad96e23",
   "metadata": {},
   "source": [
    "#### Syntax"
   ]
  },
  {
   "cell_type": "code",
   "execution_count": null,
   "id": "d62365a4-6a6f-4e9b-bb40-6f3c270cfd28",
   "metadata": {},
   "outputs": [],
   "source": [
    "string.isnumeric()"
   ]
  },
  {
   "cell_type": "code",
   "execution_count": 34,
   "id": "26d56f82-abdc-49b7-b32f-46821c89303e",
   "metadata": {},
   "outputs": [
    {
     "name": "stdout",
     "output_type": "stream",
     "text": [
      "True\n",
      "True\n",
      "False\n",
      "False\n",
      "False\n"
     ]
    }
   ],
   "source": [
    "a = \"\\u0030\" \n",
    "b = \"\\u00B2\" \n",
    "c = \"10km2\"\n",
    "d = \"-1\"\n",
    "e = \"1.5\"\n",
    "\n",
    "print(a.isnumeric())\n",
    "print(b.isnumeric())\n",
    "print(c.isnumeric())\n",
    "print(d.isnumeric())\n",
    "print(e.isnumeric())"
   ]
  },
  {
   "cell_type": "code",
   "execution_count": 35,
   "id": "15a1ad7b-9d67-416b-99b6-0425849cd037",
   "metadata": {},
   "outputs": [
    {
     "name": "stdout",
     "output_type": "stream",
     "text": [
      "True\n",
      "False\n",
      "True\n"
     ]
    }
   ],
   "source": [
    "text = \"12345\"\n",
    "print(text.isnumeric())  \n",
    "\n",
    "text = \"hello\"\n",
    "print(text.isnumeric())  \n",
    "\n",
    "text = \"⁰¹²³⁴⁵\"  \n",
    "print(text.isnumeric())  "
   ]
  },
  {
   "cell_type": "markdown",
   "id": "adeda9df-b39a-4ae5-aa25-790343fb5bc6",
   "metadata": {},
   "source": [
    "### 23.`isprintable():`"
   ]
  },
  {
   "cell_type": "markdown",
   "id": "85da61a5-24f8-4624-a77e-90cc1cbada2f",
   "metadata": {},
   "source": [
    "- The `isprintable()` method returns True if all the characters are printable, otherwise False.\r\n",
    "- \r\n",
    "Example of none printable character can be carriage return and line feed."
   ]
  },
  {
   "cell_type": "markdown",
   "id": "9f815f29-fe81-46aa-b36b-042b4a8a8f76",
   "metadata": {},
   "source": [
    "#### Syntax"
   ]
  },
  {
   "cell_type": "code",
   "execution_count": null,
   "id": "47f08e42-81d3-4303-b2cf-c2c8ab250d75",
   "metadata": {},
   "outputs": [],
   "source": [
    "string.isprintable()"
   ]
  },
  {
   "cell_type": "code",
   "execution_count": 36,
   "id": "8de8d44c-d653-4464-8238-3e1af7242b8b",
   "metadata": {},
   "outputs": [
    {
     "name": "stdout",
     "output_type": "stream",
     "text": [
      "False\n"
     ]
    }
   ],
   "source": [
    "txt = \"Hello!\\nAre you #1?\"\n",
    "\n",
    "x = txt.isprintable()\n",
    "\n",
    "print(x)"
   ]
  },
  {
   "cell_type": "code",
   "execution_count": 37,
   "id": "ac741823-ee58-446c-abd8-17c5998fd3a3",
   "metadata": {},
   "outputs": [
    {
     "name": "stdout",
     "output_type": "stream",
     "text": [
      "True\n",
      "False\n",
      "False\n"
     ]
    }
   ],
   "source": [
    "text = \"Hello, world!\"\n",
    "print(text.isprintable())  \n",
    "\n",
    "text = \"\\t\" \n",
    "print(text.isprintable())  \n",
    "\n",
    "text = \" \\n\"  \n",
    "print(text.isprintable())  "
   ]
  },
  {
   "cell_type": "markdown",
   "id": "4f40d82d-fdd2-43ad-8275-d60eeb7fa4cc",
   "metadata": {},
   "source": [
    "### 24.`isspace():`"
   ]
  },
  {
   "cell_type": "markdown",
   "id": "1c74a4d5-b1ab-4074-86e2-03ac2f0ea277",
   "metadata": {},
   "source": [
    "- The `isspace()` method returns True if all the characters in a string are whitespaces, otherwise False."
   ]
  },
  {
   "cell_type": "markdown",
   "id": "1d91d1d9-0aca-46d3-adc1-57904e5a0ff8",
   "metadata": {},
   "source": [
    "#### Syntax"
   ]
  },
  {
   "cell_type": "code",
   "execution_count": null,
   "id": "4a151a14-498f-42a1-9a12-0b3010698c09",
   "metadata": {},
   "outputs": [],
   "source": [
    "string.isspace()"
   ]
  },
  {
   "cell_type": "code",
   "execution_count": 40,
   "id": "2acd9ecd-3816-4e0d-a461-453ea6e514b6",
   "metadata": {},
   "outputs": [
    {
     "name": "stdout",
     "output_type": "stream",
     "text": [
      "False\n"
     ]
    }
   ],
   "source": [
    "txt = \"  M  \"\n",
    "\n",
    "x = txt.isspace()\n",
    "\n",
    "print(x)"
   ]
  },
  {
   "cell_type": "code",
   "execution_count": 41,
   "id": "76aa096c-d4c9-4e84-974c-2ab0dcca299e",
   "metadata": {},
   "outputs": [
    {
     "name": "stdout",
     "output_type": "stream",
     "text": [
      "True\n"
     ]
    }
   ],
   "source": [
    "txt = \"   \"\n",
    "\n",
    "x = txt.isspace()\n",
    "\n",
    "print(x)"
   ]
  },
  {
   "cell_type": "code",
   "execution_count": 42,
   "id": "da3dbb99-03f2-454d-ab76-20cc95b5d514",
   "metadata": {},
   "outputs": [
    {
     "name": "stdout",
     "output_type": "stream",
     "text": [
      "True\n",
      "False\n"
     ]
    }
   ],
   "source": [
    "text = \"  \\t\\n\"\n",
    "print(text.isspace())  \n",
    "\n",
    "text = \" hello\"\n",
    "print(text.isspace())  "
   ]
  },
  {
   "cell_type": "markdown",
   "id": "88b86f0c-90ec-4312-b13b-50bc13bf811e",
   "metadata": {},
   "source": [
    "### 25.`istitle():`"
   ]
  },
  {
   "cell_type": "markdown",
   "id": "a9e38784-68a9-4e3a-9d85-94e03d9778c6",
   "metadata": {},
   "source": [
    "- The istitle() method returns True if all words in a text start with a upper case letter, AND the rest of the word are lower case letters, otherwise False.\n",
    "\n",
    "- Symbols and numbers are ignored."
   ]
  },
  {
   "cell_type": "markdown",
   "id": "9e351185-fd92-4f67-9490-1b3095c910b1",
   "metadata": {},
   "source": [
    "#### Syntax"
   ]
  },
  {
   "cell_type": "code",
   "execution_count": null,
   "id": "0e6e435c-6813-4d97-a87b-88f0df4e0c50",
   "metadata": {},
   "outputs": [],
   "source": [
    "string.istitle()"
   ]
  },
  {
   "cell_type": "markdown",
   "id": "26088bf2-960a-4faf-b8e6-09d2d08a2c3f",
   "metadata": {},
   "source": [
    "a = \"HELLO, AND WELCOME TO MY WORLD\"\n",
    "b = \"Hello\"\n",
    "c = \"22 Names\"\n",
    "d = \"This Is %'!?\"\n",
    "\n",
    "print(a.istitle())\n",
    "print(b.istitle())\n",
    "print(c.istitle())\n",
    "print(d.istitle())"
   ]
  },
  {
   "cell_type": "code",
   "execution_count": 44,
   "id": "90ebafe5-d201-44bf-abfe-c6bcdc192577",
   "metadata": {},
   "outputs": [
    {
     "name": "stdout",
     "output_type": "stream",
     "text": [
      "True\n",
      "False\n",
      "False\n"
     ]
    }
   ],
   "source": [
    "text = \"The Quick Brown Fox\"\n",
    "print(text.istitle()) \n",
    "\n",
    "text = \"the quick brown fox\"\n",
    "print(text.istitle())  \n",
    "\n",
    "text = \"The Quick brown fox\"\n",
    "print(text.istitle())  "
   ]
  },
  {
   "cell_type": "markdown",
   "id": "c14be15b-ef2d-4ebe-a650-99f0febaf7ac",
   "metadata": {},
   "source": [
    "### 26. `ljust():`"
   ]
  },
  {
   "cell_type": "markdown",
   "id": "8ea9533c-a887-4861-9f93-945f26a9f7b2",
   "metadata": {},
   "source": [
    "- The `ljust()` method will left align the string, using a specified character (space is default) as the fill ch- aracter."
   ]
  },
  {
   "cell_type": "markdown",
   "id": "dc1953df-319f-4968-8e12-e97ddfe31ad1",
   "metadata": {},
   "source": [
    "#### Syntax"
   ]
  },
  {
   "cell_type": "code",
   "execution_count": null,
   "id": "cb3d9a9e-7601-4d22-9313-0de195581f31",
   "metadata": {},
   "outputs": [],
   "source": [
    "string.ljust(length, character)"
   ]
  },
  {
   "cell_type": "code",
   "execution_count": 53,
   "id": "1e18beb9-24cd-407e-8339-8a3d53547b26",
   "metadata": {},
   "outputs": [
    {
     "name": "stdout",
     "output_type": "stream",
     "text": [
      "Gopaluuuuuuuuuuuuuuu\n"
     ]
    }
   ],
   "source": [
    "txt = \"Gopal\"\n",
    "\n",
    "x = txt.ljust(20, \"u\")\n",
    "\n",
    "print(x)"
   ]
  },
  {
   "cell_type": "code",
   "execution_count": 55,
   "id": "0e7f8015-682f-4003-a68c-2fd00408463c",
   "metadata": {},
   "outputs": [
    {
     "name": "stdout",
     "output_type": "stream",
     "text": [
      "Sakhlain             is my Best Friend.\n"
     ]
    }
   ],
   "source": [
    "txt = \"Sakhlain\"\n",
    "\n",
    "x = txt.ljust(20)\n",
    "\n",
    "print(x, \"is my Best Friend.\")"
   ]
  },
  {
   "cell_type": "code",
   "execution_count": 56,
   "id": "27d745a0-64e5-4e21-9b32-79bec6ed4778",
   "metadata": {},
   "outputs": [
    {
     "name": "stdout",
     "output_type": "stream",
     "text": [
      "hello     \n",
      "hello*****\n"
     ]
    }
   ],
   "source": [
    "text = \"hello\"\n",
    "width = 10\n",
    "\n",
    "left_justified_text = text.ljust(width)\n",
    "print(left_justified_text)  \n",
    "\n",
    "\n",
    "left_justified_text = text.ljust(width, '*')\n",
    "print(left_justified_text)  "
   ]
  },
  {
   "cell_type": "markdown",
   "id": "9f47e474-00c0-4a0b-ad4f-b2ad0de0cf76",
   "metadata": {},
   "source": [
    "### 27.`lstrip():`"
   ]
  },
  {
   "cell_type": "markdown",
   "id": "d43e599d-e117-4a6f-ba23-2486501ce07a",
   "metadata": {},
   "source": [
    "- The `lstrip()` method removes any leading characters (space is the default leading character to remove)"
   ]
  },
  {
   "cell_type": "markdown",
   "id": "4835757e-8f5a-4fe5-b1ba-7ce3540b4ca8",
   "metadata": {},
   "source": [
    "#### Syntax"
   ]
  },
  {
   "cell_type": "code",
   "execution_count": null,
   "id": "19ef2c39-4d7c-440b-b5f1-8cee5ca134c5",
   "metadata": {},
   "outputs": [],
   "source": [
    "string.lstrip(characters)"
   ]
  },
  {
   "cell_type": "code",
   "execution_count": 58,
   "id": "f92267e9-ed54-4283-ba80-a89a53baa776",
   "metadata": {},
   "outputs": [
    {
     "name": "stdout",
     "output_type": "stream",
     "text": [
      "devaraju\n"
     ]
    }
   ],
   "source": [
    "txt = \",,,,,ssaaww.....devaraju\"\n",
    "\n",
    "x = txt.lstrip(\",.asw\")\n",
    "\n",
    "print(x)"
   ]
  },
  {
   "cell_type": "code",
   "execution_count": 59,
   "id": "1d36e257-b636-4f7e-be40-15761ecf0776",
   "metadata": {},
   "outputs": [
    {
     "name": "stdout",
     "output_type": "stream",
     "text": [
      "of all fruits pine apple      is my favorite\n"
     ]
    }
   ],
   "source": [
    "txt = \"     pine apple     \"\n",
    "\n",
    "x = txt.lstrip()\n",
    "\n",
    "print(\"of all fruits\", x, \"is my favorite\")"
   ]
  },
  {
   "cell_type": "markdown",
   "id": "58b46e4e-898b-4821-bb49-5987c1d9ddcf",
   "metadata": {},
   "source": [
    "### 28.`partition():`"
   ]
  },
  {
   "cell_type": "markdown",
   "id": "296f9c1a-4f17-481b-85b1-34f5cb959f4f",
   "metadata": {},
   "source": [
    "- The partition() method searches for a specified string, and splits the string into a tuple containing three elements.\n",
    "\n",
    "- The first element contains the part before the specified string.\n",
    "\n",
    "- The second element contains the specified string.\n",
    "\n",
    "- The third element contains the part after the string."
   ]
  },
  {
   "cell_type": "markdown",
   "id": "d459fd26-425a-4612-a017-3215e59d7ed5",
   "metadata": {},
   "source": [
    "#### Syntax"
   ]
  },
  {
   "cell_type": "code",
   "execution_count": null,
   "id": "5be838e7-0a32-4767-b88b-e8c0ab45dc18",
   "metadata": {},
   "outputs": [],
   "source": [
    "string.partition(value)"
   ]
  },
  {
   "cell_type": "code",
   "execution_count": 61,
   "id": "208268e2-55b4-4c38-b95a-764cac506cd7",
   "metadata": {},
   "outputs": [
    {
     "name": "stdout",
     "output_type": "stream",
     "text": [
      "('I could eat bananas all day', '', '')\n"
     ]
    }
   ],
   "source": [
    "txt = \"I could eat bananas all day\"\n",
    "\n",
    "x = txt.partition(\"apples\")\n",
    "\n",
    "print(x)"
   ]
  },
  {
   "cell_type": "code",
   "execution_count": 62,
   "id": "18351175-91cc-4de7-949c-781b466a5937",
   "metadata": {},
   "outputs": [
    {
     "name": "stdout",
     "output_type": "stream",
     "text": [
      "('Th', 'is', ' is a sample string')\n"
     ]
    }
   ],
   "source": [
    "text = \"This is a sample string\"\n",
    "result = text.partition('is')\n",
    "print(result)  "
   ]
  },
  {
   "cell_type": "markdown",
   "id": "e313174e-fe1b-4eee-a3e8-a9e84e637c9a",
   "metadata": {},
   "source": [
    "### 29. `startswith():`"
   ]
  },
  {
   "cell_type": "markdown",
   "id": "87fe8f38-ad65-4431-9199-69a456f33c4e",
   "metadata": {},
   "source": [
    "- The `startswith()` method returns True if the string starts with the specified value, otherwise False."
   ]
  },
  {
   "cell_type": "markdown",
   "id": "c338e52c-e482-4dce-a05b-c2b5a8dfb334",
   "metadata": {},
   "source": [
    "#### Syntax"
   ]
  },
  {
   "cell_type": "code",
   "execution_count": null,
   "id": "e9843ef2-71f1-4de9-a987-9c45df377d0e",
   "metadata": {},
   "outputs": [],
   "source": [
    "string.startswith(value, start, end)"
   ]
  },
  {
   "cell_type": "code",
   "execution_count": 63,
   "id": "4fd837ff-abab-4907-b459-dbbfa3dbd9a2",
   "metadata": {},
   "outputs": [
    {
     "name": "stdout",
     "output_type": "stream",
     "text": [
      "True\n"
     ]
    }
   ],
   "source": [
    "txt = \"Hello, welcome to my world.\"\n",
    "\n",
    "x = txt.startswith(\"wel\", 7, 20)\n",
    "\n",
    "print(x)"
   ]
  },
  {
   "cell_type": "code",
   "execution_count": 64,
   "id": "9948759e-c671-449c-927e-c88232eb32e7",
   "metadata": {},
   "outputs": [
    {
     "name": "stdout",
     "output_type": "stream",
     "text": [
      "True\n",
      "False\n"
     ]
    }
   ],
   "source": [
    "text = \"This is a sample string\"\n",
    "\n",
    "result = text.startswith(\"This\")\n",
    "print(result)  \n",
    "\n",
    "result = text.startswith(\"sample\")\n",
    "print(result) "
   ]
  },
  {
   "cell_type": "markdown",
   "id": "320f071a-efbb-4c3c-bdab-963f159817a1",
   "metadata": {},
   "source": [
    "### 30. `maketrans():`"
   ]
  },
  {
   "cell_type": "markdown",
   "id": "7ff68130-c62a-4788-a6c5-5dd4abf8059f",
   "metadata": {},
   "source": [
    "- The `maketrans()` method returns a mapping table that can be used with the translate() method to replace specified characters."
   ]
  },
  {
   "cell_type": "markdown",
   "id": "0381e296-0683-435c-842a-f841d3739123",
   "metadata": {},
   "source": [
    "#### Syntax"
   ]
  },
  {
   "cell_type": "code",
   "execution_count": null,
   "id": "65a1f9d3-953b-41d1-a79e-07b256243278",
   "metadata": {},
   "outputs": [],
   "source": [
    "str.maketrans(x, y, z)"
   ]
  },
  {
   "cell_type": "code",
   "execution_count": 69,
   "id": "cf16edc0-275d-490e-8f37-cd95f192203f",
   "metadata": {},
   "outputs": [
    {
     "name": "stdout",
     "output_type": "stream",
     "text": [
      "Hi Joe!\n"
     ]
    }
   ],
   "source": [
    "txt = \"Hi Sam!\"\n",
    "x = \"mSa\"\n",
    "y = \"eJo\"\n",
    "mytable = str.maketrans(x, y)\n",
    "print(txt.translate(mytable))"
   ]
  },
  {
   "cell_type": "code",
   "execution_count": 70,
   "id": "6bfa43b5-c986-4a53-9509-407f47015882",
   "metadata": {},
   "outputs": [
    {
     "name": "stdout",
     "output_type": "stream",
     "text": [
      "Hello Pam!\n"
     ]
    }
   ],
   "source": [
    "txt = \"Hello Sam!\"\n",
    "mytable = str.maketrans(\"S\", \"P\")\n",
    "print(txt.translate(mytable))"
   ]
  },
  {
   "cell_type": "markdown",
   "id": "5d810b84-04f3-41c9-b61f-049d0dc47a05",
   "metadata": {},
   "source": [
    "### 31. `translate():`"
   ]
  },
  {
   "cell_type": "markdown",
   "id": "f429f73c-6950-46fd-9493-97ef4369813c",
   "metadata": {},
   "source": [
    "- The `translate()` method returns a string where some specified characters are replaced with the character described in a dictionary, or in a mapping table.\n",
    "\n",
    "- Use the `maketrans()` method to create a mapping table.\n",
    "\n",
    "- If a character is not specified in the dictionary/table, the character will not be replaced.\n",
    "\n",
    "- If you use a dictionary, you must use ascii codes instead of characters."
   ]
  },
  {
   "cell_type": "markdown",
   "id": "ecc4425f-baca-4395-8ce6-70e3b8440516",
   "metadata": {},
   "source": [
    "#### Syntax"
   ]
  },
  {
   "cell_type": "code",
   "execution_count": null,
   "id": "4d272c6c-66db-40ed-8f87-7e7768d7dca6",
   "metadata": {},
   "outputs": [],
   "source": [
    "string.translate(table)"
   ]
  },
  {
   "cell_type": "code",
   "execution_count": 66,
   "id": "5f72e5c9-c918-433e-848c-55ecc76cb709",
   "metadata": {},
   "outputs": [
    {
     "name": "stdout",
     "output_type": "stream",
     "text": [
      "Hello Pam!\n"
     ]
    }
   ],
   "source": [
    "txt = \"Hello Sam!\"\n",
    "mytable = str.maketrans(\"S\", \"P\")\n",
    "print(txt.translate(mytable))"
   ]
  },
  {
   "cell_type": "code",
   "execution_count": 67,
   "id": "7cf14dbe-0f55-482f-894b-5fbabdf7f0c4",
   "metadata": {},
   "outputs": [
    {
     "name": "stdout",
     "output_type": "stream",
     "text": [
      "G i Joe!\n"
     ]
    }
   ],
   "source": [
    "txt = \"Good night Sam!\"\n",
    "x = \"mSa\"\n",
    "y = \"eJo\"\n",
    "z = \"odnght\"\n",
    "mytable = str.maketrans(x, y, z)\n",
    "print(txt.translate(mytable))"
   ]
  },
  {
   "cell_type": "markdown",
   "id": "d6a749dc-bf6b-4061-91bd-96548fb26466",
   "metadata": {},
   "source": [
    "### 32.`title():`"
   ]
  },
  {
   "cell_type": "markdown",
   "id": "3b446f37-2a07-4854-8c80-9432122e6d9f",
   "metadata": {},
   "source": [
    "- The title() method returns a string where the first character in every word is upper case. Like a header, or a title.\n",
    "\n",
    "- If the word contains a number or a symbol, the first letter after that will be converted to upper case."
   ]
  },
  {
   "cell_type": "markdown",
   "id": "2c767cf7-8b46-4e19-99fc-e082dad3addc",
   "metadata": {},
   "source": [
    "#### syntax"
   ]
  },
  {
   "cell_type": "code",
   "execution_count": null,
   "id": "d188ecd7-f463-441f-93c4-4e254746f901",
   "metadata": {},
   "outputs": [],
   "source": [
    "string.title()"
   ]
  },
  {
   "cell_type": "code",
   "execution_count": 74,
   "id": "30b34796-bffc-4a73-b317-542171cc0c4a",
   "metadata": {},
   "outputs": [
    {
     "name": "stdout",
     "output_type": "stream",
     "text": [
      "A Problem Is A Chance For You To Do Your Best.\n"
     ]
    }
   ],
   "source": [
    "txt = \"a problem is a chance for you to do your best.\"\n",
    "\n",
    "x = txt.title()\n",
    "\n",
    "print(x)"
   ]
  },
  {
   "cell_type": "code",
   "execution_count": 75,
   "id": "e74ffdd8-c911-4d92-9e76-c4a79672af8b",
   "metadata": {},
   "outputs": [
    {
     "name": "stdout",
     "output_type": "stream",
     "text": [
      "Happiness Is Not By Chance, But By Choice.\n"
     ]
    }
   ],
   "source": [
    "txt = \"happiness is not by chance, but by choice.\"\n",
    "\n",
    "x = txt.title()\n",
    "\n",
    "print(x)"
   ]
  },
  {
   "cell_type": "markdown",
   "id": "0416e564-2345-43de-8f4b-c3a4e2723b5f",
   "metadata": {},
   "source": [
    "### 33.`swapcase():`"
   ]
  },
  {
   "cell_type": "markdown",
   "id": "6a757864-cfcd-4c33-a6ee-28e2d225a3ac",
   "metadata": {},
   "source": [
    "- The `swapcase()` method returns a string where all the upper case letters are lower case and vice versa."
   ]
  },
  {
   "cell_type": "markdown",
   "id": "d5e7f239-d2b6-4747-9a22-c285c796c166",
   "metadata": {},
   "source": [
    "#### Syntax"
   ]
  },
  {
   "cell_type": "code",
   "execution_count": null,
   "id": "a9db3d9e-3d40-4b4c-9965-55e8650c6f65",
   "metadata": {},
   "outputs": [],
   "source": [
    "string.swapcase()"
   ]
  },
  {
   "cell_type": "code",
   "execution_count": 76,
   "id": "6d1d539c-61b0-48d9-ad8d-7cce3f886643",
   "metadata": {},
   "outputs": [
    {
     "name": "stdout",
     "output_type": "stream",
     "text": [
      "hELLO mY nAME iS peter\n"
     ]
    }
   ],
   "source": [
    "txt = \"Hello My Name Is PETER\"\n",
    "\n",
    "x = txt.swapcase()\n",
    "\n",
    "print(x)"
   ]
  },
  {
   "cell_type": "markdown",
   "id": "6abc0fd5-5e5f-4bea-9a72-265ba012c991",
   "metadata": {},
   "source": [
    "### 34. `zfill():`"
   ]
  },
  {
   "cell_type": "markdown",
   "id": "d790def7-7d03-48bf-9ebe-377a63a1a462",
   "metadata": {},
   "source": [
    "- The `zfill()` method adds zeros (0) at the beginning of the string, until it reaches the specified length.\n",
    "\n",
    "- If the value of the len parameter is less than the length of the string, no filling is done."
   ]
  },
  {
   "cell_type": "markdown",
   "id": "956c8f40-aef3-42cb-b2e7-1646e71d60c5",
   "metadata": {},
   "source": [
    "#### Syntax"
   ]
  },
  {
   "cell_type": "code",
   "execution_count": null,
   "id": "49bf949a-d54b-4f67-b58c-9b52fc68bf20",
   "metadata": {},
   "outputs": [],
   "source": [
    "string.zfill(len)"
   ]
  },
  {
   "cell_type": "code",
   "execution_count": 77,
   "id": "efa112bf-781e-4fd6-8e5d-e642ae1a2579",
   "metadata": {},
   "outputs": [
    {
     "name": "stdout",
     "output_type": "stream",
     "text": [
      "0000000050\n"
     ]
    }
   ],
   "source": [
    "txt = \"50\"\n",
    "\n",
    "x = txt.zfill(10)\n",
    "\n",
    "print(x)"
   ]
  },
  {
   "cell_type": "code",
   "execution_count": 78,
   "id": "3ba74c52-bb93-4d1a-ab1b-716e730a3099",
   "metadata": {},
   "outputs": [
    {
     "name": "stdout",
     "output_type": "stream",
     "text": [
      "00000hello\n",
      "welcome to the jungle\n",
      "000010.000\n"
     ]
    }
   ],
   "source": [
    "a = \"hello\"\n",
    "b = \"welcome to the jungle\"\n",
    "c = \"10.000\"\n",
    "\n",
    "print(a.zfill(10))\n",
    "print(b.zfill(10))\n",
    "print(c.zfill(10))"
   ]
  },
  {
   "cell_type": "code",
   "execution_count": null,
   "id": "2e3ee3d4-a4e8-4b54-b462-dff31f2ad48e",
   "metadata": {},
   "outputs": [],
   "source": []
  }
 ],
 "metadata": {
  "kernelspec": {
   "display_name": "Python 3 (ipykernel)",
   "language": "python",
   "name": "python3"
  },
  "language_info": {
   "codemirror_mode": {
    "name": "ipython",
    "version": 3
   },
   "file_extension": ".py",
   "mimetype": "text/x-python",
   "name": "python",
   "nbconvert_exporter": "python",
   "pygments_lexer": "ipython3",
   "version": "3.12.4"
  }
 },
 "nbformat": 4,
 "nbformat_minor": 5
}
