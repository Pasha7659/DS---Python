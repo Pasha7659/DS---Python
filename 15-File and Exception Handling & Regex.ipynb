{
 "cells": [
  {
   "cell_type": "markdown",
   "id": "c0bf5917-bd83-48a9-822b-84ef1bb94ae7",
   "metadata": {},
   "source": [
    "# File Handling in Python"
   ]
  },
  {
   "cell_type": "markdown",
   "id": "2d2b8a19-a74a-4569-a5b1-b1ae23637962",
   "metadata": {},
   "source": [
    "- File handling in Python is a powerful and versatile tool that can be used to perform a wide range of operations. \n",
    "- However, it is important to carefully consider the advantages and disadvantages of file handling when writing Python programs, to ensure that the code is secure, reliable, and performs well."
   ]
  },
  {
   "cell_type": "markdown",
   "id": "0f8e6618-def1-4ed6-a7e9-e6cc67070de2",
   "metadata": {},
   "source": [
    "# Python File Handling"
   ]
  },
  {
   "cell_type": "markdown",
   "id": "0c61d3b6-10e4-42e1-9fd6-a10490267dc6",
   "metadata": {},
   "source": [
    "- Python supports file handling and allows users to handle files i.e., to read and write files, along with many other file handling options, to operate on files.\n",
    "- The concept of file handling has stretched over various other languages, but the implementation is either complicated or lengthy, like other concepts of Python, this concept here is also easy and short.\n",
    "- Python treats files differently as text or binary and this is important. Each line of code includes a sequence of characters, and they form a text file.\n",
    "-  Each line of a file is terminated with a special character, called the __EOL or End of Line characters__ like __comma {,} or newline character__.\n",
    "-   It ends the current line and tells the interpreter a new one has begun."
   ]
  },
  {
   "cell_type": "markdown",
   "id": "65f48b44-0975-4a70-a88d-90a253bed537",
   "metadata": {},
   "source": [
    "## Advantages of File Handling in Python"
   ]
  },
  {
   "cell_type": "markdown",
   "id": "de0b3fb7-b167-479b-8aaf-bbc599b267cb",
   "metadata": {},
   "source": [
    "- __Versatility__ : File handling in Python allows you to perform a wide range of operations, such as creating, reading, writing, appending, renaming, and deleting files.\n",
    "- __Flexibility__ : File handling in Python is highly flexible, as it allows you to work with different file types (e.g. text files, binary files, CSV files , etc.), and to perform different operations on files (e.g. read, write, append, etc.).\n",
    "- __User – friendly__ : Python provides a user-friendly interface for file handling, making it easy to create, read, and manipulate files.\n",
    "- __Cross-platform__ : Python file-handling functions work across different platforms (e.g. Windows, Mac, Linux), allowing for seamless integration and compatibility."
   ]
  },
  {
   "cell_type": "markdown",
   "id": "cfd8679a-6f87-4cf0-8143-00a7d0fd1292",
   "metadata": {},
   "source": [
    "## Disadvantages of File Handling in Python"
   ]
  },
  {
   "cell_type": "markdown",
   "id": "801917cc-7d02-43ad-9951-8ff240ee384e",
   "metadata": {},
   "source": [
    "- __Error-prone__: File handling operations in Python can be prone to errors, especially if the code is not carefully written or if there are issues with the file system (e.g. file permissions, file locks, etc.).\n",
    "- __Security risks__ : File handling in Python can also pose security risks, especially if the program accepts user input that can be used to access or modify sensitive files on the system.\n",
    "- __Complexity__ : File handling in Python can be complex, especially when working with more advanced file formats or operations. Careful attention must be paid to the code to ensure that files are handled properly and securely.\n",
    "- __Performance__ : File handling operations in Python can be slower than other programming languages, especially when dealing with large files or performing complex operations."
   ]
  },
  {
   "cell_type": "markdown",
   "id": "991a698c-8892-4131-8301-7ee489a1f96e",
   "metadata": {},
   "source": [
    "- The file handling plays an important role when the data needs to be stored permanently into the file. A file is a named location on disk to store related information. We can access the stored information (non-volatile) after the program termination.\n",
    "- In Python, files are treated in two modes as text or binary. The file may be in the text or binary format, and each line of a file is ended with the special character like a comma (,) or a newline character.\n",
    "- Python executes the code line by line. So, it works in one line and then asks the interpreter to start the new line again. This is a continuous process in Python.\n",
    "- When we want to read from or write to a file, we need to open it first. When we are done, it needs to be closed so that the resources that are tied with the file are freed.\n",
    "- Hence, a file operation can be done in the following order.\n",
    "  \n",
    "  \n",
    "     - 1. Open a file\n",
    "     - 2. Read or write - Performing operation\n",
    "     - 3. Close the file"
   ]
  },
  {
   "cell_type": "markdown",
   "id": "a7ab9799-a9b8-40f7-992a-32cca5d356da",
   "metadata": {},
   "source": [
    "## Opening a file"
   ]
  },
  {
   "cell_type": "markdown",
   "id": "461a4d3d-9087-4f90-952a-d41906f7a89b",
   "metadata": {},
   "source": [
    "- A file operation starts with the file opening. At first, open the File then Python will start the operation. File opening is done with the open() function in Python.\n",
    "-  This function will accepts two arguments, file name and access mode in which the file is accessed. When we use the open() function, that time we must be specified the mode for which the File is opening. The function returns a file object which can be used to perform various operations like reading, writing, etc.\n",
    "- Before performing any operation on the file like reading or writing, first, we have to open that file. For this, we should use Python’s inbuilt function open() but at the time of opening, we have to specify the mode, which represents the purpose of the opening file."
   ]
  },
  {
   "cell_type": "markdown",
   "id": "192794ed-a794-4082-a87d-61bfd358da2e",
   "metadata": {},
   "source": [
    "### Syntax:"
   ]
  },
  {
   "cell_type": "code",
   "execution_count": null,
   "id": "ada23d7d-b720-49dd-9018-a568983ce587",
   "metadata": {},
   "outputs": [],
   "source": [
    "f = open(filename, mode)"
   ]
  },
  {
   "cell_type": "markdown",
   "id": "ee280b72-702f-4714-ad7c-74e562ecede9",
   "metadata": {},
   "source": [
    "The files can be accessed using various modes like read, write, or append. The following are the details about the access mode to open a file.\r\n"
   ]
  },
  {
   "cell_type": "markdown",
   "id": "aefcac39-40e2-4d2b-a318-29b85b2d81aa",
   "metadata": {},
   "source": [
    "| Mode | Description |\n",
    "|------|-------------|\n",
    "| `'r'` |\t__Read Mode__ (default): Opens the file for reading. File must exist. |\n",
    "| `'w'`\t| __Write Mode__: Opens the file for writing. Creates a new file or overwrites an existing file. |\n",
    "| `'a'`\t| __Append Mode__: Opens the file for appending. Data is added to the end of the file. |\n",
    "| `'x'`\t| __Exclusive Creation__: Creates a new file, but fails if the file already exists. |\n",
    "| `'b'`   | __Binary Mode__: Opens the file in binary mode (used for non-text files like images, videos, etc.). Can be combined with other modes (`'rb'`, `'wb'`, etc.). |\n",
    "| `'t'`  |\t__Text Mode__ (default): Opens the file in text mode. Can be combined with other modes like `'r'`, `'w'`, or `'a'`. |\n",
    "| `'+'` |\t__Read and Write Mode__: Opens the file for both reading and writing. Can be combined with `'r+'`, `'w+'`, or `'a+'`. |"
   ]
  },
  {
   "cell_type": "markdown",
   "id": "5fb647a4-f5ca-4bb2-9d05-2e991e83b28d",
   "metadata": {},
   "source": [
    "- In Python, we use the open() method to open files.\n",
    "- To demonstrate how we open files in Python, let's suppose we have a file named `test.txt` with the following content."
   ]
  },
  {
   "cell_type": "code",
   "execution_count": 2,
   "id": "acbd74a2-3171-48d0-9c93-797e2cd17a12",
   "metadata": {},
   "outputs": [
    {
     "name": "stdout",
     "output_type": "stream",
     "text": [
      "Hi Deva\n",
      "\n",
      "Today Topic is File Handling in Python\n"
     ]
    }
   ],
   "source": [
    "file1 = open(\"example.txt\",\"r\")\n",
    "\n",
    "content = file1.read()\n",
    "\n",
    "print(content)"
   ]
  },
  {
   "cell_type": "code",
   "execution_count": 3,
   "id": "8be08e82-3a25-491f-8042-2dafe7288da2",
   "metadata": {},
   "outputs": [
    {
     "name": "stdout",
     "output_type": "stream",
     "text": [
      "Hi Deva\n",
      "\n",
      "Today Topic is File Handling in Python\n"
     ]
    }
   ],
   "source": [
    "with open('example.txt', 'r') as file:\n",
    "    content = file.read()\n",
    "    print(content)"
   ]
  },
  {
   "cell_type": "code",
   "execution_count": 4,
   "id": "a81fa676-3060-46b8-af32-498c3bd5ded5",
   "metadata": {},
   "outputs": [
    {
     "name": "stdout",
     "output_type": "stream",
     "text": [
      "Hi Deva\n",
      "\n",
      "Today Topic is File Handling in Python\n"
     ]
    }
   ],
   "source": [
    "f1 = open(\"example.txt\",\"r\")\n",
    "print(f1.read())"
   ]
  },
  {
   "cell_type": "code",
   "execution_count": 5,
   "id": "af49370d-b5b8-416c-955a-8624fc30116a",
   "metadata": {},
   "outputs": [
    {
     "name": "stdout",
     "output_type": "stream",
     "text": [
      "file is opened successfully\n"
     ]
    }
   ],
   "source": [
    "fileptr = open(\"example.txt\",\"r\")    \n",
    "    \n",
    "if fileptr:    \n",
    "    print(\"file is opened successfully\")    "
   ]
  },
  {
   "cell_type": "code",
   "execution_count": 7,
   "id": "26858b96-075e-434d-b552-7daec6e016f7",
   "metadata": {},
   "outputs": [
    {
     "name": "stdout",
     "output_type": "stream",
     "text": [
      "Hi Deva\n"
     ]
    }
   ],
   "source": [
    "file = open(\"example.txt\", \"r\")\n",
    "print (file.read(7))"
   ]
  },
  {
   "cell_type": "markdown",
   "id": "8e9472be-5320-4948-91ae-d9ed41f19dc7",
   "metadata": {},
   "source": [
    "## Read or write - Performing operation"
   ]
  },
  {
   "cell_type": "markdown",
   "id": "4fb137fa-d978-4d50-af25-3d6f32fe687d",
   "metadata": {},
   "source": [
    "- In Python, reading from or writing to a file is done using specific methods that correspond to the mode in which the file is opened.\n",
    "-  Here's how you can __perform operations__ like __read__ and __write__ using different file modes."
   ]
  },
  {
   "cell_type": "markdown",
   "id": "867b8e23-5eea-4bc1-9620-e97069fdf869",
   "metadata": {},
   "source": [
    "## 1. Reading from a File"
   ]
  },
  {
   "cell_type": "markdown",
   "id": "5a524cc2-a311-425b-9adb-5e4a55746521",
   "metadata": {},
   "source": [
    "When a file is opened in __read mode (`'r'`)__ or a combination like __read + write mode (`'r+'`)__, you can use the following methods to read the content:"
   ]
  },
  {
   "cell_type": "markdown",
   "id": "a29be09c-69b1-4793-85c4-a9855165a712",
   "metadata": {},
   "source": [
    "### Methods for Reading:"
   ]
  },
  {
   "cell_type": "markdown",
   "id": "30cd99fb-518f-4506-b648-9fd2d60da450",
   "metadata": {},
   "source": [
    "- __`read()`__ : Reads the entire file or a specified number of bytes.\n",
    "  \n",
    "- __`readline()`__: Reads one line at a time.\n",
    "  \n",
    "- __`readlines()`__: Reads all the lines into a list."
   ]
  },
  {
   "cell_type": "code",
   "execution_count": 8,
   "id": "aa529c0d-9862-4509-a629-ced22f6130c5",
   "metadata": {},
   "outputs": [
    {
     "name": "stdout",
     "output_type": "stream",
     "text": [
      "Hi Deva\n",
      "\n",
      "Today Topic is File Handling in Python\n"
     ]
    }
   ],
   "source": [
    "# Example of Reading a File:\n",
    "\n",
    "# Open the file in read mode\n",
    "with open(\"example.txt\",\"r\") as file:\n",
    "    # Read the entire file\n",
    "    content = file.read()\n",
    "    print(content)"
   ]
  },
  {
   "cell_type": "code",
   "execution_count": 11,
   "id": "97a6de0d-140b-467d-9041-23f0385c743b",
   "metadata": {},
   "outputs": [
    {
     "name": "stdout",
     "output_type": "stream",
     "text": [
      "Hi Deva\n",
      "\n",
      "Today Topic is File Handling in Python"
     ]
    }
   ],
   "source": [
    "# Example of Reading Line by Line:\n",
    "\n",
    "with open('example.txt', 'r') as file:\n",
    "    for line in file:\n",
    "        print(line, end=\"\")  # Print each line as it's read"
   ]
  },
  {
   "cell_type": "code",
   "execution_count": 12,
   "id": "d6841cf2-eb36-4a7f-88a5-87bf0044024f",
   "metadata": {},
   "outputs": [
    {
     "name": "stdout",
     "output_type": "stream",
     "text": [
      "Hi Deva\n",
      "\n",
      "Today Topic is File Handling in Python\n"
     ]
    }
   ],
   "source": [
    "# Example Using readlines():\n",
    "\n",
    "with open('example.txt', 'r') as file:\n",
    "    lines = file.readlines()  # Returns a list of lines\n",
    "    for line in lines:\n",
    "        print(line.strip())  # Prints each line without extra newlines"
   ]
  },
  {
   "cell_type": "markdown",
   "id": "9f92885d-e8e4-413d-b857-c46563e44e9e",
   "metadata": {},
   "source": [
    "## 2. Writing to a File"
   ]
  },
  {
   "cell_type": "markdown",
   "id": "2ca1cc04-7dec-4144-9c5c-8e82ecfeb223",
   "metadata": {},
   "source": [
    "When a file is opened in __write mode (`'w'`)__, __append mode (`'a'`)__, or __write + read mode (`'w+'`)__, you can write to it using the following methods:"
   ]
  },
  {
   "cell_type": "markdown",
   "id": "9416a035-d8c6-4a32-9b65-cc5bd2026c9b",
   "metadata": {},
   "source": [
    "### Methods for Writing:"
   ]
  },
  {
   "cell_type": "markdown",
   "id": "864525c5-7622-411a-927a-e3d6c3fa3dd7",
   "metadata": {},
   "source": [
    "- __`write()`__: Writes a string to the file.\n",
    "  \n",
    "- __`writelines()`__: Writes a list of strings to the file."
   ]
  },
  {
   "cell_type": "code",
   "execution_count": 14,
   "id": "f81976dd-953a-4c92-aa3f-9ad67598c629",
   "metadata": {},
   "outputs": [],
   "source": [
    "# Example of Writing to a File:\n",
    "\n",
    "# Open the file in write mode (overwrites the existing content)\n",
    "with open('example.txt', 'w') as file:\n",
    "    file.write(\"This is a new file content.\\n\")\n",
    "    file.write(\"Adding another line.\\n\")"
   ]
  },
  {
   "cell_type": "code",
   "execution_count": 15,
   "id": "f21bd776-aa6e-4d12-a7f6-79380981c90c",
   "metadata": {},
   "outputs": [],
   "source": [
    "# Example of Appending to a File:\n",
    "\n",
    "# Open the file in append mode (adds content to the end)\n",
    "with open('example.txt', 'a') as file:\n",
    "    file.write(\"This is appended text.\\n\")"
   ]
  },
  {
   "cell_type": "code",
   "execution_count": 16,
   "id": "bb57738b-7050-438e-bdbd-1267ea3ae706",
   "metadata": {},
   "outputs": [],
   "source": [
    "# Example Using writelines():\n",
    "\n",
    "# Open the file in write mode\n",
    "lines = [\"First line\\n\", \"Second line\\n\", \"Third line\\n\"]\n",
    "with open('example.txt', 'w') as file:\n",
    "    file.writelines(lines)  # Writes all lines at once"
   ]
  },
  {
   "cell_type": "markdown",
   "id": "fc0f67a4-7752-403d-a2ce-4d5b12be97a8",
   "metadata": {},
   "source": [
    "## 3. Reading and Writing Together"
   ]
  },
  {
   "cell_type": "markdown",
   "id": "23c81d73-e693-4d9d-a1e8-666d4a855327",
   "metadata": {},
   "source": [
    "If you want to __read and write__ to the same file, you can use modes like `r+` or `w+`."
   ]
  },
  {
   "cell_type": "code",
   "execution_count": 17,
   "id": "229d97ee-83aa-475c-b6ae-ead7285477a7",
   "metadata": {},
   "outputs": [
    {
     "name": "stdout",
     "output_type": "stream",
     "text": [
      "Before Writing:\n",
      " First line\n",
      "Second line\n",
      "Third line\n",
      "\n",
      "After Writing:\n",
      " First line\n",
      "Second line\n",
      "Third line\n",
      "\n",
      "New content added!\n"
     ]
    }
   ],
   "source": [
    "# Example of Reading and Writing (r+):\n",
    "\n",
    "# Open the file in read+write mode (doesn't truncate the file)\n",
    "with open('example.txt', 'r+') as file:\n",
    "    content = file.read()  # Read existing content\n",
    "    print(\"Before Writing:\\n\", content)\n",
    "\n",
    "    file.write(\"\\nNew content added!\")  # Write new content at the end\n",
    "\n",
    "    # Move the cursor to the beginning to read the updated file\n",
    "    file.seek(0)\n",
    "    updated_content = file.read()\n",
    "    print(\"After Writing:\\n\", updated_content)"
   ]
  },
  {
   "cell_type": "code",
   "execution_count": 18,
   "id": "e23432d0-7fbd-4e01-9253-30d8a2e77486",
   "metadata": {},
   "outputs": [
    {
     "name": "stdout",
     "output_type": "stream",
     "text": [
      "Writing some data.\n",
      "\n"
     ]
    }
   ],
   "source": [
    "# Example of Writing and Reading (w+):\n",
    "\n",
    "# Open the file in write+read mode (truncates the file)\n",
    "with open('example.txt', 'w+') as file:\n",
    "    file.write(\"Writing some data.\\n\")  # Write data first\n",
    "    file.seek(0)  # Move the cursor back to the start\n",
    "    content = file.read()  # Read the newly written data\n",
    "    print(content)"
   ]
  },
  {
   "cell_type": "markdown",
   "id": "250f3e09-b3a7-4c80-9543-20d7b7066cd0",
   "metadata": {},
   "source": [
    "## The close() Method"
   ]
  },
  {
   "cell_type": "markdown",
   "id": "90960c0f-bc30-4377-b29b-55cb28e91ada",
   "metadata": {},
   "source": [
    "- The close method used to terminate the program. Once all the operations are done on the file, we must close it through our Python script using the __close()__ method. Any unwritten information gets destroyed once the __close()__ method is called on a file object.\n",
    "- We can perform any operation on the file externally using the file system which is the currently opened in Python; hence it is good practice to close the file once all the operations are done.\n",
    "- Earlier use of the close() method can cause the of destroyed some information that you want to write in your File.\n",
    "- The __close()__ method in Python is used to close an open file. It ensures that all the resources tied to the file, such as memory and system resources, are properly released. Once a file is closed, you cannot perform any further read or write operations on it unless it is opened again."
   ]
  },
  {
   "cell_type": "markdown",
   "id": "413eed26-aaaf-464a-b998-853181364e0c",
   "metadata": {},
   "source": [
    "### Key Points About close():"
   ]
  },
  {
   "cell_type": "markdown",
   "id": "6aaf589d-9c1f-4011-86e1-f46f69d3752f",
   "metadata": {},
   "source": [
    "- __Releases Resources__: Closes the file and frees up the resources associated with it.\n",
    "  \n",
    "- ___Ensures Data is Written__: If you're writing to a file, `close()` ensures that all buffered data is written to the file.\n",
    "  \n",
    "- __No Further Operations Allowed__: After calling `close()`, any operations like reading or writing will raise an error (`ValueError`).\n",
    "  \n",
    "- __Not Always Necessary with `with` Statement__: When using the `with` statement, the file is automatically closed after the block is executed, so you don’t need to explicitly call `close()`."
   ]
  },
  {
   "cell_type": "markdown",
   "id": "f718faa5-acc0-4752-8b55-b5d83c550c12",
   "metadata": {},
   "source": [
    "### Syntax:"
   ]
  },
  {
   "cell_type": "code",
   "execution_count": null,
   "id": "f491afd3-8d0a-47ae-b4ef-5c497a867621",
   "metadata": {},
   "outputs": [],
   "source": [
    "file.cloe()"
   ]
  },
  {
   "cell_type": "code",
   "execution_count": 21,
   "id": "8b2f26a6-c20d-4839-9bf6-e71f80dfb236",
   "metadata": {},
   "outputs": [
    {
     "name": "stdout",
     "output_type": "stream",
     "text": [
      "Writing some data.\n",
      "\n"
     ]
    }
   ],
   "source": [
    "# Example Without with Statement:\n",
    "\n",
    "# Open a file for reading\n",
    "file = open('example.txt', 'r')\n",
    "content = file.read()  # Read the file content\n",
    "print(content)\n",
    "\n",
    "# Close the file after reading\n",
    "file.close()"
   ]
  },
  {
   "cell_type": "code",
   "execution_count": 20,
   "id": "2e844734-7d29-4eaa-9359-e225bb011452",
   "metadata": {},
   "outputs": [
    {
     "name": "stdout",
     "output_type": "stream",
     "text": [
      "The existing file is opened successfully in Python\n"
     ]
    }
   ],
   "source": [
    "# opens the file file.txt in read mode    \n",
    "fileptr = open(\"example.txt\",\"r\")    \n",
    "    \n",
    "if fileptr:    \n",
    "    print(\"The existing file is opened successfully in Python\")    \n",
    "    \n",
    "#closes the opened file    \n",
    "fileptr.close()  "
   ]
  },
  {
   "cell_type": "code",
   "execution_count": 22,
   "id": "2248ec2b-2a81-4cf7-9e8e-e15f0df9fcc8",
   "metadata": {},
   "outputs": [
    {
     "name": "stdout",
     "output_type": "stream",
     "text": [
      "Writing some data.\n",
      "\n"
     ]
    }
   ],
   "source": [
    "# Example with try-finally:\n",
    "\n",
    "file = open('example.txt', 'r')\n",
    "\n",
    "try:\n",
    "    content = file.read()  # Perform file operations\n",
    "    print(content)\n",
    "finally:\n",
    "    file.close()  # Ensure the file is closed"
   ]
  },
  {
   "cell_type": "code",
   "execution_count": 23,
   "id": "2b6b9d3b-7a95-4470-9275-36ec8a9ce243",
   "metadata": {},
   "outputs": [
    {
     "name": "stdout",
     "output_type": "stream",
     "text": [
      "Writing some data.\n",
      "\n"
     ]
    }
   ],
   "source": [
    "# Example of Using with Statement (Preferred Method):\n",
    "\n",
    "# Open the file using 'with' (file is automatically closed afterward)\n",
    "with open('example.txt', 'r') as file:\n",
    "    content = file.read()  # File operations\n",
    "    print(content)\n",
    "# No need to call file.close(), it's done automatically!"
   ]
  },
  {
   "cell_type": "markdown",
   "id": "a3565277-0ab8-4f91-873f-d2be06f20536",
   "metadata": {},
   "source": [
    "# Python Exception Handling"
   ]
  },
  {
   "cell_type": "markdown",
   "id": "8678f2d7-fd53-4e3e-962c-baf85003ce73",
   "metadata": {},
   "source": [
    "- If an exception occurs when we are performing some operation with the file, the code exits without closing the file.\n",
    "- In Python, handling exceptions is crucial for managing errors gracefully and maintaining smooth program execution. Errors in Python are categorized into two main types:\n",
    "- 1. __Syntax Errors__: These occur when there is a mistake in the syntax of the code, such as missing punctuation or incorrect indentation. Syntax errors are detected during the parsing phase, before the program runs, and prevent the program from executing.\n",
    "- 2. __Exceptions__: These are runtime errors that occur while the program is running, disrupting the normal flow of execution. Exceptions are triggered by various internal events (e.g., division by zero, file not found) and can be managed using `try`, `except`, and `finally` blocks to handle errors and ensure the program continues or exits cleanly."
   ]
  },
  {
   "cell_type": "markdown",
   "id": "d506ccbd-e0ec-43b2-badd-66b0d634ebbd",
   "metadata": {},
   "source": [
    "### Different types of exceptions in python:"
   ]
  },
  {
   "cell_type": "markdown",
   "id": "c9474e0a-5ad0-40cb-b903-da3b23aadfa5",
   "metadata": {},
   "source": [
    "In Python, built-in exceptions represent various errors that occur during program execution. Here are some common types:"
   ]
  },
  {
   "cell_type": "markdown",
   "id": "5ba51334-65b1-4bef-b298-fac72b6cc60e",
   "metadata": {},
   "source": [
    "1. __SyntaxError__ : Raised for mistakes in the code's syntax, like missing punctuation or unbalanced parentheses.\n",
    "\n",
    "2. __TypeError__ : Raised when an operation is applied to an object of the wrong type, such as adding a string to an integer.\n",
    "\n",
    "3. __NameError__ : Raised when a variable or function name is not found in the current scope.\n",
    "\n",
    "4. __IndexError__: Raised when an index is out of range for a list, tuple, or other sequence.\n",
    "\n",
    "5. __KeyError__: Raised when a dictionary key is not found.\n",
    "\n",
    "6. __ValueError__: Raised when a function receives an argument of the correct type but inappropriate value, like converting a non-numeric string to an integer.\n",
    "\n",
    "7. __AttributeError__: Raised when an object does not have the requested attribute or method.\n",
    "\n",
    "8. __IOError__: Raised for input/output operations failures, such as reading from or writing to a file.\n",
    "\n",
    "9. __ZeroDivisionError__ : Raised when attempting to divide by zero.\n",
    "\n",
    "10. __ImportError__: Raised when an import statement fails to locate or load a module."
   ]
  },
  {
   "cell_type": "markdown",
   "id": "a60dbd0d-0058-460d-9970-39a73c10f694",
   "metadata": {},
   "source": [
    "## Try and Except Statement – Catching Exceptions"
   ]
  },
  {
   "cell_type": "markdown",
   "id": "328549be-2554-422a-8e79-4a54aef98503",
   "metadata": {},
   "source": [
    "- The `try` and `except` statements in Python are used to handle exceptions and manage errors gracefully. They allow you to catch exceptions that occur during program execution and respond appropriately, preventing the program from crashing."
   ]
  },
  {
   "cell_type": "markdown",
   "id": "5ee7c457-b211-4cda-aba4-c7648073d40d",
   "metadata": {},
   "source": [
    "### Basic Structure"
   ]
  },
  {
   "cell_type": "code",
   "execution_count": null,
   "id": "7459f692-b172-4f99-847c-bbb69d5f21a4",
   "metadata": {},
   "outputs": [],
   "source": [
    "try:\n",
    "    # Code that might raise an exception\n",
    "    risky_operation()\n",
    "except SomeException:\n",
    "    # Code to handle the exception\n",
    "    handle_error()"
   ]
  },
  {
   "cell_type": "markdown",
   "id": "6908d8e9-0e28-4e41-bf90-878984ba5425",
   "metadata": {},
   "source": [
    "### How It Works"
   ]
  },
  {
   "cell_type": "markdown",
   "id": "cb20d288-d0f9-4e19-abd5-ffddc63086df",
   "metadata": {},
   "source": [
    "1. __try Block__ :\n",
    "   \n",
    "      - Contains the code that might raise an exception.\n",
    "      - Python executes this block of code first.\n",
    "\n",
    "2. __except Block__:\n",
    "\n",
    "   - Contains the code that handles the exception if one occurs.\n",
    "   - You can specify the type of exception to catch (e.g., `ZeroDivisionError`).\n",
    "   - You can have multiple `except` blocks to handle different types of exceptions."
   ]
  },
  {
   "cell_type": "code",
   "execution_count": 24,
   "id": "7a99d57e-a1ae-417f-ab2c-17c02054094b",
   "metadata": {},
   "outputs": [
    {
     "name": "stdout",
     "output_type": "stream",
     "text": [
      "Error: Denominator cannot be 0.\n"
     ]
    }
   ],
   "source": [
    "try:\n",
    "    numerator = 10\n",
    "    denominator = 0\n",
    "\n",
    "    result = numerator/denominator\n",
    "\n",
    "    print(result)\n",
    "except:\n",
    "    print(\"Error: Denominator cannot be 0.\")\n",
    "\n",
    "# Output: Error: Denominator cannot be 0."
   ]
  },
  {
   "cell_type": "code",
   "execution_count": 25,
   "id": "059e2fbb-d871-4e48-8afc-951ea679ca81",
   "metadata": {},
   "outputs": [
    {
     "name": "stdout",
     "output_type": "stream",
     "text": [
      "Writing some data.\n",
      "\n"
     ]
    }
   ],
   "source": [
    "try:\n",
    "    file1 = open(\"example.txt\", \"r\")\n",
    "    read_content = file1.read()\n",
    "    print(read_content)\n",
    "\n",
    "finally:\n",
    "    # close the file\n",
    "    file1.close()"
   ]
  },
  {
   "cell_type": "code",
   "execution_count": 26,
   "id": "a1a170a3-5bf6-4c1b-94a4-bce194e21d26",
   "metadata": {},
   "outputs": [
    {
     "name": "stdout",
     "output_type": "stream",
     "text": [
      "Second element = 2\n",
      "An error occurred\n"
     ]
    }
   ],
   "source": [
    "a = [1, 2, 3]\n",
    "try: \n",
    "    print (\"Second element = %d\" %(a[1]))\n",
    "\n",
    "    print (\"Fourth element = %d\" %(a[3]))\n",
    "\n",
    "except:\n",
    "    print (\"An error occurred\")"
   ]
  },
  {
   "cell_type": "markdown",
   "id": "3c5801ed-79dc-45c5-80df-d07888f6f274",
   "metadata": {},
   "source": [
    "## Catching Specific Exception"
   ]
  },
  {
   "cell_type": "markdown",
   "id": "fad81f78-bdb9-415a-b1ee-0e5a95c29162",
   "metadata": {},
   "source": [
    "- A try statement can have more than one except clause, to specify handlers for different exceptions. Please note that at most one handler will be executed.\n",
    "- For example, we can add IndexError in the above code. The general syntax for adding specific exceptions are – "
   ]
  },
  {
   "cell_type": "markdown",
   "id": "2b2d4c5c-9154-4fb2-9a6a-9497f36de862",
   "metadata": {},
   "source": [
    "### Syntax:"
   ]
  },
  {
   "cell_type": "code",
   "execution_count": null,
   "id": "054b1907-6c9c-4977-872c-63b1a886542f",
   "metadata": {},
   "outputs": [],
   "source": [
    "try:\n",
    "    # statement(s)\n",
    "except IndexError:\n",
    "    # statement(s)\n",
    "except ValueError:\n",
    "    # statement(s)"
   ]
  },
  {
   "cell_type": "code",
   "execution_count": 28,
   "id": "ae4b3101-8532-48b3-ad07-08e770512ab1",
   "metadata": {},
   "outputs": [
    {
     "name": "stdout",
     "output_type": "stream",
     "text": [
      "ZeroDivisionError Occurred and Handled\n"
     ]
    }
   ],
   "source": [
    "def fun(a):\n",
    "    if a < 4:\n",
    "\n",
    "        b = a/(a-3)\n",
    "    print(\"Value of b = \", b)\n",
    "    \n",
    "try:\n",
    "    fun(3)\n",
    "    fun(5)\n",
    "except ZeroDivisionError:\n",
    "    print(\"ZeroDivisionError Occurred and Handled\")\n",
    "except NameError:\n",
    "    print(\"NameError Occurred and Handled\")"
   ]
  },
  {
   "cell_type": "markdown",
   "id": "631de714-b8c1-45cc-be44-1b9f779fdd78",
   "metadata": {},
   "source": [
    "## Finally Keyword in Python"
   ]
  },
  {
   "cell_type": "markdown",
   "id": "c093b86a-6767-4a65-8433-b0cc6264ba27",
   "metadata": {},
   "source": [
    "- Python provides a keyword finally, which is always executed after the try and except blocks.\n",
    "-  The final block always executes after the normal termination of the try block or after the try block terminates due to some exception. The code within the finally block is always executed."
   ]
  },
  {
   "cell_type": "markdown",
   "id": "8d12d425-071c-4c11-ac2a-a1ab46f8fdc6",
   "metadata": {},
   "source": [
    "### Syntax"
   ]
  },
  {
   "cell_type": "code",
   "execution_count": null,
   "id": "56c4645d-c7f4-4b4e-86f5-9f9ed9c0b699",
   "metadata": {},
   "outputs": [],
   "source": [
    "try:\n",
    "    # Some Code.... \n",
    "except:\n",
    "    # optional block\n",
    "    # Handling of exception (if required)\n",
    "else:\n",
    "    # execute if no exception\n",
    "finally:\n",
    "    # Some code .....(always executed)"
   ]
  },
  {
   "cell_type": "code",
   "execution_count": 29,
   "id": "21ea0c6c-8ab4-4a8e-a47f-497e9a3aa283",
   "metadata": {},
   "outputs": [
    {
     "name": "stdout",
     "output_type": "stream",
     "text": [
      "Can't divide by zero\n",
      "This is always executed\n"
     ]
    }
   ],
   "source": [
    "try:\n",
    "    k = 5//0 \n",
    "    print(k)\n",
    "\n",
    "except ZeroDivisionError:\n",
    "    print(\"Can't divide by zero\")\n",
    "\n",
    "finally:\n",
    "    print('This is always executed')"
   ]
  },
  {
   "cell_type": "markdown",
   "id": "3573c50e-fc47-4b8a-8bdc-8525eb337440",
   "metadata": {},
   "source": [
    "## Advantages of Exception Handling:"
   ]
  },
  {
   "cell_type": "markdown",
   "id": "3669b080-b380-413d-8b2d-c32297f06cc1",
   "metadata": {},
   "source": [
    "- __Improved program reliability__: By handling exceptions properly, you can prevent your program from crashing or producing incorrect results due to unexpected errors or input.\n",
    "  \r",
    "- __Simplified error handling__: Exception handling allows you to separate error handling code from the main program logic, making it easier to read and maintain your code.\n",
    "\n",
    "- __Cleaner code__: With exception handling, you can avoid using complex conditional statements to check for errors, leading to cleaner and more readable code.\n",
    "\n",
    "- __Easier debugging__: When an exception is raised, the Python interpreter prints a traceback that shows the exact location where the exception occurred, making it easier to debug your code.."
   ]
  },
  {
   "cell_type": "markdown",
   "id": "57a84911-f0c0-4709-a682-61290396a316",
   "metadata": {},
   "source": [
    "## Disadvantages of Exception Handling:"
   ]
  },
  {
   "cell_type": "markdown",
   "id": "568ade98-6f7b-4e7a-bd57-5da6dfad0ed8",
   "metadata": {},
   "source": [
    "- __Performance overhead__: Exception handling can be slower than using conditional statements to check for errors, as the interpreter has to perform additional work to catch and handle the exception.\n",
    "  \n",
    "- __Increased code complexity__: Exception handling can make your code more complex, especially if you have to handle multiple types of exceptions or implement complex error handling logic.\n",
    "  \n",
    "- __Possible security risks__: Improperly handled exceptions can potentially reveal sensitive information or create security vulnerabilities in your code, so it’s important to handle exceptions carefully and avoid exposing too much information about your program."
   ]
  },
  {
   "cell_type": "markdown",
   "id": "1bd81f10-8a79-456a-96e4-06bd790dc443",
   "metadata": {},
   "source": [
    "# Regular expressions"
   ]
  },
  {
   "cell_type": "markdown",
   "id": "9fb7fce9-be4e-4bdd-8d8c-6ee76981c4a2",
   "metadata": {},
   "source": [
    "- Regular expressions (regex) are powerful tools used for searching, matching, and manipulating text based on patterns.\n",
    "- They provide a flexible and efficient way to handle string processing tasks in programming. In Python, the re module is used to work with regular expressions.\n",
    "- \n",
    "They provide a concise and flexible way to search, match, and manipulate strings based on specific patterns."
   ]
  },
  {
   "cell_type": "markdown",
   "id": "69903630-01e3-472f-a21c-c8ae5f77eb69",
   "metadata": {},
   "source": [
    "### Python RegEx"
   ]
  },
  {
   "cell_type": "markdown",
   "id": "bdf7f9a3-cf42-465c-8638-e34408258cfe",
   "metadata": {},
   "source": [
    "- A RegEx, or Regular Expression, is a sequence of characters that forms a search pattern.\r",
    "- \r\n",
    "RegEx can be used to check if a string contains the specified search pattern."
   ]
  },
  {
   "cell_type": "markdown",
   "id": "377e160f-2d1f-46cd-a57d-8c229a7989e7",
   "metadata": {},
   "source": [
    "### RegEx Module"
   ]
  },
  {
   "cell_type": "markdown",
   "id": "39829d47-b541-45e0-a0dc-c5e31c9100cb",
   "metadata": {},
   "source": [
    "- Python has a built-in package called re, which can be used to work with Regular Expressions.\r",
    "- \r",
    "mport the `re` modulee:"
   ]
  },
  {
   "cell_type": "code",
   "execution_count": 30,
   "id": "11da31cd-b184-416a-99bb-38db640845d1",
   "metadata": {},
   "outputs": [],
   "source": [
    "import re"
   ]
  },
  {
   "cell_type": "code",
   "execution_count": 32,
   "id": "8b842a0c-8a92-4d3a-ab55-d0ded31537a4",
   "metadata": {},
   "outputs": [
    {
     "name": "stdout",
     "output_type": "stream",
     "text": [
      "YES! We have a match!\n"
     ]
    }
   ],
   "source": [
    "import re\n",
    "\n",
    "txt = \"The rain in Spain\"\n",
    "x = re.search(\"^The.*Spain$\", txt)\n",
    "\n",
    "if x:\n",
    "  print(\"YES! We have a match!\")\n",
    "else:\n",
    "  print(\"No match\")\n"
   ]
  },
  {
   "cell_type": "markdown",
   "id": "30171d1e-2ca7-49bb-b608-6d0fe2cb1277",
   "metadata": {},
   "source": [
    "## RegEx Functions"
   ]
  },
  {
   "cell_type": "markdown",
   "id": "5ba07c5e-dd82-427e-83d5-fece5b957be2",
   "metadata": {},
   "source": [
    "The `re` module offers a set of functions that allows us to search a string for a match:"
   ]
  },
  {
   "cell_type": "markdown",
   "id": "0f24d520-ff48-4be7-b2b7-69db9fac3f1d",
   "metadata": {},
   "source": [
    "|  Function\t|   Description   |\n",
    "|-----------|-----------------|\n",
    "| findall\t| Returns a list containing all matches  |\n",
    "| search\t| Returns a Match object if there is a match anywhere in the string |\n",
    "| split    |\tReturns a list where the string has been split at each match   |\n",
    "|  sub\t   |  Replaces one or many matches with a string  |"
   ]
  },
  {
   "cell_type": "markdown",
   "id": "4e07f0ff-9bd3-4d9a-8f19-311d3d8a519a",
   "metadata": {},
   "source": [
    "## Metacharacters"
   ]
  },
  {
   "cell_type": "markdown",
   "id": "5dc3542f-aa3f-4ad3-b016-5f3a155df29d",
   "metadata": {},
   "source": [
    "Metacharacters are characters with a special meaning:"
   ]
  },
  {
   "cell_type": "markdown",
   "id": "3223fb65-5d6f-451e-a4fc-45df894b3149",
   "metadata": {},
   "source": [
    "|  Character  |\tDescription\t  |  Example  |\n",
    "|-------------|---------------|-----------|\n",
    "|     []     |\tA set of characters |\t\"[a-m]\"\t |\n",
    "|   \\\t    |  Signals a special sequence (can also be used to escape special characters) |\t\"\\d\"\t|\n",
    "|    .\t   |   Any character (except newline character)\t|   \"he..o\"\t |\n",
    "|    ^\t  |   Starts with\t|   \"^hello\"  |\t\n",
    "|   *\t |  Zero or more occurrences\t|  \"he.*o\" |\t\n",
    "|  +\t|  One or more occurrences\t|   \"he.+o\"\t|\n",
    "|   ?\t|   Zero or one occurrences\t|   \"he.?o\"\t|\n",
    "|  {}\t|   Exactly the specified number of occurrences\t|  \"he.{2}o\"  |\t\n",
    "|  I  |  \tEither or  |\t\"falls I stays\" |\n",
    "| ()  | Capture and group |  |"
   ]
  },
  {
   "cell_type": "markdown",
   "id": "d66c2670-0986-494e-8ae6-1e8250b4db1b",
   "metadata": {},
   "source": [
    "## Special Sequences"
   ]
  },
  {
   "cell_type": "markdown",
   "id": "27dee8e0-55f5-4abc-8197-d10ed227ac9a",
   "metadata": {},
   "source": [
    "A special sequence is a `\\` followed by one of the characters in the list below, and has a special meaning:\r\n",
    "\r\n"
   ]
  },
  {
   "cell_type": "markdown",
   "id": "f3b61988-e63b-4ab6-9b51-294d54fffa1c",
   "metadata": {},
   "source": [
    "| Character |  \tDescription  |\tExample  |\n",
    "|-----------|-----------------|----------|\n",
    "|  \\A   |\tReturns a match if the specified characters are at the beginning of the string |  \t\"\\AThe\"  |\t\n",
    "|   \\b\t|  Returns a match where the specified characters are at the beginning or at the end of a word (the \"r\" in the beginning is making sure that the string is being treated as a \"raw string\") |\tr\"\\bain\"  r\"ain\\b\"\t|\n",
    "|  \\B\t|  Returns a match where the specified characters are present, but NOT at the beginning (or at the end) of a word (the \"r\" in the beginning is making sure that the string is being treated as a \"raw string\")| \tr\"\\Bain\"  r\"ain\\B\"\t|\n",
    "|  \\d|  Returns a match where the string contains digits (numbers from 0-9) |\t\"\\d\"  |\n",
    "|  \\D |\tReturns a match where the string DOES NOT contain digits |\t\"\\D\"\t|\n",
    "|  \\s |\tReturns a match where the string contains a white space character|  \"\\s\" |\t\n",
    "|  \\S  |\tReturns a match where the string DOES NOT contain a white space character |\t\"\\S\"  |\t\n",
    "|  \\w |\tReturns a match where the string contains any word characters (characters from a to Z, digits from 0-9, and the underscore _ character) |\t\"\\w\"\t |\n",
    "|  \\W  |\tReturns a match where the string DOES NOT contain any word characters\t|  \"\\W\"  |\t\n",
    "|   \\Z |  \tReturns a match if the specified characters are at the end of the string  |\t\"Spain\\Z\"  |"
   ]
  },
  {
   "cell_type": "markdown",
   "id": "efab6fcc-9616-4f27-9c46-5e6c63679efb",
   "metadata": {},
   "source": [
    "## Sets"
   ]
  },
  {
   "cell_type": "markdown",
   "id": "fb9763e9-4981-4412-bc31-9edb5be0e6ce",
   "metadata": {},
   "source": [
    "A set is a set of characters inside a pair of square brackets `[]` with a special meaning:"
   ]
  },
  {
   "cell_type": "markdown",
   "id": "d4bf440d-b9af-4dc0-8304-e90435ccfa07",
   "metadata": {},
   "source": [
    "|  Set  |  \tDescription  |\n",
    "|-------|----------------|\n",
    "|  [arn] |\tReturns a match where one of the specified characters (`a`, `r`, or `n`) is present |\t\n",
    "|[a-n]\t| Returns a match for any lower case character, alphabetically between `a` and `n`\t|\n",
    "| [^arn] |\tReturns a match for any character EXCEPT `a`, `r`, and `n`\t|\n",
    "| [0123] |\tReturns a match where any of the specified digits (`0`, `1`, `2`, or `3`) are present\t|\n",
    "| [0-9] |\tReturns a match for any digit between `0` and `9`\t |\n",
    "| [0-5][0-9]| Returns a match for any two-digit numbers from `00` and `59`\t |\n",
    "| [a-zA-Z]\t| Returns a match for any character alphabetically between `a` and `z`, lower case OR upper case\t|\n",
    "| [+] |\tIn sets, `+`, `*`, `.`, `I`, `()`, `$`,`{}` has no special meaning, so `[+]` means: return a match for any + character in the string |"
   ]
  },
  {
   "cell_type": "markdown",
   "id": "5803d3ca-1d82-4441-9c9d-ee9361c414b8",
   "metadata": {},
   "source": [
    "## The findall() Function"
   ]
  },
  {
   "cell_type": "markdown",
   "id": "c269a341-801e-4453-a5dc-508cd129c729",
   "metadata": {},
   "source": [
    "The `findall()` function returns a list containing all matches."
   ]
  },
  {
   "cell_type": "code",
   "execution_count": 39,
   "id": "45d312c9-b803-426f-82fd-44820f603c9d",
   "metadata": {},
   "outputs": [
    {
     "name": "stdout",
     "output_type": "stream",
     "text": [
      "['a', 'a', 'a', 'a']\n"
     ]
    }
   ],
   "source": [
    "import re\n",
    "\n",
    "txt = \"Prathipati Devaraju\"\n",
    "x = re.findall(\"a\", txt)\n",
    "print(x)"
   ]
  },
  {
   "cell_type": "code",
   "execution_count": 40,
   "id": "7d40c2f1-e860-4cab-9f8a-0d9e2312122d",
   "metadata": {},
   "outputs": [
    {
     "name": "stdout",
     "output_type": "stream",
     "text": [
      "[]\n"
     ]
    }
   ],
   "source": [
    "import re\n",
    "\n",
    "txt = \"The rain in Spain\"\n",
    "x = re.findall(\"Portugal\", txt)\n",
    "print(x)"
   ]
  },
  {
   "cell_type": "markdown",
   "id": "b79f6ce4-53c7-4ac4-a197-f5fe344baab9",
   "metadata": {},
   "source": [
    "## The search() Function"
   ]
  },
  {
   "cell_type": "markdown",
   "id": "f026cfdc-42f2-4c3b-9316-7ca46975f4a0",
   "metadata": {},
   "source": [
    "- The `search()` function searches the string for a match, and returns a Match object if there is a match.\n",
    "- If there is more than one match, only the first occurrence of the match will be returned:"
   ]
  },
  {
   "cell_type": "code",
   "execution_count": 45,
   "id": "7f416909-752a-4f4d-9a44-eb0230f96a2d",
   "metadata": {},
   "outputs": [
    {
     "name": "stdout",
     "output_type": "stream",
     "text": [
      "The first white-space character is located in position: 3\n"
     ]
    }
   ],
   "source": [
    "import re\n",
    "\n",
    "txt = \"The rain in Spain\"\n",
    "x = re.search(r\"\\s\", txt)  \n",
    "\n",
    "if x:  \n",
    "    print(\"The first white-space character is located in position:\", x.start())\n",
    "else:\n",
    "    print(\"No white-space character found.\")"
   ]
  },
  {
   "cell_type": "markdown",
   "id": "67f5c56d-12cc-4aaf-adbd-866d0bb91a5e",
   "metadata": {},
   "source": [
    "## The split() Function"
   ]
  },
  {
   "cell_type": "markdown",
   "id": "7d44c416-fc6e-4082-b51d-ade1474752aa",
   "metadata": {},
   "source": [
    "- The `split()` function returns a list where the string has been split at each match:"
   ]
  },
  {
   "cell_type": "code",
   "execution_count": 47,
   "id": "1ce9951c-6e0a-47ad-9031-6e8b5d3db5dd",
   "metadata": {},
   "outputs": [
    {
     "name": "stdout",
     "output_type": "stream",
     "text": [
      "['The', 'rain', 'in', 'Spain']\n"
     ]
    }
   ],
   "source": [
    "import re\n",
    "\n",
    "txt = \"The rain in Spain\"\n",
    "x = re.split(r\"\\s\", txt)  # Use raw string notation for the regex pattern\n",
    "print(x)"
   ]
  },
  {
   "cell_type": "code",
   "execution_count": 49,
   "id": "57e7b458-98c1-4b3a-bfe6-93353a555335",
   "metadata": {},
   "outputs": [
    {
     "name": "stdout",
     "output_type": "stream",
     "text": [
      "['The', 'rain in Spain']\n"
     ]
    }
   ],
   "source": [
    "import re\n",
    "\n",
    "txt = \"The rain in Spain\"\n",
    "x = re.split(r\"\\s\", txt, 1)\n",
    "print(x)"
   ]
  },
  {
   "cell_type": "markdown",
   "id": "bb532e5f-ff4a-4e88-964e-118e78a3b46f",
   "metadata": {},
   "source": [
    "## The sub() Function"
   ]
  },
  {
   "cell_type": "markdown",
   "id": "8143c782-dbbb-4602-9965-3d0064b3e58a",
   "metadata": {},
   "source": [
    "- The `sub()` function replaces the matches with the text of your choice:"
   ]
  },
  {
   "cell_type": "code",
   "execution_count": 51,
   "id": "143d83a5-6b6f-473c-8271-a2173671c68f",
   "metadata": {},
   "outputs": [
    {
     "name": "stdout",
     "output_type": "stream",
     "text": [
      "The9rain9in9Spain\n"
     ]
    }
   ],
   "source": [
    "import re\n",
    "\n",
    "txt = \"The rain in Spain\"\n",
    "x = re.sub(r\"\\s\", \"9\", txt)\n",
    "print(x)"
   ]
  },
  {
   "cell_type": "code",
   "execution_count": 53,
   "id": "f6726253-639c-4afe-ae99-f4d54882a19c",
   "metadata": {},
   "outputs": [
    {
     "name": "stdout",
     "output_type": "stream",
     "text": [
      "The9rain9in Spain\n"
     ]
    }
   ],
   "source": [
    "import re\n",
    "\n",
    "txt = \"The rain in Spain\"\n",
    "x = re.sub(r\"\\s\", \"9\", txt, 2)\n",
    "print(x)"
   ]
  },
  {
   "cell_type": "code",
   "execution_count": 54,
   "id": "7b2282d6-1cc7-4611-a0a2-1b6f156ddf95",
   "metadata": {},
   "outputs": [
    {
     "name": "stdin",
     "output_type": "stream",
     "text": [
      "Enter your mail:  deva@gmail.com\n"
     ]
    },
    {
     "name": "stdout",
     "output_type": "stream",
     "text": [
      "Valid email address\n"
     ]
    }
   ],
   "source": [
    "import re\n",
    "\n",
    "email_pattern = r'^[a-zA-Z0-9._%+-]+@[a-zA-Z0-9.-]+\\.[a-zA-Z]{2,}$'\n",
    "email = input(\"Enter your mail: \")\n",
    "\n",
    "if re.match(email_pattern, email):\n",
    "    print(\"Valid email address\")\n",
    "else:\n",
    "    print(\"Invalid email address\")"
   ]
  },
  {
   "cell_type": "markdown",
   "id": "3052477c-7174-45c3-a4db-5774690c64b3",
   "metadata": {},
   "source": [
    "## Literal characters: Regular characters match themselves."
   ]
  },
  {
   "cell_type": "markdown",
   "id": "20ce4d58-2738-4a73-a822-1aced0501d0c",
   "metadata": {},
   "source": [
    "- In regular expressions, literal characters are the regular characters that match themselves in a string. They represent exact matches of characters in the text.\n",
    "- This is the most basic form of pattern matching in regex, where you specify the exact characters you want to find."
   ]
  },
  {
   "cell_type": "markdown",
   "id": "54bc40d2-9a7c-4185-a40e-18b290c9d5cf",
   "metadata": {},
   "source": [
    "### Key Points About Literal Characters"
   ]
  },
  {
   "cell_type": "markdown",
   "id": "99533c19-e950-419f-8f8a-474c1c9c85aa",
   "metadata": {},
   "source": [
    "1. __Direct Match__ : If you use a literal character in your regex pattern, it will only match occurrences of that exact character in the target string.\n",
    "\n",
    "2. __Case Sensitivity__: Literal characters are case-sensitive by default. For instance, `a` will not match `A` unless specified otherwise.\n",
    "\n",
    "3. __Special Characters__: Some characters have special meanings in regular expressions (like . or `*`). If you want to match these characters literally, you need to escape them with a backslash (`\\`)."
   ]
  },
  {
   "cell_type": "code",
   "execution_count": 55,
   "id": "963d8099-65ea-4b2c-8ec0-8dc316012d04",
   "metadata": {},
   "outputs": [
    {
     "name": "stdout",
     "output_type": "stream",
     "text": [
      "Match found: $100\n"
     ]
    }
   ],
   "source": [
    "import re\n",
    "\n",
    "txt = \"The price is $100.\"\n",
    "pattern = r\"\\$100\"\n",
    "\n",
    "match = re.search(pattern, txt)\n",
    "if match:\n",
    "    print(\"Match found:\", match.group())  \n",
    "else:\n",
    "    print(\"No match found.\")"
   ]
  },
  {
   "cell_type": "code",
   "execution_count": 58,
   "id": "5f3c42f3-959f-49d3-9aaf-10e69f530d02",
   "metadata": {},
   "outputs": [
    {
     "name": "stdout",
     "output_type": "stream",
     "text": [
      "Match found: World\n"
     ]
    }
   ],
   "source": [
    "import re\n",
    "\n",
    "txt = \"Hello, World!\"\n",
    "pattern = \"world\"\n",
    "\n",
    "match = re.search(pattern, txt, re.IGNORECASE) \n",
    "if match:\n",
    "    print(\"Match found:\", match.group()) \n",
    "else:\n",
    "    print(\"No match found.\")"
   ]
  },
  {
   "cell_type": "markdown",
   "id": "361be8d5-cab9-4e4c-9423-456d25cd3db9",
   "metadata": {},
   "source": [
    "## Dot (.) wildcard: The dot matches any single character (except for a newline character)."
   ]
  },
  {
   "cell_type": "markdown",
   "id": "fad52a59-90a5-4814-8c09-88e9ba0aa4a7",
   "metadata": {},
   "source": [
    "- The dot (`.`) wildcard in regular expressions is a special character that matches any single character except for a newline (`\\n`).\n",
    "-  It’s useful for creating flexible patterns where you want to match any character at a specific position in a string."
   ]
  },
  {
   "cell_type": "markdown",
   "id": "0730aa8b-0466-4233-8010-9c78c16737d8",
   "metadata": {},
   "source": [
    "### Key Points About the Dot Wildcard (`.`)"
   ]
  },
  {
   "cell_type": "markdown",
   "id": "b3629a77-cdce-4907-b3ee-2abb0df501a5",
   "metadata": {},
   "source": [
    "1. __Matches Any Character__: The dot wildcard can match any character in the string, including letters, digits, punctuation, and spaces, but not newlines.\n",
    "\n",
    "2. __Position-Specific Matching__: It only matches one character at a time. For example, a.c will match `abc`, `a1c`, `a-c`, but not `ac` or `abcc`.\n",
    "\n",
    "3. __Use in Patterns__: The dot wildcard is often used in combination with other regex elements to create more complex patterns."
   ]
  },
  {
   "cell_type": "code",
   "execution_count": 59,
   "id": "90935ad4-23ff-42f8-9462-a3962a41731b",
   "metadata": {},
   "outputs": [
    {
     "name": "stdout",
     "output_type": "stream",
     "text": [
      "Match found: cat\n"
     ]
    }
   ],
   "source": [
    "import re\n",
    "\n",
    "txt = \"The cat sat on the mat.\"\n",
    "pattern = r\"c.t\"  \n",
    "\n",
    "match = re.search(pattern, txt)\n",
    "if match:\n",
    "    print(\"Match found:\", match.group()) \n",
    "else:\n",
    "    print(\"No match found.\")"
   ]
  },
  {
   "cell_type": "code",
   "execution_count": 60,
   "id": "f5a96c03-3d30-4bae-832e-573d8dddb04a",
   "metadata": {},
   "outputs": [
    {
     "name": "stdout",
     "output_type": "stream",
     "text": [
      "Matches found: ['a1b', 'a2b', 'a3b', 'a4b']\n"
     ]
    }
   ],
   "source": [
    "import re\n",
    "\n",
    "txt = \"a1b a2b a3b a4b\"\n",
    "pattern = r\"a.b\" \n",
    "\n",
    "matches = re.findall(pattern, txt)\n",
    "print(\"Matches found:\", matches) "
   ]
  },
  {
   "cell_type": "code",
   "execution_count": 64,
   "id": "f8adf89a-5865-41b8-b781-6f4447ba986c",
   "metadata": {},
   "outputs": [
    {
     "name": "stdout",
     "output_type": "stream",
     "text": [
      "Matches found: []\n"
     ]
    }
   ],
   "source": [
    "import re\n",
    "\n",
    "txt = \"aXb a1b a2b a3b\"\n",
    "pattern = r\"a..b\"  \n",
    "\n",
    "matches = re.findall(pattern, txt)\n",
    "print(\"Matches found:\", matches)"
   ]
  },
  {
   "cell_type": "markdown",
   "id": "523f0283-6b4f-4102-8bc0-4b9fb161ef18",
   "metadata": {},
   "source": [
    "## Character classes: Square brackets [] define a character class, and the regex will match any single character within the brackets."
   ]
  },
  {
   "cell_type": "markdown",
   "id": "7bfb2417-2077-4055-8783-8d632ed8cf03",
   "metadata": {},
   "source": [
    "- Character classes in regular expressions allow you to define a set of characters that can match at a particular position in the string.\n",
    "-  They are enclosed in square brackets (`[]`), and the regex engine will match any single character that is present inside the brackets."
   ]
  },
  {
   "cell_type": "markdown",
   "id": "e793c514-dce6-4fb1-aeec-c7bbea06a2dc",
   "metadata": {},
   "source": [
    "### Key Points About Character Classes"
   ]
  },
  {
   "cell_type": "markdown",
   "id": "aaf2b60d-4c46-4c55-b700-b646f598c880",
   "metadata": {},
   "source": [
    "1. __Match Any Character in the Set__: The regex pattern will match any single character that is specified within the square brackets.\n",
    "\n",
    "2. __Character Ranges__: You can specify a range of characters using a hyphen (`-`). For example, `[a-z]` matches any lowercase letter from `a` to `z`.\n",
    "\n",
    "3. __Negation__: Use the caret (`^`) at the beginning of the character class to match any character not in the set. For example, `[^0-9]` matches any character that is not a digit.\n",
    "\n",
    "4. __Special Characters__: Inside a character class, some special characters (like `^`, `-`, `]`) have different meanings or need to be escaped."
   ]
  },
  {
   "cell_type": "code",
   "execution_count": 65,
   "id": "a3971613-5b5b-43f4-a7d8-399fa87d9139",
   "metadata": {},
   "outputs": [
    {
     "name": "stdout",
     "output_type": "stream",
     "text": [
      "Matches found: ['c', 't', 't', 't', 'm', 't']\n"
     ]
    }
   ],
   "source": [
    "import re\n",
    "\n",
    "txt = \"The cat sat on the mat.\"\n",
    "pattern = r\"[cmt]\" \n",
    "\n",
    "matches = re.findall(pattern, txt)\n",
    "print(\"Matches found:\", matches)"
   ]
  },
  {
   "cell_type": "code",
   "execution_count": 66,
   "id": "641ff1a7-e849-4654-a9de-ad3aebcb88aa",
   "metadata": {},
   "outputs": [
    {
     "name": "stdout",
     "output_type": "stream",
     "text": [
      "Matches found: ['a', 'b', 'c']\n"
     ]
    }
   ],
   "source": [
    "import re\n",
    "\n",
    "txt = \"123 abc DEF\"\n",
    "pattern = r\"[a-z]\" \n",
    "\n",
    "matches = re.findall(pattern, txt)\n",
    "print(\"Matches found:\", matches) "
   ]
  },
  {
   "cell_type": "code",
   "execution_count": 68,
   "id": "7331b98b-e48e-4e4a-aab1-469b7c1f79f4",
   "metadata": {},
   "outputs": [
    {
     "name": "stdout",
     "output_type": "stream",
     "text": [
      "Match found: o\n"
     ]
    }
   ],
   "source": [
    "import re\n",
    "\n",
    "pattern = re.compile(r'[window]')\n",
    "match = pattern.search('Hello, regex!')\n",
    "if match:\n",
    "    print('Match found:', match.group())"
   ]
  }
 ],
 "metadata": {
  "kernelspec": {
   "display_name": "Python 3 (ipykernel)",
   "language": "python",
   "name": "python3"
  },
  "language_info": {
   "codemirror_mode": {
    "name": "ipython",
    "version": 3
   },
   "file_extension": ".py",
   "mimetype": "text/x-python",
   "name": "python",
   "nbconvert_exporter": "python",
   "pygments_lexer": "ipython3",
   "version": "3.12.4"
  }
 },
 "nbformat": 4,
 "nbformat_minor": 5
}
