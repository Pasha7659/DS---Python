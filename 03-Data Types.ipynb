{
 "cells": [
  {
   "cell_type": "markdown",
   "id": "3e623855-1cfd-4378-9474-951bf9c80b85",
   "metadata": {},
   "source": [
    "## Python Data Types"
   ]
  },
  {
   "cell_type": "markdown",
   "id": "7ef84de5-fdcc-48dd-990e-5c9dbbd0ca4f",
   "metadata": {},
   "source": [
    "- Data types in Python define the kind of value a variable can hold and the operations that can be performed on it.\n",
    "- It Defines what type of data we are going to store in a variable\n",
    "- The data stored in memory can be of many types\n",
    "- Python has various built-in data types"
   ]
  },
  {
   "cell_type": "markdown",
   "id": "a15c274c-9b5a-4a80-8f84-736a6503fe57",
   "metadata": {},
   "source": [
    "#####   Data Types Examples\n",
    "\n",
    "     Numeric        -->    int, float, complex\n",
    "     String         -->    str\n",
    "     Sequence       -->    list, tuple, range\n",
    "     Mappig         -->    dict\n",
    "     Boolean        -->    bool\n",
    "     Set            -->    set"
   ]
  },
  {
   "attachments": {
    "4fefeaa0-e84a-4d0c-b574-14c8f3fcd772.png": {
     "image/png": "[encoded data removed]"
    }
   },
   "cell_type": "markdown",
   "id": "befb80f0-eba0-4c58-b1ef-8274eab544c5",
   "metadata": {},
   "source": [
    "![datatypes.png](attachment:4fefeaa0-e84a-4d0c-b574-14c8f3fcd772.png)"
   ]
  },
  {
   "cell_type": "markdown",
   "id": "8a542866-47dc-4f81-8a56-2a73494ef7de",
   "metadata": {},
   "source": [
    "### Python Numbers"
   ]
  },
  {
   "cell_type": "markdown",
   "id": "a22ae96c-ccb0-46f5-9dd9-eefd349bfa25",
   "metadata": {},
   "source": [
    "- Numbers in Python represent numerical values used for mathematical operations and calculations.\n",
    "- They are a fundamental data type that forms the backbone of many Python programs.\n",
    "- Python supports three primary number types:\n",
    "  There are three numeric types in Python:\n",
    "  - int\n",
    "  - float\n",
    "  - complex"
   ]
  },
  {
   "cell_type": "markdown",
   "id": "e3470cea-2067-4be5-978a-452c68035ef1",
   "metadata": {},
   "source": [
    "- 1.Integers (int) : Whole numbers without decimal points, such as -6, 0, 6, 100.\n",
    "- 2.Floating-point numbers (float) : Real numbers with decimal points, like 3.14, -2.5, 0.0.\n",
    "- 3.Complex numbers : Numbers with both real and imaginary parts, represented as a + bj, where a and b are floats, and j is the imaginary unit."
   ]
  },
  {
   "cell_type": "markdown",
   "id": "d88a2650-bcdc-435e-97ec-85bc2f6b46a5",
   "metadata": {},
   "source": [
    "Variables of numeric types are created when you assign a value to them:\n"
   ]
  },
  {
   "cell_type": "code",
   "execution_count": 5,
   "id": "d34d97a9-b9e5-4338-ae95-f7cee41f8105",
   "metadata": {},
   "outputs": [
    {
     "name": "stdout",
     "output_type": "stream",
     "text": [
      "<class 'int'>\n",
      "<class 'float'>\n",
      "<class 'complex'>\n"
     ]
    }
   ],
   "source": [
    "x = 1    # int\n",
    "y = 2.8  # float\n",
    "z = 1j   # 1+6j #complex # real number + imaginary number\n",
    "print(type(x))\n",
    "print(type(y))\n",
    "print(type(z))"
   ]
  },
  {
   "cell_type": "markdown",
   "id": "95705784-de48-4088-a8db-5e330b8576ad",
   "metadata": {},
   "source": [
    "To verify the type of any object in Python, use the type() function:"
   ]
  },
  {
   "cell_type": "markdown",
   "id": "0375559a-83ea-4f7b-a032-a6fb68cf97c9",
   "metadata": {},
   "source": [
    "#### Int"
   ]
  },
  {
   "cell_type": "markdown",
   "id": "efd3c073-28e2-4ebc-9132-daa5afde382c",
   "metadata": {},
   "source": [
    "Int, or integer, is a whole number, positive or negative, without decimals, of unlimited length."
   ]
  },
  {
   "cell_type": "code",
   "execution_count": 7,
   "id": "8d7c9a92-cb0e-4a74-a13d-c7ed1a79abb3",
   "metadata": {},
   "outputs": [
    {
     "name": "stdout",
     "output_type": "stream",
     "text": [
      "<class 'int'>\n",
      "<class 'int'>\n",
      "<class 'int'>\n",
      "<class 'int'>\n",
      "<class 'int'>\n",
      "<class 'int'>\n",
      "<class 'int'>\n",
      "<class 'int'>\n",
      "<class 'int'>\n",
      "<class 'int'>\n",
      "<class 'int'>\n",
      "<class 'int'>\n",
      "<class 'int'>\n"
     ]
    }
   ],
   "source": [
    "a = 71\n",
    "b = 33333333\n",
    "c = 35656222554887711\n",
    "d = -3255522\n",
    "e = -473728282225647389\n",
    "f = 34527263\n",
    "g = 1\n",
    "h = -0\n",
    "i = 571\n",
    "j = 8668376863478398373\n",
    "k = 67388366645567\n",
    "l = 1111111111\n",
    "m = 56254852\n",
    "\n",
    "print(type(a))\n",
    "print(type(b))\n",
    "print(type(c))\n",
    "print(type(d))\n",
    "print(type(e))\n",
    "print(type(f))\n",
    "print(type(g))\n",
    "print(type(h))\n",
    "print(type(i))\n",
    "print(type(j))\n",
    "print(type(k))\n",
    "print(type(l))\n",
    "print(type(m))"
   ]
  },
  {
   "cell_type": "markdown",
   "id": "1a0e4c28-127a-4dec-bf0b-e7f6b103e19a",
   "metadata": {},
   "source": [
    "#### Float"
   ]
  },
  {
   "cell_type": "markdown",
   "id": "b5696768-5fd1-430d-9fb3-a32260eecea8",
   "metadata": {},
   "source": [
    "Float, or \"floating point number\" is a number, positive or negative, containing one or more decimals."
   ]
  },
  {
   "cell_type": "code",
   "execution_count": 8,
   "id": "fbd4a8c3-fddb-4a8e-af08-28857b977bfa",
   "metadata": {},
   "outputs": [
    {
     "name": "stdout",
     "output_type": "stream",
     "text": [
      "<class 'float'>\n",
      "<class 'float'>\n",
      "<class 'float'>\n",
      "<class 'float'>\n",
      "<class 'float'>\n",
      "<class 'float'>\n",
      "<class 'float'>\n",
      "<class 'float'>\n",
      "<class 'float'>\n",
      "<class 'float'>\n",
      "<class 'float'>\n",
      "<class 'float'>\n",
      "<class 'float'>\n"
     ]
    }
   ],
   "source": [
    "a = 1.10\n",
    "b = 1.0\n",
    "c = -35.59\n",
    "d = -71.10\n",
    "e = 44.444444\n",
    "f = 452627.8595738\n",
    "g = 0.000000\n",
    "h = 55.6452628\n",
    "i = 5637282.0986542\n",
    "j = 6483.00976321\n",
    "k = 647376242.98463535722\n",
    "l = 46827254.947361\n",
    "m = 457273.784386\n",
    "\n",
    "print(type(a))\n",
    "print(type(b))\n",
    "print(type(c))\n",
    "print(type(d))\n",
    "print(type(e))\n",
    "print(type(f))\n",
    "print(type(g))\n",
    "print(type(h))\n",
    "print(type(i))\n",
    "print(type(j))\n",
    "print(type(k))\n",
    "print(type(l))\n",
    "print(type(m))"
   ]
  },
  {
   "cell_type": "markdown",
   "id": "f0960e24-81c8-4120-b33b-62b448b6db3f",
   "metadata": {},
   "source": [
    "Float can also be scientific numbers with an \"e\" to indicate the power of 10."
   ]
  },
  {
   "cell_type": "code",
   "execution_count": 9,
   "id": "4839ae35-2290-4d0d-a515-fa897cd4a991",
   "metadata": {},
   "outputs": [
    {
     "name": "stdout",
     "output_type": "stream",
     "text": [
      "<class 'float'>\n",
      "<class 'float'>\n",
      "<class 'float'>\n"
     ]
    }
   ],
   "source": [
    "x = 35e3\n",
    "y = 12E4\n",
    "z = -87.7e100\n",
    "\n",
    "print(type(x))\n",
    "print(type(y))\n",
    "print(type(z))"
   ]
  },
  {
   "cell_type": "markdown",
   "id": "33b33bd2-74ae-4a98-b19a-0e7ae0ef41a5",
   "metadata": {},
   "source": [
    "#### Complex"
   ]
  },
  {
   "cell_type": "markdown",
   "id": "6bb259c1-62ae-4d7e-b9f3-a4e614e32a77",
   "metadata": {},
   "source": [
    "Complex numbers are written with a \"j\" as the imaginary part:"
   ]
  },
  {
   "cell_type": "code",
   "execution_count": 2,
   "id": "62619067-177f-4d02-a47e-a2729a0478ef",
   "metadata": {},
   "outputs": [
    {
     "name": "stdout",
     "output_type": "stream",
     "text": [
      "<class 'complex'>\n",
      "<class 'complex'>\n",
      "<class 'complex'>\n",
      "<class 'complex'>\n",
      "<class 'complex'>\n",
      "<class 'complex'>\n",
      "<class 'complex'>\n",
      "<class 'complex'>\n",
      "<class 'complex'>\n",
      "<class 'complex'>\n",
      "<class 'complex'>\n",
      "<class 'complex'>\n",
      "<class 'complex'>\n"
     ]
    }
   ],
   "source": [
    "a = 2 + 3j\n",
    "b = -4 + 5j\n",
    "c = 7 - 2j\n",
    "d = 1 + 6j\n",
    "e = -5 - 6j\n",
    "f = 3 + 5j\n",
    "g = 5j\n",
    "h = -5j\n",
    "i = 3 + 5j\n",
    "j = 10 + 35j\n",
    "k = 3/2 + 1/4j\n",
    "l = -1.5 - 2.7j\n",
    "m = 2 + 13j\n",
    "\n",
    "\n",
    "print(type(a))\n",
    "print(type(b))\n",
    "print(type(c))\n",
    "print(type(d))\n",
    "print(type(e))\n",
    "print(type(f))\n",
    "print(type(g))\n",
    "print(type(h))\n",
    "print(type(i))\n",
    "print(type(j))\n",
    "print(type(k))\n",
    "print(type(l))\n",
    "print(type(m))"
   ]
  },
  {
   "cell_type": "markdown",
   "id": "47cbd640-8330-465b-971c-6e92da101643",
   "metadata": {},
   "source": [
    "## Type Conversion"
   ]
  },
  {
   "cell_type": "markdown",
   "id": "0a2e6028-499d-427c-85ae-ca9e619bcddc",
   "metadata": {},
   "source": [
    "- You can convert from one type to another with the int(), float(), and complex() methods:\n",
    "- NOTE: You can't convert complex numbers into another number type\n",
    "- In this Type Conversion there are 2 types of conversion's\n",
    "1.Implicit Conversion 2.\n",
    "Explicit Conversion "
   ]
  },
  {
   "cell_type": "markdown",
   "id": "58b20a30-685c-4ba5-a483-c6ed12aa174a",
   "metadata": {},
   "source": [
    "#### Convert from one type to another:"
   ]
  },
  {
   "cell_type": "code",
   "execution_count": 13,
   "id": "3411dde2-6435-4cdd-91b2-355d1f690e47",
   "metadata": {},
   "outputs": [
    {
     "name": "stdout",
     "output_type": "stream",
     "text": [
      "1.0\n",
      "2\n",
      "(1+0j)\n",
      "(2.844+0j)\n",
      "<class 'float'>\n",
      "<class 'int'>\n",
      "<class 'complex'>\n",
      "<class 'complex'>\n"
     ]
    }
   ],
   "source": [
    "x = 1    # int\n",
    "y = 2.844  # float\n",
    "z = 1j   # complex\n",
    "\n",
    "#convert from int to float:\n",
    "a = float(x)\n",
    "\n",
    "#convert from float to int:\n",
    "b = int(y)\n",
    "\n",
    "#convert from int to complex:\n",
    "c = complex(x)\n",
    "\n",
    "#convert from float to complex:\n",
    "d = complex(y)\n",
    "\n",
    "print(a)\n",
    "print(b)\n",
    "print(c)\n",
    "print(d)\n",
    "\n",
    "print(type(a))\n",
    "print(type(b))\n",
    "print(type(c))\n",
    "print(type(d))"
   ]
  },
  {
   "cell_type": "code",
   "execution_count": 15,
   "id": "391682eb-b00b-4459-a0a7-7979039f814e",
   "metadata": {},
   "outputs": [
    {
     "ename": "TypeError",
     "evalue": "float() argument must be a string or a real number, not 'complex'",
     "output_type": "error",
     "traceback": [
      "\u001b[1;31m---------------------------------------------------------------------------\u001b[0m",
      "\u001b[1;31mTypeError\u001b[0m                                 Traceback (most recent call last)",
      "Cell \u001b[1;32mIn[15], line 3\u001b[0m\n\u001b[0;32m      1\u001b[0m \u001b[38;5;66;03m#Note: You cannot convert complex numbers into another number type.\u001b[39;00m\n\u001b[0;32m      2\u001b[0m y \u001b[38;5;241m=\u001b[39m \u001b[38;5;241m1\u001b[39m\u001b[38;5;241m+\u001b[39m\u001b[38;5;241m0\u001b[39mj\n\u001b[1;32m----> 3\u001b[0m c \u001b[38;5;241m=\u001b[39m \u001b[38;5;28mfloat\u001b[39m(y)\n\u001b[0;32m      4\u001b[0m c\n",
      "\u001b[1;31mTypeError\u001b[0m: float() argument must be a string or a real number, not 'complex'"
     ]
    }
   ],
   "source": [
    "#Note: You cannot convert complex numbers into another number type.\n",
    "y = 1+0j\n",
    "c = float(y)\n",
    "c"
   ]
  },
  {
   "cell_type": "code",
   "execution_count": 17,
   "id": "9703de91-0e9b-4e80-9744-9ab118480e1e",
   "metadata": {},
   "outputs": [
    {
     "name": "stdout",
     "output_type": "stream",
     "text": [
      "10.0\n",
      "-454.0\n",
      "0.0\n",
      "1232683635.0\n",
      "-4638262526.0\n",
      "10.0\n",
      "-3563736.0\n",
      "363662.0\n",
      "71.0\n",
      "-7489.0\n",
      "9876543210.0\n",
      "-46347.0\n",
      "-99877.0\n"
     ]
    }
   ],
   "source": [
    "# 10 Examples of Convert from int to float\n",
    "\n",
    "num1 = 10\n",
    "num2 = -454\n",
    "num3 = 0\n",
    "num4 = 1232683635\n",
    "num5 = -4638262526\n",
    "x = 10\n",
    "y = -3563736\n",
    "z = 363662\n",
    "a1 = 71\n",
    "b2 = -7489\n",
    "c3 = 9876543210\n",
    "d4 = -46347\n",
    "e5 = -99877\n",
    "\n",
    "a = float(num1)\n",
    "b = float(num2)\n",
    "c = float(num3)\n",
    "d = float(num4)\n",
    "e = float(num5)\n",
    "f = float(x)\n",
    "g = float(y)\n",
    "h = float(z)\n",
    "i = float(a1)\n",
    "j = float(b2)\n",
    "k = float(c3)\n",
    "l = float(d4)\n",
    "m = float(e5)\n",
    "\n",
    "\n",
    "print(a)\n",
    "print(b)\n",
    "print(c)\n",
    "print(d)\n",
    "print(e)\n",
    "print(f)\n",
    "print(g)\n",
    "print(h)\n",
    "print(i)\n",
    "print(j)\n",
    "print(k)\n",
    "print(l)\n",
    "print(m)"
   ]
  },
  {
   "cell_type": "code",
   "execution_count": 18,
   "id": "7536a2b8-ce96-47d6-8b1f-3edec820b32f",
   "metadata": {},
   "outputs": [
    {
     "name": "stdout",
     "output_type": "stream",
     "text": [
      "7\n",
      "55\n",
      "46628\n",
      "85\n",
      "27\n",
      "76\n",
      "21\n",
      "-846\n",
      "463\n",
      "4683\n",
      "45699\n",
      "7555\n",
      "457222\n"
     ]
    }
   ],
   "source": [
    "# 10 Examples of convert from float to int\n",
    "\n",
    "x = 7.0\n",
    "y = 55.777\n",
    "z = 46628.83998\n",
    "result = 14.22 + 71.36\n",
    "value = 6.47 * 4.3\n",
    "weight = 76.7\n",
    "age = 21.4\n",
    "a1 = -846.2782\n",
    "b1 = 463.7363\n",
    "c1 = 4683.46782\n",
    "d4 = 45699.8363\n",
    "e5 = 7555.467828\n",
    "f6 = 457222.2222\n",
    "\n",
    "a = int(x)\n",
    "b = int(y)\n",
    "c = int(z)\n",
    "d = int(result)\n",
    "e = int(value)\n",
    "f = int(weight)\n",
    "g = int(age)\n",
    "h = int(a1)\n",
    "i = int(b1)\n",
    "j = int(c1)\n",
    "k = int(d4)\n",
    "l = int(e5)\n",
    "m = int(f6)\n",
    "\n",
    "print(a)\n",
    "print(b)\n",
    "print(c)\n",
    "print(d)\n",
    "print(e)\n",
    "print(f)\n",
    "print(g)\n",
    "print(h)\n",
    "print(i)\n",
    "print(j)\n",
    "print(k)\n",
    "print(l)\n",
    "print(m)"
   ]
  },
  {
   "cell_type": "code",
   "execution_count": 20,
   "id": "4d9b6f26-085d-4893-88e8-dd0c0689c55f",
   "metadata": {},
   "outputs": [
    {
     "name": "stdout",
     "output_type": "stream",
     "text": [
      "(5+0j)\n",
      "(-10+0j)\n",
      "0j\n",
      "(-987654321+0j)\n",
      "(1234567890+0j)\n",
      "(25+0j)\n",
      "(1000+0j)\n",
      "(22+0j)\n",
      "(12+0j)\n",
      "(6+0j)\n",
      "(59+0j)\n",
      "(777+0j)\n",
      "(4562627+0j)\n"
     ]
    }
   ],
   "source": [
    "#10 Examples of convert  from int to complex\n",
    "num1 = 5\n",
    "num2 = -10\n",
    "num3 = 0\n",
    "num4 = -987654321\n",
    "num5 = 1234567890\n",
    "x = 25\n",
    "y = 1000\n",
    "result = 15 + 7\n",
    "value = 3 * 4\n",
    "quotient = 20 // 3\n",
    "num6 = 59\n",
    "num7 = 777\n",
    "num8 = 4562627\n",
    "\n",
    "a = complex(num1)\n",
    "b = complex(num2)\n",
    "c = complex(num3)\n",
    "d = complex(num4)\n",
    "e = complex(num5)\n",
    "f = complex(x)\n",
    "g = complex(y)\n",
    "h = complex(result)\n",
    "i = complex(value)\n",
    "j = complex(quotient)\n",
    "k = complex(num6)\n",
    "l = complex(num7)\n",
    "m = complex(num8)\n",
    "\n",
    "print(a)\n",
    "print(b)\n",
    "print(c)\n",
    "print(d)\n",
    "print(e)\n",
    "print(f)\n",
    "print(g)\n",
    "print(h)\n",
    "print(i)\n",
    "print(j)\n",
    "print(k)\n",
    "print(l)\n",
    "print(m)"
   ]
  },
  {
   "cell_type": "code",
   "execution_count": 21,
   "id": "bed6c4ab-734d-482e-9886-58efc3d93902",
   "metadata": {},
   "outputs": [
    {
     "name": "stdout",
     "output_type": "stream",
     "text": [
      "(3.14+0j)\n",
      "(-2.718+0j)\n",
      "(0.999+0j)\n",
      "(1234567890.123+0j)\n",
      "(-987654321.456+0j)\n",
      "(5.7+0j)\n",
      "(-10.3+0j)\n",
      "(3.14+0j)\n",
      "(-2.718+0j)\n",
      "(22.6+0j)\n",
      "(15.959999999999999+0j)\n",
      "(5.7+0j)\n",
      "(-10.3+0j)\n",
      "(1234567890.123+0j)\n",
      "(-987654321.456+0j)\n",
      "0j\n"
     ]
    }
   ],
   "source": [
    "# 10 Examples of convert from float to complex\n",
    "\n",
    "float_num1 = 3.14\n",
    "float_num2 = -2.718\n",
    "float_num3 = 0.999\n",
    "float_num4 = 1234567890.123\n",
    "float_num5 = -987654321.456\n",
    "x = 5.7\n",
    "y = -10.3\n",
    "float_num6 = 3.14\n",
    "float_num7 = -2.718\n",
    "result = 15.6 + 7.\n",
    "value = 3.8 * 4.2\n",
    "float_num8 = 5.7\n",
    "float_num9 = -10.3\n",
    "float_num10 = 1234567890.123\n",
    "float_num11 = -987654321.456\n",
    "float_num12 = 0.0\n",
    "\n",
    "a = complex(float_num1)\n",
    "b = complex(float_num2)\n",
    "c = complex(float_num3)\n",
    "d = complex(float_num4)\n",
    "e = complex(float_num5)\n",
    "f = complex(x)\n",
    "g = complex(y)\n",
    "h = complex(float_num6)\n",
    "i = complex(float_num7)\n",
    "j = complex(result)\n",
    "k = complex(value)\n",
    "l = complex(float_num8)\n",
    "m = complex(float_num9)\n",
    "n = complex(float_num10)\n",
    "o = complex(float_num11)\n",
    "p = complex(float_num12)\n",
    "\n",
    "print(a)\n",
    "print(b)\n",
    "print(c)\n",
    "print(d)\n",
    "print(e)\n",
    "print(f)\n",
    "print(g)\n",
    "print(h)\n",
    "print(i)\n",
    "print(j)\n",
    "print(k)\n",
    "print(l)\n",
    "print(m)\n",
    "print(n)\n",
    "print(o)\n",
    "print(p)"
   ]
  },
  {
   "cell_type": "markdown",
   "id": "7c1f18e6-a618-482e-bd23-93c4dc295ed5",
   "metadata": {},
   "source": [
    "## Python Booleans"
   ]
  },
  {
   "cell_type": "markdown",
   "id": "6fdd0be5-687c-4d54-a0b3-cc0d77cb824e",
   "metadata": {},
   "source": [
    "- Booleans represent one of two values : True or False\n",
    "- In programming you often need to know if an expression is True or False.\n",
    "- You can evaluate any expression in Python, and get one of two answers, True or False.\n",
    "- When you compare two values, the expression is evaluated and Python returns the Boolean answer:"
   ]
  },
  {
   "cell_type": "markdown",
   "id": "df4e8d1e-755d-414f-99a0-9984dbde3e2a",
   "metadata": {},
   "source": [
    "#### Key Points"
   ]
  },
  {
   "cell_type": "markdown",
   "id": "f9bfdde9-1d28-4687-a70c-6c3e6f63ab89",
   "metadata": {},
   "source": [
    "- 1.Values : There are only two possible Boolean values True and False.\r",
    "- 2.Case-sensitive : True and False must be capitalized.\n",
    "- 3.Usage : Booleans are used in conditional statements (like if and else), loops, and logical operations.\n",
    "- 4.Conversion : Other data types can be converted to Booleans using the bool() function.on."
   ]
  },
  {
   "cell_type": "code",
   "execution_count": 23,
   "id": "10f95c01-284e-4cde-b377-a4f7edec4cb3",
   "metadata": {},
   "outputs": [
    {
     "name": "stdout",
     "output_type": "stream",
     "text": [
      "True\n",
      "False\n",
      "False\n"
     ]
    }
   ],
   "source": [
    "print(10 > 9)\n",
    "print(10 == 9)\n",
    "print(10 < 9)"
   ]
  },
  {
   "cell_type": "markdown",
   "id": "a93696e9-9c92-401f-8817-2dc1747fec6f",
   "metadata": {},
   "source": [
    "## bool() - Function"
   ]
  },
  {
   "cell_type": "markdown",
   "id": "a750bb7c-dee1-4ddb-bcdc-ae6c43aedc89",
   "metadata": {},
   "source": [
    "- The bool() function in Python is used to convert a value into a Boolean value, which can be either True or False."
   ]
  },
  {
   "cell_type": "code",
   "execution_count": 1,
   "id": "bc987df7-428a-444d-b281-0fe72242170a",
   "metadata": {},
   "outputs": [
    {
     "name": "stdout",
     "output_type": "stream",
     "text": [
      "False\n",
      "True\n",
      "True\n",
      "True\n",
      "True\n",
      "True\n",
      "True\n",
      "True\n",
      "True\n",
      "False\n",
      "True\n",
      "True\n",
      "True\n",
      "<class 'bool'>\n",
      "<class 'bool'>\n",
      "<class 'bool'>\n",
      "<class 'bool'>\n",
      "<class 'bool'>\n",
      "<class 'bool'>\n",
      "<class 'bool'>\n",
      "<class 'bool'>\n",
      "<class 'bool'>\n",
      "<class 'bool'>\n",
      "<class 'bool'>\n",
      "<class 'bool'>\n",
      "<class 'bool'>\n"
     ]
    }
   ],
   "source": [
    "# 10 Examples on bool() - Function\n",
    "\n",
    "x = 0.0\n",
    "y = 55.777\n",
    "z = 46628.83998\n",
    "result1 = 14.22 + 71.36\n",
    "value_1 = 6.47 * 4.3\n",
    "weight = 76.7\n",
    "result2 = 15 + 7\n",
    "value = 3 * 4\n",
    "quotient = 20 // 3\n",
    "num1 = 0\n",
    "num2 = 10 + 9j\n",
    "num3 = 2 + 0j\n",
    "name = 63562\n",
    "\n",
    "print(bool(x))\n",
    "print(bool(y))\n",
    "print(bool(z))\n",
    "print(bool(result1))\n",
    "print(bool(value))\n",
    "print(bool(weight))\n",
    "print(bool(result2))\n",
    "print(bool(value_1))\n",
    "print(bool(quotient))\n",
    "print(bool(num1))\n",
    "print(bool(num2))\n",
    "print(bool(num3))\n",
    "print(bool(name))\n",
    "\n",
    "print(type(bool(x)))\n",
    "print(type(bool(y)))\n",
    "print(type(bool(z)))\n",
    "print(type(bool(result1)))\n",
    "print(type(bool(value)))\n",
    "print(type(bool(weight)))\n",
    "print(type(bool(result2)))\n",
    "print(type(bool(value_1)))\n",
    "print(type(bool(quotient)))\n",
    "print(type(bool(num1)))\n",
    "print(type(bool(num2)))\n",
    "print(type(bool(num3)))\n",
    "print(type(bool(name)))"
   ]
  },
  {
   "cell_type": "code",
   "execution_count": null,
   "id": "5601df87-0b94-48d5-b090-e9d45d7a44f7",
   "metadata": {},
   "outputs": [],
   "source": []
  }
 ],
 "metadata": {
  "kernelspec": {
   "display_name": "Python 3 (ipykernel)",
   "language": "python",
   "name": "python3"
  },
  "language_info": {
   "codemirror_mode": {
    "name": "ipython",
    "version": 3
   },
   "file_extension": ".py",
   "mimetype": "text/x-python",
   "name": "python",
   "nbconvert_exporter": "python",
   "pygments_lexer": "ipython3",
   "version": "3.12.4"
  }
 },
 "nbformat": 4,
 "nbformat_minor": 5
}
