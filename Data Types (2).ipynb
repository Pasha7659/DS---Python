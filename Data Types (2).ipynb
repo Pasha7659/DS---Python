{
 "cells": [
  {
   "cell_type": "markdown",
   "id": "6e094c1c-5deb-49bc-8874-b2fb4eec4dc5",
   "metadata": {},
   "source": [
    "# DATA TYPES"
   ]
  },
  {
   "cell_type": "markdown",
   "id": "c9b072fe-dd13-492b-859c-1e18ebdb0d76",
   "metadata": {},
   "source": [
    "- Data Types Specifies a Type of value to perform a operation on that value.\n",
    "- There ara Two Types\n",
    "- Basic Data Type\n",
    "- Advanced Data Types"
   ]
  },
  {
   "cell_type": "markdown",
   "id": "c128dea7-44ea-45fd-a4e9-ee28506ab363",
   "metadata": {},
   "source": [
    "## Basic Data Types"
   ]
  },
  {
   "cell_type": "markdown",
   "id": "f7922de9-b780-4e9c-8f08-f0c71681621f",
   "metadata": {},
   "source": [
    "### Integer"
   ]
  },
  {
   "cell_type": "markdown",
   "id": "4d1f3c27-c897-4ef4-af34-d015fbd6369b",
   "metadata": {},
   "source": [
    "- The Number that can be a Positive,Negative and Zero .it can not have any fractional or Decimal number."
   ]
  },
  {
   "cell_type": "code",
   "execution_count": 10,
   "id": "b1788300-fa40-465d-a61c-61ebaae0027a",
   "metadata": {},
   "outputs": [
    {
     "name": "stdout",
     "output_type": "stream",
     "text": [
      "<class 'int'>\n"
     ]
    }
   ],
   "source": [
    "i=123\n",
    "print(type(i))"
   ]
  },
  {
   "cell_type": "markdown",
   "id": "d8d20756-da44-41af-9723-b38f2ce80215",
   "metadata": {},
   "source": [
    "### Float"
   ]
  },
  {
   "cell_type": "markdown",
   "id": "4050e613-00d8-4c1e-803a-30d4202211b9",
   "metadata": {},
   "source": [
    " - The Number that can be a Positive,Negative and Zero with  Decimal point."
   ]
  },
  {
   "cell_type": "code",
   "execution_count": 18,
   "id": "f5aa71af-0253-4fdf-a28a-6f96989e695e",
   "metadata": {},
   "outputs": [
    {
     "name": "stdout",
     "output_type": "stream",
     "text": [
      "<class 'float'>\n"
     ]
    }
   ],
   "source": [
    "j=5.88888\n",
    "print(type(j))"
   ]
  },
  {
   "cell_type": "markdown",
   "id": "23621719-7c24-4c3b-b59c-9d9924374d30",
   "metadata": {},
   "source": [
    "### Complex"
   ]
  },
  {
   "cell_type": "markdown",
   "id": "5089cd6c-ed95-4fa7-a90f-65e77ea0ae99",
   "metadata": {},
   "source": [
    "- The combination of real numbers and iamaginary number."
   ]
  },
  {
   "cell_type": "code",
   "execution_count": 24,
   "id": "e45d2b0a-9a61-49da-b2cd-666cf18585e6",
   "metadata": {},
   "outputs": [
    {
     "name": "stdout",
     "output_type": "stream",
     "text": [
      "<class 'complex'>\n"
     ]
    }
   ],
   "source": [
    "a=55588+32j\n",
    "print(type(a))"
   ]
  },
  {
   "cell_type": "markdown",
   "id": "ba19d63a-e717-4441-b8d4-3b914b79b2dc",
   "metadata": {},
   "source": [
    "## Examples for Basic Data Types"
   ]
  },
  {
   "cell_type": "code",
   "execution_count": 29,
   "id": "bbec67f9-aa83-4c96-8e3f-0de288884bc4",
   "metadata": {},
   "outputs": [
    {
     "name": "stdout",
     "output_type": "stream",
     "text": [
      "<class 'complex'>\n",
      "<class 'int'>\n",
      "<class 'float'>\n"
     ]
    }
   ],
   "source": [
    "a=25\n",
    "b=52.25\n",
    "c=78+56j\n",
    "print(type(c))\n",
    "print(type(a))\n",
    "print(type(b))"
   ]
  },
  {
   "cell_type": "code",
   "execution_count": 33,
   "id": "884a9445-a4fa-4734-85b0-43dca5fdaa5e",
   "metadata": {},
   "outputs": [
    {
     "name": "stdout",
     "output_type": "stream",
     "text": [
      "<class 'int'>\n",
      "<class 'float'>\n",
      "<class 'complex'>\n"
     ]
    }
   ],
   "source": [
    "a=-60\n",
    "b=-523.9565\n",
    "c=-536+89j\n",
    "print(type(a))\n",
    "print(type(b))\n",
    "print(type(c))"
   ]
  },
  {
   "cell_type": "code",
   "execution_count": 51,
   "id": "a4cf433f-1a45-4187-859b-df61a1d1f651",
   "metadata": {},
   "outputs": [
    {
     "name": "stdout",
     "output_type": "stream",
     "text": [
      "36.25\n",
      "<class 'float'>\n",
      "(-15.75+32j)\n",
      "<class 'complex'>\n",
      "-1125.0\n",
      "<class 'float'>\n",
      "(-4.25-32j)\n",
      "<class 'complex'>\n",
      "(18052500+22156000j)\n",
      "<class 'complex'>\n",
      "(-3199984.25-32j)\n",
      "<class 'complex'>\n",
      "<class 'int'>\n",
      "<class 'float'>\n",
      "<class 'complex'>\n",
      "<class 'float'>\n",
      "<class 'complex'>\n",
      "<class 'float'>\n",
      "<class 'complex'>\n",
      "<class 'complex'>\n",
      "<class 'complex'>\n"
     ]
    }
   ],
   "source": [
    "a=-20\n",
    "b=56.25\n",
    "c=-52+32j\n",
    "d=a+b\n",
    "e=a+b+c\n",
    "f=a*b\n",
    "g=a-c-d\n",
    "h=g*a*a*c*d\n",
    "i=a*a*a*a*a-e\n",
    "print(d)\n",
    "print(type(d))\n",
    "print(e)\n",
    "print(type(e))\n",
    "print(f)\n",
    "print(type(f))\n",
    "print(g)\n",
    "print(type(g))\n",
    "print(h)\n",
    "print(type(h))\n",
    "print(i)\n",
    "print(type(i))\n",
    "print(type(a))\n",
    "print(type(b))\n",
    "print(type(c))\n",
    "print(type(d))\n",
    "print(type(e))\n",
    "print(type(f))\n",
    "print(type(g))\n",
    "print(type(h))\n",
    "print(type(i))"
   ]
  },
  {
   "cell_type": "markdown",
   "id": "0a4d5456-f26c-4082-be51-9d039ae90061",
   "metadata": {},
   "source": [
    "## Boolean"
   ]
  },
  {
   "cell_type": "markdown",
   "id": "1adf459a-9b62-4305-b655-34c555d5335f",
   "metadata": {},
   "source": [
    "- Any value present in a Function then it gives output as True.\n",
    "- Thre is no value Present in a Function it gives output as False.\n",
    "  "
   ]
  },
  {
   "cell_type": "markdown",
   "id": "c393dbea-12e4-409d-8db7-542e3c16d18b",
   "metadata": {},
   "source": [
    "## Examples"
   ]
  },
  {
   "cell_type": "code",
   "execution_count": 4,
   "id": "444b205c-7d49-4146-b384-fc0e79469dc1",
   "metadata": {},
   "outputs": [
    {
     "name": "stdout",
     "output_type": "stream",
     "text": [
      "False\n"
     ]
    }
   ],
   "source": [
    "a=20>90\n",
    "print(a)"
   ]
  },
  {
   "cell_type": "code",
   "execution_count": 6,
   "id": "6df3a09f-6ed8-4755-aa98-457d41e56a66",
   "metadata": {},
   "outputs": [
    {
     "name": "stdout",
     "output_type": "stream",
     "text": [
      "True\n"
     ]
    }
   ],
   "source": [
    "i=70<100\n",
    "print(i)"
   ]
  },
  {
   "cell_type": "code",
   "execution_count": 8,
   "id": "2394ce90-97c3-4011-9b35-9e384aef862c",
   "metadata": {},
   "outputs": [
    {
     "name": "stdout",
     "output_type": "stream",
     "text": [
      "False\n"
     ]
    }
   ],
   "source": [
    "j=(45==40)\n",
    "print(j)"
   ]
  },
  {
   "cell_type": "code",
   "execution_count": 10,
   "id": "28824bf4-94f9-4ed4-93ae-b05c6eb2b9cd",
   "metadata": {},
   "outputs": [
    {
     "name": "stdout",
     "output_type": "stream",
     "text": [
      "True\n"
     ]
    }
   ],
   "source": [
    "k=(69==69)\n",
    "print(k)"
   ]
  },
  {
   "cell_type": "code",
   "execution_count": 20,
   "id": "3253f754-5728-4df7-a4f6-37cbbc600fe0",
   "metadata": {},
   "outputs": [
    {
     "name": "stdout",
     "output_type": "stream",
     "text": [
      "False\n"
     ]
    }
   ],
   "source": [
    "l=9>10\n",
    "print(l)"
   ]
  },
  {
   "cell_type": "code",
   "execution_count": 24,
   "id": "9f1c8b57-660a-4dfb-bbed-f2e8950ef8d8",
   "metadata": {},
   "outputs": [
    {
     "name": "stdout",
     "output_type": "stream",
     "text": [
      "False\n"
     ]
    }
   ],
   "source": [
    "\n",
    "m=90<56\n",
    "print(m)"
   ]
  },
  {
   "cell_type": "code",
   "execution_count": 26,
   "id": "9e12be93-646d-48ca-a59b-f594a782dedb",
   "metadata": {},
   "outputs": [
    {
     "name": "stdout",
     "output_type": "stream",
     "text": [
      "False\n"
     ]
    }
   ],
   "source": [
    "n=5==6\n",
    "print(n)"
   ]
  },
  {
   "cell_type": "code",
   "execution_count": 28,
   "id": "365cb7aa-db0f-4f94-b936-e4bf06c67b56",
   "metadata": {},
   "outputs": [
    {
     "name": "stdout",
     "output_type": "stream",
     "text": [
      "True\n"
     ]
    }
   ],
   "source": [
    "o=0==0\n",
    "print(o)"
   ]
  },
  {
   "cell_type": "code",
   "execution_count": 30,
   "id": "d986f7d0-024e-4bc0-b1f9-bd4234e2db86",
   "metadata": {},
   "outputs": [
    {
     "data": {
      "text/plain": [
       "False"
      ]
     },
     "execution_count": 30,
     "metadata": {},
     "output_type": "execute_result"
    }
   ],
   "source": [
    "bool(0)"
   ]
  },
  {
   "cell_type": "code",
   "execution_count": 32,
   "id": "7d0d6b64-e0c3-488b-a466-1a613a432b55",
   "metadata": {},
   "outputs": [
    {
     "data": {
      "text/plain": [
       "True"
      ]
     },
     "execution_count": 32,
     "metadata": {},
     "output_type": "execute_result"
    }
   ],
   "source": [
    "bool(1)\n"
   ]
  },
  {
   "cell_type": "code",
   "execution_count": 34,
   "id": "8f55404d-8e26-41e0-bd63-43af2248ea6f",
   "metadata": {},
   "outputs": [
    {
     "data": {
      "text/plain": [
       "True"
      ]
     },
     "execution_count": 34,
     "metadata": {},
     "output_type": "execute_result"
    }
   ],
   "source": [
    "bool(100)"
   ]
  },
  {
   "cell_type": "code",
   "execution_count": 36,
   "id": "7e7825cf-7a77-4263-b33c-1b955c0227c6",
   "metadata": {},
   "outputs": [
    {
     "data": {
      "text/plain": [
       "True"
      ]
     },
     "execution_count": 36,
     "metadata": {},
     "output_type": "execute_result"
    }
   ],
   "source": [
    "bool(3)"
   ]
  },
  {
   "cell_type": "code",
   "execution_count": 38,
   "id": "afba74c4-707c-4688-b6c4-c34f93c60f9f",
   "metadata": {},
   "outputs": [
    {
     "data": {
      "text/plain": [
       "True"
      ]
     },
     "execution_count": 38,
     "metadata": {},
     "output_type": "execute_result"
    }
   ],
   "source": [
    "bool(5)"
   ]
  },
  {
   "cell_type": "code",
   "execution_count": 40,
   "id": "c00a5b18-549e-45b3-a907-b3f6a6318ae8",
   "metadata": {},
   "outputs": [
    {
     "data": {
      "text/plain": [
       "False"
      ]
     },
     "execution_count": 40,
     "metadata": {},
     "output_type": "execute_result"
    }
   ],
   "source": [
    "bool()"
   ]
  },
  {
   "cell_type": "code",
   "execution_count": 42,
   "id": "119b7ed4-9445-4a71-8a3e-bd1f230c34b6",
   "metadata": {},
   "outputs": [
    {
     "data": {
      "text/plain": [
       "False"
      ]
     },
     "execution_count": 42,
     "metadata": {},
     "output_type": "execute_result"
    }
   ],
   "source": [
    "bool(j)"
   ]
  },
  {
   "cell_type": "code",
   "execution_count": 46,
   "id": "3b7dc223-d55e-4a63-9bf7-fb9c5db50b0a",
   "metadata": {},
   "outputs": [
    {
     "data": {
      "text/plain": [
       "False"
      ]
     },
     "execution_count": 46,
     "metadata": {},
     "output_type": "execute_result"
    }
   ],
   "source": [
    "bool(a)"
   ]
  },
  {
   "cell_type": "code",
   "execution_count": 48,
   "id": "bf13e831-a870-4138-b091-f29dee366c62",
   "metadata": {},
   "outputs": [
    {
     "data": {
      "text/plain": [
       "False"
      ]
     },
     "execution_count": 48,
     "metadata": {},
     "output_type": "execute_result"
    }
   ],
   "source": [
    "bool(m)"
   ]
  },
  {
   "cell_type": "code",
   "execution_count": 50,
   "id": "4607f5be-d6e2-400d-b5d5-3198ec74462d",
   "metadata": {},
   "outputs": [
    {
     "data": {
      "text/plain": [
       "True"
      ]
     },
     "execution_count": 50,
     "metadata": {},
     "output_type": "execute_result"
    }
   ],
   "source": [
    "bool(k)"
   ]
  },
  {
   "cell_type": "markdown",
   "id": "1e7b1965-174d-444d-b1d5-feff0aedc2be",
   "metadata": {},
   "source": [
    "## Type Converssions"
   ]
  },
  {
   "cell_type": "markdown",
   "id": "eb47ed0a-04cb-458b-8537-dd3a5ff90be6",
   "metadata": {},
   "source": [
    "### Int to Float"
   ]
  },
  {
   "cell_type": "code",
   "execution_count": 54,
   "id": "beac57c6-7608-4805-b066-07d6ba1c4b10",
   "metadata": {},
   "outputs": [
    {
     "name": "stdout",
     "output_type": "stream",
     "text": [
      "34.0\n"
     ]
    }
   ],
   "source": [
    "a=34\n",
    "b=float(a)\n",
    "print(b)"
   ]
  },
  {
   "cell_type": "code",
   "execution_count": 56,
   "id": "79d50bd3-73c4-46b5-b453-1ff84ab04626",
   "metadata": {},
   "outputs": [
    {
     "name": "stdout",
     "output_type": "stream",
     "text": [
      "90.0\n"
     ]
    }
   ],
   "source": [
    "c=90\n",
    "d=float(c)\n",
    "print(d)"
   ]
  },
  {
   "cell_type": "code",
   "execution_count": 58,
   "id": "70228709-8971-4e69-b0b9-688816bb26ff",
   "metadata": {},
   "outputs": [
    {
     "name": "stdout",
     "output_type": "stream",
     "text": [
      "87.0\n"
     ]
    }
   ],
   "source": [
    "j=87\n",
    "h=float(j)\n",
    "print(h)"
   ]
  },
  {
   "cell_type": "code",
   "execution_count": 62,
   "id": "d9740e33-e114-4ead-b569-84b967059881",
   "metadata": {},
   "outputs": [
    {
     "name": "stdout",
     "output_type": "stream",
     "text": [
      "0.0\n"
     ]
    }
   ],
   "source": [
    "g=00\n",
    "k=float(g)\n",
    "print(k)"
   ]
  },
  {
   "cell_type": "code",
   "execution_count": 64,
   "id": "46a0e5e0-d0c2-49b2-8cce-7070e8ee237b",
   "metadata": {},
   "outputs": [
    {
     "name": "stdout",
     "output_type": "stream",
     "text": [
      "65.0\n"
     ]
    }
   ],
   "source": [
    "l=65\n",
    "m=float(l)\n",
    "print(m)"
   ]
  },
  {
   "cell_type": "markdown",
   "id": "aa7f4300-5b9a-41a4-9530-6bcc7ee73750",
   "metadata": {},
   "source": [
    "### Int to Complex"
   ]
  },
  {
   "cell_type": "code",
   "execution_count": 69,
   "id": "46b23ce1-d2d6-46e6-9ba8-8a68b2c9827b",
   "metadata": {},
   "outputs": [
    {
     "name": "stdout",
     "output_type": "stream",
     "text": [
      "(89+0j)\n"
     ]
    }
   ],
   "source": [
    "a=89\n",
    "b=complex(a)\n",
    "print(b)"
   ]
  },
  {
   "cell_type": "code",
   "execution_count": 71,
   "id": "41c17878-22d0-4f9c-98cb-fb1432684b3d",
   "metadata": {},
   "outputs": [
    {
     "name": "stdout",
     "output_type": "stream",
     "text": [
      "0j\n"
     ]
    }
   ],
   "source": [
    "j=0\n",
    "k=complex(j)\n",
    "print(k)"
   ]
  },
  {
   "cell_type": "code",
   "execution_count": 103,
   "id": "73e03b1a-20fc-4a81-80f6-78dd1bbee32a",
   "metadata": {},
   "outputs": [
    {
     "name": "stdout",
     "output_type": "stream",
     "text": [
      "(-3+0j)\n"
     ]
    }
   ],
   "source": [
    "n=-3\n",
    "o=complex(n)\n",
    "print(o)"
   ]
  },
  {
   "cell_type": "code",
   "execution_count": 75,
   "id": "b5f010b1-0335-4b70-9ade-4a9ed9fa1762",
   "metadata": {},
   "outputs": [
    {
     "name": "stdout",
     "output_type": "stream",
     "text": [
      "(96+0j)\n"
     ]
    }
   ],
   "source": [
    "v=96\n",
    "l=complex(v)\n",
    "print(l)"
   ]
  },
  {
   "cell_type": "code",
   "execution_count": 77,
   "id": "7bd95acd-305a-4fd3-9685-3616454fca1c",
   "metadata": {},
   "outputs": [
    {
     "name": "stdout",
     "output_type": "stream",
     "text": [
      "(25655865+0j)\n"
     ]
    }
   ],
   "source": [
    "x=25655865\n",
    "y=complex(x)\n",
    "print(y)"
   ]
  },
  {
   "cell_type": "markdown",
   "id": "4bb7c4f8-1e0c-4f07-94f3-85c068212f9a",
   "metadata": {},
   "source": [
    "### Float to Int"
   ]
  },
  {
   "cell_type": "code",
   "execution_count": 80,
   "id": "a0680d7f-0cde-4b3d-bd95-c4e2f6153d5c",
   "metadata": {},
   "outputs": [
    {
     "name": "stdout",
     "output_type": "stream",
     "text": [
      "89\n"
     ]
    }
   ],
   "source": [
    "a=89.78\n",
    "b=int(a)\n",
    "print(b)"
   ]
  },
  {
   "cell_type": "code",
   "execution_count": 99,
   "id": "f0c458ce-5ee8-4124-a506-dfa6fa2b8950",
   "metadata": {},
   "outputs": [
    {
     "name": "stdout",
     "output_type": "stream",
     "text": [
      "-52\n"
     ]
    }
   ],
   "source": [
    "k=-52.1236\n",
    "l=int(k)\n",
    "print(l)"
   ]
  },
  {
   "cell_type": "code",
   "execution_count": 84,
   "id": "3334c18a-7a54-4a8d-ba73-8ad8d1fa5fa7",
   "metadata": {},
   "outputs": [
    {
     "name": "stdout",
     "output_type": "stream",
     "text": [
      "321654\n"
     ]
    }
   ],
   "source": [
    "m=321654.9874\n",
    "n=int(m)\n",
    "print(n)"
   ]
  },
  {
   "cell_type": "code",
   "execution_count": 101,
   "id": "c7a46dff-7d74-4886-8162-7d8bda03c0a3",
   "metadata": {},
   "outputs": [
    {
     "name": "stdout",
     "output_type": "stream",
     "text": [
      "0\n"
     ]
    }
   ],
   "source": [
    "s=-0000000000000000000000.231000000000000000000000\n",
    "k=int(s)\n",
    "print(k)"
   ]
  },
  {
   "cell_type": "markdown",
   "id": "0c0fa60c-189c-489e-8a8d-9eb2200fd19f",
   "metadata": {},
   "source": [
    "### Float to Complex"
   ]
  },
  {
   "cell_type": "code",
   "execution_count": 89,
   "id": "8c90f6da-779b-4635-ac02-1bf68942da6d",
   "metadata": {},
   "outputs": [
    {
     "name": "stdout",
     "output_type": "stream",
     "text": [
      "(52.32+0j)\n"
     ]
    }
   ],
   "source": [
    "a=52.32\n",
    "b=complex(a)\n",
    "print(b)"
   ]
  },
  {
   "cell_type": "code",
   "execution_count": 91,
   "id": "97d06153-8fc0-4864-a013-f8c506bcc3f3",
   "metadata": {},
   "outputs": [
    {
     "name": "stdout",
     "output_type": "stream",
     "text": [
      "(100.1+0j)\n"
     ]
    }
   ],
   "source": [
    "p=100.10\n",
    "q=complex(p)\n",
    "print(q)"
   ]
  },
  {
   "cell_type": "code",
   "execution_count": 105,
   "id": "d91d01ec-d1c2-46f2-9055-7ea87e9c205b",
   "metadata": {},
   "outputs": [
    {
     "name": "stdout",
     "output_type": "stream",
     "text": [
      "(-9+0j)\n"
     ]
    }
   ],
   "source": [
    "n=-9.00000\n",
    "o=complex(n)\n",
    "print(o)"
   ]
  },
  {
   "cell_type": "code",
   "execution_count": 95,
   "id": "3de7de57-b4f9-4ad5-a493-df22781de10f",
   "metadata": {},
   "outputs": [
    {
     "name": "stdout",
     "output_type": "stream",
     "text": [
      "0j\n"
     ]
    }
   ],
   "source": [
    "j=0.0\n",
    "p=complex(j)\n",
    "print(p)"
   ]
  },
  {
   "cell_type": "code",
   "execution_count": 97,
   "id": "f9cb84c7-794f-4310-b091-cbe63efbcb2e",
   "metadata": {},
   "outputs": [
    {
     "name": "stdout",
     "output_type": "stream",
     "text": [
      "(-52.452+0j)\n"
     ]
    }
   ],
   "source": [
    "k=-52.452\n",
    "v=complex(k)\n",
    "print(v)"
   ]
  },
  {
   "cell_type": "code",
   "execution_count": null,
   "id": "ee5c43a3-552e-4e6e-a181-29f94d3d37de",
   "metadata": {},
   "outputs": [],
   "source": []
  }
 ],
 "metadata": {
  "kernelspec": {
   "display_name": "Python 3 (ipykernel)",
   "language": "python",
   "name": "python3"
  },
  "language_info": {
   "codemirror_mode": {
    "name": "ipython",
    "version": 3
   },
   "file_extension": ".py",
   "mimetype": "text/x-python",
   "name": "python",
   "nbconvert_exporter": "python",
   "pygments_lexer": "ipython3",
   "version": "3.12.4"
  }
 },
 "nbformat": 4,
 "nbformat_minor": 5
}
