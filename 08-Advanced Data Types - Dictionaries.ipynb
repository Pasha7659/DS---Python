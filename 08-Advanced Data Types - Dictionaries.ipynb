{
 "cells": [
  {
   "cell_type": "markdown",
   "id": "e3f9ba55-8f06-4056-a3a3-3bcb354a26bd",
   "metadata": {},
   "source": [
    "## Python Dictionaries"
   ]
  },
  {
   "cell_type": "markdown",
   "id": "d42caf28-59ca-4e3f-a185-76f9d5368407",
   "metadata": {},
   "source": [
    " - A Python Dictionary is a data structure that allows you to store and retrive data in a `key:value` pair format.\n",
    " - Dictionaries are also known as associative arrays or hash maps in other Programming Languages.\n",
    " - They are defined using curly braces `{}` and coonsist of key-value pairs seperated by colons.\n",
    " - In Python, a `dictionary` is a built-in data structure that stores data in key-value pairs.\n",
    " - Each key is unique, immutable (cannot be changed), and is associated with a specific value, which can be of any data type.\n",
    " - Dictionaries are unordered, meaning the elements do not have a defined sequence."
   ]
  },
  {
   "cell_type": "markdown",
   "id": "75eac0c0-6ac0-4159-8ae6-77ef3fcfdeb8",
   "metadata": {},
   "source": [
    "#### Key Points :"
   ]
  },
  {
   "cell_type": "markdown",
   "id": "91e7f95f-9647-476c-85d1-50b4170da5dc",
   "metadata": {},
   "source": [
    "- `Syntax`: dict = {key: value, key: value, ...}\n",
    "- `Unordered`: Items have no specific order.\n",
    "- `Mutable`: You can change its contents after creation.\n",
    "- `Keys are unique`: Each key must be different.\n",
    "- `Values can be any data type`: Numbers, strings, lists, even other dictionaries."
   ]
  },
  {
   "cell_type": "markdown",
   "id": "78821e1b-6525-45a7-8bb9-26a17ae02d17",
   "metadata": {},
   "source": [
    "### Creating Dictionaries"
   ]
  },
  {
   "cell_type": "markdown",
   "id": "f8101fe5-0e48-481e-be45-dc336ff76699",
   "metadata": {},
   "source": [
    "- A Python dictionary is a collection of key-value pairs. It's an unordered, mutable data structure."
   ]
  },
  {
   "cell_type": "code",
   "execution_count": 31,
   "id": "242b6902-ace6-43e0-8f76-7094cf22e498",
   "metadata": {},
   "outputs": [],
   "source": [
    "# Empty dictionary\n",
    "empty_dict = {}"
   ]
  },
  {
   "cell_type": "code",
   "execution_count": 32,
   "id": "389e217a-223f-4618-ae3b-53c7ec934171",
   "metadata": {},
   "outputs": [
    {
     "name": "stdout",
     "output_type": "stream",
     "text": [
      "{'name': 'Deva', 'age': 21, 'grade': 'A'}\n"
     ]
    }
   ],
   "source": [
    "# Dictionary with key-value pairs\n",
    "student = {'name' : 'Deva', 'age' : 21,'grade' : 'A'}\n",
    "print(student)"
   ]
  },
  {
   "cell_type": "code",
   "execution_count": 33,
   "id": "aa5bcf45-3c4e-416a-9e34-cc7dccf9fea0",
   "metadata": {},
   "outputs": [
    {
     "name": "stdout",
     "output_type": "stream",
     "text": [
      "{'name': 'Devaraju', 'age': 20, 'grade': [85, 90, 92]}\n"
     ]
    }
   ],
   "source": [
    "# Dictionary with mixed data types\n",
    "mixed_dict = {\n",
    "    'name' : 'Devaraju',\n",
    "    'age' : 20,\n",
    "    'grade' : [85,90,92]\n",
    "   }\n",
    "print(mixed_dict)\n"
   ]
  },
  {
   "cell_type": "code",
   "execution_count": 8,
   "id": "64ff7633-f061-4d14-baa6-78cb0dde0e02",
   "metadata": {},
   "outputs": [
    {
     "name": "stdout",
     "output_type": "stream",
     "text": [
      "{'name': 'Gopal', 'age': 22, 'city': 'Hydrabad'}\n"
     ]
    }
   ],
   "source": [
    "my_dict = dict(name=\"Gopal\", age=22, city=\"Hydrabad\")\n",
    "\n",
    "print(my_dict)"
   ]
  },
  {
   "cell_type": "markdown",
   "id": "fd0c8a3c-b05e-4c2d-95f4-b1cea18e3c5a",
   "metadata": {},
   "source": [
    "- `Keys` must be unique and immutable (e.g., strings, numbers, or tuples).\n",
    "- `Values` can be of any data type (e.g., integers, lists, other dictionaries)."
   ]
  },
  {
   "cell_type": "markdown",
   "id": "77a79acd-c587-44df-bef5-2f912bf30e8a",
   "metadata": {},
   "source": [
    "### Accessing Values"
   ]
  },
  {
   "cell_type": "markdown",
   "id": "22d4418c-94b4-47f1-a241-c03e08c1d7f4",
   "metadata": {},
   "source": [
    "- Accessing values in a Python dictionary is straightforward. You can retrieve values using their corresponding keys.\n",
    "  \n",
    "- You can access the values in a dictionary using the Keys.\n",
    "  \n",
    "- Here are different ways to access values in dictionaries:"
   ]
  },
  {
   "cell_type": "markdown",
   "id": "4de7109c-9bf4-4d14-81f5-66e2fc003816",
   "metadata": {},
   "source": [
    "#### Syntax :"
   ]
  },
  {
   "cell_type": "code",
   "execution_count": null,
   "id": "f1dbc10f-283d-4d31-a0ba-b7ac51ddb97b",
   "metadata": {},
   "outputs": [],
   "source": [
    "dictionary_name[key]"
   ]
  },
  {
   "cell_type": "code",
   "execution_count": 34,
   "id": "3f233136-cd37-4f66-8efe-10f4a256d759",
   "metadata": {},
   "outputs": [
    {
     "name": "stdout",
     "output_type": "stream",
     "text": [
      "{'name': 'Deva', 'age': 21, 'grade': 'A'}\n"
     ]
    }
   ],
   "source": [
    "# Dictionary with key-value pairs\n",
    "student = {'name' : 'Deva', 'age' : 21,'grade' : 'A'}\n",
    "print(student)"
   ]
  },
  {
   "cell_type": "code",
   "execution_count": 35,
   "id": "4e3ea24c-84ce-4389-ad91-b31e6456d6b5",
   "metadata": {},
   "outputs": [
    {
     "name": "stdout",
     "output_type": "stream",
     "text": [
      "{'name': 'Devaraju', 'age': 20, 'grade': [85, 90, 92]}\n"
     ]
    }
   ],
   "source": [
    "# Dictionary with mixed data types\n",
    "mixed_dict = {\n",
    "    'name' : 'Devaraju',\n",
    "    'age' : 20,\n",
    "    'grade' : [85,90,92]\n",
    "   }\n",
    "print(mixed_dict)"
   ]
  },
  {
   "cell_type": "code",
   "execution_count": 40,
   "id": "36b77ebb-704a-4527-ac59-75eb5128d965",
   "metadata": {},
   "outputs": [
    {
     "name": "stdout",
     "output_type": "stream",
     "text": [
      "Gopal\n",
      "[85, 90, 92]\n"
     ]
    }
   ],
   "source": [
    "# accessing elements\n",
    "print(student['name'])\n",
    "print(mixed_dict['grade'])"
   ]
  },
  {
   "cell_type": "code",
   "execution_count": 16,
   "id": "a7fe49f4-f46e-426e-9545-010d6fed2ab4",
   "metadata": {},
   "outputs": [
    {
     "name": "stdout",
     "output_type": "stream",
     "text": [
      "Ajay\n",
      "21\n"
     ]
    }
   ],
   "source": [
    "my_dict = {\"name\": \"Ajay\", \"age\": 21, \"city\": \"Mumbai\"}\n",
    "print(my_dict[\"name\"]) \n",
    "print(my_dict[\"age\"])   "
   ]
  },
  {
   "cell_type": "markdown",
   "id": "1673b040-b837-440d-9acd-e36111095e1d",
   "metadata": {},
   "source": [
    "### Modifying and Adding Entries:"
   ]
  },
  {
   "cell_type": "markdown",
   "id": "0464cfdb-bbdd-490f-b4f4-380685c874d8",
   "metadata": {},
   "source": [
    " - Dictionaries are Mutable, so you can modify existing entries or add new ones.\n",
    "   \n",
    " - To modify the value associated with an existing key, simply assign a new value to the key:"
   ]
  },
  {
   "cell_type": "code",
   "execution_count": 37,
   "id": "7cc86cb7-0f9b-4d49-84ad-e5b81fa01bf8",
   "metadata": {},
   "outputs": [
    {
     "data": {
      "text/plain": [
       "{'name': 'Gopal', 'age': 22, 'grade': 'A'}"
      ]
     },
     "execution_count": 37,
     "metadata": {},
     "output_type": "execute_result"
    }
   ],
   "source": [
    "# Dictionary with key_value pairs\n",
    "student = {\n",
    "    'name' : 'Gopal',\n",
    "    'age' : 22,\n",
    "    'grade' : 'A',\n",
    "}\n",
    "student"
   ]
  },
  {
   "cell_type": "code",
   "execution_count": 38,
   "id": "b11dbfa9-4d8b-4c11-8bfb-47a934dfbeab",
   "metadata": {},
   "outputs": [
    {
     "data": {
      "text/plain": [
       "{'name': 'Gopal', 'age': 26, 'grade': 'A'}"
      ]
     },
     "execution_count": 38,
     "metadata": {},
     "output_type": "execute_result"
    }
   ],
   "source": [
    "# Modifying an entry\n",
    "student['age'] = 26\n",
    "student"
   ]
  },
  {
   "cell_type": "code",
   "execution_count": 39,
   "id": "c9459a49-971e-48d0-a806-fac18dd56354",
   "metadata": {},
   "outputs": [
    {
     "data": {
      "text/plain": [
       "{'name': 'Gopal',\n",
       " 'age': 26,\n",
       " 'grade': 'A',\n",
       " 'gender': 'Female',\n",
       " 'Qualification': 'B.Tech'}"
      ]
     },
     "execution_count": 39,
     "metadata": {},
     "output_type": "execute_result"
    }
   ],
   "source": [
    "# Adding a new entry\n",
    "student['gender'] = 'Female'\n",
    "student['Qualification'] = 'B.Tech'\n",
    "student"
   ]
  },
  {
   "cell_type": "code",
   "execution_count": 20,
   "id": "7c9a4184-0798-4297-a63b-77b3d0e178f7",
   "metadata": {},
   "outputs": [
    {
     "name": "stdout",
     "output_type": "stream",
     "text": [
      "{'name': 'Sakku', 'age': 31, 'city': 'Hydrabad'}\n"
     ]
    }
   ],
   "source": [
    "my_dict = {\"name\": \"Sakku\", \"age\": 23, \"city\": \"Hydrabad\"}\n",
    "my_dict[\"age\"] = 31  \n",
    "print(my_dict)"
   ]
  },
  {
   "cell_type": "markdown",
   "id": "ec6be02e-0425-4d34-9ae9-d44c467dbac1",
   "metadata": {},
   "source": [
    "| Method |Description  |\n",
    "|--------|------------|\n",
    "| get()  | Returns the value of the specified key |\n",
    "| keys()| Returns a list containing the dictionary's keys|\n",
    "| values()| Returns a list of all the values in the dictionary|\n",
    "| items()| Returns a list containing a tuple for each key value pair|\n",
    "| pop()| Removes the element with the specified key|\n",
    "| popitem()| Removes the last inserted key-value pair|\n",
    "| update()| Updates the dictionary with the specified key-value pairs|\n",
    "| clear()| Removes all the elements from the dicitionary|\n",
    "| copy()| Returns a copy of the dictionary|\n",
    "| fromkeys() | Returns a dictionary with the specified keys and value |\n",
    "| setdefault() | Returns the value of the specified key. If the key does not exist: insert the key, with the specified value|"
   ]
  },
  {
   "cell_type": "markdown",
   "id": "fce3dcc7-bd4e-4338-a533-1d3881e58345",
   "metadata": {},
   "source": [
    "### Dictionary Methods"
   ]
  },
  {
   "cell_type": "markdown",
   "id": "96a4feb7-74da-491c-994a-97bd5a090834",
   "metadata": {},
   "source": [
    "- Python offers a variety of methods to manipulate dictionaries efficiently. Here's a breakdown of some common ones:"
   ]
  },
  {
   "cell_type": "markdown",
   "id": "a92ad4c5-e29e-49cd-a6fa-622ebbe274b9",
   "metadata": {},
   "source": [
    "#### 1. `get()`:"
   ]
  },
  {
   "cell_type": "markdown",
   "id": "a7a1e5cb-8b2e-4f77-8593-2f60faa0f0a0",
   "metadata": {},
   "source": [
    "- The `get()` method returns the value of the item with the specified key.\n",
    "  \n",
    "- It allows you to provide a default value if the key in not found."
   ]
  },
  {
   "cell_type": "markdown",
   "id": "64e7ff17-8b0c-47a6-9312-5541c7c7061a",
   "metadata": {},
   "source": [
    "#### Syntax"
   ]
  },
  {
   "cell_type": "code",
   "execution_count": null,
   "id": "5673f30a-1b8a-4c81-82bc-5ee7134129a4",
   "metadata": {},
   "outputs": [],
   "source": [
    "dictionary.get(keyname, value)"
   ]
  },
  {
   "cell_type": "code",
   "execution_count": 41,
   "id": "1a832889-6060-47e0-b32d-f76175c96f46",
   "metadata": {},
   "outputs": [],
   "source": [
    "g = student.get('grade','no grade')\n",
    "gender = student.get('gender','Not Specified')\n",
    "h = student.get('location','Location Not Found')"
   ]
  },
  {
   "cell_type": "code",
   "execution_count": 42,
   "id": "c1d70390-aec9-45a1-97c1-c93b59d942fa",
   "metadata": {},
   "outputs": [
    {
     "name": "stdout",
     "output_type": "stream",
     "text": [
      "A\n",
      "Female\n",
      "Location Not Found\n"
     ]
    }
   ],
   "source": [
    "print(g)\n",
    "print(gender)\n",
    "print(h)"
   ]
  },
  {
   "cell_type": "markdown",
   "id": "326aafea-e1ed-48c8-aa07-c451dfc2a4e9",
   "metadata": {},
   "source": [
    "#### 2. `keys()`:"
   ]
  },
  {
   "cell_type": "markdown",
   "id": "ad0a1b4f-1097-41b5-9517-b824fe8eef7b",
   "metadata": {},
   "source": [
    "- The `keys()` method returns a view object. The view object contains the keys of the dictionary, as a list.\n",
    "\n",
    "- The view object will reflect any changes done to the dictionary.\n",
    "\n",
    "- It Returns a view of all the keys in the dictionary"
   ]
  },
  {
   "cell_type": "markdown",
   "id": "80d1b83d-5083-49e4-8726-1f6025cd9f68",
   "metadata": {},
   "source": [
    "#### Syntax"
   ]
  },
  {
   "cell_type": "code",
   "execution_count": null,
   "id": "f95e4fd6-421a-405a-8c32-ef68873aba7e",
   "metadata": {},
   "outputs": [],
   "source": [
    "dictionary.keys()"
   ]
  },
  {
   "cell_type": "code",
   "execution_count": 24,
   "id": "89cc875b-c31f-4e54-b76a-fb02e4a439b7",
   "metadata": {},
   "outputs": [
    {
     "name": "stdout",
     "output_type": "stream",
     "text": [
      "dict_keys(['name', 'age', 'grade', 'gender', 'Qualification'])\n"
     ]
    }
   ],
   "source": [
    "keys = student.keys()\n",
    "print(keys)"
   ]
  },
  {
   "cell_type": "code",
   "execution_count": 25,
   "id": "08f89d2e-305b-4391-8fc3-1d3a429ecb6f",
   "metadata": {},
   "outputs": [
    {
     "name": "stdout",
     "output_type": "stream",
     "text": [
      "dict_keys(['name', 'age', 'city'])\n"
     ]
    }
   ],
   "source": [
    "my_dict = {'name': 'Vijay', 'age': 22, 'city': 'Guntur'}\n",
    "keys = my_dict.keys()\n",
    "print(keys) "
   ]
  },
  {
   "cell_type": "markdown",
   "id": "d834ba7f-7b60-4ce6-944e-a24391b1e52f",
   "metadata": {},
   "source": [
    "#### 3. `values`:"
   ]
  },
  {
   "cell_type": "markdown",
   "id": "8bddcd89-2f09-45d3-913a-335cd1a63803",
   "metadata": {},
   "source": [
    "- The `values()` method returns a view object. The view object contains the values of the dictionary, as a list.\n",
    "\n",
    "- He view object will reflect any changes done to the dictionary.\n",
    "\n",
    "- Returns a view of all the values in dictionary."
   ]
  },
  {
   "cell_type": "markdown",
   "id": "8e8c360c-2b80-4c40-bd84-56af2c6d4b1a",
   "metadata": {},
   "source": [
    "#### Syntax"
   ]
  },
  {
   "cell_type": "code",
   "execution_count": null,
   "id": "f8210b64-aba2-4dec-804b-4120f694b153",
   "metadata": {},
   "outputs": [],
   "source": [
    "dictionary.values()"
   ]
  },
  {
   "cell_type": "code",
   "execution_count": 26,
   "id": "ad274d0c-585a-41c2-b90f-f66f8b1c8cc8",
   "metadata": {},
   "outputs": [
    {
     "name": "stdout",
     "output_type": "stream",
     "text": [
      "dict_values(['Gopal', 26, 'A', 'Female', 'B.Tech'])\n"
     ]
    }
   ],
   "source": [
    "values = student.values()\n",
    "print(values)"
   ]
  },
  {
   "cell_type": "code",
   "execution_count": 27,
   "id": "c00be589-bc92-44e9-a5d6-0301a87c215f",
   "metadata": {},
   "outputs": [
    {
     "name": "stdout",
     "output_type": "stream",
     "text": [
      "dict_values(['Ford', 'Mustang', 2018])\n"
     ]
    }
   ],
   "source": [
    "car = {\n",
    "  \"brand\": \"Ford\",\n",
    "  \"model\": \"Mustang\",\n",
    "  \"year\": 1964\n",
    "}\n",
    "\n",
    "x = car.values()\n",
    "\n",
    "car[\"year\"] = 2018\n",
    "\n",
    "print(x)"
   ]
  },
  {
   "cell_type": "markdown",
   "id": "ae960b68-221d-43ad-a82d-46153034f4a5",
   "metadata": {},
   "source": [
    "#### 4. `items()`:"
   ]
  },
  {
   "cell_type": "markdown",
   "id": "aeac9596-4612-4e1f-8816-ed0ea8d58b91",
   "metadata": {},
   "source": [
    "- The items() method returns a view object. The view object contains the key-value pairs of the dictionary, as tuples in a list.\n",
    "\n",
    "- The view object will reflect any changes done to the dictionary.\n",
    "\n",
    "- Returns a view of all key-value for a specified key."
   ]
  },
  {
   "cell_type": "markdown",
   "id": "f9535893-83dd-4b87-a01b-4dab9cf13175",
   "metadata": {},
   "source": [
    "#### Syntax"
   ]
  },
  {
   "cell_type": "code",
   "execution_count": null,
   "id": "e6f0de9e-2188-4c3a-a8dc-a7807c2a886a",
   "metadata": {},
   "outputs": [],
   "source": [
    "dictionary.items()"
   ]
  },
  {
   "cell_type": "code",
   "execution_count": 28,
   "id": "4fe230fa-9389-4899-9bac-5d41f2931410",
   "metadata": {},
   "outputs": [
    {
     "data": {
      "text/plain": [
       "dict_items([('name', 'Gopal'), ('age', 26), ('grade', 'A'), ('gender', 'Female'), ('Qualification', 'B.Tech')])"
      ]
     },
     "execution_count": 28,
     "metadata": {},
     "output_type": "execute_result"
    }
   ],
   "source": [
    "items = student.items()\n",
    "items"
   ]
  },
  {
   "cell_type": "code",
   "execution_count": 29,
   "id": "013586e6-a922-4425-b06b-e3e474ae7623",
   "metadata": {},
   "outputs": [
    {
     "name": "stdout",
     "output_type": "stream",
     "text": [
      "dict_items([('name', 'Ajay'), ('age', 22), ('city', 'New York')])\n"
     ]
    }
   ],
   "source": [
    "my_dict = {'name': 'Ajay', 'age': 22, 'city': 'New York'}\n",
    "items = my_dict.items()\n",
    "print(items)"
   ]
  },
  {
   "cell_type": "markdown",
   "id": "7444faba-9bfa-408d-b0f7-280b1dd9472c",
   "metadata": {},
   "source": [
    "### 5. `pop()`:"
   ]
  },
  {
   "cell_type": "markdown",
   "id": "8a393ed3-de34-442b-9efc-5d9eda5b84b3",
   "metadata": {},
   "source": [
    "- The `pop()` method removes the specified item from the dictionary.\n",
    "\n",
    "- The value of the removed item is the return value of the `pop()` method.\n",
    "\n",
    "- Remove and Returns the value for aspecified key."
   ]
  },
  {
   "cell_type": "markdown",
   "id": "f8111b2d-f04c-4a39-afea-29ac44888adb",
   "metadata": {},
   "source": [
    "#### Syntax"
   ]
  },
  {
   "cell_type": "code",
   "execution_count": null,
   "id": "d41d222e-d0a6-43fc-9fe7-dfa05a8278af",
   "metadata": {},
   "outputs": [],
   "source": [
    "dictionary.pop(keyname, defaultvalue)"
   ]
  },
  {
   "cell_type": "code",
   "execution_count": 30,
   "id": "d13f3dda-915f-4b45-be9c-196e3ce99dc4",
   "metadata": {},
   "outputs": [
    {
     "data": {
      "text/plain": [
       "{'name': 'Deva', 'age': 22, 'grades': [85, 90, 92]}"
      ]
     },
     "execution_count": 30,
     "metadata": {},
     "output_type": "execute_result"
    }
   ],
   "source": [
    "mixed_dict = {\n",
    "    'name' : 'Deva',\n",
    "    'age' : 22,\n",
    "    'grades' : [85,90,92]\n",
    "}\n",
    "mixed_dict"
   ]
  },
  {
   "cell_type": "code",
   "execution_count": 43,
   "id": "50aa0aeb-de8f-4381-ab8a-3deeb46e1737",
   "metadata": {},
   "outputs": [
    {
     "name": "stdout",
     "output_type": "stream",
     "text": [
      "20\n"
     ]
    }
   ],
   "source": [
    "age = mixed_dict.pop('age')\n",
    "print(age)"
   ]
  },
  {
   "cell_type": "code",
   "execution_count": 44,
   "id": "d0efcb54-ebce-4acc-8b40-f2c0341df337",
   "metadata": {},
   "outputs": [
    {
     "name": "stdout",
     "output_type": "stream",
     "text": [
      "{'name': 'Devaraju', 'grade': [85, 90, 92]}\n"
     ]
    }
   ],
   "source": [
    "print(mixed_dict)"
   ]
  },
  {
   "cell_type": "code",
   "execution_count": 45,
   "id": "aa15feae-def0-4453-ac6d-04c144bde203",
   "metadata": {},
   "outputs": [
    {
     "ename": "TypeError",
     "evalue": "pop expected at least 1 argument, got 0",
     "output_type": "error",
     "traceback": [
      "\u001b[1;31m---------------------------------------------------------------------------\u001b[0m",
      "\u001b[1;31mTypeError\u001b[0m                                 Traceback (most recent call last)",
      "Cell \u001b[1;32mIn[45], line 1\u001b[0m\n\u001b[1;32m----> 1\u001b[0m name \u001b[38;5;241m=\u001b[39m mixed_dict\u001b[38;5;241m.\u001b[39mpop()\n\u001b[0;32m      2\u001b[0m name\n",
      "\u001b[1;31mTypeError\u001b[0m: pop expected at least 1 argument, got 0"
     ]
    }
   ],
   "source": [
    "name = mixed_dict.pop()\n",
    "name"
   ]
  },
  {
   "cell_type": "code",
   "execution_count": 47,
   "id": "fcda567d-a1a2-4232-8d3c-9da315035fd5",
   "metadata": {},
   "outputs": [],
   "source": [
    "# Dictionary with key-value pairs\n",
    "\n",
    "student = {\n",
    "    'name' : 'Gopal',\n",
    "    'age' : 65,\n",
    "    'grade' : 'A+'\n",
    "}"
   ]
  },
  {
   "cell_type": "markdown",
   "id": "9b6bea2b-2966-4f58-9adc-a9c3b068e607",
   "metadata": {},
   "source": [
    "### 6. `popitem()`:"
   ]
  },
  {
   "cell_type": "markdown",
   "id": "734d7991-dc25-425b-9d45-117ad2979f41",
   "metadata": {},
   "source": [
    "- The `popitem()` method removes the item that was last inserted into the dictionary.\n",
    "\n",
    "- In versions before 3.7, the `popitem()` method removes a random item.\n",
    "\n",
    "- The removed item is the return value of the `popitem()` method, as a tuple.\n",
    "\n",
    "- Removes and Returns the last inserted key-value pair as a tuple."
   ]
  },
  {
   "cell_type": "markdown",
   "id": "2e7366d6-b35b-44ed-8c15-7003bfc97ed0",
   "metadata": {},
   "source": [
    "#### Syntax"
   ]
  },
  {
   "cell_type": "code",
   "execution_count": null,
   "id": "f7273672-7f67-4418-aca5-5c0df09b4c95",
   "metadata": {},
   "outputs": [],
   "source": [
    "dictionary.popitem()"
   ]
  },
  {
   "cell_type": "code",
   "execution_count": 48,
   "id": "48c0f438-3f51-4afb-8e28-2510a93c8c94",
   "metadata": {},
   "outputs": [
    {
     "name": "stdout",
     "output_type": "stream",
     "text": [
      "('grade', 'A+')\n",
      "{'name': 'Gopal', 'age': 65}\n"
     ]
    }
   ],
   "source": [
    "last_item = student.popitem()\n",
    "print(last_item)\n",
    "print(student)"
   ]
  },
  {
   "cell_type": "code",
   "execution_count": 49,
   "id": "c3966847-ca58-4ab5-9076-a9aba3b3568f",
   "metadata": {},
   "outputs": [
    {
     "name": "stdout",
     "output_type": "stream",
     "text": [
      "5\n",
      "[1, 2, 3, 4]\n",
      "3\n",
      "[1, 2, 4]\n"
     ]
    }
   ],
   "source": [
    "my_list = [1, 2, 3, 4, 5]\n",
    "last_element = my_list.pop()\n",
    "print(last_element)  \n",
    "print(my_list)  \n",
    "\n",
    "removed_element = my_list.pop(2)\n",
    "print(removed_element)  \n",
    "print(my_list)  "
   ]
  },
  {
   "cell_type": "markdown",
   "id": "0581630a-0f3c-41a4-b838-cef5ee8cbc4b",
   "metadata": {},
   "source": [
    "### 7.`update()`:"
   ]
  },
  {
   "cell_type": "markdown",
   "id": "7ce16f6b-81f2-42ad-b2e0-40e55d220780",
   "metadata": {},
   "source": [
    "- The `update()` method inserts the specified items to the dictionary.\n",
    "\n",
    "- The specified items can be a dictionary, or an iterable object with key value pairs.\n",
    "\n",
    "- update the dictionary with elements from another dictionary or from an iterable of key-value pairs."
   ]
  },
  {
   "cell_type": "markdown",
   "id": "7a97b6e1-d254-44c4-9311-e3201015711a",
   "metadata": {},
   "source": [
    "#### Syntax"
   ]
  },
  {
   "cell_type": "code",
   "execution_count": null,
   "id": "6850daf0-6d87-451e-a7ef-ea8ae6428a88",
   "metadata": {},
   "outputs": [],
   "source": [
    "dictionary.update(iterable)"
   ]
  },
  {
   "cell_type": "code",
   "execution_count": 55,
   "id": "4c58339e-8296-46b1-b9c3-b641dfbea11d",
   "metadata": {},
   "outputs": [
    {
     "data": {
      "text/plain": [
       "{'name': 'Devaraju', 'age': 20, 'grade': 'A'}"
      ]
     },
     "execution_count": 55,
     "metadata": {},
     "output_type": "execute_result"
    }
   ],
   "source": [
    "# Dictionary with key-value pairs.\n",
    "student = {\n",
    "    'name' : 'Devaraju',\n",
    "    'age' : 20,\n",
    "    'grade' : 'A'\n",
    "}\n",
    "student"
   ]
  },
  {
   "cell_type": "code",
   "execution_count": 53,
   "id": "2d4d60c0-5ad5-4f2e-aa6c-a12777310aa1",
   "metadata": {},
   "outputs": [
    {
     "name": "stdout",
     "output_type": "stream",
     "text": [
      "{'name': 'Devaraju', 'age': 22, 'grade': 'A+'}\n"
     ]
    }
   ],
   "source": [
    "new_data = {'age' : 22, 'grade' : 'A+'}\n",
    "student.update(new_data)\n",
    "print(student)"
   ]
  },
  {
   "cell_type": "markdown",
   "id": "638f47fb-45e2-40e5-831f-da16d97993ff",
   "metadata": {},
   "source": [
    "### 8.`clear()`:"
   ]
  },
  {
   "cell_type": "markdown",
   "id": "996ce61d-f598-4fcf-b2d6-f03f1a6ad6f3",
   "metadata": {},
   "source": [
    "- The `clear()` method removes all the elements from a dictionary."
   ]
  },
  {
   "cell_type": "markdown",
   "id": "ea94b322-a5e2-4fd7-aa2a-a8375124e18f",
   "metadata": {},
   "source": [
    "#### Syntax"
   ]
  },
  {
   "cell_type": "code",
   "execution_count": null,
   "id": "0ad5f835-e001-4088-9aff-76dc5ccb7ee8",
   "metadata": {},
   "outputs": [],
   "source": [
    "dictionary.clear()"
   ]
  },
  {
   "cell_type": "code",
   "execution_count": 57,
   "id": "29d3b273-f2b3-4b42-8b3d-2c00578c1176",
   "metadata": {},
   "outputs": [
    {
     "name": "stdout",
     "output_type": "stream",
     "text": [
      "{}\n"
     ]
    }
   ],
   "source": [
    "student = {\n",
    "    'name' : 'Devaraju',\n",
    "    'age' : 20,\n",
    "    'grade' : 'A'\n",
    "}\n",
    "student.clear()\n",
    "print(student)"
   ]
  },
  {
   "cell_type": "markdown",
   "id": "28ef687f-2c24-4e35-847e-43b5e68bd2d5",
   "metadata": {},
   "source": [
    "### 9.`copy()`:"
   ]
  },
  {
   "cell_type": "markdown",
   "id": "2b447655-88f0-4fc8-a4ac-5f28d1370222",
   "metadata": {},
   "source": [
    "- The `copy()` method returns a copy of the specified dictionary."
   ]
  },
  {
   "cell_type": "markdown",
   "id": "789a5240-c471-4ef0-be40-6978f5cdad85",
   "metadata": {},
   "source": [
    "#### Syntax"
   ]
  },
  {
   "cell_type": "code",
   "execution_count": null,
   "id": "bd68eaa5-ab26-4630-a709-d27c9c02f245",
   "metadata": {},
   "outputs": [],
   "source": [
    "dictionary.copy()"
   ]
  },
  {
   "cell_type": "code",
   "execution_count": 76,
   "id": "b97840ba-5988-4821-a51d-a5b19b47730e",
   "metadata": {},
   "outputs": [
    {
     "name": "stdout",
     "output_type": "stream",
     "text": [
      "{'name': 'Devaraju', 'age': 20, 'grade': 'A'}\n"
     ]
    }
   ],
   "source": [
    "student = {\n",
    "    'name' : 'Devaraju',\n",
    "    'age' : 20,\n",
    "    'grade' : 'A'\n",
    "}\n",
    "student.copy()\n",
    "print(student)"
   ]
  },
  {
   "cell_type": "markdown",
   "id": "d0b0ab22-df06-40ab-93b3-af2309a60127",
   "metadata": {},
   "source": [
    "### 10.`fromkeys()`:"
   ]
  },
  {
   "cell_type": "markdown",
   "id": "acc5159c-5cee-450c-b9b4-350d943fe3c5",
   "metadata": {},
   "source": [
    "- The `fromkeys()` method returns a dictionary with the specified keys and the specified value."
   ]
  },
  {
   "cell_type": "markdown",
   "id": "b7990122-92a0-4b5c-a5b3-b060cb8e5028",
   "metadata": {},
   "source": [
    "#### Syntax"
   ]
  },
  {
   "cell_type": "code",
   "execution_count": null,
   "id": "2d30e7ec-90ab-4e0f-9272-0c879088eceb",
   "metadata": {},
   "outputs": [],
   "source": [
    "dict.fromkeys(keys, value)"
   ]
  },
  {
   "cell_type": "code",
   "execution_count": 75,
   "id": "0cc6e591-92e9-4440-99fc-253c07903e5a",
   "metadata": {},
   "outputs": [
    {
     "name": "stdout",
     "output_type": "stream",
     "text": [
      "{'a': 0, 'b': 0, 'c': 0}\n"
     ]
    }
   ],
   "source": [
    "keys = ['a', 'b', 'c']\n",
    "my_dict = dict.fromkeys(keys, 0)\n",
    "print(my_dict)  "
   ]
  },
  {
   "cell_type": "markdown",
   "id": "6bbe858e-4117-4c88-85d7-35efaa811a8f",
   "metadata": {},
   "source": [
    "x = ('key1', 'key2', 'key3')\n",
    "y = 0\n",
    "\n",
    "thisdict = dict.fromkeys(x, y)\n",
    "\n",
    "print(thisdict)"
   ]
  },
  {
   "cell_type": "markdown",
   "id": "c08e8ad9-e0ff-45c7-9d2f-63b508cb6220",
   "metadata": {},
   "source": [
    "### 11.`setdefault()`:"
   ]
  },
  {
   "cell_type": "markdown",
   "id": "cf87ddd5-bb3a-4106-8dc2-4513f789959f",
   "metadata": {},
   "source": [
    "- The `setdefault()` method returns the value of the item with the specified key.\n",
    "\n",
    "- If the key does not exist, insert the key, with the specified value"
   ]
  },
  {
   "cell_type": "markdown",
   "id": "76b2b851-01c7-4d3d-bb0e-f16768f3428f",
   "metadata": {},
   "source": [
    "#### Syntax"
   ]
  },
  {
   "cell_type": "code",
   "execution_count": null,
   "id": "09c7d71f-5a55-426e-b39d-ed34c6ea4ccd",
   "metadata": {},
   "outputs": [],
   "source": [
    "dictionary.setdefault(keyname, value)"
   ]
  },
  {
   "cell_type": "code",
   "execution_count": 81,
   "id": "5ecdd19b-2522-4790-b585-50af75d530f1",
   "metadata": {},
   "outputs": [
    {
     "name": "stdout",
     "output_type": "stream",
     "text": [
      "Hydrabad\n",
      "Devaraju\n"
     ]
    }
   ],
   "source": [
    "student = {\n",
    "    'name' : 'Devaraju',\n",
    "    'age' : 20,\n",
    "    'grade' : 'A'\n",
    "}\n",
    "x = student.setdefault(\"City\" , 'Hydrabad')\n",
    "y = student.setdefault(\"name\", 'Devaraju')\n",
    "print(x)\n",
    "print(y)"
   ]
  },
  {
   "cell_type": "code",
   "execution_count": null,
   "id": "f2008d0b-47c7-499f-b910-b49b55b2c38d",
   "metadata": {},
   "outputs": [],
   "source": []
  }
 ],
 "metadata": {
  "kernelspec": {
   "display_name": "Python 3 (ipykernel)",
   "language": "python",
   "name": "python3"
  },
  "language_info": {
   "codemirror_mode": {
    "name": "ipython",
    "version": 3
   },
   "file_extension": ".py",
   "mimetype": "text/x-python",
   "name": "python",
   "nbconvert_exporter": "python",
   "pygments_lexer": "ipython3",
   "version": "3.12.4"
  }
 },
 "nbformat": 4,
 "nbformat_minor": 5
}
