{
 "cells": [
  {
   "cell_type": "markdown",
   "id": "ad0d5608-e1f5-47c1-995f-1c9e8bb44b25",
   "metadata": {},
   "source": [
    "## Set"
   ]
  },
  {
   "cell_type": "markdown",
   "id": "529fc06d-8174-46eb-aef3-80e93e5a8b9a",
   "metadata": {},
   "source": [
    "- It is a Collection of Unique Elements.\n",
    "- It is Represented By {}.\n",
    "- It is Mutable.\n",
    "- It is Un Order."
   ]
  },
  {
   "cell_type": "markdown",
   "id": "a533a67e-4312-4fd9-b234-03220e4b6ee9",
   "metadata": {},
   "source": [
    "### Examples"
   ]
  },
  {
   "cell_type": "code",
   "execution_count": 4,
   "id": "97833ea7-a66b-437f-a4e4-23801604bbef",
   "metadata": {},
   "outputs": [
    {
     "name": "stdout",
     "output_type": "stream",
     "text": [
      "<class 'set'>\n",
      "<class 'set'>\n",
      "<class 'set'>\n",
      "<class 'set'>\n"
     ]
    }
   ],
   "source": [
    "name={'pasha','naveen','durga','ramu','ravi','sai','surya',}\n",
    "num={12,23,45,67,87,98,34,25,69,35,53,40,90,47}\n",
    "mobile={'apple','vivo','oppo','poco','real me','mi','red me'}\n",
    "sub={'python','java','c','c++',}\n",
    "int={10,-10,20,-20,52,-52,3.4,875.25,89.21,-98.987}\n",
    "print(type(name))\n",
    "print(type(num))\n",
    "print(type(sub))\n",
    "print(type(int))"
   ]
  },
  {
   "cell_type": "markdown",
   "id": "ee55f479-fed0-4491-9bc0-1e76a7c0ff7f",
   "metadata": {},
   "source": [
    "### list to Set"
   ]
  },
  {
   "cell_type": "code",
   "execution_count": 9,
   "id": "d17aac66-ea7d-4411-86f7-0bb35ec07896",
   "metadata": {},
   "outputs": [
    {
     "name": "stdout",
     "output_type": "stream",
     "text": [
      "{1, 2, 3, 4, 5, 7, 8, 232, 200, 12, 45, 78, 44, 85}\n"
     ]
    }
   ],
   "source": [
    "num=[1,2,3,2,5,4,1,8,7,85,45,12,232,78,200,44]\n",
    "a=set(num)\n",
    "print(a)"
   ]
  },
  {
   "cell_type": "code",
   "execution_count": 11,
   "id": "5d04c1de-7d71-43b6-8d91-2dbc536f8716",
   "metadata": {},
   "outputs": [
    {
     "name": "stdout",
     "output_type": "stream",
     "text": [
      "{1, 2, 3, 4, 5, 7, 8, 232, 200, 12, 45, 78, 44, 85}\n"
     ]
    }
   ],
   "source": [
    "num=set([1,2,3,2,5,4,1,8,7,85,45,12,232,78,200,44])\n",
    "print(num)"
   ]
  },
  {
   "cell_type": "markdown",
   "id": "ef7453ab-6f04-487f-ae4d-ef5d59e7b61f",
   "metadata": {},
   "source": [
    "### Duplicate item set"
   ]
  },
  {
   "cell_type": "code",
   "execution_count": 18,
   "id": "7d664870-285b-46ea-8b1c-6ca2cce28ba8",
   "metadata": {},
   "outputs": [
    {
     "name": "stdout",
     "output_type": "stream",
     "text": [
      "{1, 2, 3, 4, 5, 7, 8, 232, 200, 12, 45, 78, 44, 85}\n"
     ]
    }
   ],
   "source": [
    "#duplicate item in a set\n",
    "num={10,14,15,12,132,10,45,1,2,11,44,12,1,3,1,23,11,17,44,44,12,12,78}\n",
    "\n",
    "print(a)"
   ]
  },
  {
   "cell_type": "code",
   "execution_count": 20,
   "id": "68c1b2b4-c513-420c-89fb-2bb7765e381d",
   "metadata": {},
   "outputs": [
    {
     "name": "stdout",
     "output_type": "stream",
     "text": [
      "{'pasha', 'PASHA', 'Pasha'}\n"
     ]
    }
   ],
   "source": [
    "#duplicate item in a set\n",
    "name={'pasha','Pasha','PASHA','pasha','PASHA'}\n",
    "print(name)"
   ]
  },
  {
   "cell_type": "code",
   "execution_count": null,
   "id": "d98ebbc5-f568-46fb-b280-2c16db825468",
   "metadata": {},
   "outputs": [],
   "source": []
  },
  {
   "cell_type": "markdown",
   "id": "528863dd-6c57-4aa8-8c3b-a0ae191a794d",
   "metadata": {},
   "source": [
    "### ADD Items "
   ]
  },
  {
   "cell_type": "code",
   "execution_count": 23,
   "id": "ec10da42-1324-4503-a4f4-b88566881508",
   "metadata": {},
   "outputs": [
    {
     "name": "stdout",
     "output_type": "stream",
     "text": [
      "intial set: {100, 70, 40, 10, 80, 50, 20, 90, 60, 30}\n",
      "updated set; {1000000000, 100, 70, 40, 10, 80, 50, 20, 90, 60, 30}\n"
     ]
    }
   ],
   "source": [
    "num={10,20,30,40,50,60,70,80,90,100}\n",
    "print('intial set:',num)\n",
    "num.add(1000000000)\n",
    "print('updated set;',num)"
   ]
  },
  {
   "cell_type": "code",
   "execution_count": 25,
   "id": "6746df63-8f56-4dc1-ac32-7e668ac150ba",
   "metadata": {},
   "outputs": [
    {
     "name": "stdout",
     "output_type": "stream",
     "text": [
      "intial set: {1, 2, 3, 21, 23}\n",
      "updated set; {1, 2, 3, 21, 5, 23}\n"
     ]
    }
   ],
   "source": [
    "num={1,2,3,1,2,3,1,23,1,2,3,21,2}\n",
    "print('intial set:',num)\n",
    "num.add(5)\n",
    "print('updated set;',num)\n"
   ]
  },
  {
   "cell_type": "code",
   "execution_count": 27,
   "id": "dce14d5c-a0ba-4ee7-9f2c-18f722ddeef4",
   "metadata": {},
   "outputs": [
    {
     "name": "stdout",
     "output_type": "stream",
     "text": [
      "intial set: {1, 2, 3, 21, 23}\n",
      "updated set; {1, 2, 3, 21, -10, 23}\n"
     ]
    }
   ],
   "source": [
    "num={1,2,3,1,2,3,1,23,1,2,3,21,2}\n",
    "print('intial set:',num)\n",
    "num.add(-10)\n",
    "print('updated set;',num)"
   ]
  },
  {
   "cell_type": "markdown",
   "id": "e28b04c9-36e2-45e0-93b3-526ef5bd1e1c",
   "metadata": {},
   "source": [
    "### Update"
   ]
  },
  {
   "cell_type": "code",
   "execution_count": 66,
   "id": "feb0fddd-0672-41fb-8251-52b2fdab47d2",
   "metadata": {},
   "outputs": [
    {
     "name": "stdout",
     "output_type": "stream",
     "text": [
      "{'apple', 'mango', 'badam', 'kaju', 'banana', 'grapes'}\n"
     ]
    }
   ],
   "source": [
    "fruits={'apple','banana','grapes','mango'}\n",
    "dry_fruits={'grapes','badam','kaju','mango'}\n",
    "update_fruits=fruits.update(dry_fruits)\n",
    "print(fruits)"
   ]
  },
  {
   "cell_type": "markdown",
   "id": "c03b015b-c6cf-4773-aef0-62737cbfcc3f",
   "metadata": {},
   "source": [
    "### Removing Elements from set"
   ]
  },
  {
   "cell_type": "code",
   "execution_count": 80,
   "id": "237d89fb-36af-498f-a9fe-95e94b1b00cd",
   "metadata": {},
   "outputs": [
    {
     "name": "stdout",
     "output_type": "stream",
     "text": [
      "set after remove(): {'c', 'python', 'c++'}\n"
     ]
    }
   ],
   "source": [
    "subject={'java','c','c++','python'}\n",
    "# remove java from set\n",
    "remove=subject.remove('java')\n",
    "print('set after remove():',subject)"
   ]
  },
  {
   "cell_type": "code",
   "execution_count": 82,
   "id": "e0378644-ed25-442b-ba83-da6d8654fcdf",
   "metadata": {},
   "outputs": [
    {
     "name": "stdout",
     "output_type": "stream",
     "text": [
      "set after remove(): {'red me', 'poco', 'oppo', 'vivo', 'mi', 'real me'}\n"
     ]
    }
   ],
   "source": [
    "mobile={'apple','vivo','oppo','poco','real me','mi','red me'}\n",
    "remove=mobile.remove('apple')\n",
    "print('set after remove():',mobile)"
   ]
  },
  {
   "cell_type": "code",
   "execution_count": 84,
   "id": "1e74329c-0b9e-4bbf-b45f-f907b11a0467",
   "metadata": {},
   "outputs": [
    {
     "name": "stdout",
     "output_type": "stream",
     "text": [
      "set after discad(): {'java', 'python', 'c++'}\n"
     ]
    }
   ],
   "source": [
    "subject={'java','c','c++','python'}\n",
    "# remove java from set\n",
    "remove=subject.discard('c')\n",
    "print('set after discad():',subject)"
   ]
  },
  {
   "cell_type": "markdown",
   "id": "141fa611-6138-4086-88f8-b2c188692526",
   "metadata": {},
   "source": [
    "### Set Operations"
   ]
  },
  {
   "cell_type": "markdown",
   "id": "f6f9e9af-eee9-4063-ab3e-fbd513dc81c2",
   "metadata": {},
   "source": [
    "### Union"
   ]
  },
  {
   "cell_type": "markdown",
   "id": "02dc8557-da2e-46d2-9387-833cda564528",
   "metadata": {},
   "source": [
    "- The two sets A and B includes all Elements of set A and B and Removing Duplicates."
   ]
  },
  {
   "cell_type": "code",
   "execution_count": 90,
   "id": "1092059a-cbea-44d3-99fe-9ee345b89ed1",
   "metadata": {},
   "outputs": [
    {
     "name": "stdout",
     "output_type": "stream",
     "text": [
      "{0, 1, 2, 3, 4, 5, 6, 7, 8, 9, 77, 20, 22, 88, 33, 99, 56}\n"
     ]
    }
   ],
   "source": [
    "a={1,0,2,3,4,5,6,8,9,7,4,1,}\n",
    "b={56,20,1,4,0,22,33,4,5,88,77,99,8}\n",
    "print(a|b)"
   ]
  },
  {
   "cell_type": "code",
   "execution_count": 92,
   "id": "ff8e464f-1c5c-4b64-8693-8eb33c9f08c5",
   "metadata": {},
   "outputs": [
    {
     "name": "stdout",
     "output_type": "stream",
     "text": [
      "{2, 3, 5, 6, -82, -4, -1}\n"
     ]
    }
   ],
   "source": [
    "a={-4,2,2,2,2,2,2,2,-82}\n",
    "j={-1,2,3,6,5}\n",
    "print(a|j)"
   ]
  },
  {
   "cell_type": "markdown",
   "id": "e1989722-8324-416c-9fc2-b91f815d9d6b",
   "metadata": {},
   "source": [
    "### Intersection|"
   ]
  },
  {
   "cell_type": "markdown",
   "id": "8e8a1260-cbf4-48f6-b9b2-c3c85bfd4dc7",
   "metadata": {},
   "source": [
    "- Common Element From Set A and B"
   ]
  },
  {
   "cell_type": "code",
   "execution_count": 96,
   "id": "21f2a195-6aad-4471-b5bb-3c8bb743847e",
   "metadata": {},
   "outputs": [
    {
     "name": "stdout",
     "output_type": "stream",
     "text": [
      "{40, 50, 100}\n"
     ]
    }
   ],
   "source": [
    "a={10,20,30,40,50,60,7,0,70,80,90,10,10,100}\n",
    "b={100,200,3000,60000,50,40,220,999,88,8888}\n",
    "print(a&b)"
   ]
  },
  {
   "cell_type": "code",
   "execution_count": 100,
   "id": "f871370d-b588-4d7c-97b9-67e889d7e53d",
   "metadata": {},
   "outputs": [
    {
     "name": "stdout",
     "output_type": "stream",
     "text": [
      "{25, 98, 12, 69}\n"
     ]
    }
   ],
   "source": [
    "a={12,23,45,67,87,98,34,25,69,35,53,40,90,47}\n",
    "b={11,111,11111,22,222,333,69,12,25,44,99,66,98,62,52,44,22,11,77}\n",
    "print(a&b)"
   ]
  },
  {
   "cell_type": "markdown",
   "id": "6502b858-02f5-4657-9308-3f3fa93e8870",
   "metadata": {},
   "source": [
    "### Differences"
   ]
  },
  {
   "cell_type": "code",
   "execution_count": 103,
   "id": "0c0088d5-6496-4503-a6c3-103420d24820",
   "metadata": {},
   "outputs": [
    {
     "name": "stdout",
     "output_type": "stream",
     "text": [
      "{8000, 33, 66, 99, 100, 3300, 200, 44, 77, 50000, 500, 55, 88}\n"
     ]
    }
   ],
   "source": [
    "a={11,22,33,44,55,66,77,88,99,10,100,200,3300,500,50000,8000}\n",
    "b={10,11,12,13,14,15,16,17,18,19,20,21,22,23,24,2526,27,2,28,29,30,31,31,32}\n",
    "print(a-b)"
   ]
  },
  {
   "cell_type": "code",
   "execution_count": 105,
   "id": "6eb84691-3581-4ac6-a56f-12c19b6cc66d",
   "metadata": {},
   "outputs": [
    {
     "name": "stdout",
     "output_type": "stream",
     "text": [
      "{2, 12, 13, 14, 15, 16, 17, 18, 19, 20, 21, 23, 24, 27, 28, 29, 30, 31, 32, 2526}\n"
     ]
    }
   ],
   "source": [
    "a={11,22,33,44,55,66,77,88,99,10,100,200,3300,500,50000,8000}\n",
    "b={10,11,12,13,14,15,16,17,18,19,20,21,22,23,24,2526,27,2,28,29,30,31,31,32}\n",
    "print(b-a)"
   ]
  },
  {
   "cell_type": "markdown",
   "id": "1d4adc67-7200-4884-aae2-7245634235d2",
   "metadata": {},
   "source": [
    "### Symmetrics"
   ]
  },
  {
   "cell_type": "code",
   "execution_count": 108,
   "id": "cfd5b0b7-a7fa-42d9-988b-853e9c241f54",
   "metadata": {},
   "outputs": [
    {
     "name": "stdout",
     "output_type": "stream",
     "text": [
      "{11, -999, 8989, 801, 8999, 555, 556, 301, -77777, -7878, 322, 5201, 850, 1111, 3214, 401, 402, 666, -99, -88, -86, 3258, 963, -55, 201, -44, 58585, 222, 232, 501, 502, -9, -8}\n"
     ]
    }
   ],
   "source": [
    "A={401,501,601,201,301,801,402,5201,96,11,22,502,401,850,852,963,741,3214,3258,96,322,1111}\n",
    "B={601,852,741,96,232,222,555,666,8989,556,555,666,8999,555,58585,22,-86,-7878,-44,-55,-8,-88,-77777,-9,-99,-999}\n",
    "print(A^B)"
   ]
  },
  {
   "cell_type": "code",
   "execution_count": 110,
   "id": "619e2903-9f88-4b49-8c22-95bec786a8e4",
   "metadata": {},
   "outputs": [
    {
     "name": "stdout",
     "output_type": "stream",
     "text": [
      "{389, 69, 456, 20, 22, 345, 30, 355, 36, 678, 234, 569, 698, 123, 63, 255}\n"
     ]
    }
   ],
   "source": [
    "P={123,345,456,234,569,698,678,69,63,36,23,21,24,25,29,28,27,26,26,255,355,389,355}\n",
    "Q={20,21,22,23,24,25,26,27,28,29,30}\n",
    "print(P^Q)"
   ]
  },
  {
   "cell_type": "code",
   "execution_count": null,
   "id": "be676973-2679-4a45-8575-6d574258141d",
   "metadata": {},
   "outputs": [],
   "source": []
  }
 ],
 "metadata": {
  "kernelspec": {
   "display_name": "Python 3 (ipykernel)",
   "language": "python",
   "name": "python3"
  },
  "language_info": {
   "codemirror_mode": {
    "name": "ipython",
    "version": 3
   },
   "file_extension": ".py",
   "mimetype": "text/x-python",
   "name": "python",
   "nbconvert_exporter": "python",
   "pygments_lexer": "ipython3",
   "version": "3.12.4"
  }
 },
 "nbformat": 4,
 "nbformat_minor": 5
}
