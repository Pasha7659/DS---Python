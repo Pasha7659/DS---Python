{
 "cells": [
  {
   "cell_type": "code",
   "execution_count": 2,
   "id": "d9d6bef5-933b-4f34-ad7b-64e13de69293",
   "metadata": {},
   "outputs": [
    {
     "name": "stdin",
     "output_type": "stream",
     "text": [
      "Enter your string:  madam\n"
     ]
    },
    {
     "name": "stdout",
     "output_type": "stream",
     "text": [
      "Is Palindrome : madam\n"
     ]
    }
   ],
   "source": [
    "# 1. Write a Python program to check if a string is a palindrome.\n",
    "\n",
    "def isPalindrome(s):\n",
    "    return s == s[::-1]\n",
    "\n",
    "s = input(\"Enter your string: \")\n",
    "ans = isPalindrome(s)\n",
    "\n",
    "if ans:\n",
    "    print(\"Is Palindrome :\",s)\n",
    "else:\n",
    "    print(\"It is not a palindrome\")"
   ]
  },
  {
   "cell_type": "code",
   "execution_count": 14,
   "id": "2f31a390-a5a4-4a4d-a982-6d138fd579a2",
   "metadata": {},
   "outputs": [
    {
     "name": "stdin",
     "output_type": "stream",
     "text": [
      "Enter your number:  5\n"
     ]
    },
    {
     "name": "stdout",
     "output_type": "stream",
     "text": [
      "Factorial of 5 is 120\n"
     ]
    }
   ],
   "source": [
    "#2. Write a Python program to find the factorial of a number.\n",
    "\n",
    "def factorial(n):\n",
    "    return 1 if (n==1 or n==0) else n * factorial(n - 1) \n",
    "    \n",
    "num = int(input(\"Enter your number: \"))\n",
    "print(\"Factorial of\",num,\"is\",factorial(num))"
   ]
  },
  {
   "cell_type": "code",
   "execution_count": 18,
   "id": "f32d5cf0-d0e1-42a4-9a51-3c0dd1bdd95e",
   "metadata": {},
   "outputs": [
    {
     "name": "stdin",
     "output_type": "stream",
     "text": [
      " 10,20,30,40\n"
     ]
    },
    {
     "name": "stdout",
     "output_type": "stream",
     "text": [
      "[10, 20, 30, 40]\n",
      "Largest element is: 40\n"
     ]
    }
   ],
   "source": [
    "#3.Write a Python program to find the largest element in a list.\n",
    "\n",
    "def myMax(list1):\n",
    "    \n",
    "    max = list1[0]\n",
    "    \n",
    "    for x in list1:\n",
    "        if x > max:\n",
    "            max = x\n",
    "    return max\n",
    "\n",
    "\n",
    "list1 = input()\n",
    "\n",
    "list2 = [int(x) for x in list1.split(',')]\n",
    "print(list2)\n",
    "print(\"Largest element is:\", myMax(list2))"
   ]
  },
  {
   "cell_type": "code",
   "execution_count": 20,
   "id": "664c3542-1e3f-45d6-b136-df4a5ad678a0",
   "metadata": {},
   "outputs": [
    {
     "name": "stdin",
     "output_type": "stream",
     "text": [
      "Enter your string:  devaraju\n"
     ]
    },
    {
     "name": "stdout",
     "output_type": "stream",
     "text": [
      "Reverse string is : ujaraved\n"
     ]
    }
   ],
   "source": [
    "#4. Write a Python program to reverse a string.\n",
    "\n",
    "def reversestring(s):\n",
    "    return s[::-1]\n",
    "\n",
    "\n",
    "s = input(\"Enter your string: \")\n",
    "result = reversestring(s)\n",
    "\n",
    "ans = reversestring(s)\n",
    "\n",
    "if ans:\n",
    "    print(\"Reverse string is :\",result)\n",
    "else:\n",
    "    print(\"None\")"
   ]
  },
  {
   "cell_type": "code",
   "execution_count": 1,
   "id": "990021c2-2a92-45fb-9005-c63d5168fadc",
   "metadata": {},
   "outputs": [
    {
     "name": "stdin",
     "output_type": "stream",
     "text": [
      "Enter the string:  hello\n",
      "Enter the character to count:  l\n"
     ]
    },
    {
     "name": "stdout",
     "output_type": "stream",
     "text": [
      "The character 'l' occurs 2 times in the string.\n"
     ]
    }
   ],
   "source": [
    "#5.  Write a Python program to count the frequency of each element in a list.\n",
    "\n",
    "def count_character(user_string, character):\n",
    "    result = user_string.count(character)\n",
    "    print(f\"The character '{character}' occurs {result} times in the string.\")\n",
    "\n",
    "user_string = input(\"Enter the string: \")\n",
    "character = input(\"Enter the character to count: \")\n",
    "\n",
    "count_character(user_string, character)"
   ]
  },
  {
   "cell_type": "code",
   "execution_count": 23,
   "id": "fdc70175-2d93-43d6-84d5-8188cee8a743",
   "metadata": {},
   "outputs": [
    {
     "name": "stdin",
     "output_type": "stream",
     "text": [
      "Enter your number:  2\n"
     ]
    },
    {
     "name": "stdout",
     "output_type": "stream",
     "text": [
      "2 is a prime number.\n"
     ]
    }
   ],
   "source": [
    "#6. Write a Python program to check if a number is prime.\n",
    "\n",
    "def is_prime(num):\n",
    "    if num <= 1:\n",
    "        return False\n",
    "    for i in range(2, (num // 2) + 1):\n",
    "        if (num % i) == 0:\n",
    "            return False\n",
    "    return True\n",
    "\n",
    "num = int(input(\"Enter your number: \"))\n",
    "\n",
    "if is_prime(num):\n",
    "    print(f\"{num} is a prime number.\")\n",
    "else:\n",
    "    print(f\"{num} is not a prime number.\")"
   ]
  },
  {
   "cell_type": "code",
   "execution_count": 24,
   "id": "c53c5f20-68c7-4339-9934-6bc78ca11b15",
   "metadata": {},
   "outputs": [
    {
     "name": "stdin",
     "output_type": "stream",
     "text": [
      "Enter numbers for the first list :  10,20,30,40\n",
      "Enter numbers for the second list:  10,20,40,40,50\n"
     ]
    },
    {
     "name": "stdout",
     "output_type": "stream",
     "text": [
      "The common elements between the two lists are: [40, 10, 20]\n"
     ]
    }
   ],
   "source": [
    "#7. Write a Python program to find the common elements between two lists.\n",
    "\n",
    "def get_list(x):\n",
    "    return list(map(int, input(x).split(',')))\n",
    "\n",
    "def common_elements(list1, list2):\n",
    "    return list(set(list1) & set(list2))\n",
    "\n",
    "i1 = get_list(\"Enter numbers for the first list : \")\n",
    "i2 = get_list(\"Enter numbers for the second list: \")\n",
    "\n",
    "result = common_elements(i1, i2)\n",
    "print(\"The common elements between the two lists are:\", result)"
   ]
  },
  {
   "cell_type": "code",
   "execution_count": 3,
   "id": "ae73221a-02eb-4bfd-a0fb-547d668651f1",
   "metadata": {},
   "outputs": [
    {
     "name": "stdin",
     "output_type": "stream",
     "text": [
      "Enter your numbers :  12,7,3,5,12,8\n"
     ]
    },
    {
     "name": "stdout",
     "output_type": "stream",
     "text": [
      "Second largest element is: 8\n"
     ]
    }
   ],
   "source": [
    "#8. Write a Python program to find the second largest number in a list.\n",
    "\n",
    "def find_second_largest(numbers):\n",
    "    unique_numbers = sorted(set(numbers), reverse=True)\n",
    "    return unique_numbers[1] if len(unique_numbers) > 1 else None\n",
    "\n",
    "numbers = [int(x) for x in input(\"Enter your numbers : \").split(',')]\n",
    "second_largest = find_second_largest(numbers)\n",
    "\n",
    "print(\"Second largest element is:\", second_largest if second_largest else \"Not enough unique numbers.\")"
   ]
  },
  {
   "cell_type": "code",
   "execution_count": 25,
   "id": "2a256595-e103-4375-a99d-6f8999c07e4e",
   "metadata": {},
   "outputs": [
    {
     "name": "stdin",
     "output_type": "stream",
     "text": [
      "Enter your numbers:  1,2,3,4,5,6,1,4,8,9,10,1\n"
     ]
    },
    {
     "name": "stdout",
     "output_type": "stream",
     "text": [
      "Your List is: [1, 2, 3, 4, 5, 6, 1, 4, 8, 9, 10, 1]\n",
      "Your List after removing duplicates: [1, 2, 3, 4, 5, 6, 8, 9, 10]\n"
     ]
    }
   ],
   "source": [
    "#9.Write a Python program to remove duplicates from a list.\n",
    "\n",
    "def get_list_from_input(word):\n",
    "    return [int(x) for x in input(word).split(',')]\n",
    "\n",
    "def remove_duplicates(lst):\n",
    "    return list(set(lst))\n",
    "\n",
    "user1 = get_list_from_input(\"Enter your numbers: \")\n",
    "print(\"Your List is:\", user1)\n",
    "\n",
    "user1_no_duplicates = remove_duplicates(user1)\n",
    "print(\"Your List after removing duplicates:\", user1_no_duplicates)\n"
   ]
  },
  {
   "cell_type": "code",
   "execution_count": 26,
   "id": "e7940564-010b-4f18-a811-0a7e54b9c1ca",
   "metadata": {},
   "outputs": [
    {
     "name": "stdin",
     "output_type": "stream",
     "text": [
      "Enter your string:  devaraju\n"
     ]
    },
    {
     "name": "stdout",
     "output_type": "stream",
     "text": [
      "Number of Vowels in the string: 4\n"
     ]
    }
   ],
   "source": [
    "#10. Write a python program to Counting Vowels in Word.\n",
    "\n",
    "def count_vowels(s):\n",
    "    vowels = 'aeiouAEIOU'\n",
    "    count = 0\n",
    "    for char in s:\n",
    "        if char in vowels:\n",
    "            count += 1\n",
    "    return count\n",
    "\n",
    "\n",
    "user = input(\"Enter your string: \")\n",
    "\n",
    "vowel_count = count_vowels(user)\n",
    "\n",
    "print(\"Number of Vowels in the string:\", vowel_count)"
   ]
  },
  {
   "cell_type": "code",
   "execution_count": 28,
   "id": "729c61db-7f9e-4f6c-a299-b5b8a23d6492",
   "metadata": {},
   "outputs": [
    {
     "name": "stdin",
     "output_type": "stream",
     "text": [
      "Enter the string:  devaraju\n",
      "Enter the character to count:  a\n"
     ]
    },
    {
     "name": "stdout",
     "output_type": "stream",
     "text": [
      "The character 'a' occurs 2 times in the string.\n"
     ]
    }
   ],
   "source": [
    "#11. Write a python Program to Count the Number of Occurrences of a Character in a String.\n",
    "\n",
    "def count_character(s, char):\n",
    "    return s.count(char)\n",
    "\n",
    "user_string = input(\"Enter the string: \")\n",
    "character = input(\"Enter the character to count: \")\n",
    "\n",
    "result = count_character(user_string, character)\n",
    "\n",
    "print(f\"The character '{character}' occurs {result} times in the string.\")"
   ]
  },
  {
   "cell_type": "code",
   "execution_count": 2,
   "id": "c7432ac5-e148-42e3-afb0-b40066330932",
   "metadata": {},
   "outputs": [
    {
     "name": "stdin",
     "output_type": "stream",
     "text": [
      "Enter your numbers: 10,20,30,40,50\n"
     ]
    },
    {
     "name": "stdout",
     "output_type": "stream",
     "text": [
      "The largest number is : 50\n"
     ]
    }
   ],
   "source": [
    "#12. Write a python program to Find the Maximum Number in a List.\n",
    "\n",
    "def word():\n",
    "    user = input(\"Enter your numbers:\")\n",
    "    user1 = [int(x) for x in user.split(',')]\n",
    "    result = max(user1)\n",
    "    print(\"The largest number is :\",result)\n",
    "\n",
    "word()"
   ]
  },
  {
   "cell_type": "code",
   "execution_count": 3,
   "id": "2dba5e5c-eab2-4885-baad-51adf9a0e488",
   "metadata": {},
   "outputs": [
    {
     "name": "stdin",
     "output_type": "stream",
     "text": [
      "Enter your numbers:  10,20,30,40,50\n"
     ]
    },
    {
     "name": "stdout",
     "output_type": "stream",
     "text": [
      "The smallest number is:  10\n"
     ]
    }
   ],
   "source": [
    "#13. Write a python program to Find the Minimum Number in a List.\n",
    "\n",
    "def word():\n",
    "    user = input(\"Enter your numbers: \")\n",
    "    user1= [int(x) for x in user.split(',')]\n",
    "    result = min(user1)\n",
    "    print(\"The smallest number is: \",result)\n",
    "\n",
    "word()"
   ]
  },
  {
   "cell_type": "code",
   "execution_count": 4,
   "id": "d9749906-98ca-4c41-82bc-3ea667ead3eb",
   "metadata": {},
   "outputs": [
    {
     "name": "stdin",
     "output_type": "stream",
     "text": [
      "Enter your 1st number:  10\n",
      "Enter your 2nd number:  20\n",
      "Enter your 3rd number:  30\n"
     ]
    },
    {
     "name": "stdout",
     "output_type": "stream",
     "text": [
      "The smallest number is:  10\n"
     ]
    }
   ],
   "source": [
    "#14. Python Program to find smallest number among three.\n",
    "\n",
    "def string():\n",
    "    a = int(input(\"Enter your 1st number: \"))\n",
    "    b = int(input(\"Enter your 2nd number: \"))\n",
    "    c = int(input(\"Enter your 3rd number: \"))\n",
    "    result = min(a,b,c)\n",
    "    print(\"The smallest number is: \",result)\n",
    "\n",
    "string()"
   ]
  },
  {
   "cell_type": "code",
   "execution_count": 13,
   "id": "71e2d609-2b65-47b0-841b-4f253e5706c5",
   "metadata": {},
   "outputs": [
    {
     "name": "stdin",
     "output_type": "stream",
     "text": [
      "Enter your numbers:  5,4,3,2,1\n"
     ]
    },
    {
     "name": "stdout",
     "output_type": "stream",
     "text": [
      "[25, 16, 9, 4, 1]\n"
     ]
    }
   ],
   "source": [
    "#15. Python Program to calculate the square of a given number.\n",
    "\n",
    "def word():\n",
    "    user = input(\"Enter your numbers: \")\n",
    "    user1 = [int(x) for x in user.split(',')]\n",
    "    print(list(map(lambda x:x**2, user1)))\n",
    "word()"
   ]
  },
  {
   "cell_type": "code",
   "execution_count": 5,
   "id": "657fcd98-2a28-4127-9c39-15d057ac6d59",
   "metadata": {},
   "outputs": [
    {
     "name": "stdin",
     "output_type": "stream",
     "text": [
      "Enter first number : 15\n",
      "Enter Second number : 12\n"
     ]
    },
    {
     "name": "stdout",
     "output_type": "stream",
     "text": [
      "The number 15 and 12 : 60\n"
     ]
    }
   ],
   "source": [
    "# 16. Python program to calculate LCM of given two numbers.\n",
    "\n",
    "\n",
    "import math\n",
    "\n",
    "def lcm(a, b):\n",
    "    return abs(a * b) // math.gcd(a, b)\n",
    "\n",
    "num1 = int(input(\"Enter first number :\"))\n",
    "num2 = int(input(\"Enter Second number :\"))\n",
    "\n",
    "result = lcm(num1, num2)\n",
    "\n",
    "print(f\"The number {num1} and {num2} :\",result)"
   ]
  },
  {
   "cell_type": "code",
   "execution_count": 8,
   "id": "25f260eb-62c4-4867-9377-8d924bcc9cb4",
   "metadata": {},
   "outputs": [
    {
     "name": "stdin",
     "output_type": "stream",
     "text": [
      "Enter your string:  Devaa\n"
     ]
    },
    {
     "name": "stdout",
     "output_type": "stream",
     "text": [
      "Original string: Devaa\n",
      "Copied string: Devaa\n"
     ]
    }
   ],
   "source": [
    "#17. Python program to copy one string to another string.\n",
    "\n",
    "def copy_string(original_string):\n",
    "    copied_string = original_string\n",
    "    print(\"Original string:\", original_string)\n",
    "    print(\"Copied string:\", copied_string)\n",
    "\n",
    "input_string = input(\"Enter your string: \")\n",
    "copy_string(input_string)"
   ]
  },
  {
   "cell_type": "code",
   "execution_count": 2,
   "id": "7b3466eb-89b7-4c9d-886d-5a40c2bd7eca",
   "metadata": {},
   "outputs": [
    {
     "name": "stdin",
     "output_type": "stream",
     "text": [
      "Enter your string:  banana\n"
     ]
    },
    {
     "name": "stdout",
     "output_type": "stream",
     "text": [
      "aaabnn\n"
     ]
    }
   ],
   "source": [
    "#18. Python Program to sort characters of string in ascending order.\n",
    "\n",
    "def sort_string(string):\n",
    "    char_string = list(string)\n",
    "    sorted_char = sorted(char_string)\n",
    "    sorted_string = ''.join(sorted_char)   \n",
    "    return sorted_string\n",
    "\n",
    "input_string = input(\"Enter your string: \")\n",
    "print(sort_string(input_string))"
   ]
  },
  {
   "cell_type": "code",
   "execution_count": 5,
   "id": "0da5d9e5-6c61-4ae2-974c-c62ed4e01af1",
   "metadata": {},
   "outputs": [
    {
     "name": "stdin",
     "output_type": "stream",
     "text": [
      "Enter string:  banana\n"
     ]
    },
    {
     "name": "stdout",
     "output_type": "stream",
     "text": [
      "nnbaaa\n"
     ]
    }
   ],
   "source": [
    "#19. Python Program to sort character of string in descending order.\n",
    "\n",
    "def sort_string(string):\n",
    "    char_string = list(string)\n",
    "    sorted_char = sorted(char_string, reverse=True)\n",
    "    sorted_string = ''.join(sorted_char)\n",
    "    return sorted_string\n",
    "\n",
    "input_string = input(\"Enter string: \")\n",
    "print(sort_string(input_string))"
   ]
  },
  {
   "cell_type": "code",
   "execution_count": 7,
   "id": "e956245b-b745-4a70-83db-26c6ae19884a",
   "metadata": {},
   "outputs": [
    {
     "name": "stdin",
     "output_type": "stream",
     "text": [
      "Enter first number:  10\n",
      "Enter second number:  11\n"
     ]
    },
    {
     "name": "stdout",
     "output_type": "stream",
     "text": [
      "After swapping, a is: 11\n",
      "After swapping, b is: 10\n"
     ]
    }
   ],
   "source": [
    "#20. Write a program in Python to swap two numbers without using third variable?\n",
    "\n",
    "def Swapping():\n",
    "    a = int(input(\"Enter first number: \"))\n",
    "    b = int(input(\"Enter second number: \"))\n",
    "\n",
    "    temp = a\n",
    "    a = b\n",
    "    b = temp\n",
    "    \n",
    "    print(\"After swapping, a is:\", a)\n",
    "    print(\"After swapping, b is:\", b)\n",
    "\n",
    "Swapping()"
   ]
  },
  {
   "cell_type": "code",
   "execution_count": 8,
   "id": "70e62d42-408d-49b5-af56-82549edcca62",
   "metadata": {},
   "outputs": [
    {
     "name": "stdin",
     "output_type": "stream",
     "text": [
      "Enter first number:  10\n",
      "Enter second number:  20\n"
     ]
    },
    {
     "name": "stdout",
     "output_type": "stream",
     "text": [
      "After swapping, a is : 20\n",
      "After swapping, b is : 10\n"
     ]
    }
   ],
   "source": [
    "#21. Write a program in Python to swap two numbers with using third variable\n",
    "\n",
    "def swapping():\n",
    "    a = int(input(\"Enter first number: \"))\n",
    "    b = int(input(\"Enter second number: \"))\n",
    "    a,b = b,a\n",
    "    print(\"After swapping, a is :\",a)\n",
    "    print(\"After swapping, b is :\",b)\n",
    "\n",
    "swapping()"
   ]
  },
  {
   "cell_type": "code",
   "execution_count": 4,
   "id": "2e1c7ada-ed1d-4858-9b1e-39f7d2666921",
   "metadata": {},
   "outputs": [
    {
     "name": "stdin",
     "output_type": "stream",
     "text": [
      "Enter Your Number:  22\n"
     ]
    },
    {
     "name": "stdout",
     "output_type": "stream",
     "text": [
      "Fibonacci series is:  [0, 1, 1, 2, 3, 5, 8, 13, 21, 34, 55, 89, 144, 233, 377, 610, 987, 1597, 2584, 4181, 6765, 10946]\n"
     ]
    }
   ],
   "source": [
    "#22. Fibonacci series\n",
    "\n",
    "def Fibonacci(a):\n",
    "    l = [0,1] # l intialized with 0,1 then 2 variables intialized with 0,1\n",
    "    b = 0\n",
    "    c = 1\n",
    "    while (len(l)<a):\n",
    "        d = b + c\n",
    "        l.append(d)\n",
    "        b = c\n",
    "        c = d\n",
    "    print(\"Fibonacci series is: \",end=\" \")\n",
    "    return l\n",
    "a = int(input(\"Enter Your Number: \"))\n",
    "print(Fibonacci(a))"
   ]
  },
  {
   "cell_type": "code",
   "execution_count": 5,
   "id": "89b9056f-0c2e-450c-ad66-ceffbb7b3028",
   "metadata": {},
   "outputs": [
    {
     "name": "stdin",
     "output_type": "stream",
     "text": [
      "Enter Your String:  ()()()()()()(\n"
     ]
    },
    {
     "name": "stdout",
     "output_type": "stream",
     "text": [
      "Number of '(' is: 7\n",
      "Number of ')' is: 6\n"
     ]
    }
   ],
   "source": [
    "#23. \n",
    "\n",
    "def count_paranthesis(s):\n",
    "    open_paranthesis = s.count('(')\n",
    "    close_paranthesis = s.count(')')\n",
    "    return open_paranthesis, close_paranthesis\n",
    "\n",
    "input_string = input(\"Enter Your String: \")\n",
    "open_count, close_count = count_paranthesis(input_string)\n",
    "print(\"Number of '(' is:\",open_count)\n",
    "print(\"Number of ')' is:\",close_count)"
   ]
  },
  {
   "cell_type": "code",
   "execution_count": 6,
   "id": "363009b5-27a0-41b8-958f-3e0d54fae1f9",
   "metadata": {},
   "outputs": [
    {
     "name": "stdin",
     "output_type": "stream",
     "text": [
      "Enter Your String:  google\n"
     ]
    },
    {
     "name": "stdout",
     "output_type": "stream",
     "text": [
      "First Non Repeting Character is:  l\n"
     ]
    }
   ],
   "source": [
    "def first_non_repeting_char(s):\n",
    "    for char in s:\n",
    "        if s.count(char) == 1:\n",
    "            return char\n",
    "    return None\n",
    "\n",
    "s = input(\"Enter Your String: \")\n",
    "result = first_non_repeting_char(s)\n",
    "\n",
    "if result:\n",
    "    print(\"First Non Repeting Character is: \",result)\n",
    "else:\n",
    "    print(\"No non Repeting Character found\")"
   ]
  },
  {
   "cell_type": "code",
   "execution_count": null,
   "id": "d81edffe-45b0-440f-bcad-9f392225324b",
   "metadata": {},
   "outputs": [],
   "source": []
  }
 ],
 "metadata": {
  "kernelspec": {
   "display_name": "Python 3 (ipykernel)",
   "language": "python",
   "name": "python3"
  },
  "language_info": {
   "codemirror_mode": {
    "name": "ipython",
    "version": 3
   },
   "file_extension": ".py",
   "mimetype": "text/x-python",
   "name": "python",
   "nbconvert_exporter": "python",
   "pygments_lexer": "ipython3",
   "version": "3.12.4"
  }
 },
 "nbformat": 4,
 "nbformat_minor": 5
}
