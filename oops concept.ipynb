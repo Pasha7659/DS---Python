{
 "cells": [
  {
   "cell_type": "markdown",
   "id": "948157ca-5568-4612-a7e9-439172416293",
   "metadata": {},
   "source": [
    "### Inheritance"
   ]
  },
  {
   "cell_type": "markdown",
   "id": "4be843cb-01a1-4bd2-9692-e42244393c88",
   "metadata": {},
   "source": [
    "- It is a fundamental concept in object oriented programming that allows a class to innerit attributes and behaviours frpom another class\n",
    "- This enables code reusability and establisheds a hierarchy between classes\n"
   ]
  },
  {
   "cell_type": "markdown",
   "id": "f8e36812-f974-4265-937e-d2b44dcb7d62",
   "metadata": {},
   "source": [
    "### Example"
   ]
  },
  {
   "cell_type": "code",
   "execution_count": 61,
   "id": "47c88e42-a4b8-45aa-b79b-5531917057aa",
   "metadata": {},
   "outputs": [],
   "source": [
    "class number:\n",
    "    def new(self):\n",
    "        print(\"it is new \")\n",
    "        \n",
    "    def old(self):\n",
    "        print(\"it is old\")\n",
    "\n",
    "class num1():\n",
    "    def new_num(self):\n",
    "        print(\"it is new number\")\n",
    "\n",
    "\n",
    "class num2(number):\n",
    "    def old_num(self):\n",
    "        print(\"it is old number\")\n",
    "\n"
   ]
  },
  {
   "cell_type": "code",
   "execution_count": 45,
   "id": "ccfb3c99-ebf8-4c87-b9c9-39aa689215d8",
   "metadata": {},
   "outputs": [],
   "source": [
    "n=number()"
   ]
  },
  {
   "cell_type": "code",
   "execution_count": 53,
   "id": "41ce2890-6643-4af8-b03c-cd200a3eccc2",
   "metadata": {},
   "outputs": [
    {
     "name": "stdout",
     "output_type": "stream",
     "text": [
      "it is old\n"
     ]
    }
   ],
   "source": [
    "n.old()"
   ]
  },
  {
   "cell_type": "code",
   "execution_count": 55,
   "id": "7db09fa6-7a98-4b73-b2cf-34a28b4af747",
   "metadata": {},
   "outputs": [
    {
     "name": "stdout",
     "output_type": "stream",
     "text": [
      "it is new \n"
     ]
    }
   ],
   "source": [
    "n.new()"
   ]
  },
  {
   "cell_type": "code",
   "execution_count": 57,
   "id": "d4c64e5c-9ed6-4057-a3df-45b840f3934b",
   "metadata": {},
   "outputs": [],
   "source": [
    "n2=num1()"
   ]
  },
  {
   "cell_type": "code",
   "execution_count": 59,
   "id": "2a2e364d-7c37-4818-afba-fda61daa5a07",
   "metadata": {},
   "outputs": [
    {
     "name": "stdout",
     "output_type": "stream",
     "text": [
      "it is new number\n"
     ]
    }
   ],
   "source": [
    "n2.new_num()"
   ]
  },
  {
   "cell_type": "code",
   "execution_count": 76,
   "id": "59e2b0a1-668e-467d-9294-4e4e52b1434e",
   "metadata": {},
   "outputs": [],
   "source": [
    "i=num2()"
   ]
  },
  {
   "cell_type": "code",
   "execution_count": 78,
   "id": "4a52d11c-9839-4619-9691-0df5d53cbb93",
   "metadata": {},
   "outputs": [
    {
     "name": "stdout",
     "output_type": "stream",
     "text": [
      " it is old number\n"
     ]
    }
   ],
   "source": [
    "i.old_num()"
   ]
  },
  {
   "cell_type": "markdown",
   "id": "02ec21bf-3378-477b-b600-127d946ba2a0",
   "metadata": {},
   "source": [
    "### Example"
   ]
  },
  {
   "cell_type": "code",
   "execution_count": 116,
   "id": "025b09c7-0aa5-4a35-9a41-9b95798b08c9",
   "metadata": {},
   "outputs": [],
   "source": [
    "class name:\n",
    "    def name1(self):\n",
    "        print(\"i am pasha\")\n",
    "    \n",
    "    def age1(self):\n",
    "        print(\"i am 23\")\n",
    "\n",
    "class new_name(name):\n",
    "    def name2(self):\n",
    "        print(\" my new name is pasha\")\n",
    "    \n",
    "    def age2(self):\n",
    "        print(\"my age is 22\")\n",
    "\n"
   ]
  },
  {
   "cell_type": "code",
   "execution_count": 122,
   "id": "e9aa40f2-e928-4e5d-bb34-9eb0eeb45fa8",
   "metadata": {},
   "outputs": [],
   "source": [
    "i=name()\n"
   ]
  },
  {
   "cell_type": "code",
   "execution_count": 124,
   "id": "6937905e-50c7-43f8-ab99-4a1bb6ef667f",
   "metadata": {},
   "outputs": [
    {
     "name": "stdout",
     "output_type": "stream",
     "text": [
      "i am 23\n"
     ]
    }
   ],
   "source": [
    "i.age1()"
   ]
  },
  {
   "cell_type": "code",
   "execution_count": 145,
   "id": "207c6fac-a203-4468-a4a1-8f44d5c9a5d8",
   "metadata": {},
   "outputs": [
    {
     "name": "stdout",
     "output_type": "stream",
     "text": [
      "i am pasha\n"
     ]
    }
   ],
   "source": [
    "i.name1()"
   ]
  },
  {
   "cell_type": "code",
   "execution_count": 147,
   "id": "41be17bc-0d13-4586-8050-db668fa84173",
   "metadata": {},
   "outputs": [],
   "source": [
    "j=new_name()"
   ]
  },
  {
   "cell_type": "code",
   "execution_count": 149,
   "id": "79fea79c-3438-4f62-a212-140447da2e5f",
   "metadata": {},
   "outputs": [
    {
     "name": "stdout",
     "output_type": "stream",
     "text": [
      " my new name is pasha\n"
     ]
    }
   ],
   "source": [
    "j.name2()"
   ]
  },
  {
   "cell_type": "code",
   "execution_count": 151,
   "id": "244da7ea-a83d-4091-8f1f-dbef9da6c0e5",
   "metadata": {},
   "outputs": [
    {
     "name": "stdout",
     "output_type": "stream",
     "text": [
      "my age is 22\n"
     ]
    }
   ],
   "source": [
    "j.age2()"
   ]
  },
  {
   "cell_type": "markdown",
   "id": "095939c3-3520-4d5f-bdbb-b7ab43c39435",
   "metadata": {},
   "source": [
    "## Encapsulation"
   ]
  },
  {
   "cell_type": "markdown",
   "id": "50130f73-5cc3-4714-a1f1-134d68dba7f1",
   "metadata": {},
   "source": [
    "- It is object oriented programming\n",
    "- to bundling of attributes and methods inside a class\n",
    "- wrapping data and methods\n",
    "-  _a is protected, __ b is private and public\n",
    "  "
   ]
  },
  {
   "cell_type": "markdown",
   "id": "0e1dbaec-0c2c-4b7a-a2c7-fb80ce437190",
   "metadata": {},
   "source": [
    "### Example"
   ]
  },
  {
   "cell_type": "code",
   "execution_count": 167,
   "id": "91d0db9b-0bd0-40f2-b1db-4d40eef805a1",
   "metadata": {},
   "outputs": [],
   "source": [
    "class number:\n",
    "    def __init__(self,a,b):\n",
    "        self._a=a\n",
    "        self.__b=b\n",
    "    def add(self):\n",
    "        print(self._a)\n",
    "    def sub(self):\n",
    "        print(self.__b)\n",
    "\n",
    "class num1(number):\n",
    "    def add1(self):\n",
    "        print(self._a)\n",
    "    def sub1(self):\n",
    "        print(sub.__b)\n",
    "        \n",
    "    \n",
    "    "
   ]
  },
  {
   "cell_type": "code",
   "execution_count": 165,
   "id": "0af061a1-7ba4-4509-b0c8-944b68a93fda",
   "metadata": {},
   "outputs": [
    {
     "name": "stdout",
     "output_type": "stream",
     "text": [
      "4\n",
      "5\n"
     ]
    }
   ],
   "source": [
    "n=number(4,5)\n",
    "n.add()\n",
    "n.sub()"
   ]
  },
  {
   "cell_type": "code",
   "execution_count": 173,
   "id": "6aa9a067-38fc-4802-8843-25f946ea1842",
   "metadata": {},
   "outputs": [
    {
     "name": "stdout",
     "output_type": "stream",
     "text": [
      "4\n"
     ]
    }
   ],
   "source": [
    "n1=num1(4,5)\n",
    "n1.add1()"
   ]
  },
  {
   "cell_type": "code",
   "execution_count": 219,
   "id": "23b53991-6eb4-489b-ad8d-3eaeef8bbef2",
   "metadata": {},
   "outputs": [],
   "source": [
    "class name:\n",
    "    def __init__(self,name,age):\n",
    "        self._name=name\n",
    "        self.__age=age\n",
    "     \n",
    "    def new(self):\n",
    "        print(self._name)\n",
    "\n",
    "    def old(self):\n",
    "        print(self.__age)"
   ]
  },
  {
   "cell_type": "code",
   "execution_count": 227,
   "id": "8dbc1425-06fd-4a8f-b698-be4d591cca4a",
   "metadata": {},
   "outputs": [],
   "source": [
    "n=name(\"pasha\",23)"
   ]
  },
  {
   "cell_type": "code",
   "execution_count": 229,
   "id": "6fc1217a-7b48-4f70-8010-973cc45abb20",
   "metadata": {},
   "outputs": [
    {
     "name": "stdout",
     "output_type": "stream",
     "text": [
      "pasha\n"
     ]
    }
   ],
   "source": [
    "n.new()"
   ]
  },
  {
   "cell_type": "code",
   "execution_count": 231,
   "id": "f0e6add6-8931-4449-a401-fbd88e239401",
   "metadata": {},
   "outputs": [
    {
     "name": "stdout",
     "output_type": "stream",
     "text": [
      "23\n"
     ]
    }
   ],
   "source": [
    "n.old()"
   ]
  },
  {
   "cell_type": "markdown",
   "id": "ae1b1752-adb5-4767-acb0-03e86ad51b7b",
   "metadata": {},
   "source": [
    "### Polymorphism"
   ]
  },
  {
   "cell_type": "markdown",
   "id": "affcc516-6182-483f-8670-beb6b4616b67",
   "metadata": {},
   "source": [
    "- It allows objects of different classes to be treated as objects of a common superclass,enabling a single interface to represent different underlying foms.\n",
    "- This helps in writing flexible and maintainable code by enabling methods to work on objects of various types\n"
   ]
  },
  {
   "cell_type": "markdown",
   "id": "1f96250e-c558-47c5-9fef-709d8efe848d",
   "metadata": {},
   "source": [
    "### Example"
   ]
  },
  {
   "cell_type": "code",
   "execution_count": 241,
   "id": "e50e5c44-53ee-45b7-9a1f-9928a47fbb81",
   "metadata": {},
   "outputs": [],
   "source": [
    "class number:\n",
    "    def add(self,a,b):\n",
    "        print(a+b)\n",
    "        "
   ]
  },
  {
   "cell_type": "code",
   "execution_count": 266,
   "id": "443f7a1d-b73f-4fe0-a35a-75c58f24c3d3",
   "metadata": {},
   "outputs": [
    {
     "name": "stdout",
     "output_type": "stream",
     "text": [
      "9\n",
      "64\n",
      "9.8\n",
      "pashashaik\n"
     ]
    }
   ],
   "source": [
    "a=number()\n",
    "a.add(4,5)\n",
    "a.add(12,52)\n",
    "a.add(5.5,4.3)\n",
    "a.add(\"pasha\",\"shaik\")\n"
   ]
  },
  {
   "cell_type": "code",
   "execution_count": 268,
   "id": "fd953a20-9c3e-443f-a9bd-6c9ad1d21c2c",
   "metadata": {},
   "outputs": [],
   "source": [
    "class num:\n",
    "    def multi(self,a,b):\n",
    "        print(a*b)"
   ]
  },
  {
   "cell_type": "code",
   "execution_count": 270,
   "id": "1944bd05-6005-4fdb-8ed7-cc6158f064a2",
   "metadata": {},
   "outputs": [
    {
     "name": "stdout",
     "output_type": "stream",
     "text": [
      "16\n"
     ]
    }
   ],
   "source": [
    "i=num()\n",
    "i.multi(4,4)"
   ]
  },
  {
   "cell_type": "code",
   "execution_count": 272,
   "id": "1e52078e-4d85-4a8f-ad63-ba10567657e6",
   "metadata": {},
   "outputs": [
    {
     "name": "stdout",
     "output_type": "stream",
     "text": [
      "464.016\n"
     ]
    }
   ],
   "source": [
    "i.multi(55.24,8.4)"
   ]
  },
  {
   "cell_type": "markdown",
   "id": "11a2fef3-b326-4738-ad2f-841e47779ba3",
   "metadata": {},
   "source": [
    "### Abstraction"
   ]
  },
  {
   "cell_type": "markdown",
   "id": "e738fa52-9dc7-4a07-8c1d-08c69c268fee",
   "metadata": {},
   "source": [
    "- Abstraction means hiding complex implementataion details and showing only the essiential features to the user"
   ]
  },
  {
   "cell_type": "code",
   "execution_count": 278,
   "id": "75b0c639-d772-46a5-8a56-5ef5b1f1ff43",
   "metadata": {},
   "outputs": [],
   "source": [
    "class bike:\n",
    "    def start_bike(self):\n",
    "        pass\n",
    "    def moving_bike(self):\n",
    "        pass\n",
    "\n",
    "class bike1:\n",
    "    def bike1_engine(self):\n",
    "        pass"
   ]
  },
  {
   "cell_type": "code",
   "execution_count": null,
   "id": "04ed4208-a286-43da-b5e0-b9f43b5ac5ef",
   "metadata": {},
   "outputs": [],
   "source": []
  }
 ],
 "metadata": {
  "kernelspec": {
   "display_name": "Python 3 (ipykernel)",
   "language": "python",
   "name": "python3"
  },
  "language_info": {
   "codemirror_mode": {
    "name": "ipython",
    "version": 3
   },
   "file_extension": ".py",
   "mimetype": "text/x-python",
   "name": "python",
   "nbconvert_exporter": "python",
   "pygments_lexer": "ipython3",
   "version": "3.12.4"
  }
 },
 "nbformat": 4,
 "nbformat_minor": 5
}
