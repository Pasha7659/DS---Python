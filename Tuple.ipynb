{
 "cells": [
  {
   "cell_type": "markdown",
   "id": "890e9ec1-17ec-4994-8287-8391c8f22ae3",
   "metadata": {},
   "source": [
    "## Tuple"
   ]
  },
  {
   "cell_type": "markdown",
   "id": "c8e64c32-12c1-4c14-b013-0659b1d4eeeb",
   "metadata": {},
   "source": [
    "- It is  a Data Type that Represents an Order of data type.\n",
    "- It is Mutable.\n",
    "- It is Represented by ( ) parantaces."
   ]
  },
  {
   "cell_type": "markdown",
   "id": "97024a25-48a6-4674-9718-a62188a3c200",
   "metadata": {},
   "source": [
    "### Examples"
   ]
  },
  {
   "cell_type": "code",
   "execution_count": 9,
   "id": "bfdadf45-a33f-4610-8307-afe286c914ae",
   "metadata": {},
   "outputs": [
    {
     "name": "stdout",
     "output_type": "stream",
     "text": [
      "<class 'tuple'>\n",
      "<class 'tuple'>\n",
      "<class 'tuple'>\n",
      "<class 'tuple'>\n"
     ]
    }
   ],
   "source": [
    "fruits=('apple','mango','banana','grapes','guva')\n",
    "mobile=('apple','vivo','oppo','poco','real me','mi','red me')\n",
    "guns=('Ak','Awm','mp 40','p 90','scar','groza','m4 A1')\n",
    "numbers=(23,78,70,7,67,53,56,87,98,42,61,90,80)\n",
    "cars=('BMW','AUDI','FERRARI','TESLA','HONDA','ISUZ','SUZUKI','HYUNDAI')\n",
    "print(type(fruits))\n",
    "print(type(mobile))\n",
    "print(type(numbers))\n",
    "print(type(cars))\n",
    "\n",
    "\n"
   ]
  },
  {
   "cell_type": "code",
   "execution_count": 11,
   "id": "003c6259-6f88-4c98-841b-87c5f46e86f9",
   "metadata": {},
   "outputs": [
    {
     "name": "stdout",
     "output_type": "stream",
     "text": [
      "('apple', 'mango', 'banana', 'grapes', 'guva')\n"
     ]
    }
   ],
   "source": [
    "fruits=('apple','mango','banana','grapes','guva')\n",
    "print(fruits)"
   ]
  },
  {
   "cell_type": "code",
   "execution_count": 23,
   "id": "997d0cdb-92cb-4898-828b-46112b822ff4",
   "metadata": {},
   "outputs": [
    {
     "name": "stdout",
     "output_type": "stream",
     "text": [
      "(42,)\n"
     ]
    }
   ],
   "source": [
    "single_element=(42,)\n",
    "print(single_element)"
   ]
  },
  {
   "cell_type": "markdown",
   "id": "f6f0a2ec-4e16-403b-8f98-65ecb968ce8d",
   "metadata": {},
   "source": [
    "### Accessing of Tuple"
   ]
  },
  {
   "cell_type": "code",
   "execution_count": 34,
   "id": "a8589ced-9115-4d2c-8d77-9d5230ddd654",
   "metadata": {},
   "outputs": [
    {
     "name": "stdout",
     "output_type": "stream",
     "text": [
      "grapes\n",
      "grapes\n",
      "('mango', 'banana', 'grapes')\n",
      "('mango', 'banana')\n"
     ]
    }
   ],
   "source": [
    "fruits=('apple','mango','banana','grapes','guva')\n",
    "print(fruits[3])\n",
    "print(fruits[-2])\n",
    "print(fruits[1:4])\n",
    "print(fruits[-4:-2])\n"
   ]
  },
  {
   "cell_type": "markdown",
   "id": "8106357d-99d7-4d56-b32f-34851f20a034",
   "metadata": {},
   "source": [
    "### Operations"
   ]
  },
  {
   "cell_type": "markdown",
   "id": "bdc8ae94-e4d4-4cbb-9735-a7e5c6999fc0",
   "metadata": {},
   "source": [
    "### Concatentaion"
   ]
  },
  {
   "cell_type": "code",
   "execution_count": 46,
   "id": "0be92ca6-21b8-4565-9135-83e836e7245d",
   "metadata": {},
   "outputs": [
    {
     "name": "stdout",
     "output_type": "stream",
     "text": [
      "(23, 78, 70, 7, 67, 53, 56, 87, 98, 42, 61, 90, 80, 'BMW', 'AUDI', 'FERRARI', 'TESLA', 'HONDA', 'ISUZ', 'SUZUKI', 'HYUNDAI')\n"
     ]
    }
   ],
   "source": [
    "t1=(23,78,70,7,67,53,56,87,98,42,61,90,80)\n",
    "t2=('BMW','AUDI','FERRARI','TESLA','HONDA','ISUZ','SUZUKI','HYUNDAI')\n",
    "t3=t1+t2\n",
    "print(t3)\n"
   ]
  },
  {
   "cell_type": "markdown",
   "id": "c58f7145-d683-4982-8927-5a816c5080dc",
   "metadata": {},
   "source": [
    "### Repitation"
   ]
  },
  {
   "cell_type": "code",
   "execution_count": 53,
   "id": "ba147be8-f3e8-4e0f-948c-a0645d2d2307",
   "metadata": {},
   "outputs": [
    {
     "name": "stdout",
     "output_type": "stream",
     "text": [
      "('BMW', 'AUDI', 'FERRARI', 'TESLA', 'HONDA', 'ISUZ', 'SUZUKI', 'HYUNDAI', 'BMW', 'AUDI', 'FERRARI', 'TESLA', 'HONDA', 'ISUZ', 'SUZUKI', 'HYUNDAI', 'BMW', 'AUDI', 'FERRARI', 'TESLA', 'HONDA', 'ISUZ', 'SUZUKI', 'HYUNDAI', 'BMW', 'AUDI', 'FERRARI', 'TESLA', 'HONDA', 'ISUZ', 'SUZUKI', 'HYUNDAI', 'BMW', 'AUDI', 'FERRARI', 'TESLA', 'HONDA', 'ISUZ', 'SUZUKI', 'HYUNDAI')\n"
     ]
    }
   ],
   "source": [
    "t1=('BMW','AUDI','FERRARI','TESLA','HONDA','ISUZ','SUZUKI','HYUNDAI')\n",
    "t2=t1*5\n",
    "print(t2)"
   ]
  },
  {
   "cell_type": "markdown",
   "id": "6c8b3225-0188-4baf-aa40-3c4dcdcba836",
   "metadata": {},
   "source": [
    "## Methods"
   ]
  },
  {
   "cell_type": "markdown",
   "id": "318b6a83-18c2-445d-b678-f81b72c53c0b",
   "metadata": {},
   "source": [
    "### Count"
   ]
  },
  {
   "cell_type": "code",
   "execution_count": 63,
   "id": "06179e75-47b9-42a7-ab67-150d96a98bb4",
   "metadata": {},
   "outputs": [
    {
     "name": "stdout",
     "output_type": "stream",
     "text": [
      "4\n"
     ]
    }
   ],
   "source": [
    "num=(1,23,4,6,7,9,0,0,8,5,3,2,4,5,6,8,89,4,3,3,6,78999,7,7,6,44,4,3,33,3,5,5,6,6,9,9,9,9,9)\n",
    "b=num.count(5)\n",
    "print(b)"
   ]
  },
  {
   "cell_type": "code",
   "execution_count": 69,
   "id": "9689051f-2c53-40ce-aaab-c2863980c699",
   "metadata": {},
   "outputs": [
    {
     "name": "stdout",
     "output_type": "stream",
     "text": [
      "47\n"
     ]
    }
   ],
   "source": [
    "num=(1,1,1,1,1,1,1,1,1,1,1,1,1,1,1,1,1,1,1,1,1,1,1,1,1,1,1,1,1,1,1,1,1,1,1,1,1,1,1,1,1,1,1,1,1,1,1)\n",
    "b=num.count(1)\n",
    "print(b)"
   ]
  },
  {
   "cell_type": "markdown",
   "id": "6b6e9fe7-550e-46a7-8f61-df3c41c666ab",
   "metadata": {},
   "source": [
    "### Index"
   ]
  },
  {
   "cell_type": "code",
   "execution_count": 72,
   "id": "b42b2bb6-b50e-4470-9086-8cdde18b4c75",
   "metadata": {},
   "outputs": [
    {
     "name": "stdout",
     "output_type": "stream",
     "text": [
      "5\n"
     ]
    }
   ],
   "source": [
    "num=(1,5,2,8,9,55,66,22,88,33,66,44,55,88,11,100,400,500,12,30,1)\n",
    "b=num.index(55)\n",
    "print(b)"
   ]
  },
  {
   "cell_type": "code",
   "execution_count": 78,
   "id": "57c3842c-2310-4907-92b0-fc6d90aa78e0",
   "metadata": {},
   "outputs": [
    {
     "name": "stdout",
     "output_type": "stream",
     "text": [
      "16\n"
     ]
    }
   ],
   "source": [
    "num=(44,5,5,22,55,77,98,9,89,78,67,12,23,45,6,78,8,8,8)\n",
    "b=num.index(8)\n",
    "print(b)"
   ]
  },
  {
   "cell_type": "code",
   "execution_count": null,
   "id": "724dc296-b83f-41e2-a756-2f9349ff753b",
   "metadata": {},
   "outputs": [],
   "source": []
  }
 ],
 "metadata": {
  "kernelspec": {
   "display_name": "Python 3 (ipykernel)",
   "language": "python",
   "name": "python3"
  },
  "language_info": {
   "codemirror_mode": {
    "name": "ipython",
    "version": 3
   },
   "file_extension": ".py",
   "mimetype": "text/x-python",
   "name": "python",
   "nbconvert_exporter": "python",
   "pygments_lexer": "ipython3",
   "version": "3.12.4"
  }
 },
 "nbformat": 4,
 "nbformat_minor": 5
}
