{
 "cells": [
  {
   "cell_type": "markdown",
   "id": "c6b3c9b0-cb25-411c-a55a-0bf3aeab4fab",
   "metadata": {},
   "source": [
    "# Python Conditional Statements"
   ]
  },
  {
   "cell_type": "markdown",
   "id": "24ebf9a8-65c7-419f-99d7-62aef7ca7931",
   "metadata": {},
   "source": [
    "- In Python, Conditional statements in Python are used to execute certain blocks of code based on whether a condition is true or false.\n",
    "- The most common conditional statements are if, elif, and else keywords are used for creating conditional Structure.\n",
    "- Conditional Statements are statements in Python that provide a choice for the control flow based on a condition.\n",
    "- It means that the control flow of the Python program will be decided based on the outcome of the condition."
   ]
  },
  {
   "cell_type": "markdown",
   "id": "2d3275cc-7f58-4dc5-bbcf-36ad8e5b826c",
   "metadata": {},
   "source": [
    "### 1. If Conditional Statement in Python"
   ]
  },
  {
   "cell_type": "markdown",
   "id": "2e506ecd-fd77-4fa9-bb1d-98dc1ca9247e",
   "metadata": {},
   "source": [
    "- An If statement executes a block of code if the specified condition is true.\n",
    "- If the simple code of block is to be performed if the condition holds then the if statement is used.\n",
    "- Here the condition mentioned holds then the code of the block runs otherwise not."
   ]
  },
  {
   "cell_type": "markdown",
   "id": "9f18b43a-8e57-4338-88bb-84afc12e27d4",
   "metadata": {},
   "source": [
    "#### Syntax of If Statement:"
   ]
  },
  {
   "cell_type": "code",
   "execution_count": null,
   "id": "914b4ac0-5c35-49ee-a007-bda3f452cc32",
   "metadata": {},
   "outputs": [],
   "source": [
    "if condition:\n",
    "    # Statements to execute if\n",
    "    # Code to be executed if condition is true"
   ]
  },
  {
   "cell_type": "markdown",
   "id": "a01fb7e3-8dde-4441-ae79-a8193078228c",
   "metadata": {},
   "source": [
    "Here, if the condition of the if statement is:\n",
    "\n",
    "True - the body of the if statement executes.\n",
    "\n",
    "False - the body of the if statement is skipped from execution."
   ]
  },
  {
   "cell_type": "code",
   "execution_count": 2,
   "id": "2a3c30db-1213-4573-b543-dc78bfd4b1f6",
   "metadata": {},
   "outputs": [
    {
     "name": "stdout",
     "output_type": "stream",
     "text": [
      "It's warm outside.\n"
     ]
    }
   ],
   "source": [
    "temperature = 20\n",
    "\n",
    "if temperature > 18:\n",
    "    print(\"It's warm outside.\")"
   ]
  },
  {
   "cell_type": "code",
   "execution_count": 5,
   "id": "f787c9cd-77a1-4350-a233-21f4056e3f45",
   "metadata": {},
   "outputs": [
    {
     "name": "stdout",
     "output_type": "stream",
     "text": [
      "Positive Number\n"
     ]
    }
   ],
   "source": [
    "num = 71\n",
    "\n",
    "if num > 0:\n",
    "    print(\"Positive Number\")"
   ]
  },
  {
   "cell_type": "code",
   "execution_count": 7,
   "id": "6132f45d-c1cd-4a97-8140-724a6e0b600f",
   "metadata": {},
   "outputs": [
    {
     "name": "stdout",
     "output_type": "stream",
     "text": [
      "You are an adult.\n"
     ]
    }
   ],
   "source": [
    "age = 25\n",
    "if age >= 18:\n",
    "    print(\"You are an adult.\")"
   ]
  },
  {
   "cell_type": "code",
   "execution_count": 6,
   "id": "e441db14-d9c1-4680-9c81-171121fe1a74",
   "metadata": {},
   "outputs": [
    {
     "name": "stdin",
     "output_type": "stream",
     "text": [
      "Enter Your Age : 18\n"
     ]
    },
    {
     "name": "stdout",
     "output_type": "stream",
     "text": [
      "Your Eligible for Vote\n"
     ]
    }
   ],
   "source": [
    "voter_age = int(input(\"Enter Your Age :\"))\n",
    "\n",
    "if voter_age >= 18:\n",
    "    print(\"Your Eligible for Vote\")\n",
    "else:\n",
    "    print(\"Your Not Eligible for vote\")"
   ]
  },
  {
   "cell_type": "markdown",
   "id": "33940d82-753c-4a28-9a89-b96beef2713e",
   "metadata": {},
   "source": [
    "### 2. If else Conditional Statements in Python"
   ]
  },
  {
   "cell_type": "markdown",
   "id": "0763d07b-e8db-4af2-863a-562e805f5070",
   "metadata": {},
   "source": [
    "- In a conditional if Statement the additional block of code is merged as an else statement which is performed when if condition is false.\n",
    "- An if statement can have an optional else clause.\r",
    "- \r\n",
    "The else statement executes if the condition in the if statement evaluates to False."
   ]
  },
  {
   "cell_type": "markdown",
   "id": "56033931-ffc0-45d1-9e0c-d8655da9024c",
   "metadata": {},
   "source": [
    "#### Syntax of Python If-Else: "
   ]
  },
  {
   "cell_type": "code",
   "execution_count": null,
   "id": "07f6a559-bd4e-40f7-8c9c-0c6f87c5b41c",
   "metadata": {},
   "outputs": [],
   "source": [
    "if (condition):\n",
    "    # Executes this block if\n",
    "    # condition is true\n",
    "else:\n",
    "    # Executes this block if\n",
    "    # condition is false"
   ]
  },
  {
   "cell_type": "markdown",
   "id": "48af38e8-17c8-45f4-b08c-410413e41e46",
   "metadata": {},
   "source": [
    "Here, if the condition inside the if statement evaluates to\r\n",
    "\r\n",
    "True - the body of if executes, and the body of else is skipped.\r\n",
    "\r\n",
    "False - the body of else executes, and the body of if is skipped"
   ]
  },
  {
   "cell_type": "code",
   "execution_count": 11,
   "id": "b479ca84-7ebc-428b-ad99-816d4c4c66d5",
   "metadata": {},
   "outputs": [
    {
     "name": "stdin",
     "output_type": "stream",
     "text": [
      "Enter Your Number:  -71\n"
     ]
    },
    {
     "name": "stdout",
     "output_type": "stream",
     "text": [
      "Negitive Number\n"
     ]
    }
   ],
   "source": [
    "num = int(input(\"Enter Your Number: \"))\n",
    "\n",
    "if num >= 0:\n",
    "    print(\"Positive Number\")\n",
    "else:\n",
    "    print(\"Negitive Number\")"
   ]
  },
  {
   "cell_type": "code",
   "execution_count": 13,
   "id": "df9d77bd-c6a4-49ea-92b4-a9ecf202ae02",
   "metadata": {},
   "outputs": [
    {
     "name": "stdin",
     "output_type": "stream",
     "text": [
      "Enter Your Number:  21\n"
     ]
    },
    {
     "name": "stdout",
     "output_type": "stream",
     "text": [
      "Odd\n"
     ]
    }
   ],
   "source": [
    "num = int(input(\"Enter Your Number: \"))\n",
    "\n",
    "if num % 2 == 0:\n",
    "    print(\"Even\")\n",
    "else:\n",
    "    print(\"Odd\")"
   ]
  },
  {
   "cell_type": "code",
   "execution_count": 14,
   "id": "db4f2bc2-387a-40ab-aa13-0f66fedf045f",
   "metadata": {},
   "outputs": [
    {
     "name": "stdin",
     "output_type": "stream",
     "text": [
      "Enter Your Age:  22\n"
     ]
    },
    {
     "name": "stdout",
     "output_type": "stream",
     "text": [
      "You are an adult.\n"
     ]
    }
   ],
   "source": [
    "age = int(input(\"Enter Your Age: \"))\n",
    "\n",
    "if age >= 18:\n",
    "    print(\"You are an adult.\")\n",
    "else:\n",
    "    print(\"You are a minor.\")"
   ]
  },
  {
   "cell_type": "markdown",
   "id": "df876f2f-b656-42f5-8feb-831eacde5bc5",
   "metadata": {},
   "source": [
    "### 3. elif Conditional Statements in Python"
   ]
  },
  {
   "cell_type": "markdown",
   "id": "7c725962-a237-4939-a37c-c7fa25e3c7a8",
   "metadata": {},
   "source": [
    "- The if statements are executed from the top down. As soon as one of the conditions controlling the if is true, the statement associated with that if is executed, and the rest of the ladder is bypassed.\n",
    "- If none of the conditions is true, then the final “else” statement will be executed.\n",
    "- In Python, elif (short for \"else if\") allows you to check multiple conditions in a sequence. It’s used after an initial if statement and before an else statement. You use elif to specify additional conditions to be checked if the preceding if or elif conditions are false."
   ]
  },
  {
   "cell_type": "markdown",
   "id": "36ec9b09-7c9b-4a1c-8092-25c782b09bfc",
   "metadata": {},
   "source": [
    "#### Syntax of Python elif:"
   ]
  },
  {
   "cell_type": "code",
   "execution_count": null,
   "id": "ece7379c-9b5e-4b89-b56b-c123fe26e39a",
   "metadata": {},
   "outputs": [],
   "source": [
    "if condition1:\n",
    "    # Code to execute if condition1 is true\n",
    "elif condition2:\n",
    "    # Code to execute if condition1 is false and condition2 is true\n",
    "elif condition3:\n",
    "    # Code to execute if condition1 and condition2 are false and condition3 is true\n",
    "else:\n",
    "    # Code to execute if none of the above conditions are true"
   ]
  },
  {
   "cell_type": "code",
   "execution_count": 20,
   "id": "6d775d19-af21-4af2-8f61-c449c6b0aeed",
   "metadata": {},
   "outputs": [
    {
     "name": "stdin",
     "output_type": "stream",
     "text": [
      "Enter Your Marks:  71\n"
     ]
    },
    {
     "name": "stdout",
     "output_type": "stream",
     "text": [
      "Grade: C\n"
     ]
    }
   ],
   "source": [
    "score = int(input(\"Enter Your Marks: \"))\n",
    "\n",
    "if score >= 90:\n",
    "    print(\"Grade: A\")\n",
    "elif score >= 80:\n",
    "    print(\"Grade: B\")\n",
    "elif score >= 70:\n",
    "    print(\"Grade: C\")\n",
    "elif score >= 60:\n",
    "    print(\"Grade: D\")\n",
    "else:\n",
    "    print(\"Fail\")"
   ]
  },
  {
   "cell_type": "code",
   "execution_count": 22,
   "id": "3f82fffd-e5a3-4b10-8d6f-268d2f4e1093",
   "metadata": {},
   "outputs": [
    {
     "name": "stdin",
     "output_type": "stream",
     "text": [
      "Enter Your Number:  10\n"
     ]
    },
    {
     "name": "stdout",
     "output_type": "stream",
     "text": [
      "i is 10\n"
     ]
    }
   ],
   "source": [
    "i = int(input(\"Enter Your Number: \"))\n",
    "if (i == 10):\n",
    "    print(\"i is 10\")\n",
    "elif (i == 15):\n",
    "    print(\"i is 15\")\n",
    "elif (i == 20):\n",
    "    print(\"i is 20\")\n",
    "else:\n",
    "    print(\"i is not present\")"
   ]
  },
  {
   "cell_type": "markdown",
   "id": "3b97cbac-f730-4ba7-b9fa-8d6f1ed4ef57",
   "metadata": {},
   "source": [
    "### 4. Python Nested If Statement"
   ]
  },
  {
   "cell_type": "markdown",
   "id": "f1e0e848-d38f-4960-9310-e9c893a7e5a2",
   "metadata": {},
   "source": [
    "- A nested if is an if statement that is the target of another if statement. Nested if statements mean an if statement inside another if statement.\r\n",
    "- \r\n",
    "Yes, Python allows us to nest if statements within if statements. i.e., we can place an if statement inside another if statement."
   ]
  },
  {
   "cell_type": "markdown",
   "id": "87fd01c1-cb33-4749-af6c-745f23f2b65d",
   "metadata": {},
   "source": [
    "#### Syntax of Nested If:"
   ]
  },
  {
   "cell_type": "code",
   "execution_count": null,
   "id": "35897e02-fdc4-4022-a4ac-43c6f23848a4",
   "metadata": {},
   "outputs": [],
   "source": [
    "if (condition1):\n",
    "   # Executes when condition1 is true\n",
    "   if (condition2): \n",
    "      # Executes when condition2 is true\n",
    "   # if Block is end here\n",
    "# if Block is end here"
   ]
  },
  {
   "cell_type": "code",
   "execution_count": 23,
   "id": "c432e5d4-f258-46d9-ad2d-2ba395e5a748",
   "metadata": {},
   "outputs": [
    {
     "name": "stdout",
     "output_type": "stream",
     "text": [
      "You meet the criteria.\n"
     ]
    }
   ],
   "source": [
    "age = 16\n",
    "height = 160\n",
    "\n",
    "if age >= 15:\n",
    "    if height >= 150:\n",
    "        print(\"You meet the criteria.\")\n",
    "    else:\n",
    "        print(\"You are not tall enough.\")\n",
    "else:\n",
    "    print(\"You are not old enough.\")"
   ]
  },
  {
   "cell_type": "markdown",
   "id": "3e673fff-1b39-4c3e-a603-160cee580bfb",
   "metadata": {},
   "source": [
    "- 1.Static type input: intital assgin by developer or code writer\r",
    "- 2.Ddymanic type input: inputs enter by use\r\n"
   ]
  },
  {
   "cell_type": "markdown",
   "id": "7d2b0c26-4694-4028-a072-be294fe22e1c",
   "metadata": {},
   "source": [
    "number = int(input(\"Enter your lucky number: \")) \n",
    "\n",
    "if number > 0:\n",
    "    print(\"your lucky number is Positive\")\n",
    "elif number < 0:\n",
    "    print(\"your lucky is negative\")\n",
    "else:\n",
    "    print(\"your lucky number is Zero\")"
   ]
  },
  {
   "cell_type": "code",
   "execution_count": null,
   "id": "e8bd304a-8ea7-4ee6-aad2-21d7ae205d77",
   "metadata": {},
   "outputs": [],
   "source": []
  }
 ],
 "metadata": {
  "kernelspec": {
   "display_name": "Python 3 (ipykernel)",
   "language": "python",
   "name": "python3"
  },
  "language_info": {
   "codemirror_mode": {
    "name": "ipython",
    "version": 3
   },
   "file_extension": ".py",
   "mimetype": "text/x-python",
   "name": "python",
   "nbconvert_exporter": "python",
   "pygments_lexer": "ipython3",
   "version": "3.12.4"
  }
 },
 "nbformat": 4,
 "nbformat_minor": 5
}
