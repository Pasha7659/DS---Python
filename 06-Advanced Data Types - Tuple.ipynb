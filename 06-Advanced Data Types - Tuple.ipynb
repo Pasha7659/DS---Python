{
 "cells": [
  {
   "cell_type": "markdown",
   "id": "13dcc932-6270-4d6f-ac2c-8d28979139d8",
   "metadata": {},
   "source": [
    "## Python Tuple"
   ]
  },
  {
   "cell_type": "markdown",
   "id": "31963124-c3a7-43cd-bb52-c119e873c894",
   "metadata": {},
   "source": [
    " - Tuples are used to store multiple items in a single variable.\n",
    " - A tuple is a data type that represents an orderd, immutable(unchangeable) sequence of elements.\n",
    " - Tuples are similar to Lists, but the key difference is that tuples cannot be modified once they are created\n",
    " - They are defined using parantheses ( ) and elements are seperated by commas (,).\n",
    "ets."
   ]
  },
  {
   "cell_type": "markdown",
   "id": "39eb1341-acfd-468a-9de0-e5c30a324cf3",
   "metadata": {},
   "source": [
    "### Features of Python Tuple"
   ]
  },
  {
   "cell_type": "markdown",
   "id": "9aa5c72b-1228-4591-bc44-779cfaf031d9",
   "metadata": {},
   "source": [
    " - Tuples are immutable data type, meaning their elements cannot be changed after they are generated.\n",
    " - Each element in a tuple has a specific order that will never change because tuples are orderd sequences."
   ]
  },
  {
   "cell_type": "markdown",
   "id": "57914470-f016-48c7-855b-942e4d1b47cc",
   "metadata": {},
   "source": [
    "### Creating a Tuple"
   ]
  },
  {
   "cell_type": "code",
   "execution_count": 1,
   "id": "d9e585e3-e27f-4a50-9dca-3a40467752f5",
   "metadata": {},
   "outputs": [],
   "source": [
    "empty_tuple = ()"
   ]
  },
  {
   "cell_type": "code",
   "execution_count": 3,
   "id": "8672e819-6481-41b9-9133-86796fa8b78c",
   "metadata": {},
   "outputs": [
    {
     "name": "stdout",
     "output_type": "stream",
     "text": [
      "('apple', 'banana', 'orange')\n",
      "<class 'tuple'>\n"
     ]
    }
   ],
   "source": [
    "fruits = (\"apple\", \"banana\", \"orange\")\n",
    "print(fruits)\n",
    "print(type(fruits))"
   ]
  },
  {
   "cell_type": "code",
   "execution_count": 4,
   "id": "1f5c8a55-9f5e-468f-8b87-b77eb81b881c",
   "metadata": {},
   "outputs": [
    {
     "data": {
      "text/plain": [
       "(1, 'apple', 3.14, True)"
      ]
     },
     "execution_count": 4,
     "metadata": {},
     "output_type": "execute_result"
    }
   ],
   "source": [
    "mixed_tuple = (1,\"apple\",3.14,True)\n",
    "mixed_tuple"
   ]
  },
  {
   "cell_type": "code",
   "execution_count": 5,
   "id": "e9c69163-38a4-44c3-afdc-097507d0a58f",
   "metadata": {},
   "outputs": [
    {
     "name": "stdout",
     "output_type": "stream",
     "text": [
      "<class 'tuple'>\n"
     ]
    }
   ],
   "source": [
    "single_element_tuple = (42,)\n",
    "print(type(single_element_tuple))"
   ]
  },
  {
   "cell_type": "code",
   "execution_count": 6,
   "id": "517c0a1d-db63-4cf8-922a-ab2d96024702",
   "metadata": {},
   "outputs": [],
   "source": [
    "single_element_tuple = 42"
   ]
  },
  {
   "cell_type": "markdown",
   "id": "576d91ea-1452-4706-ac03-21cb65ee0c5e",
   "metadata": {},
   "source": [
    "### Accessing of Tuples"
   ]
  },
  {
   "cell_type": "markdown",
   "id": "1882abe4-8735-4472-bdec-5f832fcb5b5d",
   "metadata": {},
   "source": [
    "Tuple supportn indexing and slicing, just like lists"
   ]
  },
  {
   "cell_type": "code",
   "execution_count": 10,
   "id": "1a061b58-b512-423e-bb11-debc62d9d2f7",
   "metadata": {},
   "outputs": [
    {
     "name": "stdout",
     "output_type": "stream",
     "text": [
      "apple\n",
      "('apple', 'banana', 'orange')\n"
     ]
    }
   ],
   "source": [
    "fruits = (\"apple\",\"banana\",\"orange\")\n",
    "print(fruits[0])\n",
    "print(fruits[0:7])"
   ]
  },
  {
   "cell_type": "code",
   "execution_count": 11,
   "id": "a6c1cd5a-e8b9-40fc-8b1b-280071b59a62",
   "metadata": {},
   "outputs": [
    {
     "name": "stdout",
     "output_type": "stream",
     "text": [
      "orange\n",
      "('apple', 'banana')\n"
     ]
    }
   ],
   "source": [
    "fruits = (\"apple\",\"banana\",\"orange\")\n",
    "print(fruits[-1])\n",
    "print(fruits[-3:-1])"
   ]
  },
  {
   "cell_type": "markdown",
   "id": "37260ea1-bb67-499b-a134-5bf0f9fdd7d9",
   "metadata": {},
   "source": [
    "### Immutability"
   ]
  },
  {
   "cell_type": "markdown",
   "id": "f61a6ee3-6167-446c-b1c9-b5be775953cb",
   "metadata": {},
   "source": [
    "Once a tuple is created, you cannot change its element or add/remove elements"
   ]
  },
  {
   "cell_type": "code",
   "execution_count": 12,
   "id": "53b5ca23-de95-4ec0-b2f6-0c4867ca04c8",
   "metadata": {},
   "outputs": [
    {
     "ename": "TypeError",
     "evalue": "'tuple' object does not support item assignment",
     "output_type": "error",
     "traceback": [
      "\u001b[1;31m---------------------------------------------------------------------------\u001b[0m",
      "\u001b[1;31mTypeError\u001b[0m                                 Traceback (most recent call last)",
      "Cell \u001b[1;32mIn[12], line 2\u001b[0m\n\u001b[0;32m      1\u001b[0m fruits \u001b[38;5;241m=\u001b[39m (\u001b[38;5;124m\"\u001b[39m\u001b[38;5;124mapple\u001b[39m\u001b[38;5;124m\"\u001b[39m,\u001b[38;5;124m\"\u001b[39m\u001b[38;5;124mbanana\u001b[39m\u001b[38;5;124m\"\u001b[39m,\u001b[38;5;124m\"\u001b[39m\u001b[38;5;124morange\u001b[39m\u001b[38;5;124m\"\u001b[39m)\n\u001b[1;32m----> 2\u001b[0m fruits[\u001b[38;5;241m2\u001b[39m] \u001b[38;5;241m=\u001b[39m \u001b[38;5;124m\"\u001b[39m\u001b[38;5;124mwater\u001b[39m\u001b[38;5;124m\"\u001b[39m\n\u001b[0;32m      3\u001b[0m fruits\n",
      "\u001b[1;31mTypeError\u001b[0m: 'tuple' object does not support item assignment"
     ]
    }
   ],
   "source": [
    "fruits = (\"apple\",\"banana\",\"orange\")\n",
    "fruits[2] = \"water\"\n",
    "fruits"
   ]
  },
  {
   "cell_type": "markdown",
   "id": "da98e17f-281c-42ee-88d4-0c37860d0b07",
   "metadata": {},
   "source": [
    "### Tuple Operations"
   ]
  },
  {
   "cell_type": "markdown",
   "id": "a115c56e-a20c-437a-8949-a4df4376954b",
   "metadata": {},
   "source": [
    " 1. Concatenation\n",
    " 2. Repetition"
   ]
  },
  {
   "cell_type": "code",
   "execution_count": 13,
   "id": "a8dab7cb-58da-4d82-be01-88f2365bd2f3",
   "metadata": {},
   "outputs": [
    {
     "name": "stdout",
     "output_type": "stream",
     "text": [
      "(1, 2, 3, 'a', 'b', 'c')\n"
     ]
    }
   ],
   "source": [
    "#1. Concatenation\n",
    "#Combing two tuples\n",
    "\n",
    "tuple1 = (1,2,3)\n",
    "tuple2 = ('a','b','c')\n",
    "result = tuple1 + tuple2\n",
    "print(result)"
   ]
  },
  {
   "cell_type": "code",
   "execution_count": 15,
   "id": "6c59cca0-f04e-43f3-a65d-0942a551cbc0",
   "metadata": {},
   "outputs": [
    {
     "name": "stdout",
     "output_type": "stream",
     "text": [
      "(1, 2, 3, 1, 2, 3, 1, 2, 3, 1, 2, 3, 1, 2, 3, 1, 2, 3, 1, 2, 3, 1, 2, 3, 1, 2, 3, 1, 2, 3, 1, 2, 3, 1, 2, 3, 1, 2, 3, 1, 2, 3, 1, 2, 3, 1, 2, 3, 1, 2, 3, 1, 2, 3, 1, 2, 3, 1, 2, 3)\n"
     ]
    }
   ],
   "source": [
    "#2. Repetition\n",
    "# Repeting a tuple\n",
    "\n",
    "tuple1 = (1,2,3)\n",
    "result = tuple1 * 20\n",
    "print(result)"
   ]
  },
  {
   "cell_type": "markdown",
   "id": "832660f6-fe7b-4e50-acaf-94ae35698820",
   "metadata": {},
   "source": [
    "#### Change Tuple Values"
   ]
  },
  {
   "cell_type": "markdown",
   "id": "86431a28-d1fd-4970-8f52-a5dcef5a2ee5",
   "metadata": {},
   "source": [
    "Once a tuple is created, you cannot change its values. Tuples are unchangeable, or immutable as it also is called.\r\n",
    "\r\n",
    "But there is a workaround. You can convert the tuple into a list, change the list, and convert the list back into a tuple."
   ]
  },
  {
   "cell_type": "code",
   "execution_count": 16,
   "id": "28c0ac45-622b-4421-9a5e-1cebc2f0c4b9",
   "metadata": {},
   "outputs": [
    {
     "name": "stdout",
     "output_type": "stream",
     "text": [
      "('apple', 'kiwi', 'cherry')\n"
     ]
    }
   ],
   "source": [
    "x = (\"apple\", \"banana\", \"cherry\")\n",
    "y = list(x)\n",
    "y[1] = \"kiwi\"\n",
    "x = tuple(y)\n",
    "\n",
    "print(x)"
   ]
  },
  {
   "cell_type": "markdown",
   "id": "5a5cb9b5-6955-41f1-b05d-d03650f8c17b",
   "metadata": {},
   "source": [
    "#### Add items\n"
   ]
  },
  {
   "cell_type": "markdown",
   "id": "39f072ca-f43a-4807-b7f0-28ed56ec5cb7",
   "metadata": {},
   "source": [
    "Since tuples are immutable, they do not have a built-in append() method, but there are other ways to add items to a tuple."
   ]
  },
  {
   "cell_type": "markdown",
   "id": "10cb204d-bff7-49e3-a80b-dde9b50380a0",
   "metadata": {},
   "source": [
    "1. Convert into a list: Just like the workaround for changing a tuple, you can convert it into a list, add your item(s), and convert it back into a tuple."
   ]
  },
  {
   "cell_type": "code",
   "execution_count": 2,
   "id": "b7f366b6-d361-4061-95d7-5252604e6b16",
   "metadata": {},
   "outputs": [
    {
     "name": "stdout",
     "output_type": "stream",
     "text": [
      "('apple', 'banana', 'cherry', 'orange')\n"
     ]
    }
   ],
   "source": [
    "thistuple = (\"apple\", \"banana\", \"cherry\")\n",
    "y = list(thistuple)\n",
    "y.append(\"orange\")\n",
    "thistuple = tuple(y)\n",
    "print(thistuple)"
   ]
  },
  {
   "cell_type": "markdown",
   "id": "40b0cb36-ca2d-4fc2-af80-6cc4ad8fb828",
   "metadata": {},
   "source": [
    "2. Add tuple to a tuple. You are allowed to add tuples to tuples, so if you want to add one item, (or many), create a new tuple with the item(s), and add it to the existing tuple:"
   ]
  },
  {
   "cell_type": "code",
   "execution_count": 18,
   "id": "bb296502-5b04-4296-b0ad-d81eb3884d56",
   "metadata": {},
   "outputs": [
    {
     "name": "stdout",
     "output_type": "stream",
     "text": [
      "('apple', 'banana', 'cherry', 'orange')\n"
     ]
    }
   ],
   "source": [
    "thistuple = (\"apple\", \"banana\", \"cherry\")\n",
    "y = (\"orange\",)\n",
    "thistuple += y\n",
    "\n",
    "print(thistuple)"
   ]
  },
  {
   "cell_type": "markdown",
   "id": "0fdeca79-4446-4bcb-9651-5decec961f12",
   "metadata": {},
   "source": [
    "#### Remove items"
   ]
  },
  {
   "cell_type": "markdown",
   "id": "ca79ee85-22b8-4d01-8ec1-978658c50b48",
   "metadata": {},
   "source": [
    "Tuples are unchangeable, so you cannot remove items from it, but you can use the same workaround as we used for changing and adding tuple items:"
   ]
  },
  {
   "cell_type": "code",
   "execution_count": 21,
   "id": "f5f0099c-e54f-4ff1-8a6f-c5b358e4d746",
   "metadata": {},
   "outputs": [
    {
     "name": "stdout",
     "output_type": "stream",
     "text": [
      "('banana', 'cherry')\n"
     ]
    }
   ],
   "source": [
    "thistuple = (\"apple\", \"banana\", \"cherry\")\n",
    "y = list(thistuple)\n",
    "y.remove(\"apple\")\n",
    "thistuple = tuple(y)\n",
    "\n",
    "print(thistuple)"
   ]
  },
  {
   "cell_type": "markdown",
   "id": "6ff671ae-2d02-4da1-9ed4-a07e9615d015",
   "metadata": {},
   "source": [
    "### Python - Tuple Methods"
   ]
  },
  {
   "cell_type": "markdown",
   "id": "2360e360-d998-4eb6-bf5c-6dffdd5495d4",
   "metadata": {},
   "source": [
    " - Python has two built-in methods that you can use on tuples.\n",
    " - Tuples have limited methods compared to list due to their immutability"
   ]
  },
  {
   "cell_type": "markdown",
   "id": "b21fd8e6-6a7b-45ef-ad1c-96ac068d7393",
   "metadata": {},
   "source": [
    "|   Method    |   Description   |\n",
    "|-------------|-----------------|\n",
    "|   count()          |     Returns the number of times a specified value occurs in a tuple   |\n",
    "|   index()          |     Searches the tuple for a specified value and returns the position of where it was found  |\n",
    "\n",
    "           \n",
    "\n",
    "    "
   ]
  },
  {
   "cell_type": "markdown",
   "id": "39ccaf61-e491-43af-85a0-53d8866ef15d",
   "metadata": {},
   "source": [
    "#### count( ):"
   ]
  },
  {
   "cell_type": "markdown",
   "id": "a6629888-87ae-4909-8756-3c5a0e65432b",
   "metadata": {},
   "source": [
    " - Returns the number of occurances of a specified value\n",
    " - The count() method returns the number of times a specified value appears in the tuple.\r\n"
   ]
  },
  {
   "cell_type": "markdown",
   "id": "6ba0ddd8-ab9d-4896-9dd7-f785a65c44be",
   "metadata": {},
   "source": [
    "#### Syntax\n",
    "\n",
    "tuple.count(value)"
   ]
  },
  {
   "cell_type": "code",
   "execution_count": 23,
   "id": "1807a428-d13c-4fcf-ba6a-ef4a77bf1360",
   "metadata": {},
   "outputs": [
    {
     "name": "stdout",
     "output_type": "stream",
     "text": [
      "2\n"
     ]
    }
   ],
   "source": [
    "thistuple = (1, 3, 7, 8, 7, 5, 4, 6, 8, 5)\n",
    "\n",
    "x = thistuple.count(5)\n",
    "\n",
    "print(x)"
   ]
  },
  {
   "cell_type": "code",
   "execution_count": 24,
   "id": "325cbc41-0fbd-4abc-bd73-11b5f5027e13",
   "metadata": {},
   "outputs": [
    {
     "name": "stdout",
     "output_type": "stream",
     "text": [
      "3\n"
     ]
    }
   ],
   "source": [
    "numbers = (1,2,2,3,4,2,4,2,9,4,8,2,9,7,6,7,2)\n",
    "count_of_2 = numbers.count(4)\n",
    "print(count_of_2)"
   ]
  },
  {
   "cell_type": "code",
   "execution_count": 27,
   "id": "dd3ee094-ddbb-4d2b-b215-61ad22c51955",
   "metadata": {},
   "outputs": [
    {
     "name": "stdout",
     "output_type": "stream",
     "text": [
      "2\n"
     ]
    }
   ],
   "source": [
    "string_tuple = ('apple', 'banana', 'apple', 'cherry')\n",
    "count_of_apple = string_tuple.count('apple')\n",
    "print(count_of_apple)"
   ]
  },
  {
   "cell_type": "code",
   "execution_count": 28,
   "id": "3d5d8827-c8d8-429b-bdc5-a3d71edbfc3b",
   "metadata": {},
   "outputs": [
    {
     "name": "stdout",
     "output_type": "stream",
     "text": [
      "0\n"
     ]
    }
   ],
   "source": [
    "my_tuple = (1, 2, 3, 4)\n",
    "count_of_5 = my_tuple.count(5)\n",
    "print(count_of_5)"
   ]
  },
  {
   "cell_type": "markdown",
   "id": "df9ca9ef-3e67-4685-9504-be7eb47f4ace",
   "metadata": {},
   "source": [
    "#### index( ):"
   ]
  },
  {
   "cell_type": "markdown",
   "id": "08a0c833-3059-47d7-8055-456368118189",
   "metadata": {},
   "source": [
    " - The index() method finds the first occurrence of the specified value.\n",
    " - The index() method raises an exception if the value is not found.\n",
    " - Returns the index of the first occurance of a specified value.\r\n",
    "\r\n"
   ]
  },
  {
   "cell_type": "markdown",
   "id": "9db229d4-5df7-4bd7-9da6-700456020ee6",
   "metadata": {},
   "source": [
    "#### Syntax\r\n",
    "tuple.index(value)"
   ]
  },
  {
   "cell_type": "code",
   "execution_count": 25,
   "id": "3d7d19bc-d8eb-42e7-9130-9544b9bd00d3",
   "metadata": {},
   "outputs": [
    {
     "name": "stdout",
     "output_type": "stream",
     "text": [
      "3\n"
     ]
    }
   ],
   "source": [
    "thistuple = (1, 3, 7, 8, 7, 5, 4, 6, 8, 5)\n",
    "\n",
    "x = thistuple.index(8)\n",
    "\n",
    "print(x)"
   ]
  },
  {
   "cell_type": "code",
   "execution_count": 26,
   "id": "9e3c0949-aee5-4efb-a183-78daa04aa961",
   "metadata": {},
   "outputs": [
    {
     "name": "stdout",
     "output_type": "stream",
     "text": [
      "6\n"
     ]
    }
   ],
   "source": [
    "numbers = (1,2,5,3,4,5,7)\n",
    "index_of_3 = numbers.index(7)\n",
    "print(index_of_3)"
   ]
  },
  {
   "cell_type": "code",
   "execution_count": null,
   "id": "200dd1d2-d738-4e7d-82e0-b04cbe1f0ca1",
   "metadata": {},
   "outputs": [],
   "source": []
  }
 ],
 "metadata": {
  "kernelspec": {
   "display_name": "Python 3 (ipykernel)",
   "language": "python",
   "name": "python3"
  },
  "language_info": {
   "codemirror_mode": {
    "name": "ipython",
    "version": 3
   },
   "file_extension": ".py",
   "mimetype": "text/x-python",
   "name": "python",
   "nbconvert_exporter": "python",
   "pygments_lexer": "ipython3",
   "version": "3.12.4"
  }
 },
 "nbformat": 4,
 "nbformat_minor": 5
}
