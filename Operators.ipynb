{
 "cells": [
  {
   "cell_type": "markdown",
   "id": "53ef6251-7e59-401f-8993-9b2efd1abc1d",
   "metadata": {},
   "source": [
    "# Operators"
   ]
  },
  {
   "cell_type": "markdown",
   "id": "7bb40a26-e80c-4862-a522-19e2bf1c19cc",
   "metadata": {},
   "source": [
    "- Operations are used to Perform a Opreation Between Variables"
   ]
  },
  {
   "cell_type": "markdown",
   "id": "14073bbd-44a6-4738-b93a-de59e43a6f0b",
   "metadata": {},
   "source": [
    "## Types of Operators"
   ]
  },
  {
   "cell_type": "markdown",
   "id": "5d2b464c-46ff-4766-aeb2-b1856fb1ff29",
   "metadata": {},
   "source": [
    "- Thera are Seven Types of Operators"
   ]
  },
  {
   "cell_type": "markdown",
   "id": "3938bf70-70c3-4067-9883-25aeb0646e18",
   "metadata": {},
   "source": [
    "- Arthamatic Operator\n",
    "- Comparassion Operator\n",
    "- Assignment Operator\n",
    "- Logical Operator\n",
    "- Identity Operator\n",
    "- Membership Operator\n",
    "- Bitwise Operator"
   ]
  },
  {
   "cell_type": "markdown",
   "id": "fc5f9169-f4f9-4f73-9bc3-d19e84301682",
   "metadata": {},
   "source": [
    "### Arthamatic Operators"
   ]
  },
  {
   "cell_type": "markdown",
   "id": "c47f42a8-fd7b-45c6-94fb-b59c5efa6edb",
   "metadata": {},
   "source": [
    "- Addition(+)\n",
    "- Subtraction(-)\n",
    "- Multiplication(*)\n",
    "- Division(/)\n",
    "- Modulardivision(%)\n",
    "- Exponential(**)\n",
    "- Float Division(//)\n"
   ]
  },
  {
   "cell_type": "markdown",
   "id": "7af4407f-6c2b-496e-9e81-934bcac647a0",
   "metadata": {},
   "source": [
    "### Examples of Arthamatic Operations"
   ]
  },
  {
   "cell_type": "code",
   "execution_count": 47,
   "id": "b8fff030-3115-453f-8bca-67beae9ac3b8",
   "metadata": {},
   "outputs": [
    {
     "name": "stdout",
     "output_type": "stream",
     "text": [
      "68\n"
     ]
    }
   ],
   "source": [
    "a=60\n",
    "b=8\n",
    "c=a+b\n",
    "print(c)"
   ]
  },
  {
   "cell_type": "code",
   "execution_count": 62,
   "id": "b238655c-db20-4933-81dc-44324f1d5fc8",
   "metadata": {},
   "outputs": [
    {
     "name": "stdout",
     "output_type": "stream",
     "text": [
      "-696.44\n"
     ]
    }
   ],
   "source": [
    "i=89.56\n",
    "j=-786\n",
    "k=i+j\n",
    "print(k)"
   ]
  },
  {
   "cell_type": "code",
   "execution_count": 64,
   "id": "475455dd-0d37-40c0-8b6f-fb66020621cd",
   "metadata": {},
   "outputs": [
    {
     "name": "stdout",
     "output_type": "stream",
     "text": [
      "-12\n"
     ]
    }
   ],
   "source": [
    "m=78\n",
    "n=90\n",
    "o=m-n\n",
    "print(o)"
   ]
  },
  {
   "cell_type": "code",
   "execution_count": 66,
   "id": "20ee185f-0d73-4b87-a9c7-07d8211adc37",
   "metadata": {},
   "outputs": [
    {
     "name": "stdout",
     "output_type": "stream",
     "text": [
      "23.1\n"
     ]
    }
   ],
   "source": [
    "s=24\n",
    "w=0.9\n",
    "h=s-w\n",
    "print(h)"
   ]
  },
  {
   "cell_type": "code",
   "execution_count": 68,
   "id": "85f2be2f-083f-4d33-9bca-a752bc7d8d59",
   "metadata": {},
   "outputs": [
    {
     "name": "stdout",
     "output_type": "stream",
     "text": [
      "4410\n"
     ]
    }
   ],
   "source": [
    "k=45\n",
    "h=98\n",
    "b=k*h\n",
    "print(b)"
   ]
  },
  {
   "cell_type": "code",
   "execution_count": 70,
   "id": "26e175f5-cd74-40f0-b2e6-02d00fbc71a8",
   "metadata": {},
   "outputs": [
    {
     "name": "stdout",
     "output_type": "stream",
     "text": [
      "32.666666666666664\n"
     ]
    }
   ],
   "source": [
    "p=98\n",
    "q=3\n",
    "f=p/q\n",
    "print(f)"
   ]
  },
  {
   "cell_type": "code",
   "execution_count": 72,
   "id": "cf4d7806-7300-40de-9b11-05a19aa6f288",
   "metadata": {},
   "outputs": [
    {
     "name": "stdout",
     "output_type": "stream",
     "text": [
      "25\n"
     ]
    }
   ],
   "source": [
    "r=90\n",
    "w=65\n",
    "u=r%w\n",
    "print(u)"
   ]
  },
  {
   "cell_type": "code",
   "execution_count": 78,
   "id": "87e48342-5b50-4ac2-9a21-00796b4a3a88",
   "metadata": {},
   "outputs": [
    {
     "name": "stdout",
     "output_type": "stream",
     "text": [
      "79164324866862966607842406018063254671922245312646690223362402918484170424104310169552592050323456\n"
     ]
    }
   ],
   "source": [
    "w=56\n",
    "o=56\n",
    "e=w**o\n",
    "print(e)"
   ]
  },
  {
   "cell_type": "code",
   "execution_count": 84,
   "id": "347e6dd7-fb0e-48c1-8b5a-e2e666686ef8",
   "metadata": {},
   "outputs": [
    {
     "name": "stdout",
     "output_type": "stream",
     "text": [
      "2333\n"
     ]
    }
   ],
   "source": [
    "g=7000\n",
    "k=3\n",
    "p=g//k\n",
    "print(p)"
   ]
  },
  {
   "cell_type": "markdown",
   "id": "a2c876cc-1b53-4a82-aafe-deb203c87ca4",
   "metadata": {},
   "source": [
    "### Comparission Operators"
   ]
  },
  {
   "cell_type": "code",
   "execution_count": 89,
   "id": "049e0f12-143f-4c69-bad2-a4dcacca37d4",
   "metadata": {},
   "outputs": [
    {
     "name": "stdout",
     "output_type": "stream",
     "text": [
      "False\n"
     ]
    }
   ],
   "source": [
    "f=52\n",
    "j=63\n",
    "p=f==j\n",
    "print(p)"
   ]
  },
  {
   "cell_type": "code",
   "execution_count": 97,
   "id": "3c79a1c8-9c7b-4708-9e24-358eff6941a8",
   "metadata": {},
   "outputs": [
    {
     "name": "stdout",
     "output_type": "stream",
     "text": [
      "True\n"
     ]
    }
   ],
   "source": [
    "g=90\n",
    "l=90\n",
    "m=g==l\n",
    "print(m)"
   ]
  },
  {
   "cell_type": "code",
   "execution_count": 99,
   "id": "b3b5b1b0-568e-4876-8301-697d13dd9fc1",
   "metadata": {},
   "outputs": [
    {
     "name": "stdout",
     "output_type": "stream",
     "text": [
      "True\n"
     ]
    }
   ],
   "source": [
    "n=52\n",
    "f=36\n",
    "o=n!=f\n",
    "print(o)"
   ]
  },
  {
   "cell_type": "code",
   "execution_count": 101,
   "id": "7ffce084-dc0a-4ec3-b4dc-2df294c773dc",
   "metadata": {},
   "outputs": [
    {
     "name": "stdout",
     "output_type": "stream",
     "text": [
      "True\n"
     ]
    }
   ],
   "source": [
    "x=5102\n",
    "y=63215\n",
    "z=x<y\n",
    "print(z)"
   ]
  },
  {
   "cell_type": "code",
   "execution_count": 105,
   "id": "5e8f06d6-70ea-4441-b024-0871f57b082d",
   "metadata": {},
   "outputs": [
    {
     "name": "stdout",
     "output_type": "stream",
     "text": [
      "True\n"
     ]
    }
   ],
   "source": [
    "v=67\n",
    "b=9\n",
    "m=v>b\n",
    "print(m)"
   ]
  },
  {
   "cell_type": "code",
   "execution_count": 107,
   "id": "2628880f-c0cf-4365-ae9a-fc236068b955",
   "metadata": {},
   "outputs": [
    {
     "name": "stdout",
     "output_type": "stream",
     "text": [
      "True\n"
     ]
    }
   ],
   "source": [
    "w=334\n",
    "u=678\n",
    "v=w<=u\n",
    "print(v)"
   ]
  },
  {
   "cell_type": "code",
   "execution_count": 109,
   "id": "45ff1fc2-75f3-4b4b-aded-26d7f3119cf9",
   "metadata": {},
   "outputs": [
    {
     "name": "stdout",
     "output_type": "stream",
     "text": [
      "False\n"
     ]
    }
   ],
   "source": [
    "c=56\n",
    "d=98\n",
    "e=c>=d\n",
    "print(e)"
   ]
  },
  {
   "cell_type": "markdown",
   "id": "ff125cf7-c079-4981-b984-1399be5d62ba",
   "metadata": {},
   "source": [
    "### Assignment Operators"
   ]
  },
  {
   "cell_type": "code",
   "execution_count": 114,
   "id": "ca75fa1a-b5f4-4886-bb90-5eea9233c975",
   "metadata": {},
   "outputs": [
    {
     "name": "stdout",
     "output_type": "stream",
     "text": [
      "30\n"
     ]
    }
   ],
   "source": [
    "a=20\n",
    "b=30\n",
    "c=a=b\n",
    "print(c)"
   ]
  },
  {
   "cell_type": "code",
   "execution_count": 116,
   "id": "549fe42f-7f45-4b11-9433-62e849206869",
   "metadata": {},
   "outputs": [
    {
     "name": "stdout",
     "output_type": "stream",
     "text": [
      "34\n"
     ]
    }
   ],
   "source": [
    "j=34\n",
    "k=89\n",
    "l=k=j\n",
    "print(l)"
   ]
  },
  {
   "cell_type": "code",
   "execution_count": 122,
   "id": "9db55a5c-9986-4c52-b380-abacb3f893e0",
   "metadata": {},
   "outputs": [
    {
     "name": "stdout",
     "output_type": "stream",
     "text": [
      "130\n"
     ]
    }
   ],
   "source": [
    "a=76\n",
    "b=54\n",
    "a+=b\n",
    "print(a)"
   ]
  },
  {
   "cell_type": "code",
   "execution_count": 124,
   "id": "aaada700-3387-40a2-903b-b28c0c9f1824",
   "metadata": {},
   "outputs": [
    {
     "name": "stdout",
     "output_type": "stream",
     "text": [
      "52\n"
     ]
    }
   ],
   "source": [
    "s=52\n",
    "l=20\n",
    "l-=s\n",
    "print(s)"
   ]
  },
  {
   "cell_type": "code",
   "execution_count": 128,
   "id": "72658e91-4fdd-412c-a668-bf8fbdbddde8",
   "metadata": {},
   "outputs": [
    {
     "name": "stdout",
     "output_type": "stream",
     "text": [
      "2496\n"
     ]
    }
   ],
   "source": [
    "k=32\n",
    "q=78\n",
    "q*=k\n",
    "print(q)"
   ]
  },
  {
   "cell_type": "code",
   "execution_count": 130,
   "id": "6530c366-a806-4b02-8e16-9228014ee6a7",
   "metadata": {},
   "outputs": [
    {
     "name": "stdout",
     "output_type": "stream",
     "text": [
      "2.5625\n"
     ]
    }
   ],
   "source": [
    "u=82\n",
    "v=32\n",
    "u/=v\n",
    "print(u)"
   ]
  },
  {
   "cell_type": "code",
   "execution_count": 134,
   "id": "2e93ff4c-ca16-4e99-92a3-e01313330f3c",
   "metadata": {},
   "outputs": [
    {
     "name": "stdout",
     "output_type": "stream",
     "text": [
      "69\n"
     ]
    }
   ],
   "source": [
    "z=69\n",
    "k=895623\n",
    "z%=k\n",
    "print(z)"
   ]
  },
  {
   "cell_type": "code",
   "execution_count": 138,
   "id": "3e93b4b2-a1b9-4477-bbc3-87d4a53693cd",
   "metadata": {},
   "outputs": [
    {
     "name": "stdout",
     "output_type": "stream",
     "text": [
      "224604376557240176724954291658161019436102329547361666153281892512180688952761776309595778311854782093156935949421598143686559734758243655745536\n"
     ]
    }
   ],
   "source": [
    "a=56\n",
    "b=82\n",
    "a**=b \n",
    "print(a)"
   ]
  },
  {
   "cell_type": "markdown",
   "id": "a53df58a-4aa4-41da-91aa-e27f8ee4c714",
   "metadata": {},
   "source": [
    "### Logical Operators"
   ]
  },
  {
   "cell_type": "code",
   "execution_count": 144,
   "id": "65eaa02f-a713-4e16-b6a4-9490441b828c",
   "metadata": {},
   "outputs": [
    {
     "name": "stdout",
     "output_type": "stream",
     "text": [
      "True\n"
     ]
    }
   ],
   "source": [
    "i=56<76 and 85>45\n",
    "print(i)"
   ]
  },
  {
   "cell_type": "code",
   "execution_count": 146,
   "id": "2513a4b6-a50f-423d-9244-10b23cfb2b82",
   "metadata": {},
   "outputs": [
    {
     "name": "stdout",
     "output_type": "stream",
     "text": [
      "False\n"
     ]
    }
   ],
   "source": [
    "k=45<9 and 89<98\n",
    "print(k)"
   ]
  },
  {
   "cell_type": "code",
   "execution_count": 154,
   "id": "b25014c2-7b12-44e1-ae2a-49ef8312e7ba",
   "metadata": {},
   "outputs": [
    {
     "name": "stdout",
     "output_type": "stream",
     "text": [
      "False\n"
     ]
    }
   ],
   "source": [
    "o=( 56==98 and 56==9)\n",
    "print(o)"
   ]
  },
  {
   "cell_type": "code",
   "execution_count": 158,
   "id": "e6ffaeb0-cf6f-42ad-af3c-4fa0a6b4114a",
   "metadata": {},
   "outputs": [
    {
     "name": "stdout",
     "output_type": "stream",
     "text": [
      "True\n"
     ]
    }
   ],
   "source": [
    "b=67<54 or 352<556\n",
    "print(b)"
   ]
  },
  {
   "cell_type": "code",
   "execution_count": 162,
   "id": "d542c6e6-4150-42db-beea-7a6712b92bd0",
   "metadata": {},
   "outputs": [
    {
     "name": "stdout",
     "output_type": "stream",
     "text": [
      "False\n"
     ]
    }
   ],
   "source": [
    "c=56<9 or 98<10\n",
    "print(c)"
   ]
  },
  {
   "cell_type": "code",
   "execution_count": 164,
   "id": "bac2fc4b-792e-4c6a-8235-1f1b7ddc4386",
   "metadata": {},
   "outputs": [
    {
     "name": "stdout",
     "output_type": "stream",
     "text": [
      "True\n"
     ]
    }
   ],
   "source": [
    "g=20==89 or 89==89\n",
    "print(g)"
   ]
  },
  {
   "cell_type": "code",
   "execution_count": 166,
   "id": "dbe3453c-e9ec-4c9c-9c8d-89bd2cb7df1b",
   "metadata": {},
   "outputs": [
    {
     "name": "stdout",
     "output_type": "stream",
     "text": [
      "False\n"
     ]
    }
   ],
   "source": [
    "k=not(52<65)\n",
    "print(k)"
   ]
  },
  {
   "cell_type": "code",
   "execution_count": 168,
   "id": "f8631b17-ac9c-4084-88e2-ef2ca5867d71",
   "metadata": {},
   "outputs": [
    {
     "name": "stdout",
     "output_type": "stream",
     "text": [
      "True\n"
     ]
    }
   ],
   "source": [
    "n=not(5>9 and 0<5)\n",
    "print(n)"
   ]
  },
  {
   "cell_type": "code",
   "execution_count": 170,
   "id": "bab4e664-584e-45b4-a3e8-5d904c31dd2f",
   "metadata": {},
   "outputs": [
    {
     "name": "stdout",
     "output_type": "stream",
     "text": [
      "True\n"
     ]
    }
   ],
   "source": [
    "s=not(98<79 or 23==54)\n",
    "print(s)"
   ]
  },
  {
   "cell_type": "markdown",
   "id": "3c37d735-bfb9-4596-b1f3-02253571910c",
   "metadata": {},
   "source": [
    "## Identity Operator"
   ]
  },
  {
   "cell_type": "markdown",
   "id": "48a922a7-087e-43ed-8cbc-444da37e9fa9",
   "metadata": {},
   "source": [
    "- To Identify the value (or) Variable Present are Not in a given Condition\n",
    "- they are classified in to two\n",
    "- IS\n",
    "- IS NOT"
   ]
  },
  {
   "cell_type": "markdown",
   "id": "295c90ed-707b-4d23-aaf0-0e03d5748cae",
   "metadata": {},
   "source": [
    "- IS is used for the Given Value is present in the condition then it shows output as Truue.\n",
    "- IS NOT is used for the given value is not present in the condition then ir shows output as False."
   ]
  },
  {
   "cell_type": "markdown",
   "id": "ca65f1c4-999b-443d-a148-594669f6da83",
   "metadata": {},
   "source": [
    "### Examples"
   ]
  },
  {
   "cell_type": "code",
   "execution_count": 7,
   "id": "bc1dfd94-6560-47f4-a965-0e2b47378dc6",
   "metadata": {},
   "outputs": [
    {
     "name": "stdout",
     "output_type": "stream",
     "text": [
      "False\n"
     ]
    }
   ],
   "source": [
    "p=62\n",
    "q=52\n",
    "print(p is q)"
   ]
  },
  {
   "cell_type": "code",
   "execution_count": 9,
   "id": "cb056858-33fd-44dc-8776-437ce84e6f91",
   "metadata": {},
   "outputs": [
    {
     "name": "stdout",
     "output_type": "stream",
     "text": [
      "False\n"
     ]
    }
   ],
   "source": [
    "o=25\n",
    "p=36\n",
    "print(p is o)"
   ]
  },
  {
   "cell_type": "code",
   "execution_count": 11,
   "id": "6c8ea7a7-2071-4e9a-a9b1-5ec153536d72",
   "metadata": {},
   "outputs": [
    {
     "name": "stdout",
     "output_type": "stream",
     "text": [
      "False\n"
     ]
    }
   ],
   "source": [
    "u=-552\n",
    "m=552\n",
    "print(u is m)"
   ]
  },
  {
   "cell_type": "code",
   "execution_count": 41,
   "id": "dff570b0-717b-4072-8db5-bb4afa0a3951",
   "metadata": {},
   "outputs": [
    {
     "name": "stdout",
     "output_type": "stream",
     "text": [
      "True\n"
     ]
    }
   ],
   "source": [
    "f=42\n",
    "g=42\n",
    "print(g is f)"
   ]
  },
  {
   "cell_type": "code",
   "execution_count": 86,
   "id": "b1ab07f1-366a-4a50-90b9-2f3c3a4a3796",
   "metadata": {},
   "outputs": [
    {
     "name": "stdout",
     "output_type": "stream",
     "text": [
      "False\n"
     ]
    }
   ],
   "source": [
    "m=444\n",
    "p=444\n",
    "print(m is p)"
   ]
  },
  {
   "cell_type": "code",
   "execution_count": 53,
   "id": "dc40d033-e218-4729-ae88-d2aa372c7fe3",
   "metadata": {},
   "outputs": [
    {
     "name": "stdout",
     "output_type": "stream",
     "text": [
      "True\n"
     ]
    }
   ],
   "source": [
    "g=520\n",
    "l=5320\n",
    "print(g is not l)"
   ]
  },
  {
   "cell_type": "code",
   "execution_count": 57,
   "id": "7efbb401-d0c6-4727-bf9c-dc2fcf898746",
   "metadata": {},
   "outputs": [
    {
     "name": "stdout",
     "output_type": "stream",
     "text": [
      "True\n"
     ]
    }
   ],
   "source": [
    "h=200\n",
    "i=200\n",
    "print(h is  i)"
   ]
  },
  {
   "cell_type": "markdown",
   "id": "1ca5c6ce-e141-46b5-adcd-a9d3db84c0df",
   "metadata": {},
   "source": [
    "## Membership "
   ]
  },
  {
   "cell_type": "markdown",
   "id": "c20faaa3-3a93-4e93-8d7b-42d426a6f3e2",
   "metadata": {},
   "source": [
    "- To Identify the Value is Present in a Particular Sequence.\n",
    "- IN\n",
    "- NOT IN"
   ]
  },
  {
   "cell_type": "markdown",
   "id": "5a56d4ac-0837-4b96-8be6-0310e2a2e3c1",
   "metadata": {},
   "source": [
    "### Examples"
   ]
  },
  {
   "cell_type": "code",
   "execution_count": 98,
   "id": "3060308d-7b13-4655-8cc7-d369e1bf58a1",
   "metadata": {},
   "outputs": [
    {
     "name": "stdout",
     "output_type": "stream",
     "text": [
      "True\n"
     ]
    }
   ],
   "source": [
    "Name=\"Pasha\"\n",
    "print('a' in Name)"
   ]
  },
  {
   "cell_type": "code",
   "execution_count": 100,
   "id": "a09b537c-4e68-490d-9fda-3f3de7fa7692",
   "metadata": {},
   "outputs": [
    {
     "name": "stdout",
     "output_type": "stream",
     "text": [
      "True\n"
     ]
    }
   ],
   "source": [
    "print('h' in Name)"
   ]
  },
  {
   "cell_type": "code",
   "execution_count": 102,
   "id": "fc5696ac-4a96-417d-8d0f-27ecf4a55aa8",
   "metadata": {},
   "outputs": [
    {
     "name": "stdout",
     "output_type": "stream",
     "text": [
      "False\n"
     ]
    }
   ],
   "source": [
    "print('b' in Name)"
   ]
  },
  {
   "cell_type": "code",
   "execution_count": 116,
   "id": "c2a1c305-d0b1-4949-aa41-f8095425deb6",
   "metadata": {},
   "outputs": [
    {
     "name": "stdout",
     "output_type": "stream",
     "text": [
      "True\n"
     ]
    }
   ],
   "source": [
    "int=[2,3,3,5,9,8,1,-582,+66,-7]\n",
    "print(3 in int)"
   ]
  },
  {
   "cell_type": "code",
   "execution_count": 118,
   "id": "be88eb14-a15e-4daf-8cd5-8013f7726751",
   "metadata": {},
   "outputs": [
    {
     "name": "stdout",
     "output_type": "stream",
     "text": [
      "True\n"
     ]
    }
   ],
   "source": [
    "print(2 in int)"
   ]
  },
  {
   "cell_type": "code",
   "execution_count": 120,
   "id": "45d4e08d-5b93-4902-9efe-f14dc835b97c",
   "metadata": {},
   "outputs": [
    {
     "name": "stdout",
     "output_type": "stream",
     "text": [
      "False\n"
     ]
    }
   ],
   "source": [
    "print(9 not in int)"
   ]
  },
  {
   "cell_type": "code",
   "execution_count": 122,
   "id": "153b1e18-4e48-4503-88a6-53b50c4aa749",
   "metadata": {},
   "outputs": [
    {
     "name": "stdout",
     "output_type": "stream",
     "text": [
      "False\n"
     ]
    }
   ],
   "source": [
    "print(0 in int)"
   ]
  },
  {
   "cell_type": "code",
   "execution_count": 124,
   "id": "d7c56de8-a8dd-4324-a5d0-50b2a25c48d4",
   "metadata": {},
   "outputs": [
    {
     "name": "stdout",
     "output_type": "stream",
     "text": [
      "True\n"
     ]
    }
   ],
   "source": [
    "print(-7 in int)"
   ]
  },
  {
   "cell_type": "code",
   "execution_count": 126,
   "id": "98e940c5-a279-4f60-b01e-ac8b4afbdfac",
   "metadata": {},
   "outputs": [
    {
     "name": "stdout",
     "output_type": "stream",
     "text": [
      "True\n"
     ]
    }
   ],
   "source": [
    "print(582 not in int)"
   ]
  },
  {
   "cell_type": "code",
   "execution_count": null,
   "id": "0a1e9cae-3ff6-4379-a417-b69a377995c9",
   "metadata": {},
   "outputs": [],
   "source": []
  }
 ],
 "metadata": {
  "kernelspec": {
   "display_name": "Python 3 (ipykernel)",
   "language": "python",
   "name": "python3"
  },
  "language_info": {
   "codemirror_mode": {
    "name": "ipython",
    "version": 3
   },
   "file_extension": ".py",
   "mimetype": "text/x-python",
   "name": "python",
   "nbconvert_exporter": "python",
   "pygments_lexer": "ipython3",
   "version": "3.12.4"
  }
 },
 "nbformat": 4,
 "nbformat_minor": 5
}
