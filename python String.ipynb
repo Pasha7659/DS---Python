{
 "cells": [
  {
   "cell_type": "markdown",
   "id": "eb71a536-c04d-4f5d-9cfe-041d2d7d4ed5",
   "metadata": {},
   "source": [
    "## About String"
   ]
  },
  {
   "cell_type": "markdown",
   "id": "11cb5d21-ebc5-4850-b7ba-bc7940f13a07",
   "metadata": {},
   "source": [
    "- Combination of Group of Characters is called String\n",
    "- It is represented by ' ',\" \",\"' \"' Quotetains.\n",
    "- It is Mutable(Changeable)"
   ]
  },
  {
   "cell_type": "markdown",
   "id": "1f874e7e-85d6-4aba-908f-f5e7e1487c64",
   "metadata": {},
   "source": [
    "### Example"
   ]
  },
  {
   "cell_type": "code",
   "execution_count": 4,
   "id": "679a2641-f2b2-4374-9a2e-323e347c2f38",
   "metadata": {},
   "outputs": [
    {
     "name": "stdout",
     "output_type": "stream",
     "text": [
      "pasha\n"
     ]
    }
   ],
   "source": [
    "str='pasha'\n",
    "print(str)"
   ]
  },
  {
   "cell_type": "code",
   "execution_count": 54,
   "id": "8be8acda-49dc-40b1-b6d1-90c1746296fe",
   "metadata": {},
   "outputs": [
    {
     "name": "stdout",
     "output_type": "stream",
     "text": [
      "PASH\n"
     ]
    }
   ],
   "source": [
    "str=\"PASH\"\n",
    "print(str)"
   ]
  },
  {
   "cell_type": "markdown",
   "id": "b9fd9d53-2189-49c8-9122-e5f8893006c0",
   "metadata": {},
   "source": [
    "## String Operators"
   ]
  },
  {
   "cell_type": "markdown",
   "id": "8a2cbfab-9c1b-4ac1-a3f2-81fd068f81dd",
   "metadata": {},
   "source": [
    "### Concatenation"
   ]
  },
  {
   "cell_type": "markdown",
   "id": "d16eaff2-8e08-4f8f-a4a9-5aba6656711e",
   "metadata": {},
   "source": [
    "- It is used for Adding of string"
   ]
  },
  {
   "cell_type": "markdown",
   "id": "df020e2a-7371-4431-ad76-4bba60580b63",
   "metadata": {},
   "source": [
    "### Example"
   ]
  },
  {
   "cell_type": "code",
   "execution_count": 12,
   "id": "cdbbec32-9a1b-4043-8b5a-d48c71d965a2",
   "metadata": {},
   "outputs": [
    {
     "name": "stdout",
     "output_type": "stream",
     "text": [
      "Name PASHA\n"
     ]
    }
   ],
   "source": [
    "str1=\"Name\"\n",
    "str2=\"PASHA\"\n",
    "out=str1+\" \"+str2\n",
    "print(out)\n"
   ]
  },
  {
   "cell_type": "code",
   "execution_count": 14,
   "id": "1ae0b6cb-8172-47da-9a09-05b4c6c34121",
   "metadata": {},
   "outputs": [
    {
     "name": "stdout",
     "output_type": "stream",
     "text": [
      "NamePASHA\n"
     ]
    }
   ],
   "source": [
    "str1=\"Name\"\n",
    "str2=\"PASHA\"\n",
    "out=str1+str2\n",
    "print(out)"
   ]
  },
  {
   "cell_type": "markdown",
   "id": "cfafc707-2425-4957-98f9-d0043bd12973",
   "metadata": {},
   "source": [
    "## Repetition"
   ]
  },
  {
   "cell_type": "markdown",
   "id": "bec15faf-1adb-4f89-8fba-118b98d856af",
   "metadata": {},
   "source": [
    "- It is used for Multipication"
   ]
  },
  {
   "cell_type": "markdown",
   "id": "6517704b-314d-42b9-9ff2-708878f02904",
   "metadata": {},
   "source": [
    "### Example"
   ]
  },
  {
   "cell_type": "code",
   "execution_count": 49,
   "id": "18a9fccd-4556-4ee9-9dd3-12a660d793fe",
   "metadata": {},
   "outputs": [
    {
     "name": "stdout",
     "output_type": "stream",
     "text": [
      "Name Pasha.\n",
      "Name Pasha.\n",
      "Name Pasha.\n",
      "Name Pasha.\n",
      "Name Pasha.\n",
      "\n"
     ]
    }
   ],
   "source": [
    "name=\"Name Pasha.\\n\"\n",
    "out=name*5\n",
    "print(out)"
   ]
  },
  {
   "cell_type": "code",
   "execution_count": 51,
   "id": "6502fcf8-f5d6-40c3-869f-fbd57d3b8239",
   "metadata": {},
   "outputs": [
    {
     "name": "stdout",
     "output_type": "stream",
     "text": [
      "Data ScienceData ScienceData ScienceData ScienceData ScienceData ScienceData ScienceData ScienceData ScienceData ScienceData ScienceData ScienceData ScienceData ScienceData ScienceData ScienceData ScienceData ScienceData ScienceData Science\n"
     ]
    }
   ],
   "source": [
    "str=\"Data Science\"\n",
    "out=str*20\n",
    "print(out)\n"
   ]
  },
  {
   "cell_type": "markdown",
   "id": "c574448f-b3d0-4026-91a3-02ff53a3babd",
   "metadata": {},
   "source": [
    "## 10 Examples "
   ]
  },
  {
   "cell_type": "code",
   "execution_count": 61,
   "id": "49efd05f-cf08-429b-a1e5-01669adf8fd9",
   "metadata": {},
   "outputs": [
    {
     "name": "stdout",
     "output_type": "stream",
     "text": [
      "weather is too hot today\n",
      "my negative place is chilakaluripet\n",
      "your looking beautyful\n",
      "sunday is a holiday\n",
      "I completed by my btech in ECE Department\n",
      "Diwali is Comming soon\n",
      "I  use social media daily\n",
      "I have Many Friends\n",
      "I love Cricket\n",
      "Btech is most memarable in life\n"
     ]
    }
   ],
   "source": [
    "str1='weather is too hot today'\n",
    "str2='my negative place is chilakaluripet'\n",
    "str3='your looking beautyful'\n",
    "str4='sunday is a holiday'\n",
    "str5='I completed by my btech in ECE Department'\n",
    "str6=\"Diwali is Comming soon\"\n",
    "str7=\"I  use social media daily\"\n",
    "str8=\"I have Many Friends\"\n",
    "str9=\"I love Cricket\"\n",
    "str10=\"Btech is most memarable in life\"\n",
    "print(str1)\n",
    "print(str2)\n",
    "print(str3)\n",
    "print(str4)\n",
    "print(str5)\n",
    "print(str6)\n",
    "print(str7)\n",
    "print(str8)\n",
    "print(str9)\n",
    "print(str10)\n"
   ]
  },
  {
   "cell_type": "markdown",
   "id": "e5128b86-522a-4863-9c56-7b4cbe72682b",
   "metadata": {},
   "source": [
    "## Slicing"
   ]
  },
  {
   "cell_type": "code",
   "execution_count": 128,
   "id": "047fdcea-f389-4de3-9461-c4109854e7a8",
   "metadata": {},
   "outputs": [
    {
     "name": "stdout",
     "output_type": "stream",
     "text": [
      "welcome to Hyderabad\n",
      "Hyderabad and Join Tesk Academy \n",
      "welcome to Hyderabad and Join Tesk Academy it Transferring Experts Knowledge to Studentsd\n",
      "welcome to Hyderabad and Join Tesk Academy it Transferring Experts Knowledge\n",
      "Hyderabad and Join Tesk Academy it Transferring Experts Knowledge\n",
      "welcome to Hyderabad and Join Tesk Academy it Transferring Experts Knowledge to Students\n",
      "welcome to Hyderabad and Join Tesk Academy it Transferring Experts Knowledge to Studentsd\n",
      "Tesk Academy it Transferring Experts Knowledge \n"
     ]
    }
   ],
   "source": [
    "str=\"welcome to Hyderabad and Join Tesk Academy it Transferring Experts Knowledge to Studentsd\"\n",
    "print(str[0:20])\n",
    "print(str[11:43])\n",
    "print(str[0:])\n",
    "print(str[ :76])\n",
    "print(str[-78:-13])\n",
    "print(str[:-1])\n",
    "print(str[-89:])\n",
    "print(str[-59:-12])"
   ]
  },
  {
   "cell_type": "markdown",
   "id": "3b7b07d7-bcd5-47e8-9680-d191af7250e2",
   "metadata": {},
   "source": [
    "## String Format"
   ]
  },
  {
   "cell_type": "code",
   "execution_count": 7,
   "id": "0c13c7d1-8f34-498e-bb00-c01d63259abc",
   "metadata": {},
   "outputs": [
    {
     "name": "stdout",
     "output_type": "stream",
     "text": [
      "My Name is PASHA and i am 23 years old.\n"
     ]
    }
   ],
   "source": [
    "name=\"PASHA\"\n",
    "age=23\n",
    "str=\"My Name is %s and i am %d years old.\"%(name,age)\n",
    "print(str)\n"
   ]
  },
  {
   "cell_type": "markdown",
   "id": "ea0df4a6-c94f-4853-ab71-7205bf8e83db",
   "metadata": {},
   "source": [
    "### Format Method"
   ]
  },
  {
   "cell_type": "code",
   "execution_count": 10,
   "id": "35cc4e55-74c3-40e2-94b0-53c8a91fd987",
   "metadata": {},
   "outputs": [
    {
     "name": "stdout",
     "output_type": "stream",
     "text": [
      "My name is Pasha and iam 23 years old.\n"
     ]
    }
   ],
   "source": [
    "name=\"Pasha\"\n",
    "age=23\n",
    "str=\"My name is {} and iam {} years old.\".format(name,age)\n",
    "print(str)"
   ]
  },
  {
   "cell_type": "markdown",
   "id": "3e14f900-474e-4a4a-ae7a-83abd9eb76d9",
   "metadata": {},
   "source": [
    "### F-string"
   ]
  },
  {
   "cell_type": "code",
   "execution_count": 15,
   "id": "69f38726-2b04-42cd-988f-0985512acf11",
   "metadata": {},
   "outputs": [
    {
     "name": "stdout",
     "output_type": "stream",
     "text": [
      "my name is {name} and iam {} years oid i from{location}.\n"
     ]
    }
   ],
   "source": [
    "name=\"pasha\"\n",
    "age=23\n",
    "location=\"Chilakaluripet\"\n",
    "str='my name is {name} and iam {} years oid i from{location}.'\n",
    "print(str)"
   ]
  },
  {
   "cell_type": "markdown",
   "id": "845f2f2d-17bf-4260-b861-92d2a8d83cca",
   "metadata": {},
   "source": [
    "## String Methods"
   ]
  },
  {
   "cell_type": "markdown",
   "id": "7da70737-19a1-43ad-a67c-14226fa6e9a0",
   "metadata": {},
   "source": [
    "### Length"
   ]
  },
  {
   "cell_type": "markdown",
   "id": "fb008c74-4387-4d7a-bb82-32a3555e1dd4",
   "metadata": {},
   "source": [
    "- It is used to count the length of the Characters"
   ]
  },
  {
   "cell_type": "code",
   "execution_count": 28,
   "id": "064a3507-04d4-4ff6-b19e-a52f47edcaa9",
   "metadata": {},
   "outputs": [
    {
     "name": "stdout",
     "output_type": "stream",
     "text": [
      "35\n"
     ]
    }
   ],
   "source": [
    "str=\"my negative place is chilakaluripet\"\n",
    "length=len(str)\n",
    "print(length)"
   ]
  },
  {
   "cell_type": "markdown",
   "id": "9b5ad8f6-2142-4a2e-bc06-a611f2d996c2",
   "metadata": {},
   "source": [
    "### Lower and Upper"
   ]
  },
  {
   "cell_type": "code",
   "execution_count": 33,
   "id": "00a0d023-8bd8-4f7f-8e02-d775a034bb53",
   "metadata": {},
   "outputs": [
    {
     "name": "stdout",
     "output_type": "stream",
     "text": [
      "my negative place is chilakaluripet\n"
     ]
    }
   ],
   "source": [
    "str=\"My Negative place is Chilakaluripet\"\n",
    "print(str.lower())"
   ]
  },
  {
   "cell_type": "code",
   "execution_count": 35,
   "id": "bb1c75f5-173f-4b95-a1e5-33b8c0612257",
   "metadata": {},
   "outputs": [
    {
     "name": "stdout",
     "output_type": "stream",
     "text": [
      "MY NEGATIVE PLACE IS CHILAKALURIPET\n"
     ]
    }
   ],
   "source": [
    "str=\"My Negative place is Chilakaluripet\"\n",
    "print(str.upper())"
   ]
  },
  {
   "cell_type": "markdown",
   "id": "c176cbaf-7c42-4f8b-ab0a-a04074bdd320",
   "metadata": {},
   "source": [
    "### Strip"
   ]
  },
  {
   "cell_type": "code",
   "execution_count": 38,
   "id": "de43fc92-82b8-42ff-a27b-4be54c639bdb",
   "metadata": {},
   "outputs": [
    {
     "name": "stdout",
     "output_type": "stream",
     "text": [
      "My Negative place is Chilakaluripet\n"
     ]
    }
   ],
   "source": [
    "str=\"    My Negative place is Chilakaluripet      \"\n",
    "print(str.strip())"
   ]
  },
  {
   "cell_type": "code",
   "execution_count": 40,
   "id": "3960b3d0-0574-46e8-9774-f528ac74d5b5",
   "metadata": {},
   "outputs": [
    {
     "name": "stdout",
     "output_type": "stream",
     "text": [
      "PASHA\n"
     ]
    }
   ],
   "source": [
    "str='                  PASHA                      '\n",
    "print(str.strip())"
   ]
  },
  {
   "cell_type": "markdown",
   "id": "d41072e8-59ce-4239-bfa6-8e6f2ac5fd11",
   "metadata": {},
   "source": [
    "### Replace"
   ]
  },
  {
   "cell_type": "code",
   "execution_count": 43,
   "id": "001ba7f2-2bef-4ca2-b0b4-35f7111fca23",
   "metadata": {},
   "outputs": [
    {
     "name": "stdout",
     "output_type": "stream",
     "text": [
      "My Negative place is Guntur\n"
     ]
    }
   ],
   "source": [
    "str=\"My Negative place is Chilakaluripet\"\n",
    "out=str.replace(\"Chilakaluripet\",\"Guntur\")\n",
    "print(out)"
   ]
  },
  {
   "cell_type": "markdown",
   "id": "7351f1bf-1d07-4f29-b03b-0846333a9203",
   "metadata": {},
   "source": [
    "### Split"
   ]
  },
  {
   "cell_type": "code",
   "execution_count": 46,
   "id": "2557ad18-8e5a-4db0-8453-623c977ced25",
   "metadata": {},
   "outputs": [
    {
     "name": "stdout",
     "output_type": "stream",
     "text": [
      "['My', 'Negative', 'place', 'is', 'Chilakaluripet']\n"
     ]
    }
   ],
   "source": [
    "str=\"My Negative place is Chilakaluripet\"\n",
    "out=str.split()\n",
    "print(out)"
   ]
  },
  {
   "cell_type": "code",
   "execution_count": 49,
   "id": "67b32c4d-c7cc-48a6-a4d9-ab60b5e21ef3",
   "metadata": {},
   "outputs": [
    {
     "name": "stdout",
     "output_type": "stream",
     "text": [
      "['weather', 'is', 'too', 'hot', 'today']\n"
     ]
    }
   ],
   "source": [
    "str1='weather is too hot today'\n",
    "out=str1.split()\n",
    "print(out)"
   ]
  },
  {
   "cell_type": "markdown",
   "id": "9e06ceb0-cef5-4311-a583-8c897165a387",
   "metadata": {},
   "source": [
    "### Join"
   ]
  },
  {
   "cell_type": "code",
   "execution_count": 86,
   "id": "f02a33fb-13f2-4676-9842-f16d58f16b5c",
   "metadata": {},
   "outputs": [
    {
     "name": "stdout",
     "output_type": "stream",
     "text": [
      "sunday is a holiday \n"
     ]
    }
   ],
   "source": [
    "str='sunday is a holiday '\n",
    "joined_string=''.join(str)\n",
    "print(joined_string)"
   ]
  },
  {
   "cell_type": "code",
   "execution_count": 88,
   "id": "0a19ebc1-2397-489a-8f1f-19c26117fe6b",
   "metadata": {},
   "outputs": [
    {
     "name": "stdout",
     "output_type": "stream",
     "text": [
      "s     u     n     d     a     y           i     s           a           h     o     l     i     d     a     y      \n"
     ]
    }
   ],
   "source": [
    "str='sunday is a holiday '\n",
    "joined_string='     '.join(str)\n",
    "print(joined_string)"
   ]
  },
  {
   "cell_type": "code",
   "execution_count": null,
   "id": "723af6b6-4e34-4ca2-831f-db8bccc501c7",
   "metadata": {},
   "outputs": [],
   "source": []
  }
 ],
 "metadata": {
  "kernelspec": {
   "display_name": "Python 3 (ipykernel)",
   "language": "python",
   "name": "python3"
  },
  "language_info": {
   "codemirror_mode": {
    "name": "ipython",
    "version": 3
   },
   "file_extension": ".py",
   "mimetype": "text/x-python",
   "name": "python",
   "nbconvert_exporter": "python",
   "pygments_lexer": "ipython3",
   "version": "3.12.4"
  }
 },
 "nbformat": 4,
 "nbformat_minor": 5
}
