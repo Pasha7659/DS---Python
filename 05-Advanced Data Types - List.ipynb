{
 "cells": [
  {
   "cell_type": "markdown",
   "id": "b0480d77-d3fa-4e36-ba83-da86dc2dc2a7",
   "metadata": {},
   "source": [
    "## Python Lists"
   ]
  },
  {
   "cell_type": "markdown",
   "id": "8a6041d5-55ce-414f-8ad5-647d77704e12",
   "metadata": {},
   "source": [
    " - It is commonly used data type that represents an ordered, mutable(modifiable) and iterable sequence of elements\n",
    " - List are used to strore collections of items, and these items can be of any data type, including numbers, strings, or even other Lists\n",
    " - Lists are defined using square brackets [ ] and elemts are seperated by commas(,)."
   ]
  },
  {
   "cell_type": "markdown",
   "id": "d9baad94-ca63-485e-a275-b2ec8bdf7742",
   "metadata": {},
   "source": [
    "#### Creation of Lists:"
   ]
  },
  {
   "cell_type": "code",
   "execution_count": 1,
   "id": "e34a19de-0872-4683-8db5-4330ebf3b83e",
   "metadata": {},
   "outputs": [
    {
     "name": "stdout",
     "output_type": "stream",
     "text": [
      "<class 'list'>\n",
      "<class 'list'>\n"
     ]
    }
   ],
   "source": [
    "my_list = []\n",
    "numbers = [1,2,3,4,5]\n",
    "names = [\"Apple\", \"Banana\", \"Mango\"]\n",
    "mixed_types = [1, \"Apple\", 3.14, True]\n",
    "\n",
    "print(type(mixed_types))\n",
    "print(type(numbers))"
   ]
  },
  {
   "cell_type": "markdown",
   "id": "5b9bea26-955f-43a9-9a54-ac70526641b2",
   "metadata": {},
   "source": [
    "#### Access List Elements"
   ]
  },
  {
   "cell_type": "markdown",
   "id": "3a20f65c-ad53-43b1-b223-626a85037421",
   "metadata": {},
   "source": [
    "- In Python, Lists are orderd and each item in a list is associated with a number. The number is known as a list index.\n",
    "- The index of the first element is 0, second element is 1 and so on.\n",
    "- Python allows negitive indexing for its sequences.\n",
    "- The index of -1 referes to the last item, -2 to the second last item and so on."
   ]
  },
  {
   "cell_type": "code",
   "execution_count": 2,
   "id": "d20e3194-f736-4126-80bd-701ee2ae7796",
   "metadata": {},
   "outputs": [
    {
     "name": "stdout",
     "output_type": "stream",
     "text": [
      "Python\n",
      "C++\n"
     ]
    }
   ],
   "source": [
    "# Positive indexing\n",
    "language = [\"Python\", \"Swift\", \"C++\", \"C\"]\n",
    "print(language[0])\n",
    "print(language[2])"
   ]
  },
  {
   "cell_type": "code",
   "execution_count": 3,
   "id": "4cd3434e-741a-4679-b924-e087f931a4de",
   "metadata": {},
   "outputs": [
    {
     "name": "stdout",
     "output_type": "stream",
     "text": [
      "gopal\n",
      "deva\n"
     ]
    }
   ],
   "source": [
    "# Negitive indexing\n",
    "names = [\"deva\", \"sakku\", \"ajay\", \"gopal\"]\n",
    "print(names[-1])\n",
    "print(names[-4])"
   ]
  },
  {
   "cell_type": "markdown",
   "id": "41d1af77-50d6-4a36-9afa-b854d8fff5ee",
   "metadata": {},
   "source": [
    "#### Slicing of a List"
   ]
  },
  {
   "cell_type": "markdown",
   "id": "a9d142f7-8984-4938-94c2-32a1a822bc4a",
   "metadata": {},
   "source": [
    "In Python, it is possible to access a portion of a list using the slicing Operator:"
   ]
  },
  {
   "cell_type": "code",
   "execution_count": 4,
   "id": "1612119f-6d29-4bbc-abf1-e8edbbf81a96",
   "metadata": {},
   "outputs": [
    {
     "name": "stdout",
     "output_type": "stream",
     "text": [
      "['a', 'c', 'k', 'e', 'g', 'A', 'h', 'o', 'j', 's', 'M', 'o']\n"
     ]
    }
   ],
   "source": [
    "my_list = ['E','t','a','c','k','e','g','A','h','o','j','s','M','o','u','n','i','y']\n",
    "print(my_list[2:14])"
   ]
  },
  {
   "cell_type": "code",
   "execution_count": 5,
   "id": "d9dd8895-58bc-4f28-975b-9e7c0abea6fd",
   "metadata": {},
   "outputs": [
    {
     "name": "stdout",
     "output_type": "stream",
     "text": [
      "['E', 't', 'a', 'c', 'k', 'e', 'g', 'A', 'h', 'o']\n"
     ]
    }
   ],
   "source": [
    "print(my_list[:10])"
   ]
  },
  {
   "cell_type": "code",
   "execution_count": 6,
   "id": "954800ed-a138-46b7-af3d-e8a5339727c5",
   "metadata": {},
   "outputs": [
    {
     "name": "stdout",
     "output_type": "stream",
     "text": [
      "['A', 'h', 'o', 'j', 's', 'M', 'o', 'u', 'n', 'i', 'y']\n"
     ]
    }
   ],
   "source": [
    "print(my_list[7:])"
   ]
  },
  {
   "cell_type": "code",
   "execution_count": 7,
   "id": "55964d21-901d-4f9a-a068-fea4c26d0a2d",
   "metadata": {},
   "outputs": [
    {
     "name": "stdout",
     "output_type": "stream",
     "text": [
      "['E', 't', 'a', 'c', 'k', 'e', 'g', 'A', 'h', 'o', 'j', 's', 'M', 'o', 'u', 'n', 'i', 'y']\n"
     ]
    }
   ],
   "source": [
    "print(my_list[:])"
   ]
  },
  {
   "cell_type": "code",
   "execution_count": 9,
   "id": "37cb8afc-6746-44e5-88b0-f45c9d3c1e90",
   "metadata": {},
   "outputs": [
    {
     "name": "stdout",
     "output_type": "stream",
     "text": [
      "['h', 'o', 'j', 's', 'M', 'o', 'u', 'n', 'i']\n"
     ]
    }
   ],
   "source": [
    "print(my_list[-10:-1])"
   ]
  },
  {
   "cell_type": "markdown",
   "id": "73681ef6-87fc-4b0e-b7a6-345d6266b56f",
   "metadata": {},
   "source": [
    "### List Operations"
   ]
  },
  {
   "cell_type": "markdown",
   "id": "e6779c58-3b61-492a-84f2-d962b85be2c4",
   "metadata": {},
   "source": [
    "List Contain Two types of Operations.\n",
    "   1. Concatenation\n",
    "   2. Repetition"
   ]
  },
  {
   "cell_type": "markdown",
   "id": "896cfab8-81d3-42d7-a558-704cfd1c2fe1",
   "metadata": {},
   "source": [
    "#### Concatenation"
   ]
  },
  {
   "cell_type": "code",
   "execution_count": 12,
   "id": "1e288f9d-784d-4dfb-9889-2de08a2f685e",
   "metadata": {},
   "outputs": [
    {
     "name": "stdout",
     "output_type": "stream",
     "text": [
      "[1, 2, 3, 1, 4, 5, 6, 3, 9]\n"
     ]
    }
   ],
   "source": [
    "# Adding Two lists \n",
    "a = [1,2,3]\n",
    "b = [1,4,5,6,3,9]\n",
    "c = a + b\n",
    "print(c)"
   ]
  },
  {
   "cell_type": "markdown",
   "id": "e400e5a7-d922-4b11-96cb-aed50f413d12",
   "metadata": {},
   "source": [
    "#### Repetition"
   ]
  },
  {
   "cell_type": "code",
   "execution_count": 13,
   "id": "cec97ccc-4eda-4607-90f5-b28b283bf2b9",
   "metadata": {},
   "outputs": [
    {
     "name": "stdout",
     "output_type": "stream",
     "text": [
      "[3, 5, 2, 1, 0, 9, 3, 5, 2, 1, 0, 9, 3, 5, 2, 1, 0, 9, 3, 5, 2, 1, 0, 9, 3, 5, 2, 1, 0, 9, 3, 5, 2, 1, 0, 9, 3, 5, 2, 1, 0, 9, 3, 5, 2, 1, 0, 9, 3, 5, 2, 1, 0, 9, 3, 5, 2, 1, 0, 9, 3, 5, 2, 1, 0, 9, 3, 5, 2, 1, 0, 9, 3, 5, 2, 1, 0, 9, 3, 5, 2, 1, 0, 9]\n"
     ]
    }
   ],
   "source": [
    "# Repete the values at multiple times\n",
    "a = [3,5,2,1,0,9]\n",
    "b = a * 14\n",
    "print(b)"
   ]
  },
  {
   "cell_type": "markdown",
   "id": "7a10b165-0d4b-4006-b037-eb56f0d7f481",
   "metadata": {},
   "source": [
    "### Change List items"
   ]
  },
  {
   "cell_type": "markdown",
   "id": "0de61400-97b1-4930-83c8-29b1330026e6",
   "metadata": {},
   "source": [
    "To change the values of a specific item, refer to the index number."
   ]
  },
  {
   "cell_type": "code",
   "execution_count": 15,
   "id": "854d6c59-850b-45bd-b812-7f1d67cdca8e",
   "metadata": {},
   "outputs": [
    {
     "name": "stdout",
     "output_type": "stream",
     "text": [
      "['apple', 'banana', 'cherry']\n",
      "['Water melon', 'banana', 'cherry']\n"
     ]
    }
   ],
   "source": [
    "list = [\"apple\", \"banana\", \"cherry\"]\n",
    "print(list)\n",
    "list[0] = \"Water melon\"\n",
    "print(list)"
   ]
  },
  {
   "cell_type": "code",
   "execution_count": 21,
   "id": "aefc3b40-8503-4408-a311-73ce2ea5cce0",
   "metadata": {},
   "outputs": [
    {
     "name": "stdout",
     "output_type": "stream",
     "text": [
      "['apple', 'blackcurrant', 'water melon', 'Ght', 'kiwi', 'mango']\n"
     ]
    }
   ],
   "source": [
    "thislist = [\"apple\", \"banana\", \"cherry\", \"orange\", \"kiwi\", \"mango\"]\n",
    "thislist[1:4] = [\"blackcurrant\", \"water melon\", \"Ght\"]\n",
    "print(thislist)"
   ]
  },
  {
   "cell_type": "code",
   "execution_count": 18,
   "id": "46246d3b-8eb0-47c6-91d6-70b5b68bcee8",
   "metadata": {},
   "outputs": [
    {
     "name": "stdout",
     "output_type": "stream",
     "text": [
      "['apple', 'blackcurrant', 'water melon', 'mango']\n"
     ]
    }
   ],
   "source": [
    "thislist[1:4] = [\"blackcurrant\", \"water melon\"]\n",
    "print(thislist)"
   ]
  },
  {
   "cell_type": "code",
   "execution_count": 23,
   "id": "917ed0ad-d764-434f-a7c9-1187a860d0d6",
   "metadata": {},
   "outputs": [
    {
     "name": "stdout",
     "output_type": "stream",
     "text": [
      "['apple', 'blackcurrant', 'water melon', 'Ght', 'Highway', 'deva', 'Highway', 'deva', 'kiwi', 'mango']\n"
     ]
    }
   ],
   "source": [
    "thislist[1:4] = [\"blackcurrant\", \"water melon\", \"Ght\", \"Highway\", \"deva\"]\n",
    "print(thislist)"
   ]
  },
  {
   "cell_type": "markdown",
   "id": "6debe915-dc6a-4396-b50e-93dd83452f28",
   "metadata": {},
   "source": [
    "## List Methods"
   ]
  },
  {
   "cell_type": "markdown",
   "id": "413e166b-0629-42bb-b7e1-39dec12cd046",
   "metadata": {},
   "source": [
    "Python has a set of built-in methods that you can use on lists."
   ]
  },
  {
   "cell_type": "markdown",
   "id": "76873204-2014-4c54-b357-06373b988b28",
   "metadata": {},
   "source": [
    "|       Method\t    |      Description   |\n",
    "|-------------------|--------------------|\n",
    "|   append()      |    Adds an element at the end of the list  |\n",
    "|   extend()\t  | Add the elements of a list (or any iterable), to the end of the current list  |\n",
    "|   insert()    |\tAdds an element at the specified position  |\n",
    "|   remove()\t|  Removes the item with the specified value  |\n",
    "|   pop()\t  |  Removes the element at the specified position  |\n",
    "|  index()  |\tReturns the index of the first element with the specified value  |\n",
    "|  count()\t |Returns the number of elements with the specified value  |\n",
    "|  sort()  |  \tSorts the list in a ascending order  |\n",
    "|  reverse()\t |   Reverses the order of the lists the list  |\n",
    "\n",
    "\n",
    "\n",
    "\n",
    "                     \n",
    "             \n",
    "             \n",
    "             \n",
    "             \n",
    "             \n",
    "             \n",
    "                \n",
    "                \n",
    "              \n",
    "              \n",
    "              \n",
    "              \n",
    "               \n",
    "               \n",
    "            \r\n"
   ]
  },
  {
   "cell_type": "markdown",
   "id": "de980ef7-242d-4d5d-b15d-5f6b018a9805",
   "metadata": {},
   "source": [
    "### 1. append( ):"
   ]
  },
  {
   "cell_type": "markdown",
   "id": "d37fbf92-3af2-4e55-a5d1-0f47d8836c8d",
   "metadata": {},
   "source": [
    "To add an item to the end of the list, use the append() method:"
   ]
  },
  {
   "cell_type": "code",
   "execution_count": 24,
   "id": "fe6aaa17-7ff6-404b-9012-0413cbeb765e",
   "metadata": {},
   "outputs": [
    {
     "name": "stdout",
     "output_type": "stream",
     "text": [
      "['apple', 'banana', 'cherry', 'orange']\n"
     ]
    }
   ],
   "source": [
    "thislist = [\"apple\", \"banana\", \"cherry\"]\n",
    "thislist.append(\"orange\")\n",
    "print(thislist)"
   ]
  },
  {
   "cell_type": "markdown",
   "id": "e6cf5fe2-09b8-4151-9aec-c9e647b47c73",
   "metadata": {},
   "source": [
    "### 2. extend( ):"
   ]
  },
  {
   "cell_type": "markdown",
   "id": "58fd1c70-566a-4a57-a8e9-0610fcd9bebb",
   "metadata": {},
   "source": [
    "To append elements from another list to the current list, use the extend() method."
   ]
  },
  {
   "cell_type": "code",
   "execution_count": 2,
   "id": "8cec9dbe-e840-4dcb-aaa7-260b704e7ac6",
   "metadata": {},
   "outputs": [
    {
     "name": "stdout",
     "output_type": "stream",
     "text": [
      "['apple', 'banana', 'cherry', 'mango', 'pineapple', 'papaya']\n"
     ]
    }
   ],
   "source": [
    "thislist = [\"apple\", \"banana\", \"cherry\"]\n",
    "fruits = [\"mango\", \"pineapple\", \"papaya\"]\n",
    "thislist.extend(fruits)\n",
    "print(thislist)"
   ]
  },
  {
   "cell_type": "markdown",
   "id": "ff315cb2-32ce-4d53-bc7a-a1fe6b6c78ac",
   "metadata": {},
   "source": [
    "### 3. insert( ):"
   ]
  },
  {
   "cell_type": "markdown",
   "id": "6eeae30d-1976-4273-a23c-55e844f7fe4f",
   "metadata": {},
   "source": [
    "To insert a list item at a specified index or position, use the insert() method."
   ]
  },
  {
   "cell_type": "code",
   "execution_count": 26,
   "id": "91a31dfb-da05-44d8-a055-4cd1ba685393",
   "metadata": {},
   "outputs": [
    {
     "name": "stdout",
     "output_type": "stream",
     "text": [
      "['apple', 'orange', 'banana', 'cherry']\n"
     ]
    }
   ],
   "source": [
    "thislist = [\"apple\", \"banana\", \"cherry\"]\n",
    "thislist.insert(1, \"orange\")\n",
    "print(thislist)"
   ]
  },
  {
   "cell_type": "markdown",
   "id": "c8157474-8e25-461c-9584-74f4a44c92d1",
   "metadata": {},
   "source": [
    "### 4. remove( ):"
   ]
  },
  {
   "cell_type": "markdown",
   "id": "6d1f8daa-59dc-4fe2-871a-72b916693a72",
   "metadata": {},
   "source": [
    "Removes the first occurance of a value, The remove() method removes the specified item."
   ]
  },
  {
   "cell_type": "code",
   "execution_count": 3,
   "id": "4e245815-42dc-4ae8-9edd-de62b55ac33d",
   "metadata": {},
   "outputs": [
    {
     "name": "stdout",
     "output_type": "stream",
     "text": [
      "['apple', 'cherry', 'banana']\n"
     ]
    }
   ],
   "source": [
    "thislist = [\"apple\", \"banana\", \"cherry\",\"banana\"]\n",
    "thislist.remove(\"banana\")\n",
    "print(thislist)"
   ]
  },
  {
   "cell_type": "markdown",
   "id": "91a7198c-e7c5-408f-926f-842892a63952",
   "metadata": {},
   "source": [
    "### 5. pop( ):"
   ]
  },
  {
   "cell_type": "markdown",
   "id": "d6394a63-80be-4239-a0de-5b9e84acd55c",
   "metadata": {},
   "source": [
    "The pop() method removes the specified index, Removes and returns an elements at a specified index."
   ]
  },
  {
   "cell_type": "code",
   "execution_count": 30,
   "id": "2876954e-c764-4dd6-914c-aa3f3012b1d7",
   "metadata": {},
   "outputs": [
    {
     "name": "stdout",
     "output_type": "stream",
     "text": [
      "['apple', 'cherry']\n"
     ]
    }
   ],
   "source": [
    "thislist = [\"apple\", \"banana\", \"cherry\"]\n",
    "thislist.pop(1)\n",
    "print(thislist)"
   ]
  },
  {
   "cell_type": "code",
   "execution_count": 29,
   "id": "d5389379-f91f-4109-9b89-679c1b55fdfe",
   "metadata": {},
   "outputs": [
    {
     "name": "stdout",
     "output_type": "stream",
     "text": [
      "['apple', 'banana']\n"
     ]
    }
   ],
   "source": [
    "thislist = [\"apple\", \"banana\", \"cherry\"]\n",
    "thislist.pop()\n",
    "print(thislist)"
   ]
  },
  {
   "cell_type": "markdown",
   "id": "9991738f-27fc-4230-8de4-53e130c6e50f",
   "metadata": {},
   "source": [
    "### 6. index( ):"
   ]
  },
  {
   "cell_type": "markdown",
   "id": "274b3faf-2278-416a-a4ce-100d249c9e2f",
   "metadata": {},
   "source": [
    "Returns the index of the first occurance of a value"
   ]
  },
  {
   "cell_type": "code",
   "execution_count": 32,
   "id": "03faede7-6cd2-4cdb-95a6-90adf142d6d7",
   "metadata": {},
   "outputs": [
    {
     "name": "stdout",
     "output_type": "stream",
     "text": [
      "1\n"
     ]
    }
   ],
   "source": [
    "names = [\"deva\",\"mouni\",\"ajay\",\"sakku\",\"mouni\",\"deva\",\"gopal\"]\n",
    "index = names.index(\"mouni\")\n",
    "print(index)"
   ]
  },
  {
   "cell_type": "code",
   "execution_count": 33,
   "id": "7baa54a7-c933-4c64-99d5-c71e2a3ea220",
   "metadata": {},
   "outputs": [
    {
     "name": "stdout",
     "output_type": "stream",
     "text": [
      "4\n"
     ]
    }
   ],
   "source": [
    "numbers = [10,20,50,40,30,60,20,30]\n",
    "index = numbers.index(30)\n",
    "print(index)"
   ]
  },
  {
   "cell_type": "markdown",
   "id": "bf9b3495-a9ba-4962-90f4-309634edb8ee",
   "metadata": {},
   "source": [
    "### 7. count( ):"
   ]
  },
  {
   "cell_type": "markdown",
   "id": "9f65eb37-d73b-4dd2-adf7-38e66eca4890",
   "metadata": {},
   "source": [
    "Returns the number of occurances of a value."
   ]
  },
  {
   "cell_type": "code",
   "execution_count": 35,
   "id": "49323af6-5a19-43a1-83f3-c79dd601e27d",
   "metadata": {},
   "outputs": [
    {
     "name": "stdout",
     "output_type": "stream",
     "text": [
      "2\n"
     ]
    }
   ],
   "source": [
    "text = \"hello world, hello everyone\"\n",
    "count_hello = text.count(\"hello\")\n",
    "print(count_hello)"
   ]
  },
  {
   "cell_type": "code",
   "execution_count": 36,
   "id": "2ad81fd6-5814-4481-b195-0b21b9342333",
   "metadata": {},
   "outputs": [
    {
     "name": "stdout",
     "output_type": "stream",
     "text": [
      "4\n"
     ]
    }
   ],
   "source": [
    "numbers = [1,2,3,2,4,2,6,7,9,6,0,2,3,4]\n",
    "count = numbers.count(2)\n",
    "print(count)"
   ]
  },
  {
   "cell_type": "markdown",
   "id": "355c1b6b-e10e-4fbc-9136-2169f507d55a",
   "metadata": {},
   "source": [
    "#### 8. sort( ):"
   ]
  },
  {
   "cell_type": "markdown",
   "id": "20a3013e-ca58-4b59-a0af-ab13334d02a0",
   "metadata": {},
   "source": [
    "Sorts the list in a ascending order"
   ]
  },
  {
   "cell_type": "code",
   "execution_count": 37,
   "id": "a75f6287-4a07-4219-97b2-c2849e6b886f",
   "metadata": {},
   "outputs": [
    {
     "name": "stdout",
     "output_type": "stream",
     "text": [
      "['banana', 'kiwi', 'mango', 'orange', 'pineapple']\n"
     ]
    }
   ],
   "source": [
    "thislist = [\"orange\", \"mango\", \"kiwi\", \"pineapple\", \"banana\"]\n",
    "thislist.sort()\n",
    "print(thislist)"
   ]
  },
  {
   "cell_type": "code",
   "execution_count": 38,
   "id": "37d60e93-0022-4aff-ba77-be7e18a03167",
   "metadata": {},
   "outputs": [
    {
     "name": "stdout",
     "output_type": "stream",
     "text": [
      "[0, 1, 2, 2, 2, 2, 3, 4, 4, 6, 6, 6, 7, 9]\n"
     ]
    }
   ],
   "source": [
    "numbers = [1,2,3,2,4,2,6,7,9,6,0,2,6,4]\n",
    "numbers.sort()\n",
    "print(numbers)"
   ]
  },
  {
   "cell_type": "markdown",
   "id": "9bc544f8-70bc-4006-8e59-5c5d4b42c27c",
   "metadata": {},
   "source": [
    "#### Sort Descending\r\n",
    "To sort descending, use the keyword argument reverse = True:"
   ]
  },
  {
   "cell_type": "code",
   "execution_count": 39,
   "id": "c82864c5-918f-436d-9d77-c23fa861e8ed",
   "metadata": {},
   "outputs": [
    {
     "name": "stdout",
     "output_type": "stream",
     "text": [
      "['pineapple', 'orange', 'mango', 'kiwi', 'banana']\n"
     ]
    }
   ],
   "source": [
    "thislist = [\"orange\", \"mango\", \"kiwi\", \"pineapple\", \"banana\"]\n",
    "thislist.sort(reverse = True)\n",
    "print(thislist)"
   ]
  },
  {
   "cell_type": "code",
   "execution_count": 62,
   "id": "f0e27de6-9a0f-45db-8563-09bd4714f79e",
   "metadata": {},
   "outputs": [
    {
     "name": "stdout",
     "output_type": "stream",
     "text": [
      "[100, 82, 65, 50, 23]\n"
     ]
    }
   ],
   "source": [
    "thislist = [100, 50, 65, 82, 23]\n",
    "thislist.sort(reverse = True)\n",
    "print(thislist)"
   ]
  },
  {
   "cell_type": "markdown",
   "id": "4acbcc77-777a-4485-9cc7-3155f4ee231b",
   "metadata": {},
   "source": [
    "### 9. reverse( ):"
   ]
  },
  {
   "cell_type": "markdown",
   "id": "b8a87c62-f69c-4268-9ca0-e4973f7cc2c3",
   "metadata": {},
   "source": [
    "Reverses the order of elements in the list"
   ]
  },
  {
   "cell_type": "code",
   "execution_count": 43,
   "id": "4a360672-532d-44b7-9475-8a2a8ba27684",
   "metadata": {},
   "outputs": [
    {
     "name": "stdout",
     "output_type": "stream",
     "text": [
      "!dlroW ,olleH\n"
     ]
    }
   ],
   "source": [
    "my_string = \"Hello, World!\"\n",
    "reversed_string = my_string[::-1]\n",
    "print(reversed_string)"
   ]
  },
  {
   "cell_type": "code",
   "execution_count": 44,
   "id": "b10d10f6-4ea2-4846-8de2-1fd6bd1775ce",
   "metadata": {},
   "outputs": [
    {
     "name": "stdout",
     "output_type": "stream",
     "text": [
      "[0, 6, 8, 4, 6, 2, 0, 6]\n"
     ]
    }
   ],
   "source": [
    "numbers = [6,0,2,6,4,8,6,0]\n",
    "numbers.reverse()\n",
    "print(numbers)"
   ]
  },
  {
   "cell_type": "markdown",
   "id": "cc39c295-3747-48b7-96ea-4c3450c93c0d",
   "metadata": {},
   "source": [
    "|   Operator        |             Description  |\n",
    "|------------------|---------------------------|\n",
    "|   copy()         |     Returns a shallow copy of the list.  |\n",
    "|   del()       |         The del keyword also removes the specified index.  |\n",
    "|  clear()        |      The clear() method empties the list.  |\n",
    "\n",
    "             \n",
    "\n",
    "             \n",
    "\n",
    "        \n",
    "            "
   ]
  },
  {
   "cell_type": "markdown",
   "id": "049a8bc3-8c49-4583-a3a3-4c58ddfae28c",
   "metadata": {},
   "source": [
    "#### 1. copy( ):"
   ]
  },
  {
   "cell_type": "markdown",
   "id": "1613533b-602e-4bdd-88fd-4496f99b16f3",
   "metadata": {},
   "source": [
    "Returns a shallow copy of the list."
   ]
  },
  {
   "cell_type": "code",
   "execution_count": 45,
   "id": "5f5a98ce-0fe6-4a05-a03a-9b1b883b49d9",
   "metadata": {},
   "outputs": [
    {
     "name": "stdout",
     "output_type": "stream",
     "text": [
      "[1, 2, 3, 5]\n"
     ]
    }
   ],
   "source": [
    "my_list = [1, 2, 3, 5]\n",
    "new_list = my_list.copy()\n",
    "print(new_list)"
   ]
  },
  {
   "cell_type": "markdown",
   "id": "bcc547a6-57d1-4912-9347-8213dfeec327",
   "metadata": {},
   "source": [
    "#### 2. del( ):"
   ]
  },
  {
   "cell_type": "markdown",
   "id": "20963c8d-8613-402b-99ab-eb641ea95177",
   "metadata": {},
   "source": [
    "The del keyword also removes the specified index:"
   ]
  },
  {
   "cell_type": "code",
   "execution_count": 55,
   "id": "626d6ee3-8b8a-4f95-a8ce-b93dc81f0bd8",
   "metadata": {},
   "outputs": [
    {
     "name": "stdout",
     "output_type": "stream",
     "text": [
      "['banana', 'cherry']\n"
     ]
    }
   ],
   "source": [
    "thislist = [\"apple\", \"banana\", \"cherry\"]\n",
    "del thislist[0]\n",
    "print(thislist)"
   ]
  },
  {
   "cell_type": "code",
   "execution_count": 6,
   "id": "51b540a7-c992-4d6b-bd00-31b8167fc440",
   "metadata": {},
   "outputs": [],
   "source": [
    "thislist = [\"apple\", \"banana\", \"cherry\"]\n",
    "del thislist "
   ]
  },
  {
   "cell_type": "markdown",
   "id": "87cc94d2-0d97-41c5-a6bb-43d36749c363",
   "metadata": {},
   "source": [
    "#### 3. clear( ):"
   ]
  },
  {
   "cell_type": "markdown",
   "id": "d9268a03-4d6c-464e-820f-4d47cdd9e0bb",
   "metadata": {},
   "source": [
    "The clear( ) method empties the list.\n",
    "The list still remains, but it has no content."
   ]
  },
  {
   "cell_type": "code",
   "execution_count": 60,
   "id": "df75d9f8-650c-4e89-9938-c52afdc568f4",
   "metadata": {},
   "outputs": [
    {
     "name": "stdout",
     "output_type": "stream",
     "text": [
      "[]\n"
     ]
    }
   ],
   "source": [
    "thislist = [\"apple\", \"banana\", \"cherry\"]\n",
    "thislist.clear()\n",
    "print(thislist)"
   ]
  }
 ],
 "metadata": {
  "kernelspec": {
   "display_name": "Python 3 (ipykernel)",
   "language": "python",
   "name": "python3"
  },
  "language_info": {
   "codemirror_mode": {
    "name": "ipython",
    "version": 3
   },
   "file_extension": ".py",
   "mimetype": "text/x-python",
   "name": "python",
   "nbconvert_exporter": "python",
   "pygments_lexer": "ipython3",
   "version": "3.12.4"
  }
 },
 "nbformat": 4,
 "nbformat_minor": 5
}
