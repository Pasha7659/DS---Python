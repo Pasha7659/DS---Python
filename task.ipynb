{
 "cells": [
  {
   "cell_type": "markdown",
   "id": "163d39cb-3b30-4e1d-8ec2-f6fe31a9e4c5",
   "metadata": {},
   "source": [
    "### What is Python and why is it popular?"
   ]
  },
  {
   "cell_type": "markdown",
   "id": "52246123-70b1-4a3d-bbfc-42489c4f3991",
   "metadata": {},
   "source": [
    "- Python is a programming language and it is interpreted and high level languge.\n",
    "- It is simplicity and readability.\n",
    "- It is Widely used for a variety of Applications and used for web development and also used for analysis and mechain learning\n",
    "- It is used for developing websites and software.\n"
   ]
  },
  {
   "cell_type": "markdown",
   "id": "44595830-93b9-468e-9592-f6c393b08ef7",
   "metadata": {},
   "source": [
    "### What is an IDE nad name a few popular IDE'S?"
   ]
  },
  {
   "cell_type": "markdown",
   "id": "b37d69b3-48e8-4be6-ba36-c086d7101188",
   "metadata": {},
   "source": [
    "- It is a software application which is used to develop software tools it includes code edittor,debugger and compilar.\n",
    "- visual studio\n",
    "- pycharm\n",
    "- eclipse"
   ]
  },
  {
   "cell_type": "markdown",
   "id": "3132b117-fd75-410b-8b80-81e41136417a",
   "metadata": {},
   "source": [
    "### What are the rules for naming the variariable in python?"
   ]
  },
  {
   "cell_type": "markdown",
   "id": "b9d722df-42c0-412c-b90d-dae41cc22f38",
   "metadata": {},
   "source": [
    "- Variables can written in alpha,numaric structure.\n",
    "- Variable can not start with special character except under score.\n",
    "- Variable can not start with any Digits.\n",
    "- Variable can not start with any Keywords.\n",
    "- Variables are case sensitive."
   ]
  },
  {
   "cell_type": "markdown",
   "id": "a5c8d396-cb3b-4809-96b9-eb9df0846210",
   "metadata": {},
   "source": [
    "### How do you assign multi value to multiple variable in single"
   ]
  },
  {
   "cell_type": "code",
   "execution_count": 17,
   "id": "c7ecedc3-a44b-449a-b4ef-754305ab9fbe",
   "metadata": {},
   "outputs": [
    {
     "name": "stdout",
     "output_type": "stream",
     "text": [
      "10\n",
      "20\n",
      "30\n"
     ]
    }
   ],
   "source": [
    "i,j,k=10,20,30\n",
    "print(i)\n",
    "print(j)\n",
    "print(k)"
   ]
  },
  {
   "cell_type": "markdown",
   "id": "dc86139c-850c-42ea-baad-615434806c2e",
   "metadata": {},
   "source": [
    "- By taking any three integers which are seperated by a comma."
   ]
  },
  {
   "cell_type": "markdown",
   "id": "6f198087-fd2a-4595-8b93-0c8df5a24055",
   "metadata": {},
   "source": [
    "### Can you use python keywords as variable names ? why or why not?"
   ]
  },
  {
   "cell_type": "markdown",
   "id": "7cd27ec2-214a-4fc5-a1cb-8dad00eee24c",
   "metadata": {},
   "source": [
    "- We cant use key words as variable name because it gets syntax Error.\n"
   ]
  },
  {
   "cell_type": "markdown",
   "id": "f9f12d1f-e30a-4039-8fad-cafd48cc7023",
   "metadata": {},
   "source": [
    "### Why are comments important in programing?"
   ]
  },
  {
   "cell_type": "markdown",
   "id": "2f3f48e5-453a-47c6-9978-fb654e8b3595",
   "metadata": {},
   "source": [
    "- To Explan about a programm it is represent by(\\\\)."
   ]
  },
  {
   "cell_type": "markdown",
   "id": "1cca81a9-f6c0-43ff-ad0a-24864546c6ab",
   "metadata": {},
   "source": [
    "### What are basic data types"
   ]
  },
  {
   "cell_type": "markdown",
   "id": "322e8669-d0c5-43ee-9ccc-9c30520d5182",
   "metadata": {},
   "source": [
    "- integer\n",
    "- float\n",
    "- boolean\n",
    "- complex\n"
   ]
  },
  {
   "cell_type": "markdown",
   "id": "a1a4c896-25d8-4cf4-b3e2-5a6507de0f02",
   "metadata": {},
   "source": [
    "### Difference between in int and float"
   ]
  },
  {
   "cell_type": "markdown",
   "id": "5d4c471b-c5a5-4b68-83a2-68286903174c",
   "metadata": {},
   "source": [
    "- integer consisting of both +ve and -ve numbers and 0\n",
    "- float is consisting +ve and -ve with decimal point."
   ]
  },
  {
   "cell_type": "markdown",
   "id": "375668d0-a2cc-40df-92e7-568df81883ea",
   "metadata": {},
   "source": [
    "### How do chect data type for a variable"
   ]
  },
  {
   "cell_type": "markdown",
   "id": "e4445cb9-a9cb-47b5-8d50-3968000d0a2d",
   "metadata": {},
   "source": [
    "- By using type funcition "
   ]
  },
  {
   "cell_type": "code",
   "execution_count": 3,
   "id": "6d0ff6ef-acc8-4dc2-9fcb-214bae4c04e0",
   "metadata": {},
   "outputs": [
    {
     "name": "stdout",
     "output_type": "stream",
     "text": [
      "<class 'int'>\n"
     ]
    }
   ],
   "source": [
    "a =34\n",
    "print(type(a))"
   ]
  },
  {
   "cell_type": "markdown",
   "id": "d7535de7-4140-4704-9320-89d8fcb781cf",
   "metadata": {},
   "source": [
    "### How do we add element to list "
   ]
  },
  {
   "cell_type": "markdown",
   "id": "0f89e801-25b4-41ab-b1cd-434500892b7c",
   "metadata": {},
   "source": [
    "- By using append we can add elements in alist."
   ]
  },
  {
   "cell_type": "code",
   "execution_count": 7,
   "id": "4ccc6d94-3506-4d06-93c7-b80a8314c55d",
   "metadata": {},
   "outputs": [
    {
     "name": "stdout",
     "output_type": "stream",
     "text": [
      "[1, 2, 3, 4, 5, 10]\n"
     ]
    }
   ],
   "source": [
    "a=[1,2,3,4,5]\n",
    "a.append(10)\n",
    "print(a)"
   ]
  },
  {
   "cell_type": "markdown",
   "id": "45a41ee1-2a98-429e-9e88-54f59218214c",
   "metadata": {},
   "source": [
    "### How do we creat tuple with one element?"
   ]
  },
  {
   "cell_type": "code",
   "execution_count": 11,
   "id": "3ee81440-3815-4cb3-bb57-45060a1e2c49",
   "metadata": {},
   "outputs": [
    {
     "name": "stdout",
     "output_type": "stream",
     "text": [
      "<class 'tuple'>\n"
     ]
    }
   ],
   "source": [
    "name=('pasha',)\n",
    "print(type(name))"
   ]
  },
  {
   "cell_type": "markdown",
   "id": "ac092060-8776-4f69-a560-dba37333adc2",
   "metadata": {},
   "source": [
    "### How do we access a value in dictionary using a key"
   ]
  },
  {
   "cell_type": "markdown",
   "id": "fd4d3a86-1984-4f5a-a098-8cc9802bcec7",
   "metadata": {},
   "source": [
    "- By a value is equal  dictionary key we can access a value in dictionary using a key"
   ]
  },
  {
   "cell_type": "code",
   "execution_count": 14,
   "id": "75e95674-d172-4bdb-823b-1fe5a9e876de",
   "metadata": {},
   "outputs": [
    {
     "name": "stdout",
     "output_type": "stream",
     "text": [
      "<class 'dict'>\n"
     ]
    }
   ],
   "source": [
    "a={'fruit':'apple'}\n",
    "print(type(a))"
   ]
  },
  {
   "cell_type": "markdown",
   "id": "4218c9c8-08af-4c22-adab-ba42785335bf",
   "metadata": {},
   "source": [
    "### How we add key value pair"
   ]
  },
  {
   "cell_type": "markdown",
   "id": "dc7fa8d3-5196-4cf0-b2fa-5fc2f58ec4e5",
   "metadata": {},
   "source": [
    "- By using dictinary key equal to any value we can add key value pair."
   ]
  },
  {
   "cell_type": "code",
   "execution_count": 62,
   "id": "7c28e950-8f15-4bee-b722-5d92a2ea0a8b",
   "metadata": {},
   "outputs": [
    {
     "name": "stdout",
     "output_type": "stream",
     "text": [
      "{'name': 'ramu'}\n"
     ]
    }
   ],
   "source": [
    "a={'name':'pasha'}\n",
    "b={'name':'ramu'}\n",
    "a.update(b)\n",
    "print(b)"
   ]
  },
  {
   "cell_type": "markdown",
   "id": "9569978a-3195-4289-9448-ea19ce29d4b8",
   "metadata": {},
   "source": [
    "### How do we add element to aset"
   ]
  },
  {
   "cell_type": "code",
   "execution_count": 50,
   "id": "34232fca-0a3f-4bcd-a6c1-5636c0eebb5d",
   "metadata": {},
   "outputs": [
    {
     "name": "stdout",
     "output_type": "stream",
     "text": [
      "{1, 2, 3, 4, 5, 6}\n"
     ]
    }
   ],
   "source": [
    "a ={1,2,3,4,5,6}\n",
    "b ={3}\n",
    "a.update(b)\n",
    "print(a)\n",
    "      "
   ]
  },
  {
   "cell_type": "markdown",
   "id": "49fdd5de-1821-416f-a160-a847023b2d18",
   "metadata": {},
   "source": [
    "### How do we remove eiement from a set"
   ]
  },
  {
   "cell_type": "code",
   "execution_count": 53,
   "id": "11c7739c-2ff9-4ccb-8c13-1fd97b67bd8a",
   "metadata": {},
   "outputs": [
    {
     "name": "stdout",
     "output_type": "stream",
     "text": [
      "{1, 3, 4, 5, 6}\n"
     ]
    }
   ],
   "source": [
    "a={1,2,3,4,5,6}\n",
    "a.remove(2)\n",
    "print(a)"
   ]
  },
  {
   "cell_type": "markdown",
   "id": "e6341411-b414-44cc-955a-79020ee478a9",
   "metadata": {},
   "source": [
    "### What are common set operators"
   ]
  },
  {
   "cell_type": "code",
   "execution_count": 56,
   "id": "8cc7ea80-c098-4630-a767-dd460e9a97f9",
   "metadata": {},
   "outputs": [
    {
     "name": "stdout",
     "output_type": "stream",
     "text": [
      "{1, 2, 3}\n"
     ]
    }
   ],
   "source": [
    "a={1,2,3,4,56,6,7,}\n",
    "b={3,5,1,2}\n",
    "print(a&b)"
   ]
  },
  {
   "cell_type": "markdown",
   "id": "d4fb01fa-d4b1-4517-8e5a-88ca0037055f",
   "metadata": {},
   "source": [
    "### To find an index of an element is tuple"
   ]
  },
  {
   "cell_type": "code",
   "execution_count": 59,
   "id": "ea41241d-d0fa-43c0-b217-c932557ddc5b",
   "metadata": {},
   "outputs": [
    {
     "name": "stdout",
     "output_type": "stream",
     "text": [
      "<class 'tuple'>\n"
     ]
    }
   ],
   "source": [
    "a=('name','pasha')\n",
    "print(type(a))"
   ]
  },
  {
   "cell_type": "code",
   "execution_count": null,
   "id": "b0f6cfb7-be51-4f83-859e-9e04eabb61d2",
   "metadata": {},
   "outputs": [],
   "source": []
  }
 ],
 "metadata": {
  "kernelspec": {
   "display_name": "Python 3 (ipykernel)",
   "language": "python",
   "name": "python3"
  },
  "language_info": {
   "codemirror_mode": {
    "name": "ipython",
    "version": 3
   },
   "file_extension": ".py",
   "mimetype": "text/x-python",
   "name": "python",
   "nbconvert_exporter": "python",
   "pygments_lexer": "ipython3",
   "version": "3.12.4"
  }
 },
 "nbformat": 4,
 "nbformat_minor": 5
}
